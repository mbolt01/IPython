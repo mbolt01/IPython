{
 "cells": [
  {
   "cell_type": "code",
   "execution_count": 40,
   "metadata": {
    "collapsed": false
   },
   "outputs": [
    {
     "data": {
      "text/plain": [
       "3"
      ]
     },
     "execution_count": 40,
     "metadata": {},
     "output_type": "execute_result"
    }
   ],
   "source": [
    "d1 = '05/06/15'\n",
    "d2 = '08/06/15'\n",
    "\n",
    "from datetime import datetime\n",
    "\n",
    "t1 = datetime.strptime(d1, '%d/%m/%y').date()\n",
    "t2 = datetime.strptime(d2, '%d/%m/%y').date()\n",
    "\n",
    "delta = t2-t1\n",
    "dif_days = delta.days\n",
    "\n",
    "result = dif_days\n",
    "result"
   ]
  },
  {
   "cell_type": "code",
   "execution_count": 82,
   "metadata": {
    "collapsed": false
   },
   "outputs": [
    {
     "name": "stdout",
     "output_type": "stream",
     "text": [
      "2015-08-05 16:50:00\n",
      "2015-08-05 16:45:00\n",
      "5.0\n"
     ]
    }
   ],
   "source": [
    "d1 = '05/08/15-16:50' # need to test which one is greater otherwise get incorrect result if time goes negative\n",
    "d2 = '05/08/15-16:45'\n",
    "\n",
    "from datetime import datetime\n",
    "\n",
    "t1 = datetime.strptime(d1, '%d/%m/%y-%H:%M')\n",
    "t2 = datetime.strptime(d2, '%d/%m/%y-%H:%M')\n",
    "print(t1)\n",
    "print(t2)\n",
    "dif_secs = (t2-t1).total_seconds()\n",
    "\n",
    "dif_mins = dif_secs/60\n",
    "print(abs(dif_mins))"
   ]
  },
  {
   "cell_type": "code",
   "execution_count": 66,
   "metadata": {
    "collapsed": false
   },
   "outputs": [
    {
     "name": "stdout",
     "output_type": "stream",
     "text": [
      "t2>t1\n"
     ]
    }
   ],
   "source": [
    "if t1>t2:\n",
    "    print('t1>t2')\n",
    "if t2>t1:\n",
    "    print('t2>t1')\n",
    "    "
   ]
  },
  {
   "cell_type": "code",
   "execution_count": null,
   "metadata": {
    "collapsed": true
   },
   "outputs": [],
   "source": []
  }
 ],
 "metadata": {
  "kernelspec": {
   "display_name": "Python 3",
   "language": "python",
   "name": "python3"
  },
  "language_info": {
   "codemirror_mode": {
    "name": "ipython",
    "version": 3
   },
   "file_extension": ".py",
   "mimetype": "text/x-python",
   "name": "python",
   "nbconvert_exporter": "python",
   "pygments_lexer": "ipython3",
   "version": "3.4.3"
  }
 },
 "nbformat": 4,
 "nbformat_minor": 0
}
