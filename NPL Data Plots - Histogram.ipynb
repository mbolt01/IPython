{
 "cells": [
  {
   "cell_type": "markdown",
   "metadata": {},
   "source": [
    "Import necessary items"
   ]
  },
  {
   "cell_type": "code",
   "execution_count": 1,
   "metadata": {
    "collapsed": true
   },
   "outputs": [],
   "source": [
    "import numpy as np\n",
    "import matplotlib.pyplot as plt\n",
    "%matplotlib inline\n",
    "import matplotlib.mlab as mlab"
   ]
  },
  {
   "cell_type": "markdown",
   "metadata": {},
   "source": [
    "Set file to look at containing data"
   ]
  },
  {
   "cell_type": "code",
   "execution_count": 2,
   "metadata": {
    "collapsed": false
   },
   "outputs": [
    {
     "name": "stdout",
     "output_type": "stream",
     "text": [
      "C:/Users/mb22/OneDrive/PhD/Quasar Shared/Data/Summarys/Cut down NPL Data - MV.csv\n"
     ]
    }
   ],
   "source": [
    "mainpath = 'C:/Users/mb22/OneDrive/PhD/Quasar Shared/'\n",
    "filepath = 'Data/Summarys/Cut down NPL Data - MV.csv'\n",
    "\n",
    "fullpath=mainpath+filepath\n",
    "\n",
    "print(fullpath)"
   ]
  },
  {
   "cell_type": "markdown",
   "metadata": {},
   "source": [
    "Import Data from csv file into numpy array"
   ]
  },
  {
   "cell_type": "code",
   "execution_count": 3,
   "metadata": {
    "collapsed": false
   },
   "outputs": [],
   "source": [
    "my_data = np.genfromtxt(fullpath, delimiter = ',')"
   ]
  },
  {
   "cell_type": "markdown",
   "metadata": {},
   "source": [
    "Calculate mean and stdev"
   ]
  },
  {
   "cell_type": "code",
   "execution_count": 4,
   "metadata": {
    "collapsed": true
   },
   "outputs": [],
   "source": [
    "mean = np.mean(my_data)\n",
    "sd = np.std(my_data)"
   ]
  },
  {
   "cell_type": "markdown",
   "metadata": {},
   "source": [
    "Create Histogram of data with editable bin width"
   ]
  },
  {
   "cell_type": "code",
   "execution_count": 10,
   "metadata": {
    "collapsed": false
   },
   "outputs": [
    {
     "name": "stdout",
     "output_type": "stream",
     "text": [
      "[ 0.97   0.975  0.98   0.985  0.99   0.995  1.     1.005  1.01   1.015\n",
      "  1.02   1.025  1.03 ]\n"
     ]
    },
    {
     "data": {
      "text/plain": [
       "[<matplotlib.lines.Line2D at 0x5f46a10>]"
      ]
     },
     "execution_count": 10,
     "metadata": {},
     "output_type": "execute_result"
    },
    {
     "data": {
      "image/png": "[encoded data removed]",
      "text/plain": [
       "<matplotlib.figure.Figure at 0x4f101f0>"
      ]
     },
     "metadata": {},
     "output_type": "display_data"
    }
   ],
   "source": [
    "bin_width = 0.005\n",
    "#plt.clf()\n",
    "\n",
    "#calculate all bins and put into array?\n",
    "all_bins_start = np.array([0.97,0.975,0.98,0.985,0.99,0.995,1.0,1.005,1.01,1.015,1.02,1.025,1.03])\n",
    "all_bins = all_bins_start# - 0.0025\n",
    "print(all_bins)\n",
    "\n",
    "#create some variables and plot histogram using bins created above\n",
    "#n, bins, patches = plt.hist(my_data, normed=True, bins = all_bins,\n",
    "#                           facecolor = 'green', alpha = 0.75)\n",
    "n, bins, patches = plt.hist(my_data, normed=True,\n",
    "                           facecolor = 'green', alpha = 0.75)\n",
    "\n",
    "plt.title(\"NPL MV Data\")\n",
    "plt.xlabel(\"Output Ratio\")\n",
    "plt.ylabel(\"Freqency (%)\")\n",
    "plt.xlim(0.97, 1.03)\n",
    "plt.grid(True)\n",
    "\n",
    "x = np.linspace(0.97, 1.03, 100)\n",
    "plt.plot(x, mlab.normpdf(x,mean,sd), linewidth = 2, color='red')\n",
    "\n",
    "mean_freq = mlab.normpdf(mean,mean,sd)\n",
    "\n",
    "plt.plot([mean,mean],[mean_freq,0], 'r--', linewidth = 2, color = 'black')\n",
    "\n",
    "#plt.show()\n",
    "\n",
    "#plt.savefig('NPL_MV_Hist.eps', bbox_inches='tight', dpi=300)"
   ]
  },
  {
   "cell_type": "code",
   "execution_count": 6,
   "metadata": {
    "collapsed": false
   },
   "outputs": [
    {
     "name": "stdout",
     "output_type": "stream",
     "text": [
      "Mean: 0.999378597444\n",
      "SD: 0.00683481174873\n"
     ]
    }
   ],
   "source": [
    "print(\"Mean: \" + str(mean))\n",
    "print(\"SD: \" + str(sd))"
   ]
  },
  {
   "cell_type": "code",
   "execution_count": null,
   "metadata": {
    "collapsed": true
   },
   "outputs": [],
   "source": []
  }
 ],
 "metadata": {
  "kernelspec": {
   "display_name": "Python 3",
   "language": "python",
   "name": "python3"
  },
  "language_info": {
   "codemirror_mode": {
    "name": "ipython",
    "version": 3
   },
   "file_extension": ".py",
   "mimetype": "text/x-python",
   "name": "python",
   "nbconvert_exporter": "python",
   "pygments_lexer": "ipython3",
   "version": "3.4.3"
  }
 },
 "nbformat": 4,
 "nbformat_minor": 0
}
