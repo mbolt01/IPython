{
 "cells": [
  {
   "cell_type": "markdown",
   "metadata": {},
   "source": [
    "### Created all parts as functions to allow to be run multiple times with varied parameters"
   ]
  },
  {
   "cell_type": "markdown",
   "metadata": {},
   "source": [
    "### Import Required Modules "
   ]
  },
  {
   "cell_type": "code",
   "execution_count": 177,
   "metadata": {
    "collapsed": false
   },
   "outputs": [],
   "source": [
    "import numpy as np\n",
    "import matplotlib.pyplot as plt\n",
    "import scipy as sp\n",
    "import scipy.optimize as opt\n",
    "\n",
    "#%matplotlib qt\n",
    "# qt if plot in seperate window\n",
    "# inline if plot on page\n",
    "\n",
    "## Set the number of d.p. displayed in numpy arrays\n",
    "np.set_printoptions(precision=3)\n",
    "\n",
    "## Progress bar widget\n",
    "#from IPython.html.widgets import FloatProgress\n",
    "from IPython.display import display\n",
    "\n",
    "## allow timing of events\n",
    "import time\n",
    "\n",
    "## allow export of results as csv\n",
    "import csv"
   ]
  },
  {
   "cell_type": "code",
   "execution_count": 178,
   "metadata": {
    "collapsed": true
   },
   "outputs": [],
   "source": [
    "### Alpha beta calculator - normal dist\n",
    "\n",
    "def alphacalc_normal(alphabeta, sd):\n",
    "    \"\"\"Return alphabetanew and alpha from normal distribution as specified by sd.\n",
    "    Default is beta = 0.03\n",
    "    'alphabeta' is the alphabeta ratio\n",
    "    If a negative value is returned it is resampled until positive\"\"\"\n",
    "    \n",
    "    beta = 0.03 # fixed beta in function\n",
    "    \n",
    "    ## get alpha beta to use from normal distribution\n",
    "    if sd == 0:\n",
    "        alphabetanew = alphabeta\n",
    "    else:\n",
    "        alphabetanew=np.random.normal(loc = alphabeta, scale = sd)\n",
    "    \n",
    "    ## make sure a positive value is returned\n",
    "    while alphabetanew <= 0:\n",
    "        alphabetanew=np.random.normal(loc = alphabeta, scale = sd)\n",
    "    \n",
    "    alpha = beta*alphabetanew\n",
    "   \n",
    "    return alpha, beta\n",
    "## alpha/beta can be calced form the returned alpha and beta values"
   ]
  },
  {
   "cell_type": "code",
   "execution_count": 179,
   "metadata": {
    "collapsed": true
   },
   "outputs": [],
   "source": [
    "### Alpha beta calculator - log normal dist\n",
    "\n",
    "def alphacalc_lognormal(alphabeta, sd):\n",
    "    \"\"\"Return alphabetanew and alpha from normal distribution as specified by sd.\n",
    "    Default is beta = 0.03\n",
    "    'alphabeta' is the alphabeta ratio\"\"\"\n",
    "    \n",
    "    beta = 0.02 # fixed beta in function\n",
    "    \n",
    "    alphabeta_lognormal = np.log((alphabeta**2)/(np.sqrt((sd**2)+(alphabeta**2))))\n",
    "    sd_lognormal = np.sqrt(np.log(((sd**2)/(alphabeta**2))+1))\n",
    "    \n",
    "    ## get alpha beta to use from normal distribution\n",
    "    if sd == 0:\n",
    "        alphabetanew = alphabeta\n",
    "    else:\n",
    "        alphabetanew=np.random.lognormal(mean = alphabeta_lognormal, sigma = sd_lognormal)\n",
    "    \n",
    "    alpha = beta*alphabetanew\n",
    "   \n",
    "    return alpha, beta\n",
    "## alpha/beta can be calced form the returned alpha and beta values"
   ]
  },
  {
   "cell_type": "markdown",
   "metadata": {},
   "source": [
    "###N0 varies depending on the a/b Std Dev!!!\n",
    "\n",
    "Need to rethink how to determine N0 in a simple way.\n",
    "\n",
    "- Ideally re-write entire thing to accept a set of parameters and then use these single parameters to feed into other functions.\n",
    "\n",
    "\n",
    "**Ideas**\n",
    "Could use some sort of fitting with all parameters fixed except N0.\n",
    "Then try and minimise the difference between TCP_calc and TCP_input?\n",
    "- Can set it to repeat the TCP calc for 1000 patients, then returnt he TCP at d_interest.\n",
    "- This would use just a single set of nominal parameters (as input by user/in model).\n",
    "- Only after this does the simulation of multiple parameter variations start.\n",
    "\n",
    "I cannot think of another way of doing this, as I ahve been doing it manually (trial and error) so far...\n"
   ]
  },
  {
   "cell_type": "code",
   "execution_count": 180,
   "metadata": {
    "collapsed": false
   },
   "outputs": [],
   "source": [
    "## function to calculate the difference between input TCP and calculated TCP. only N0 is varied as want to estimate this.\n",
    "def calc_dif_sq(x,TCP, n, alphabeta_use, alphabeta_sd_use,d,d_shift,d_sd,d_trend,max_d,dose_of_interest):\n",
    "    TCP_in = TCP\n",
    "    \n",
    "#    TCP_calc_all = completeTCPcalc(n=2000,\n",
    "#                               alphabeta_use=3,\n",
    "#                               alphabeta_sd_use=1,\n",
    "#                               d=2,\n",
    "#                               d_shift=0,\n",
    "#                               d_sd=1,\n",
    "#                               n0=x, # this needs to be able to vary to allow optimisation of the value\n",
    "#                               max_d=100,\n",
    "#                               dose_of_interest=74)\n",
    "    TCP_calc_all = completeTCPcalc(n=n,\n",
    "                               alphabeta_use=alphabeta_use,\n",
    "                               alphabeta_sd_use=alphabeta_sd_use,\n",
    "                               d=d,\n",
    "                               d_shift=d_shift,\n",
    "                               d_sd=d_sd,\n",
    "                               d_trend=d_trend,\n",
    "                               n0=x, # this needs to be able to vary to allow optimisation of the value\n",
    "                               max_d=max_d,\n",
    "                               dose_of_interest=dose_of_interest)\n",
    "    TCP_result = TCP_calc_all[10] ## Get only the result of interest (N0 is in posn. 10 int he returned tuple)\n",
    "    \n",
    "    TCP_Dif_sq = (TCP_in - TCP_result)**2 ## difference in squares to minimise\n",
    "    return TCP_Dif_sq"
   ]
  },
  {
   "cell_type": "code",
   "execution_count": 201,
   "metadata": {
    "collapsed": false
   },
   "outputs": [],
   "source": [
    "## Determine N0 by minimising difference betwen calculate TCP and input TCP.\n",
    "\n",
    "def n0_determination(TCP_input,\n",
    "                     repeats,\n",
    "                     n,\n",
    "                     alphabeta_use,\n",
    "                     alphabeta_sd_use,\n",
    "                     d,\n",
    "                     d_shift,\n",
    "                     d_sd,\n",
    "                     d_trend,\n",
    "                     max_d,\n",
    "                     dose_of_interest):\n",
    "    \n",
    "    ## TCP to fit N0 to. This will come from the literature.\n",
    "    print(\"Fitting N0 Started\")\n",
    "    \n",
    "    TCP_input = TCP_input\n",
    "\n",
    "    ## Run optimisation multiple times to ensure accuracy (as based on random data)\n",
    "    repeats = repeats\n",
    "    ## store the fit results in this list\n",
    "    fit_results=[]\n",
    "\n",
    "    #TCP, n, alphabeta_use, alphabeta_sd_use,d,d_shift,d_sd,max_d,dose_of_interest\n",
    "    \n",
    "    for i in range(0,repeats):\n",
    "        n0_result = opt.minimize_scalar(calc_dif_sq,method='brent',args=(TCP_input,n,alphabeta_use,alphabeta_sd_use,d,d_shift,d_sd,d_trend,max_d,dose_of_interest))\n",
    "        fit_results.append(n0_result.x) ## build up a list of the N0 fit results\n",
    "        no_fit_perc_completed = 100*i/repeats  ## Display the progress\n",
    "        print(\"\\r\" + \"Fitting N0: \" + str(int(no_fit_perc_completed)) + \"% complete\", end=\"\")\n",
    "\n",
    "    print(\"Fitting N0: 100% complete\")\n",
    "\n",
    "    ## Remove outliers from N0 predictions (based on keeping the central 30% of results (within ~0.5 SD))\n",
    "    trimmed = fit_results[:]\n",
    "    while len(trimmed)>0.3*len(fit_results):\n",
    "        trimmed.remove(max(trimmed))\n",
    "        trimmed.remove(min(trimmed))\n",
    "\n",
    "    ## Calculate mean of remaining results\n",
    "    n0_mean_fit=sum(trimmed)/len(trimmed)\n",
    "    print(\"N0 mean fit: \" + str(n0_mean_fit))\n",
    "\n",
    "    ## Perform check calculation - not needed for actual use\n",
    "    TCP_Calc_min = completeTCPcalc(n=n,\n",
    "                               alphabeta_use=alphabeta_use,\n",
    "                               alphabeta_sd_use=alphabeta_sd_use,\n",
    "                               d=d,\n",
    "                               d_shift=d_shift,\n",
    "                               d_sd=d_sd,\n",
    "                               d_trend=d_trend,\n",
    "                               n0=n0_mean_fit, # this needs to be able to vary to allow optimisation\n",
    "                               max_d=max_d,\n",
    "                               dose_of_interest=dose_of_interest)\n",
    "    print('TCP target: ' + str(TCP_input))\n",
    "    print('TCP fit check: ' + str(TCP_Calc_min[10]))\n",
    "    \n",
    "    return n0_mean_fit, fit_results, trimmed"
   ]
  },
  {
   "cell_type": "markdown",
   "metadata": {},
   "source": [
    "### a/b SD\n",
    "This parameter makes a significant difference to the N0 and the TCP values"
   ]
  },
  {
   "cell_type": "code",
   "execution_count": 182,
   "metadata": {
    "collapsed": true
   },
   "outputs": [],
   "source": [
    "## N0 determination from entered TCP model parameters - DOES NOT WORK\n",
    "def n0_determination_old(TCP,d=2,D=74,ab=3,b=0.02):\n",
    "    \"\"\"Determine the value of N0 from the input of the\n",
    "    nominal TCP model input parameters.\n",
    "    This enables the model to match that of clinical trials data if input.\"\"\"\n",
    "    a = b * ab #ab ratio = a/b\n",
    "    n0 = -np.log(TCP)/np.exp(-(a*D)-(b*d*D))\n",
    "    return n0"
   ]
  },
  {
   "cell_type": "code",
   "execution_count": 183,
   "metadata": {
    "collapsed": false
   },
   "outputs": [
    {
     "name": "stdout",
     "output_type": "stream",
     "text": [
      "209.133405424\n"
     ]
    }
   ],
   "source": [
    "abc = n0_determination_old(0.88,2,74,3,0.02)\n",
    "print(abc)"
   ]
  },
  {
   "cell_type": "code",
   "execution_count": 184,
   "metadata": {
    "collapsed": false
   },
   "outputs": [
    {
     "name": "stdout",
     "output_type": "stream",
     "text": [
      "0.198042200435\n"
     ]
    }
   ],
   "source": [
    "tester = np.array([])\n",
    "tester2 = np.array([])\n",
    "\n",
    "n2=10000\n",
    "\n",
    "mean_n = 10\n",
    "sd_n = 2\n",
    "\n",
    "### mean and sd required for lognormal calc as described here: http://uk.mathworks.com/help/stats/lognstat.html?refresh=true\n",
    "mean_l = np.log((mean_n**2)/(np.sqrt((sd_n**2)+(mean_n**2))))\n",
    "sd_l = np.sqrt(np.log(((sd_n**2)/(mean_n**2))+1))\n",
    "\n",
    "for i in range(0,n2):\n",
    "    tester = np.append(tester,[np.random.normal(mean_n,sd_n)])\n",
    "    tester2 = np.append(tester2,[np.random.lognormal(mean_l,sd_l)])\n",
    "    \n",
    "#tester = np.reshape(tester,(n2,12))\n",
    "#tester2 = np.reshape(tester2,(n2,2))\n",
    "#print(tester)\n",
    "\n",
    "print(sd_l)\n",
    "\n",
    "#plt.hist(tester, bins=30, color='red', alpha=0.5, label='norm')\n",
    "#plt.hist(tester2, bins=30, color='blue', alpha=0.5, label='lognorm')\n",
    "#plt.legend()\n",
    "##print(tester2)\n",
    "#plt.show()"
   ]
  },
  {
   "cell_type": "code",
   "execution_count": 185,
   "metadata": {
    "collapsed": false
   },
   "outputs": [],
   "source": [
    "###calculate dose for a given fraction based on normal distribution around dose shift\n",
    "### Log normal distribution not necessary as SD small wrt mean so v unlikely to get negative values returned.\n",
    "### Could also set a limit on the range (say to +/- 5%)? But wont make much difference with a small SD anyway.\n",
    "\n",
    "def fracdose(dose, shift, sd):\n",
    "    \"\"\"Return dose_actual from normal distribution around dose (Gy) as specified by sd (%) and shift (%).\n",
    "    Default is dose = 2Gy, shift = 0%, and sd of 0%\n",
    "    If a negative value is returned it is resampled until positive\n",
    "    The standard deviation is of the nominal dose\"\"\"\n",
    "    \n",
    "    ## get actual dose to use from normal distribution based on shift\n",
    "    \n",
    "    dose_shift = dose + (dose*shift/100)\n",
    "    \n",
    "    ## if sd is zero, then no change to dose\n",
    "    if sd == 0:\n",
    "        dose_actual = dose_shift\n",
    "        return dose_actual\n",
    "    \n",
    "    dose_actual=np.random.normal(loc = dose_shift, scale = (dose*sd/100))\n",
    "    \n",
    "    ## make sure a positive value is returned\n",
    "    while dose_actual <= 0:\n",
    "        dose_actual=np.random.normal(loc = dose_shift, scale = (dose*sd/100))\n",
    "    \n",
    "    return dose_actual"
   ]
  },
  {
   "cell_type": "code",
   "execution_count": 186,
   "metadata": {
    "collapsed": true
   },
   "outputs": [],
   "source": [
    "## Survival Fraction Calculation\n",
    "def SFcalc(alpha, beta, dose):\n",
    "    \"\"\"Return the SF with input values.\n",
    "    Note this is for a single dose delivery.\n",
    "    The product of multiple fractions shoudld be taken\n",
    "    to give overall SF\"\"\"\n",
    "    \n",
    "    SF = np.exp(-(alpha*dose) - (beta*(dose**2)))\n",
    "    \n",
    "    return SF"
   ]
  },
  {
   "cell_type": "code",
   "execution_count": 187,
   "metadata": {
    "collapsed": true
   },
   "outputs": [],
   "source": [
    "## TCP Calculation absed on cumulative SF\n",
    "def TCPcalc(sf, n0):\n",
    "    \"\"\"Return the TCP with input values.\n",
    "    Based on cumulative SF and N0\"\"\"\n",
    "    \n",
    "    TCP = np.exp(-n0*sf)\n",
    "    \n",
    "    return TCP"
   ]
  },
  {
   "cell_type": "code",
   "execution_count": 188,
   "metadata": {
    "collapsed": true
   },
   "outputs": [],
   "source": [
    "## Calc Number of fractions to get to max dose (note: round up as always want an integer)\n",
    "\n",
    "def no_frac_nom_doses_array(max_d, d):\n",
    "    n_frac = np.ceil(max_d/d)\n",
    "\n",
    "    fractions = np.arange(1,n_frac+1)\n",
    "    #print(fractions)\n",
    "    nom_doses = np.arange(d,(d*n_frac)+d, step = d)\n",
    "    #print(nom_doses)\n",
    "    return fractions, nom_doses, n_frac"
   ]
  },
  {
   "cell_type": "code",
   "execution_count": 189,
   "metadata": {
    "collapsed": false
   },
   "outputs": [],
   "source": [
    "## This gives a column with the patient number and makes it easier to check values as going\n",
    "\n",
    "def create_patients(n):\n",
    "    \n",
    "    if n<1:\n",
    "        n=1\n",
    "    patients = np.arange(0,n)+1\n",
    "    patients.shape=(n,1)\n",
    "    #print(patients)\n",
    "    return patients"
   ]
  },
  {
   "cell_type": "code",
   "execution_count": 190,
   "metadata": {
    "collapsed": true
   },
   "outputs": [],
   "source": [
    "## empty array to store alpha values in (log normal distribution to be used)\n",
    "\n",
    "def create_alpha_beta_array(n, alphabeta_use, alphabeta_sd_use):\n",
    "    alpha_and_beta =[]\n",
    "\n",
    "    for p in range(0,n):\n",
    "        #alpha_and_beta = np.append(alpha_and_beta,[alphacalc_normal(alphabeta = alphabeta_use, sd=alphabeta_sd_use)])\n",
    "        alpha_and_beta.append([alphacalc_lognormal(alphabeta = alphabeta_use, sd=alphabeta_sd_use)])\n",
    "\n",
    "    ## reshape to get a row per patient\n",
    "    alpha_and_beta_np = np.array(alpha_and_beta)\n",
    "    alpha_and_beta_np = np.reshape(alpha_and_beta_np,(n,2))\n",
    "    #print(alpha_and_beta)\n",
    "    return alpha_and_beta_np"
   ]
  },
  {
   "cell_type": "code",
   "execution_count": 191,
   "metadata": {
    "collapsed": false
   },
   "outputs": [],
   "source": [
    "## Calculate Doses for all patients and all fractions and put in an array\n",
    "## Added in a linear output trend. Specify in percent per day/treatment. Default = 0\n",
    "\n",
    "def doses_array(n, n_frac, d, d_shift, d_sd, d_trend=0):\n",
    "    doses = []\n",
    "    for i in range(0,int(n*n_frac)):\n",
    "        doses.append(fracdose(dose = d, shift=d_shift, sd=d_sd))\n",
    "    doses_np = np.array(doses)\n",
    "    doses_np = np.reshape(doses_np,(n,n_frac))\n",
    "    \n",
    "    ## Make an array of the trend to multiply the doses array with\n",
    "    trend_array = []\n",
    "    for i in range(int(n_frac)):\n",
    "        trend_array.append(1+(i*d_trend/100))\n",
    "        \n",
    "    ## multiply array of doses by trend value for each fraction    \n",
    "    doses_np_trend = doses_np*trend_array\n",
    "        \n",
    "    #print(doses)\n",
    "    return doses_np_trend"
   ]
  },
  {
   "cell_type": "code",
   "execution_count": 192,
   "metadata": {
    "collapsed": false
   },
   "outputs": [
    {
     "name": "stdout",
     "output_type": "stream",
     "text": [
      "[ 1.975  1.962  1.943  1.955  1.969  1.956  1.947  1.943  1.948  1.963\n",
      "  1.957  1.956  1.969  1.967  1.965  1.95   1.972  1.978  1.968  1.956\n",
      "  1.972  1.955  1.961  1.963  1.953  1.954  1.971  1.972  1.969  1.962\n",
      "  1.989  1.967  1.955  1.955  1.971  1.958  1.96   1.971  1.971  1.972\n",
      "  1.962  1.975  1.966  1.97   1.97   1.974  1.974  1.955  1.971  1.968\n",
      "  1.961  1.978  1.959  1.977  1.963  1.959  1.98   1.979  1.95   1.964\n",
      "  1.991  1.961  1.964  1.979  1.96   1.986  1.962  1.981  1.973  1.986\n",
      "  1.961  1.965  1.965  1.977  1.982  1.983  1.99   1.981  1.98   1.977\n",
      "  1.961  1.986  1.986  1.982  1.982  1.984  1.992  1.966  1.975  1.968\n",
      "  1.978  1.98   1.978  1.976  1.959  1.991  1.971  1.963  1.955  1.983]\n"
     ]
    }
   ],
   "source": [
    "## Example calc and plot of doses with trend.\n",
    "\n",
    "x = doses_array(10,100,2,-2,0.5,3/365)\n",
    "print(x[1])\n",
    "for i in range(9):\n",
    "    plt.plot(x[i], alpha=0.5)\n",
    "    \n",
    "plt.plot(x[1], linewidth=3, c='black')\n",
    "plt.show()"
   ]
  },
  {
   "cell_type": "code",
   "execution_count": 193,
   "metadata": {
    "collapsed": true
   },
   "outputs": [],
   "source": [
    "## Calculate Doses for all patients and all fractions and put in an array\n",
    "\n",
    "def doses_array_orig(n, n_frac, d, d_shift, d_sd):\n",
    "    doses = []\n",
    "    for i in range(0,int(n*n_frac)):\n",
    "        doses.append(fracdose(dose = d, shift=d_shift, sd=d_sd))\n",
    "    doses_np = np.array(doses)\n",
    "    doses_np = np.reshape(doses_np,(n,n_frac))\n",
    "    #print(doses)\n",
    "    return doses_np"
   ]
  },
  {
   "cell_type": "code",
   "execution_count": 194,
   "metadata": {
    "collapsed": true
   },
   "outputs": [],
   "source": [
    "## Combine all results into single array which may be easier to work with for analysis\n",
    "\n",
    "def combine_results(patients, alpha_and_beta, doses):\n",
    "    results_wanted = (patients,alpha_and_beta, doses)\n",
    "    all_results = np.concatenate(results_wanted, axis=1)\n",
    "    #print(all_results)\n",
    "    return all_results"
   ]
  },
  {
   "cell_type": "code",
   "execution_count": 195,
   "metadata": {
    "collapsed": true
   },
   "outputs": [],
   "source": [
    "## Loop through the doses of the first patient (first row [0] of array)\n",
    "def calc_all_SFs(patients, n, n_frac, alpha_and_beta, doses):\n",
    "    SFs = []\n",
    "\n",
    "    for i in range(0,len(patients)): # loop through each patient (row)\n",
    "        for j in range(0,int(n_frac)): # loop through each fraction for each patient (col)\n",
    "            SFs.append(SFcalc(alpha_and_beta[i][0],alpha_and_beta[i][1],doses[i,j]))\n",
    "\n",
    "    SFs_np = np.array(SFs)\n",
    "    SFs_np = np.reshape(SFs_np,(n,n_frac))\n",
    "\n",
    "    ## GEt cumulative SF for each patient\n",
    "    SF_cum = np.cumprod(SFs_np, axis=1)\n",
    "    return SFs_np, SF_cum"
   ]
  },
  {
   "cell_type": "code",
   "execution_count": 196,
   "metadata": {
    "collapsed": true
   },
   "outputs": [],
   "source": [
    "## append results to text file.\n",
    "\n",
    "def saveasCSV(filename, array):\n",
    "\n",
    "    fl = open(filename, 'a', newline='\\n')\n",
    "\n",
    "    writer = csv.writer(fl)\n",
    "    writer.writerow(array)\n",
    "\n",
    "    fl.close()"
   ]
  },
  {
   "cell_type": "code",
   "execution_count": 197,
   "metadata": {
    "collapsed": false
   },
   "outputs": [],
   "source": [
    "## Calc Number of fractions and nominal dose per fraction to get to max dose\n",
    "    \n",
    "def completeTCPcalc(n,\n",
    "                   alphabeta_use,\n",
    "                   alphabeta_sd_use,\n",
    "                   d,\n",
    "                   d_shift,\n",
    "                   d_sd,\n",
    "                   d_trend,\n",
    "                   n0,\n",
    "                   max_d,\n",
    "                   dose_of_interest):\n",
    "    \n",
    "    fractions, nom_doses, n_frac = no_frac_nom_doses_array(max_d,d)\n",
    "\n",
    "    ## create array containing number of patients in population\n",
    "    patients = create_patients(n)\n",
    "\n",
    "    ## Creat array of alpha and veta values for each patient\n",
    "    alpha_and_beta = create_alpha_beta_array(n, alphabeta_use, alphabeta_sd_use)\n",
    "\n",
    "    ## array of doses after each fraction for each patient\n",
    "    doses = doses_array(n, n_frac, d, d_shift, d_sd, d_trend)\n",
    "\n",
    "    ## put all results in an array with a patient on each row\n",
    "    all_results = combine_results(patients, alpha_and_beta, doses)\n",
    "\n",
    "    ## Calc cumulative SF for all patients (also return individual fraction SFs)\n",
    "    SFs, SF_cum = calc_all_SFs(patients, n, n_frac, alpha_and_beta, doses)\n",
    "\n",
    "    ## Calculate TCP for all individual patients and fractions\n",
    "    TCPs = TCPcalc(sf = SF_cum, n0=n0)\n",
    "\n",
    "    ## Calculate population TCP by averaging down the columns\n",
    "    TCP_pop = np.mean(TCPs, axis = 0)\n",
    "\n",
    "    frac_of_interest = dose_of_interest/d\n",
    "\n",
    "    TCP_at_dose_of_interest = TCP_pop[frac_of_interest]\n",
    "\n",
    "    #t_end = time.time()\n",
    "\n",
    "    #t_total = t_end-t_start\n",
    "    #print(str(round(t_total,2)) + ' secs for ' + str(n) + ' patients')\n",
    "\n",
    "    TCPs_of_interest = TCPs[:,frac_of_interest-1]\n",
    "\n",
    "    TCP_cure = (TCPs_of_interest).sum()\n",
    "    TCP_cure_percent = 100*TCP_cure/n\n",
    "    \n",
    "    return n,alphabeta_use,alphabeta_sd_use,d,d_shift,d_sd,n0,max_d,dose_of_interest,frac_of_interest,TCP_cure_percent, TCPs, TCP_pop, nom_doses"
   ]
  },
  {
   "cell_type": "code",
   "execution_count": 198,
   "metadata": {
    "collapsed": false
   },
   "outputs": [],
   "source": [
    "## Plot of individual and population TCPs as a function for ease\n",
    "\n",
    "def TCP_plot(no_ind_plots, label):\n",
    "    #no_ind_plots = 50\n",
    "\n",
    "    ## individual plots cannot be more than total patients\n",
    "    if(no_ind_plots>n):\n",
    "        no_ind_plots=n\n",
    "\n",
    "    ## want to select the individual plots randomly from those calcualted...\n",
    "    ind_plots = np.random.choice(len(TCPs),no_ind_plots, replace=False)\n",
    "\n",
    "    ## individuals (specified number of plots chosen)\n",
    "    for i in ind_plots:\n",
    "        plt.plot(nom_doses,TCPs[i], color = 'grey', alpha = 0.5)\n",
    "    ## population\n",
    "    plt.plot(nom_doses,TCP_pop, color='black', linewidth='2', alpha=0.5)\n",
    "    plt.plot(nom_doses,TCP_pop, marker = 'o', ls='none', label=label)\n",
    "\n",
    "    ## plot formatting\n",
    "    plt.xlim(0,max(nom_doses))\n",
    "    plt.ylim(0,1.0)\n",
    "    plt.xlabel('Dose (Gy)')\n",
    "    plt.ylabel('TCP')\n",
    "    plt.title('TCPs')\n",
    "    #plt.legend(loc = 'best', fontsize = 'medium', framealpha = 1)\n",
    "    plt.axvline(d_interest, color = 'black', ls='--',)\n",
    "    plt.axhline(TCP_pop[frac_interest-1], color='black', ls='--')\n",
    "\n",
    "    ## add labels with TCP at dose of interest\n",
    "    text_string = ('Pop. TCP = ' + str(round(TCP_cure_at_d_interest,2)) + ' % at ' + str(d_interest) + 'Gy')\n",
    "    plt.text(5,0.4,text_string, backgroundcolor='white')\n",
    "    plt.legend(loc = 'lower left',numpoints=1)\n",
    "\n",
    "    plt.show()"
   ]
  },
  {
   "cell_type": "code",
   "execution_count": 199,
   "metadata": {
    "collapsed": false
   },
   "outputs": [
    {
     "name": "stdout",
     "output_type": "stream",
     "text": [
      "[0, 1, 2, 3, 4, 5, 6, 7, 8, 9]\n"
     ]
    },
    {
     "name": "stderr",
     "output_type": "stream",
     "text": [
      "C:\\Anaconda3\\lib\\site-packages\\ipykernel\\__main__.py:39: DeprecationWarning: using a non-integer number instead of an integer will result in an error in the future\n",
      "C:\\Anaconda3\\lib\\site-packages\\ipykernel\\__main__.py:46: DeprecationWarning: using a non-integer number instead of an integer will result in an error in the future\n"
     ]
    },
    {
     "name": "stdout",
     "output_type": "stream",
     "text": [
      "test\n",
      "[ 20.     19.867  19.73   19.583  19.448  19.431  19.238  19.099  18.984\n",
      "  18.927]\n",
      "[10, 11, 12, 13, 14, 15, 16, 17, 18, 19]\n",
      "test\n",
      "[ 18.731  18.47   18.172  18.177  18.193  17.878  17.969  18.257  18.228\n",
      "  17.736]\n",
      "[20, 21, 22, 23, 24, 25, 26, 27, 28, 29]\n",
      "test\n",
      "[ 17.46   16.727  17.469  17.05   16.347  16.578  16.272  17.03   16.416\n",
      "  16.609]\n",
      "[30, 31, 32, 33, 34, 35, 36, 37, 38, 39]\n",
      "test\n",
      "[ 15.633  16.517  15.66   15.515  15.56   15.94   15.364  15.847  14.797\n",
      "  15.7  ]\n",
      "[40, 41, 42, 43, 44, 45, 46, 47, 48, 49]\n",
      "test\n",
      "[ 15.177  13.947  14.364  14.892  14.891  14.744  14.239  14.585  13.959\n",
      "  13.296]\n",
      "[50, 51, 52, 53, 54, 55, 56, 57, 58, 59]\n",
      "test\n",
      "[ 13.401  13.561  13.02   12.493  12.036  12.911  12.643  13.419  13.084\n",
      "  13.053]\n",
      "[60, 61, 62, 63, 64, 65, 66, 67, 68, 69]\n",
      "test\n",
      "[ 12.908  12.753  11.45   12.278  12.288  12.037  11.884  12.143  11.277\n",
      "  12.038]\n",
      "[70, 71, 72, 73, 74, 75, 76, 77, 78, 79]\n",
      "test\n",
      "[ 11.841  11.272  12.487  12.251  11.779  12.173  12.57   10.021  11.042\n",
      "  10.319]\n",
      "[80, 81, 82, 83, 84, 85, 86, 87, 88, 89]\n",
      "test\n",
      "[ 12.788   9.401  10.375   9.523   9.188   8.901   9.965  10.337  10.321\n",
      "  11.355]\n",
      "[90, 91, 92, 93, 94, 95, 96, 97, 98, 99]\n",
      "test\n",
      "[ 10.778   9.562  10.956   8.074  10.296   9.563   9.721   9.016   8.971\n",
      "   8.844]\n",
      "[100, 101, 102, 103, 104, 105, 106, 107, 108, 109]\n",
      "test\n",
      "[ 10.957   7.424   7.988   7.902   8.469   6.688   9.896   8.364   9.16\n",
      "   4.652]\n",
      "[110, 111, 112, 113, 114, 115, 116, 117, 118, 119]\n",
      "test\n",
      "[ 6.524  8.058  8.379  7.991  7.445  7.136  7.497  7.071  4.73   8.25 ]\n",
      "[120, 121, 122, 123, 124, 125, 126, 127, 128, 129]\n",
      "test\n",
      "[ 5.886  7.503  6.186  7.876  5.558  6.392  4.317  7.543  6.335  7.181]\n",
      "[130, 131, 132, 133, 134, 135, 136, 137, 138, 139]\n",
      "test\n",
      "[ 5.569  6.946  4.59   6.185  6.115  8.076  7.546  6.658  5.245  3.948]\n",
      "[140, 141, 142, 143, 144, 145, 146, 147, 148, 149]\n",
      "test\n",
      "[ 3.79   3.271  4.104  3.578  5.397  3.121  4.413  4.206  3.629  4.867]\n",
      "[150, 151, 152, 153, 154, 155, 156, 157, 158, 159]\n",
      "test\n",
      "[ 6.106  5.732  2.297  1.829  5.819  4.134  5.485  3.78   6.075  4.038]\n",
      "[160, 161, 162, 163, 164, 165, 166, 167, 168, 169]\n",
      "test\n",
      "[ 5.785  5.947  0.648  3.534  4.426  4.948  0.454  4.201  1.31   2.585]\n",
      "[170, 171, 172, 173, 174, 175, 176, 177, 178, 179]\n",
      "test\n",
      "[ 3.239  4.336  5.987  3.811  0.834  4.518  5.366 -2.023  0.216  2.101]\n",
      "N0 fitted\n",
      "0.216186721894\n",
      "8\n",
      "N0: 178\n",
      "81.4164122974\n"
     ]
    }
   ],
   "source": [
    "## Determine N0 by minimising difference betwen calculate TCP and input TCP.\n",
    "\n",
    "TCP_input = 80 # TCP in percent\n",
    "\n",
    "## Return sum of squares [calc = calculation of TCP from TCP calc, ref = TCP_input]\n",
    "def sq_dif(calc, ref):\n",
    "    sq_dif = (calc - ref)**2\n",
    "    return sq_dif\n",
    "\n",
    "### Need to add something to ensure the minimum is always found, but without always having a huge list of possible values.\n",
    "## Could also start with a coarse list and refine after one sweep?\n",
    "j=1\n",
    "start = 0\n",
    "increment=10\n",
    "\n",
    "any_pos = False\n",
    "any_neg = False\n",
    "stop = False\n",
    "\n",
    "while (stop == False and j<100):\n",
    "    TCP_list = []\n",
    "       \n",
    "    a_list = list(range(start,(j*increment)))\n",
    "    print(a_list)\n",
    "    \n",
    "    for i in a_list:\n",
    "        TCP_Calc = completeTCPcalc(n=100,\n",
    "                               alphabeta_use=3,\n",
    "                               alphabeta_sd_use=1,\n",
    "                               d=2,\n",
    "                               d_shift=0,\n",
    "                               d_sd=1,\n",
    "                               d_trend=0,\n",
    "                               n0=i, # this needs to be able to vary to allow optimisation\n",
    "                               max_d=100,\n",
    "                               dose_of_interest=74)\n",
    "        TCP_list.append(TCP_Calc[10])\n",
    "\n",
    "    dif_list = np.array(TCP_list)-TCP_input\n",
    "    dif_list_abs = abs(np.array(TCP_list)-TCP_input)\n",
    "    print(\"test\")\n",
    "    print(dif_list)\n",
    "\n",
    "    any_pos = np.any(dif_list >0)\n",
    "    any_neg = np.any(dif_list <0)\n",
    "    \n",
    "    if (any_pos == True and any_neg == True):\n",
    "        stop = True\n",
    "        #break\n",
    "    \n",
    "    j = j+1 # increment list to lookup\n",
    "    start = start + increment\n",
    "    \n",
    "print(\"N0 fitted\")\n",
    "## can use the following to check if the minimum has been found by cehckign for + and - differences.\n",
    "\n",
    "\n",
    "#dif_list[:] = [x-TCP_input for x in TCP_list]\n",
    "\n",
    "#a[:] = [x - 13 for x in a]\n",
    "    \n",
    "### Now want to \n",
    "\n",
    "#tester = sp.optimize.minimize(sq_dif(TCP_Calc(x),TCP_input))\n",
    "print(min(dif_list_abs)) # minimum difference found.\n",
    "print(np.argmin(dif_list_abs))# index of minimum found\n",
    "print(\"N0: \" + str(a_list[np.argmin(dif_list_abs)]))\n",
    "\n",
    "## So n0 = a_list[np.argmin(dif_list)]\n",
    "\n",
    "TCP_Calc_min = completeTCPcalc(n=1000,\n",
    "                           alphabeta_use=3,\n",
    "                           alphabeta_sd_use=1,\n",
    "                           d=2,\n",
    "                           d_shift=0,\n",
    "                           d_sd=1,\n",
    "                           d_trend=0,\n",
    "                           n0=a_list[np.argmin(dif_list_abs)], # this needs to be able to vary to allow optimisation\n",
    "                           max_d=100,\n",
    "                           dose_of_interest=74)\n",
    "print(TCP_Calc_min[10])\n"
   ]
  },
  {
   "cell_type": "code",
   "execution_count": 202,
   "metadata": {
    "collapsed": false
   },
   "outputs": [
    {
     "name": "stdout",
     "output_type": "stream",
     "text": [
      "Fitting N0 Started\n"
     ]
    },
    {
     "name": "stderr",
     "output_type": "stream",
     "text": [
      "C:\\Anaconda3\\lib\\site-packages\\ipykernel\\__main__.py:39: DeprecationWarning: using a non-integer number instead of an integer will result in an error in the future\n",
      "C:\\Anaconda3\\lib\\site-packages\\ipykernel\\__main__.py:46: DeprecationWarning: using a non-integer number instead of an integer will result in an error in the future\n"
     ]
    },
    {
     "name": "stdout",
     "output_type": "stream",
     "text": [
      "Fitting N0: 98% completeFitting N0: 100% complete\n",
      "N0 mean fit: 200.877815542\n",
      "TCP target: 80\n",
      "TCP fit check: 79.3888437953\n"
     ]
    }
   ],
   "source": [
    "n0_mean_fit, fit_results, trimmed = n0_determination(TCP_input=80,\n",
    "                                                     repeats=50,\n",
    "                                                     n=1000,\n",
    "                                                     alphabeta_use=3,\n",
    "                                                     alphabeta_sd_use=1,\n",
    "                                                     d=2,\n",
    "                                                     d_shift=0,\n",
    "                                                     d_sd=1,\n",
    "                                                     d_trend=0,\n",
    "                                                     max_d=100,\n",
    "                                                     dose_of_interest=74)"
   ]
  },
  {
   "cell_type": "code",
   "execution_count": 162,
   "metadata": {
    "collapsed": false
   },
   "outputs": [],
   "source": [
    "import matplotlib.pyplot as plt\n",
    "\n",
    "plt.hist(fit_results)\n",
    "plt.hist(trimmed)\n",
    "plt.show()"
   ]
  },
  {
   "cell_type": "markdown",
   "metadata": {},
   "source": [
    "### Calculate and Plot results of single set of parameters"
   ]
  },
  {
   "cell_type": "code",
   "execution_count": 210,
   "metadata": {
    "collapsed": false
   },
   "outputs": [
    {
     "name": "stdout",
     "output_type": "stream",
     "text": [
      "Enter Dose Shift (%)\n",
      "2\n"
     ]
    },
    {
     "name": "stderr",
     "output_type": "stream",
     "text": [
      "C:\\Anaconda3\\lib\\site-packages\\ipykernel\\__main__.py:39: DeprecationWarning: using a non-integer number instead of an integer will result in an error in the future\n",
      "C:\\Anaconda3\\lib\\site-packages\\ipykernel\\__main__.py:46: DeprecationWarning: using a non-integer number instead of an integer will result in an error in the future\n",
      "C:\\Anaconda3\\lib\\site-packages\\ipykernel\\__main__.py:28: DeprecationWarning: using a non-integer number instead of an integer will result in an error in the future\n"
     ]
    }
   ],
   "source": [
    "### Individual calculation of TCP at a set value of dose\n",
    "\n",
    "n_rpts = 1\n",
    "\n",
    "print(\"Enter Dose Shift (%)\")\n",
    "applied_shift = float(input())\n",
    "\n",
    "text_string = (\"Shift: \" + str(applied_shift) + \"%\")\n",
    "\n",
    "for i in range(0,n_rpts):\n",
    "    t = completeTCPcalc(n = 1000,\n",
    "                    alphabeta_use = 3,\n",
    "                    alphabeta_sd_use = 2,\n",
    "                    d = 2,\n",
    "                    d_shift = applied_shift, # +1.6,-2.1% from OP data\n",
    "                    d_sd = 0,\n",
    "                    d_trend=0,\n",
    "                    n0 = n0_mean_fit,\n",
    "                    max_d = 100,\n",
    "                    dose_of_interest = 74)\n",
    "\n",
    "    n=t[0]\n",
    "    TCP_pop = t[-2]\n",
    "    TCPs = t[-3]\n",
    "    nom_doses = t[-1]\n",
    "    d_interest = t[8]\n",
    "    frac_interest = t[9]\n",
    "    TCP_cure_at_d_interest = t[10]\n",
    "\n",
    "\n",
    "\n",
    "    #print(TCP_pop)\n",
    "    TCP_plot(100,text_string)"
   ]
  },
  {
   "cell_type": "markdown",
   "metadata": {},
   "source": [
    "### User iterator to build list to vary multiple parameters in one go"
   ]
  },
  {
   "cell_type": "code",
   "execution_count": 211,
   "metadata": {
    "collapsed": false
   },
   "outputs": [],
   "source": [
    "## Round to nearest n (e.g. nearest 50 n=50)\n",
    "def round_n(x,n):\n",
    "    return int(round(x / n)) * n"
   ]
  },
  {
   "cell_type": "code",
   "execution_count": 212,
   "metadata": {
    "collapsed": false
   },
   "outputs": [
    {
     "name": "stdout",
     "output_type": "stream",
     "text": [
      "3315\n",
      "200.877815542\n",
      "[ 190.  200.  210.]\n"
     ]
    }
   ],
   "source": [
    "## will need to iterate over all the values and add them to a list.\n",
    "\n",
    "######***** Change this to calcualte a given percentage variaiton in dose? or allow both.....?\n",
    "\n",
    "## This allows simple building of a tuple containing all possible combinations of values\n",
    "import itertools\n",
    "\n",
    "## dose shifts to test\n",
    "dose_var = 0.5 # dose step size\n",
    "dose_max = 3\n",
    "dose_min = -dose_max\n",
    "dose_number = (dose_max-dose_min)/dose_var+1 # number of points\n",
    "\n",
    "dose_vals = np.linspace(dose_min,dose_max,dose_number) # dose values to test\n",
    "\n",
    "## alphabeta values to test\n",
    "ab_var = 0.5 # step size\n",
    "ab_max = 4\n",
    "ab_min = 2\n",
    "ab_number = (ab_max-ab_min)/ab_var+1 # number of points\n",
    "ab_vals = np.linspace(ab_min,ab_max,ab_number) # different a/b values to test\n",
    "\n",
    "## dose of interest to test\n",
    "di_var = 1 # dose step size\n",
    "di_max =80\n",
    "di_min = 64\n",
    "di_number = (di_max-di_min)/di_var+1 # number of points\n",
    "di_vals = np.linspace(di_min,di_max,di_number)\n",
    "\n",
    "## N0 values - determined from TCP model paramters input (from clinical data - coudl get form text file etc?)\n",
    "#n0_nominal = n0_determination(TCP=0.88,d=2,D=74,ab=3,b=0.02)\n",
    "n0_nominal = n0_mean_fit\n",
    "n0_var = 10\n",
    "n0_range = 5 #percentage variation\n",
    "n0_min = round_n(n0_nominal * (1-n0_range/100),n0_var)\n",
    "n0_max = round_n(n0_nominal * (1+n0_range/100),n0_var)\n",
    "n0_number = (n0_max-n0_min)/n0_var+1\n",
    "n0_vals = np.linspace(n0_min,n0_max,n0_number)\n",
    "\n",
    "total_tests = len(dose_vals)*len(ab_vals)*len(di_vals)*len(n0_vals)\n",
    "test_val_iterator = itertools.product(dose_vals,ab_vals,di_vals,n0_vals)\n",
    "\n",
    "test_vals = list(test_val_iterator) #list of all combinations of parameters\n",
    "num_its = len(test_vals) #number of iterations\n",
    "    \n",
    "print(num_its)\n",
    "print(n0_mean_fit)\n",
    "print(n0_vals)"
   ]
  },
  {
   "cell_type": "code",
   "execution_count": 32,
   "metadata": {
    "collapsed": true
   },
   "outputs": [],
   "source": [
    "#from datetime import datetime"
   ]
  },
  {
   "cell_type": "code",
   "execution_count": 214,
   "metadata": {
    "collapsed": false
   },
   "outputs": [
    {
     "name": "stdout",
     "output_type": "stream",
     "text": [
      "\r",
      "TCP Calculation: 0% completed\r",
      "TCP Calculation: 0% completed"
     ]
    },
    {
     "name": "stderr",
     "output_type": "stream",
     "text": [
      "C:\\Anaconda3\\lib\\site-packages\\ipykernel\\__main__.py:39: DeprecationWarning: using a non-integer number instead of an integer will result in an error in the future\n",
      "C:\\Anaconda3\\lib\\site-packages\\ipykernel\\__main__.py:46: DeprecationWarning: using a non-integer number instead of an integer will result in an error in the future\n"
     ]
    },
    {
     "name": "stdout",
     "output_type": "stream",
     "text": [
      "TCP Calculations Completed\n"
     ]
    }
   ],
   "source": [
    "## vary multiple values through use of constructer iterator list above.\n",
    "\n",
    "#### This needs the N0 to be calculated before calculation starts.\n",
    "### The values for the iterator above shouls also be calculated within this?\n",
    "#t1 = datetime.now()\n",
    "\n",
    "k = 10 # number of repeats\n",
    "\n",
    "#f = FloatProgress(min=0, max=num_its)\n",
    "#display(f)\n",
    "\n",
    "#f1 = FloatProgress(min=0, max=k-1)\n",
    "#display(f1)\n",
    "\n",
    "#barpos = 1\n",
    "\n",
    "all_test_results_array = np.array([]) # array to store all results in before saving as excel csv file\n",
    "all_test_results_array = []\n",
    "\n",
    "progress_perc = 0\n",
    "for j in test_vals:\n",
    "    \n",
    "    progress_perc = progress_perc + (100/len(test_vals))\n",
    "    print('\\r' + \"TCP Calculation: \" + str(int(progress_perc)) + \"% completed\", end='')\n",
    "    \n",
    "    results_array = []\n",
    "    \n",
    "    for i in range(0,k):\n",
    "        t = completeTCPcalc(n = 50,\n",
    "                        alphabeta_use = j[1],\n",
    "                        alphabeta_sd_use = 2,\n",
    "                        d = 2,\n",
    "                        d_shift = j[0],\n",
    "                        d_sd = 1,\n",
    "                        d_trend=0,\n",
    "                        n0 = j[3],\n",
    "                        max_d = 100,\n",
    "                        dose_of_interest = j[2])\n",
    "        \n",
    "        #f1.value = i\n",
    "\n",
    "        n=t[0]\n",
    "        alphabeta_use = t[1]\n",
    "        alphabeta_sd_use = t[2]\n",
    "        d = t[3]\n",
    "        d_shift = t[4]\n",
    "        d_sd = t[5]\n",
    "        n0 = t[6]\n",
    "        TCP_pop = t[-2]\n",
    "        TCPs = t[-3]\n",
    "        nom_doses = t[-1]\n",
    "        d_interest = t[8]\n",
    "        frac_interest = t[9]\n",
    "        TCP_cure_at_d_interest = t[10]\n",
    "        max_d = 100\n",
    "        \n",
    "        results_array.append(TCP_cure_at_d_interest)\n",
    "\n",
    "        param_array = []\n",
    "        param_array.append(n)\n",
    "        param_array.append(k)\n",
    "        param_array.append(alphabeta_use)\n",
    "        param_array.append(alphabeta_sd_use)\n",
    "        param_array.append(d)\n",
    "        param_array.append(d_shift)\n",
    "        param_array.append(d_sd)\n",
    "        param_array.append(n0)\n",
    "        param_array.append(max_d)\n",
    "        param_array.append(d_interest)\n",
    "\n",
    "    ## Array containing results form a single set of parameters (this will update each iteration)\n",
    "    param_array.extend(results_array)\n",
    "    param_results_array = param_array\n",
    "    \n",
    "    ## Create an array containing all the results for all sets of parameters\n",
    "    all_test_results_array.extend(param_results_array)\n",
    "    \n",
    "    # for updating progress bar\n",
    "    #barpos = barpos+1\n",
    "    #f.value = barpos\n",
    "\n",
    "#print(param_results_array[-1])\n",
    "\n",
    "## Covnert to Numpy array and reshape so a single set of parameters is on one row\n",
    "all_test_results_array_np = np.array(all_test_results_array)\n",
    "all_test_results_array_np = np.reshape(all_test_results_array_np,(num_its,len(all_test_results_array_np)/num_its))\n",
    "\n",
    "## Save results to file\n",
    "np.savetxt(\"TCPresultsProst-all_results0.csv\", all_test_results_array_np, delimiter=\",\",fmt='%10.3f')\n",
    "print('\\r' + \"TCP Calculations Completed\")\n",
    "\n",
    "#t2 = datetime.now()\n",
    "#t3 = (t2-t1).total_seconds()\n",
    "\n",
    "#print(t3)"
   ]
  },
  {
   "cell_type": "code",
   "execution_count": 38,
   "metadata": {
    "collapsed": false
   },
   "outputs": [
    {
     "name": "stdout",
     "output_type": "stream",
     "text": [
      "9"
     ]
    }
   ],
   "source": [
    "import time\n",
    "\n",
    "for i in range(10):\n",
    "    print('\\r' + str(i), end=\"\")\n",
    "    time.sleep(0.5)"
   ]
  },
  {
   "cell_type": "code",
   "execution_count": null,
   "metadata": {
    "collapsed": true
   },
   "outputs": [],
   "source": []
  }
 ],
 "metadata": {
  "kernelspec": {
   "display_name": "Python 3",
   "language": "python",
   "name": "python3"
  },
  "language_info": {
   "codemirror_mode": {
    "name": "ipython",
    "version": 3
   },
   "file_extension": ".py",
   "mimetype": "text/x-python",
   "name": "python",
   "nbconvert_exporter": "python",
   "pygments_lexer": "ipython3",
   "version": "3.4.4"
  }
 },
 "nbformat": 4,
 "nbformat_minor": 0
}
