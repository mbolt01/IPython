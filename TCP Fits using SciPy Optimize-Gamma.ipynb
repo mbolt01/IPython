{
 "cells": [
  {
   "cell_type": "code",
   "execution_count": 1,
   "metadata": {
    "collapsed": false
   },
   "outputs": [
    {
     "name": "stdout",
     "output_type": "stream",
     "text": [
      "[ 2.9999997   4.00000328  4.99999354]\n",
      "[ 2.49999999  3.00000004  5.00000006]\n"
     ]
    },
    {
     "data": {
      "text/plain": [
       "[<matplotlib.lines.Line2D at 0x5bcfb30>]"
      ]
     },
     "execution_count": 1,
     "metadata": {},
     "output_type": "execute_result"
    },
    {
     "data": {
      "image/png": "[encoded data removed]",
      "text/plain": [
       "<matplotlib.figure.Figure at 0x2d495d0>"
      ]
     },
     "metadata": {},
     "output_type": "display_data"
    }
   ],
   "source": [
    "## Simple minimise example\n",
    "# so far havent made it work with any other function...\n",
    "\n",
    "import numpy as np\n",
    "from scipy import optimize\n",
    "import matplotlib.pyplot as plt\n",
    "%matplotlib inline\n",
    "\n",
    "x = np.linspace(1.0,10,10)\n",
    "y_exact = 3*x**2 + 4*x +5\n",
    "#y_data = np.array([2.0,30,25,60,60,95,180,170,220,320])\n",
    "y_data = y_exact + 30*np.random.randn(len(x))\n",
    "\n",
    "#def fitfunc(p, x):\n",
    "#    ## The Equation to fit##\n",
    "#    func = p[0]*(x**2) + p[1]*x + p[2]\n",
    "#    return func\n",
    "\n",
    "#def errfunc(p, x, y):\n",
    "#    return fitfunc(p,x) -y\n",
    "\n",
    "guess = np.array([1.0,1.0,1.0])\n",
    "\n",
    "#fun = lambda p: (p[0] - 1)**2 + (p[1] - 2.5)**2\n",
    "fun = lambda p: sum((y_exact-(p[0]*(x**2) + p[1]*x+p[2]))**2)\n",
    "res1 = optimize.minimize(fun, guess, method='SLSQP', tol=1e-10)\n",
    "print(res1.x)\n",
    "#print(res1.x[1])\n",
    "\n",
    "yfit1 = res1.x[0]*x**2 + res1.x[1]*x + res1.x[2]\n",
    "\n",
    "bnds = ((1, 2.5), (0, 3.0), (0,5))\n",
    "res2 = optimize.minimize(fun, guess, method='SLSQP', tol=1e-10, bounds=bnds)\n",
    "print(res2.x)\n",
    "\n",
    "yfit2 = res2.x[0]*x**2 + res2.x[1]*x + res2.x[2]\n",
    "\n",
    "plt.scatter(x,y_data)\n",
    "plt.plot(x,yfit1)\n",
    "plt.plot(x,yfit2)"
   ]
  },
  {
   "cell_type": "markdown",
   "metadata": {},
   "source": [
    "##Replace lambda functions with normal functions"
   ]
  },
  {
   "cell_type": "code",
   "execution_count": 2,
   "metadata": {
    "collapsed": false
   },
   "outputs": [
    {
     "name": "stdout",
     "output_type": "stream",
     "text": [
      "[ 2.9999997   4.00000328  4.99999354]\n",
      "[ 2.49999999  3.00000004  5.00000006]\n"
     ]
    },
    {
     "data": {
      "text/plain": [
       "[<matplotlib.lines.Line2D at 0x5e6d690>]"
      ]
     },
     "execution_count": 2,
     "metadata": {},
     "output_type": "execute_result"
    },
    {
     "data": {
      "image/png": "[encoded data removed]",
      "text/plain": [
       "<matplotlib.figure.Figure at 0x5a07f30>"
      ]
     },
     "metadata": {},
     "output_type": "display_data"
    }
   ],
   "source": [
    "import numpy as np\n",
    "from scipy import optimize\n",
    "import matplotlib.pyplot as plt\n",
    "%matplotlib inline\n",
    "\n",
    "x = np.linspace(1.0,10,10)\n",
    "y_exact = 3*x**2 + 4*x +5\n",
    "#y_data = np.array([2.0,30,25,60,60,95,180,170,220,320])\n",
    "y_data = y_exact + 30*np.random.randn(len(x))\n",
    "\n",
    "def fitfunc(p):\n",
    "    ## The Equation to fit##\n",
    "    func = p[0]*(x**2) + p[1]*x+p[2]\n",
    "    return func\n",
    "\n",
    "##This works as a single fucntion. Ideally split into 2 parts (1=eqn, 2 = dif of squares)\n",
    "#def fun(p):\n",
    "#    return sum((y_exact-(p[0]*(x**2) + p[1]*x+p[2]))**2)\n",
    "\n",
    "def fun(p):\n",
    "    return sum((y_exact-fitfunc(p))**2)\n",
    "\n",
    "guess = np.array([1.0,1.0,1.0])\n",
    "\n",
    "res1 = optimize.minimize(fun, guess, method='SLSQP', tol=1e-10)\n",
    "print(res1.x)\n",
    "\n",
    "yfit1 = res1.x[0]*x**2 + res1.x[1]*x + res1.x[2]\n",
    "\n",
    "bnds = ((1, 2.5), (0, 3.0), (0,5))\n",
    "res2 = optimize.minimize(fun, guess, method='SLSQP', tol=1e-10, bounds=bnds)\n",
    "print(res2.x)\n",
    "\n",
    "yfit2 = res2.x[0]*x**2 + res2.x[1]*x + res2.x[2]\n",
    "\n",
    "plt.scatter(x,y_data)\n",
    "plt.plot(x,yfit1)\n",
    "plt.plot(x,yfit2)"
   ]
  },
  {
   "cell_type": "markdown",
   "metadata": {},
   "source": [
    "##Now fit TCP curves to prove principle"
   ]
  },
  {
   "cell_type": "markdown",
   "metadata": {},
   "source": [
    "###Import Data + libraries"
   ]
  },
  {
   "cell_type": "code",
   "execution_count": 5,
   "metadata": {
    "collapsed": true
   },
   "outputs": [],
   "source": [
    "import numpy as np\n",
    "import pandas as pd\n",
    "import os\n",
    "from scipy import optimize\n",
    "import matplotlib.pyplot as plt\n",
    "%matplotlib inline"
   ]
  },
  {
   "cell_type": "code",
   "execution_count": 6,
   "metadata": {
    "collapsed": false
   },
   "outputs": [
    {
     "name": "stdout",
     "output_type": "stream",
     "text": [
      "C:\\Users\\mb22\\OneDrive\\PhD\\Quasar Shared\\Modelling\\IPythonData to Import/Prostate Outcome Summary 270515.txt\n"
     ]
    },
    {
     "data": {
      "text/html": [
       "<div style=\"max-height:1000px;max-width:1500px;overflow:auto;\">\n",
       "<table border=\"1\" class=\"dataframe\">\n",
       "  <thead>\n",
       "    <tr style=\"text-align: right;\">\n",
       "      <th></th>\n",
       "      <th>Study</th>\n",
       "      <th>Dose</th>\n",
       "      <th>TCP</th>\n",
       "    </tr>\n",
       "  </thead>\n",
       "  <tbody>\n",
       "    <tr>\n",
       "      <th>0 </th>\n",
       "      <td>              RT01</td>\n",
       "      <td> 64</td>\n",
       "      <td> 43</td>\n",
       "    </tr>\n",
       "    <tr>\n",
       "      <th>1 </th>\n",
       "      <td>              RT01</td>\n",
       "      <td> 74</td>\n",
       "      <td> 55</td>\n",
       "    </tr>\n",
       "    <tr>\n",
       "      <th>2 </th>\n",
       "      <td>       MD Anderson</td>\n",
       "      <td> 70</td>\n",
       "      <td> 43</td>\n",
       "    </tr>\n",
       "    <tr>\n",
       "      <th>3 </th>\n",
       "      <td>       MD Anderson</td>\n",
       "      <td> 78</td>\n",
       "      <td> 62</td>\n",
       "    </tr>\n",
       "    <tr>\n",
       "      <th>4 </th>\n",
       "      <td>               RMH</td>\n",
       "      <td> 64</td>\n",
       "      <td> 59</td>\n",
       "    </tr>\n",
       "    <tr>\n",
       "      <th>5 </th>\n",
       "      <td>               RMH</td>\n",
       "      <td> 74</td>\n",
       "      <td> 71</td>\n",
       "    </tr>\n",
       "    <tr>\n",
       "      <th>6 </th>\n",
       "      <td> Fox Chase Low-All</td>\n",
       "      <td> 69</td>\n",
       "      <td> 68</td>\n",
       "    </tr>\n",
       "    <tr>\n",
       "      <th>7 </th>\n",
       "      <td> Fox Chase Low-All</td>\n",
       "      <td> 71</td>\n",
       "      <td> 74</td>\n",
       "    </tr>\n",
       "    <tr>\n",
       "      <th>8 </th>\n",
       "      <td> Fox Chase Low-All</td>\n",
       "      <td> 76</td>\n",
       "      <td> 69</td>\n",
       "    </tr>\n",
       "    <tr>\n",
       "      <th>9 </th>\n",
       "      <td> Fox Chase Low-Unf</td>\n",
       "      <td> 69</td>\n",
       "      <td> 44</td>\n",
       "    </tr>\n",
       "    <tr>\n",
       "      <th>10</th>\n",
       "      <td> Fox Chase Low-Unf</td>\n",
       "      <td> 71</td>\n",
       "      <td> 51</td>\n",
       "    </tr>\n",
       "    <tr>\n",
       "      <th>11</th>\n",
       "      <td> Fox Chase Low-Unf</td>\n",
       "      <td> 76</td>\n",
       "      <td> 64</td>\n",
       "    </tr>\n",
       "    <tr>\n",
       "      <th>12</th>\n",
       "      <td>     Fox Chase Med</td>\n",
       "      <td> 70</td>\n",
       "      <td> 19</td>\n",
       "    </tr>\n",
       "    <tr>\n",
       "      <th>13</th>\n",
       "      <td>     Fox Chase Med</td>\n",
       "      <td> 72</td>\n",
       "      <td> 31</td>\n",
       "    </tr>\n",
       "    <tr>\n",
       "      <th>14</th>\n",
       "      <td>     Fox Chase Med</td>\n",
       "      <td> 76</td>\n",
       "      <td> 84</td>\n",
       "    </tr>\n",
       "    <tr>\n",
       "      <th>15</th>\n",
       "      <td>    Fox Chase High</td>\n",
       "      <td> 70</td>\n",
       "      <td>  8</td>\n",
       "    </tr>\n",
       "    <tr>\n",
       "      <th>16</th>\n",
       "      <td>    Fox Chase High</td>\n",
       "      <td> 73</td>\n",
       "      <td> 23</td>\n",
       "    </tr>\n",
       "    <tr>\n",
       "      <th>17</th>\n",
       "      <td>    Fox Chase High</td>\n",
       "      <td> 76</td>\n",
       "      <td> 11</td>\n",
       "    </tr>\n",
       "  </tbody>\n",
       "</table>\n",
       "</div>"
      ],
      "text/plain": [
       "                Study  Dose  TCP\n",
       "0                RT01    64   43\n",
       "1                RT01    74   55\n",
       "2         MD Anderson    70   43\n",
       "3         MD Anderson    78   62\n",
       "4                 RMH    64   59\n",
       "5                 RMH    74   71\n",
       "6   Fox Chase Low-All    69   68\n",
       "7   Fox Chase Low-All    71   74\n",
       "8   Fox Chase Low-All    76   69\n",
       "9   Fox Chase Low-Unf    69   44\n",
       "10  Fox Chase Low-Unf    71   51\n",
       "11  Fox Chase Low-Unf    76   64\n",
       "12      Fox Chase Med    70   19\n",
       "13      Fox Chase Med    72   31\n",
       "14      Fox Chase Med    76   84\n",
       "15     Fox Chase High    70    8\n",
       "16     Fox Chase High    73   23\n",
       "17     Fox Chase High    76   11"
      ]
     },
     "execution_count": 6,
     "metadata": {},
     "output_type": "execute_result"
    }
   ],
   "source": [
    "#mainpath = 'C:/Users/mb22/OneDrive/PhD/Quasar Shared/' #Files are explicitely specified here and broken into 2 parts \n",
    "filepath = 'Data to Import/Prostate Outcome Summary 270515.txt' #so as to be <79 characters\n",
    "#filepath = 'Data to Import/Prostate Outcome Summary 270515-2.txt'\n",
    "cwd = os.getcwd()\n",
    "\n",
    "fullpath=cwd+filepath\n",
    "print(fullpath)\n",
    "\n",
    "data = pd.read_table(filepath)\n",
    "data.rename(columns={data.columns[0]: 'Study'}, inplace=True) # Rename the Study column which is unnamed int he original file\n",
    "\n",
    "groups = data.groupby('Study')  # assign groups to the studys\n",
    "data['TCP'] = data['TCP']\n",
    "data # .head shows the first 5 rows of data, .tail last 5 rows"
   ]
  },
  {
   "cell_type": "markdown",
   "metadata": {},
   "source": [
    "##Original fitting attempt - curve_fit"
   ]
  },
  {
   "cell_type": "code",
   "execution_count": 5,
   "metadata": {
    "collapsed": false
   },
   "outputs": [
    {
     "ename": "NameError",
     "evalue": "name 'curve_fit' is not defined",
     "output_type": "error",
     "traceback": [
      "\u001b[1;31m---------------------------------------------------------------------------\u001b[0m",
      "\u001b[1;31mNameError\u001b[0m                                 Traceback (most recent call last)",
      "\u001b[1;32m<ipython-input-5-278714c26663>\u001b[0m in \u001b[0;36m<module>\u001b[1;34m()\u001b[0m\n\u001b[0;32m     15\u001b[0m \u001b[0myman\u001b[0m \u001b[1;33m=\u001b[0m \u001b[0mfit\u001b[0m\u001b[1;33m(\u001b[0m\u001b[0mxman\u001b[0m\u001b[1;33m,\u001b[0m \u001b[0mp0\u001b[0m\u001b[1;33m[\u001b[0m\u001b[1;36m0\u001b[0m\u001b[1;33m]\u001b[0m\u001b[1;33m,\u001b[0m \u001b[0mp0\u001b[0m\u001b[1;33m[\u001b[0m\u001b[1;36m1\u001b[0m\u001b[1;33m]\u001b[0m\u001b[1;33m)\u001b[0m                \u001b[1;31m# basic fitting function. Doesnt work too well as cant constrain\u001b[0m\u001b[1;33m\u001b[0m\u001b[0m\n\u001b[0;32m     16\u001b[0m \u001b[1;33m\u001b[0m\u001b[0m\n\u001b[1;32m---> 17\u001b[1;33m \u001b[0mcoeffs\u001b[0m\u001b[1;33m,\u001b[0m \u001b[0mmatcov\u001b[0m \u001b[1;33m=\u001b[0m \u001b[0mcurve_fit\u001b[0m\u001b[1;33m(\u001b[0m\u001b[0mfit\u001b[0m\u001b[1;33m,\u001b[0m \u001b[0mx\u001b[0m\u001b[1;33m,\u001b[0m \u001b[0my\u001b[0m\u001b[1;33m,\u001b[0m \u001b[0mp0\u001b[0m\u001b[1;33m)\u001b[0m      \u001b[1;31m# fit curve against x and y data sets\u001b[0m\u001b[1;33m\u001b[0m\u001b[0m\n\u001b[0m\u001b[0;32m     18\u001b[0m \u001b[1;33m\u001b[0m\u001b[0m\n\u001b[0;32m     19\u001b[0m \u001b[0mxfit\u001b[0m \u001b[1;33m=\u001b[0m \u001b[0mnp\u001b[0m\u001b[1;33m.\u001b[0m\u001b[0mlinspace\u001b[0m\u001b[1;33m(\u001b[0m\u001b[1;36m0.0\u001b[0m\u001b[1;33m,\u001b[0m \u001b[1;36m100.0\u001b[0m\u001b[1;33m,\u001b[0m \u001b[1;36m100.0\u001b[0m\u001b[1;33m)\u001b[0m         \u001b[1;31m# give finer resultion array for plot\u001b[0m\u001b[1;33m\u001b[0m\u001b[0m\n",
      "\u001b[1;31mNameError\u001b[0m: name 'curve_fit' is not defined"
     ]
    }
   ],
   "source": [
    "def fit(D, a_fit, b_fit):                      #define TCP function to fit\n",
    "    s = N*np.exp(-a_fit*D - b_fit*d*D**2)\n",
    "    TCP = 100*np.exp(-s)\n",
    "    return TCP\n",
    "\n",
    "d=2.0 #dose per fraction\n",
    "N=10**6 #number of tumour cells\n",
    "\n",
    "x = data.Dose\n",
    "y = data.TCP\n",
    "\n",
    "p0 = [0.05,0.001] # intial estimates of fit parameters\n",
    "\n",
    "xman = np.linspace(0.0, 100.0, 100.0)              # for plotting manually calculated function with initial values\n",
    "yman = fit(xman, p0[0], p0[1])                # basic fitting function. Doesnt work too well as cant constrain\n",
    "\n",
    "coeffs, matcov = curve_fit(fit, x, y, p0)      # fit curve against x and y data sets\n",
    "\n",
    "xfit = np.linspace(0.0, 100.0, 100.0)         # give finer resultion array for plot\n",
    "yfit = fit(xfit, *coeffs)                    # calculate fitted data with fine array\n",
    "\n",
    "plt.plot(x, y, 'o')\n",
    "plt.plot(xfit, yfit, 'r--', label='fit')                  # plot calculated and maual fits\n",
    "plt.plot(xman, yman, 'r-', label='manual')                       # dashed line is auto fit, solid is manual fit.... these should be the same!!!\n",
    "plt.legend(loc='best')\n",
    "print(*coeffs)\n"
   ]
  },
  {
   "cell_type": "markdown",
   "metadata": {},
   "source": [
    "##SciPy.Optimize minimisation of function and then plot fit results"
   ]
  },
  {
   "cell_type": "code",
   "execution_count": 6,
   "metadata": {
    "collapsed": false
   },
   "outputs": [
    {
     "name": "stdout",
     "output_type": "stream",
     "text": [
      "[ 0.37100426 -0.00120974]\n",
      "[ 0.19500916  0.        ]\n"
     ]
    },
    {
     "data": {
      "text/plain": [
       "<matplotlib.legend.Legend at 0x44d30b0>"
      ]
     },
     "execution_count": 6,
     "metadata": {},
     "output_type": "execute_result"
    },
    {
     "data": {
      "image/png": "[encoded data removed]",
      "text/plain": [
       "<matplotlib.figure.Figure at 0xa8fbbd0>"
      ]
     },
     "metadata": {},
     "output_type": "display_data"
    }
   ],
   "source": [
    "#sub_data = data[data['Study'].isin(['RMH'])]\n",
    "#x_data = sub_data['Dose']\n",
    "#y_data = sub_data['TCP']\n",
    "\n",
    "x_data = data.Dose\n",
    "y_data = data.TCP\n",
    "\n",
    "d=2.0 #dose per fraction\n",
    "N=10**6 #number of tumour cells\n",
    "\n",
    "def fitfunc(p):                      #define TCP function to fit\n",
    "    #s = N*np.exp(-a_fit*D - b_fit*d*D**2)\n",
    "    s = N*np.exp(-p[0]*x_data - p[1]*d*x_data**2)\n",
    "    TCP = 100*np.exp(-s)\n",
    "    return TCP\n",
    "\n",
    "def fitfunc1(p):                      #define TCP function to fit\n",
    "    #s = N*np.exp(-a_fit*D - b_fit*d*D**2)\n",
    "    s = N*np.exp(-p[0]*x_data - p[1]*d*x_data**2)\n",
    "    TCP = 100*np.exp(-s)\n",
    "    return TCP\n",
    "\n",
    "## returns the cum of squares of the fitting function\n",
    "def fun(p):\n",
    "    return sum((y_data-fitfunc(p))**2)\n",
    "\n",
    "#Initial guess of parameters\n",
    "guess = np.array([0.1,0.001])\n",
    "bnds = ((0.0, None), (0.0, None)) # Force parameters to be positive\n",
    "\n",
    "\n",
    "res1 = optimize.minimize(fun, guess, method='TNC', tol=1e-10)\n",
    "print(res1.x)\n",
    "\n",
    "res2 = optimize.minimize(fun, guess, method='TNC', tol=1e-10, bounds=bnds)\n",
    "print(res2.x)\n",
    "\n",
    "x_fit = np.linspace(0.0, 100.0, 100.0)\n",
    "sfit1 = N*np.exp(-res1.x[0]*x_fit - res1.x[1]*d*x_fit**2)\n",
    "yfit1 = 100*np.exp(-sfit1)\n",
    "\n",
    "sfit2 = N*np.exp(-res2.x[0]*x_fit - res2.x[1]*d*x_fit**2)\n",
    "yfit2 = 100*np.exp(-sfit2)\n",
    "\n",
    "plt.scatter(x_data,y_data)\n",
    "plt.xlim(0,100)\n",
    "plt.ylim(0,100)\n",
    "plt.plot(x_fit,yfit1, label='Unbounded Fit')\n",
    "plt.plot(x_fit,yfit2, label='bounded (a & b > 0)')\n",
    "plt.legend(loc='best')"
   ]
  },
  {
   "cell_type": "markdown",
   "metadata": {},
   "source": [
    "##Find the gradient"
   ]
  },
  {
   "cell_type": "code",
   "execution_count": 7,
   "metadata": {
    "collapsed": false
   },
   "outputs": [
    {
     "data": {
      "text/plain": [
       "2.4552013180899124"
      ]
     },
     "execution_count": 7,
     "metadata": {},
     "output_type": "execute_result"
    }
   ],
   "source": [
    "g = np.gradient(yfit2)\n",
    "g[80]"
   ]
  },
  {
   "cell_type": "markdown",
   "metadata": {},
   "source": [
    "##Add plot of gradient on right hand axes"
   ]
  },
  {
   "cell_type": "code",
   "execution_count": 8,
   "metadata": {
    "collapsed": false
   },
   "outputs": [
    {
     "name": "stdout",
     "output_type": "stream",
     "text": [
      "[ 0.19500916  0.        ]\n"
     ]
    },
    {
     "data": {
      "text/plain": [
       "<matplotlib.legend.Legend at 0x4541ff0>"
      ]
     },
     "execution_count": 8,
     "metadata": {},
     "output_type": "execute_result"
    },
    {
     "data": {
      "image/png": "[encoded data removed]",
      "text/plain": [
       "<matplotlib.figure.Figure at 0x44f22b0>"
      ]
     },
     "metadata": {},
     "output_type": "display_data"
    }
   ],
   "source": [
    "#sub_data = data[data['Study'].isin(['RT01'])]\n",
    "#x_data = sub_data['Dose']\n",
    "#y_data = sub_data['TCP']\n",
    "\n",
    "x_data = data.Dose\n",
    "y_data = data.TCP\n",
    "\n",
    "d=2.0 #dose per fraction\n",
    "N=10**6 #number of tumour cells\n",
    "\n",
    "def fitfunc(p):                      #define TCP function to fit\n",
    "    #s = N*np.exp(-a_fit*D - b_fit*d*D**2)\n",
    "    s = N*np.exp(-p[0]*x_data - p[1]*d*x_data**2)\n",
    "    TCP = 100*np.exp(-s)\n",
    "    return TCP\n",
    "\n",
    "## returns the cum of squares of the fitting function\n",
    "def fun(p):\n",
    "    return sum((y_data-fitfunc(p))**2)\n",
    "\n",
    "#Initial guess of parameters\n",
    "guess = np.array([0.1,0.001])\n",
    "bnds = ((0.0, None), (0.0, None)) # Force parameters to be positive\n",
    "\n",
    "res2 = optimize.minimize(fun, guess, method='TNC', tol=1e-10, bounds=bnds)\n",
    "print(res2.x)\n",
    "\n",
    "x_fit = np.linspace(0.0, 100, 100)\n",
    "sfit2 = N*np.exp(-res2.x[0]*x_fit - res2.x[1]*d*x_fit**2)\n",
    "yfit2 = 100*np.exp(-sfit2)\n",
    "\n",
    "fig, ax1 = plt.subplots()\n",
    "ax1.scatter(x_data,y_data, color='green', label = 'data')\n",
    "ax1.plot(x_fit,yfit2, color='red', label = 'fit')\n",
    "ax1.set_xlabel('Dose (Gy)')\n",
    "ax1.set_ylabel('TCP')\n",
    "ax1.set_ylim(0,100)\n",
    "\n",
    "ax2 = ax1.twinx()\n",
    "ax2.plot(x_fit,np.gradient(yfit2, 100/len(x_fit)), color='blue', label='Gradient of fit')\n",
    "ax2.set_ylabel('Gradient (dTCP/dGy)')\n",
    "ax2.set_ylim(0,10)\n",
    "ax2.set_xlim(0,100)\n",
    "\n",
    "lines, labels = ax1.get_legend_handles_labels()\n",
    "lines2, labels2 = ax2.get_legend_handles_labels()\n",
    "ax2.legend(lines + lines2, labels + labels2, loc='best')"
   ]
  },
  {
   "cell_type": "markdown",
   "metadata": {},
   "source": [
    "##Add in N as a variable"
   ]
  },
  {
   "cell_type": "code",
   "execution_count": 9,
   "metadata": {
    "collapsed": false
   },
   "outputs": [
    {
     "name": "stdout",
     "output_type": "stream",
     "text": [
      "[  1.03119018e-01   1.00000000e-03   4.28820195e+07]\n",
      "a/b:  103.119018205\n"
     ]
    },
    {
     "data": {
      "image/png": "[encoded data removed]",
      "text/plain": [
       "<matplotlib.figure.Figure at 0x4553ad0>"
      ]
     },
     "metadata": {},
     "output_type": "display_data"
    }
   ],
   "source": [
    "#sub_data = data[data['Study'].isin(['RT01'])]\n",
    "#x_data = sub_data['Dose']\n",
    "#y_data = sub_data['TCP']\n",
    "\n",
    "x_data = data.Dose\n",
    "y_data = data.TCP\n",
    "\n",
    "d=2.0 #dose per fraction\n",
    "#N=10**6 #number of tumour cells\n",
    "\n",
    "def fitfunc(p):                      #define TCP function to fit\n",
    "    #s = N*np.exp(-a_fit*D - b_fit*d*D**2)\n",
    "    s = p[2]*np.exp(-p[0]*x_data - p[1]*d*x_data**2)\n",
    "    TCP = 100*np.exp(-s)\n",
    "    return TCP\n",
    "\n",
    "## returns the cum of squares of the fitting function\n",
    "def fun(p):\n",
    "    return sum((y_data-fitfunc(p))**2)\n",
    "\n",
    "#Initial guess of parameters\n",
    "guess = np.array([0.1,0.001, 10**6])\n",
    "bnds = ((0.0, None), (0.001, None), (10**3, 10**9)) # Force parameters to be positive\n",
    "\n",
    "res2 = optimize.minimize(fun, guess, method='TNC', tol=1e-10, bounds=bnds)\n",
    "print(res2.x)\n",
    "\n",
    "x_fit = np.linspace(0.0, 100, 100)\n",
    "sfit2 = res2.x[2]*np.exp(-res2.x[0]*x_fit - res2.x[1]*d*x_fit**2)\n",
    "yfit2 = 100*np.exp(-sfit2)\n",
    "\n",
    "fig, ax1 = plt.subplots()\n",
    "ax1.scatter(x_data,y_data, color='green', label = 'data')\n",
    "ax1.plot(x_fit,yfit2, color='red', label = 'fit')\n",
    "ax1.set_xlabel('Dose (Gy)')\n",
    "ax1.set_ylabel('TCP')\n",
    "ax1.set_ylim(0,100)\n",
    "\n",
    "ax2 = ax1.twinx()\n",
    "ax2.plot(x_fit,np.gradient(yfit2, 100/len(x_fit)), color='blue', label='Gradient of fit')\n",
    "ax2.set_ylabel('Gradient (dTCP/dGy)')\n",
    "ax2.set_ylim(0,10)\n",
    "ax2.set_xlim(0,100)\n",
    "\n",
    "lines, labels = ax1.get_legend_handles_labels()\n",
    "lines2, labels2 = ax2.get_legend_handles_labels()\n",
    "ax2.legend(lines + lines2, labels + labels2, loc='best')\n",
    "print(\"a/b: \", res2.x[0]/res2.x[1])"
   ]
  },
  {
   "cell_type": "markdown",
   "metadata": {},
   "source": [
    "##Next want to set a constraint on a/b ?"
   ]
  },
  {
   "cell_type": "markdown",
   "metadata": {},
   "source": [
    "Plot doesnt seem to fit when only using the individual data sets properly....?\n",
    "Could also try different form of fitting equation (logistic for example)"
   ]
  },
  {
   "cell_type": "code",
   "execution_count": 10,
   "metadata": {
    "collapsed": false
   },
   "outputs": [
    {
     "name": "stdout",
     "output_type": "stream",
     "text": [
      "[  9.99995611e-02   9.35177756e-04   1.97191321e+07]\n"
     ]
    },
    {
     "data": {
      "text/plain": [
       "<matplotlib.legend.Legend at 0x4611210>"
      ]
     },
     "execution_count": 10,
     "metadata": {},
     "output_type": "execute_result"
    },
    {
     "data": {
      "image/png": "[encoded data removed]",
      "text/plain": [
       "<matplotlib.figure.Figure at 0x45c3670>"
      ]
     },
     "metadata": {},
     "output_type": "display_data"
    }
   ],
   "source": [
    "#sub_data = data[data['Study'].isin(['RT01'])]\n",
    "#x_data = sub_data['Dose']\n",
    "#y_data = sub_data['TCP']\n",
    "#print(x_data)\n",
    "\n",
    "x_data = data.Dose\n",
    "y_data = data.TCP\n",
    "\n",
    "d=2.0 #dose per fraction\n",
    "#N=10**6 #number of tumour cells\n",
    "\n",
    "def fitfunc(p):                      #define TCP function to fit\n",
    "    #s = N*np.exp(-a_fit*D - b_fit*d*D**2)\n",
    "    s = p[2]*np.exp(-p[0]*x_data - p[1]*d*x_data**2)\n",
    "    TCP = 100*np.exp(-s)\n",
    "    return TCP\n",
    "\n",
    "## returns the cum of squares of the fitting function\n",
    "def fun(p):\n",
    "    return sum((y_data-fitfunc(p))**2)\n",
    "\n",
    "#Initial guess of parameters\n",
    "guess = np.array([0.1,0.001, 10**6])\n",
    "bnds = ((0.0, None), (0.0, None), (10**6, 10**12)) # Force parameters to be positive\n",
    "\n",
    "res2 = optimize.minimize(fun, guess, method='TNC', tol=1e-10, bounds=bnds)\n",
    "print(res2.x)\n",
    "\n",
    "x_fit = np.linspace(0.0, 100, 100)\n",
    "sfit2 = res2.x[2]*np.exp(-res2.x[0]*x_fit - res2.x[1]*d*x_fit**2)\n",
    "yfit2 = 100*np.exp(-sfit2)\n",
    "\n",
    "fig, ax1 = plt.subplots()\n",
    "ax1.scatter(x_data,y_data, color='green', label = 'data')\n",
    "ax1.plot(x_fit,yfit2, color='red', label = 'fit')\n",
    "ax1.set_xlabel('Dose (Gy)')\n",
    "ax1.set_ylabel('TCP')\n",
    "ax1.set_ylim(0,100)\n",
    "\n",
    "ax2 = ax1.twinx()\n",
    "ax2.plot(x_fit,np.gradient(yfit2, 100/len(x_fit)), color='blue', label='Gradient of fit')\n",
    "ax2.set_ylabel('Gradient (dTCP/dGy)')\n",
    "ax2.set_ylim(0,10)\n",
    "ax2.set_xlim(0,100)\n",
    "\n",
    "lines, labels = ax1.get_legend_handles_labels()\n",
    "lines2, labels2 = ax2.get_legend_handles_labels()\n",
    "ax2.legend(lines + lines2, labels + labels2, loc='best')"
   ]
  },
  {
   "cell_type": "markdown",
   "metadata": {},
   "source": [
    "#More realistic curves to model whole population\n",
    "###From Handbook fo Rad Phys\n",
    "\n",
    "More realisitcally the TCP curves are not this steep due the variance in radiosensitivity within the population.\n",
    "Nahum et al. describe how to add an additional parameter to include this within the model.\n",
    "Hopefully this should give better fits to the single data sets (allowing shallower curves).\n",
    "The models sums up a range of TCP fits with different weightings to produce an overall TCP fit.\n",
    "\n",
    "page 735 in Handbook of Radiotehrapy Physics. gives the below:\n",
    "(Also in paper which is mentioned in book. Sanchez-Nieto and Nahum, 1999)"
   ]
  },
  {
   "cell_type": "markdown",
   "metadata": {},
   "source": [
    "This $\\sqrt{3x-1}+(1+x)^2$ is an example inline equation"
   ]
  },
  {
   "cell_type": "markdown",
   "metadata": {},
   "source": [
    "$TCP = P(N,0) = e^{-N}$"
   ]
  },
  {
   "cell_type": "markdown",
   "metadata": {},
   "source": [
    "$TCP = exp{-N*exp[-a*D(1+\\frac{b}ad)]}$"
   ]
  },
  {
   "cell_type": "markdown",
   "metadata": {},
   "source": [
    "Need to incorperate a spread in alpha (a) values"
   ]
  },
  {
   "cell_type": "markdown",
   "metadata": {},
   "source": [
    "For k groups of patients each with seperate $a_i$ the value of $TCP_i$ overall is given by:"
   ]
  },
  {
   "cell_type": "markdown",
   "metadata": {},
   "source": [
    "$\\sum_{i=1}^k g_i TCP_{a_i}$ where $g_i$  of patients have $a=a_i$ and $\\sum g_i =1$."
   ]
  },
  {
   "cell_type": "markdown",
   "metadata": {},
   "source": [
    "For a Gaussian distribution (lets assume this): $g_i \\varpropto exp[-(a_i - a_m)^2 / 2s_a^2]$\n",
    "where $s$ is the standard deviation of $a$ and $a_m$ is its mean"
   ]
  },
  {
   "cell_type": "markdown",
   "metadata": {},
   "source": [
    "An alternative way to evalute the overall TCP is then:"
   ]
  },
  {
   "cell_type": "markdown",
   "metadata": {},
   "source": [
    "$TCP = (1/k)\\sum_{i=1}^k exp(-N(i))$"
   ]
  },
  {
   "cell_type": "markdown",
   "metadata": {},
   "source": [
    "where $N(i) = Nexp(-a_i D)$ and N is the initial number of cells taken to be $pV$ where $p=10^7 cm^{-3}$ and $V$ is the tumour volume in $cm^3$"
   ]
  },
  {
   "cell_type": "markdown",
   "metadata": {},
   "source": [
    "Combining gives:"
   ]
  },
  {
   "cell_type": "markdown",
   "metadata": {},
   "source": [
    "$TCP = (1/k) \\sum_{i=1}^k exp[-pVexp(-a_i D)]$"
   ]
  },
  {
   "cell_type": "markdown",
   "metadata": {},
   "source": [
    "setting the SD of alpha gives the usual steep TCP curves"
   ]
  },
  {
   "cell_type": "markdown",
   "metadata": {
    "collapsed": true
   },
   "source": [
    "##Can just model using info from ESTRO presentation\n",
    "###This uses gamma50 and d50 to fit a model which is a better fit to population data\n",
    "Based on Bentzens paper. gives 3 different forms of model to use."
   ]
  },
  {
   "cell_type": "markdown",
   "metadata": {},
   "source": [
    "$TCP = 1/(1+exp[4g_{50}(1-D/_{D50})])$ is logistic model"
   ]
  },
  {
   "cell_type": "code",
   "execution_count": 30,
   "metadata": {
    "collapsed": false
   },
   "outputs": [
    {
     "name": "stdout",
     "output_type": "stream",
     "text": [
      "[ 2.49999999  3.00000004  5.00000006]\n",
      "Trial, Gamma50, D50, Gamma74\n",
      "RT01:  0.842492013229 69.8415185526 1.20133630471\n"
     ]
    },
    {
     "data": {
      "image/png": "[encoded data removed]",
      "text/plain": [
       "<matplotlib.figure.Figure at 0x4348b30>"
      ]
     },
     "metadata": {},
     "output_type": "display_data"
    }
   ],
   "source": [
    "sub_data = data[data['Study'].isin(['RT01'])]\n",
    "#sub_data = data[data['Study'].isin(['MD Anderson'])]\n",
    "#sub_data = data[data['Study'].isin(['RMH'])]\n",
    "#sub_data = data[data['Study'].isin(['Fox Chase Med'])]\n",
    "\n",
    "x_data = sub_data['Dose']\n",
    "y_data = 0.01*sub_data['TCP']\n",
    "#print(x_data)\n",
    "\n",
    "#x_data = data.Dose\n",
    "#y_data = 0.01*data.TCP\n",
    "\n",
    "def fitfunc(p):                      #define TCP function to fit\n",
    "    TCP = 1/(1+np.exp(4*(p[0]*(1-(x_data/p[1])))))\n",
    "    return TCP\n",
    "\n",
    "## returns the sum of squares of the fitting function\n",
    "def fun(p):\n",
    "    return sum((y_data-fitfunc(p))**2)\n",
    "\n",
    "#Initial guess of parameters\n",
    "guess = np.array([1.0,60.0])\n",
    "bnds = ((0.3, 10), (30, 100)) # Force parameters to be positive\n",
    "\n",
    "res = optimize.minimize(fun, guess, method='SLSQP', tol=1e-10, bounds=bnds)\n",
    "print(res2.x)\n",
    "\n",
    "x_fit = np.linspace(0.0, 100, 100)\n",
    "yfit_rt01 = 1/(1+np.exp(4*(res.x[0]*(1-(x_fit/res.x[1])))))\n",
    "\n",
    "fig, ax1 = plt.subplots()\n",
    "ax1.scatter(x_data,y_data, color='green', label = 'data')\n",
    "ax1.plot(x_fit,yfit_rt01, color='red', label = 'fit')\n",
    "ax1.set_xlabel('Dose (Gy)')\n",
    "ax1.set_ylabel('TCP')\n",
    "ax1.set_ylim(0,1)\n",
    "ax1.set_xlim(0,100)\n",
    "\n",
    "ax2 = ax1.twinx()\n",
    "ax2.plot(x_fit,np.gradient(yfit_rt01, 100/len(x_fit)), color='red', ls='dashed', label='Gradient of fit')\n",
    "ax2.set_ylabel('Gradient (dTCP/dGy)')\n",
    "#ax2.set_ylim(0,1)\n",
    "ax2.set_xlim(0,100)\n",
    "\n",
    "lines, labels = ax1.get_legend_handles_labels()\n",
    "lines2, labels2 = ax2.get_legend_handles_labels()\n",
    "ax2.legend(lines + lines2, labels + labels2, loc='best')\n",
    "\n",
    "g = 100*np.gradient(yfit_rt01, 100/len(x_fit))\n",
    "g74=g[74]\n",
    "\n",
    "print(\"Trial, Gamma50, D50, Gamma74\")\n",
    "print(\"RT01: \", res.x[0], res.x[1], g74)\n"
   ]
  },
  {
   "cell_type": "markdown",
   "metadata": {
    "collapsed": true
   },
   "source": [
    "Trial, Gamma50, D50\n",
    "RT01:  0.842498337347 69.8412098135\n",
    "MD Anderson:  1.75790113754 72.923021042\n",
    "RMH:  0.759297576379 57.1513235625\n",
    "Fox Chase Low-All:  0.3 41.8541044255 Large error in fit (manually adjusted limits for parameters)\n",
    "Fox Chase Low-Unf:  2.0382873516 70.9091385132\n",
    "Fox Chase Med:  9.96748391355 73.1852608504\n",
    "Fox Chase High:  5.75579625646 80.0 Large error in fit (manually adjusted limits for parameters)\n",
    "\n"
   ]
  },
  {
   "cell_type": "markdown",
   "metadata": {},
   "source": [
    "##Put data into an array then into pandas dataframe\n",
    "Ideally this should be automatic and calc for all trials within the data file...\n",
    "**Automation is something to mention in confirmation report**"
   ]
  },
  {
   "cell_type": "code",
   "execution_count": 106,
   "metadata": {
    "collapsed": false
   },
   "outputs": [],
   "source": [
    "fit_data = np.array([['RT01', 0.842498337347, 69.8412098135,1.20133630471, 'None'],\n",
    "                     ['RMH', 0.759297576379, 57.1513235625,1.08651400899, 'None'],\n",
    "                     ['MD Anderson', 1.75790113754, 72.923021042,2.41436353966, 'None'],\n",
    "                     ['Fox Chase Low-All', 0.3, 41.8541044255,0.584182231636, 'Not a good fit'],\n",
    "                     ['Fox Chase Low-Unfavourable', 2.0382873516, 70.9091385132,2.76395623366, 'None'],\n",
    "                     ['Fox Chase Med', 9.96748391355, 73.1852608504, 11.3881977613, 'None'],\n",
    "                     ['Fox Chase High', 5.75579625646, 80.0, 0.887696792319, 'Not a good fit']])\n",
    "#fit_data"
   ]
  },
  {
   "cell_type": "code",
   "execution_count": 108,
   "metadata": {
    "collapsed": false
   },
   "outputs": [
    {
     "data": {
      "text/html": [
       "<div style=\"max-height:1000px;max-width:1500px;overflow:auto;\">\n",
       "<table border=\"1\" class=\"dataframe\">\n",
       "  <thead>\n",
       "    <tr style=\"text-align: right;\">\n",
       "      <th></th>\n",
       "      <th>Trial</th>\n",
       "      <th>Gamma50</th>\n",
       "      <th>D50</th>\n",
       "      <th>Gamma74</th>\n",
       "      <th>Comments</th>\n",
       "    </tr>\n",
       "  </thead>\n",
       "  <tbody>\n",
       "    <tr>\n",
       "      <th>0</th>\n",
       "      <td>                       RT01</td>\n",
       "      <td> 0.842498337347</td>\n",
       "      <td> 69.8412098135</td>\n",
       "      <td>  1.20133630471</td>\n",
       "      <td>           None</td>\n",
       "    </tr>\n",
       "    <tr>\n",
       "      <th>1</th>\n",
       "      <td>                        RMH</td>\n",
       "      <td> 0.759297576379</td>\n",
       "      <td> 57.1513235625</td>\n",
       "      <td>  1.08651400899</td>\n",
       "      <td>           None</td>\n",
       "    </tr>\n",
       "    <tr>\n",
       "      <th>2</th>\n",
       "      <td>                MD Anderson</td>\n",
       "      <td>  1.75790113754</td>\n",
       "      <td>  72.923021042</td>\n",
       "      <td>  2.41436353966</td>\n",
       "      <td>           None</td>\n",
       "    </tr>\n",
       "    <tr>\n",
       "      <th>3</th>\n",
       "      <td>          Fox Chase Low-All</td>\n",
       "      <td>            0.3</td>\n",
       "      <td> 41.8541044255</td>\n",
       "      <td> 0.584182231636</td>\n",
       "      <td> Not a good fit</td>\n",
       "    </tr>\n",
       "    <tr>\n",
       "      <th>4</th>\n",
       "      <td> Fox Chase Low-Unfavourable</td>\n",
       "      <td>   2.0382873516</td>\n",
       "      <td> 70.9091385132</td>\n",
       "      <td>  2.76395623366</td>\n",
       "      <td>           None</td>\n",
       "    </tr>\n",
       "    <tr>\n",
       "      <th>5</th>\n",
       "      <td>              Fox Chase Med</td>\n",
       "      <td>  9.96748391355</td>\n",
       "      <td> 73.1852608504</td>\n",
       "      <td>  11.3881977613</td>\n",
       "      <td>           None</td>\n",
       "    </tr>\n",
       "    <tr>\n",
       "      <th>6</th>\n",
       "      <td>             Fox Chase High</td>\n",
       "      <td>  5.75579625646</td>\n",
       "      <td>          80.0</td>\n",
       "      <td> 0.887696792319</td>\n",
       "      <td> Not a good fit</td>\n",
       "    </tr>\n",
       "  </tbody>\n",
       "</table>\n",
       "</div>"
      ],
      "text/plain": [
       "                        Trial         Gamma50            D50         Gamma74  \\\n",
       "0                        RT01  0.842498337347  69.8412098135   1.20133630471   \n",
       "1                         RMH  0.759297576379  57.1513235625   1.08651400899   \n",
       "2                 MD Anderson   1.75790113754   72.923021042   2.41436353966   \n",
       "3           Fox Chase Low-All             0.3  41.8541044255  0.584182231636   \n",
       "4  Fox Chase Low-Unfavourable    2.0382873516  70.9091385132   2.76395623366   \n",
       "5               Fox Chase Med   9.96748391355  73.1852608504   11.3881977613   \n",
       "6              Fox Chase High   5.75579625646           80.0  0.887696792319   \n",
       "\n",
       "         Comments  \n",
       "0            None  \n",
       "1            None  \n",
       "2            None  \n",
       "3  Not a good fit  \n",
       "4            None  \n",
       "5            None  \n",
       "6  Not a good fit  "
      ]
     },
     "execution_count": 108,
     "metadata": {},
     "output_type": "execute_result"
    }
   ],
   "source": [
    "fit_data_pd = pd.DataFrame(fit_data, columns=['Trial', 'Gamma50','D50','Gamma74', 'Comments'])\n",
    "fit_data_pd"
   ]
  },
  {
   "cell_type": "code",
   "execution_count": 113,
   "metadata": {
    "collapsed": false
   },
   "outputs": [],
   "source": [
    "# Save fit parameters to excel sheet called 'output'\n",
    "\n",
    "from pandas import ExcelWriter\n",
    "writer = ExcelWriter('output.xlsx')\n",
    "fit_data_pd.to_excel(writer,'Sheet1')\n",
    "writer.save()"
   ]
  },
  {
   "cell_type": "code",
   "execution_count": 144,
   "metadata": {
    "collapsed": false
   },
   "outputs": [
    {
     "data": {
      "text/plain": [
       "[<matplotlib.lines.Line2D at 0xc484870>]"
      ]
     },
     "execution_count": 144,
     "metadata": {},
     "output_type": "execute_result"
    },
    {
     "data": {
      "image/png": "[encoded data removed]",
      "text/plain": [
       "<matplotlib.figure.Figure at 0xc1e4a90>"
      ]
     },
     "metadata": {},
     "output_type": "display_data"
    }
   ],
   "source": [
    "# Describe the G74 data and show range on graph\n",
    "\n",
    "g74all = fit_data_pd['Gamma74'].convert_objects(convert_numeric=True)\n",
    "\n",
    "g74all.describe()\n",
    "plt.plot(g74all)\n"
   ]
  },
  {
   "cell_type": "markdown",
   "metadata": {
    "collapsed": true
   },
   "source": [
    "##Now try and add a Poisson model for comparison\n",
    "It is expected that there will not be a huge difference, but useful for the Thesis to have this."
   ]
  },
  {
   "cell_type": "code",
   "execution_count": 27,
   "metadata": {
    "collapsed": false
   },
   "outputs": [
    {
     "data": {
      "text/plain": [
       "2.7182818284590451"
      ]
     },
     "execution_count": 27,
     "metadata": {},
     "output_type": "execute_result"
    }
   ],
   "source": [
    "e = np.exp(1)\n",
    "e"
   ]
  },
  {
   "cell_type": "code",
   "execution_count": 60,
   "metadata": {
    "collapsed": false
   },
   "outputs": [
    {
     "name": "stdout",
     "output_type": "stream",
     "text": [
      "[  0.92124432 100.        ]\n",
      "Trial, Gamma37, D37, Gamma74\n",
      "FC high:  0.921244324034 100.0 0.724845431216\n"
     ]
    },
    {
     "data": {
      "image/png": "[encoded data removed]",
      "text/plain": [
       "<matplotlib.figure.Figure at 0x90513b0>"
      ]
     },
     "metadata": {},
     "output_type": "display_data"
    }
   ],
   "source": [
    "#sub_data = data[data['Study'].isin(['RT01'])]\n",
    "#sub_data = data[data['Study'].isin(['RMH'])]\n",
    "#sub_data = data[data['Study'].isin(['MD Anderson'])]\n",
    "#sub_data = data[data['Study'].isin(['Fox Chase Low-All'])]\n",
    "#sub_data = data[data['Study'].isin(['Fox Chase Low-Unf'])]\n",
    "#sub_data = data[data['Study'].isin(['Fox Chase Med'])]\n",
    "sub_data = data[data['Study'].isin(['Fox Chase High'])]\n",
    "\n",
    "x_data = sub_data['Dose']\n",
    "y_data = 0.01*sub_data['TCP']\n",
    "#print(x_data)\n",
    "\n",
    "#x_data = data.Dose\n",
    "#y_data = 0.01*data.TCP\n",
    "\n",
    "def fitfunc(p):                      #define TCP function to fit\n",
    "    #TCP = 1/(1+np.exp(4*(p[0]*(1-(x_data/p[1])))))\n",
    "    TCP = np.exp(-np.exp(np.exp(1)*p[0]*(1-(x_data/p[1]))))\n",
    "    return TCP\n",
    "\n",
    "## returns the sum of squares of the fitting function\n",
    "def fun(p):\n",
    "    return sum((y_data-fitfunc(p))**2)\n",
    "\n",
    "#Initial guess of parameters\n",
    "guess = np.array([1.0,60.0])\n",
    "bnds = ((0.01, 10), (0, 100)) # Force parameters to be positive\n",
    "\n",
    "#res = optimize.minimize(fun, guess, method='SLSQP', tol=1e-10, bounds=bnds)\n",
    "res = optimize.minimize(fun, guess, method='SLSQP', tol=1e-10, bounds=bnds)\n",
    "print(res.x)\n",
    "\n",
    "x_fit = np.linspace(0.0, 100, 100)\n",
    "#yfit_rt01 = 1/(1+np.exp(4*(res.x[0]*(1-(x_fit/res.x[1])))))\n",
    "yfit_rt01 = np.exp(-np.exp(np.exp(1)*res.x[0]*(1-(x_fit/res.x[1]))))\n",
    "\n",
    "fig, ax1 = plt.subplots()\n",
    "ax1.scatter(x_data,y_data, color='green', label = 'data')\n",
    "ax1.plot(x_fit,yfit_rt01, color='red', label = 'fit')\n",
    "ax1.set_xlabel('Dose (Gy)')\n",
    "ax1.set_ylabel('TCP')\n",
    "ax1.set_ylim(0,1)\n",
    "ax1.set_xlim(0,100)\n",
    "\n",
    "ax2 = ax1.twinx()\n",
    "ax2.plot(x_fit,np.gradient(yfit_rt01, 100/len(x_fit)), color='red', ls='dashed', label='Gradient of fit')\n",
    "ax2.set_ylabel('Gradient (dTCP/dGy)')\n",
    "#ax2.set_ylim(0,1)\n",
    "ax2.set_xlim(0,100)\n",
    "\n",
    "lines, labels = ax1.get_legend_handles_labels()\n",
    "lines2, labels2 = ax2.get_legend_handles_labels()\n",
    "ax2.legend(lines + lines2, labels + labels2, loc='best')\n",
    "\n",
    "g = 100*np.gradient(yfit_rt01, 100/len(x_fit))\n",
    "g74=g[74]\n",
    "\n",
    "print(\"Trial, Gamma37, D37, Gamma74\")\n",
    "print(\"FC high: \", res.x[0], res.x[1], g74)\n"
   ]
  },
  {
   "cell_type": "code",
   "execution_count": 64,
   "metadata": {
    "collapsed": false
   },
   "outputs": [
    {
     "data": {
      "text/html": [
       "<div style=\"max-height:1000px;max-width:1500px;overflow:auto;\">\n",
       "<table border=\"1\" class=\"dataframe\">\n",
       "  <thead>\n",
       "    <tr style=\"text-align: right;\">\n",
       "      <th></th>\n",
       "      <th>Trial</th>\n",
       "      <th>Gamma37</th>\n",
       "      <th>D37</th>\n",
       "      <th>Gamma74</th>\n",
       "      <th>Comments</th>\n",
       "    </tr>\n",
       "  </thead>\n",
       "  <tbody>\n",
       "    <tr>\n",
       "      <th>0</th>\n",
       "      <td>                       RT01</td>\n",
       "      <td> 0.749407591105</td>\n",
       "      <td> 59.0802153444</td>\n",
       "      <td>  1.13307276627</td>\n",
       "      <td>           None</td>\n",
       "    </tr>\n",
       "    <tr>\n",
       "      <th>1</th>\n",
       "      <td>                        RMH</td>\n",
       "      <td> 0.782253891558</td>\n",
       "      <td>  49.205192106</td>\n",
       "      <td>  1.03901419754</td>\n",
       "      <td>           None</td>\n",
       "    </tr>\n",
       "    <tr>\n",
       "      <th>2</th>\n",
       "      <td>                MD Anderson</td>\n",
       "      <td>  0.76729939103</td>\n",
       "      <td> 67.6123804217</td>\n",
       "      <td>  2.36603250256</td>\n",
       "      <td>           None</td>\n",
       "    </tr>\n",
       "    <tr>\n",
       "      <th>3</th>\n",
       "      <td>          Fox Chase Low-All</td>\n",
       "      <td>           0.01</td>\n",
       "      <td> 1.82643990136</td>\n",
       "      <td> 0.362256802799</td>\n",
       "      <td> Not a good fit</td>\n",
       "    </tr>\n",
       "    <tr>\n",
       "      <th>4</th>\n",
       "      <td> Fox Chase Low-Unfavourable</td>\n",
       "      <td>  2.12122701618</td>\n",
       "      <td> 66.6069492601</td>\n",
       "      <td>    2.635667343</td>\n",
       "      <td>           None</td>\n",
       "    </tr>\n",
       "    <tr>\n",
       "      <th>5</th>\n",
       "      <td>              Fox Chase Med</td>\n",
       "      <td>  9.66691443532</td>\n",
       "      <td> 71.9494967904</td>\n",
       "      <td>  9.27248294077</td>\n",
       "      <td>           None</td>\n",
       "    </tr>\n",
       "    <tr>\n",
       "      <th>6</th>\n",
       "      <td>             Fox Chase High</td>\n",
       "      <td> 0.921244324034</td>\n",
       "      <td>         100.0</td>\n",
       "      <td> 0.724845431216</td>\n",
       "      <td> Not a good fit</td>\n",
       "    </tr>\n",
       "  </tbody>\n",
       "</table>\n",
       "</div>"
      ],
      "text/plain": [
       "                        Trial         Gamma37            D37         Gamma74  \\\n",
       "0                        RT01  0.749407591105  59.0802153444   1.13307276627   \n",
       "1                         RMH  0.782253891558   49.205192106   1.03901419754   \n",
       "2                 MD Anderson   0.76729939103  67.6123804217   2.36603250256   \n",
       "3           Fox Chase Low-All            0.01  1.82643990136  0.362256802799   \n",
       "4  Fox Chase Low-Unfavourable   2.12122701618  66.6069492601     2.635667343   \n",
       "5               Fox Chase Med   9.66691443532  71.9494967904   9.27248294077   \n",
       "6              Fox Chase High  0.921244324034          100.0  0.724845431216   \n",
       "\n",
       "         Comments  \n",
       "0            None  \n",
       "1            None  \n",
       "2            None  \n",
       "3  Not a good fit  \n",
       "4            None  \n",
       "5            None  \n",
       "6  Not a good fit  "
      ]
     },
     "execution_count": 64,
     "metadata": {},
     "output_type": "execute_result"
    }
   ],
   "source": [
    "fit_data_p = np.array([['RT01', 0.749407591105, 59.0802153444, 1.13307276627, 'None'],\n",
    "                     ['RMH', 0.782253891558, 49.205192106, 1.03901419754, 'None'],\n",
    "                     ['MD Anderson', 0.76729939103, 67.6123804217, 2.36603250256, 'None'],\n",
    "                     ['Fox Chase Low-All', 0.01, 1.82643990136, 0.362256802799, 'Not a good fit'],\n",
    "                     ['Fox Chase Low-Unfavourable', 2.12122701618, 66.6069492601, 2.635667343, 'None'],\n",
    "                     ['Fox Chase Med', 9.66691443532, 71.9494967904, 9.27248294077, 'None'],\n",
    "                     ['Fox Chase High', 0.921244324034, 100.0, 0.724845431216, 'Not a good fit']])\n",
    "#fit_data_p\n",
    "\n",
    "fit_data_p_pd = pd.DataFrame(fit_data_p, columns=['Trial', 'Gamma37','D37','Gamma74', 'Comments'])\n",
    "fit_data_p_pd"
   ]
  },
  {
   "cell_type": "code",
   "execution_count": 65,
   "metadata": {
    "collapsed": true
   },
   "outputs": [],
   "source": [
    "# Save fit parameters to excel sheet called 'output'\n",
    "\n",
    "from pandas import ExcelWriter\n",
    "writer = ExcelWriter('output.xlsx')\n",
    "fit_data_p_pd.to_excel(writer,'Sheet1')\n",
    "writer.save()"
   ]
  },
  {
   "cell_type": "markdown",
   "metadata": {
    "collapsed": true
   },
   "source": [
    "###Want to plot graph with all fits...\n",
    "- Start a new notebook with these fits now they work.\n",
    "- Want to make them into better functions eventually...\n",
    "\n"
   ]
  },
  {
   "cell_type": "code",
   "execution_count": null,
   "metadata": {
    "collapsed": true
   },
   "outputs": [],
   "source": []
  }
 ],
 "metadata": {
  "kernelspec": {
   "display_name": "Python 3",
   "language": "python",
   "name": "python3"
  },
  "language_info": {
   "codemirror_mode": {
    "name": "ipython",
    "version": 3
   },
   "file_extension": ".py",
   "mimetype": "text/x-python",
   "name": "python",
   "nbconvert_exporter": "python",
   "pygments_lexer": "ipython3",
   "version": "3.4.3"
  }
 },
 "nbformat": 4,
 "nbformat_minor": 0
}
