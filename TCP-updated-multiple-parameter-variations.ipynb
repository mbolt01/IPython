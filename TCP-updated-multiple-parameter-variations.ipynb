{
 "cells": [
  {
   "cell_type": "markdown",
   "metadata": {},
   "source": [
    "### Created all parts as functions to allow to be run multiple times with varied parameters"
   ]
  },
  {
   "cell_type": "markdown",
   "metadata": {},
   "source": [
    "### Import Required Modules "
   ]
  },
  {
   "cell_type": "code",
   "execution_count": 48,
   "metadata": {
    "collapsed": false
   },
   "outputs": [],
   "source": [
    "import numpy as np\n",
    "import matplotlib.pyplot as plt\n",
    "import scipy as sp\n",
    "\n",
    "import scipy.optimize as opt\n",
    "\n",
    "#%matplotlib qt\n",
    "# qt if plot in seperate window\n",
    "# inline if plot on page\n",
    "\n",
    "## Set the number of d.p. displayed in numpy arrays\n",
    "np.set_printoptions(precision=3)\n",
    "\n",
    "## Progress bar widget\n",
    "from IPython.html.widgets import FloatProgress\n",
    "from IPython.display import display\n",
    "\n",
    "## allow timing of events\n",
    "import time\n",
    "\n",
    "## allow export of results as csv\n",
    "import csv"
   ]
  },
  {
   "cell_type": "code",
   "execution_count": 2,
   "metadata": {
    "collapsed": true
   },
   "outputs": [],
   "source": [
    "### Alpha beta calculator - normal dist\n",
    "\n",
    "def alphacalc_normal(alphabeta, sd):\n",
    "    \"\"\"Return alphabetanew and alpha from normal distribution as specified by sd.\n",
    "    Default is beta = 0.03\n",
    "    'alphabeta' is the alphabeta ratio\n",
    "    If a negative value is returned it is resampled until positive\"\"\"\n",
    "    \n",
    "    beta = 0.03 # fixed beta in function\n",
    "    \n",
    "    ## get alpha beta to use from normal distribution\n",
    "    if sd == 0:\n",
    "        alphabetanew = alphabeta\n",
    "    else:\n",
    "        alphabetanew=np.random.normal(loc = alphabeta, scale = sd)\n",
    "    \n",
    "    ## make sure a positive value is returned\n",
    "    while alphabetanew <= 0:\n",
    "        alphabetanew=np.random.normal(loc = alphabeta, scale = sd)\n",
    "    \n",
    "    alpha = beta*alphabetanew\n",
    "   \n",
    "    return alpha, beta\n",
    "## alpha/beta can be calced form the returned alpha and beta values"
   ]
  },
  {
   "cell_type": "code",
   "execution_count": 3,
   "metadata": {
    "collapsed": true
   },
   "outputs": [],
   "source": [
    "### Alpha beta calculator - log normal dist\n",
    "\n",
    "def alphacalc_lognormal(alphabeta, sd):\n",
    "    \"\"\"Return alphabetanew and alpha from normal distribution as specified by sd.\n",
    "    Default is beta = 0.03\n",
    "    'alphabeta' is the alphabeta ratio\"\"\"\n",
    "    \n",
    "    beta = 0.02 # fixed beta in function\n",
    "    \n",
    "    alphabeta_lognormal = np.log((alphabeta**2)/(np.sqrt((sd**2)+(alphabeta**2))))\n",
    "    sd_lognormal = np.sqrt(np.log(((sd**2)/(alphabeta**2))+1))\n",
    "    \n",
    "    ## get alpha beta to use from normal distribution\n",
    "    if sd == 0:\n",
    "        alphabetanew = alphabeta\n",
    "    else:\n",
    "        alphabetanew=np.random.lognormal(mean = alphabeta_lognormal, sigma = sd_lognormal)\n",
    "    \n",
    "    alpha = beta*alphabetanew\n",
    "   \n",
    "    return alpha, beta\n",
    "## alpha/beta can be calced form the returned alpha and beta values"
   ]
  },
  {
   "cell_type": "markdown",
   "metadata": {},
   "source": [
    "###N0 varies depending on the a/b Std Dev!!!\n",
    "\n",
    "Need to rethink how to determine N0 in a simple way.\n",
    "\n",
    "- Ideally re-write entire thing to accept a set of parameters and then use these single parameters to feed into other functions.\n",
    "\n",
    "\n",
    "**Ideas**\n",
    "Could use some sort of fitting with all parameters fixed except N0.\n",
    "Then try and minimise the difference between TCP_calc and TCP_input?\n",
    "- Can set it to repeat the TCP calc for 1000 patients, then returnt he TCP at d_interest.\n",
    "- This would use just a single set of nominal parameters (as input by user/in model).\n",
    "- Only after this does the simulation of multiple parameter variations start.\n",
    "\n",
    "I cannot think of another way of doing this, as I ahve been doing it manually (trial and error) so far...\n"
   ]
  },
  {
   "cell_type": "code",
   "execution_count": 189,
   "metadata": {
    "collapsed": false
   },
   "outputs": [
    {
     "name": "stdout",
     "output_type": "stream",
     "text": [
      "[0, 1, 2, 3, 4, 5, 6, 7, 8, 9]\n",
      "test\n",
      "[ 40.     39.885  39.738  39.61   39.419  39.393  39.257  39.042  38.889\n",
      "  39.095]\n",
      "[10, 11, 12, 13, 14, 15, 16, 17, 18, 19]\n",
      "test\n",
      "[ 38.638  38.586  38.291  38.131  38.248  37.915  38.321  37.71   37.653\n",
      "  37.754]\n",
      "[20, 21, 22, 23, 24, 25, 26, 27, 28, 29]\n",
      "test\n",
      "[ 37.423  37.391  37.35   37.437  36.841  37.009  36.588  36.096  36.069\n",
      "  36.062]\n",
      "[30, 31, 32, 33, 34, 35, 36, 37, 38, 39]\n",
      "test\n",
      "[ 36.508  35.575  35.413  36.161  35.493  35.741  35.489  34.866  35.729\n",
      "  33.929]\n",
      "[40, 41, 42, 43, 44, 45, 46, 47, 48, 49]\n",
      "test\n",
      "[ 34.718  35.315  35.104  34.706  34.569  33.994  35.341  34.742  35.\n",
      "  33.269]\n",
      "[50, 51, 52, 53, 54, 55, 56, 57, 58, 59]\n",
      "test\n",
      "[ 33.791  34.344  32.941  32.885  33.92   33.043  33.578  33.616  33.77\n",
      "  32.675]\n",
      "[60, 61, 62, 63, 64, 65, 66, 67, 68, 69]\n",
      "test\n",
      "[ 31.763  32.18   31.989  31.863  31.62   32.355  30.939  31.967  31.599\n",
      "  31.624]\n",
      "[70, 71, 72, 73, 74, 75, 76, 77, 78, 79]\n",
      "test\n",
      "[ 31.327  32.271  30.021  31.574  32.272  31.645  31.45   31.142  31.54\n",
      "  29.535]\n",
      "[80, 81, 82, 83, 84, 85, 86, 87, 88, 89]\n",
      "test\n",
      "[ 30.04   31.478  29.974  31.442  29.485  31.821  31.176  30.459  30.399\n",
      "  29.667]\n",
      "[90, 91, 92, 93, 94, 95, 96, 97, 98, 99]\n",
      "test\n",
      "[ 28.182  29.445  30.032  28.37   30.482  28.774  27.854  30.489  28.297\n",
      "  28.392]\n",
      "[100, 101, 102, 103, 104, 105, 106, 107, 108, 109]\n",
      "test\n",
      "[ 27.18   26.548  29.911  29.842  29.332  29.602  28.1    25.677  27.08\n",
      "  28.069]\n",
      "[110, 111, 112, 113, 114, 115, 116, 117, 118, 119]\n",
      "test\n",
      "[ 27.851  26.184  28.302  27.271  27.193  27.494  29.363  25.552  25.808\n",
      "  26.461]\n",
      "[120, 121, 122, 123, 124, 125, 126, 127, 128, 129]\n",
      "test\n",
      "[ 28.327  25.963  27.317  24.898  25.69   27.655  28.359  24.369  27.407\n",
      "  25.663]\n",
      "[130, 131, 132, 133, 134, 135, 136, 137, 138, 139]\n",
      "test\n",
      "[ 26.054  27.445  25.096  24.146  26.415  25.244  25.342  25.929  28.152\n",
      "  26.768]\n",
      "[140, 141, 142, 143, 144, 145, 146, 147, 148, 149]\n",
      "test\n",
      "[ 21.902  25.855  27.475  25.484  24.106  24.928  24.889  25.308  24.533\n",
      "  24.815]\n",
      "[150, 151, 152, 153, 154, 155, 156, 157, 158, 159]\n",
      "test\n",
      "[ 23.028  26.699  25.207  26.693  23.92   22.569  24.479  22.568  24.263\n",
      "  22.159]\n",
      "[160, 161, 162, 163, 164, 165, 166, 167, 168, 169]\n",
      "test\n",
      "[ 24.741  24.784  23.343  27.433  22.81   24.772  26.697  20.392  21.648\n",
      "  22.018]\n",
      "[170, 171, 172, 173, 174, 175, 176, 177, 178, 179]\n",
      "test\n",
      "[ 23.211  22.037  21.955  22.746  23.725  21.204  24.875  21.883  19.251\n",
      "  21.44 ]\n",
      "[180, 181, 182, 183, 184, 185, 186, 187, 188, 189]\n",
      "test\n",
      "[ 20.533  21.8    20.08   20.208  23.039  20.567  18.079  22.095  22.31\n",
      "  21.053]\n",
      "[190, 191, 192, 193, 194, 195, 196, 197, 198, 199]\n",
      "test\n",
      "[ 19.741  16.508  19.864  20.874  20.418  17.563  22.193  19.81   20.157\n",
      "  21.004]\n",
      "[200, 201, 202, 203, 204, 205, 206, 207, 208, 209]\n",
      "test\n",
      "[ 15.736  18.02   17.345  19.517  20.103  24.069  15.515  17.145  19.266\n",
      "  18.049]\n",
      "[210, 211, 212, 213, 214, 215, 216, 217, 218, 219]\n",
      "test\n",
      "[ 15.997  22.319  15.021  19.627  20.819  17.878  17.476  19.039  15.77\n",
      "  19.658]\n",
      "[220, 221, 222, 223, 224, 225, 226, 227, 228, 229]\n",
      "test\n",
      "[ 19.098  20.422  20.246  13.817  19.83   21.796  20.848  17.416  21.849\n",
      "  14.069]\n",
      "[230, 231, 232, 233, 234, 235, 236, 237, 238, 239]\n",
      "test\n",
      "[ 12.124  19.492  16.32   18.452  18.529  15.06   19.386  19.549  14.472\n",
      "  13.152]\n",
      "[240, 241, 242, 243, 244, 245, 246, 247, 248, 249]\n",
      "test\n",
      "[ 16.836  18.241  19.672  18.142  18.599  20.52   14.655  17.495  14.178\n",
      "  15.13 ]\n",
      "[250, 251, 252, 253, 254, 255, 256, 257, 258, 259]\n",
      "test\n",
      "[ 17.286  14.062  17.387  15.712  16.659  16.044  17.351  12.107  17.533\n",
      "  16.235]\n",
      "[260, 261, 262, 263, 264, 265, 266, 267, 268, 269]\n",
      "test\n",
      "[ 18.425  13.533  14.229  17.931  17.561  14.827  18.871  16.84   17.184\n",
      "  14.389]\n",
      "[270, 271, 272, 273, 274, 275, 276, 277, 278, 279]\n",
      "test\n",
      "[ 16.23   12.392  22.131  10.681  15.878  13.019  16.169  12.072  14.869\n",
      "  10.299]\n",
      "[280, 281, 282, 283, 284, 285, 286, 287, 288, 289]\n",
      "test\n",
      "[ 12.353  15.296  14.301   8.857  16.716  16.7    13.818  10.106  13.239\n",
      "   9.7  ]\n",
      "[290, 291, 292, 293, 294, 295, 296, 297, 298, 299]\n",
      "test\n",
      "[ 12.595   9.925  15.009  12.636  15.157   9.94   11.235  13.442   8.552\n",
      "  13.478]\n",
      "[300, 301, 302, 303, 304, 305, 306, 307, 308, 309]\n",
      "test\n",
      "[ 16.255   9.983  14.295  11.564  13.67   11.17   14.781  12.754  13.576\n",
      "  12.748]\n",
      "[310, 311, 312, 313, 314, 315, 316, 317, 318, 319]\n",
      "test\n",
      "[  9.278  17.135   7.648  12.924  13.458   9.995  14.851  10.799   9.85\n",
      "  14.363]\n",
      "[320, 321, 322, 323, 324, 325, 326, 327, 328, 329]\n",
      "test\n",
      "[  9.924  15.451  14.477   8.406  13.22    9.994   9.789  10.861  10.022\n",
      "  11.611]\n",
      "[330, 331, 332, 333, 334, 335, 336, 337, 338, 339]\n",
      "test\n",
      "[ 12.741  11.477   9.057  14.26    7.185   9.922  11.367  14.32   11.071\n",
      "  12.074]\n",
      "[340, 341, 342, 343, 344, 345, 346, 347, 348, 349]\n",
      "test\n",
      "[ 14.856  10.508  10.49   11.612  11.063  11.047  13.031  15.92   16.577\n",
      "   8.299]\n",
      "[350, 351, 352, 353, 354, 355, 356, 357, 358, 359]\n",
      "test\n",
      "[  8.396  12.665   9.356   9.611   9.361   5.514   9.479   9.758   5.704\n",
      "   9.669]\n",
      "[360, 361, 362, 363, 364, 365, 366, 367, 368, 369]\n",
      "test\n",
      "[ 12.004  10.029   4.86    5.436   5.878   9.622   7.12   12.041  11.513\n",
      "  11.349]\n",
      "[370, 371, 372, 373, 374, 375, 376, 377, 378, 379]\n",
      "test\n",
      "[ 11.485   8.436  10.462  12.364   8.963   9.19    9.362   9.608   8.833\n",
      "  14.266]\n",
      "[380, 381, 382, 383, 384, 385, 386, 387, 388, 389]\n",
      "test\n",
      "[  7.491  10.835   8.268   9.613   7.163   5.248   9.364   7.375   8.448\n",
      "   8.544]\n",
      "[390, 391, 392, 393, 394, 395, 396, 397, 398, 399]\n",
      "test\n",
      "[  9.064   8.919   5.735   3.615   4.818  10.024   3.769   9.234  11.374\n",
      "  11.334]\n",
      "[400, 401, 402, 403, 404, 405, 406, 407, 408, 409]\n",
      "test\n",
      "[ 10.204   7.302   5.127   9.421   7.12   10.85    4.05    7.685   5.876\n",
      "   1.153]\n",
      "[410, 411, 412, 413, 414, 415, 416, 417, 418, 419]\n",
      "test\n",
      "[  3.162  10.185   6.522   8.186   6.064   5.896   4.742   4.944  11.31\n",
      "   5.295]\n",
      "[420, 421, 422, 423, 424, 425, 426, 427, 428, 429]\n",
      "test\n",
      "[  8.214   6.434   4.324   9.058   6.523   4.727  13.454   4.309   4.671\n",
      "   7.679]\n",
      "[430, 431, 432, 433, 434, 435, 436, 437, 438, 439]\n",
      "test\n",
      "[ 8.842  5.82   2.888  8.825  3.544  8.159  5.817  6.395  8.36   7.268]\n",
      "[440, 441, 442, 443, 444, 445, 446, 447, 448, 449]\n",
      "test\n",
      "[ 5.569  2.708  3.732  2.905  6.651  8.022  8.072  5.649  1.035  5.292]\n",
      "[450, 451, 452, 453, 454, 455, 456, 457, 458, 459]\n",
      "test\n",
      "[ 5.863  4.759  6.813  6.732  4.979  4.694  2.11   4.274  7.668  6.788]\n",
      "[460, 461, 462, 463, 464, 465, 466, 467, 468, 469]\n",
      "test\n",
      "[ 6.989  4.123  2.903  0.865  5.024  3.26   6.092  3.294  4.396  5.017]\n",
      "[470, 471, 472, 473, 474, 475, 476, 477, 478, 479]\n",
      "test\n",
      "[  8.7     7.511   2.226   7.669   8.492   5.893   4.962  10.307   6.35\n",
      "  -0.19 ]\n",
      "N0 fitted\n",
      "0.190110143846\n",
      "9\n",
      "N0: 479\n",
      "63.4637453496\n"
     ]
    }
   ],
   "source": [
    "## Determine N0 by minimising difference betwen calculate TCP and input TCP.\n",
    "\n",
    "TCP_input = 60 # TCP in percent\n",
    "\n",
    "## Return sum of squares [calc = calculation of TCP from TCP calc, ref = TCP_input]\n",
    "def sq_dif(calc, ref):\n",
    "    sq_dif = (calc - ref)**2\n",
    "    return sq_dif\n",
    "\n",
    "### Need to add something to ensure the minimum is always found, but without always having a huge list of possible values.\n",
    "## Could also start with a coarse list and refine after one sweep?\n",
    "j=1\n",
    "start = 0\n",
    "increment=10\n",
    "\n",
    "any_pos = False\n",
    "any_neg = False\n",
    "stop = False\n",
    "\n",
    "while (stop == False and j<100):\n",
    "    TCP_list = []\n",
    "       \n",
    "    a_list = list(range(start,(j*increment)))\n",
    "    print(a_list)\n",
    "    \n",
    "    for i in a_list:\n",
    "        TCP_Calc = completeTCPcalc(n=100,\n",
    "                               alphabeta_use=3,\n",
    "                               alphabeta_sd_use=1,\n",
    "                               d=2,\n",
    "                               d_shift=0,\n",
    "                               d_sd=1,\n",
    "                               n0=i, # this needs to be able to vary to allow optimisation\n",
    "                               max_d=100,\n",
    "                               dose_of_interest=74)\n",
    "        TCP_list.append(TCP_Calc[10])\n",
    "\n",
    "    dif_list = np.array(TCP_list)-TCP_input\n",
    "    dif_list_abs = abs(np.array(TCP_list)-TCP_input)\n",
    "    print(\"test\")\n",
    "    print(dif_list)\n",
    "\n",
    "    any_pos = np.any(dif_list >0)\n",
    "    any_neg = np.any(dif_list <0)\n",
    "    \n",
    "    if (any_pos == True and any_neg == True):\n",
    "        stop = True\n",
    "        #break\n",
    "    \n",
    "    j = j+1 # increment list to lookup\n",
    "    start = start + increment\n",
    "    \n",
    "print(\"N0 fitted\")\n",
    "## can use the following to check if the minimum has been found by cehckign for + and - differences.\n",
    "\n",
    "\n",
    "#dif_list[:] = [x-TCP_input for x in TCP_list]\n",
    "\n",
    "#a[:] = [x - 13 for x in a]\n",
    "    \n",
    "### Now want to \n",
    "\n",
    "#tester = sp.optimize.minimize(sq_dif(TCP_Calc(x),TCP_input))\n",
    "print(min(dif_list_abs)) # minimum difference found.\n",
    "print(np.argmin(dif_list_abs))# index of minimum found\n",
    "print(\"N0: \" + str(a_list[np.argmin(dif_list_abs)]))\n",
    "\n",
    "## So n0 = a_list[np.argmin(dif_list)]\n",
    "\n",
    "TCP_Calc_min = completeTCPcalc(n=1000,\n",
    "                           alphabeta_use=3,\n",
    "                           alphabeta_sd_use=1,\n",
    "                           d=2,\n",
    "                           d_shift=0,\n",
    "                           d_sd=1,\n",
    "                           n0=a_list[np.argmin(dif_list_abs)], # this needs to be able to vary to allow optimisation\n",
    "                           max_d=100,\n",
    "                           dose_of_interest=74)\n",
    "print(TCP_Calc_min[10])\n"
   ]
  },
  {
   "cell_type": "code",
   "execution_count": 346,
   "metadata": {
    "collapsed": true
   },
   "outputs": [],
   "source": [
    "## function to calculate the difference between input TCP and calculated TCP. only N0 is varied as want to estimate this.\n",
    "def calc_dif_sq(x,*TCP):\n",
    "    TCP_in = TCP\n",
    "    \n",
    "    TCP_calc_all = completeTCPcalc(n=2000,\n",
    "                               alphabeta_use=3,\n",
    "                               alphabeta_sd_use=1,\n",
    "                               d=2,\n",
    "                               d_shift=0,\n",
    "                               d_sd=1,\n",
    "                               n0=x, # this needs to be able to vary to allow optimisation of the value\n",
    "                               max_d=100,\n",
    "                               dose_of_interest=74)\n",
    "    TCP_result = TCP_calc_all[10] ## Get only the result of interest (N0 is in posn. 10 int he returned tuple)\n",
    "    \n",
    "    TCP_Dif_sq = (TCP_in - TCP_result)**2 ## difference in squares to minimise\n",
    "    return TCP_Dif_sq"
   ]
  },
  {
   "cell_type": "code",
   "execution_count": 347,
   "metadata": {
    "collapsed": false
   },
   "outputs": [
    {
     "name": "stdout",
     "output_type": "stream",
     "text": [
      "Fitting N0: 100% complete\n",
      "N0 mean fit: 446.143404938\n",
      "TCP target: 65\n",
      "TCP fit check: 65.1468498328\n"
     ]
    }
   ],
   "source": [
    "## Determine N0 by minimising difference betwen calculate TCP and input TCP.\n",
    "\n",
    "## TCP to fit N0 to. This will come from the literature.\n",
    "TCP_input = 65\n",
    "\n",
    "## Run optimisation multiple times to ensure accuracy (as based on random data)\n",
    "repeats = 50\n",
    "## store the fit results in this list\n",
    "fit_results=[]\n",
    "\n",
    "for i in range(0,repeats):\n",
    "    N0_result = opt.minimize_scalar(calc_dif_sq,method='brent',args=(TCP_input))\n",
    "    fit_results.append(N0_result.x[0]) ## build up a list of the N0 fit results\n",
    "    no_fit_perc_completed = 100*i/repeats  ## Display the progress\n",
    "    print(\"Fitting N0: \" + str(int(no_fit_perc_completed)) + \"% complete\", end=\"\\r\")\n",
    "    \n",
    "print(\"Fitting N0: 100% complete\")\n",
    "\n",
    "## Remove outliers from N0 predictions (based on keeping the central 30% of results (within ~0.5 SD))\n",
    "trimmed = fit_results[:]\n",
    "while len(trimmed)>0.3*len(fit_results):\n",
    "    trimmed.remove(max(trimmed))\n",
    "    trimmed.remove(min(trimmed))\n",
    "\n",
    "## Calculate mean of remaining results\n",
    "N0_mean_fit=sum(trimmed)/len(trimmed)\n",
    "print(\"N0 mean fit: \" + str(N0_mean_fit))\n",
    "\n",
    "## Perform check calculation\n",
    "TCP_Calc_min = completeTCPcalc(n=50000,\n",
    "                           alphabeta_use=3,\n",
    "                           alphabeta_sd_use=1,\n",
    "                           d=2,\n",
    "                           d_shift=0,\n",
    "                           d_sd=1,\n",
    "                           n0=N0_mean_fit, # this needs to be able to vary to allow optimisation\n",
    "                           max_d=100,\n",
    "                           dose_of_interest=74)\n",
    "print('TCP target: ' + str(TCP_input))\n",
    "print('TCP fit check: ' + str(TCP_Calc_min[10]))"
   ]
  },
  {
   "cell_type": "code",
   "execution_count": 348,
   "metadata": {
    "collapsed": false
   },
   "outputs": [
    {
     "name": "stdout",
     "output_type": "stream",
     "text": [
      "64.9320412719\n",
      "65.2626169434\n",
      "65.2199295191\n",
      "65.0867840359\n",
      "65.2282218781\n"
     ]
    }
   ],
   "source": [
    "for i in range(5):\n",
    "    TCP_Calc_min = completeTCPcalc(n=50000,\n",
    "                               alphabeta_use=3,\n",
    "                               alphabeta_sd_use=1,\n",
    "                               d=2,\n",
    "                               d_shift=0,\n",
    "                               d_sd=1,\n",
    "                               n0=N0_mean_fit, # this needs to be able to vary to allow optimisation\n",
    "                               max_d=100,\n",
    "                               dose_of_interest=74)\n",
    "    print(TCP_Calc_min[10])"
   ]
  },
  {
   "cell_type": "code",
   "execution_count": 368,
   "metadata": {
    "collapsed": false
   },
   "outputs": [],
   "source": [
    "import matplotlib.pyplot as plt\n",
    "\n",
    "plt.hist(fit_results)\n",
    "plt.hist(trimmed)\n",
    "plt.show()"
   ]
  },
  {
   "cell_type": "markdown",
   "metadata": {},
   "source": [
    "### a/b SD\n",
    "This parameter makes a significant difference to the N0 and the TCP values"
   ]
  },
  {
   "cell_type": "code",
   "execution_count": 4,
   "metadata": {
    "collapsed": true
   },
   "outputs": [],
   "source": [
    "## N0 determination from entered TCP model parameters\n",
    "def n0_determination(TCP,d=2,D=74,ab=3,b=0.02):\n",
    "    \"\"\"Determine the value of N0 from the input of the\n",
    "    nominal TCP model input parameters.\n",
    "    This enables the model to match that of clinical trials data if input.\"\"\"\n",
    "    a = b * ab #ab ratio = a/b\n",
    "    n0 = -np.log(TCP)/np.exp(-(a*D)-(b*d*D))\n",
    "    return n0"
   ]
  },
  {
   "cell_type": "code",
   "execution_count": 5,
   "metadata": {
    "collapsed": false
   },
   "outputs": [
    {
     "name": "stdout",
     "output_type": "stream",
     "text": [
      "209.133405424\n"
     ]
    }
   ],
   "source": [
    "abc = n0_determination(0.88,2,74,3,0.02)\n",
    "print(abc)"
   ]
  },
  {
   "cell_type": "code",
   "execution_count": 6,
   "metadata": {
    "collapsed": false
   },
   "outputs": [
    {
     "name": "stdout",
     "output_type": "stream",
     "text": [
      "0.198042200435\n"
     ]
    }
   ],
   "source": [
    "tester = np.array([])\n",
    "tester2 = np.array([])\n",
    "\n",
    "n2=10000\n",
    "\n",
    "mean_n = 10\n",
    "sd_n = 2\n",
    "\n",
    "### mean and sd required for lognormal calc as described here: http://uk.mathworks.com/help/stats/lognstat.html?refresh=true\n",
    "mean_l = np.log((mean_n**2)/(np.sqrt((sd_n**2)+(mean_n**2))))\n",
    "sd_l = np.sqrt(np.log(((sd_n**2)/(mean_n**2))+1))\n",
    "\n",
    "for i in range(0,n2):\n",
    "    tester = np.append(tester,[np.random.normal(mean_n,sd_n)])\n",
    "    tester2 = np.append(tester2,[np.random.lognormal(mean_l,sd_l)])\n",
    "    \n",
    "#tester = np.reshape(tester,(n2,12))\n",
    "#tester2 = np.reshape(tester2,(n2,2))\n",
    "#print(tester)\n",
    "\n",
    "print(sd_l)\n",
    "\n",
    "#plt.hist(tester, bins=30, color='red', alpha=0.5, label='norm')\n",
    "#plt.hist(tester2, bins=30, color='blue', alpha=0.5, label='lognorm')\n",
    "#plt.legend()\n",
    "##print(tester2)\n",
    "#plt.show()"
   ]
  },
  {
   "cell_type": "code",
   "execution_count": 7,
   "metadata": {
    "collapsed": false
   },
   "outputs": [],
   "source": [
    "###calculate dose for a given fraction based on normal distribution around dose shift\n",
    "### Log normal distribution not necessary as SD small wrt mean so v unlikely to get negative values returned.\n",
    "### Could also set a limit on the range (say to +/- 5%)? But wont make much difference with a small SD anyway.\n",
    "\n",
    "def fracdose(dose, shift, sd):\n",
    "    \"\"\"Return dose_actual from normal distribution around dose (Gy) as specified by sd (%) and shift (%).\n",
    "    Default is dose = 2Gy, shift = 0%, and sd of 0%\n",
    "    If a negative value is returned it is resampled until positive\n",
    "    The standard deviation is of the nominal dose\"\"\"\n",
    "    \n",
    "    ## get actual dose to use from normal distribution based on shift\n",
    "    \n",
    "    dose_shift = dose + (dose*shift/100)\n",
    "    \n",
    "    ## if sd is zero, then no change to dose\n",
    "    if sd == 0:\n",
    "        dose_actual = dose_shift\n",
    "        return dose_actual\n",
    "    \n",
    "    dose_actual=np.random.normal(loc = dose_shift, scale = (dose*sd/100))\n",
    "    \n",
    "    ## make sure a positive value is returned\n",
    "    while dose_actual <= 0:\n",
    "        dose_actual=np.random.normal(loc = dose_shift, scale = (dose*sd/100))\n",
    "    \n",
    "    return dose_actual"
   ]
  },
  {
   "cell_type": "code",
   "execution_count": 8,
   "metadata": {
    "collapsed": true
   },
   "outputs": [],
   "source": [
    "## Survival Fraction Calculation\n",
    "def SFcalc(alpha, beta, dose):\n",
    "    \"\"\"Return the SF with input values.\n",
    "    Note this is for a single dose delivery.\n",
    "    The product of multiple fractions shoudld be taken\n",
    "    to give overall SF\"\"\"\n",
    "    \n",
    "    SF = np.exp(-(alpha*dose) - (beta*(dose**2)))\n",
    "    \n",
    "    return SF"
   ]
  },
  {
   "cell_type": "code",
   "execution_count": 9,
   "metadata": {
    "collapsed": true
   },
   "outputs": [],
   "source": [
    "## TCP Calculation absed on cumulative SF\n",
    "def TCPcalc(sf, n0):\n",
    "    \"\"\"Return the TCP with input values.\n",
    "    Based on cumulative SF and N0\"\"\"\n",
    "    \n",
    "    TCP = np.exp(-n0*sf)\n",
    "    \n",
    "    return TCP"
   ]
  },
  {
   "cell_type": "code",
   "execution_count": 10,
   "metadata": {
    "collapsed": true
   },
   "outputs": [],
   "source": [
    "## Calc Number of fractions to get to max dose (note: round up as always want an integer)\n",
    "\n",
    "def no_frac_nom_doses_array(max_d, d):\n",
    "    n_frac = np.ceil(max_d/d)\n",
    "\n",
    "    fractions = np.arange(1,n_frac+1)\n",
    "    #print(fractions)\n",
    "    nom_doses = np.arange(d,(d*n_frac)+d, step = d)\n",
    "    #print(nom_doses)\n",
    "    return fractions, nom_doses, n_frac"
   ]
  },
  {
   "cell_type": "code",
   "execution_count": 11,
   "metadata": {
    "collapsed": false
   },
   "outputs": [],
   "source": [
    "## This gives a column with the patient number and makes it easier to check values as going\n",
    "\n",
    "def create_patients(n):\n",
    "    \n",
    "    if n<1:\n",
    "        n=1\n",
    "    patients = np.arange(0,n)+1\n",
    "    patients.shape=(n,1)\n",
    "    #print(patients)\n",
    "    return patients"
   ]
  },
  {
   "cell_type": "code",
   "execution_count": 12,
   "metadata": {
    "collapsed": true
   },
   "outputs": [],
   "source": [
    "## empty array to store alpha values in (log normal distribution to be used)\n",
    "\n",
    "def create_alpha_beta_array(n, alphabeta_use, alphabeta_sd_use):\n",
    "    alpha_and_beta =[]\n",
    "\n",
    "    for p in range(0,n):\n",
    "        #alpha_and_beta = np.append(alpha_and_beta,[alphacalc_normal(alphabeta = alphabeta_use, sd=alphabeta_sd_use)])\n",
    "        alpha_and_beta.append([alphacalc_lognormal(alphabeta = alphabeta_use, sd=alphabeta_sd_use)])\n",
    "\n",
    "    ## reshape to get a row per patient\n",
    "    alpha_and_beta_np = np.array(alpha_and_beta)\n",
    "    alpha_and_beta_np = np.reshape(alpha_and_beta_np,(n,2))\n",
    "    #print(alpha_and_beta)\n",
    "    return alpha_and_beta_np"
   ]
  },
  {
   "cell_type": "code",
   "execution_count": 13,
   "metadata": {
    "collapsed": true
   },
   "outputs": [],
   "source": [
    "## Calculate Doses for all patients and all fractions and put in an array\n",
    "\n",
    "def doses_array(n, n_frac, d, d_shift, d_sd):\n",
    "    doses = []\n",
    "    for i in range(0,int(n*n_frac)):\n",
    "        doses.append(fracdose(dose = d, shift=d_shift, sd=d_sd))\n",
    "    doses_np = np.array(doses)\n",
    "    doses_np = np.reshape(doses_np,(n,n_frac))\n",
    "    #print(doses)\n",
    "    return doses_np"
   ]
  },
  {
   "cell_type": "code",
   "execution_count": 14,
   "metadata": {
    "collapsed": true
   },
   "outputs": [],
   "source": [
    "## Combine all results into single array which may be easier to work with for analysis\n",
    "\n",
    "def combine_results(patients, alpha_and_beta, doses):\n",
    "    results_wanted = (patients,alpha_and_beta, doses)\n",
    "    all_results = np.concatenate(results_wanted, axis=1)\n",
    "    #print(all_results)\n",
    "    return all_results"
   ]
  },
  {
   "cell_type": "code",
   "execution_count": 15,
   "metadata": {
    "collapsed": true
   },
   "outputs": [],
   "source": [
    "## Loop through the doses of the first patient (first row [0] of array)\n",
    "def calc_all_SFs(patients, n, n_frac, alpha_and_beta, doses):\n",
    "    SFs = []\n",
    "\n",
    "    for i in range(0,len(patients)): # loop through each patient (row)\n",
    "        for j in range(0,int(n_frac)): # loop through each fraction for each patient (col)\n",
    "            SFs.append(SFcalc(alpha_and_beta[i][0],alpha_and_beta[i][1],doses[i,j]))\n",
    "\n",
    "    SFs_np = np.array(SFs)\n",
    "    SFs_np = np.reshape(SFs_np,(n,n_frac))\n",
    "\n",
    "    ## GEt cumulative SF for each patient\n",
    "    SF_cum = np.cumprod(SFs_np, axis=1)\n",
    "    return SFs_np, SF_cum"
   ]
  },
  {
   "cell_type": "code",
   "execution_count": 16,
   "metadata": {
    "collapsed": true
   },
   "outputs": [],
   "source": [
    "## append results to text file.\n",
    "\n",
    "def saveasCSV(filename, array):\n",
    "\n",
    "    fl = open(filename, 'a', newline='\\n')\n",
    "\n",
    "    writer = csv.writer(fl)\n",
    "    writer.writerow(array)\n",
    "\n",
    "    fl.close()"
   ]
  },
  {
   "cell_type": "code",
   "execution_count": 17,
   "metadata": {
    "collapsed": false
   },
   "outputs": [],
   "source": [
    "## Calc Number of fractions and nominal dose per fraction to get to max dose\n",
    "    \n",
    "def completeTCPcalc(n,\n",
    "                   alphabeta_use,\n",
    "                   alphabeta_sd_use,\n",
    "                   d,\n",
    "                   d_shift,\n",
    "                   d_sd,\n",
    "                   n0,\n",
    "                   max_d,\n",
    "                   dose_of_interest):\n",
    "    \n",
    "    fractions, nom_doses, n_frac = no_frac_nom_doses_array(max_d,d)\n",
    "\n",
    "    ## create array containing number of patients in population\n",
    "    patients = create_patients(n)\n",
    "\n",
    "    ## Creat array of alpha and veta values for each patient\n",
    "    alpha_and_beta = create_alpha_beta_array(n, alphabeta_use, alphabeta_sd_use)\n",
    "\n",
    "    ## array of doses after each fraction for each patient\n",
    "    doses = doses_array(n, n_frac, d, d_shift, d_sd)\n",
    "\n",
    "    ## put all results in an array with a patient on each row\n",
    "    all_results = combine_results(patients, alpha_and_beta, doses)\n",
    "\n",
    "    ## Calc cumulative SF for all patients (also return individual fraction SFs)\n",
    "    SFs, SF_cum = calc_all_SFs(patients, n, n_frac, alpha_and_beta, doses)\n",
    "\n",
    "    ## Calculate TCP for all individual patients and fractions\n",
    "    TCPs = TCPcalc(sf = SF_cum, n0=n0)\n",
    "\n",
    "    ## Calculate population TCP by averaging down the columns\n",
    "    TCP_pop = np.mean(TCPs, axis = 0)\n",
    "\n",
    "    frac_of_interest = dose_of_interest/d\n",
    "\n",
    "    TCP_at_dose_of_interest = TCP_pop[frac_of_interest]\n",
    "\n",
    "    #t_end = time.time()\n",
    "\n",
    "    #t_total = t_end-t_start\n",
    "    #print(str(round(t_total,2)) + ' secs for ' + str(n) + ' patients')\n",
    "\n",
    "    TCPs_of_interest = TCPs[:,frac_of_interest-1]\n",
    "\n",
    "    TCP_cure = (TCPs_of_interest).sum()\n",
    "    TCP_cure_percent = 100*TCP_cure/n\n",
    "    \n",
    "    return n,alphabeta_use,alphabeta_sd_use,d,d_shift,d_sd,n0,max_d,dose_of_interest,frac_of_interest,TCP_cure_percent, TCPs, TCP_pop, nom_doses"
   ]
  },
  {
   "cell_type": "code",
   "execution_count": 18,
   "metadata": {
    "collapsed": false
   },
   "outputs": [],
   "source": [
    "## Plot of individual and population TCPs as a function for ease\n",
    "\n",
    "def TCP_plot(no_ind_plots, label):\n",
    "    #no_ind_plots = 50\n",
    "\n",
    "    ## individual plots cannot be more than total patients\n",
    "    if(no_ind_plots>n):\n",
    "        no_ind_plots=n\n",
    "\n",
    "    ## want to select the individual plots randomly from those calcualted...\n",
    "    ind_plots = np.random.choice(len(TCPs),no_ind_plots, replace=False)\n",
    "\n",
    "    ## individuals (specified number of plots chosen)\n",
    "    for i in ind_plots:\n",
    "        plt.plot(nom_doses,TCPs[i], color = 'grey', alpha = 0.5)\n",
    "    ## population\n",
    "    plt.plot(nom_doses,TCP_pop, color='black', linewidth='2', alpha=0.5)\n",
    "    plt.plot(nom_doses,TCP_pop, marker = 'o', ls='none', label=label)\n",
    "\n",
    "    ## plot formatting\n",
    "    plt.xlim(0,max(nom_doses))\n",
    "    plt.ylim(0,1.0)\n",
    "    plt.xlabel('Dose (Gy)')\n",
    "    plt.ylabel('TCP')\n",
    "    plt.title('TCPs')\n",
    "    #plt.legend(loc = 'best', fontsize = 'medium', framealpha = 1)\n",
    "    plt.axvline(d_interest, color = 'black', ls='--',)\n",
    "    plt.axhline(TCP_pop[frac_interest-1], color='black', ls='--')\n",
    "\n",
    "    ## add labels with TCP at dose of interest\n",
    "    text_string = ('Pop. TCP = ' + str(round(TCP_cure_at_d_interest,2)) + ' % at ' + str(d_interest) + 'Gy')\n",
    "    plt.text(5,0.4,text_string, backgroundcolor='white')\n",
    "    plt.legend(loc = 'lower left',numpoints=1)\n",
    "\n",
    "    plt.show()"
   ]
  },
  {
   "cell_type": "markdown",
   "metadata": {},
   "source": [
    "### Calcualte and Plot results of single set of parameters"
   ]
  },
  {
   "cell_type": "code",
   "execution_count": 21,
   "metadata": {
    "collapsed": false
   },
   "outputs": [
    {
     "name": "stdout",
     "output_type": "stream",
     "text": [
      "Enter Dose Shift (%)\n",
      "0\n"
     ]
    }
   ],
   "source": [
    "### Individual calculation of TCP at a set value of dose\n",
    "\n",
    "n_rpts = 1\n",
    "\n",
    "print(\"Enter Dose Shift (%)\")\n",
    "applied_shift = float(input())\n",
    "\n",
    "text_string = (\"Shift: \" + str(applied_shift) + \"%\")\n",
    "\n",
    "for i in range(0,n_rpts):\n",
    "    t = completeTCPcalc(n = 1000,\n",
    "                    alphabeta_use = 3,\n",
    "                    alphabeta_sd_use = 2,\n",
    "                    d = 2,\n",
    "                    d_shift = applied_shift, # +1.6,-2.1% from OP data\n",
    "                    d_sd = 0,\n",
    "                    n0 = 100,\n",
    "                    max_d = 100,\n",
    "                    dose_of_interest = 74)\n",
    "\n",
    "    n=t[0]\n",
    "    TCP_pop = t[-2]\n",
    "    TCPs = t[-3]\n",
    "    nom_doses = t[-1]\n",
    "    d_interest = t[8]\n",
    "    frac_interest = t[9]\n",
    "    TCP_cure_at_d_interest = t[10]\n",
    "\n",
    "\n",
    "\n",
    "    #print(TCP_pop)\n",
    "    TCP_plot(0,text_string)"
   ]
  },
  {
   "cell_type": "markdown",
   "metadata": {},
   "source": [
    "### User iterator to build list to vary multiple parameters in one go"
   ]
  },
  {
   "cell_type": "code",
   "execution_count": 22,
   "metadata": {
    "collapsed": false
   },
   "outputs": [],
   "source": [
    "## Round to nearest n (e.g. nearest 50 n=50)\n",
    "def round_n(x,n):\n",
    "    return int(round(x / n)) * n"
   ]
  },
  {
   "cell_type": "code",
   "execution_count": 23,
   "metadata": {
    "collapsed": false
   },
   "outputs": [
    {
     "name": "stdout",
     "output_type": "stream",
     "text": [
      "195\n",
      "[ 200.  210.  220.]\n"
     ]
    }
   ],
   "source": [
    "## will need to iterate over all the values and add them to a list.\n",
    "\n",
    "## This allows simple building of a tuple containing all possible combinations of values\n",
    "import itertools\n",
    "\n",
    "## dose shifts to test\n",
    "dose_var = 0.5 # dose step size\n",
    "dose_max = 3\n",
    "dose_min = -dose_max\n",
    "dose_number = (dose_max-dose_min)/dose_var+1 # number of points\n",
    "\n",
    "dose_vals = np.linspace(dose_min,dose_max,dose_number) # dose values to test\n",
    "\n",
    "## alphabeta values to test\n",
    "ab_var = 0.5 # step size\n",
    "ab_max = 4\n",
    "ab_min = 2\n",
    "ab_number = (ab_max-ab_min)/ab_var+1 # number of points\n",
    "ab_vals = np.linspace(ab_min,ab_max,ab_number) # different a/b values to test\n",
    "\n",
    "## dose of interest to test\n",
    "di_var = 1 # dose step size\n",
    "di_max = 74\n",
    "di_min = 74\n",
    "di_number = (di_max-di_min)/di_var+1 # number of points\n",
    "di_vals = np.linspace(di_min,di_max,di_number)\n",
    "\n",
    "## N0 values - determined from TCP model paramters input (from clinical data - coudl get form text file etc?)\n",
    "n0_nominal = n0_determination(TCP=0.88,d=2,D=74,ab=3,b=0.02)\n",
    "n0_var = 10\n",
    "n0_range = 5 #percentage variation\n",
    "n0_min = round_n(n0_nominal * (1-n0_range/100),n0_var)\n",
    "n0_max = round_n(n0_nominal * (1+n0_range/100),n0_var)\n",
    "n0_number = (n0_max-n0_min)/n0_var+1\n",
    "n0_vals = np.linspace(n0_min,n0_max,n0_number)\n",
    "\n",
    "total_tests = len(dose_vals)*len(ab_vals)*len(di_vals)*len(n0_vals)\n",
    "test_val_iterator = itertools.product(dose_vals,ab_vals,di_vals,n0_vals)\n",
    "\n",
    "test_vals = list(test_val_iterator) #list of all combinations of parameters\n",
    "num_its = len(test_vals) #number of iterations\n",
    "    \n",
    "print(num_its)\n",
    "print(n0_vals)"
   ]
  },
  {
   "cell_type": "code",
   "execution_count": 24,
   "metadata": {
    "collapsed": true
   },
   "outputs": [],
   "source": [
    "from datetime import datetime"
   ]
  },
  {
   "cell_type": "code",
   "execution_count": 25,
   "metadata": {
    "collapsed": false
   },
   "outputs": [
    {
     "name": "stdout",
     "output_type": "stream",
     "text": [
      "Completed\n",
      "38.649332\n"
     ]
    }
   ],
   "source": [
    "## vary multiple values through use of constructer iterator list above.\n",
    "\n",
    "t1 = datetime.now()\n",
    "\n",
    "k = 10 # number of repeats\n",
    "\n",
    "f = FloatProgress(min=0, max=num_its)\n",
    "display(f)\n",
    "\n",
    "f1 = FloatProgress(min=0, max=k-1)\n",
    "display(f1)\n",
    "\n",
    "barpos = 1\n",
    "\n",
    "all_test_results_array = np.array([]) # array to store all results in before saving as excel csv file\n",
    "all_test_results_array = []\n",
    "\n",
    "for j in test_vals:\n",
    "    #results_array = np.array([])\n",
    "    results_array = []\n",
    "    \n",
    "    for i in range(0,k):\n",
    "        t = completeTCPcalc(n = 50,\n",
    "                        alphabeta_use = j[1],\n",
    "                        alphabeta_sd_use = 2,\n",
    "                        d = 2,\n",
    "                        d_shift = j[0],\n",
    "                        d_sd = 1,\n",
    "                        n0 = j[3],\n",
    "                        max_d = 100,\n",
    "                        dose_of_interest = j[2])\n",
    "        results_array.append(TCP_cure_at_d_interest)\n",
    "        f1.value = i    \n",
    "\n",
    "        n=t[0]\n",
    "        alphabeta_use = t[1]\n",
    "        alphabeta_sd_use = t[2]\n",
    "        d = t[3]\n",
    "        d_shift = t[4]\n",
    "        d_sd = t[5]\n",
    "        n0 = t[6]\n",
    "        TCP_pop = t[-2]\n",
    "        TCPs = t[-3]\n",
    "        nom_doses = t[-1]\n",
    "        d_interest = t[8]\n",
    "        frac_interest = t[9]\n",
    "        TCP_cure_at_d_interest = t[10]\n",
    "        max_d = 100\n",
    "\n",
    "        param_array = []\n",
    "        param_array.append(n)\n",
    "        param_array.append(k)\n",
    "        param_array.append(alphabeta_use)\n",
    "        param_array.append(alphabeta_sd_use)\n",
    "        param_array.append(d)\n",
    "        param_array.append(d_shift)\n",
    "        param_array.append(d_sd)\n",
    "        param_array.append(n0)\n",
    "        param_array.append(max_d)\n",
    "        param_array.append(d_interest)\n",
    "\n",
    "    ## Array containing results form a single set of parameters (this will update each iteration)\n",
    "    param_array.extend(results_array)\n",
    "    param_results_array = param_array\n",
    "    \n",
    "    ## Create an array containing all the results for all sets of parameters\n",
    "    all_test_results_array.extend(param_results_array)\n",
    "    \n",
    "    # for updating progress bar\n",
    "    barpos = barpos+1\n",
    "    f.value = barpos\n",
    "\n",
    "#print(param_results_array[-1])\n",
    "\n",
    "## Covnert to Numpy array and reshape so a single set of parameters is on one row\n",
    "all_test_results_array_np = np.array(all_test_results_array)\n",
    "all_test_results_array_np = np.reshape(all_test_results_array_np,(num_its,len(all_test_results_array_np)/num_its))\n",
    "\n",
    "## Save results to file\n",
    "np.savetxt(\"TCPresultsProst-all_results1.csv\", all_test_results_array_np, delimiter=\",\",fmt='%10.3f')\n",
    "print(\"Completed\")\n",
    "\n",
    "t2 = datetime.now()\n",
    "t3 = (t2-t1).total_seconds()\n",
    "\n",
    "print(t3)"
   ]
  },
  {
   "cell_type": "code",
   "execution_count": null,
   "metadata": {
    "collapsed": true
   },
   "outputs": [],
   "source": []
  }
 ],
 "metadata": {
  "kernelspec": {
   "display_name": "Python 3",
   "language": "python",
   "name": "python3"
  },
  "language_info": {
   "codemirror_mode": {
    "name": "ipython",
    "version": 3
   },
   "file_extension": ".py",
   "mimetype": "text/x-python",
   "name": "python",
   "nbconvert_exporter": "python",
   "pygments_lexer": "ipython3",
   "version": "3.4.4"
  }
 },
 "nbformat": 4,
 "nbformat_minor": 0
}
