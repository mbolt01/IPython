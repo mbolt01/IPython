{
 "cells": [
  {
   "cell_type": "markdown",
   "metadata": {},
   "source": [
    "### Created all parts as functions to allow to be run multiple times with varied parameters"
   ]
  },
  {
   "cell_type": "markdown",
   "metadata": {},
   "source": [
    "### Import Required Modules "
   ]
  },
  {
   "cell_type": "code",
   "execution_count": 1,
   "metadata": {
    "collapsed": false
   },
   "outputs": [
    {
     "name": "stderr",
     "output_type": "stream",
     "text": [
      ":0: FutureWarning: IPython widgets are experimental and may change in the future.\n"
     ]
    }
   ],
   "source": [
    "import numpy as np\n",
    "import matplotlib.pyplot as plt\n",
    "\n",
    "%matplotlib qt\n",
    "# qt if plot in seperate window\n",
    "# inline if plot on page\n",
    "\n",
    "## Set the number of d.p. displayed in numpy arrays\n",
    "np.set_printoptions(precision=3)\n",
    "\n",
    "## Progress bar widget\n",
    "from IPython.html.widgets import FloatProgress\n",
    "from IPython.display import display\n",
    "\n",
    "## allow timing of events\n",
    "import time\n",
    "\n",
    "## allow export of results as csv\n",
    "import csv"
   ]
  },
  {
   "cell_type": "code",
   "execution_count": 203,
   "metadata": {
    "collapsed": true
   },
   "outputs": [],
   "source": [
    "### Alpha beta calculator - normal dist\n",
    "\n",
    "def alphacalc_normal(alphabeta, sd):\n",
    "    \"\"\"Return alphabetanew and alpha from normal distribution as specified by sd.\n",
    "    Default is beta = 0.03\n",
    "    'alphabeta' is the alphabeta ratio\n",
    "    If a negative value is returned it is resampled until positive\"\"\"\n",
    "    \n",
    "    beta = 0.03 # fixed beta in function\n",
    "    \n",
    "    ## get alpha beta to use from normal distribution\n",
    "    if sd == 0:\n",
    "        alphabetanew = alphabeta\n",
    "    else:\n",
    "        alphabetanew=np.random.normal(loc = alphabeta, scale = sd)\n",
    "    \n",
    "    ## make sure a positive value is returned\n",
    "    while alphabetanew <= 0:\n",
    "        alphabetanew=np.random.normal(loc = alphabeta, scale = sd)\n",
    "    \n",
    "    alpha = beta*alphabetanew\n",
    "   \n",
    "    return alpha, beta\n",
    "## alpha/beta can be calced form the returned alpha and beta values"
   ]
  },
  {
   "cell_type": "code",
   "execution_count": 204,
   "metadata": {
    "collapsed": true
   },
   "outputs": [],
   "source": [
    "### Alpha beta calculator - log normal dist\n",
    "\n",
    "def alphacalc_lognormal(alphabeta, sd):\n",
    "    \"\"\"Return alphabetanew and alpha from normal distribution as specified by sd.\n",
    "    Default is beta = 0.03\n",
    "    'alphabeta' is the alphabeta ratio\"\"\"\n",
    "    \n",
    "    beta = 0.03 # fixed beta in function\n",
    "    \n",
    "    alphabeta_lognormal = np.log((alphabeta**2)/(np.sqrt((sd**2)+(alphabeta**2))))\n",
    "    sd_lognormal = np.sqrt(np.log(((sd**2)/(alphabeta**2))+1))\n",
    "    \n",
    "    ## get alpha beta to use from normal distribution\n",
    "    if sd == 0:\n",
    "        alphabetanew = alphabeta\n",
    "    else:\n",
    "        alphabetanew=np.random.lognormal(mean = alphabeta_lognormal, sigma = sd_lognormal)\n",
    "    \n",
    "    alpha = beta*alphabetanew\n",
    "   \n",
    "    return alpha, beta\n",
    "## alpha/beta can be calced form the returned alpha and beta values"
   ]
  },
  {
   "cell_type": "code",
   "execution_count": 202,
   "metadata": {
    "collapsed": false
   },
   "outputs": [
    {
     "name": "stdout",
     "output_type": "stream",
     "text": [
      "0.198042200435\n"
     ]
    }
   ],
   "source": [
    "tester = np.array([])\n",
    "tester2 = np.array([])\n",
    "\n",
    "n2=10000\n",
    "\n",
    "mean_n = 10\n",
    "sd_n = 2\n",
    "\n",
    "### mean and sd required for lognormal calc as described here: http://uk.mathworks.com/help/stats/lognstat.html?refresh=true\n",
    "mean_l = np.log((mean_n**2)/(np.sqrt((sd_n**2)+(mean_n**2))))\n",
    "sd_l = np.sqrt(np.log(((sd_n**2)/(mean_n**2))+1))\n",
    "\n",
    "for i in range(0,n2):\n",
    "    tester = np.append(tester,[np.random.normal(mean_n,sd_n)])\n",
    "    tester2 = np.append(tester2,[np.random.lognormal(mean_l,sd_l)])\n",
    "    \n",
    "#tester = np.reshape(tester,(n2,12))\n",
    "#tester2 = np.reshape(tester2,(n2,2))\n",
    "#print(tester)\n",
    "\n",
    "print(sd_l)\n",
    "\n",
    "plt.hist(tester, bins=30, color='red', alpha=0.5, label='norm')\n",
    "plt.hist(tester2, bins=30, color='blue', alpha=0.5, label='lognorm')\n",
    "plt.legend()\n",
    "#print(tester2)\n",
    "plt.show()"
   ]
  },
  {
   "cell_type": "code",
   "execution_count": 227,
   "metadata": {
    "collapsed": false
   },
   "outputs": [],
   "source": [
    "###calculate dose for a given fraction based on normal distribution around dose shift\n",
    "### Log normal distribution not necessary as SD small wrt mean so v unlikely to get negative values returned.\n",
    "### Could also set a limit on the range (say to +/- 5%)? But wont make much difference with a small SD anyway.\n",
    "\n",
    "def fracdose(dose, shift, sd):\n",
    "    \"\"\"Return dose_actual from normal distribution around dose (Gy) as specified by sd (%) and shift (%).\n",
    "    Default is dose = 2Gy, shift = 0%, and sd of 0%\n",
    "    If a negative value is returned it is resampled until positive\n",
    "    The standard deviation is of the nominal dose\"\"\"\n",
    "    \n",
    "    ## get actual dose to use from normal distribution based on shift\n",
    "    \n",
    "    dose_shift = dose + (dose*shift/100)\n",
    "    \n",
    "    ## if sd is zero, then no change to dose\n",
    "    if sd == 0:\n",
    "        dose_actual = dose_shift\n",
    "        return dose_actual\n",
    "    \n",
    "    dose_actual=np.random.normal(loc = dose_shift, scale = (dose*sd/100))\n",
    "    \n",
    "    ## make sure a positive value is returned\n",
    "    while dose_actual <= 0:\n",
    "        dose_actual=np.random.normal(loc = dose_shift, scale = (dose*sd/100))\n",
    "    \n",
    "    return dose_actual"
   ]
  },
  {
   "cell_type": "code",
   "execution_count": 4,
   "metadata": {
    "collapsed": true
   },
   "outputs": [],
   "source": [
    "## Survival Fraction Calculation\n",
    "def SFcalc(alpha, beta, dose):\n",
    "    \"\"\"Return the SF with input values.\n",
    "    Note this is for a single dose delivery.\n",
    "    The product of multiple fractions shoudld be taken\n",
    "    to give overall SF\"\"\"\n",
    "    \n",
    "    SF = np.exp(-(alpha*dose) - (beta*(dose**2)))\n",
    "    \n",
    "    return SF"
   ]
  },
  {
   "cell_type": "code",
   "execution_count": 5,
   "metadata": {
    "collapsed": true
   },
   "outputs": [],
   "source": [
    "## TCP Calculation absed on cumulative SF\n",
    "def TCPcalc(sf, n0):\n",
    "    \"\"\"Return the TCP with input values.\n",
    "    Based on cumulative SF and N0\"\"\"\n",
    "    \n",
    "    TCP = np.exp(-n0*sf)\n",
    "    \n",
    "    return TCP"
   ]
  },
  {
   "cell_type": "code",
   "execution_count": 6,
   "metadata": {
    "collapsed": true
   },
   "outputs": [],
   "source": [
    "## Calc Number of fractions to get to max dose (note: round up as always want an integer)\n",
    "\n",
    "def no_frac_nom_doses_array(max_d, d):\n",
    "    n_frac = np.ceil(max_d/d)\n",
    "\n",
    "    fractions = np.arange(1,n_frac+1)\n",
    "    #print(fractions)\n",
    "    nom_doses = np.arange(d,(d*n_frac)+d, step = d)\n",
    "    #print(nom_doses)\n",
    "    return fractions, nom_doses, n_frac"
   ]
  },
  {
   "cell_type": "code",
   "execution_count": 7,
   "metadata": {
    "collapsed": false
   },
   "outputs": [],
   "source": [
    "## This gives a column with the patient number and makes it easier to check values as going\n",
    "\n",
    "def create_patients(n):\n",
    "    \n",
    "    if n<1:\n",
    "        n=1\n",
    "    patients = np.arange(0,n)+1\n",
    "    patients.shape=(n,1)\n",
    "    #print(patients)\n",
    "    return patients"
   ]
  },
  {
   "cell_type": "code",
   "execution_count": 226,
   "metadata": {
    "collapsed": false
   },
   "outputs": [],
   "source": [
    "## empty array to store alpha values in (log normal distribution to be used)\n",
    "\n",
    "def create_alpha_beta_array(n, alphabeta_use, alphabeta_sd_use):\n",
    "    alpha_and_beta = np.array([])\n",
    "\n",
    "    for p in range(0,n):\n",
    "        #alpha_and_beta = np.append(alpha_and_beta,[alphacalc_normal(alphabeta = alphabeta_use, sd=alphabeta_sd_use)])\n",
    "        alpha_and_beta = np.append(alpha_and_beta,[alphacalc_lognormal(alphabeta = alphabeta_use, sd=alphabeta_sd_use)])\n",
    "\n",
    "    ## reshape to get a row per patient\n",
    "    alpha_and_beta = np.reshape(alpha_and_beta,(n,2))\n",
    "    #print(alpha_and_beta)\n",
    "    return alpha_and_beta"
   ]
  },
  {
   "cell_type": "code",
   "execution_count": 9,
   "metadata": {
    "collapsed": true
   },
   "outputs": [],
   "source": [
    "## Calculate Doses for all patients and all fractions and put in an array\n",
    "\n",
    "def doses_array(n, n_frac, d, d_shift, d_sd):\n",
    "    doses = np.array([])\n",
    "    for i in range(0,int(n*n_frac)):\n",
    "        doses = np.append(doses,fracdose(dose = d, shift=d_shift, sd=d_sd))\n",
    "    doses = np.reshape(doses,(n,n_frac))\n",
    "    #print(doses)\n",
    "    return doses"
   ]
  },
  {
   "cell_type": "code",
   "execution_count": 10,
   "metadata": {
    "collapsed": true
   },
   "outputs": [],
   "source": [
    "## Combine all results into single array which may be easier to work with for analysis\n",
    "\n",
    "def combine_results(patients, alpha_and_beta, doses):\n",
    "    results_wanted = (patients,alpha_and_beta, doses)\n",
    "    all_results = np.concatenate(results_wanted, axis=1)\n",
    "    #print(all_results)\n",
    "    return all_results"
   ]
  },
  {
   "cell_type": "code",
   "execution_count": 11,
   "metadata": {
    "collapsed": true
   },
   "outputs": [],
   "source": [
    "## Loop through the doses of the first patient (first row [0] of array)\n",
    "\n",
    "def calc_all_SFs(patients, n, n_frac, alpha_and_beta, doses):\n",
    "    SFs = np.array([])\n",
    "\n",
    "    for i in range(0,len(patients)): # loop through each patient (row)\n",
    "        for j in range(0,int(n_frac)): # loop through each fraction for each patient (col)\n",
    "            SFs = np.append(SFs,SFcalc(alpha_and_beta[i][0],alpha_and_beta[i][1],doses[i,j]))\n",
    "\n",
    "    SFs = np.reshape(SFs,(n,n_frac))\n",
    "\n",
    "    ## GEt cumulative SF for each patient\n",
    "    SF_cum = np.cumprod(SFs, axis=1)\n",
    "    return SFs, SF_cum"
   ]
  },
  {
   "cell_type": "code",
   "execution_count": 12,
   "metadata": {
    "collapsed": true
   },
   "outputs": [],
   "source": [
    "## append results to text file.\n",
    "\n",
    "def saveasCSV(filename, array):\n",
    "\n",
    "    fl = open(filename, 'a', newline='\\n')\n",
    "\n",
    "    writer = csv.writer(fl)\n",
    "    writer.writerow(array)\n",
    "\n",
    "    fl.close()"
   ]
  },
  {
   "cell_type": "code",
   "execution_count": 13,
   "metadata": {
    "collapsed": false
   },
   "outputs": [],
   "source": [
    "## Calc Number of fractions and nominal dose per fraction to get to max dose\n",
    "    \n",
    "def completeTCPcalc(n,\n",
    "                   alphabeta_use,\n",
    "                   alphabeta_sd_use,\n",
    "                   d,\n",
    "                   d_shift,\n",
    "                   d_sd,\n",
    "                   n0,\n",
    "                   max_d,\n",
    "                   dose_of_interest):\n",
    "    \n",
    "    fractions, nom_doses, n_frac = no_frac_nom_doses_array(max_d,d)\n",
    "\n",
    "    ## create array containing number of patients in population\n",
    "    patients = create_patients(n)\n",
    "\n",
    "    ## Creat array of alpha and veta values for each patient\n",
    "    alpha_and_beta = create_alpha_beta_array(n, alphabeta_use, alphabeta_sd_use)\n",
    "\n",
    "    ## array of doses after each fraction for each patient\n",
    "    doses = doses_array(n, n_frac, d, d_shift, d_sd)\n",
    "\n",
    "    ## put all results in an array with a patient on each row\n",
    "    all_results = combine_results(patients, alpha_and_beta, doses)\n",
    "\n",
    "    ## Calc cumulative SF for all patients (also return individual fraction SFs)\n",
    "    SFs, SF_cum = calc_all_SFs(patients, n, n_frac, alpha_and_beta, doses)\n",
    "\n",
    "    ## Calculate TCP for all individual patients and fractions\n",
    "    TCPs = TCPcalc(sf = SF_cum, n0=n0)\n",
    "\n",
    "    ## Calculate population TCP by averaging down the columns\n",
    "    TCP_pop = np.mean(TCPs, axis = 0)\n",
    "\n",
    "    frac_of_interest = dose_of_interest/d\n",
    "\n",
    "    TCP_at_dose_of_interest = TCP_pop[frac_of_interest]\n",
    "\n",
    "    #t_end = time.time()\n",
    "\n",
    "    #t_total = t_end-t_start\n",
    "    #print(str(round(t_total,2)) + ' secs for ' + str(n) + ' patients')\n",
    "\n",
    "    TCPs_of_interest = TCPs[:,frac_of_interest-1]\n",
    "\n",
    "    TCP_cure = (TCPs_of_interest).sum()\n",
    "    TCP_cure_percent = 100*TCP_cure/n\n",
    "    \n",
    "    return n,alphabeta_use,alphabeta_sd_use,d,d_shift,d_sd,n0,max_d,dose_of_interest,frac_of_interest,TCP_cure_percent, TCPs, TCP_pop, nom_doses"
   ]
  },
  {
   "cell_type": "code",
   "execution_count": 14,
   "metadata": {
    "collapsed": false
   },
   "outputs": [],
   "source": [
    "## Plot of individual and population TCPs as a function for ease\n",
    "\n",
    "def TCP_plot(no_ind_plots):\n",
    "    #no_ind_plots = 50\n",
    "\n",
    "    ## individual plots cannot be more than total patients\n",
    "    if(no_ind_plots>n):\n",
    "        no_ind_plots=n\n",
    "\n",
    "    ## want to select the individual plots randomly from those calcualted...\n",
    "    ind_plots = np.random.choice(len(TCPs),no_ind_plots, replace=False)\n",
    "\n",
    "    ## individuals (specified number of plots chosen)\n",
    "    for i in ind_plots:\n",
    "        plt.plot(nom_doses,TCPs[i], color = 'grey', alpha = 0.5)\n",
    "    ## population\n",
    "    plt.plot(nom_doses,TCP_pop, color='black', linewidth='2', label='Population TCP', alpha=0.5)\n",
    "    plt.plot(nom_doses,TCP_pop, marker = 'o', ls='none')\n",
    "\n",
    "    ## plot formatting\n",
    "    plt.xlim(0,max(nom_doses))\n",
    "    plt.ylim(0,1.0)\n",
    "    plt.xlabel('Dose (Gy)')\n",
    "    plt.ylabel('TCP')\n",
    "    plt.title('TCPs')\n",
    "    #plt.legend(loc = 'best', fontsize = 'medium', framealpha = 1)\n",
    "    plt.axvline(d_interest, color = 'black', ls='--',)\n",
    "    plt.axhline(TCP_pop[frac_interest-1], color='black', ls='--')\n",
    "\n",
    "    ## add labels with TCP at dose of interest\n",
    "    text_string = ('Pop. TCP = ' + str(round(TCP_cure_at_d_interest,2)) + ' % at ' + str(d_interest) + 'Gy')\n",
    "    plt.text(5,0.3,text_string, backgroundcolor='white')\n",
    "\n",
    "    plt.show()"
   ]
  },
  {
   "cell_type": "markdown",
   "metadata": {},
   "source": [
    "### Calcualte and Plot results of single set of parameters"
   ]
  },
  {
   "cell_type": "code",
   "execution_count": 225,
   "metadata": {
    "collapsed": false
   },
   "outputs": [],
   "source": [
    "## Individual calculation of TCP at a set value of dose\n",
    "\n",
    "n_rpts = 1\n",
    "\n",
    "for i in range(0,n_rpts):\n",
    "    t = completeTCPcalc(n = 500,\n",
    "                    alphabeta_use = 10,\n",
    "                    alphabeta_sd_use = 2,\n",
    "                    d = 2,\n",
    "                    d_shift = 0,\n",
    "                    d_sd = 0,\n",
    "                    n0 = 1E9,\n",
    "                    max_d = 100,\n",
    "                    dose_of_interest = 74)\n",
    "\n",
    "    n=t[0]\n",
    "    TCP_pop = t[-2]\n",
    "    TCPs = t[-3]\n",
    "    nom_doses = t[-1]\n",
    "    d_interest = t[8]\n",
    "    frac_interest = t[9]\n",
    "    TCP_cure_at_d_interest = t[10]\n",
    "   \n",
    "    #print(TCP_pop)\n",
    "    TCP_plot(10)"
   ]
  },
  {
   "cell_type": "markdown",
   "metadata": {},
   "source": [
    "### Repeat calculation a set number of times"
   ]
  },
  {
   "cell_type": "code",
   "execution_count": 16,
   "metadata": {
    "collapsed": false
   },
   "outputs": [
    {
     "name": "stdout",
     "output_type": "stream",
     "text": [
      "91.9511204917\n"
     ]
    }
   ],
   "source": [
    "## Multiple calcualtions of TCP with single set values\n",
    "\n",
    "k = 20 # number of repeats\n",
    "\n",
    "results_array = np.array([])\n",
    "\n",
    "f = FloatProgress(min=0, max=k-1)\n",
    "display(f)\n",
    "\n",
    "for i in range(0,k):\n",
    "\n",
    "    t = completeTCPcalc(n = 200,\n",
    "                    alphabeta_use = 10,\n",
    "                    alphabeta_sd_use = 2,\n",
    "                    d = 2,\n",
    "                    d_shift = 5,\n",
    "                    d_sd = 0,\n",
    "                    n0 = 1E9,\n",
    "                    max_d = 100,\n",
    "                    dose_of_interest = 74)\n",
    "    \n",
    "    n=t[0]\n",
    "    alphabeta_use = t[1]\n",
    "    alphabeta_sd_use = t[2]\n",
    "    d = t[3]\n",
    "    d_shift = t[4]\n",
    "    d_sd = t[5]\n",
    "    n0 = t[6]\n",
    "    TCP_pop = t[-2]\n",
    "    TCPs = t[-3]\n",
    "    nom_doses = t[-1]\n",
    "    d_interest = t[8]\n",
    "    frac_interest = t[9]\n",
    "    TCP_cure_at_d_interest = t[10]\n",
    "    max_d = 100\n",
    "    \n",
    "    results_array = np.append(results_array,TCP_cure_at_d_interest)\n",
    "    f.value = i # for updating progress bar\n",
    "    \n",
    "## include model parameters into array and insert before results\n",
    "param_array = np.array([])\n",
    "param_array = np.append(param_array,n)\n",
    "param_array = np.append(param_array,k)\n",
    "param_array = np.append(param_array,alphabeta_use)\n",
    "param_array = np.append(param_array,alphabeta_sd_use)\n",
    "param_array = np.append(param_array,d)\n",
    "param_array = np.append(param_array,d_shift)\n",
    "param_array = np.append(param_array,d_sd)\n",
    "param_array = np.append(param_array,n0)\n",
    "param_array = np.append(param_array,max_d)\n",
    "param_array = np.append(param_array,d_interest)\n",
    "#param_array = np.append(param_array,frac_of_interest)\n",
    "\n",
    "param_results_array = np.concatenate((param_array,results_array))\n",
    "\n",
    "#print(results_array)\n",
    "#print(param_array)\n",
    "print(param_results_array[-1])\n",
    "\n",
    "#saveasCSV(filename = 'TCPresults.csv', array = param_results_array)"
   ]
  },
  {
   "cell_type": "markdown",
   "metadata": {},
   "source": [
    "### User iterator to build list to vary multiple parameters in one go"
   ]
  },
  {
   "cell_type": "code",
   "execution_count": 19,
   "metadata": {
    "collapsed": false
   },
   "outputs": [
    {
     "name": "stdout",
     "output_type": "stream",
     "text": [
      "99\n"
     ]
    }
   ],
   "source": [
    "## will need to iterate over all the values and add them to a list.\n",
    "\n",
    "## This allows simple building of a tuple containing all possible combinations of values\n",
    "import itertools\n",
    "\n",
    "## dose shifts to test\n",
    "dose_var = 1 # dose step size\n",
    "dose_max = 5\n",
    "dose_min = -dose_max\n",
    "dose_number = (dose_max-dose_min)/dose_var+1 # number of points\n",
    "\n",
    "dose_vals = np.linspace(dose_min,dose_max,dose_number)\n",
    "#print(dose_vals)\n",
    "\n",
    "## alphabeta values to test\n",
    "ab_var = 2 # dose step size\n",
    "ab_max = 12\n",
    "ab_min = 8\n",
    "ab_number = (ab_max-ab_min)/ab_var+1 # number of points\n",
    "\n",
    "ab_vals = np.linspace(ab_min,ab_max,ab_number)\n",
    "#print(ab_vals)\n",
    "\n",
    "## dose of interest to test\n",
    "di_var = 4 # dose step size\n",
    "di_max = 80\n",
    "di_min = 70\n",
    "di_number = (di_max-di_min)/di_var+1 # number of points\n",
    "\n",
    "di_vals = np.linspace(di_min,di_max,di_number)\n",
    "#print(di_vals)\n",
    "\n",
    "total_tests = len(dose_vals)*len(ab_vals)*(len(di_vals))\n",
    "#print(total_tests)\n",
    "\n",
    "test_val_iterator = itertools.product(dose_vals,ab_vals,di_vals)\n",
    "\n",
    "test_vals = list(test_val_iterator)\n",
    "\n",
    "num_its = len(test_vals)\n",
    "\n",
    "#for i in test_vals:\n",
    "#    print(i)\n",
    "    \n",
    "print(num_its)"
   ]
  },
  {
   "cell_type": "code",
   "execution_count": 20,
   "metadata": {
    "collapsed": false
   },
   "outputs": [
    {
     "name": "stdout",
     "output_type": "stream",
     "text": [
      "99.9216858438\n"
     ]
    }
   ],
   "source": [
    "## vary multiple values through use of constructer iterator list above.\n",
    "\n",
    "k = 20 # number of repeats\n",
    "\n",
    "#test_vals = ((-3,10),(-2,8),(-1,8),(0,10),(1,8),(2,8),(3,10)) # values to vary and test\n",
    "\n",
    "f = FloatProgress(min=0, max=num_its)\n",
    "display(f)\n",
    "\n",
    "f1 = FloatProgress(min=0, max=k-1)\n",
    "display(f1)\n",
    "\n",
    "barpos = 1\n",
    "\n",
    "for j in test_vals:\n",
    "    results_array = np.array([])\n",
    "    \n",
    "    for i in range(0,k):\n",
    "        t = completeTCPcalc(n = 100,\n",
    "                        alphabeta_use = j[1],\n",
    "                        alphabeta_sd_use = 2,\n",
    "                        d = 2,\n",
    "                        d_shift = j[0],\n",
    "                        d_sd = 0,\n",
    "                        n0 = 1E9,\n",
    "                        max_d = 100,\n",
    "                        dose_of_interest = j[2])\n",
    "        results_array = np.append(results_array,TCP_cure_at_d_interest)\n",
    "        f1.value = i    \n",
    "\n",
    "        n=t[0]\n",
    "        alphabeta_use = t[1]\n",
    "        alphabeta_sd_use = t[2]\n",
    "        d = t[3]\n",
    "        d_shift = t[4]\n",
    "        d_sd = t[5]\n",
    "        n0 = t[6]\n",
    "        TCP_pop = t[-2]\n",
    "        TCPs = t[-3]\n",
    "        nom_doses = t[-1]\n",
    "        d_interest = t[8]\n",
    "        frac_interest = t[9]\n",
    "        TCP_cure_at_d_interest = t[10]\n",
    "        max_d = 100\n",
    "\n",
    "        results_array = np.append(results_array,TCP_cure_at_d_interest)\n",
    "\n",
    "        ## include model parameters into array and insert before results\n",
    "        param_array = np.array([])\n",
    "        param_array = np.append(param_array,n)\n",
    "        param_array = np.append(param_array,k)\n",
    "        param_array = np.append(param_array,alphabeta_use)\n",
    "        param_array = np.append(param_array,alphabeta_sd_use)\n",
    "        param_array = np.append(param_array,d)\n",
    "        param_array = np.append(param_array,d_shift)\n",
    "        param_array = np.append(param_array,d_sd)\n",
    "        param_array = np.append(param_array,n0)\n",
    "        param_array = np.append(param_array,max_d)\n",
    "        param_array = np.append(param_array,d_interest)\n",
    "        #param_array = np.append(param_array,frac_of_interest)\n",
    "\n",
    "    param_results_array = np.concatenate((param_array,results_array))\n",
    "    saveasCSV(filename = 'TCPresults1.csv', array = param_results_array)\n",
    "\n",
    "    #print(results_array)\n",
    "    #print(param_array)\n",
    "    \n",
    "    barpos = barpos+1\n",
    "    \n",
    "    f.value = barpos # for updating progress bar\n",
    "print(param_results_array[-1])"
   ]
  },
  {
   "cell_type": "code",
   "execution_count": null,
   "metadata": {
    "collapsed": true
   },
   "outputs": [],
   "source": []
  }
 ],
 "metadata": {
  "kernelspec": {
   "display_name": "Python 3",
   "language": "python",
   "name": "python3"
  },
  "language_info": {
   "codemirror_mode": {
    "name": "ipython",
    "version": 3
   },
   "file_extension": ".py",
   "mimetype": "text/x-python",
   "name": "python",
   "nbconvert_exporter": "python",
   "pygments_lexer": "ipython3",
   "version": "3.4.3"
  }
 },
 "nbformat": 4,
 "nbformat_minor": 0
}
