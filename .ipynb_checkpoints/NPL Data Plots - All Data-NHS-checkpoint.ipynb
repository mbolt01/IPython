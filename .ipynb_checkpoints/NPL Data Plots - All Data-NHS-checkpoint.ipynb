{
 "cells": [
  {
   "cell_type": "code",
   "execution_count": 83,
   "metadata": {
    "collapsed": false
   },
   "outputs": [],
   "source": [
    "import numpy as np\n",
    "import pandas as pd\n",
    "pd.set_option(\"display.date_dayfirst\", True)\n",
    "pd.set_option(\"display.date_yearfirst\", False)\n",
    "#pd.describe_option('display.date_yearfirst')\n",
    "import matplotlib.pyplot as plt\n",
    "%matplotlib inline\n",
    "import matplotlib.mlab as mlab\n",
    "\n",
    "import matplotlib.pylab as pylab\n",
    "\n",
    "import os\n",
    "cwd = os.getcwd()"
   ]
  },
  {
   "cell_type": "markdown",
   "metadata": {},
   "source": [
    "Set file to look at containing data"
   ]
  },
  {
   "cell_type": "markdown",
   "metadata": {},
   "source": [
    "#Import excel file into pandas dataframe"
   ]
  },
  {
   "cell_type": "code",
   "execution_count": 84,
   "metadata": {
    "collapsed": false
   },
   "outputs": [
    {
     "name": "stdout",
     "output_type": "stream",
     "text": [
      "C:\\Users\\mb22\\OneDrive\\PhD\\Quasar Shared\\Modelling\\IPython/Data to Import/NPL_Table_All-Anon.xlsx\n"
     ]
    },
    {
     "data": {
      "text/html": [
       "<div style=\"max-height:1000px;max-width:1500px;overflow:auto;\">\n",
       "<table border=\"1\" class=\"dataframe\">\n",
       "  <thead>\n",
       "    <tr style=\"text-align: right;\">\n",
       "      <th></th>\n",
       "      <th>Centre_ID</th>\n",
       "      <th>Group</th>\n",
       "      <th>CentreType</th>\n",
       "      <th>Date</th>\n",
       "      <th>Type</th>\n",
       "      <th>Energy</th>\n",
       "      <th>BeamQualRatio</th>\n",
       "      <th>BeamQualError</th>\n",
       "      <th>OPRatio</th>\n",
       "      <th>OPError</th>\n",
       "      <th>IntercompRatio</th>\n",
       "      <th>IntercompError</th>\n",
       "      <th>Comments</th>\n",
       "    </tr>\n",
       "  </thead>\n",
       "  <tbody>\n",
       "    <tr>\n",
       "      <th>0</th>\n",
       "      <td> 1</td>\n",
       "      <td> 1</td>\n",
       "      <td> NHS</td>\n",
       "      <td>2007-02-09</td>\n",
       "      <td>  MV</td>\n",
       "      <td>  6</td>\n",
       "      <td> 0.993</td>\n",
       "      <td> 0.15</td>\n",
       "      <td> 1.005</td>\n",
       "      <td> 0.1</td>\n",
       "      <td> 0.992</td>\n",
       "      <td> 0.4</td>\n",
       "      <td> Measured result (1.003 from tabulated data)</td>\n",
       "    </tr>\n",
       "    <tr>\n",
       "      <th>1</th>\n",
       "      <td> 1</td>\n",
       "      <td> 1</td>\n",
       "      <td> NHS</td>\n",
       "      <td>2007-02-09</td>\n",
       "      <td>  MV</td>\n",
       "      <td> 15</td>\n",
       "      <td> 0.995</td>\n",
       "      <td> 0.15</td>\n",
       "      <td> 1.008</td>\n",
       "      <td> 0.1</td>\n",
       "      <td> 0.991</td>\n",
       "      <td> 0.4</td>\n",
       "      <td>                                         NaN</td>\n",
       "    </tr>\n",
       "    <tr>\n",
       "      <th>2</th>\n",
       "      <td> 1</td>\n",
       "      <td> 1</td>\n",
       "      <td> NHS</td>\n",
       "      <td>2007-02-10</td>\n",
       "      <td> MeV</td>\n",
       "      <td>  4</td>\n",
       "      <td> 0.010</td>\n",
       "      <td> 0.20</td>\n",
       "      <td> 0.998</td>\n",
       "      <td> 0.2</td>\n",
       "      <td> 1.001</td>\n",
       "      <td> 0.4</td>\n",
       "      <td>                                         NaN</td>\n",
       "    </tr>\n",
       "    <tr>\n",
       "      <th>3</th>\n",
       "      <td> 1</td>\n",
       "      <td> 1</td>\n",
       "      <td> NHS</td>\n",
       "      <td>2007-02-10</td>\n",
       "      <td> MeV</td>\n",
       "      <td>  6</td>\n",
       "      <td> 0.020</td>\n",
       "      <td> 0.20</td>\n",
       "      <td> 1.003</td>\n",
       "      <td> 0.2</td>\n",
       "      <td> 1.002</td>\n",
       "      <td> 0.4</td>\n",
       "      <td>                                         NaN</td>\n",
       "    </tr>\n",
       "    <tr>\n",
       "      <th>4</th>\n",
       "      <td> 1</td>\n",
       "      <td> 1</td>\n",
       "      <td> NHS</td>\n",
       "      <td>2007-02-10</td>\n",
       "      <td> MeV</td>\n",
       "      <td>  9</td>\n",
       "      <td> 0.030</td>\n",
       "      <td> 0.20</td>\n",
       "      <td> 1.003</td>\n",
       "      <td> 0.2</td>\n",
       "      <td> 1.001</td>\n",
       "      <td> 0.4</td>\n",
       "      <td>                                         NaN</td>\n",
       "    </tr>\n",
       "  </tbody>\n",
       "</table>\n",
       "</div>"
      ],
      "text/plain": [
       "   Centre_ID  Group CentreType       Date Type  Energy  BeamQualRatio  \\\n",
       "0          1      1        NHS 2007-02-09   MV       6          0.993   \n",
       "1          1      1        NHS 2007-02-09   MV      15          0.995   \n",
       "2          1      1        NHS 2007-02-10  MeV       4          0.010   \n",
       "3          1      1        NHS 2007-02-10  MeV       6          0.020   \n",
       "4          1      1        NHS 2007-02-10  MeV       9          0.030   \n",
       "\n",
       "   BeamQualError  OPRatio  OPError  IntercompRatio  IntercompError  \\\n",
       "0           0.15    1.005      0.1           0.992             0.4   \n",
       "1           0.15    1.008      0.1           0.991             0.4   \n",
       "2           0.20    0.998      0.2           1.001             0.4   \n",
       "3           0.20    1.003      0.2           1.002             0.4   \n",
       "4           0.20    1.003      0.2           1.001             0.4   \n",
       "\n",
       "                                      Comments  \n",
       "0  Measured result (1.003 from tabulated data)  \n",
       "1                                          NaN  \n",
       "2                                          NaN  \n",
       "3                                          NaN  \n",
       "4                                          NaN  "
      ]
     },
     "execution_count": 84,
     "metadata": {},
     "output_type": "execute_result"
    }
   ],
   "source": [
    "#mainpath = 'C:/Users/mb22/OneDrive/PhD/Quasar Shared/'\n",
    "#filepath = 'Data/NPL_Table_All.xlsx'\n",
    "filepath = 'Data to Import/NPL_Table_All-Anon.xlsx'\n",
    "\n",
    "#fullpath=mainpath+filepath\n",
    "fullpath=cwd+'/'+filepath # use if need to specify full path for some reason.\n",
    "print(fullpath) #note forward and backward slashes in output\n",
    "\n",
    "all_data = pd.read_excel(filepath, parse_dates=['Date'])\n",
    "all_data.head()"
   ]
  },
  {
   "cell_type": "markdown",
   "metadata": {},
   "source": [
    "#Filter to only contain NHS data"
   ]
  },
  {
   "cell_type": "code",
   "execution_count": 85,
   "metadata": {
    "collapsed": false
   },
   "outputs": [
    {
     "data": {
      "text/html": [
       "<div style=\"max-height:1000px;max-width:1500px;overflow:auto;\">\n",
       "<table border=\"1\" class=\"dataframe\">\n",
       "  <thead>\n",
       "    <tr style=\"text-align: right;\">\n",
       "      <th></th>\n",
       "      <th>Centre_ID</th>\n",
       "      <th>Group</th>\n",
       "      <th>CentreType</th>\n",
       "      <th>Date</th>\n",
       "      <th>Type</th>\n",
       "      <th>Energy</th>\n",
       "      <th>BeamQualRatio</th>\n",
       "      <th>BeamQualError</th>\n",
       "      <th>OPRatio</th>\n",
       "      <th>OPError</th>\n",
       "      <th>IntercompRatio</th>\n",
       "      <th>IntercompError</th>\n",
       "      <th>Comments</th>\n",
       "    </tr>\n",
       "  </thead>\n",
       "  <tbody>\n",
       "    <tr>\n",
       "      <th>205</th>\n",
       "      <td> 45</td>\n",
       "      <td> 9</td>\n",
       "      <td> NHS</td>\n",
       "      <td>2010-06-25</td>\n",
       "      <td> MeV</td>\n",
       "      <td>  6</td>\n",
       "      <td> 0.020</td>\n",
       "      <td>  NaN</td>\n",
       "      <td> 1.005</td>\n",
       "      <td> 0.2</td>\n",
       "      <td> 1.005</td>\n",
       "      <td> 0.4</td>\n",
       "      <td> Data gained from spreadsheets directly</td>\n",
       "    </tr>\n",
       "    <tr>\n",
       "      <th>206</th>\n",
       "      <td> 45</td>\n",
       "      <td> 9</td>\n",
       "      <td> NHS</td>\n",
       "      <td>2010-06-25</td>\n",
       "      <td> MeV</td>\n",
       "      <td>  9</td>\n",
       "      <td> 0.020</td>\n",
       "      <td>  NaN</td>\n",
       "      <td> 1.008</td>\n",
       "      <td> 0.2</td>\n",
       "      <td> 1.001</td>\n",
       "      <td> 0.4</td>\n",
       "      <td> Data gained from spreadsheets directly</td>\n",
       "    </tr>\n",
       "    <tr>\n",
       "      <th>207</th>\n",
       "      <td> 45</td>\n",
       "      <td> 9</td>\n",
       "      <td> NHS</td>\n",
       "      <td>2010-06-25</td>\n",
       "      <td> MeV</td>\n",
       "      <td> 12</td>\n",
       "      <td>-0.070</td>\n",
       "      <td>  NaN</td>\n",
       "      <td> 0.999</td>\n",
       "      <td> 0.2</td>\n",
       "      <td> 1.006</td>\n",
       "      <td> 0.4</td>\n",
       "      <td> Data gained from spreadsheets directly</td>\n",
       "    </tr>\n",
       "    <tr>\n",
       "      <th>208</th>\n",
       "      <td> 45</td>\n",
       "      <td> 9</td>\n",
       "      <td> NHS</td>\n",
       "      <td>2010-06-25</td>\n",
       "      <td> MeV</td>\n",
       "      <td> 16</td>\n",
       "      <td>-0.050</td>\n",
       "      <td>  NaN</td>\n",
       "      <td> 1.000</td>\n",
       "      <td> 0.2</td>\n",
       "      <td> 1.007</td>\n",
       "      <td> 0.4</td>\n",
       "      <td> Data gained from spreadsheets directly</td>\n",
       "    </tr>\n",
       "    <tr>\n",
       "      <th>209</th>\n",
       "      <td> 46</td>\n",
       "      <td> 9</td>\n",
       "      <td> NHS</td>\n",
       "      <td>2000-03-21</td>\n",
       "      <td>  MV</td>\n",
       "      <td>  6</td>\n",
       "      <td> 0.993</td>\n",
       "      <td> 0.15</td>\n",
       "      <td> 0.996</td>\n",
       "      <td> 0.2</td>\n",
       "      <td> 0.958</td>\n",
       "      <td> 0.4</td>\n",
       "      <td>        Looks like a preliminary report</td>\n",
       "    </tr>\n",
       "  </tbody>\n",
       "</table>\n",
       "</div>"
      ],
      "text/plain": [
       "     Centre_ID  Group CentreType       Date Type  Energy  BeamQualRatio  \\\n",
       "205         45      9        NHS 2010-06-25  MeV       6          0.020   \n",
       "206         45      9        NHS 2010-06-25  MeV       9          0.020   \n",
       "207         45      9        NHS 2010-06-25  MeV      12         -0.070   \n",
       "208         45      9        NHS 2010-06-25  MeV      16         -0.050   \n",
       "209         46      9        NHS 2000-03-21   MV       6          0.993   \n",
       "\n",
       "     BeamQualError  OPRatio  OPError  IntercompRatio  IntercompError  \\\n",
       "205            NaN    1.005      0.2           1.005             0.4   \n",
       "206            NaN    1.008      0.2           1.001             0.4   \n",
       "207            NaN    0.999      0.2           1.006             0.4   \n",
       "208            NaN    1.000      0.2           1.007             0.4   \n",
       "209           0.15    0.996      0.2           0.958             0.4   \n",
       "\n",
       "                                   Comments  \n",
       "205  Data gained from spreadsheets directly  \n",
       "206  Data gained from spreadsheets directly  \n",
       "207  Data gained from spreadsheets directly  \n",
       "208  Data gained from spreadsheets directly  \n",
       "209         Looks like a preliminary report  "
      ]
     },
     "execution_count": 85,
     "metadata": {},
     "output_type": "execute_result"
    }
   ],
   "source": [
    "df3 = all_data.copy()\n",
    "nhs_data = df3[df3['CentreType'].isin(['NHS'])]\n",
    "\n",
    "nhs_data.tail()"
   ]
  },
  {
   "cell_type": "markdown",
   "metadata": {},
   "source": [
    "#Calculate some stats & check data types"
   ]
  },
  {
   "cell_type": "code",
   "execution_count": 86,
   "metadata": {
    "collapsed": false,
    "scrolled": true
   },
   "outputs": [
    {
     "data": {
      "text/html": [
       "<div style=\"max-height:1000px;max-width:1500px;overflow:auto;\">\n",
       "<table border=\"1\" class=\"dataframe\">\n",
       "  <thead>\n",
       "    <tr style=\"text-align: right;\">\n",
       "      <th></th>\n",
       "      <th>Type</th>\n",
       "      <th>Date</th>\n",
       "    </tr>\n",
       "  </thead>\n",
       "  <tbody>\n",
       "    <tr>\n",
       "      <th>0</th>\n",
       "      <td>  MV</td>\n",
       "      <td> 47</td>\n",
       "    </tr>\n",
       "    <tr>\n",
       "      <th>1</th>\n",
       "      <td> MeV</td>\n",
       "      <td> 22</td>\n",
       "    </tr>\n",
       "    <tr>\n",
       "      <th>2</th>\n",
       "      <td>  kV</td>\n",
       "      <td> 11</td>\n",
       "    </tr>\n",
       "  </tbody>\n",
       "</table>\n",
       "</div>"
      ],
      "text/plain": [
       "  Type  Date\n",
       "0   MV    47\n",
       "1  MeV    22\n",
       "2   kV    11"
      ]
     },
     "execution_count": 86,
     "metadata": {},
     "output_type": "execute_result"
    }
   ],
   "source": [
    "#Number of unique dates = number of visits\n",
    "\n",
    "nhs_data.groupby(['Type'])['Date'].nunique().reset_index() # number of unique dates = number of visits\n"
   ]
  },
  {
   "cell_type": "markdown",
   "metadata": {},
   "source": [
    "#Create seperate dataframes for MV, MeV and kV for NHS"
   ]
  },
  {
   "cell_type": "code",
   "execution_count": 87,
   "metadata": {
    "collapsed": false,
    "scrolled": true
   },
   "outputs": [
    {
     "data": {
      "text/html": [
       "<div style=\"max-height:1000px;max-width:1500px;overflow:auto;\">\n",
       "<table border=\"1\" class=\"dataframe\">\n",
       "  <thead>\n",
       "    <tr style=\"text-align: right;\">\n",
       "      <th></th>\n",
       "      <th>Centre_ID</th>\n",
       "      <th>Group</th>\n",
       "      <th>Energy</th>\n",
       "      <th>BeamQualRatio</th>\n",
       "      <th>BeamQualError</th>\n",
       "      <th>OPRatio</th>\n",
       "      <th>OPError</th>\n",
       "      <th>IntercompRatio</th>\n",
       "      <th>IntercompError</th>\n",
       "    </tr>\n",
       "  </thead>\n",
       "  <tbody>\n",
       "    <tr>\n",
       "      <th>count</th>\n",
       "      <td> 29.000000</td>\n",
       "      <td> 29.000000</td>\n",
       "      <td>  29.000000</td>\n",
       "      <td> 26.000000</td>\n",
       "      <td> 26.000000</td>\n",
       "      <td> 29.000000</td>\n",
       "      <td> 29.000000</td>\n",
       "      <td> 24.000000</td>\n",
       "      <td> 24.0</td>\n",
       "    </tr>\n",
       "    <tr>\n",
       "      <th>mean</th>\n",
       "      <td> 21.724138</td>\n",
       "      <td>  4.379310</td>\n",
       "      <td> 154.448276</td>\n",
       "      <td>  0.999615</td>\n",
       "      <td>  2.384615</td>\n",
       "      <td>  1.002103</td>\n",
       "      <td>  0.606897</td>\n",
       "      <td>  0.999792</td>\n",
       "      <td>  0.4</td>\n",
       "    </tr>\n",
       "    <tr>\n",
       "      <th>std</th>\n",
       "      <td> 13.498403</td>\n",
       "      <td>  2.833647</td>\n",
       "      <td>  82.535095</td>\n",
       "      <td>  0.048669</td>\n",
       "      <td>  0.982931</td>\n",
       "      <td>  0.008793</td>\n",
       "      <td>  0.037139</td>\n",
       "      <td>  0.005150</td>\n",
       "      <td>  0.0</td>\n",
       "    </tr>\n",
       "    <tr>\n",
       "      <th>min</th>\n",
       "      <td>  2.000000</td>\n",
       "      <td>  1.000000</td>\n",
       "      <td>  50.000000</td>\n",
       "      <td>  0.873000</td>\n",
       "      <td>  2.000000</td>\n",
       "      <td>  0.976000</td>\n",
       "      <td>  0.600000</td>\n",
       "      <td>  0.992000</td>\n",
       "      <td>  0.4</td>\n",
       "    </tr>\n",
       "    <tr>\n",
       "      <th>25%</th>\n",
       "      <td> 14.000000</td>\n",
       "      <td>  2.000000</td>\n",
       "      <td>  85.000000</td>\n",
       "      <td>  0.982500</td>\n",
       "      <td>  2.000000</td>\n",
       "      <td>  0.998000</td>\n",
       "      <td>  0.600000</td>\n",
       "      <td>  0.995750</td>\n",
       "      <td>  0.4</td>\n",
       "    </tr>\n",
       "    <tr>\n",
       "      <th>50%</th>\n",
       "      <td> 21.000000</td>\n",
       "      <td>  3.000000</td>\n",
       "      <td> 135.000000</td>\n",
       "      <td>  1.002500</td>\n",
       "      <td>  2.000000</td>\n",
       "      <td>  1.003000</td>\n",
       "      <td>  0.600000</td>\n",
       "      <td>  1.000000</td>\n",
       "      <td>  0.4</td>\n",
       "    </tr>\n",
       "    <tr>\n",
       "      <th>75%</th>\n",
       "      <td> 32.000000</td>\n",
       "      <td>  7.000000</td>\n",
       "      <td> 220.000000</td>\n",
       "      <td>  1.023750</td>\n",
       "      <td>  2.000000</td>\n",
       "      <td>  1.006000</td>\n",
       "      <td>  0.600000</td>\n",
       "      <td>  1.002250</td>\n",
       "      <td>  0.4</td>\n",
       "    </tr>\n",
       "    <tr>\n",
       "      <th>max</th>\n",
       "      <td> 43.000000</td>\n",
       "      <td>  9.000000</td>\n",
       "      <td> 300.000000</td>\n",
       "      <td>  1.077000</td>\n",
       "      <td>  5.000000</td>\n",
       "      <td>  1.021000</td>\n",
       "      <td>  0.800000</td>\n",
       "      <td>  1.011000</td>\n",
       "      <td>  0.4</td>\n",
       "    </tr>\n",
       "  </tbody>\n",
       "</table>\n",
       "</div>"
      ],
      "text/plain": [
       "       Centre_ID      Group      Energy  BeamQualRatio  BeamQualError  \\\n",
       "count  29.000000  29.000000   29.000000      26.000000      26.000000   \n",
       "mean   21.724138   4.379310  154.448276       0.999615       2.384615   \n",
       "std    13.498403   2.833647   82.535095       0.048669       0.982931   \n",
       "min     2.000000   1.000000   50.000000       0.873000       2.000000   \n",
       "25%    14.000000   2.000000   85.000000       0.982500       2.000000   \n",
       "50%    21.000000   3.000000  135.000000       1.002500       2.000000   \n",
       "75%    32.000000   7.000000  220.000000       1.023750       2.000000   \n",
       "max    43.000000   9.000000  300.000000       1.077000       5.000000   \n",
       "\n",
       "         OPRatio    OPError  IntercompRatio  IntercompError  \n",
       "count  29.000000  29.000000       24.000000            24.0  \n",
       "mean    1.002103   0.606897        0.999792             0.4  \n",
       "std     0.008793   0.037139        0.005150             0.0  \n",
       "min     0.976000   0.600000        0.992000             0.4  \n",
       "25%     0.998000   0.600000        0.995750             0.4  \n",
       "50%     1.003000   0.600000        1.000000             0.4  \n",
       "75%     1.006000   0.600000        1.002250             0.4  \n",
       "max     1.021000   0.800000        1.011000             0.4  "
      ]
     },
     "execution_count": 87,
     "metadata": {},
     "output_type": "execute_result"
    }
   ],
   "source": [
    "#beam_types = all_data.groupby('Type')\n",
    "#beam_types.mean()\n",
    "\n",
    "df2 = nhs_data.copy()\n",
    "mv_data = df2[df2['Type'].isin(['MV'])]\n",
    "mev_data = df2[df2['Type'].isin(['MeV'])]\n",
    "kv_data = df2[df2['Type'].isin(['kV'])]\n",
    "\n",
    "#df3 = ed.copy()\n",
    "#mev_data_notg5 = df3[~df3['Centre'].str.contains('CPUK')]\n",
    "#mev_data_notg5\n",
    "\n",
    "md = mv_data\n",
    "ed = mev_data\n",
    "kd = kv_data\n",
    "#mv_data.describe()\n",
    "kd.describe()\n",
    "#kv_data.describe()"
   ]
  },
  {
   "cell_type": "markdown",
   "metadata": {},
   "source": [
    "#Make some quick graphs"
   ]
  },
  {
   "cell_type": "code",
   "execution_count": 88,
   "metadata": {
    "collapsed": false,
    "scrolled": true
   },
   "outputs": [
    {
     "data": {
      "text/plain": [
       "array([[<matplotlib.axes._subplots.AxesSubplot object at 0x08EB3530>,\n",
       "        <matplotlib.axes._subplots.AxesSubplot object at 0x08EBCA90>],\n",
       "       [<matplotlib.axes._subplots.AxesSubplot object at 0x08F08C30>,\n",
       "        <matplotlib.axes._subplots.AxesSubplot object at 0x08ECCBB0>]], dtype=object)"
      ]
     },
     "execution_count": 88,
     "metadata": {},
     "output_type": "execute_result"
    },
    {
     "data": {
      "image/png": "[encoded data removed]",
      "text/plain": [
       "<matplotlib.figure.Figure at 0x923a310>"
      ]
     },
     "metadata": {},
     "output_type": "display_data"
    }
   ],
   "source": [
    "from decimal import * # decimal means that more exact maths can be done with a specified precision.\n",
    "getcontext().prec = 28\n",
    "range_lower = Decimal('0.975')\n",
    "range_upper = Decimal('1.025')\n",
    "bin_width = Decimal('0.005')\n",
    "number_bins = (range_upper-range_lower)/bin_width + 1\n",
    "\n",
    "nhs_data['OPRatio'].hist(by=nhs_data['Type'], normed=True, bins=11, range=(0.975,1.025), rwidth=0.8) #simple auto plot in a grid"
   ]
  },
  {
   "cell_type": "markdown",
   "metadata": {},
   "source": [
    "#Histograms"
   ]
  },
  {
   "cell_type": "markdown",
   "metadata": {},
   "source": [
    "##Ideally make into a function and feed data frame, title, filename"
   ]
  },
  {
   "cell_type": "code",
   "execution_count": 89,
   "metadata": {
    "collapsed": false
   },
   "outputs": [
    {
     "data": {
      "image/png": "[encoded data removed]",
      "text/plain": [
       "<matplotlib.figure.Figure at 0x71e8270>"
      ]
     },
     "metadata": {},
     "output_type": "display_data"
    }
   ],
   "source": [
    "pylab.rcParams['figure.figsize'] = 5, 5 # change size of figures\n",
    "\n",
    "from matplotlib.ticker import AutoMinorLocator\n",
    "\n",
    "fig = plt.figure()\n",
    "axes = fig.add_subplot(1,1,1)\n",
    "plt.title('MeV')\n",
    "plt.xlabel(\"Output Ratio (NPL:Host)\")\n",
    "plt.ylabel(\"Freqency (%)\")\n",
    "plt.xlim(0.968, 1.032)\n",
    "plt.ylim(0, 60)\n",
    "\n",
    "mev_data['OPRatio'].hist(bins=14, range=(0.9675, 1.0375), normed=True,\n",
    "                               facecolor = 'grey', alpha = 0.8, ax=axes, rwidth=1)\n",
    "\n",
    "axes.xaxis.set_minor_locator(AutoMinorLocator(2)) #used to set the number of minor ticks between major ticks\n",
    "plt.tick_params(which='major', width=1, length=5)\n",
    "plt.tick_params(which='minor', width=1, length=3)\n",
    "plt.grid(True, which='major')\n",
    "\n",
    "mean = mev_data['OPRatio'].mean()\n",
    "sd = mev_data['OPRatio'].std()\n",
    "\n",
    "x = np.linspace(0.9725, 1.0375, 100) # add normal distibution fit\n",
    "#plt.plot(x, mlab.normpdf(x,mean,sd), linewidth = 2, color='red')\n",
    "\n",
    "#plt.savefig('NPL_Paper_Plots/NPL_kV_Hist_NHS.png', bbox_inches='tight', dpi=300)"
   ]
  },
  {
   "cell_type": "markdown",
   "metadata": {
    "collapsed": true
   },
   "source": [
    "#Get some more stats such as Mean, SD, Skew etc."
   ]
  },
  {
   "cell_type": "code",
   "execution_count": 90,
   "metadata": {
    "collapsed": false
   },
   "outputs": [
    {
     "name": "stdout",
     "output_type": "stream",
     "text": [
      "Skew\n",
      "All:  0.354675590219\n",
      "MV:  0.592176242776\n",
      "MeV:  0.53703316834\n",
      "kV:  -0.497545002943\n",
      "\n",
      "SEM\n",
      "MV:  0.000750579488625\n",
      "MeV:  0.000767097800048\n",
      "kV:  0.00163275042783\n",
      "\n",
      "Mean\n",
      "MV:  1.00046273021\n",
      "MeV:  1.00254680851\n",
      "kV:  1.00210344828\n",
      "\n",
      "SD\n",
      "MV:  0.00675521539763\n",
      "MeV:  0.00743728910792\n",
      "kV:  0.00879263014276\n",
      "\n",
      "Skew Test\n",
      "MV:  (2.1713497799271417, 0.029904742036325212)\n",
      "MeV:  (2.1246012297417347, 0.033619901174178492)\n",
      "kV:  (-1.1854927884896169, 0.2358226642814415)\n"
     ]
    }
   ],
   "source": [
    "print('Skew')\n",
    "print('All: ', nhs_data['OPRatio'].skew())\n",
    "print('MV: ', mv_data['OPRatio'].skew())\n",
    "print('MeV: ', mev_data['OPRatio'].skew())\n",
    "print('kV: ', kv_data['OPRatio'].skew())\n",
    "print()\n",
    "print('SEM')\n",
    "print('MV: ', mv_data['OPRatio'].sem())\n",
    "print('MeV: ', mev_data['OPRatio'].sem())\n",
    "print('kV: ', kv_data['OPRatio'].sem())\n",
    "print()\n",
    "print('Mean')\n",
    "print('MV: ', mv_data['OPRatio'].mean())\n",
    "print('MeV: ', mev_data['OPRatio'].mean())\n",
    "print('kV: ', kv_data['OPRatio'].mean())\n",
    "print()\n",
    "print('SD')\n",
    "print('MV: ', mv_data['OPRatio'].std())\n",
    "print('MeV: ', mev_data['OPRatio'].std())\n",
    "print('kV: ', kv_data['OPRatio'].std())\n",
    "print()\n",
    "from scipy import stats\n",
    "print('Skew Test')\n",
    "print('MV: ', stats.skewtest(mv_data['OPRatio']))\n",
    "print('MeV: ', stats.skewtest(mev_data['OPRatio']))\n",
    "print('kV: ', stats.skewtest(kv_data['OPRatio']))\n",
    "#print(stats.skewtest(plotdata['OPRatio']))"
   ]
  },
  {
   "cell_type": "markdown",
   "metadata": {},
   "source": [
    "#Plot of All Audits"
   ]
  },
  {
   "cell_type": "code",
   "execution_count": 91,
   "metadata": {
    "collapsed": false,
    "scrolled": true
   },
   "outputs": [
    {
     "data": {
      "text/html": [
       "<div style=\"max-height:1000px;max-width:1500px;overflow:auto;\">\n",
       "<table border=\"1\" class=\"dataframe\">\n",
       "  <thead>\n",
       "    <tr style=\"text-align: right;\">\n",
       "      <th></th>\n",
       "      <th>Centre_ID</th>\n",
       "      <th>Group</th>\n",
       "      <th>CentreType</th>\n",
       "      <th>Date</th>\n",
       "      <th>Type</th>\n",
       "      <th>Energy</th>\n",
       "      <th>BeamQualRatio</th>\n",
       "      <th>BeamQualError</th>\n",
       "      <th>OPRatio</th>\n",
       "      <th>OPError</th>\n",
       "      <th>IntercompRatio</th>\n",
       "      <th>IntercompError</th>\n",
       "      <th>Comments</th>\n",
       "      <th>SD_Prev20</th>\n",
       "    </tr>\n",
       "  </thead>\n",
       "  <tbody>\n",
       "    <tr>\n",
       "      <th>57 </th>\n",
       "      <td>  6</td>\n",
       "      <td> 6</td>\n",
       "      <td> NHS</td>\n",
       "      <td>2005-08-09</td>\n",
       "      <td> kV</td>\n",
       "      <td>  85</td>\n",
       "      <td> 1.07</td>\n",
       "      <td>  3</td>\n",
       "      <td> 0.999</td>\n",
       "      <td> 0.6</td>\n",
       "      <td>   NaN</td>\n",
       "      <td> NaN</td>\n",
       "      <td> NaN</td>\n",
       "      <td>NaN</td>\n",
       "    </tr>\n",
       "    <tr>\n",
       "      <th>58 </th>\n",
       "      <td>  6</td>\n",
       "      <td> 6</td>\n",
       "      <td> NHS</td>\n",
       "      <td>2005-08-09</td>\n",
       "      <td> kV</td>\n",
       "      <td> 250</td>\n",
       "      <td> 1.02</td>\n",
       "      <td>  5</td>\n",
       "      <td> 1.008</td>\n",
       "      <td> 0.8</td>\n",
       "      <td> 1.001</td>\n",
       "      <td> 0.4</td>\n",
       "      <td> NaN</td>\n",
       "      <td>NaN</td>\n",
       "    </tr>\n",
       "    <tr>\n",
       "      <th>103</th>\n",
       "      <td> 21</td>\n",
       "      <td> 7</td>\n",
       "      <td> NHS</td>\n",
       "      <td>2005-08-25</td>\n",
       "      <td> kV</td>\n",
       "      <td>  60</td>\n",
       "      <td>  NaN</td>\n",
       "      <td>NaN</td>\n",
       "      <td> 1.002</td>\n",
       "      <td> 0.6</td>\n",
       "      <td>   NaN</td>\n",
       "      <td> NaN</td>\n",
       "      <td> NaN</td>\n",
       "      <td>NaN</td>\n",
       "    </tr>\n",
       "    <tr>\n",
       "      <th>104</th>\n",
       "      <td> 21</td>\n",
       "      <td> 7</td>\n",
       "      <td> NHS</td>\n",
       "      <td>2005-08-25</td>\n",
       "      <td> kV</td>\n",
       "      <td>  80</td>\n",
       "      <td>  NaN</td>\n",
       "      <td>NaN</td>\n",
       "      <td> 0.976</td>\n",
       "      <td> 0.6</td>\n",
       "      <td>   NaN</td>\n",
       "      <td> NaN</td>\n",
       "      <td> NaN</td>\n",
       "      <td>NaN</td>\n",
       "    </tr>\n",
       "    <tr>\n",
       "      <th>7  </th>\n",
       "      <td>  2</td>\n",
       "      <td> 1</td>\n",
       "      <td> NHS</td>\n",
       "      <td>2007-02-08</td>\n",
       "      <td> kV</td>\n",
       "      <td>  90</td>\n",
       "      <td> 1.07</td>\n",
       "      <td>  2</td>\n",
       "      <td> 1.006</td>\n",
       "      <td> 0.6</td>\n",
       "      <td> 0.994</td>\n",
       "      <td> 0.4</td>\n",
       "      <td> NaN</td>\n",
       "      <td>NaN</td>\n",
       "    </tr>\n",
       "  </tbody>\n",
       "</table>\n",
       "</div>"
      ],
      "text/plain": [
       "     Centre_ID  Group CentreType       Date Type  Energy  BeamQualRatio  \\\n",
       "57           6      6        NHS 2005-08-09   kV      85           1.07   \n",
       "58           6      6        NHS 2005-08-09   kV     250           1.02   \n",
       "103         21      7        NHS 2005-08-25   kV      60            NaN   \n",
       "104         21      7        NHS 2005-08-25   kV      80            NaN   \n",
       "7            2      1        NHS 2007-02-08   kV      90           1.07   \n",
       "\n",
       "     BeamQualError  OPRatio  OPError  IntercompRatio  IntercompError Comments  \\\n",
       "57               3    0.999      0.6             NaN             NaN      NaN   \n",
       "58               5    1.008      0.8           1.001             0.4      NaN   \n",
       "103            NaN    1.002      0.6             NaN             NaN      NaN   \n",
       "104            NaN    0.976      0.6             NaN             NaN      NaN   \n",
       "7                2    1.006      0.6           0.994             0.4      NaN   \n",
       "\n",
       "     SD_Prev20  \n",
       "57         NaN  \n",
       "58         NaN  \n",
       "103        NaN  \n",
       "104        NaN  \n",
       "7          NaN  "
      ]
     },
     "execution_count": 91,
     "metadata": {},
     "output_type": "execute_result"
    }
   ],
   "source": [
    "# Calculate rolling SD of 20 values\n",
    "\n",
    "mv_data_datesort = md.sort(['Date', 'Energy'], ascending=True) #Sort by date and energy and put into new dataframe\n",
    "mev_data_datesort = ed.sort(['Date', 'Energy'], ascending=True) #Sort by date and energy and put into new dataframe\n",
    "kv_data_datesort = kd.sort(['Date', 'Energy'], ascending=True) #Sort by date and energy and put into new dataframe\n",
    "#mv_data_datesort.append('SD_Prev20')\n",
    "\n",
    "m = mv_data_datesort     # to allow shorter references to dataframes\n",
    "e = mev_data_datesort\n",
    "k = kv_data_datesort\n",
    "\n",
    "m['SD_Prev20'] = np.nan\n",
    "m['SD_Prev20'] = pd.rolling_std(m['OPRatio'],window=20)\n",
    "\n",
    "e['SD_Prev20'] = np.nan\n",
    "e['SD_Prev20'] = pd.rolling_std(e['OPRatio'],window=20)\n",
    "\n",
    "k['SD_Prev20'] = np.nan\n",
    "k['SD_Prev20'] = pd.rolling_std(k['OPRatio'],window=20)\n",
    "\n",
    "k.head()\n"
   ]
  },
  {
   "cell_type": "markdown",
   "metadata": {},
   "source": [
    "##Histogram"
   ]
  },
  {
   "cell_type": "code",
   "execution_count": 92,
   "metadata": {
    "collapsed": false
   },
   "outputs": [
    {
     "data": {
      "text/plain": [
       "[<matplotlib.lines.Line2D at 0x90f8cf0>]"
      ]
     },
     "execution_count": 92,
     "metadata": {},
     "output_type": "execute_result"
    },
    {
     "data": {
      "image/png": "[encoded data removed]",
      "text/plain": [
       "<matplotlib.figure.Figure at 0x7bb7cf0>"
      ]
     },
     "metadata": {},
     "output_type": "display_data"
    }
   ],
   "source": [
    "pylab.rcParams['figure.figsize'] = 5, 5 # change size of figures\n",
    "\n",
    "from matplotlib.ticker import AutoMinorLocator\n",
    "\n",
    "d = e  #m = mv_data_datesort\n",
    "\n",
    "fig = plt.figure()\n",
    "axes = fig.add_subplot(1,1,1)\n",
    "plt.title('MeV')\n",
    "plt.xlabel(\"Output Ratio (NPL:Host)\")\n",
    "plt.ylabel(\"Freqency (%)\")\n",
    "plt.xlim(0.97, 1.032)\n",
    "plt.ylim(0, 60)\n",
    "\n",
    "d['OPRatio'].hist(bins=14, range=(0.9675, 1.0375), normed=True,\n",
    "                               facecolor = 'green', alpha = 0.8, ax=axes, rwidth=1)\n",
    "\n",
    "axes.xaxis.set_minor_locator(AutoMinorLocator(2)) #used to set the number of minor ticks between major ticks\n",
    "plt.tick_params(which='major', width=1, length=5)\n",
    "plt.tick_params(which='minor', width=1, length=3)\n",
    "plt.grid(True, which='major')\n",
    "\n",
    "mean = d['OPRatio'].mean()\n",
    "sd = d['OPRatio'].std()\n",
    "\n",
    "x = np.linspace(0.9725, 1.0375, 100) # add normal distibution fit\n",
    "plt.plot(x, mlab.normpdf(x,mean,sd), linewidth = 2, color='red')\n",
    "\n",
    "#plt.savefig('NPL_Paper_Plots/NPL_MeV_NotG5_Hist_Fit.png', bbox_inches='tight', dpi=300)"
   ]
  },
  {
   "cell_type": "markdown",
   "metadata": {},
   "source": [
    "##All audits in order"
   ]
  },
  {
   "cell_type": "code",
   "execution_count": 93,
   "metadata": {
    "collapsed": false
   },
   "outputs": [
    {
     "data": {
      "image/png": "[encoded data removed]",
      "text/plain": [
       "<matplotlib.figure.Figure at 0x90a9f90>"
      ]
     },
     "metadata": {},
     "output_type": "display_data"
    }
   ],
   "source": [
    "#m = mv_data_datesort\n",
    "\n",
    "#frames = [m, e, k]\n",
    "#d=pd.concat(frames) # to join all data together\n",
    "\n",
    "d = m\n",
    "\n",
    "pylab.rcParams['figure.figsize'] = 10, 5 # change size of figures\n",
    "fig1 = plt.figure()\n",
    "axes1 = fig1.add_subplot(1,1,1)\n",
    "plt.title('MV Audit Results')\n",
    "plt.xlabel(\"Audit Date\")\n",
    "plt.ylabel(\"OP Ratio (NPL:Host)\")\n",
    "plt.ylim(0.97, 1.03)\n",
    "axes1.xaxis.set_minor_locator(AutoMinorLocator(4)) #used to set the number of minor ticks between major ticks\n",
    "plt.tick_params(which='major', width=1, length=5)\n",
    "plt.tick_params(which='minor', width=1, length=3)\n",
    "plt.grid(True, which='major')\n",
    "\n",
    "x=np.arange(1,d['OPRatio'].count()+1)\n",
    "x=d['Date']\n",
    "y=d['OPRatio']\n",
    "yerr=(d['OPError']*d['OPRatio'])/100\n",
    "\n",
    "ysd=d['SD_Prev20']\n",
    "\n",
    "plt.errorbar(x, y, yerr=yerr, ecolor='black')\n",
    "axes2=fig1.add_subplot(111, sharex=axes1, frameon=False)\n",
    "axes2.yaxis.tick_right()\n",
    "axes2.yaxis.set_label_position('right')\n",
    "plt.ylim(0, 0.012)\n",
    "plt.ylabel(\"SD (Previous 20)\")\n",
    "line2=axes2.plot(x,ysd, color='orange')\n",
    "\n",
    "#plt.savefig('NPL_Paper_Plots/NPL_kV_All_SD_NHS.png', bbox_inches='tight', dpi=300)"
   ]
  },
  {
   "cell_type": "code",
   "execution_count": 94,
   "metadata": {
    "collapsed": false
   },
   "outputs": [
    {
     "data": {
      "text/plain": [
       "<matplotlib.text.Text at 0x9295230>"
      ]
     },
     "execution_count": 94,
     "metadata": {},
     "output_type": "execute_result"
    },
    {
     "data": {
      "image/png": "[encoded data removed]",
      "text/plain": [
       "<matplotlib.figure.Figure at 0x71ec330>"
      ]
     },
     "metadata": {},
     "output_type": "display_data"
    }
   ],
   "source": [
    "d=e\n",
    "\n",
    "plt.figure(figsize=(5,5))\n",
    "x=d['IntercompRatio']\n",
    "#x=d['BeamQualRatio']\n",
    "y=d['OPRatio']\n",
    "plt.scatter(x,y)\n",
    "plt.xlim(0.98,1.02)\n",
    "plt.ylim(0.97,1.03)\n",
    "\n",
    "plt.title('Intercomparison vs OP Ratio - MeV')\n",
    "plt.xlabel(\"Intercomparison Ratio\")\n",
    "plt.ylabel(\"OP Ratio\")\n",
    "\n",
    "#plt.savefig('NPL_Paper_Plots/NPL_MeV_IntercompvsOP.png', bbox_inches='tight', dpi=300)"
   ]
  },
  {
   "cell_type": "markdown",
   "metadata": {},
   "source": [
    "##Add linear fit to graphs"
   ]
  },
  {
   "cell_type": "code",
   "execution_count": 95,
   "metadata": {
    "collapsed": false
   },
   "outputs": [
    {
     "name": "stdout",
     "output_type": "stream",
     "text": [
      "94     1.0100\n",
      "95     1.0040\n",
      "69     1.0040\n",
      "70     1.0010\n",
      "199    1.0029\n",
      "Name: OPRatio, dtype: float64\n"
     ]
    }
   ],
   "source": [
    "print(d['OPRatio'].head(5))"
   ]
  },
  {
   "cell_type": "code",
   "execution_count": 101,
   "metadata": {
    "collapsed": false
   },
   "outputs": [
    {
     "name": "stdout",
     "output_type": "stream",
     "text": [
      "y = 0.877669444351x + 0.122761479032\n",
      "Residuals:  [ 0.00266662]\n"
     ]
    },
    {
     "data": {
      "image/png": "[encoded data removed]",
      "text/plain": [
       "<matplotlib.figure.Figure at 0x93e8550>"
      ]
     },
     "metadata": {},
     "output_type": "display_data"
    }
   ],
   "source": [
    "d=e       ## Use np.polyfit() to fit straight lines. weightings can be used with 1/sigma. \n",
    "\n",
    "x=d['IntercompRatio'].values\n",
    "y=d['OPRatio'].values\n",
    "\n",
    "#print(x,y)\n",
    "\n",
    "idx = np.isfinite(x) #This checks for NaN values as can't fit NaN values in IntercompRatio\n",
    "#fit_results = np.polyfit(x[idx], y[idx], 1, cov=True) #use full=True to give residuals, use cov=True to give covariance matrix\n",
    "#print(fit_results)\n",
    "(grad, intercept), residuals,  rank, singular_values, rcond  = np.polyfit(x[idx], y[idx], 1, full=True)\n",
    "\n",
    "print('y = ' + str(grad) + 'x + ' + str(intercept))\n",
    "print('Residuals: ', residuals)\n",
    "ext=0.03\n",
    "xfit=np.linspace(min(x[idx])-ext,max(x[idx])+ext,20)\n",
    "yfit= (grad*xfit) + intercept\n",
    "\n",
    "plt.figure(figsize=(5,5))\n",
    "plt.scatter(x, y)\n",
    "plt.plot(xfit,yfit, color='red', ls='--')\n",
    "plt.xlim(0.98,1.02)\n",
    "plt.ylim(0.97,1.03)\n",
    "plt.xlabel('Intercomparison Ratio')\n",
    "plt.ylabel('OP Ratio')\n",
    "\n",
    "savename = 'Curve_Fits/IntCompvsOP_kV_linfit.png'\n",
    "#plt.savefig(savename, bbox_inches='tight', dpi=300)"
   ]
  },
  {
   "cell_type": "code",
   "execution_count": 102,
   "metadata": {
    "collapsed": false
   },
   "outputs": [
    {
     "name": "stdout",
     "output_type": "stream",
     "text": [
      "Variance Estimates:  [ 0.023919    0.02395391]\n",
      "grad =  0.853750446799  -  0.901588441902\n",
      "intercept =  0.0988075654565  -  0.146715392608\n"
     ]
    },
    {
     "data": {
      "image/png": "[encoded data removed]",
      "text/plain": [
       "<matplotlib.figure.Figure at 0x5e6d2f0>"
      ]
     },
     "metadata": {},
     "output_type": "display_data"
    }
   ],
   "source": [
    "fit_stuff  = np.polyfit(x[idx], y[idx], 1, cov=True)\n",
    "var_est = np.diagonal(fit_stuff[1]) # variance estimates are the diagonals in the covariance matrix?\n",
    "\n",
    "print('Variance Estimates: ', var_est)\n",
    "print('grad = ', grad-var_est[0], ' - ', grad+var_est[0])\n",
    "print('intercept = ', intercept-var_est[1], ' - ', intercept+var_est[1])\n",
    "\n",
    "#yfit1= (grad-var_est[0])*xfit + (intercept+var_est[1])\n",
    "#yfit2= (grad-var_est[0])*xfit + (intercept-var_est[1])\n",
    "#yfit3= (grad+var_est[0])*xfit + (intercept+var_est[1])\n",
    "#yfit4= (grad+var_est[0])*xfit + (intercept-var_est[1])\n",
    "\n",
    "yfit1= (grad-var_est[0]**0.5)*xfit + (intercept+var_est[1]**0.5)\n",
    "yfit2= (grad-var_est[0]**0.5)*xfit + (intercept-var_est[1]**0.5)\n",
    "yfit3= (grad+var_est[0]**0.5)*xfit + (intercept+var_est[1]**0.5)\n",
    "yfit4= (grad+var_est[0]**0.5)*xfit + (intercept-var_est[1]**0.5)\n",
    "\n",
    "plt.figure(figsize=(5,5))\n",
    "plt.scatter(x, y)\n",
    "plt.plot(xfit,yfit, color='red', ls='--')\n",
    "plt.xlim(0.98,1.02)\n",
    "plt.ylim(0.97,1.03)\n",
    "plt.xlabel('Intercomparison Ratio')\n",
    "plt.ylabel('OP Ratio')\n",
    "plt.plot(xfit,yfit1, color='green', alpha=0.8)\n",
    "plt.plot(xfit,yfit2, color='orange', alpha=0.8)\n",
    "plt.plot(xfit,yfit3, color='blue', alpha=0.8)\n",
    "plt.plot(xfit,yfit4, color='grey', alpha=0.8)\n",
    "\n",
    "savename = 'Curve_Fits/IntCompvsOP_kV_linfit_errors.png'\n",
    "plt.savefig(savename, bbox_inches='tight', dpi=300)"
   ]
  },
  {
   "cell_type": "markdown",
   "metadata": {},
   "source": [
    "##Fit confidence interval based on Standard Error"
   ]
  },
  {
   "cell_type": "code",
   "execution_count": 192,
   "metadata": {
    "collapsed": false
   },
   "outputs": [
    {
     "name": "stdout",
     "output_type": "stream",
     "text": [
      "Summary: a=0.2543+/-0.6396, b=0.7475+/-0.6398\n",
      "Confidence intervals: ci_a=(-0.3854 - 0.8939), ci_b=(0.1077 - 1.3872)\n",
      "Residuals: variance = 0.0001, standard deviation = 0.0076\n",
      "alpha = 0.050, tval = 2.0739, df=22\n",
      "Example: x = 1.0+/-0.016127052865310347 => se_fit = 0.0016, se_predict = 0.00778\n"
     ]
    },
    {
     "data": {
      "image/png": "[encoded data removed]",
      "text/plain": [
       "<matplotlib.figure.Figure at 0xa917910>"
      ]
     },
     "metadata": {},
     "output_type": "display_data"
    }
   ],
   "source": [
    "import numpy as np\n",
    "import matplotlib.pyplot as plt\n",
    "import scipy.stats as stats\n",
    "\n",
    "def fitLine(x, y, alpha=0.05, newx=[], plotFlag=1):\n",
    "    ''' Fit a curve to the data using a least squares 1st order polynomial fit '''\n",
    "    \n",
    "    # Summary data\n",
    "    n = len(x)   # number of samples     \n",
    "    \n",
    "    Sxx = np.sum(x**2) - np.sum(x)**2/n\n",
    "#    Syy = np.sum(y**2) - np.sum(y)**2/n    # not needed here\n",
    "    Sxy = np.sum(x*y) - np.sum(x)*np.sum(y)/n    \n",
    "    mean_x = np.mean(x)\n",
    "    mean_y = np.mean(y)\n",
    "    \n",
    "    # Linefit\n",
    "    b = Sxy/Sxx\n",
    "    a = mean_y - b*mean_x\n",
    "    \n",
    "    # Residuals\n",
    "    fit = lambda xx: a + b*xx    \n",
    "    residuals = y - fit(x)\n",
    "    \n",
    "    var_res = np.sum(residuals**2)/(n-2)\n",
    "    sd_res = np.sqrt(var_res)\n",
    "    \n",
    "    # Confidence intervals\n",
    "    se_b = sd_res/np.sqrt(Sxx)\n",
    "    se_a = sd_res*np.sqrt(np.sum(x**2)/(n*Sxx))\n",
    "    \n",
    "    df = n-2                            # degrees of freedom\n",
    "    tval = stats.t.isf(alpha/2., df)    # appropriate t value\n",
    "    \n",
    "    ci_a = a + tval*se_a*np.array([-1,1])\n",
    "    ci_b = b + tval*se_b*np.array([-1,1])\n",
    "\n",
    "    # create series of new test x-values to predict for\n",
    "    npts = 100\n",
    "    #px = np.linspace(np.min(x),np.max(x),num=npts)\n",
    "    \n",
    "    ext=0.05\n",
    "    xfit=np.linspace(min(x)-ext,max(x)+ext,100)\n",
    "    \n",
    "    se_fit     = lambda x: sd_res * np.sqrt(  1./n + (x-mean_x)**2/Sxx)\n",
    "    se_predict = lambda x: sd_res * np.sqrt(1+1./n + (x-mean_x)**2/Sxx)\n",
    "    \n",
    "    print ('Summary: a={0:5.4f}+/-{1:5.4f}, b={2:5.4f}+/-{3:5.4f}'.format(a,tval*se_a,b,tval*se_b))\n",
    "    print ('Confidence intervals: ci_a=({0:5.4f} - {1:5.4f}), ci_b=({2:5.4f} - {3:5.4f})'.format(ci_a[0], ci_a[1], ci_b[0], ci_b[1]))\n",
    "    print ('Residuals: variance = {0:5.4f}, standard deviation = {1:5.4f}'.format(var_res, sd_res))\n",
    "    print ('alpha = {0:.3f}, tval = {1:5.4f}, df={2:d}'.format(alpha, tval, df))\n",
    "    \n",
    "    # Return info\n",
    "    ri = {'residuals': residuals, \n",
    "        'var_res': var_res,\n",
    "        'sd_res': sd_res,\n",
    "        'alpha': alpha,\n",
    "        'tval': tval,\n",
    "        'df': df}\n",
    "    \n",
    "    if plotFlag == 1:\n",
    "        # Plot the data\n",
    "        plt.figure(figsize=(5,5))\n",
    "        \n",
    "        plt.plot(xfit, fit(xfit),color='black', ls='--', label='Linear Fit')\n",
    "       # plt.plot(x,y,'b.', label='Sample observations')\n",
    "        plt.scatter(x,y, alpha=0.8, label='Data')\n",
    "        \n",
    "        x.sort()\n",
    "        limit = (1-alpha)*100\n",
    "        \n",
    "        plt.plot(xfit, fit(xfit)+tval*se_fit(xfit), 'grey', alpha=0.3, label='Conf. limit ({0:.1f}%)'.format(limit))\n",
    "        plt.plot(xfit, fit(xfit)-tval*se_fit(xfit), 'grey', alpha=0.3)\n",
    "        \n",
    "        plt.fill_between(xfit, fit(xfit)+tval*se_fit(xfit), fit(xfit)-tval*se_fit(xfit), facecolor='grey', alpha=0.3)\n",
    "        \n",
    "        plt.plot(xfit, fit(xfit)+tval*se_predict(xfit), 'c--', label='Pred. limit ({0:.1f}%)'.format(limit))\n",
    "        plt.plot(xfit, fit(xfit)-tval*se_predict(xfit), 'c--')\n",
    "\n",
    "        plt.xlabel('Intercomparison Ratio')\n",
    "        plt.ylabel('Output Ratio')\n",
    "        plt.xlim(0.97,1.03)\n",
    "        plt.ylim(0.97,1.03)\n",
    "        plt.title(typestr)\n",
    "        \n",
    "        # configure legend\n",
    "        plt.legend(loc='lower right', scatterpoints = 1)\n",
    "        leg = plt.gca().get_legend()\n",
    "        ltext = leg.get_texts()\n",
    "        plt.setp(ltext, fontsize=10)\n",
    "\n",
    "        # show the plot\n",
    "        #plt.show()\n",
    "        \n",
    "    if newx != []:\n",
    "        try:\n",
    "            newx.size\n",
    "        except AttributeError:\n",
    "            newx = np.array([newx])\n",
    "    \n",
    "        print ('Example: x = {0}+/-{1} => se_fit = {2:5.4f}, se_predict = {3:6.5f}'\\\n",
    "        .format(newx[0], tval*se_predict(newx[0]), se_fit(newx[0]), se_predict(newx[0])))\n",
    "        \n",
    "        newy = (fit(newx), fit(newx)-se_predict(newx), fit(newx)+se_predict(newx))\n",
    "        return (a,b,(ci_a, ci_b), ri, newy)\n",
    "    else:\n",
    "        return (a,b,(ci_a, ci_b), ri)\n",
    "    \n",
    "#if __name__ == '__main__':\n",
    "        # example data\n",
    "        #x = np.array([15.3, 10.8, 8.1, 19.5, 7.2, 5.3, 9.3, 11.1, 7.5, 12.2,\n",
    "        #              6.7, 5.2, 19.0, 15.1, 6.7, 8.6, 4.2, 10.3, 12.5, 16.1, \n",
    "        #              13.3, 4.9, 8.8, 9.5])\n",
    "        #y = np.array([1.76, 1.34, 1.27, 1.47, 1.27, 1.49, 1.31, 1.09, 1.18, \n",
    "        #              1.22, 1.25, 1.19, 1.95, 1.28, 1.52, np.nan, 1.12, 1.37, \n",
    "        #              1.19, 1.05, 1.32, 1.03, 1.12, 1.70])\n",
    "                      \n",
    "#        goodIndex = np.invert(np.logical_or(np.isnan(x), np.isnan(y)))\n",
    "        \n",
    "## Function used to fit line\n",
    "\n",
    "d=k       ## Use np.polyfit() to fit straight lines. weightings can be used with 1/sigma. \n",
    "\n",
    "xraw=d['IntercompRatio'].values\n",
    "yraw=d['OPRatio'].values\n",
    "typestr=d['Type'].values[0] #for title of plot\n",
    "#print(typestr[0])\n",
    "\n",
    "idx = np.isfinite(xraw) #This checks for NaN values as can't fit NaN values in IntercompRatio\n",
    "x=xraw[idx]\n",
    "y=yraw[idx]\n",
    "\n",
    "(a,b,(ci_a, ci_b), ri,newy) = fitLine(x,y, alpha=0.05,newx=np.array([1,4.5]))\n",
    "\n",
    "\n",
    "#savename = 'Curve_Fits/IntCompvsOP_kV_linfit.png'\n",
    "#plt.savefig(savename, bbox_inches='tight', dpi=300)"
   ]
  },
  {
   "cell_type": "code",
   "execution_count": 177,
   "metadata": {
    "collapsed": false
   },
   "outputs": [
    {
     "ename": "IndexError",
     "evalue": "index 80 is out of bounds for axis 1 with size 80",
     "output_type": "error",
     "traceback": [
      "\u001b[1;31m---------------------------------------------------------------------------\u001b[0m",
      "\u001b[1;31mIndexError\u001b[0m                                Traceback (most recent call last)",
      "\u001b[1;32m<ipython-input-177-f0048a286885>\u001b[0m in \u001b[0;36m<module>\u001b[1;34m()\u001b[0m\n\u001b[1;32m----> 1\u001b[1;33m \u001b[1;33m(\u001b[0m\u001b[0mgrad\u001b[0m\u001b[1;33m,\u001b[0m \u001b[0mintercept\u001b[0m\u001b[1;33m)\u001b[0m\u001b[1;33m,\u001b[0m \u001b[0mresiduals\u001b[0m\u001b[1;33m,\u001b[0m  \u001b[0mrank\u001b[0m\u001b[1;33m,\u001b[0m \u001b[0msingular_values\u001b[0m\u001b[1;33m,\u001b[0m \u001b[0mrcond\u001b[0m  \u001b[1;33m=\u001b[0m \u001b[0mnp\u001b[0m\u001b[1;33m.\u001b[0m\u001b[0mpolyfit\u001b[0m\u001b[1;33m(\u001b[0m\u001b[0mx\u001b[0m\u001b[1;33m[\u001b[0m\u001b[0midx\u001b[0m\u001b[1;33m]\u001b[0m\u001b[1;33m,\u001b[0m \u001b[0my\u001b[0m\u001b[1;33m[\u001b[0m\u001b[0midx\u001b[0m\u001b[1;33m]\u001b[0m\u001b[1;33m,\u001b[0m \u001b[1;36m1\u001b[0m\u001b[1;33m,\u001b[0m \u001b[0mfull\u001b[0m\u001b[1;33m=\u001b[0m\u001b[1;32mTrue\u001b[0m\u001b[1;33m)\u001b[0m\u001b[1;33m\u001b[0m\u001b[0m\n\u001b[0m\u001b[0;32m      2\u001b[0m \u001b[1;31m#var_est = np.diagonal(fit_stuff[1]) # variance estimates are the diagonals in the covariance matrix?\u001b[0m\u001b[1;33m\u001b[0m\u001b[1;33m\u001b[0m\u001b[0m\n\u001b[0;32m      3\u001b[0m \u001b[1;33m\u001b[0m\u001b[0m\n\u001b[0;32m      4\u001b[0m \u001b[0myfit1\u001b[0m\u001b[1;33m=\u001b[0m \u001b[1;33m(\u001b[0m\u001b[0mgrad\u001b[0m\u001b[1;33m-\u001b[0m\u001b[0mvar_est\u001b[0m\u001b[1;33m[\u001b[0m\u001b[1;36m0\u001b[0m\u001b[1;33m]\u001b[0m\u001b[1;33m**\u001b[0m\u001b[1;36m0.5\u001b[0m\u001b[1;33m)\u001b[0m\u001b[1;33m*\u001b[0m\u001b[0mxfit\u001b[0m \u001b[1;33m+\u001b[0m \u001b[1;33m(\u001b[0m\u001b[0mintercept\u001b[0m\u001b[1;33m+\u001b[0m\u001b[0mvar_est\u001b[0m\u001b[1;33m[\u001b[0m\u001b[1;36m1\u001b[0m\u001b[1;33m]\u001b[0m\u001b[1;33m**\u001b[0m\u001b[1;36m0.5\u001b[0m\u001b[1;33m)\u001b[0m\u001b[1;33m\u001b[0m\u001b[0m\n\u001b[0;32m      5\u001b[0m \u001b[0myfit2\u001b[0m\u001b[1;33m=\u001b[0m \u001b[1;33m(\u001b[0m\u001b[0mgrad\u001b[0m\u001b[1;33m-\u001b[0m\u001b[0mvar_est\u001b[0m\u001b[1;33m[\u001b[0m\u001b[1;36m0\u001b[0m\u001b[1;33m]\u001b[0m\u001b[1;33m**\u001b[0m\u001b[1;36m0.5\u001b[0m\u001b[1;33m)\u001b[0m\u001b[1;33m*\u001b[0m\u001b[0mxfit\u001b[0m \u001b[1;33m+\u001b[0m \u001b[1;33m(\u001b[0m\u001b[0mintercept\u001b[0m\u001b[1;33m-\u001b[0m\u001b[0mvar_est\u001b[0m\u001b[1;33m[\u001b[0m\u001b[1;36m1\u001b[0m\u001b[1;33m]\u001b[0m\u001b[1;33m**\u001b[0m\u001b[1;36m0.5\u001b[0m\u001b[1;33m)\u001b[0m\u001b[1;33m\u001b[0m\u001b[0m\n",
      "\u001b[1;31mIndexError\u001b[0m: index 80 is out of bounds for axis 1 with size 80"
     ]
    }
   ],
   "source": [
    "(grad, intercept), residuals,  rank, singular_values, rcond  = np.polyfit(x[idx], y[idx], 1, full=True)\n",
    "#var_est = np.diagonal(fit_stuff[1]) # variance estimates are the diagonals in the covariance matrix?\n",
    "\n",
    "yfit1= (grad-var_est[0]**0.5)*xfit + (intercept+var_est[1]**0.5)\n",
    "yfit2= (grad-var_est[0]**0.5)*xfit + (intercept-var_est[1]**0.5)\n",
    "\n",
    "plt.figure(figsize=(5,5))\n",
    "plt.scatter(x, y)\n",
    "plt.plot(xfit,yfit, color='red', ls='--')\n",
    "plt.xlim(0.98,1.02)\n",
    "plt.ylim(0.97,1.03)\n",
    "plt.xlabel('Intercomparison Ratio')\n",
    "plt.ylabel('OP Ratio')\n",
    "plt.plot(xfit,yfit1, color='green', alpha=0.8)\n",
    "plt.plot(xfit,yfit2, color='orange', alpha=0.8)\n",
    "plt.plot(xfit,yfit3, color='blue', alpha=0.8)\n",
    "plt.plot(xfit,yfit4, color='grey', alpha=0.8)\n",
    "\n",
    "#savename = 'Curve_Fits/IntCompvsOP_kV_linfit_errors.png'\n",
    "#plt.savefig(savename, bbox_inches='tight', dpi=300)"
   ]
  },
  {
   "cell_type": "code",
   "execution_count": 178,
   "metadata": {
    "collapsed": false
   },
   "outputs": [
    {
     "ename": "IndexError",
     "evalue": "index 80 is out of bounds for axis 1 with size 80",
     "output_type": "error",
     "traceback": [
      "\u001b[1;31m---------------------------------------------------------------------------\u001b[0m",
      "\u001b[1;31mIndexError\u001b[0m                                Traceback (most recent call last)",
      "\u001b[1;32m<ipython-input-178-b693579fa401>\u001b[0m in \u001b[0;36m<module>\u001b[1;34m()\u001b[0m\n\u001b[0;32m      1\u001b[0m \u001b[1;32mfrom\u001b[0m \u001b[0mscipy\u001b[0m \u001b[1;32mimport\u001b[0m \u001b[0mstats\u001b[0m\u001b[1;33m\u001b[0m\u001b[0m\n\u001b[0;32m      2\u001b[0m \u001b[1;33m\u001b[0m\u001b[0m\n\u001b[1;32m----> 3\u001b[1;33m \u001b[0mslope\u001b[0m\u001b[1;33m,\u001b[0m \u001b[0mintercept\u001b[0m\u001b[1;33m,\u001b[0m \u001b[0mr_value\u001b[0m\u001b[1;33m,\u001b[0m \u001b[0mp_value\u001b[0m\u001b[1;33m,\u001b[0m \u001b[0mstd_err\u001b[0m \u001b[1;33m=\u001b[0m \u001b[0mstats\u001b[0m\u001b[1;33m.\u001b[0m\u001b[0mlinregress\u001b[0m\u001b[1;33m(\u001b[0m\u001b[0mx\u001b[0m\u001b[1;33m[\u001b[0m\u001b[0midx\u001b[0m\u001b[1;33m]\u001b[0m\u001b[1;33m,\u001b[0m\u001b[0my\u001b[0m\u001b[1;33m[\u001b[0m\u001b[0midx\u001b[0m\u001b[1;33m]\u001b[0m\u001b[1;33m)\u001b[0m\u001b[1;33m\u001b[0m\u001b[0m\n\u001b[0m\u001b[0;32m      4\u001b[0m \u001b[0mprint\u001b[0m\u001b[1;33m(\u001b[0m\u001b[1;34m'y = '\u001b[0m\u001b[1;33m,\u001b[0m \u001b[0mslope\u001b[0m\u001b[1;33m,\u001b[0m \u001b[1;34m'x + '\u001b[0m\u001b[1;33m,\u001b[0m \u001b[0mintercept\u001b[0m\u001b[1;33m)\u001b[0m\u001b[1;33m\u001b[0m\u001b[0m\n\u001b[0;32m      5\u001b[0m \u001b[0mprint\u001b[0m\u001b[1;33m(\u001b[0m\u001b[1;34m'R squared: '\u001b[0m\u001b[1;33m,\u001b[0m \u001b[0mr_value\u001b[0m\u001b[1;33m**\u001b[0m\u001b[1;36m2\u001b[0m\u001b[1;33m)\u001b[0m\u001b[1;33m\u001b[0m\u001b[0m\n",
      "\u001b[1;31mIndexError\u001b[0m: index 80 is out of bounds for axis 1 with size 80"
     ]
    }
   ],
   "source": [
    "from scipy import stats\n",
    "\n",
    "slope, intercept, r_value, p_value, std_err = stats.linregress(x[idx],y[idx])\n",
    "print('y = ', slope, 'x + ', intercept)\n",
    "print('R squared: ', r_value**2)\n",
    "print('Std Error: ', std_err)\n",
    "print('P Value: ', p_value)"
   ]
  },
  {
   "cell_type": "code",
   "execution_count": 44,
   "metadata": {
    "collapsed": false
   },
   "outputs": [],
   "source": [
    "##fitting function taken from http://stackoverflow.com/questions/19379295/linear-regression-with-pandas-dataframe\n",
    "\n",
    "#from scipy.stats import linregress\n",
    "#def fit_line1(x, y):\n",
    "#    \"\"\"Return slope, intercept of best fit line.\"\"\"\n",
    "#    # Remove entries where either x or y is NaN.\n",
    "#    clean_data = pd.concat([x, y], 1).dropna(0) # row-wise\n",
    "#    (_, x), (_, y) = clean_data.iteritems()\n",
    "#    slope, intercept, r, p, stderr = linregress(x, y)\n",
    "#    return slope, intercept # could also return stderr\n",
    "\n",
    "#m, b = fit_line1(x, y)\n",
    "#N = 100 # could be just 2 if you are only drawing a straight line...\n",
    "#points = np.linspace(x.min(), x.max(), N)\n",
    "#plt.plot(points, m*points + b)\n",
    "#plt.scatter(x,y)"
   ]
  },
  {
   "cell_type": "markdown",
   "metadata": {},
   "source": [
    "Want to do the below with it split into groups, and also split into 5 year periods to see the variation with time. (Similar to Palmer paper...)"
   ]
  },
  {
   "cell_type": "code",
   "execution_count": null,
   "metadata": {
    "collapsed": false
   },
   "outputs": [],
   "source": [
    "# extract only Groups and OPRatio to allow simple box plot production \n",
    "#mv = mv_data_datesort[['Group', 'OPRatio']]\n",
    "\n",
    "# make a numpy array to use rather than pandas?\n",
    "#g = np.array(mv_data_datesort['Group'])\n",
    "#op = np.array(mv_data_datesort['OPRatio'])\n",
    "\n",
    "#m = mv_data_datesort\n",
    "\n",
    "g1 = k.loc[kv_data_datesort['Group']==1, ['OPRatio']]\n",
    "g2 = k.loc[kv_data_datesort['Group']==2, ['OPRatio']]\n",
    "g3 = k.loc[kv_data_datesort['Group']==3, ['OPRatio']]\n",
    "g4 = k.loc[kv_data_datesort['Group']==4, ['OPRatio']]\n",
    "g5 = k.loc[kv_data_datesort['Group']==6, ['OPRatio']]\n",
    "g6 = k.loc[kv_data_datesort['Group']==7, ['OPRatio']]\n",
    "g7 = k.loc[kv_data_datesort['Group']==8, ['OPRatio']]\n",
    "g8 = k.loc[kv_data_datesort['Group']==9, ['OPRatio']]\n",
    "\n",
    "grouped=[g1,g2,g3,g4,g5,g6,g7,g8] # this should be able to be done a bit easier without splitting it all up first.\n",
    "\n",
    "fig = plt.figure(1, figsize=(9,6))\n",
    "\n",
    "ax = fig.add_subplot(111)\n",
    "\n",
    "bp = ax.boxplot(grouped, whis='range', patch_artist=True, showmeans=True)\n",
    "plt.plot([-1,10],[1,1], linestyle='--', color='black', alpha=0.5) #add line at OPRatio=1\n",
    "plt.title('kV Audit Results - Seperated by Audit Region')\n",
    "plt.xlabel(\"Audit Region\")\n",
    "plt.ylabel(\"OP Ratio (NPL:Host)\")\n",
    "plt.ylim(0.97,1.03)\n",
    "\n",
    "for box in bp['boxes']:\n",
    "    box.set(facecolor='lightgrey')\n",
    "    \n",
    "for whisker in bp['whiskers']:\n",
    "    whisker.set(linestyle='-', color='black') \n",
    "    \n",
    "for median in bp['medians']:\n",
    "    median.set(color='black')\n",
    "    \n",
    "for mean in bp['means']:\n",
    "    mean.set(marker='o', color='black', markerfacecolor='black')\n",
    "    \n",
    "#plt.savefig('NPL_Paper_Plots/NPL_kV_All_Groups_NHS.png', bbox_inches='tight', dpi=300)\n"
   ]
  },
  {
   "cell_type": "markdown",
   "metadata": {},
   "source": [
    "Plot all groups OP data as a sort of scatter plot (rather than use box plot?)"
   ]
  },
  {
   "cell_type": "code",
   "execution_count": null,
   "metadata": {
    "collapsed": false
   },
   "outputs": [],
   "source": [
    "fig = plt.figure(1, figsize=(9,6))\n",
    "\n",
    "ax = fig.add_subplot(111)\n",
    "ax.set_xticks([1,2,3,4,5,6,7,8])\n",
    "\n",
    "one = plt.plot([0,10],[1,1], '--', color='black', alpha=0.5) #add line for OPratio=1\n",
    "\n",
    "for i in range(0, len(grouped)):\n",
    "    scat = plt.plot(np.linspace(i+1,i+1,len(grouped[i])), grouped[i], u'o', color='black', alpha=0.5, linewidth=2)\n",
    "\n",
    "plt.xlim(0.5,8.5)\n",
    "plt.ylim(0.97,1.03)\n",
    "plt.title('kV Audit Results - Seperated by Audit Region')\n",
    "plt.xlabel(\"Audit Region\")\n",
    "plt.ylabel(\"OP Ratio (NPL:Host)\")\n",
    "\n",
    "##### can add box plot over the top by uncommenting the below line\n",
    "\n",
    "#bp = ax.boxplot(grouped, whis='range', patch_artist=True, showmeans=True)\n",
    "\n",
    "for box in bp['boxes']:\n",
    "    box.set(facecolor='grey')\n",
    "    \n",
    "for whisker in bp['whiskers']:\n",
    "    whisker.set(linestyle='-', color='black') \n",
    "    \n",
    "for median in bp['medians']:\n",
    "    median.set(color='black')\n",
    "    \n",
    "for mean in bp['means']:\n",
    "    mean.set(marker='o', color='black', markerfacecolor='black')\n",
    "    \n",
    "#plt.savefig('NPL_Paper_Plots/NPL_kV_All_Groups_Scat_NHS.png', bbox_inches='tight', dpi=300)"
   ]
  },
  {
   "cell_type": "markdown",
   "metadata": {
    "collapsed": true
   },
   "source": [
    "   #Split data into 2 year intervals"
   ]
  },
  {
   "cell_type": "code",
   "execution_count": null,
   "metadata": {
    "collapsed": false
   },
   "outputs": [],
   "source": [
    "#create different sets of data containing 2 year intervals\n",
    "\n",
    "d = nhs_data\n",
    "\n",
    "y1 = d[(d['Date'] > '1994-01-01') & (d['Date'] < '1996-01-01')].copy()\n",
    "y2 = d[(d['Date'] > '1996-01-01') & (d['Date'] < '1998-01-01')].copy()\n",
    "y3 = d[(d['Date'] > '1998-01-01') & (d['Date'] < '2000-01-01')].copy()\n",
    "y4 = d[(d['Date'] > '2000-01-01') & (d['Date'] < '2002-01-01')].copy()\n",
    "y5 = d[(d['Date'] > '2002-01-01') & (d['Date'] < '2004-01-01')].copy()\n",
    "y6 = d[(d['Date'] > '2004-01-01') & (d['Date'] < '2006-01-01')].copy()\n",
    "y7 = d[(d['Date'] > '2006-01-01') & (d['Date'] < '2008-01-01')].copy()\n",
    "y8 = d[(d['Date'] > '2008-01-01') & (d['Date'] < '2010-01-01')].copy()\n",
    "y9 = d[(d['Date'] > '2010-01-01') & (d['Date'] < '2012-01-01')].copy()\n",
    "y10 = d[(d['Date'] > '2012-01-01') & (d['Date'] < '2014-01-01')].copy()\n",
    "y11 = d[(d['Date'] > '2014-01-01') & (d['Date'] < '2016-01-01')].copy()\n",
    "\n",
    "#y1['GroupYear'] = 1\n",
    "#y2['GroupYear'] = 2\n",
    "#y3['GroupYear'] = 3\n",
    "#y4['GroupYear'] = 4\n",
    "#y5['GroupYear'] = 5\n",
    "#y6['GroupYear'] = 6\n",
    "#y7['GroupYear'] = 7\n",
    "#y8['GroupYear'] = 8\n",
    "#y9['GroupYear'] = 9\n",
    "#y10['GroupYear'] = 10\n",
    "#y11['GroupYear'] = 11\n",
    "\n",
    "y1 = y1['OPRatio']\n",
    "y2 = y2['OPRatio']\n",
    "y3 = y3['OPRatio']\n",
    "y4 = y4['OPRatio']\n",
    "y5 = y5['OPRatio']\n",
    "y6 = y6['OPRatio']\n",
    "y7 = y7['OPRatio']\n",
    "y8 = y8['OPRatio']\n",
    "y9 = y9['OPRatio']\n",
    "y10 = y10['OPRatio']\n",
    "y11 = y11['OPRatio']\n",
    "\n",
    "grouped_year=[y1,y2,y3,y4,y5,y6,y7,y8,y9,y10,y11] # this should be able to be done a bit easier without splitting it all up first.\n",
    "\n",
    "fig = plt.figure(1, figsize=(9,6))\n",
    "\n",
    "ax = fig.add_subplot(111)\n",
    "#ax.set_xticks([1,2,3,4,5,6,7,8,9,10,11])\n",
    "ax.set_xticks([1994,1996,1998,2000,2002,2004,2006,2008,2010,2012,2014,2016])\n",
    "\n",
    "one = plt.plot([0,3000],[1,1], '--', color='black', alpha=0.5) #add line for OPratio=1\n",
    "\n",
    "for i in range(0, len(grouped_year)):\n",
    "    #print(i)\n",
    "    scat = plt.plot(np.linspace(2*i+1994,2*i+1994,len(grouped_year[i])), grouped_year[i], u'o', color='black', alpha=0.5, linewidth=2)\n",
    "\n",
    "#for i in range(0, len(grouped_year)):\n",
    "#    print(np.linspace(i+1, i+1, len(grouped_year[i])))\n",
    "\n",
    "#plt.xlim(0.5,11.5)\n",
    "plt.xlim(1993, 2016)\n",
    "plt.ylim(0.97,1.03)\n",
    "plt.title('MeV Audit Results - Seperated by Year')\n",
    "plt.xlabel(\"Audit Year\")\n",
    "plt.ylabel(\"OP Ratio (NPL:Host)\")\n",
    "\n",
    "#plt.savefig('NPL_Paper_Plots/NPL_kV_Years_Scat_NHS.png', bbox_inches='tight', dpi=300)\n"
   ]
  },
  {
   "cell_type": "code",
   "execution_count": null,
   "metadata": {
    "collapsed": false
   },
   "outputs": [],
   "source": [
    "nhs_data.groupby('Type').describe()\n"
   ]
  },
  {
   "cell_type": "markdown",
   "metadata": {
    "collapsed": true
   },
   "source": [
    "#MeV Low/High Energy"
   ]
  },
  {
   "cell_type": "code",
   "execution_count": null,
   "metadata": {
    "collapsed": false,
    "scrolled": false
   },
   "outputs": [],
   "source": [
    "#d = nhs_data\n",
    "\n",
    "#md = mv_data\n",
    "#ed = mev_data\n",
    "#kd = kv_data\n",
    "\n",
    "esplit = 9\n",
    "elow = ed[ed['Energy'] <= esplit].copy() #separate each of mev/mv/kv into 'low' and 'high' energy\n",
    "ehigh = ed[ed['Energy'] > esplit].copy()\n",
    "\n",
    "msplit = 6\n",
    "mlow = md[md['Energy'] <= msplit].copy()\n",
    "mhigh = md[md['Energy'] > msplit].copy()\n",
    "\n",
    "ksplit = 160\n",
    "klow = kd[kd['Energy'] <= ksplit].copy()\n",
    "khigh = kd[kd['Energy'] > ksplit].copy()\n",
    "\n",
    "#grouped_year=[y1,y2,y3,y4,y5,y6,y7,y8,y9,y10,y11] # this should be able to be done a bit easier without splitting it all up first.\n",
    "\n",
    "to_plot1 = klow\n",
    "to_plot2 = khigh\n",
    "\n",
    "fig = plt.figure()\n",
    "axes = fig.add_subplot(1,1,1)\n",
    "plt.title('kV')\n",
    "plt.xlabel(\"Output Ratio (NPL:Host)\")\n",
    "plt.ylabel(\"Number of Audit Results\")\n",
    "plt.xlim(0.968, 1.032)\n",
    "#plt.ylim(0, 60)\n",
    "\n",
    "to_plot1['OPRatio'].hist(bins=14, range=(0.9675, 1.0375), normed=False,\n",
    "                               facecolor = 'red', alpha = 0.5, ax=axes, rwidth=0.8, label='< low kV')\n",
    "to_plot2['OPRatio'].hist(bins=14, range=(0.9675, 1.0375), normed=False,\n",
    "                               facecolor = 'green', alpha = 0.5, ax=axes, rwidth=0.8, label='>= high kV')\n",
    "\n",
    "#single plot with separated bars\n",
    "#plt.hist([to_plot1['OPRatio'],to_plot2['OPRatio']], label=['low','high'],histtype='bar', alpha=0.7)\n",
    "\n",
    "axes.xaxis.set_minor_locator(AutoMinorLocator(2)) #used to set the number of minor ticks between major ticks\n",
    "plt.tick_params(which='major', width=1, length=5)\n",
    "plt.tick_params(which='minor', width=1, length=3)\n",
    "plt.grid(True, which='major')\n",
    "plt.legend(loc='best')\n",
    "\n",
    "#plt.savefig('NPL_Paper_Plots/NPL_kV_Energy_Split_NHS.png', bbox_inches='tight', dpi=300)"
   ]
  },
  {
   "cell_type": "markdown",
   "metadata": {},
   "source": [
    "##Get some stats for low/high energies\n",
    "Have recorded values in excel spreadsheet for low/high/all\n"
   ]
  },
  {
   "cell_type": "code",
   "execution_count": null,
   "metadata": {
    "collapsed": false
   },
   "outputs": [],
   "source": [
    "m.describe()\n"
   ]
  },
  {
   "cell_type": "markdown",
   "metadata": {},
   "source": [
    "##Plot Beam Quality"
   ]
  },
  {
   "cell_type": "code",
   "execution_count": null,
   "metadata": {
    "collapsed": false
   },
   "outputs": [],
   "source": [
    "#m = mv_data_datesort\n",
    "\n",
    "m = mv_data_datesort     # to allow shorter references to dataframes\n",
    "e = mev_data_datesort\n",
    "k = kv_data_datesort\n",
    "\n",
    "fig1 = plt.figure()\n",
    "axes1 = fig1.add_subplot(1,1,1)\n",
    "plt.title('MV Audit Results')\n",
    "plt.xlabel(\"Audit Number\")\n",
    "plt.ylabel(\"Beam Quality Ratio (NPL:Host)\")\n",
    "plt.ylim(0.97, 1.03)\n",
    "axes1.xaxis.set_minor_locator(AutoMinorLocator(4)) #used to set the number of minor ticks between major ticks\n",
    "plt.tick_params(which='major', width=1, length=5)\n",
    "plt.tick_params(which='minor', width=1, length=3)\n",
    "plt.grid(True, which='major')\n",
    "\n",
    "q = m\n",
    "\n",
    "x=np.arange(1,q['BeamQualRatio'].count()+1)\n",
    "y=q['BeamQualRatio']\n",
    "\n",
    "plt.plot(x,y)\n",
    "#plt.errorbar(x, y, yerr=yerr, ecolor='black')\n",
    "#axes2=fig1.add_subplot(111, sharex=axes1, frameon=False)\n",
    "#axes2.yaxis.tick_right()\n",
    "#axes2.yaxis.set_label_position('right')\n",
    "#plt.ylim(0, 0.012)\n",
    "#plt.ylabel(\"SD (Previous 20)\")\n",
    "#line2=axes2.plot(x,ysd, color='orange')\n",
    "\n",
    "#plt.savefig('NPL_Paper_Plots/NPL_kV_All_SD_NHS.png', bbox_inches='tight', dpi=300)\n"
   ]
  },
  {
   "cell_type": "code",
   "execution_count": null,
   "metadata": {
    "collapsed": false
   },
   "outputs": [],
   "source": [
    "d=e\n",
    "\n",
    "plt.figure(figsize=(5,5))\n",
    "\n",
    "plt.scatter(d['OPRatio'], d['BeamQualRatio'])\n",
    "#plt.scatter(d['OPRatio'], d['IntercompRatio'])\n",
    "\n",
    "plt.title('Beam Quality vs OP Ratio - MeV')\n",
    "plt.xlabel(\"OP Ratio\")\n",
    "plt.ylabel(\"Beam Quality Ratio\")\n",
    "plt.xlim(0.9,1.03)\n",
    "plt.ylim(-0.4,0.4)\n",
    "\n",
    "#plt.savefig('NPL_Paper_Plots/NPL_MeV_BQvsOP.png', bbox_inches='tight', dpi=300)\n"
   ]
  },
  {
   "cell_type": "markdown",
   "metadata": {},
   "source": [
    "##No real trends observed in Beam Qual\n",
    "###What does the spread look like?"
   ]
  },
  {
   "cell_type": "code",
   "execution_count": null,
   "metadata": {
    "collapsed": false
   },
   "outputs": [],
   "source": [
    "fig = plt.figure()\n",
    "axes = fig.add_subplot(1,1,1)\n",
    "plt.title('Beam Quality')\n",
    "plt.xlabel(\"Beam Quality Dif (mm) (NPL:Host)\")\n",
    "plt.ylabel(\"Number of Audit Results\")\n",
    "#plt.xlim(0.968, 1.032)\n",
    "#plt.ylim(0, 60)\n",
    "\n",
    "#e['BeamQualRatio'].hist(bins=14, range=(0.9675, 1.0375), normed=False,\n",
    "#                               facecolor = 'red', alpha = 0.5, ax=axes, rwidth=0.8, label='MeV')\n",
    "m['BeamQualRatio'].hist(bins=14, range=(0.9675, 1.0375), normed=False,\n",
    "                               facecolor = 'green', alpha = 0.5, ax=axes, rwidth=0.8, label='MV')\n",
    "#k['BeamQualRatio'].hist(bins=14, range=(0.9675, 1.0375), normed=True,\n",
    "#                              facecolor = 'blue', alpha = 0.5, ax=axes, rwidth=0.8, label='kV')\n",
    "\n",
    "##electrons are R50d so dif scale needed.\n",
    "#ehigh['BeamQualRatio'].hist(bins=14, range=(-0.4, 0.4), normed=False,\n",
    "#                               facecolor = 'red', alpha = 0.5, ax=axes, rwidth=0.8, label='MeV')\n",
    "#single plot with separated bars\n",
    "#plt.hist([to_plot1['OPRatio'],to_plot2['OPRatio']], label=['low','high'],histtype='bar', alpha=0.7)\n",
    "\n",
    "axes.xaxis.set_minor_locator(AutoMinorLocator(2)) #used to set the number of minor ticks between major ticks\n",
    "plt.tick_params(which='major', width=1, length=5)\n",
    "plt.tick_params(which='minor', width=1, length=3)\n",
    "plt.grid(True, which='major')\n",
    "plt.legend(loc='best')\n",
    "\n",
    "#plt.savefig('NPL_Paper_Plots/NPL_MV_Beam_Qual_NHS.png', bbox_inches='tight', dpi=300)"
   ]
  },
  {
   "cell_type": "markdown",
   "metadata": {
    "collapsed": true
   },
   "source": [
    "##Some statistical analysis such as T-tests\n",
    "Can see there is no statistical difference between the low and high groupings."
   ]
  },
  {
   "cell_type": "code",
   "execution_count": null,
   "metadata": {
    "collapsed": false
   },
   "outputs": [],
   "source": [
    "import scipy\n",
    "ehighlow = scipy.stats.ttest_ind(ehigh['OPRatio'], elow['OPRatio'], equal_var=False)\n",
    "print(\"Low vs high MeV: \", \"T-Stat: \", ehighlow[0], \" p-val: \", ehighlow[1])\n",
    "mhighlow = scipy.stats.ttest_ind(mhigh['OPRatio'], mlow['OPRatio'], equal_var=False)\n",
    "print(\"Low vs high MV: \", \"T-Stat: \", mhighlow[0], \" p-val: \", mhighlow[1])\n",
    "khighlow = scipy.stats.ttest_ind(khigh['OPRatio'], klow['OPRatio'], equal_var=False)\n",
    "print(\"Low vs high kV: \", \"T-Stat: \", khighlow[0], \" p-val: \", khighlow[1])\n",
    "\n",
    "em = scipy.stats.mannwhitneyu(e['OPRatio'], m['OPRatio']) # mannwitneyu test used to compare without assumtion of gaussian errors...\n",
    "print(\"MeV vs MV: \", \"T-Stat: \", em[0], \" p-val: \", em[1])\n"
   ]
  },
  {
   "cell_type": "code",
   "execution_count": null,
   "metadata": {
    "collapsed": false
   },
   "outputs": [],
   "source": [
    "## OP ratio vs IntercompRatio has a trend.\n",
    "## i.e. intercomparison is good, but the absolute calibration is off?\n",
    "comp = e\n",
    "\n",
    "compare = comp.plot(kind='scatter', x='OPRatio',y='IntercompRatio', figsize=(6,6), ylim=(0.97,1.03), xlim=(0.97,1.03), title=\"MeV\")\n",
    "fig = compare.get_figure()\n",
    "#fig.savefig('NPL_Paper_Plots/NPL_MeV_OPvsIntercomp_NHS.png', bbox_inches='tight', dpi=300)\n"
   ]
  },
  {
   "cell_type": "code",
   "execution_count": null,
   "metadata": {
    "collapsed": false
   },
   "outputs": [],
   "source": [
    "from pandas.tools import plotting\n",
    "plotting.scatter_matrix(e[['OPRatio', 'BeamQualRatio', 'IntercompRatio']], figsize=(8,8))"
   ]
  },
  {
   "cell_type": "markdown",
   "metadata": {},
   "source": [
    "##Histogram of different energies"
   ]
  },
  {
   "cell_type": "code",
   "execution_count": null,
   "metadata": {
    "collapsed": false
   },
   "outputs": [],
   "source": [
    "d = m\n",
    "plt.figure()\n",
    "m['OPRatio'].hist(by=m['Energy'],normed=False, bins=11, range=(0.965,1.035), rwidth=0.8)\n"
   ]
  },
  {
   "cell_type": "markdown",
   "metadata": {},
   "source": [
    "##Histogram of different regions"
   ]
  },
  {
   "cell_type": "code",
   "execution_count": null,
   "metadata": {
    "collapsed": false
   },
   "outputs": [],
   "source": [
    "d=m\n",
    "plt.figure()\n",
    "d['OPRatio'].hist(by=d['Group'],normed=False, bins=11, range=(0.965,1.035), rwidth=0.8)"
   ]
  },
  {
   "cell_type": "markdown",
   "metadata": {},
   "source": [
    "## test if the mean is 1.0 for OPRatios using 1 sided t-test"
   ]
  },
  {
   "cell_type": "code",
   "execution_count": null,
   "metadata": {
    "collapsed": false
   },
   "outputs": [],
   "source": [
    "import scipy\n",
    "scipy.stats.ttest_1samp(m['OPRatio'], 1)"
   ]
  },
  {
   "cell_type": "code",
   "execution_count": null,
   "metadata": {
    "collapsed": true
   },
   "outputs": [],
   "source": []
  }
 ],
 "metadata": {
  "kernelspec": {
   "display_name": "Python 3",
   "language": "python",
   "name": "python3"
  },
  "language_info": {
   "codemirror_mode": {
    "name": "ipython",
    "version": 3
   },
   "file_extension": ".py",
   "mimetype": "text/x-python",
   "name": "python",
   "nbconvert_exporter": "python",
   "pygments_lexer": "ipython3",
   "version": "3.4.3"
  }
 },
 "nbformat": 4,
 "nbformat_minor": 0
}
