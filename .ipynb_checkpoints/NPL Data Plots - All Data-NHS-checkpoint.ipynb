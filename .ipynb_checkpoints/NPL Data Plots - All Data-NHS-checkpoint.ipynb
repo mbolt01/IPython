{
 "cells": [
  {
   "cell_type": "code",
   "execution_count": 1,
   "metadata": {
    "collapsed": false
   },
   "outputs": [],
   "source": [
    "import numpy as np\n",
    "import pandas as pd\n",
    "pd.set_option(\"display.date_dayfirst\", True)\n",
    "pd.set_option(\"display.date_yearfirst\", False)\n",
    "#pd.describe_option('display.date_yearfirst')\n",
    "import matplotlib.pyplot as plt\n",
    "%matplotlib inline\n",
    "import matplotlib.mlab as mlab\n",
    "\n",
    "import matplotlib.pylab as pylab\n",
    "\n",
    "import os\n",
    "cwd = os.getcwd()"
   ]
  },
  {
   "cell_type": "markdown",
   "metadata": {},
   "source": [
    "Set file to look at containing data"
   ]
  },
  {
   "cell_type": "markdown",
   "metadata": {},
   "source": [
    "#Import excel file into pandas dataframe"
   ]
  },
  {
   "cell_type": "code",
   "execution_count": 2,
   "metadata": {
    "collapsed": false
   },
   "outputs": [
    {
     "name": "stdout",
     "output_type": "stream",
     "text": [
      "C:\\Users\\mb22\\OneDrive\\PhD\\Quasar Shared\\Modelling\\IPython/Data to Import/NPL_Table_All.xlsx\n"
     ]
    },
    {
     "data": {
      "text/html": [
       "<div style=\"max-height:1000px;max-width:1500px;overflow:auto;\">\n",
       "<table border=\"1\" class=\"dataframe\">\n",
       "  <thead>\n",
       "    <tr style=\"text-align: right;\">\n",
       "      <th></th>\n",
       "      <th>Centre</th>\n",
       "      <th>Postcode</th>\n",
       "      <th>Region</th>\n",
       "      <th>Group</th>\n",
       "      <th>CentreType</th>\n",
       "      <th>Date</th>\n",
       "      <th>Type</th>\n",
       "      <th>Energy</th>\n",
       "      <th>BeamQualRatio</th>\n",
       "      <th>BeamQualError</th>\n",
       "      <th>OPRatio</th>\n",
       "      <th>OPError</th>\n",
       "      <th>IntercompRatio</th>\n",
       "      <th>IntercompError</th>\n",
       "      <th>Comments</th>\n",
       "    </tr>\n",
       "  </thead>\n",
       "  <tbody>\n",
       "    <tr>\n",
       "      <th>0</th>\n",
       "      <td> Aberdeen Royal Infirmary</td>\n",
       "      <td> AB25 2ZN</td>\n",
       "      <td> A</td>\n",
       "      <td> 1</td>\n",
       "      <td> NHS</td>\n",
       "      <td>2007-02-09</td>\n",
       "      <td>  MV</td>\n",
       "      <td>  6</td>\n",
       "      <td> 0.993</td>\n",
       "      <td> 0.15</td>\n",
       "      <td> 1.005</td>\n",
       "      <td> 0.1</td>\n",
       "      <td> 0.992</td>\n",
       "      <td> 0.4</td>\n",
       "      <td> Measured result (1.003 from tabulated data)</td>\n",
       "    </tr>\n",
       "    <tr>\n",
       "      <th>1</th>\n",
       "      <td> Aberdeen Royal Infirmary</td>\n",
       "      <td> AB25 2ZN</td>\n",
       "      <td> A</td>\n",
       "      <td> 1</td>\n",
       "      <td> NHS</td>\n",
       "      <td>2007-02-09</td>\n",
       "      <td>  MV</td>\n",
       "      <td> 15</td>\n",
       "      <td> 0.995</td>\n",
       "      <td> 0.15</td>\n",
       "      <td> 1.008</td>\n",
       "      <td> 0.1</td>\n",
       "      <td> 0.991</td>\n",
       "      <td> 0.4</td>\n",
       "      <td>                                         NaN</td>\n",
       "    </tr>\n",
       "    <tr>\n",
       "      <th>2</th>\n",
       "      <td> Aberdeen Royal Infirmary</td>\n",
       "      <td> AB25 2ZN</td>\n",
       "      <td> A</td>\n",
       "      <td> 1</td>\n",
       "      <td> NHS</td>\n",
       "      <td>2007-02-10</td>\n",
       "      <td> MeV</td>\n",
       "      <td>  4</td>\n",
       "      <td> 0.010</td>\n",
       "      <td> 0.20</td>\n",
       "      <td> 0.998</td>\n",
       "      <td> 0.2</td>\n",
       "      <td> 1.001</td>\n",
       "      <td> 0.4</td>\n",
       "      <td>                                         NaN</td>\n",
       "    </tr>\n",
       "    <tr>\n",
       "      <th>3</th>\n",
       "      <td> Aberdeen Royal Infirmary</td>\n",
       "      <td> AB25 2ZN</td>\n",
       "      <td> A</td>\n",
       "      <td> 1</td>\n",
       "      <td> NHS</td>\n",
       "      <td>2007-02-10</td>\n",
       "      <td> MeV</td>\n",
       "      <td>  6</td>\n",
       "      <td> 0.020</td>\n",
       "      <td> 0.20</td>\n",
       "      <td> 1.003</td>\n",
       "      <td> 0.2</td>\n",
       "      <td> 1.002</td>\n",
       "      <td> 0.4</td>\n",
       "      <td>                                         NaN</td>\n",
       "    </tr>\n",
       "    <tr>\n",
       "      <th>4</th>\n",
       "      <td> Aberdeen Royal Infirmary</td>\n",
       "      <td> AB25 2ZN</td>\n",
       "      <td> A</td>\n",
       "      <td> 1</td>\n",
       "      <td> NHS</td>\n",
       "      <td>2007-02-10</td>\n",
       "      <td> MeV</td>\n",
       "      <td>  9</td>\n",
       "      <td> 0.030</td>\n",
       "      <td> 0.20</td>\n",
       "      <td> 1.003</td>\n",
       "      <td> 0.2</td>\n",
       "      <td> 1.001</td>\n",
       "      <td> 0.4</td>\n",
       "      <td>                                         NaN</td>\n",
       "    </tr>\n",
       "  </tbody>\n",
       "</table>\n",
       "</div>"
      ],
      "text/plain": [
       "                     Centre  Postcode Region  Group CentreType       Date  \\\n",
       "0  Aberdeen Royal Infirmary  AB25 2ZN      A      1        NHS 2007-02-09   \n",
       "1  Aberdeen Royal Infirmary  AB25 2ZN      A      1        NHS 2007-02-09   \n",
       "2  Aberdeen Royal Infirmary  AB25 2ZN      A      1        NHS 2007-02-10   \n",
       "3  Aberdeen Royal Infirmary  AB25 2ZN      A      1        NHS 2007-02-10   \n",
       "4  Aberdeen Royal Infirmary  AB25 2ZN      A      1        NHS 2007-02-10   \n",
       "\n",
       "  Type  Energy  BeamQualRatio  BeamQualError  OPRatio  OPError  \\\n",
       "0   MV       6          0.993           0.15    1.005      0.1   \n",
       "1   MV      15          0.995           0.15    1.008      0.1   \n",
       "2  MeV       4          0.010           0.20    0.998      0.2   \n",
       "3  MeV       6          0.020           0.20    1.003      0.2   \n",
       "4  MeV       9          0.030           0.20    1.003      0.2   \n",
       "\n",
       "   IntercompRatio  IntercompError                                     Comments  \n",
       "0           0.992             0.4  Measured result (1.003 from tabulated data)  \n",
       "1           0.991             0.4                                          NaN  \n",
       "2           1.001             0.4                                          NaN  \n",
       "3           1.002             0.4                                          NaN  \n",
       "4           1.001             0.4                                          NaN  "
      ]
     },
     "execution_count": 2,
     "metadata": {},
     "output_type": "execute_result"
    }
   ],
   "source": [
    "#mainpath = 'C:/Users/mb22/OneDrive/PhD/Quasar Shared/'\n",
    "#filepath = 'Data/NPL_Table_All.xlsx'\n",
    "filepath = 'Data to Import/NPL_Table_All.xlsx'\n",
    "\n",
    "#fullpath=mainpath+filepath\n",
    "fullpath=cwd+'/'+filepath # use if need to specify full path for some reason.\n",
    "print(fullpath) #note forward and backward slashes in output\n",
    "\n",
    "all_data = pd.read_excel(filepath, parse_dates=['Date'])\n",
    "all_data.head()"
   ]
  },
  {
   "cell_type": "markdown",
   "metadata": {},
   "source": [
    "#Filter to only contain NHS data"
   ]
  },
  {
   "cell_type": "code",
   "execution_count": 3,
   "metadata": {
    "collapsed": false
   },
   "outputs": [
    {
     "data": {
      "text/html": [
       "<div style=\"max-height:1000px;max-width:1500px;overflow:auto;\">\n",
       "<table border=\"1\" class=\"dataframe\">\n",
       "  <thead>\n",
       "    <tr style=\"text-align: right;\">\n",
       "      <th></th>\n",
       "      <th>Centre</th>\n",
       "      <th>Postcode</th>\n",
       "      <th>Region</th>\n",
       "      <th>Group</th>\n",
       "      <th>CentreType</th>\n",
       "      <th>Date</th>\n",
       "      <th>Type</th>\n",
       "      <th>Energy</th>\n",
       "      <th>BeamQualRatio</th>\n",
       "      <th>BeamQualError</th>\n",
       "      <th>OPRatio</th>\n",
       "      <th>OPError</th>\n",
       "      <th>IntercompRatio</th>\n",
       "      <th>IntercompError</th>\n",
       "      <th>Comments</th>\n",
       "    </tr>\n",
       "  </thead>\n",
       "  <tbody>\n",
       "    <tr>\n",
       "      <th>205</th>\n",
       "      <td> Norfolk and Norwich Hospital</td>\n",
       "      <td> NR4 7UY</td>\n",
       "      <td> H</td>\n",
       "      <td> 9</td>\n",
       "      <td> NHS</td>\n",
       "      <td>2010-06-25</td>\n",
       "      <td> MeV</td>\n",
       "      <td>  6</td>\n",
       "      <td> 0.020</td>\n",
       "      <td>  NaN</td>\n",
       "      <td> 1.005</td>\n",
       "      <td> 0.2</td>\n",
       "      <td> 1.005</td>\n",
       "      <td> 0.4</td>\n",
       "      <td> Data gained from spreadsheets directly</td>\n",
       "    </tr>\n",
       "    <tr>\n",
       "      <th>206</th>\n",
       "      <td> Norfolk and Norwich Hospital</td>\n",
       "      <td> NR4 7UY</td>\n",
       "      <td> H</td>\n",
       "      <td> 9</td>\n",
       "      <td> NHS</td>\n",
       "      <td>2010-06-25</td>\n",
       "      <td> MeV</td>\n",
       "      <td>  9</td>\n",
       "      <td> 0.020</td>\n",
       "      <td>  NaN</td>\n",
       "      <td> 1.008</td>\n",
       "      <td> 0.2</td>\n",
       "      <td> 1.001</td>\n",
       "      <td> 0.4</td>\n",
       "      <td> Data gained from spreadsheets directly</td>\n",
       "    </tr>\n",
       "    <tr>\n",
       "      <th>207</th>\n",
       "      <td> Norfolk and Norwich Hospital</td>\n",
       "      <td> NR4 7UY</td>\n",
       "      <td> H</td>\n",
       "      <td> 9</td>\n",
       "      <td> NHS</td>\n",
       "      <td>2010-06-25</td>\n",
       "      <td> MeV</td>\n",
       "      <td> 12</td>\n",
       "      <td>-0.070</td>\n",
       "      <td>  NaN</td>\n",
       "      <td> 0.999</td>\n",
       "      <td> 0.2</td>\n",
       "      <td> 1.006</td>\n",
       "      <td> 0.4</td>\n",
       "      <td> Data gained from spreadsheets directly</td>\n",
       "    </tr>\n",
       "    <tr>\n",
       "      <th>208</th>\n",
       "      <td> Norfolk and Norwich Hospital</td>\n",
       "      <td> NR4 7UY</td>\n",
       "      <td> H</td>\n",
       "      <td> 9</td>\n",
       "      <td> NHS</td>\n",
       "      <td>2010-06-25</td>\n",
       "      <td> MeV</td>\n",
       "      <td> 16</td>\n",
       "      <td>-0.050</td>\n",
       "      <td>  NaN</td>\n",
       "      <td> 1.000</td>\n",
       "      <td> 0.2</td>\n",
       "      <td> 1.007</td>\n",
       "      <td> 0.4</td>\n",
       "      <td> Data gained from spreadsheets directly</td>\n",
       "    </tr>\n",
       "    <tr>\n",
       "      <th>209</th>\n",
       "      <td>                     Southend</td>\n",
       "      <td> SS0 0RY</td>\n",
       "      <td> H</td>\n",
       "      <td> 9</td>\n",
       "      <td> NHS</td>\n",
       "      <td>2000-03-21</td>\n",
       "      <td>  MV</td>\n",
       "      <td>  6</td>\n",
       "      <td> 0.993</td>\n",
       "      <td> 0.15</td>\n",
       "      <td> 0.996</td>\n",
       "      <td> 0.2</td>\n",
       "      <td> 0.958</td>\n",
       "      <td> 0.4</td>\n",
       "      <td>        Looks like a preliminary report</td>\n",
       "    </tr>\n",
       "  </tbody>\n",
       "</table>\n",
       "</div>"
      ],
      "text/plain": [
       "                           Centre Postcode Region  Group CentreType  \\\n",
       "205  Norfolk and Norwich Hospital  NR4 7UY      H      9        NHS   \n",
       "206  Norfolk and Norwich Hospital  NR4 7UY      H      9        NHS   \n",
       "207  Norfolk and Norwich Hospital  NR4 7UY      H      9        NHS   \n",
       "208  Norfolk and Norwich Hospital  NR4 7UY      H      9        NHS   \n",
       "209                      Southend  SS0 0RY      H      9        NHS   \n",
       "\n",
       "          Date Type  Energy  BeamQualRatio  BeamQualError  OPRatio  OPError  \\\n",
       "205 2010-06-25  MeV       6          0.020            NaN    1.005      0.2   \n",
       "206 2010-06-25  MeV       9          0.020            NaN    1.008      0.2   \n",
       "207 2010-06-25  MeV      12         -0.070            NaN    0.999      0.2   \n",
       "208 2010-06-25  MeV      16         -0.050            NaN    1.000      0.2   \n",
       "209 2000-03-21   MV       6          0.993           0.15    0.996      0.2   \n",
       "\n",
       "     IntercompRatio  IntercompError                                Comments  \n",
       "205           1.005             0.4  Data gained from spreadsheets directly  \n",
       "206           1.001             0.4  Data gained from spreadsheets directly  \n",
       "207           1.006             0.4  Data gained from spreadsheets directly  \n",
       "208           1.007             0.4  Data gained from spreadsheets directly  \n",
       "209           0.958             0.4         Looks like a preliminary report  "
      ]
     },
     "execution_count": 3,
     "metadata": {},
     "output_type": "execute_result"
    }
   ],
   "source": [
    "df3 = all_data.copy()\n",
    "nhs_data = df3[df3['CentreType'].isin(['NHS'])]\n",
    "\n",
    "nhs_data.tail()"
   ]
  },
  {
   "cell_type": "markdown",
   "metadata": {},
   "source": [
    "#Calculate some stats & check data types"
   ]
  },
  {
   "cell_type": "code",
   "execution_count": 4,
   "metadata": {
    "collapsed": false,
    "scrolled": true
   },
   "outputs": [
    {
     "data": {
      "text/html": [
       "<div style=\"max-height:1000px;max-width:1500px;overflow:auto;\">\n",
       "<table border=\"1\" class=\"dataframe\">\n",
       "  <thead>\n",
       "    <tr style=\"text-align: right;\">\n",
       "      <th></th>\n",
       "      <th>Type</th>\n",
       "      <th>Date</th>\n",
       "    </tr>\n",
       "  </thead>\n",
       "  <tbody>\n",
       "    <tr>\n",
       "      <th>0</th>\n",
       "      <td>  MV</td>\n",
       "      <td> 47</td>\n",
       "    </tr>\n",
       "    <tr>\n",
       "      <th>1</th>\n",
       "      <td> MeV</td>\n",
       "      <td> 22</td>\n",
       "    </tr>\n",
       "    <tr>\n",
       "      <th>2</th>\n",
       "      <td>  kV</td>\n",
       "      <td> 11</td>\n",
       "    </tr>\n",
       "  </tbody>\n",
       "</table>\n",
       "</div>"
      ],
      "text/plain": [
       "  Type  Date\n",
       "0   MV    47\n",
       "1  MeV    22\n",
       "2   kV    11"
      ]
     },
     "execution_count": 4,
     "metadata": {},
     "output_type": "execute_result"
    }
   ],
   "source": [
    "#Number of unique dates = number of visits\n",
    "\n",
    "nhs_data.groupby(['Type'])['Date'].nunique().reset_index() # number of unique dates = number of visits\n"
   ]
  },
  {
   "cell_type": "markdown",
   "metadata": {},
   "source": [
    "#Create seperate dataframes for MV, MeV and kV for NHS"
   ]
  },
  {
   "cell_type": "code",
   "execution_count": 5,
   "metadata": {
    "collapsed": false,
    "scrolled": true
   },
   "outputs": [
    {
     "data": {
      "text/html": [
       "<div style=\"max-height:1000px;max-width:1500px;overflow:auto;\">\n",
       "<table border=\"1\" class=\"dataframe\">\n",
       "  <thead>\n",
       "    <tr style=\"text-align: right;\">\n",
       "      <th></th>\n",
       "      <th>Group</th>\n",
       "      <th>Energy</th>\n",
       "      <th>BeamQualRatio</th>\n",
       "      <th>BeamQualError</th>\n",
       "      <th>OPRatio</th>\n",
       "      <th>OPError</th>\n",
       "      <th>IntercompRatio</th>\n",
       "      <th>IntercompError</th>\n",
       "    </tr>\n",
       "  </thead>\n",
       "  <tbody>\n",
       "    <tr>\n",
       "      <th>count</th>\n",
       "      <td> 29.000000</td>\n",
       "      <td>  29.000000</td>\n",
       "      <td> 26.000000</td>\n",
       "      <td> 26.000000</td>\n",
       "      <td> 29.000000</td>\n",
       "      <td> 29.000000</td>\n",
       "      <td> 24.000000</td>\n",
       "      <td> 24.0</td>\n",
       "    </tr>\n",
       "    <tr>\n",
       "      <th>mean</th>\n",
       "      <td>  4.379310</td>\n",
       "      <td> 154.448276</td>\n",
       "      <td>  0.999615</td>\n",
       "      <td>  2.384615</td>\n",
       "      <td>  1.002103</td>\n",
       "      <td>  0.606897</td>\n",
       "      <td>  0.999792</td>\n",
       "      <td>  0.4</td>\n",
       "    </tr>\n",
       "    <tr>\n",
       "      <th>std</th>\n",
       "      <td>  2.833647</td>\n",
       "      <td>  82.535095</td>\n",
       "      <td>  0.048669</td>\n",
       "      <td>  0.982931</td>\n",
       "      <td>  0.008793</td>\n",
       "      <td>  0.037139</td>\n",
       "      <td>  0.005150</td>\n",
       "      <td>  0.0</td>\n",
       "    </tr>\n",
       "    <tr>\n",
       "      <th>min</th>\n",
       "      <td>  1.000000</td>\n",
       "      <td>  50.000000</td>\n",
       "      <td>  0.873000</td>\n",
       "      <td>  2.000000</td>\n",
       "      <td>  0.976000</td>\n",
       "      <td>  0.600000</td>\n",
       "      <td>  0.992000</td>\n",
       "      <td>  0.4</td>\n",
       "    </tr>\n",
       "    <tr>\n",
       "      <th>25%</th>\n",
       "      <td>  2.000000</td>\n",
       "      <td>  85.000000</td>\n",
       "      <td>  0.982500</td>\n",
       "      <td>  2.000000</td>\n",
       "      <td>  0.998000</td>\n",
       "      <td>  0.600000</td>\n",
       "      <td>  0.995750</td>\n",
       "      <td>  0.4</td>\n",
       "    </tr>\n",
       "    <tr>\n",
       "      <th>50%</th>\n",
       "      <td>  3.000000</td>\n",
       "      <td> 135.000000</td>\n",
       "      <td>  1.002500</td>\n",
       "      <td>  2.000000</td>\n",
       "      <td>  1.003000</td>\n",
       "      <td>  0.600000</td>\n",
       "      <td>  1.000000</td>\n",
       "      <td>  0.4</td>\n",
       "    </tr>\n",
       "    <tr>\n",
       "      <th>75%</th>\n",
       "      <td>  7.000000</td>\n",
       "      <td> 220.000000</td>\n",
       "      <td>  1.023750</td>\n",
       "      <td>  2.000000</td>\n",
       "      <td>  1.006000</td>\n",
       "      <td>  0.600000</td>\n",
       "      <td>  1.002250</td>\n",
       "      <td>  0.4</td>\n",
       "    </tr>\n",
       "    <tr>\n",
       "      <th>max</th>\n",
       "      <td>  9.000000</td>\n",
       "      <td> 300.000000</td>\n",
       "      <td>  1.077000</td>\n",
       "      <td>  5.000000</td>\n",
       "      <td>  1.021000</td>\n",
       "      <td>  0.800000</td>\n",
       "      <td>  1.011000</td>\n",
       "      <td>  0.4</td>\n",
       "    </tr>\n",
       "  </tbody>\n",
       "</table>\n",
       "</div>"
      ],
      "text/plain": [
       "           Group      Energy  BeamQualRatio  BeamQualError    OPRatio  \\\n",
       "count  29.000000   29.000000      26.000000      26.000000  29.000000   \n",
       "mean    4.379310  154.448276       0.999615       2.384615   1.002103   \n",
       "std     2.833647   82.535095       0.048669       0.982931   0.008793   \n",
       "min     1.000000   50.000000       0.873000       2.000000   0.976000   \n",
       "25%     2.000000   85.000000       0.982500       2.000000   0.998000   \n",
       "50%     3.000000  135.000000       1.002500       2.000000   1.003000   \n",
       "75%     7.000000  220.000000       1.023750       2.000000   1.006000   \n",
       "max     9.000000  300.000000       1.077000       5.000000   1.021000   \n",
       "\n",
       "         OPError  IntercompRatio  IntercompError  \n",
       "count  29.000000       24.000000            24.0  \n",
       "mean    0.606897        0.999792             0.4  \n",
       "std     0.037139        0.005150             0.0  \n",
       "min     0.600000        0.992000             0.4  \n",
       "25%     0.600000        0.995750             0.4  \n",
       "50%     0.600000        1.000000             0.4  \n",
       "75%     0.600000        1.002250             0.4  \n",
       "max     0.800000        1.011000             0.4  "
      ]
     },
     "execution_count": 5,
     "metadata": {},
     "output_type": "execute_result"
    }
   ],
   "source": [
    "#beam_types = all_data.groupby('Type')\n",
    "#beam_types.mean()\n",
    "\n",
    "df2 = nhs_data.copy()\n",
    "mv_data = df2[df2['Type'].isin(['MV'])]\n",
    "mev_data = df2[df2['Type'].isin(['MeV'])]\n",
    "kv_data = df2[df2['Type'].isin(['kV'])]\n",
    "\n",
    "#df3 = ed.copy()\n",
    "#mev_data_notg5 = df3[~df3['Centre'].str.contains('CPUK')]\n",
    "#mev_data_notg5\n",
    "\n",
    "md = mv_data\n",
    "ed = mev_data\n",
    "kd = kv_data\n",
    "#mv_data.describe()\n",
    "kd.describe()\n",
    "#kv_data.describe()"
   ]
  },
  {
   "cell_type": "markdown",
   "metadata": {},
   "source": [
    "#Make some quick graphs"
   ]
  },
  {
   "cell_type": "code",
   "execution_count": 7,
   "metadata": {
    "collapsed": false,
    "scrolled": true
   },
   "outputs": [
    {
     "data": {
      "text/plain": [
       "array([[<matplotlib.axes._subplots.AxesSubplot object at 0x05E2B8D0>,\n",
       "        <matplotlib.axes._subplots.AxesSubplot object at 0x05E454D0>],\n",
       "       [<matplotlib.axes._subplots.AxesSubplot object at 0x0615EEB0>,\n",
       "        <matplotlib.axes._subplots.AxesSubplot object at 0x06188EB0>]], dtype=object)"
      ]
     },
     "execution_count": 7,
     "metadata": {},
     "output_type": "execute_result"
    },
    {
     "data": {
      "image/png": "[encoded data removed]",
      "text/plain": [
       "<matplotlib.figure.Figure at 0x5e2be50>"
      ]
     },
     "metadata": {},
     "output_type": "display_data"
    }
   ],
   "source": [
    "from decimal import * # decimal means that more exact maths can be done with a specified precision.\n",
    "getcontext().prec = 28\n",
    "range_lower = Decimal('0.975')\n",
    "range_upper = Decimal('1.025')\n",
    "bin_width = Decimal('0.005')\n",
    "number_bins = (range_upper-range_lower)/bin_width + 1\n",
    "\n",
    "nhs_data['OPRatio'].hist(by=nhs_data['Type'], normed=True, bins=11, range=(0.975,1.025), rwidth=0.8) #simple auto plot in a grid"
   ]
  },
  {
   "cell_type": "markdown",
   "metadata": {},
   "source": [
    "#Histograms"
   ]
  },
  {
   "cell_type": "markdown",
   "metadata": {},
   "source": [
    "##Ideally make into a function and feed data frame, title, filename"
   ]
  },
  {
   "cell_type": "code",
   "execution_count": 8,
   "metadata": {
    "collapsed": false
   },
   "outputs": [
    {
     "data": {
      "image/png": "[encoded data removed]",
      "text/plain": [
       "<matplotlib.figure.Figure at 0x65cdab0>"
      ]
     },
     "metadata": {},
     "output_type": "display_data"
    }
   ],
   "source": [
    "pylab.rcParams['figure.figsize'] = 5, 5 # change size of figures\n",
    "\n",
    "from matplotlib.ticker import AutoMinorLocator\n",
    "\n",
    "fig = plt.figure()\n",
    "axes = fig.add_subplot(1,1,1)\n",
    "plt.title('MeV')\n",
    "plt.xlabel(\"Output Ratio (NPL:Host)\")\n",
    "plt.ylabel(\"Freqency (%)\")\n",
    "plt.xlim(0.968, 1.032)\n",
    "plt.ylim(0, 60)\n",
    "\n",
    "mev_data['OPRatio'].hist(bins=14, range=(0.9675, 1.0375), normed=True,\n",
    "                               facecolor = 'grey', alpha = 0.8, ax=axes, rwidth=1)\n",
    "\n",
    "axes.xaxis.set_minor_locator(AutoMinorLocator(2)) #used to set the number of minor ticks between major ticks\n",
    "plt.tick_params(which='major', width=1, length=5)\n",
    "plt.tick_params(which='minor', width=1, length=3)\n",
    "plt.grid(True, which='major')\n",
    "\n",
    "mean = mev_data['OPRatio'].mean()\n",
    "sd = mev_data['OPRatio'].std()\n",
    "\n",
    "x = np.linspace(0.9725, 1.0375, 100) # add normal distibution fit\n",
    "#plt.plot(x, mlab.normpdf(x,mean,sd), linewidth = 2, color='red')\n",
    "\n",
    "#plt.savefig('NPL_Paper_Plots/NPL_kV_Hist_NHS.png', bbox_inches='tight', dpi=300)"
   ]
  },
  {
   "cell_type": "code",
   "execution_count": 9,
   "metadata": {
    "collapsed": false
   },
   "outputs": [
    {
     "ename": "NameError",
     "evalue": "name 'mev_data_notg5' is not defined",
     "output_type": "error",
     "traceback": [
      "\u001b[1;31m---------------------------------------------------------------------------\u001b[0m",
      "\u001b[1;31mNameError\u001b[0m                                 Traceback (most recent call last)",
      "\u001b[1;32m<ipython-input-9-21c9a8120e2c>\u001b[0m in \u001b[0;36m<module>\u001b[1;34m()\u001b[0m\n\u001b[0;32m     13\u001b[0m \u001b[0mplt\u001b[0m\u001b[1;33m.\u001b[0m\u001b[0mylim\u001b[0m\u001b[1;33m(\u001b[0m\u001b[1;36m0\u001b[0m\u001b[1;33m,\u001b[0m \u001b[1;36m60\u001b[0m\u001b[1;33m)\u001b[0m\u001b[1;33m\u001b[0m\u001b[0m\n\u001b[0;32m     14\u001b[0m \u001b[1;33m\u001b[0m\u001b[0m\n\u001b[1;32m---> 15\u001b[1;33m mev_data_notg5['OPRatio'].hist(bins=14, range=(0.9675, 1.0375), normed=True,\n\u001b[0m\u001b[0;32m     16\u001b[0m                                facecolor = 'green', alpha = 0.8, ax=axes, rwidth=1)\n\u001b[0;32m     17\u001b[0m \u001b[1;33m\u001b[0m\u001b[0m\n",
      "\u001b[1;31mNameError\u001b[0m: name 'mev_data_notg5' is not defined"
     ]
    },
    {
     "data": {
      "image/png": "[encoded data removed]",
      "text/plain": [
       "<matplotlib.figure.Figure at 0x7872830>"
      ]
     },
     "metadata": {},
     "output_type": "display_data"
    }
   ],
   "source": [
    "# to take out 'Group 5' MeV Data\n",
    "\n",
    "pylab.rcParams['figure.figsize'] = 5, 5 # change size of figures\n",
    "\n",
    "from matplotlib.ticker import AutoMinorLocator\n",
    "\n",
    "fig = plt.figure()\n",
    "axes = fig.add_subplot(1,1,1)\n",
    "plt.title('MeV - After Removing Group 5')\n",
    "plt.xlabel(\"Output Ratio (NPL:Host)\")\n",
    "plt.ylabel(\"Freqency (%)\")\n",
    "plt.xlim(0.968, 1.032)\n",
    "plt.ylim(0, 60)\n",
    "\n",
    "mev_data_notg5['OPRatio'].hist(bins=14, range=(0.9675, 1.0375), normed=True,\n",
    "                               facecolor = 'green', alpha = 0.8, ax=axes, rwidth=1)\n",
    "\n",
    "axes.xaxis.set_minor_locator(AutoMinorLocator(2)) #used to set the number of minor ticks between major ticks\n",
    "plt.tick_params(which='major', width=1, length=5)\n",
    "plt.tick_params(which='minor', width=1, length=3)\n",
    "plt.grid(True, which='major')\n",
    "\n",
    "mean = mev_data_notg5['OPRatio'].mean()\n",
    "sd = mev_data_notg5['OPRatio'].std()\n",
    "\n",
    "x = np.linspace(0.9725, 1.0375, 100) # add normal distibution fit\n",
    "plt.plot(x, mlab.normpdf(x,mean,sd), linewidth = 2, color='red')\n",
    "\n",
    "#plt.savefig('NPL_Paper_Plots/NPL_MeV_NotG5_Hist_Fit.png', bbox_inches='tight', dpi=300)"
   ]
  },
  {
   "cell_type": "markdown",
   "metadata": {
    "collapsed": true
   },
   "source": [
    "#Get some more stats such as Mean, SD, Skew etc."
   ]
  },
  {
   "cell_type": "code",
   "execution_count": 10,
   "metadata": {
    "collapsed": false
   },
   "outputs": [
    {
     "name": "stdout",
     "output_type": "stream",
     "text": [
      "Skew\n",
      "All:  0.354675590219\n",
      "MV:  0.592176242776\n",
      "MeV:  0.53703316834\n",
      "kV:  -0.497545002943\n",
      "\n",
      "SEM\n",
      "MV:  0.000750579488625\n",
      "MeV:  0.000767097800048\n",
      "kV:  0.00163275042783\n",
      "\n",
      "Mean\n",
      "MV:  1.00046273021\n",
      "MeV:  1.00254680851\n",
      "kV:  1.00210344828\n",
      "\n",
      "SD\n",
      "MV:  0.00675521539763\n",
      "MeV:  0.00743728910792\n",
      "kV:  0.00879263014276\n",
      "\n",
      "Skew Test\n",
      "MV:  (2.1713497799271417, 0.029904742036325212)\n",
      "MeV:  (2.1246012297417347, 0.033619901174178492)\n",
      "kV:  (-1.1854927884896169, 0.2358226642814415)\n"
     ]
    }
   ],
   "source": [
    "print('Skew')\n",
    "print('All: ', nhs_data['OPRatio'].skew())\n",
    "print('MV: ', mv_data['OPRatio'].skew())\n",
    "print('MeV: ', mev_data['OPRatio'].skew())\n",
    "print('kV: ', kv_data['OPRatio'].skew())\n",
    "print()\n",
    "print('SEM')\n",
    "print('MV: ', mv_data['OPRatio'].sem())\n",
    "print('MeV: ', mev_data['OPRatio'].sem())\n",
    "print('kV: ', kv_data['OPRatio'].sem())\n",
    "print()\n",
    "print('Mean')\n",
    "print('MV: ', mv_data['OPRatio'].mean())\n",
    "print('MeV: ', mev_data['OPRatio'].mean())\n",
    "print('kV: ', kv_data['OPRatio'].mean())\n",
    "print()\n",
    "print('SD')\n",
    "print('MV: ', mv_data['OPRatio'].std())\n",
    "print('MeV: ', mev_data['OPRatio'].std())\n",
    "print('kV: ', kv_data['OPRatio'].std())\n",
    "print()\n",
    "from scipy import stats\n",
    "print('Skew Test')\n",
    "print('MV: ', stats.skewtest(mv_data['OPRatio']))\n",
    "print('MeV: ', stats.skewtest(mev_data['OPRatio']))\n",
    "print('kV: ', stats.skewtest(kv_data['OPRatio']))\n",
    "#print(stats.skewtest(plotdata['OPRatio']))"
   ]
  },
  {
   "cell_type": "markdown",
   "metadata": {},
   "source": [
    "#Plot of All Audits"
   ]
  },
  {
   "cell_type": "code",
   "execution_count": 11,
   "metadata": {
    "collapsed": false,
    "scrolled": true
   },
   "outputs": [
    {
     "data": {
      "text/html": [
       "<div style=\"max-height:1000px;max-width:1500px;overflow:auto;\">\n",
       "<table border=\"1\" class=\"dataframe\">\n",
       "  <thead>\n",
       "    <tr style=\"text-align: right;\">\n",
       "      <th></th>\n",
       "      <th>Centre</th>\n",
       "      <th>Postcode</th>\n",
       "      <th>Region</th>\n",
       "      <th>Group</th>\n",
       "      <th>CentreType</th>\n",
       "      <th>Date</th>\n",
       "      <th>Type</th>\n",
       "      <th>Energy</th>\n",
       "      <th>BeamQualRatio</th>\n",
       "      <th>BeamQualError</th>\n",
       "      <th>OPRatio</th>\n",
       "      <th>OPError</th>\n",
       "      <th>IntercompRatio</th>\n",
       "      <th>IntercompError</th>\n",
       "      <th>Comments</th>\n",
       "      <th>SD_Prev20</th>\n",
       "    </tr>\n",
       "  </thead>\n",
       "  <tbody>\n",
       "    <tr>\n",
       "      <th>57 </th>\n",
       "      <td>   Glan Clwyd (North Wales)</td>\n",
       "      <td> LL18 5UJ</td>\n",
       "      <td> B</td>\n",
       "      <td> 6</td>\n",
       "      <td> NHS</td>\n",
       "      <td>2005-08-09</td>\n",
       "      <td> kV</td>\n",
       "      <td>  85</td>\n",
       "      <td> 1.07</td>\n",
       "      <td>  3</td>\n",
       "      <td> 0.999</td>\n",
       "      <td> 0.6</td>\n",
       "      <td>   NaN</td>\n",
       "      <td> NaN</td>\n",
       "      <td> NaN</td>\n",
       "      <td>NaN</td>\n",
       "    </tr>\n",
       "    <tr>\n",
       "      <th>58 </th>\n",
       "      <td>   Glan Clwyd (North Wales)</td>\n",
       "      <td> LL18 5UJ</td>\n",
       "      <td> B</td>\n",
       "      <td> 6</td>\n",
       "      <td> NHS</td>\n",
       "      <td>2005-08-09</td>\n",
       "      <td> kV</td>\n",
       "      <td> 250</td>\n",
       "      <td> 1.02</td>\n",
       "      <td>  5</td>\n",
       "      <td> 1.008</td>\n",
       "      <td> 0.8</td>\n",
       "      <td> 1.001</td>\n",
       "      <td> 0.4</td>\n",
       "      <td> NaN</td>\n",
       "      <td>NaN</td>\n",
       "    </tr>\n",
       "    <tr>\n",
       "      <th>103</th>\n",
       "      <td>                 Cheltenham</td>\n",
       "      <td> GL53 7AN</td>\n",
       "      <td> D</td>\n",
       "      <td> 7</td>\n",
       "      <td> NHS</td>\n",
       "      <td>2005-08-25</td>\n",
       "      <td> kV</td>\n",
       "      <td>  60</td>\n",
       "      <td>  NaN</td>\n",
       "      <td>NaN</td>\n",
       "      <td> 1.002</td>\n",
       "      <td> 0.6</td>\n",
       "      <td>   NaN</td>\n",
       "      <td> NaN</td>\n",
       "      <td> NaN</td>\n",
       "      <td>NaN</td>\n",
       "    </tr>\n",
       "    <tr>\n",
       "      <th>104</th>\n",
       "      <td>                 Cheltenham</td>\n",
       "      <td> GL53 7AN</td>\n",
       "      <td> D</td>\n",
       "      <td> 7</td>\n",
       "      <td> NHS</td>\n",
       "      <td>2005-08-25</td>\n",
       "      <td> kV</td>\n",
       "      <td>  80</td>\n",
       "      <td>  NaN</td>\n",
       "      <td>NaN</td>\n",
       "      <td> 0.976</td>\n",
       "      <td> 0.6</td>\n",
       "      <td>   NaN</td>\n",
       "      <td> NaN</td>\n",
       "      <td> NaN</td>\n",
       "      <td>NaN</td>\n",
       "    </tr>\n",
       "    <tr>\n",
       "      <th>7  </th>\n",
       "      <td> Ninewells Hospital, Dundee</td>\n",
       "      <td>  DD1 9SY</td>\n",
       "      <td> A</td>\n",
       "      <td> 1</td>\n",
       "      <td> NHS</td>\n",
       "      <td>2007-02-08</td>\n",
       "      <td> kV</td>\n",
       "      <td>  90</td>\n",
       "      <td> 1.07</td>\n",
       "      <td>  2</td>\n",
       "      <td> 1.006</td>\n",
       "      <td> 0.6</td>\n",
       "      <td> 0.994</td>\n",
       "      <td> 0.4</td>\n",
       "      <td> NaN</td>\n",
       "      <td>NaN</td>\n",
       "    </tr>\n",
       "  </tbody>\n",
       "</table>\n",
       "</div>"
      ],
      "text/plain": [
       "                         Centre  Postcode Region  Group CentreType       Date  \\\n",
       "57     Glan Clwyd (North Wales)  LL18 5UJ      B      6        NHS 2005-08-09   \n",
       "58     Glan Clwyd (North Wales)  LL18 5UJ      B      6        NHS 2005-08-09   \n",
       "103                  Cheltenham  GL53 7AN      D      7        NHS 2005-08-25   \n",
       "104                  Cheltenham  GL53 7AN      D      7        NHS 2005-08-25   \n",
       "7    Ninewells Hospital, Dundee   DD1 9SY      A      1        NHS 2007-02-08   \n",
       "\n",
       "    Type  Energy  BeamQualRatio  BeamQualError  OPRatio  OPError  \\\n",
       "57    kV      85           1.07              3    0.999      0.6   \n",
       "58    kV     250           1.02              5    1.008      0.8   \n",
       "103   kV      60            NaN            NaN    1.002      0.6   \n",
       "104   kV      80            NaN            NaN    0.976      0.6   \n",
       "7     kV      90           1.07              2    1.006      0.6   \n",
       "\n",
       "     IntercompRatio  IntercompError Comments  SD_Prev20  \n",
       "57              NaN             NaN      NaN        NaN  \n",
       "58            1.001             0.4      NaN        NaN  \n",
       "103             NaN             NaN      NaN        NaN  \n",
       "104             NaN             NaN      NaN        NaN  \n",
       "7             0.994             0.4      NaN        NaN  "
      ]
     },
     "execution_count": 11,
     "metadata": {},
     "output_type": "execute_result"
    }
   ],
   "source": [
    "# Calculate rolling SD of 20 values\n",
    "\n",
    "mv_data_datesort = md.sort(['Date', 'Energy'], ascending=True) #Sort by date and energy and put into new dataframe\n",
    "mev_data_datesort = ed.sort(['Date', 'Energy'], ascending=True) #Sort by date and energy and put into new dataframe\n",
    "kv_data_datesort = kd.sort(['Date', 'Energy'], ascending=True) #Sort by date and energy and put into new dataframe\n",
    "#mv_data_datesort.append('SD_Prev20')\n",
    "\n",
    "m = mv_data_datesort     # to allow shorter references to dataframes\n",
    "e = mev_data_datesort\n",
    "k = kv_data_datesort\n",
    "\n",
    "m['SD_Prev20'] = np.nan\n",
    "m['SD_Prev20'] = pd.rolling_std(m['OPRatio'],window=20)\n",
    "\n",
    "e['SD_Prev20'] = np.nan\n",
    "e['SD_Prev20'] = pd.rolling_std(e['OPRatio'],window=20)\n",
    "\n",
    "k['SD_Prev20'] = np.nan\n",
    "k['SD_Prev20'] = pd.rolling_std(k['OPRatio'],window=20)\n",
    "\n",
    "k.head()\n"
   ]
  },
  {
   "cell_type": "markdown",
   "metadata": {},
   "source": [
    "##Histogram"
   ]
  },
  {
   "cell_type": "code",
   "execution_count": 13,
   "metadata": {
    "collapsed": false
   },
   "outputs": [
    {
     "data": {
      "text/plain": [
       "[<matplotlib.lines.Line2D at 0x7894090>]"
      ]
     },
     "execution_count": 13,
     "metadata": {},
     "output_type": "execute_result"
    },
    {
     "data": {
      "image/png": "[encoded data removed]",
      "text/plain": [
       "<matplotlib.figure.Figure at 0x78c74f0>"
      ]
     },
     "metadata": {},
     "output_type": "display_data"
    }
   ],
   "source": [
    "pylab.rcParams['figure.figsize'] = 5, 5 # change size of figures\n",
    "\n",
    "from matplotlib.ticker import AutoMinorLocator\n",
    "\n",
    "d = e  #m = mv_data_datesort\n",
    "\n",
    "fig = plt.figure()\n",
    "axes = fig.add_subplot(1,1,1)\n",
    "plt.title('MeV')\n",
    "plt.xlabel(\"Output Ratio (NPL:Host)\")\n",
    "plt.ylabel(\"Freqency (%)\")\n",
    "plt.xlim(0.97, 1.032)\n",
    "plt.ylim(0, 60)\n",
    "\n",
    "d['OPRatio'].hist(bins=14, range=(0.9675, 1.0375), normed=True,\n",
    "                               facecolor = 'green', alpha = 0.8, ax=axes, rwidth=1)\n",
    "\n",
    "axes.xaxis.set_minor_locator(AutoMinorLocator(2)) #used to set the number of minor ticks between major ticks\n",
    "plt.tick_params(which='major', width=1, length=5)\n",
    "plt.tick_params(which='minor', width=1, length=3)\n",
    "plt.grid(True, which='major')\n",
    "\n",
    "mean = d['OPRatio'].mean()\n",
    "sd = d['OPRatio'].std()\n",
    "\n",
    "x = np.linspace(0.9725, 1.0375, 100) # add normal distibution fit\n",
    "plt.plot(x, mlab.normpdf(x,mean,sd), linewidth = 2, color='red')\n",
    "\n",
    "#plt.savefig('NPL_Paper_Plots/NPL_MeV_NotG5_Hist_Fit.png', bbox_inches='tight', dpi=300)"
   ]
  },
  {
   "cell_type": "markdown",
   "metadata": {},
   "source": [
    "##All audits in order"
   ]
  },
  {
   "cell_type": "code",
   "execution_count": 14,
   "metadata": {
    "collapsed": false
   },
   "outputs": [
    {
     "data": {
      "image/png": "[encoded data removed]",
      "text/plain": [
       "<matplotlib.figure.Figure at 0x78c4210>"
      ]
     },
     "metadata": {},
     "output_type": "display_data"
    }
   ],
   "source": [
    "#m = mv_data_datesort\n",
    "\n",
    "#frames = [m, e, k]\n",
    "#d=pd.concat(frames) # to join all data together\n",
    "\n",
    "d = m\n",
    "\n",
    "pylab.rcParams['figure.figsize'] = 10, 5 # change size of figures\n",
    "fig1 = plt.figure()\n",
    "axes1 = fig1.add_subplot(1,1,1)\n",
    "plt.title('MV Audit Results')\n",
    "plt.xlabel(\"Audit Number\")\n",
    "plt.ylabel(\"OP Ratio (NPL:Host)\")\n",
    "plt.ylim(0.97, 1.03)\n",
    "axes1.xaxis.set_minor_locator(AutoMinorLocator(4)) #used to set the number of minor ticks between major ticks\n",
    "plt.tick_params(which='major', width=1, length=5)\n",
    "plt.tick_params(which='minor', width=1, length=3)\n",
    "plt.grid(True, which='major')\n",
    "\n",
    "x=np.arange(1,d['OPRatio'].count()+1)\n",
    "x=d['Date']\n",
    "y=d['OPRatio']\n",
    "yerr=(d['OPError']*d['OPRatio'])/100\n",
    "\n",
    "ysd=d['SD_Prev20']\n",
    "\n",
    "plt.errorbar(x, y, yerr=yerr, ecolor='black')\n",
    "axes2=fig1.add_subplot(111, sharex=axes1, frameon=False)\n",
    "axes2.yaxis.tick_right()\n",
    "axes2.yaxis.set_label_position('right')\n",
    "plt.ylim(0, 0.012)\n",
    "plt.ylabel(\"SD (Previous 20)\")\n",
    "line2=axes2.plot(x,ysd, color='orange')\n",
    "\n",
    "#plt.savefig('NPL_Paper_Plots/NPL_kV_All_SD_NHS.png', bbox_inches='tight', dpi=300)"
   ]
  },
  {
   "cell_type": "code",
   "execution_count": 54,
   "metadata": {
    "collapsed": false
   },
   "outputs": [
    {
     "data": {
      "image/png": "[encoded data removed]",
      "text/plain": [
       "<matplotlib.figure.Figure at 0x60017d0>"
      ]
     },
     "metadata": {},
     "output_type": "display_data"
    }
   ],
   "source": [
    "d=e\n",
    "\n",
    "plt.figure(figsize=(5,5))\n",
    "x=d['IntercompRatio']\n",
    "#x=d['BeamQualRatio']\n",
    "y=d['OPRatio']\n",
    "plt.scatter(x,y)\n",
    "plt.xlim(0.98,1.02)\n",
    "plt.ylim(0.97,1.03)\n",
    "\n",
    "plt.title('Intercomparison vs OP Ratio - MeV')\n",
    "plt.xlabel(\"Intercomparison Ratio\")\n",
    "plt.ylabel(\"OP Ratio\")\n",
    "\n",
    "plt.savefig('NPL_Paper_Plots/NPL_MeV_IntercompvsOP.png', bbox_inches='tight', dpi=300)"
   ]
  },
  {
   "cell_type": "markdown",
   "metadata": {},
   "source": [
    "Want to do the below with it split into groups, and also split into 5 year periods to see the variation with time. (Similar to Palmer paper...)"
   ]
  },
  {
   "cell_type": "code",
   "execution_count": 16,
   "metadata": {
    "collapsed": false
   },
   "outputs": [
    {
     "data": {
      "image/png": "[encoded data removed]",
      "text/plain": [
       "<matplotlib.figure.Figure at 0x9ff65f0>"
      ]
     },
     "metadata": {},
     "output_type": "display_data"
    }
   ],
   "source": [
    "# extract only Groups and OPRatio to allow simple box plot production \n",
    "#mv = mv_data_datesort[['Group', 'OPRatio']]\n",
    "\n",
    "# make a numpy array to use rather than pandas?\n",
    "#g = np.array(mv_data_datesort['Group'])\n",
    "#op = np.array(mv_data_datesort['OPRatio'])\n",
    "\n",
    "#m = mv_data_datesort\n",
    "\n",
    "g1 = k.loc[kv_data_datesort['Group']==1, ['OPRatio']]\n",
    "g2 = k.loc[kv_data_datesort['Group']==2, ['OPRatio']]\n",
    "g3 = k.loc[kv_data_datesort['Group']==3, ['OPRatio']]\n",
    "g4 = k.loc[kv_data_datesort['Group']==4, ['OPRatio']]\n",
    "g5 = k.loc[kv_data_datesort['Group']==6, ['OPRatio']]\n",
    "g6 = k.loc[kv_data_datesort['Group']==7, ['OPRatio']]\n",
    "g7 = k.loc[kv_data_datesort['Group']==8, ['OPRatio']]\n",
    "g8 = k.loc[kv_data_datesort['Group']==9, ['OPRatio']]\n",
    "\n",
    "grouped=[g1,g2,g3,g4,g5,g6,g7,g8] # this should be able to be done a bit easier without splitting it all up first.\n",
    "\n",
    "fig = plt.figure(1, figsize=(9,6))\n",
    "\n",
    "ax = fig.add_subplot(111)\n",
    "\n",
    "bp = ax.boxplot(grouped, whis='range', patch_artist=True, showmeans=True)\n",
    "plt.plot([-1,10],[1,1], linestyle='--', color='black', alpha=0.5) #add line at OPRatio=1\n",
    "plt.title('kV Audit Results - Seperated by Audit Region')\n",
    "plt.xlabel(\"Audit Region\")\n",
    "plt.ylabel(\"OP Ratio (NPL:Host)\")\n",
    "plt.ylim(0.97,1.03)\n",
    "\n",
    "for box in bp['boxes']:\n",
    "    box.set(facecolor='lightgrey')\n",
    "    \n",
    "for whisker in bp['whiskers']:\n",
    "    whisker.set(linestyle='-', color='black') \n",
    "    \n",
    "for median in bp['medians']:\n",
    "    median.set(color='black')\n",
    "    \n",
    "for mean in bp['means']:\n",
    "    mean.set(marker='o', color='black', markerfacecolor='black')\n",
    "    \n",
    "#plt.savefig('NPL_Paper_Plots/NPL_kV_All_Groups_NHS.png', bbox_inches='tight', dpi=300)\n"
   ]
  },
  {
   "cell_type": "markdown",
   "metadata": {},
   "source": [
    "Plot all groups OP data as a sort of scatter plot (rather than use box plot?)"
   ]
  },
  {
   "cell_type": "code",
   "execution_count": 92,
   "metadata": {
    "collapsed": false
   },
   "outputs": [
    {
     "data": {
      "image/png": "[encoded data removed]",
      "text/plain": [
       "<matplotlib.figure.Figure at 0xc2b6b30>"
      ]
     },
     "metadata": {},
     "output_type": "display_data"
    }
   ],
   "source": [
    "fig = plt.figure(1, figsize=(9,6))\n",
    "\n",
    "ax = fig.add_subplot(111)\n",
    "ax.set_xticks([1,2,3,4,5,6,7,8])\n",
    "\n",
    "one = plt.plot([0,10],[1,1], '--', color='black', alpha=0.5) #add line for OPratio=1\n",
    "\n",
    "for i in range(0, len(grouped)):\n",
    "    scat = plt.plot(np.linspace(i+1,i+1,len(grouped[i])), grouped[i], u'o', color='black', alpha=0.5, linewidth=2)\n",
    "\n",
    "plt.xlim(0.5,8.5)\n",
    "plt.ylim(0.97,1.03)\n",
    "plt.title('kV Audit Results - Seperated by Audit Region')\n",
    "plt.xlabel(\"Audit Region\")\n",
    "plt.ylabel(\"OP Ratio (NPL:Host)\")\n",
    "\n",
    "##### can add box plot over the top by uncommenting the below line\n",
    "\n",
    "#bp = ax.boxplot(grouped, whis='range', patch_artist=True, showmeans=True)\n",
    "\n",
    "for box in bp['boxes']:\n",
    "    box.set(facecolor='grey')\n",
    "    \n",
    "for whisker in bp['whiskers']:\n",
    "    whisker.set(linestyle='-', color='black') \n",
    "    \n",
    "for median in bp['medians']:\n",
    "    median.set(color='black')\n",
    "    \n",
    "for mean in bp['means']:\n",
    "    mean.set(marker='o', color='black', markerfacecolor='black')\n",
    "    \n",
    "#plt.savefig('NPL_Paper_Plots/NPL_kV_All_Groups_Scat_NHS.png', bbox_inches='tight', dpi=300)"
   ]
  },
  {
   "cell_type": "markdown",
   "metadata": {
    "collapsed": true
   },
   "source": [
    "   #Split data into 2 year intervals"
   ]
  },
  {
   "cell_type": "code",
   "execution_count": 23,
   "metadata": {
    "collapsed": false
   },
   "outputs": [
    {
     "data": {
      "text/plain": [
       "<matplotlib.text.Text at 0x8b80a50>"
      ]
     },
     "execution_count": 23,
     "metadata": {},
     "output_type": "execute_result"
    },
    {
     "data": {
      "image/png": "[encoded data removed]",
      "text/plain": [
       "<matplotlib.figure.Figure at 0x8c87910>"
      ]
     },
     "metadata": {},
     "output_type": "display_data"
    }
   ],
   "source": [
    "#create different sets of data containing 2 year intervals\n",
    "\n",
    "d = nhs_data\n",
    "\n",
    "y1 = d[(d['Date'] > '1994-01-01') & (d['Date'] < '1996-01-01')].copy()\n",
    "y2 = d[(d['Date'] > '1996-01-01') & (d['Date'] < '1998-01-01')].copy()\n",
    "y3 = d[(d['Date'] > '1998-01-01') & (d['Date'] < '2000-01-01')].copy()\n",
    "y4 = d[(d['Date'] > '2000-01-01') & (d['Date'] < '2002-01-01')].copy()\n",
    "y5 = d[(d['Date'] > '2002-01-01') & (d['Date'] < '2004-01-01')].copy()\n",
    "y6 = d[(d['Date'] > '2004-01-01') & (d['Date'] < '2006-01-01')].copy()\n",
    "y7 = d[(d['Date'] > '2006-01-01') & (d['Date'] < '2008-01-01')].copy()\n",
    "y8 = d[(d['Date'] > '2008-01-01') & (d['Date'] < '2010-01-01')].copy()\n",
    "y9 = d[(d['Date'] > '2010-01-01') & (d['Date'] < '2012-01-01')].copy()\n",
    "y10 = d[(d['Date'] > '2012-01-01') & (d['Date'] < '2014-01-01')].copy()\n",
    "y11 = d[(d['Date'] > '2014-01-01') & (d['Date'] < '2016-01-01')].copy()\n",
    "\n",
    "#y1['GroupYear'] = 1\n",
    "#y2['GroupYear'] = 2\n",
    "#y3['GroupYear'] = 3\n",
    "#y4['GroupYear'] = 4\n",
    "#y5['GroupYear'] = 5\n",
    "#y6['GroupYear'] = 6\n",
    "#y7['GroupYear'] = 7\n",
    "#y8['GroupYear'] = 8\n",
    "#y9['GroupYear'] = 9\n",
    "#y10['GroupYear'] = 10\n",
    "#y11['GroupYear'] = 11\n",
    "\n",
    "y1 = y1['OPRatio']\n",
    "y2 = y2['OPRatio']\n",
    "y3 = y3['OPRatio']\n",
    "y4 = y4['OPRatio']\n",
    "y5 = y5['OPRatio']\n",
    "y6 = y6['OPRatio']\n",
    "y7 = y7['OPRatio']\n",
    "y8 = y8['OPRatio']\n",
    "y9 = y9['OPRatio']\n",
    "y10 = y10['OPRatio']\n",
    "y11 = y11['OPRatio']\n",
    "\n",
    "grouped_year=[y1,y2,y3,y4,y5,y6,y7,y8,y9,y10,y11] # this should be able to be done a bit easier without splitting it all up first.\n",
    "\n",
    "fig = plt.figure(1, figsize=(9,6))\n",
    "\n",
    "ax = fig.add_subplot(111)\n",
    "#ax.set_xticks([1,2,3,4,5,6,7,8,9,10,11])\n",
    "ax.set_xticks([1994,1996,1998,2000,2002,2004,2006,2008,2010,2012,2014,2016])\n",
    "\n",
    "one = plt.plot([0,3000],[1,1], '--', color='black', alpha=0.5) #add line for OPratio=1\n",
    "\n",
    "for i in range(0, len(grouped_year)):\n",
    "    #print(i)\n",
    "    scat = plt.plot(np.linspace(2*i+1994,2*i+1994,len(grouped_year[i])), grouped_year[i], u'o', color='black', alpha=0.5, linewidth=2)\n",
    "\n",
    "#for i in range(0, len(grouped_year)):\n",
    "#    print(np.linspace(i+1, i+1, len(grouped_year[i])))\n",
    "\n",
    "#plt.xlim(0.5,11.5)\n",
    "plt.xlim(1993, 2016)\n",
    "plt.ylim(0.97,1.03)\n",
    "plt.title('MeV Audit Results - Seperated by Year')\n",
    "plt.xlabel(\"Audit Year\")\n",
    "plt.ylabel(\"OP Ratio (NPL:Host)\")\n",
    "\n",
    "#plt.savefig('NPL_Paper_Plots/NPL_kV_Years_Scat_NHS.png', bbox_inches='tight', dpi=300)\n"
   ]
  },
  {
   "cell_type": "code",
   "execution_count": 21,
   "metadata": {
    "collapsed": false
   },
   "outputs": [
    {
     "data": {
      "text/html": [
       "<div style=\"max-height:1000px;max-width:1500px;overflow:auto;\">\n",
       "<table border=\"1\" class=\"dataframe\">\n",
       "  <thead>\n",
       "    <tr style=\"text-align: right;\">\n",
       "      <th></th>\n",
       "      <th></th>\n",
       "      <th>BeamQualError</th>\n",
       "      <th>BeamQualRatio</th>\n",
       "      <th>Energy</th>\n",
       "      <th>Group</th>\n",
       "      <th>IntercompError</th>\n",
       "      <th>IntercompRatio</th>\n",
       "      <th>OPError</th>\n",
       "      <th>OPRatio</th>\n",
       "    </tr>\n",
       "    <tr>\n",
       "      <th>Type</th>\n",
       "      <th></th>\n",
       "      <th></th>\n",
       "      <th></th>\n",
       "      <th></th>\n",
       "      <th></th>\n",
       "      <th></th>\n",
       "      <th></th>\n",
       "      <th></th>\n",
       "      <th></th>\n",
       "    </tr>\n",
       "  </thead>\n",
       "  <tbody>\n",
       "    <tr>\n",
       "      <th rowspan=\"8\" valign=\"top\">MV</th>\n",
       "      <th>count</th>\n",
       "      <td> 8.100000e+01</td>\n",
       "      <td> 81.000000</td>\n",
       "      <td>  81.000000</td>\n",
       "      <td> 81.000000</td>\n",
       "      <td> 8.000000e+01</td>\n",
       "      <td> 80.000000</td>\n",
       "      <td> 81.000000</td>\n",
       "      <td> 81.000000</td>\n",
       "    </tr>\n",
       "    <tr>\n",
       "      <th>mean</th>\n",
       "      <td> 1.870370e-01</td>\n",
       "      <td>  0.998920</td>\n",
       "      <td>   8.629630</td>\n",
       "      <td>  3.888889</td>\n",
       "      <td> 4.000000e-01</td>\n",
       "      <td>  0.999049</td>\n",
       "      <td>  0.177778</td>\n",
       "      <td>  1.000463</td>\n",
       "    </tr>\n",
       "    <tr>\n",
       "      <th>std</th>\n",
       "      <td> 2.204793e-02</td>\n",
       "      <td>  0.005326</td>\n",
       "      <td>   3.783003</td>\n",
       "      <td>  2.765863</td>\n",
       "      <td> 1.161521e-08</td>\n",
       "      <td>  0.007169</td>\n",
       "      <td>  0.041079</td>\n",
       "      <td>  0.006755</td>\n",
       "    </tr>\n",
       "    <tr>\n",
       "      <th>min</th>\n",
       "      <td> 1.500000e-01</td>\n",
       "      <td>  0.985000</td>\n",
       "      <td>   4.000000</td>\n",
       "      <td>  1.000000</td>\n",
       "      <td> 4.000000e-01</td>\n",
       "      <td>  0.958000</td>\n",
       "      <td>  0.100000</td>\n",
       "      <td>  0.987000</td>\n",
       "    </tr>\n",
       "    <tr>\n",
       "      <th>25%</th>\n",
       "      <td> 1.500000e-01</td>\n",
       "      <td>  0.995000</td>\n",
       "      <td>   6.000000</td>\n",
       "      <td>  1.000000</td>\n",
       "      <td> 4.000000e-01</td>\n",
       "      <td>  0.997000</td>\n",
       "      <td>  0.200000</td>\n",
       "      <td>  0.995000</td>\n",
       "    </tr>\n",
       "    <tr>\n",
       "      <th>50%</th>\n",
       "      <td> 2.000000e-01</td>\n",
       "      <td>  0.998700</td>\n",
       "      <td>   6.000000</td>\n",
       "      <td>  3.000000</td>\n",
       "      <td> 4.000000e-01</td>\n",
       "      <td>  1.000000</td>\n",
       "      <td>  0.200000</td>\n",
       "      <td>  1.000000</td>\n",
       "    </tr>\n",
       "    <tr>\n",
       "      <th>75%</th>\n",
       "      <td> 2.000000e-01</td>\n",
       "      <td>  1.002000</td>\n",
       "      <td>  10.000000</td>\n",
       "      <td>  6.000000</td>\n",
       "      <td> 4.000000e-01</td>\n",
       "      <td>  1.002250</td>\n",
       "      <td>  0.200000</td>\n",
       "      <td>  1.005000</td>\n",
       "    </tr>\n",
       "    <tr>\n",
       "      <th>max</th>\n",
       "      <td> 2.000000e-01</td>\n",
       "      <td>  1.012000</td>\n",
       "      <td>  25.000000</td>\n",
       "      <td>  9.000000</td>\n",
       "      <td> 4.000000e-01</td>\n",
       "      <td>  1.010900</td>\n",
       "      <td>  0.200000</td>\n",
       "      <td>  1.019900</td>\n",
       "    </tr>\n",
       "    <tr>\n",
       "      <th rowspan=\"8\" valign=\"top\">MeV</th>\n",
       "      <th>count</th>\n",
       "      <td> 2.400000e+01</td>\n",
       "      <td> 61.000000</td>\n",
       "      <td>  94.000000</td>\n",
       "      <td> 94.000000</td>\n",
       "      <td> 6.700000e+01</td>\n",
       "      <td> 67.000000</td>\n",
       "      <td> 94.000000</td>\n",
       "      <td> 94.000000</td>\n",
       "    </tr>\n",
       "    <tr>\n",
       "      <th>mean</th>\n",
       "      <td> 2.000000e-01</td>\n",
       "      <td> -0.045410</td>\n",
       "      <td>  11.436170</td>\n",
       "      <td>  4.159574</td>\n",
       "      <td> 4.000000e-01</td>\n",
       "      <td>  1.000716</td>\n",
       "      <td>  0.225532</td>\n",
       "      <td>  1.002547</td>\n",
       "    </tr>\n",
       "    <tr>\n",
       "      <th>std</th>\n",
       "      <td> 2.197056e-09</td>\n",
       "      <td>  0.081559</td>\n",
       "      <td>   4.693987</td>\n",
       "      <td>  2.974093</td>\n",
       "      <td> 1.270775e-08</td>\n",
       "      <td>  0.005178</td>\n",
       "      <td>  0.084161</td>\n",
       "      <td>  0.007437</td>\n",
       "    </tr>\n",
       "    <tr>\n",
       "      <th>min</th>\n",
       "      <td> 2.000000e-01</td>\n",
       "      <td> -0.280000</td>\n",
       "      <td>   4.000000</td>\n",
       "      <td>  1.000000</td>\n",
       "      <td> 4.000000e-01</td>\n",
       "      <td>  0.987000</td>\n",
       "      <td>  0.200000</td>\n",
       "      <td>  0.985000</td>\n",
       "    </tr>\n",
       "    <tr>\n",
       "      <th>25%</th>\n",
       "      <td> 2.000000e-01</td>\n",
       "      <td> -0.090000</td>\n",
       "      <td>   8.000000</td>\n",
       "      <td>  1.250000</td>\n",
       "      <td> 4.000000e-01</td>\n",
       "      <td>  0.997000</td>\n",
       "      <td>  0.200000</td>\n",
       "      <td>  0.998000</td>\n",
       "    </tr>\n",
       "    <tr>\n",
       "      <th>50%</th>\n",
       "      <td> 2.000000e-01</td>\n",
       "      <td> -0.050000</td>\n",
       "      <td>  12.000000</td>\n",
       "      <td>  3.000000</td>\n",
       "      <td> 4.000000e-01</td>\n",
       "      <td>  1.001000</td>\n",
       "      <td>  0.200000</td>\n",
       "      <td>  1.002000</td>\n",
       "    </tr>\n",
       "    <tr>\n",
       "      <th>75%</th>\n",
       "      <td> 2.000000e-01</td>\n",
       "      <td>  0.000000</td>\n",
       "      <td>  15.000000</td>\n",
       "      <td>  7.000000</td>\n",
       "      <td> 4.000000e-01</td>\n",
       "      <td>  1.005000</td>\n",
       "      <td>  0.200000</td>\n",
       "      <td>  1.007000</td>\n",
       "    </tr>\n",
       "    <tr>\n",
       "      <th>max</th>\n",
       "      <td> 2.000000e-01</td>\n",
       "      <td>  0.140000</td>\n",
       "      <td>  22.000000</td>\n",
       "      <td>  9.000000</td>\n",
       "      <td> 4.000000e-01</td>\n",
       "      <td>  1.013000</td>\n",
       "      <td>  0.500000</td>\n",
       "      <td>  1.027000</td>\n",
       "    </tr>\n",
       "    <tr>\n",
       "      <th rowspan=\"8\" valign=\"top\">kV</th>\n",
       "      <th>count</th>\n",
       "      <td> 2.600000e+01</td>\n",
       "      <td> 26.000000</td>\n",
       "      <td>  29.000000</td>\n",
       "      <td> 29.000000</td>\n",
       "      <td> 2.400000e+01</td>\n",
       "      <td> 24.000000</td>\n",
       "      <td> 29.000000</td>\n",
       "      <td> 29.000000</td>\n",
       "    </tr>\n",
       "    <tr>\n",
       "      <th>mean</th>\n",
       "      <td> 2.384615e+00</td>\n",
       "      <td>  0.999615</td>\n",
       "      <td> 154.448276</td>\n",
       "      <td>  4.379310</td>\n",
       "      <td> 4.000000e-01</td>\n",
       "      <td>  0.999792</td>\n",
       "      <td>  0.606897</td>\n",
       "      <td>  1.002103</td>\n",
       "    </tr>\n",
       "    <tr>\n",
       "      <th>std</th>\n",
       "      <td> 9.829313e-01</td>\n",
       "      <td>  0.048669</td>\n",
       "      <td>  82.535095</td>\n",
       "      <td>  2.833647</td>\n",
       "      <td> 0.000000e+00</td>\n",
       "      <td>  0.005150</td>\n",
       "      <td>  0.037139</td>\n",
       "      <td>  0.008793</td>\n",
       "    </tr>\n",
       "    <tr>\n",
       "      <th>min</th>\n",
       "      <td> 2.000000e+00</td>\n",
       "      <td>  0.873000</td>\n",
       "      <td>  50.000000</td>\n",
       "      <td>  1.000000</td>\n",
       "      <td> 4.000000e-01</td>\n",
       "      <td>  0.992000</td>\n",
       "      <td>  0.600000</td>\n",
       "      <td>  0.976000</td>\n",
       "    </tr>\n",
       "    <tr>\n",
       "      <th>25%</th>\n",
       "      <td> 2.000000e+00</td>\n",
       "      <td>  0.982500</td>\n",
       "      <td>  85.000000</td>\n",
       "      <td>  2.000000</td>\n",
       "      <td> 4.000000e-01</td>\n",
       "      <td>  0.995750</td>\n",
       "      <td>  0.600000</td>\n",
       "      <td>  0.998000</td>\n",
       "    </tr>\n",
       "    <tr>\n",
       "      <th>50%</th>\n",
       "      <td> 2.000000e+00</td>\n",
       "      <td>  1.002500</td>\n",
       "      <td> 135.000000</td>\n",
       "      <td>  3.000000</td>\n",
       "      <td> 4.000000e-01</td>\n",
       "      <td>  1.000000</td>\n",
       "      <td>  0.600000</td>\n",
       "      <td>  1.003000</td>\n",
       "    </tr>\n",
       "    <tr>\n",
       "      <th>75%</th>\n",
       "      <td> 2.000000e+00</td>\n",
       "      <td>  1.023750</td>\n",
       "      <td> 220.000000</td>\n",
       "      <td>  7.000000</td>\n",
       "      <td> 4.000000e-01</td>\n",
       "      <td>  1.002250</td>\n",
       "      <td>  0.600000</td>\n",
       "      <td>  1.006000</td>\n",
       "    </tr>\n",
       "    <tr>\n",
       "      <th>max</th>\n",
       "      <td> 5.000000e+00</td>\n",
       "      <td>  1.077000</td>\n",
       "      <td> 300.000000</td>\n",
       "      <td>  9.000000</td>\n",
       "      <td> 4.000000e-01</td>\n",
       "      <td>  1.011000</td>\n",
       "      <td>  0.800000</td>\n",
       "      <td>  1.021000</td>\n",
       "    </tr>\n",
       "  </tbody>\n",
       "</table>\n",
       "</div>"
      ],
      "text/plain": [
       "            BeamQualError  BeamQualRatio      Energy      Group  \\\n",
       "Type                                                              \n",
       "MV   count   8.100000e+01      81.000000   81.000000  81.000000   \n",
       "     mean    1.870370e-01       0.998920    8.629630   3.888889   \n",
       "     std     2.204793e-02       0.005326    3.783003   2.765863   \n",
       "     min     1.500000e-01       0.985000    4.000000   1.000000   \n",
       "     25%     1.500000e-01       0.995000    6.000000   1.000000   \n",
       "     50%     2.000000e-01       0.998700    6.000000   3.000000   \n",
       "     75%     2.000000e-01       1.002000   10.000000   6.000000   \n",
       "     max     2.000000e-01       1.012000   25.000000   9.000000   \n",
       "MeV  count   2.400000e+01      61.000000   94.000000  94.000000   \n",
       "     mean    2.000000e-01      -0.045410   11.436170   4.159574   \n",
       "     std     2.197056e-09       0.081559    4.693987   2.974093   \n",
       "     min     2.000000e-01      -0.280000    4.000000   1.000000   \n",
       "     25%     2.000000e-01      -0.090000    8.000000   1.250000   \n",
       "     50%     2.000000e-01      -0.050000   12.000000   3.000000   \n",
       "     75%     2.000000e-01       0.000000   15.000000   7.000000   \n",
       "     max     2.000000e-01       0.140000   22.000000   9.000000   \n",
       "kV   count   2.600000e+01      26.000000   29.000000  29.000000   \n",
       "     mean    2.384615e+00       0.999615  154.448276   4.379310   \n",
       "     std     9.829313e-01       0.048669   82.535095   2.833647   \n",
       "     min     2.000000e+00       0.873000   50.000000   1.000000   \n",
       "     25%     2.000000e+00       0.982500   85.000000   2.000000   \n",
       "     50%     2.000000e+00       1.002500  135.000000   3.000000   \n",
       "     75%     2.000000e+00       1.023750  220.000000   7.000000   \n",
       "     max     5.000000e+00       1.077000  300.000000   9.000000   \n",
       "\n",
       "            IntercompError  IntercompRatio    OPError    OPRatio  \n",
       "Type                                                              \n",
       "MV   count    8.000000e+01       80.000000  81.000000  81.000000  \n",
       "     mean     4.000000e-01        0.999049   0.177778   1.000463  \n",
       "     std      1.161521e-08        0.007169   0.041079   0.006755  \n",
       "     min      4.000000e-01        0.958000   0.100000   0.987000  \n",
       "     25%      4.000000e-01        0.997000   0.200000   0.995000  \n",
       "     50%      4.000000e-01        1.000000   0.200000   1.000000  \n",
       "     75%      4.000000e-01        1.002250   0.200000   1.005000  \n",
       "     max      4.000000e-01        1.010900   0.200000   1.019900  \n",
       "MeV  count    6.700000e+01       67.000000  94.000000  94.000000  \n",
       "     mean     4.000000e-01        1.000716   0.225532   1.002547  \n",
       "     std      1.270775e-08        0.005178   0.084161   0.007437  \n",
       "     min      4.000000e-01        0.987000   0.200000   0.985000  \n",
       "     25%      4.000000e-01        0.997000   0.200000   0.998000  \n",
       "     50%      4.000000e-01        1.001000   0.200000   1.002000  \n",
       "     75%      4.000000e-01        1.005000   0.200000   1.007000  \n",
       "     max      4.000000e-01        1.013000   0.500000   1.027000  \n",
       "kV   count    2.400000e+01       24.000000  29.000000  29.000000  \n",
       "     mean     4.000000e-01        0.999792   0.606897   1.002103  \n",
       "     std      0.000000e+00        0.005150   0.037139   0.008793  \n",
       "     min      4.000000e-01        0.992000   0.600000   0.976000  \n",
       "     25%      4.000000e-01        0.995750   0.600000   0.998000  \n",
       "     50%      4.000000e-01        1.000000   0.600000   1.003000  \n",
       "     75%      4.000000e-01        1.002250   0.600000   1.006000  \n",
       "     max      4.000000e-01        1.011000   0.800000   1.021000  "
      ]
     },
     "execution_count": 21,
     "metadata": {},
     "output_type": "execute_result"
    }
   ],
   "source": [
    "nhs_data.groupby('Type').describe()\n"
   ]
  },
  {
   "cell_type": "markdown",
   "metadata": {
    "collapsed": true
   },
   "source": [
    "#MeV Low/High Energy"
   ]
  },
  {
   "cell_type": "code",
   "execution_count": 33,
   "metadata": {
    "collapsed": false,
    "scrolled": false
   },
   "outputs": [
    {
     "data": {
      "text/plain": [
       "<matplotlib.legend.Legend at 0x8beb0f0>"
      ]
     },
     "execution_count": 33,
     "metadata": {},
     "output_type": "execute_result"
    },
    {
     "data": {
      "image/png": "[encoded data removed]",
      "text/plain": [
       "<matplotlib.figure.Figure at 0x4693770>"
      ]
     },
     "metadata": {},
     "output_type": "display_data"
    }
   ],
   "source": [
    "#d = nhs_data\n",
    "\n",
    "#md = mv_data\n",
    "#ed = mev_data\n",
    "#kd = kv_data\n",
    "\n",
    "esplit = 9\n",
    "elow = ed[ed['Energy'] <= esplit].copy() #separate each of mev/mv/kv into 'low' and 'high' energy\n",
    "ehigh = ed[ed['Energy'] > esplit].copy()\n",
    "\n",
    "msplit = 6\n",
    "mlow = md[md['Energy'] <= msplit].copy()\n",
    "mhigh = md[md['Energy'] > msplit].copy()\n",
    "\n",
    "ksplit = 160\n",
    "klow = kd[kd['Energy'] <= ksplit].copy()\n",
    "khigh = kd[kd['Energy'] > ksplit].copy()\n",
    "\n",
    "#grouped_year=[y1,y2,y3,y4,y5,y6,y7,y8,y9,y10,y11] # this should be able to be done a bit easier without splitting it all up first.\n",
    "\n",
    "to_plot1 = klow\n",
    "to_plot2 = khigh\n",
    "\n",
    "fig = plt.figure()\n",
    "axes = fig.add_subplot(1,1,1)\n",
    "plt.title('kV')\n",
    "plt.xlabel(\"Output Ratio (NPL:Host)\")\n",
    "plt.ylabel(\"Number of Audit Results\")\n",
    "plt.xlim(0.968, 1.032)\n",
    "#plt.ylim(0, 60)\n",
    "\n",
    "to_plot1['OPRatio'].hist(bins=14, range=(0.9675, 1.0375), normed=False,\n",
    "                               facecolor = 'red', alpha = 0.5, ax=axes, rwidth=0.8, label='< low kV')\n",
    "to_plot2['OPRatio'].hist(bins=14, range=(0.9675, 1.0375), normed=False,\n",
    "                               facecolor = 'green', alpha = 0.5, ax=axes, rwidth=0.8, label='>= high kV')\n",
    "\n",
    "#single plot with separated bars\n",
    "#plt.hist([to_plot1['OPRatio'],to_plot2['OPRatio']], label=['low','high'],histtype='bar', alpha=0.7)\n",
    "\n",
    "axes.xaxis.set_minor_locator(AutoMinorLocator(2)) #used to set the number of minor ticks between major ticks\n",
    "plt.tick_params(which='major', width=1, length=5)\n",
    "plt.tick_params(which='minor', width=1, length=3)\n",
    "plt.grid(True, which='major')\n",
    "plt.legend(loc='best')\n",
    "\n",
    "#plt.savefig('NPL_Paper_Plots/NPL_kV_Energy_Split_NHS.png', bbox_inches='tight', dpi=300)"
   ]
  },
  {
   "cell_type": "markdown",
   "metadata": {},
   "source": [
    "##Get some stats for low/high energies\n",
    "Have recorded values in excel spreadsheet for low/high/all\n"
   ]
  },
  {
   "cell_type": "code",
   "execution_count": 106,
   "metadata": {
    "collapsed": false
   },
   "outputs": [
    {
     "data": {
      "text/html": [
       "<div style=\"max-height:1000px;max-width:1500px;overflow:auto;\">\n",
       "<table border=\"1\" class=\"dataframe\">\n",
       "  <thead>\n",
       "    <tr style=\"text-align: right;\">\n",
       "      <th></th>\n",
       "      <th>Group</th>\n",
       "      <th>Energy</th>\n",
       "      <th>BeamQualRatio</th>\n",
       "      <th>BeamQualError</th>\n",
       "      <th>OPRatio</th>\n",
       "      <th>OPError</th>\n",
       "      <th>IntercompRatio</th>\n",
       "      <th>IntercompError</th>\n",
       "      <th>SD_Prev20</th>\n",
       "    </tr>\n",
       "  </thead>\n",
       "  <tbody>\n",
       "    <tr>\n",
       "      <th>count</th>\n",
       "      <td> 81.000000</td>\n",
       "      <td> 81.000000</td>\n",
       "      <td> 81.000000</td>\n",
       "      <td> 81.000000</td>\n",
       "      <td> 81.000000</td>\n",
       "      <td> 81.000000</td>\n",
       "      <td> 80.000000</td>\n",
       "      <td> 8.000000e+01</td>\n",
       "      <td> 62.000000</td>\n",
       "    </tr>\n",
       "    <tr>\n",
       "      <th>mean</th>\n",
       "      <td>  3.888889</td>\n",
       "      <td>  8.629630</td>\n",
       "      <td>  0.998920</td>\n",
       "      <td>  0.187037</td>\n",
       "      <td>  1.000463</td>\n",
       "      <td>  0.177778</td>\n",
       "      <td>  0.999049</td>\n",
       "      <td> 4.000000e-01</td>\n",
       "      <td>  0.006155</td>\n",
       "    </tr>\n",
       "    <tr>\n",
       "      <th>std</th>\n",
       "      <td>  2.765863</td>\n",
       "      <td>  3.783003</td>\n",
       "      <td>  0.005326</td>\n",
       "      <td>  0.022048</td>\n",
       "      <td>  0.006755</td>\n",
       "      <td>  0.041079</td>\n",
       "      <td>  0.007169</td>\n",
       "      <td> 1.161521e-08</td>\n",
       "      <td>  0.001685</td>\n",
       "    </tr>\n",
       "    <tr>\n",
       "      <th>min</th>\n",
       "      <td>  1.000000</td>\n",
       "      <td>  4.000000</td>\n",
       "      <td>  0.985000</td>\n",
       "      <td>  0.150000</td>\n",
       "      <td>  0.987000</td>\n",
       "      <td>  0.100000</td>\n",
       "      <td>  0.958000</td>\n",
       "      <td> 4.000000e-01</td>\n",
       "      <td>  0.003354</td>\n",
       "    </tr>\n",
       "    <tr>\n",
       "      <th>25%</th>\n",
       "      <td>  1.000000</td>\n",
       "      <td>  6.000000</td>\n",
       "      <td>  0.995000</td>\n",
       "      <td>  0.150000</td>\n",
       "      <td>  0.995000</td>\n",
       "      <td>  0.200000</td>\n",
       "      <td>  0.997000</td>\n",
       "      <td> 4.000000e-01</td>\n",
       "      <td>  0.004557</td>\n",
       "    </tr>\n",
       "    <tr>\n",
       "      <th>50%</th>\n",
       "      <td>  3.000000</td>\n",
       "      <td>  6.000000</td>\n",
       "      <td>  0.998700</td>\n",
       "      <td>  0.200000</td>\n",
       "      <td>  1.000000</td>\n",
       "      <td>  0.200000</td>\n",
       "      <td>  1.000000</td>\n",
       "      <td> 4.000000e-01</td>\n",
       "      <td>  0.006494</td>\n",
       "    </tr>\n",
       "    <tr>\n",
       "      <th>75%</th>\n",
       "      <td>  6.000000</td>\n",
       "      <td> 10.000000</td>\n",
       "      <td>  1.002000</td>\n",
       "      <td>  0.200000</td>\n",
       "      <td>  1.005000</td>\n",
       "      <td>  0.200000</td>\n",
       "      <td>  1.002250</td>\n",
       "      <td> 4.000000e-01</td>\n",
       "      <td>  0.007376</td>\n",
       "    </tr>\n",
       "    <tr>\n",
       "      <th>max</th>\n",
       "      <td>  9.000000</td>\n",
       "      <td> 25.000000</td>\n",
       "      <td>  1.012000</td>\n",
       "      <td>  0.200000</td>\n",
       "      <td>  1.019900</td>\n",
       "      <td>  0.200000</td>\n",
       "      <td>  1.010900</td>\n",
       "      <td> 4.000000e-01</td>\n",
       "      <td>  0.008734</td>\n",
       "    </tr>\n",
       "  </tbody>\n",
       "</table>\n",
       "</div>"
      ],
      "text/plain": [
       "           Group     Energy  BeamQualRatio  BeamQualError    OPRatio  \\\n",
       "count  81.000000  81.000000      81.000000      81.000000  81.000000   \n",
       "mean    3.888889   8.629630       0.998920       0.187037   1.000463   \n",
       "std     2.765863   3.783003       0.005326       0.022048   0.006755   \n",
       "min     1.000000   4.000000       0.985000       0.150000   0.987000   \n",
       "25%     1.000000   6.000000       0.995000       0.150000   0.995000   \n",
       "50%     3.000000   6.000000       0.998700       0.200000   1.000000   \n",
       "75%     6.000000  10.000000       1.002000       0.200000   1.005000   \n",
       "max     9.000000  25.000000       1.012000       0.200000   1.019900   \n",
       "\n",
       "         OPError  IntercompRatio  IntercompError  SD_Prev20  \n",
       "count  81.000000       80.000000    8.000000e+01  62.000000  \n",
       "mean    0.177778        0.999049    4.000000e-01   0.006155  \n",
       "std     0.041079        0.007169    1.161521e-08   0.001685  \n",
       "min     0.100000        0.958000    4.000000e-01   0.003354  \n",
       "25%     0.200000        0.997000    4.000000e-01   0.004557  \n",
       "50%     0.200000        1.000000    4.000000e-01   0.006494  \n",
       "75%     0.200000        1.002250    4.000000e-01   0.007376  \n",
       "max     0.200000        1.010900    4.000000e-01   0.008734  "
      ]
     },
     "execution_count": 106,
     "metadata": {},
     "output_type": "execute_result"
    }
   ],
   "source": [
    "m.describe()\n"
   ]
  },
  {
   "cell_type": "markdown",
   "metadata": {},
   "source": [
    "##Plot Beam Quality"
   ]
  },
  {
   "cell_type": "code",
   "execution_count": 166,
   "metadata": {
    "collapsed": false
   },
   "outputs": [
    {
     "data": {
      "text/plain": [
       "[<matplotlib.lines.Line2D at 0xf92edd0>]"
      ]
     },
     "execution_count": 166,
     "metadata": {},
     "output_type": "execute_result"
    },
    {
     "data": {
      "image/png": "[encoded data removed]",
      "text/plain": [
       "<matplotlib.figure.Figure at 0xf8c0e50>"
      ]
     },
     "metadata": {},
     "output_type": "display_data"
    }
   ],
   "source": [
    "#m = mv_data_datesort\n",
    "\n",
    "m = mv_data_datesort     # to allow shorter references to dataframes\n",
    "e = mev_data_datesort\n",
    "k = kv_data_datesort\n",
    "\n",
    "fig1 = plt.figure()\n",
    "axes1 = fig1.add_subplot(1,1,1)\n",
    "plt.title('MV Audit Results')\n",
    "plt.xlabel(\"Audit Number\")\n",
    "plt.ylabel(\"Beam Quality Ratio (NPL:Host)\")\n",
    "plt.ylim(0.97, 1.03)\n",
    "axes1.xaxis.set_minor_locator(AutoMinorLocator(4)) #used to set the number of minor ticks between major ticks\n",
    "plt.tick_params(which='major', width=1, length=5)\n",
    "plt.tick_params(which='minor', width=1, length=3)\n",
    "plt.grid(True, which='major')\n",
    "\n",
    "q = m\n",
    "\n",
    "x=np.arange(1,q['BeamQualRatio'].count()+1)\n",
    "y=q['BeamQualRatio']\n",
    "\n",
    "plt.plot(x,y)\n",
    "#plt.errorbar(x, y, yerr=yerr, ecolor='black')\n",
    "#axes2=fig1.add_subplot(111, sharex=axes1, frameon=False)\n",
    "#axes2.yaxis.tick_right()\n",
    "#axes2.yaxis.set_label_position('right')\n",
    "#plt.ylim(0, 0.012)\n",
    "#plt.ylabel(\"SD (Previous 20)\")\n",
    "#line2=axes2.plot(x,ysd, color='orange')\n",
    "\n",
    "#plt.savefig('NPL_Paper_Plots/NPL_kV_All_SD_NHS.png', bbox_inches='tight', dpi=300)\n"
   ]
  },
  {
   "cell_type": "code",
   "execution_count": 116,
   "metadata": {
    "collapsed": false
   },
   "outputs": [
    {
     "ename": "TypeError",
     "evalue": "'tuple' object is not callable",
     "output_type": "error",
     "traceback": [
      "\u001b[1;31m---------------------------------------------------------------------------\u001b[0m",
      "\u001b[1;31mTypeError\u001b[0m                                 Traceback (most recent call last)",
      "\u001b[1;32m<ipython-input-116-e265a6f380a7>\u001b[0m in \u001b[0;36m<module>\u001b[1;34m()\u001b[0m\n\u001b[0;32m      9\u001b[0m \u001b[0mplt\u001b[0m\u001b[1;33m.\u001b[0m\u001b[0mxlabel\u001b[0m\u001b[1;33m(\u001b[0m\u001b[1;34m\"OP Ratio\"\u001b[0m\u001b[1;33m)\u001b[0m\u001b[1;33m\u001b[0m\u001b[0m\n\u001b[0;32m     10\u001b[0m \u001b[0mplt\u001b[0m\u001b[1;33m.\u001b[0m\u001b[0mylabel\u001b[0m\u001b[1;33m(\u001b[0m\u001b[1;34m\"Beam Quality Ratio\"\u001b[0m\u001b[1;33m)\u001b[0m\u001b[1;33m\u001b[0m\u001b[0m\n\u001b[1;32m---> 11\u001b[1;33m \u001b[0mplt\u001b[0m\u001b[1;33m.\u001b[0m\u001b[0mxlim\u001b[0m\u001b[1;33m(\u001b[0m\u001b[1;36m0.9\u001b[0m\u001b[1;33m,\u001b[0m\u001b[1;36m1.03\u001b[0m\u001b[1;33m)\u001b[0m\u001b[1;33m\u001b[0m\u001b[0m\n\u001b[0m\u001b[0;32m     12\u001b[0m \u001b[0mplt\u001b[0m\u001b[1;33m.\u001b[0m\u001b[0mylim\u001b[0m\u001b[1;33m(\u001b[0m\u001b[1;33m-\u001b[0m\u001b[1;36m0.4\u001b[0m\u001b[1;33m,\u001b[0m\u001b[1;36m0.4\u001b[0m\u001b[1;33m)\u001b[0m\u001b[1;33m\u001b[0m\u001b[0m\n\u001b[0;32m     13\u001b[0m \u001b[1;33m\u001b[0m\u001b[0m\n",
      "\u001b[1;31mTypeError\u001b[0m: 'tuple' object is not callable"
     ]
    },
    {
     "data": {
      "image/png": "[encoded data removed]",
      "text/plain": [
       "<matplotlib.figure.Figure at 0xb456450>"
      ]
     },
     "metadata": {},
     "output_type": "display_data"
    }
   ],
   "source": [
    "d=e\n",
    "\n",
    "plt.figure(figsize=(5,5))\n",
    "\n",
    "plt.scatter(d['OPRatio'], d['BeamQualRatio'])\n",
    "#plt.scatter(d['OPRatio'], d['IntercompRatio'])\n",
    "\n",
    "plt.title('Beam Quality vs OP Ratio - MeV')\n",
    "plt.xlabel(\"OP Ratio\")\n",
    "plt.ylabel(\"Beam Quality Ratio\")\n",
    "plt.xlim(0.9,1.03)\n",
    "plt.ylim(-0.4,0.4)\n",
    "\n",
    "#plt.savefig('NPL_Paper_Plots/NPL_MeV_BQvsOP.png', bbox_inches='tight', dpi=300)\n"
   ]
  },
  {
   "cell_type": "markdown",
   "metadata": {},
   "source": [
    "##No real trends observed in Beam Qual\n",
    "###What does the spread look like?"
   ]
  },
  {
   "cell_type": "code",
   "execution_count": 40,
   "metadata": {
    "collapsed": false
   },
   "outputs": [
    {
     "data": {
      "text/plain": [
       "<matplotlib.legend.Legend at 0x4a08c90>"
      ]
     },
     "execution_count": 40,
     "metadata": {},
     "output_type": "execute_result"
    },
    {
     "data": {
      "image/png": "[encoded data removed]",
      "text/plain": [
       "<matplotlib.figure.Figure at 0x821d430>"
      ]
     },
     "metadata": {},
     "output_type": "display_data"
    }
   ],
   "source": [
    "fig = plt.figure()\n",
    "axes = fig.add_subplot(1,1,1)\n",
    "plt.title('Beam Quality')\n",
    "plt.xlabel(\"Beam Quality Dif (mm) (NPL:Host)\")\n",
    "plt.ylabel(\"Number of Audit Results\")\n",
    "#plt.xlim(0.968, 1.032)\n",
    "#plt.ylim(0, 60)\n",
    "\n",
    "#e['BeamQualRatio'].hist(bins=14, range=(0.9675, 1.0375), normed=False,\n",
    "#                               facecolor = 'red', alpha = 0.5, ax=axes, rwidth=0.8, label='MeV')\n",
    "m['BeamQualRatio'].hist(bins=14, range=(0.9675, 1.0375), normed=False,\n",
    "                               facecolor = 'green', alpha = 0.5, ax=axes, rwidth=0.8, label='MV')\n",
    "#k['BeamQualRatio'].hist(bins=14, range=(0.9675, 1.0375), normed=True,\n",
    "#                              facecolor = 'blue', alpha = 0.5, ax=axes, rwidth=0.8, label='kV')\n",
    "\n",
    "##electrons are R50d so dif scale needed.\n",
    "#ehigh['BeamQualRatio'].hist(bins=14, range=(-0.4, 0.4), normed=False,\n",
    "#                               facecolor = 'red', alpha = 0.5, ax=axes, rwidth=0.8, label='MeV')\n",
    "#single plot with separated bars\n",
    "#plt.hist([to_plot1['OPRatio'],to_plot2['OPRatio']], label=['low','high'],histtype='bar', alpha=0.7)\n",
    "\n",
    "axes.xaxis.set_minor_locator(AutoMinorLocator(2)) #used to set the number of minor ticks between major ticks\n",
    "plt.tick_params(which='major', width=1, length=5)\n",
    "plt.tick_params(which='minor', width=1, length=3)\n",
    "plt.grid(True, which='major')\n",
    "plt.legend(loc='best')\n",
    "\n",
    "#plt.savefig('NPL_Paper_Plots/NPL_MV_Beam_Qual_NHS.png', bbox_inches='tight', dpi=300)"
   ]
  },
  {
   "cell_type": "markdown",
   "metadata": {
    "collapsed": true
   },
   "source": [
    "##Some statistical analysis such as T-tests\n",
    "Can see there is no statistical difference between the low and high groupings."
   ]
  },
  {
   "cell_type": "code",
   "execution_count": 113,
   "metadata": {
    "collapsed": false
   },
   "outputs": [
    {
     "name": "stdout",
     "output_type": "stream",
     "text": [
      "Low vs high MeV:  T-Stat:  -0.411818943143  p-val:  0.681430437771\n",
      "Low vs high MV:  T-Stat:  0.589347932122  p-val:  0.557330846192\n",
      "Low vs high kV:  T-Stat:  0.0433332014997  p-val:  0.965867433128\n",
      "MeV vs MV:  T-Stat:  3143.0  p-val:  0.0234252572862\n"
     ]
    }
   ],
   "source": [
    "import scipy\n",
    "ehighlow = scipy.stats.ttest_ind(ehigh['OPRatio'], elow['OPRatio'], equal_var=False)\n",
    "print(\"Low vs high MeV: \", \"T-Stat: \", ehighlow[0], \" p-val: \", ehighlow[1])\n",
    "mhighlow = scipy.stats.ttest_ind(mhigh['OPRatio'], mlow['OPRatio'], equal_var=False)\n",
    "print(\"Low vs high MV: \", \"T-Stat: \", mhighlow[0], \" p-val: \", mhighlow[1])\n",
    "khighlow = scipy.stats.ttest_ind(khigh['OPRatio'], klow['OPRatio'], equal_var=False)\n",
    "print(\"Low vs high kV: \", \"T-Stat: \", khighlow[0], \" p-val: \", khighlow[1])\n",
    "\n",
    "em = scipy.stats.mannwhitneyu(e['OPRatio'], m['OPRatio']) # mannwitneyu test used to compare without assumtion of gaussian errors...\n",
    "print(\"MeV vs MV: \", \"T-Stat: \", em[0], \" p-val: \", em[1])\n"
   ]
  },
  {
   "cell_type": "code",
   "execution_count": 86,
   "metadata": {
    "collapsed": false
   },
   "outputs": [
    {
     "data": {
      "image/png": "[encoded data removed]",
      "text/plain": [
       "<matplotlib.figure.Figure at 0xb64d6d0>"
      ]
     },
     "metadata": {},
     "output_type": "display_data"
    }
   ],
   "source": [
    "## OP ratio vs IntercompRatio has a trend.\n",
    "## i.e. intercomparison is good, but the absolute calibration is off?\n",
    "comp = e\n",
    "\n",
    "compare = comp.plot(kind='scatter', x='OPRatio',y='IntercompRatio', figsize=(6,6), ylim=(0.97,1.03), xlim=(0.97,1.03), title=\"MeV\")\n",
    "fig = compare.get_figure()\n",
    "#fig.savefig('NPL_Paper_Plots/NPL_MeV_OPvsIntercomp_NHS.png', bbox_inches='tight', dpi=300)\n"
   ]
  },
  {
   "cell_type": "code",
   "execution_count": 87,
   "metadata": {
    "collapsed": false
   },
   "outputs": [
    {
     "data": {
      "text/plain": [
       "array([[<matplotlib.axes._subplots.AxesSubplot object at 0x0B6A2D70>,\n",
       "        <matplotlib.axes._subplots.AxesSubplot object at 0x0BB74790>,\n",
       "        <matplotlib.axes._subplots.AxesSubplot object at 0x0BB9DB90>],\n",
       "       [<matplotlib.axes._subplots.AxesSubplot object at 0x0BBBDDB0>,\n",
       "        <matplotlib.axes._subplots.AxesSubplot object at 0x0BBE7E50>,\n",
       "        <matplotlib.axes._subplots.AxesSubplot object at 0x0BC08F50>],\n",
       "       [<matplotlib.axes._subplots.AxesSubplot object at 0x0BC32ED0>,\n",
       "        <matplotlib.axes._subplots.AxesSubplot object at 0x0BC42690>,\n",
       "        <matplotlib.axes._subplots.AxesSubplot object at 0x0BC81B50>]], dtype=object)"
      ]
     },
     "execution_count": 87,
     "metadata": {},
     "output_type": "execute_result"
    },
    {
     "data": {
      "image/png": "[encoded data removed]",
      "text/plain": [
       "<matplotlib.figure.Figure at 0xb6441d0>"
      ]
     },
     "metadata": {},
     "output_type": "display_data"
    }
   ],
   "source": [
    "from pandas.tools import plotting\n",
    "plotting.scatter_matrix(e[['OPRatio', 'BeamQualRatio', 'IntercompRatio']], figsize=(8,8))"
   ]
  },
  {
   "cell_type": "markdown",
   "metadata": {},
   "source": [
    "##Histogram of different energies"
   ]
  },
  {
   "cell_type": "code",
   "execution_count": 58,
   "metadata": {
    "collapsed": false
   },
   "outputs": [
    {
     "data": {
      "text/plain": [
       "array([[<matplotlib.axes._subplots.AxesSubplot object at 0x0B685F30>,\n",
       "        <matplotlib.axes._subplots.AxesSubplot object at 0x0B74B730>,\n",
       "        <matplotlib.axes._subplots.AxesSubplot object at 0x0B776950>],\n",
       "       [<matplotlib.axes._subplots.AxesSubplot object at 0x0B7977B0>,\n",
       "        <matplotlib.axes._subplots.AxesSubplot object at 0x0B7C0850>,\n",
       "        <matplotlib.axes._subplots.AxesSubplot object at 0x0B7E29D0>],\n",
       "       [<matplotlib.axes._subplots.AxesSubplot object at 0x0B80C8B0>,\n",
       "        <matplotlib.axes._subplots.AxesSubplot object at 0x0B816330>,\n",
       "        <matplotlib.axes._subplots.AxesSubplot object at 0x0B9A9910>]], dtype=object)"
      ]
     },
     "execution_count": 58,
     "metadata": {},
     "output_type": "execute_result"
    },
    {
     "data": {
      "text/plain": [
       "<matplotlib.figure.Figure at 0x5fdded0>"
      ]
     },
     "metadata": {},
     "output_type": "display_data"
    },
    {
     "data": {
      "image/png": "[encoded data removed]",
      "text/plain": [
       "<matplotlib.figure.Figure at 0xb66eb10>"
      ]
     },
     "metadata": {},
     "output_type": "display_data"
    }
   ],
   "source": [
    "d = m\n",
    "plt.figure()\n",
    "m['OPRatio'].hist(by=m['Energy'],normed=False, bins=11, range=(0.965,1.035), rwidth=0.8)\n"
   ]
  },
  {
   "cell_type": "markdown",
   "metadata": {},
   "source": [
    "##Histogram of different regions"
   ]
  },
  {
   "cell_type": "code",
   "execution_count": 63,
   "metadata": {
    "collapsed": false
   },
   "outputs": [
    {
     "data": {
      "text/plain": [
       "array([[<matplotlib.axes._subplots.AxesSubplot object at 0x0C728E90>,\n",
       "        <matplotlib.axes._subplots.AxesSubplot object at 0x0C93C130>,\n",
       "        <matplotlib.axes._subplots.AxesSubplot object at 0x0C827330>],\n",
       "       [<matplotlib.axes._subplots.AxesSubplot object at 0x0C847190>,\n",
       "        <matplotlib.axes._subplots.AxesSubplot object at 0x0C871230>,\n",
       "        <matplotlib.axes._subplots.AxesSubplot object at 0x0C8923B0>],\n",
       "       [<matplotlib.axes._subplots.AxesSubplot object at 0x0C8BB290>,\n",
       "        <matplotlib.axes._subplots.AxesSubplot object at 0x0C8C0230>,\n",
       "        <matplotlib.axes._subplots.AxesSubplot object at 0x0C90B2F0>]], dtype=object)"
      ]
     },
     "execution_count": 63,
     "metadata": {},
     "output_type": "execute_result"
    },
    {
     "data": {
      "text/plain": [
       "<matplotlib.figure.Figure at 0xc613ab0>"
      ]
     },
     "metadata": {},
     "output_type": "display_data"
    },
    {
     "data": {
      "image/png": "[encoded data removed]",
      "text/plain": [
       "<matplotlib.figure.Figure at 0xc5586f0>"
      ]
     },
     "metadata": {},
     "output_type": "display_data"
    }
   ],
   "source": [
    "d=m\n",
    "plt.figure()\n",
    "d['OPRatio'].hist(by=d['Group'],normed=False, bins=11, range=(0.965,1.035), rwidth=0.8)"
   ]
  },
  {
   "cell_type": "markdown",
   "metadata": {},
   "source": [
    "## test if the mean is 1.0 for OPRatios using 1 sided t-test"
   ]
  },
  {
   "cell_type": "code",
   "execution_count": 69,
   "metadata": {
    "collapsed": false
   },
   "outputs": [
    {
     "data": {
      "text/plain": [
       "(0.61649727045474012, 0.53931678628824342)"
      ]
     },
     "execution_count": 69,
     "metadata": {},
     "output_type": "execute_result"
    }
   ],
   "source": [
    "import scipy\n",
    "scipy.stats.ttest_1samp(m['OPRatio'], 1)"
   ]
  },
  {
   "cell_type": "code",
   "execution_count": null,
   "metadata": {
    "collapsed": true
   },
   "outputs": [],
   "source": []
  }
 ],
 "metadata": {
  "kernelspec": {
   "display_name": "Python 3",
   "language": "python",
   "name": "python3"
  },
  "language_info": {
   "codemirror_mode": {
    "name": "ipython",
    "version": 3
   },
   "file_extension": ".py",
   "mimetype": "text/x-python",
   "name": "python",
   "nbconvert_exporter": "python",
   "pygments_lexer": "ipython3",
   "version": "3.4.3"
  }
 },
 "nbformat": 4,
 "nbformat_minor": 0
}
