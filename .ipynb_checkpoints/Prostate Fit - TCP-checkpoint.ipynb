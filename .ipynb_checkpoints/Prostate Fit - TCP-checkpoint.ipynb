{
 "cells": [
  {
   "cell_type": "markdown",
   "metadata": {},
   "source": [
    "#Import Relevent Python Libraries etc"
   ]
  },
  {
   "cell_type": "code",
   "execution_count": 1,
   "metadata": {
    "collapsed": true
   },
   "outputs": [],
   "source": [
    "import numpy as np\n",
    "import pandas as pd\n",
    "import matplotlib.pyplot as plt\n",
    "%matplotlib inline\n",
    "import os"
   ]
  },
  {
   "cell_type": "markdown",
   "metadata": {},
   "source": [
    "#Import Outcome Data"
   ]
  },
  {
   "cell_type": "code",
   "execution_count": 2,
   "metadata": {
    "collapsed": false,
    "scrolled": false
   },
   "outputs": [
    {
     "name": "stdout",
     "output_type": "stream",
     "text": [
      "C:\\Users\\mb22\\OneDrive\\PhD\\Quasar Shared\\Modelling\\IPythonData to Import/Prostate Outcome Summary 270515.txt\n"
     ]
    },
    {
     "data": {
      "text/html": [
       "<div style=\"max-height:1000px;max-width:1500px;overflow:auto;\">\n",
       "<table border=\"1\" class=\"dataframe\">\n",
       "  <thead>\n",
       "    <tr style=\"text-align: right;\">\n",
       "      <th></th>\n",
       "      <th>Study</th>\n",
       "      <th>Dose</th>\n",
       "      <th>TCP</th>\n",
       "    </tr>\n",
       "  </thead>\n",
       "  <tbody>\n",
       "    <tr>\n",
       "      <th>0 </th>\n",
       "      <td>        RT01</td>\n",
       "      <td> 64</td>\n",
       "      <td> 43</td>\n",
       "    </tr>\n",
       "    <tr>\n",
       "      <th>1 </th>\n",
       "      <td>        RT01</td>\n",
       "      <td> 74</td>\n",
       "      <td> 55</td>\n",
       "    </tr>\n",
       "    <tr>\n",
       "      <th>2 </th>\n",
       "      <td> MD Anderson</td>\n",
       "      <td> 70</td>\n",
       "      <td> 43</td>\n",
       "    </tr>\n",
       "    <tr>\n",
       "      <th>3 </th>\n",
       "      <td> MD Anderson</td>\n",
       "      <td> 78</td>\n",
       "      <td> 62</td>\n",
       "    </tr>\n",
       "    <tr>\n",
       "      <th>4 </th>\n",
       "      <td>         RMH</td>\n",
       "      <td> 64</td>\n",
       "      <td> 59</td>\n",
       "    </tr>\n",
       "    <tr>\n",
       "      <th>5 </th>\n",
       "      <td>         RMH</td>\n",
       "      <td> 74</td>\n",
       "      <td> 71</td>\n",
       "    </tr>\n",
       "    <tr>\n",
       "      <th>6 </th>\n",
       "      <td>   Fox Chase</td>\n",
       "      <td> 69</td>\n",
       "      <td> 68</td>\n",
       "    </tr>\n",
       "    <tr>\n",
       "      <th>7 </th>\n",
       "      <td>   Fox Chase</td>\n",
       "      <td> 71</td>\n",
       "      <td> 74</td>\n",
       "    </tr>\n",
       "    <tr>\n",
       "      <th>8 </th>\n",
       "      <td>   Fox Chase</td>\n",
       "      <td> 76</td>\n",
       "      <td> 69</td>\n",
       "    </tr>\n",
       "    <tr>\n",
       "      <th>9 </th>\n",
       "      <td>   Fox Chase</td>\n",
       "      <td> 70</td>\n",
       "      <td> 19</td>\n",
       "    </tr>\n",
       "    <tr>\n",
       "      <th>10</th>\n",
       "      <td>   Fox Chase</td>\n",
       "      <td> 72</td>\n",
       "      <td> 31</td>\n",
       "    </tr>\n",
       "    <tr>\n",
       "      <th>11</th>\n",
       "      <td>   Fox Chase</td>\n",
       "      <td> 76</td>\n",
       "      <td> 84</td>\n",
       "    </tr>\n",
       "    <tr>\n",
       "      <th>12</th>\n",
       "      <td>   Fox Chase</td>\n",
       "      <td> 70</td>\n",
       "      <td>  8</td>\n",
       "    </tr>\n",
       "    <tr>\n",
       "      <th>13</th>\n",
       "      <td>   Fox Chase</td>\n",
       "      <td> 73</td>\n",
       "      <td> 23</td>\n",
       "    </tr>\n",
       "    <tr>\n",
       "      <th>14</th>\n",
       "      <td>   Fox Chase</td>\n",
       "      <td> 76</td>\n",
       "      <td> 11</td>\n",
       "    </tr>\n",
       "  </tbody>\n",
       "</table>\n",
       "</div>"
      ],
      "text/plain": [
       "          Study  Dose  TCP\n",
       "0          RT01    64   43\n",
       "1          RT01    74   55\n",
       "2   MD Anderson    70   43\n",
       "3   MD Anderson    78   62\n",
       "4           RMH    64   59\n",
       "5           RMH    74   71\n",
       "6     Fox Chase    69   68\n",
       "7     Fox Chase    71   74\n",
       "8     Fox Chase    76   69\n",
       "9     Fox Chase    70   19\n",
       "10    Fox Chase    72   31\n",
       "11    Fox Chase    76   84\n",
       "12    Fox Chase    70    8\n",
       "13    Fox Chase    73   23\n",
       "14    Fox Chase    76   11"
      ]
     },
     "execution_count": 2,
     "metadata": {},
     "output_type": "execute_result"
    }
   ],
   "source": [
    "#mainpath = 'C:/Users/mb22/OneDrive/PhD/Quasar Shared/' #Files are explicitely specified here and broken into 2 parts \n",
    "filepath = 'Data to Import/Prostate Outcome Summary 270515.txt' #so as to be <79 characters\n",
    "#filepath = 'Data to Import/Prostate Outcome Summary 270515-2.txt'\n",
    "cwd = os.getcwd()\n",
    "\n",
    "fullpath=cwd+filepath\n",
    "print(fullpath)\n",
    "\n",
    "data = pd.read_table(filepath)\n",
    "data.rename(columns={data.columns[0]: 'Study'}, inplace=True) # Rename the Study column which is unnamed int he original file\n",
    "\n",
    "groups = data.groupby('Study')  # assign groups to the studys\n",
    "data['TCP'] = data['TCP']\n",
    "data # .head shows the first 5 rows of data, .tail last 5 rows"
   ]
  },
  {
   "cell_type": "markdown",
   "metadata": {},
   "source": [
    "#Now plot initial TCP model\n",
    "****Need to define as a function so can fit."
   ]
  },
  {
   "cell_type": "code",
   "execution_count": 3,
   "metadata": {
    "collapsed": false
   },
   "outputs": [
    {
     "name": "stdout",
     "output_type": "stream",
     "text": [
      "[  0.00000000e+000   0.00000000e+000   0.00000000e+000   0.00000000e+000\n",
      "   0.00000000e+000   0.00000000e+000   0.00000000e+000   0.00000000e+000\n",
      "   0.00000000e+000   0.00000000e+000   0.00000000e+000   0.00000000e+000\n",
      "   0.00000000e+000   0.00000000e+000   0.00000000e+000   0.00000000e+000\n",
      "   0.00000000e+000   0.00000000e+000   6.12006198e-225   2.32973923e-147\n",
      "   2.19463322e-096   6.81871347e-063   6.91414128e-041   1.98945488e-026\n",
      "   6.29464630e-017   1.09918804e-010   1.38811161e-006   6.87392726e-004\n",
      "   4.05323626e-002   5.90428128e-001   3.43204040e+000   1.09091109e+001\n",
      "   2.33229003e+001   3.84240854e+001   5.33414818e+001   6.61711948e+001\n",
      "   7.62379345e+001   8.36721464e+001   8.89471492e+001   9.25928313e+001\n",
      "   9.50691834e+001   9.67322070e+001   9.78406963e+001   9.85759317e+001\n",
      "   9.90620209e+001   9.93827084e+001   9.95939800e+001   9.97330398e+001\n",
      "   9.98245142e+001   9.98846629e+001]\n"
     ]
    },
    {
     "data": {
      "text/plain": [
       "[<matplotlib.lines.Line2D at 0xa58bff0>]"
      ]
     },
     "execution_count": 3,
     "metadata": {},
     "output_type": "execute_result"
    },
    {
     "data": {
      "image/png": "[encoded data removed]",
      "text/plain": [
       "<matplotlib.figure.Figure at 0x62a7190>"
      ]
     },
     "metadata": {},
     "output_type": "display_data"
    }
   ],
   "source": [
    "from scipy.optimize import curve_fit\n",
    "\n",
    "d=2.0 #dose per fraction\n",
    "N=10**6 #number of tumour cells\n",
    "\n",
    "D = np.arange(0,100.0,d) #create array containing dose values in increments of d\n",
    "#print(D)\n",
    "\n",
    "#n=max(D)/d # total number of fractions in model\n",
    "\n",
    "a = 0.15 # These are guessed values and can be tweaked manually to give a 'good' fit\n",
    "abrat = 5\n",
    "#b = a/abrat\n",
    "\n",
    "S=np.exp(-a*D*(1+(d/abrat)))\n",
    "TCP=100*np.exp(-N*S)\n",
    "print(TCP)\n",
    "\n",
    "plt.scatter(x=data.Dose, y=data.TCP, color='blue',)\n",
    "plt.title(\"Prostate Data - TCP\")\n",
    "plt.xlabel(\"Dose (Gy)\")\n",
    "plt.ylabel(\"TCP\")\n",
    "#plt.xlim(0,100)\n",
    "#plt.ylim(0,100)\n",
    "plt.grid(True)\n",
    "plt.plot(D, TCP, color='GREEN')"
   ]
  },
  {
   "cell_type": "markdown",
   "metadata": {
    "collapsed": true
   },
   "source": [
    "#Want to now FIT the model to the data\n",
    "##Least Squares Fitting?"
   ]
  },
  {
   "cell_type": "code",
   "execution_count": 4,
   "metadata": {
    "collapsed": false
   },
   "outputs": [
    {
     "name": "stdout",
     "output_type": "stream",
     "text": [
      "0.372900514911 -0.0012228264304\n"
     ]
    },
    {
     "data": {
      "image/png": "[encoded data removed]",
      "text/plain": [
       "<matplotlib.figure.Figure at 0xb79b290>"
      ]
     },
     "metadata": {},
     "output_type": "display_data"
    }
   ],
   "source": [
    "from scipy.optimize import curve_fit\n",
    "\n",
    "def fit(D, a_fit, b_fit):                      #define TCP function to fit\n",
    "    s = N*np.exp(-a_fit*D - b_fit*d*D**2)\n",
    "    TCP = 100*np.exp(-s)\n",
    "    return TCP\n",
    "\n",
    "d=2.0 #dose per fraction\n",
    "N=10**6 #number of tumour cells\n",
    "\n",
    "x = data.Dose\n",
    "y = data.TCP\n",
    "\n",
    "p0 = [0.05,0.001] # intial estimates of fit parameters\n",
    "\n",
    "xman = np.linspace(0.0, 100.0, 100.0)              # for plotting manually calculated function with initial values\n",
    "yman = fit(xman, p0[0], p0[1])                # basic fitting function. Doesnt work too well as cant constrain\n",
    "\n",
    "coeffs, matcov = curve_fit(fit, x, y, p0)      # fit curve against x and y data sets\n",
    "\n",
    "xfit = np.linspace(0.0, 100.0, 100.0)         # give finer resultion array for plot\n",
    "yfit = fit(xfit, *coeffs)                    # calculate fitted data with fine array\n",
    "\n",
    "plt.plot(x, y, 'o')\n",
    "plt.plot(xfit, yfit, 'r--', label='fit')                  # plot calculated and maual fits\n",
    "plt.plot(xman, yman, 'r-', label='manual')                       # dashed line is auto fit, solid is manual fit.... these should be the same!!!\n",
    "plt.legend(loc='best')\n",
    "print(*coeffs)"
   ]
  },
  {
   "cell_type": "code",
   "execution_count": 5,
   "metadata": {
    "collapsed": false
   },
   "outputs": [
    {
     "data": {
      "text/html": [
       "<div style=\"max-height:1000px;max-width:1500px;overflow:auto;\">\n",
       "<table border=\"1\" class=\"dataframe\">\n",
       "  <thead>\n",
       "    <tr style=\"text-align: right;\">\n",
       "      <th></th>\n",
       "      <th>Dose</th>\n",
       "      <th>TCP</th>\n",
       "    </tr>\n",
       "    <tr>\n",
       "      <th>Study</th>\n",
       "      <th></th>\n",
       "      <th></th>\n",
       "    </tr>\n",
       "  </thead>\n",
       "  <tbody>\n",
       "    <tr>\n",
       "      <th>Fox Chase</th>\n",
       "      <td> 9</td>\n",
       "      <td> 9</td>\n",
       "    </tr>\n",
       "    <tr>\n",
       "      <th>MD Anderson</th>\n",
       "      <td> 2</td>\n",
       "      <td> 2</td>\n",
       "    </tr>\n",
       "    <tr>\n",
       "      <th>RMH</th>\n",
       "      <td> 2</td>\n",
       "      <td> 2</td>\n",
       "    </tr>\n",
       "    <tr>\n",
       "      <th>RT01</th>\n",
       "      <td> 2</td>\n",
       "      <td> 2</td>\n",
       "    </tr>\n",
       "  </tbody>\n",
       "</table>\n",
       "</div>"
      ],
      "text/plain": [
       "             Dose  TCP\n",
       "Study                 \n",
       "Fox Chase       9    9\n",
       "MD Anderson     2    2\n",
       "RMH             2    2\n",
       "RT01            2    2"
      ]
     },
     "execution_count": 5,
     "metadata": {},
     "output_type": "execute_result"
    }
   ],
   "source": [
    "data.groupby('Study').count()"
   ]
  },
  {
   "cell_type": "code",
   "execution_count": 6,
   "metadata": {
    "collapsed": false
   },
   "outputs": [],
   "source": [
    "#for i, group in data.groupby('Study'):\n",
    "#    group.plot(x='Dose', y='TCP', title=str(i))\n",
    "\n",
    "#plt.scatter(x=data.Dose, y=data.TCP, color='blue',)\n",
    "#plt.title(\"Prostate Data - TCP\")\n",
    "#plt.xlabel(\"Dose (Gy)\")\n",
    "#plt.ylabel(\"TCP (%)\")\n",
    "#plt.xlim(0,100)\n",
    "#plt.ylim(0,1)\n",
    "#plt.grid(True)\n",
    "#plt.plot(D, TCP, color='red')"
   ]
  },
  {
   "cell_type": "code",
   "execution_count": 89,
   "metadata": {
    "collapsed": false
   },
   "outputs": [
    {
     "data": {
      "text/plain": [
       "[<matplotlib.lines.Line2D at 0xbafd230>]"
      ]
     },
     "execution_count": 89,
     "metadata": {},
     "output_type": "execute_result"
    },
    {
     "data": {
      "image/png": "[encoded data removed]",
      "text/plain": [
       "<matplotlib.figure.Figure at 0x47f1830>"
      ]
     },
     "metadata": {},
     "output_type": "display_data"
    }
   ],
   "source": [
    "fig, ax = plt.subplots(1,1);\n",
    "data.groupby('Study').plot(x='Dose', y='TCP', ax=ax, style='o')\n",
    "plt.legend([data[0] for data in data.groupby('Study')['Study']], loc='best')\n",
    "\n",
    "plt.title(\"Prostate Data - TCP\")\n",
    "plt.xlabel(\"Dose (Gy)\")\n",
    "plt.ylabel(\"TCP\")\n",
    "plt.xlim(0,100)\n",
    "plt.ylim(0,100)\n",
    "plt.grid(True)\n",
    "\n",
    "plt.plot(D, TCP, color='grey')\n",
    "#plt.plot(xfine, TCP_fit(xfine, *popt), 'r-')"
   ]
  },
  {
   "cell_type": "markdown",
   "metadata": {},
   "source": [
    "#Fit each dataset seperately\n",
    "Trying to do all at once may not be the best way to go.\n",
    "Might be better to do speperate fits for each to give a range of gamma values at a given dose.\n",
    "\n",
    "* Maybe more representative as the data for each may not be entirely linked so plotting as if they are the same dataset may not be so useful"
   ]
  },
  {
   "cell_type": "code",
   "execution_count": 109,
   "metadata": {
    "collapsed": false
   },
   "outputs": [
    {
     "data": {
      "text/html": [
       "<div style=\"max-height:1000px;max-width:1500px;overflow:auto;\">\n",
       "<table border=\"1\" class=\"dataframe\">\n",
       "  <thead>\n",
       "    <tr style=\"text-align: right;\">\n",
       "      <th></th>\n",
       "      <th>Study</th>\n",
       "      <th>Dose</th>\n",
       "      <th>TCP</th>\n",
       "    </tr>\n",
       "  </thead>\n",
       "  <tbody>\n",
       "    <tr>\n",
       "      <th>2</th>\n",
       "      <td> MD Anderson</td>\n",
       "      <td> 70</td>\n",
       "      <td> 43</td>\n",
       "    </tr>\n",
       "    <tr>\n",
       "      <th>3</th>\n",
       "      <td> MD Anderson</td>\n",
       "      <td> 78</td>\n",
       "      <td> 62</td>\n",
       "    </tr>\n",
       "    <tr>\n",
       "      <th>0</th>\n",
       "      <td>        RT01</td>\n",
       "      <td> 64</td>\n",
       "      <td> 43</td>\n",
       "    </tr>\n",
       "    <tr>\n",
       "      <th>1</th>\n",
       "      <td>        RT01</td>\n",
       "      <td> 74</td>\n",
       "      <td> 55</td>\n",
       "    </tr>\n",
       "  </tbody>\n",
       "</table>\n",
       "</div>"
      ],
      "text/plain": [
       "         Study  Dose  TCP\n",
       "2  MD Anderson    70   43\n",
       "3  MD Anderson    78   62\n",
       "0         RT01    64   43\n",
       "1         RT01    74   55"
      ]
     },
     "execution_count": 109,
     "metadata": {},
     "output_type": "execute_result"
    }
   ],
   "source": [
    "rt01 = data[data['Study'].isin(['RT01'])]\n",
    "fox = data[data['Study'].isin(['Fox Chase'])]\n",
    "rmh = data[data['Study'].isin(['RMH'])]\n",
    "mda = data[data['Study'].isin(['MD Anderson'])]\n",
    "#rt01mda = data[data['Study'].isin(['MD Anderson'] or ['RT01'])]\n",
    "#rt01mda = concat([mda,rt01])\n",
    "rt01mda = mda.append(rt01)\n",
    "rt01mda\n"
   ]
  },
  {
   "cell_type": "code",
   "execution_count": 110,
   "metadata": {
    "collapsed": false,
    "scrolled": true
   },
   "outputs": [
    {
     "data": {
      "image/png": "[encoded data removed]",
      "text/plain": [
       "<matplotlib.figure.Figure at 0x476ab50>"
      ]
     },
     "metadata": {},
     "output_type": "display_data"
    }
   ],
   "source": [
    "x1,y1,l1 = rt01['Dose'], rt01['TCP'], 'RT01'\n",
    "x2,y2,l2 = fox['Dose'], fox['TCP'], 'Fox Chase'\n",
    "x3,y3,l3 = rmh['Dose'], rmh['TCP'], 'RMH'\n",
    "x4,y4,l4 = mda['Dose'], mda['TCP'], 'MD Anderson'\n",
    "x5,y5,l5 = rt01mda['Dose'], rt01mda['TCP'], 'RT01 & MD Anderson'\n",
    "\n",
    "#plt.scatter([x1, y1], [x2, y2])\n",
    "\n",
    "fig = plt.figure()\n",
    "ax1 = fig.add_subplot(111)\n",
    "\n",
    "ax1.scatter(x1, y1, facecolors='none', edgecolors='r', label=l1)\n",
    "ax1.scatter(x2, y2, facecolors='none', edgecolors='g', label=l2)\n",
    "ax1.scatter(x3, y3, facecolors='none', edgecolors='b', label=l3)\n",
    "ax1.scatter(x4, y4, facecolors='none', edgecolors='black', label=l4)\n",
    "leg= plt.legend(loc='upper left', scatterpoints=1, shadow=True)\n",
    "leg.get_frame().set_facecolor('white')\n",
    "plt.xlim(0,100)\n",
    "plt.ylim(0,100)\n",
    "plt.grid(True)\n",
    "plt.title(\"Prostate Data - TCP\")\n",
    "plt.xlabel(\"Dose (Gy)\")\n",
    "plt.ylabel(\"'TCP'\")\n",
    "\n",
    "plt.show()"
   ]
  },
  {
   "cell_type": "markdown",
   "metadata": {},
   "source": [
    "##Define TCP fitting equation"
   ]
  },
  {
   "cell_type": "code",
   "execution_count": 90,
   "metadata": {
    "collapsed": true
   },
   "outputs": [],
   "source": [
    "def fit(D, a_fit, b_fit):                      #define TCP function to fit\n",
    "    s = N*np.exp(-a_fit*D - b_fit*d*D**2)\n",
    "    TCP = 100*np.exp(-s)\n",
    "    return TCP"
   ]
  },
  {
   "cell_type": "markdown",
   "metadata": {},
   "source": [
    "Fit each set of data using above equation"
   ]
  },
  {
   "cell_type": "code",
   "execution_count": 158,
   "metadata": {
    "collapsed": false
   },
   "outputs": [
    {
     "name": "stdout",
     "output_type": "stream",
     "text": [
      "[ 0.36037149 -0.00112435]\n"
     ]
    },
    {
     "data": {
      "image/png": "[encoded data removed]",
      "text/plain": [
       "<matplotlib.figure.Figure at 0xcdbd490>"
      ]
     },
     "metadata": {},
     "output_type": "display_data"
    }
   ],
   "source": [
    "d=2.0 # dose per fraction\n",
    "N=10**6 # inital number of tumour cells\n",
    "\n",
    "p0 = [0.4,0.001] # intial estimates of fit parameters\n",
    "\n",
    "coeffs, matcov = curve_fit(fit, x5, y5, p0)      # fit curve against x and y data sets\n",
    "\n",
    "xfit = np.linspace(0.0, 100.0, 100.0)         # give finer resultion array for plot\n",
    "yfit = fit(xfit, *coeffs)                    # calculate fitted data with fine array\n",
    "\n",
    "plt.plot(x5, y5, 'o')\n",
    "plt.plot(xfit, yfit, 'r--', label='fit')\n",
    "print(coeffs)"
   ]
  },
  {
   "cell_type": "code",
   "execution_count": 167,
   "metadata": {
    "collapsed": false
   },
   "outputs": [
    {
     "name": "stdout",
     "output_type": "stream",
     "text": [
      "[array([ 0.377686 , -0.0012435]), array([ 0.32670246, -0.00092181])]\n"
     ]
    },
    {
     "name": "stderr",
     "output_type": "stream",
     "text": [
      "C:\\Anaconda3\\lib\\site-packages\\scipy\\optimize\\minpack.py:604: OptimizeWarning: Covariance of the parameters could not be estimated\n",
      "  category=OptimizeWarning)\n"
     ]
    }
   ],
   "source": [
    "%matplotlib qt\n",
    "\n",
    "p0 = [0.05,0.001] # intial estimates of fit parameters\n",
    "\n",
    "coeffs1, matcov1 = curve_fit(fit, x1, y1, p0)      # fit curve against x and y data sets\n",
    "coeffs2, matcov2 = curve_fit(fit, x2, y2, p0)\n",
    "coeffs3, matcov3 = curve_fit(fit, x3, y3, p0)\n",
    "coeffs4, matcov4 = curve_fit(fit, x4, y4, p0)\n",
    "\n",
    "xfit = np.linspace(0.0, 100.0, 100.0)         # give finer resultion array for plot\n",
    "yfit1 = fit(xfit, *coeffs1)                    # calculate fitted data with fine array\n",
    "yfit2 = fit(xfit, *coeffs2)\n",
    "yfit3 = fit(xfit, *coeffs3)\n",
    "yfit4 = fit(xfit, *coeffs4)\n",
    "\n",
    "#plt.plot(x1, y1, 'o')\n",
    "plt.scatter(x1, y1, facecolors='none', edgecolors='r', label=l1)\n",
    "plt.scatter(x2, y2, facecolors='none', edgecolors='g', label=l2)\n",
    "plt.scatter(x3, y3, facecolors='none', edgecolors='b', label=l3)\n",
    "plt.scatter(x4, y4, facecolors='none', edgecolors='black', label=l4)\n",
    "plt.plot(xfit, yfit1, 'r--', label=l1)\n",
    "plt.plot(xfit, yfit2, 'g--', label=l2)\n",
    "plt.plot(xfit, yfit3, 'b--', label=l3)\n",
    "plt.plot(xfit, yfit4, 'y--', label=l4)\n",
    "\n",
    "leg= plt.legend(loc='best', scatterpoints=1, shadow=True)\n",
    "leg.get_frame().set_facecolor('white')\n",
    "plt.xlim(0,100)\n",
    "plt.ylim(0,100)\n",
    "plt.grid(True)\n",
    "plt.title(\"Prostate Data - TCP\")\n",
    "plt.xlabel(\"Dose (Gy)\")\n",
    "plt.ylabel(\"'TCP'\")\n",
    "\n",
    "print([coeffs1, coeffs2])"
   ]
  },
  {
   "cell_type": "markdown",
   "metadata": {},
   "source": [
    "##This needs to have bounds set on alpha and beta otherwise the fitting is incorrect\n",
    "A different equation could be tried, but this will still require doing at somepoint anyway.\n",
    "* Need to use teh full SciPy Optimise"
   ]
  },
  {
   "cell_type": "markdown",
   "metadata": {},
   "source": [
    "#Use SciPy Optimise to contrain fitting values"
   ]
  },
  {
   "cell_type": "code",
   "execution_count": 117,
   "metadata": {
    "collapsed": false
   },
   "outputs": [
    {
     "ename": "TypeError",
     "evalue": "fit() missing 1 required positional argument: 'b_fit'",
     "output_type": "error",
     "traceback": [
      "\u001b[1;31m---------------------------------------------------------------------------\u001b[0m",
      "\u001b[1;31mTypeError\u001b[0m                                 Traceback (most recent call last)",
      "\u001b[1;32m<ipython-input-117-1921e38eb005>\u001b[0m in \u001b[0;36m<module>\u001b[1;34m()\u001b[0m\n\u001b[0;32m     22\u001b[0m \u001b[0myman\u001b[0m \u001b[1;33m=\u001b[0m \u001b[0mfit\u001b[0m\u001b[1;33m(\u001b[0m\u001b[0mxman\u001b[0m\u001b[1;33m,\u001b[0m \u001b[0mp0\u001b[0m\u001b[1;33m[\u001b[0m\u001b[1;36m0\u001b[0m\u001b[1;33m]\u001b[0m\u001b[1;33m,\u001b[0m \u001b[0mp0\u001b[0m\u001b[1;33m[\u001b[0m\u001b[1;36m1\u001b[0m\u001b[1;33m]\u001b[0m\u001b[1;33m)\u001b[0m                \u001b[1;31m# basic fitting function. Doesnt work too well as cant constrain\u001b[0m\u001b[1;33m\u001b[0m\u001b[0m\n\u001b[0;32m     23\u001b[0m \u001b[1;33m\u001b[0m\u001b[0m\n\u001b[1;32m---> 24\u001b[1;33m \u001b[0mcoeffs\u001b[0m\u001b[1;33m,\u001b[0m \u001b[0mmatcov\u001b[0m \u001b[1;33m=\u001b[0m \u001b[0mleastsq\u001b[0m\u001b[1;33m(\u001b[0m\u001b[0mfit\u001b[0m\u001b[1;33m,\u001b[0m \u001b[0mx\u001b[0m\u001b[1;33m,\u001b[0m \u001b[0my\u001b[0m\u001b[1;33m,\u001b[0m \u001b[0mp0\u001b[0m\u001b[1;33m)\u001b[0m      \u001b[1;31m# fit curve against x and y data sets\u001b[0m\u001b[1;33m\u001b[0m\u001b[0m\n\u001b[0m\u001b[0;32m     25\u001b[0m \u001b[1;33m\u001b[0m\u001b[0m\n\u001b[0;32m     26\u001b[0m \u001b[0mxfit\u001b[0m \u001b[1;33m=\u001b[0m \u001b[0mnp\u001b[0m\u001b[1;33m.\u001b[0m\u001b[0mlinspace\u001b[0m\u001b[1;33m(\u001b[0m\u001b[1;36m0.0\u001b[0m\u001b[1;33m,\u001b[0m \u001b[1;36m100.0\u001b[0m\u001b[1;33m,\u001b[0m \u001b[1;36m100.0\u001b[0m\u001b[1;33m)\u001b[0m         \u001b[1;31m# give finer resultion array for plot\u001b[0m\u001b[1;33m\u001b[0m\u001b[0m\n",
      "\u001b[1;32mC:\\Anaconda3\\lib\\site-packages\\scipy\\optimize\\minpack.py\u001b[0m in \u001b[0;36mleastsq\u001b[1;34m(func, x0, args, Dfun, full_output, col_deriv, ftol, xtol, gtol, maxfev, epsfcn, factor, diag)\u001b[0m\n\u001b[0;32m    369\u001b[0m     \u001b[1;32mif\u001b[0m \u001b[1;32mnot\u001b[0m \u001b[0misinstance\u001b[0m\u001b[1;33m(\u001b[0m\u001b[0margs\u001b[0m\u001b[1;33m,\u001b[0m \u001b[0mtuple\u001b[0m\u001b[1;33m)\u001b[0m\u001b[1;33m:\u001b[0m\u001b[1;33m\u001b[0m\u001b[0m\n\u001b[0;32m    370\u001b[0m         \u001b[0margs\u001b[0m \u001b[1;33m=\u001b[0m \u001b[1;33m(\u001b[0m\u001b[0margs\u001b[0m\u001b[1;33m,\u001b[0m\u001b[1;33m)\u001b[0m\u001b[1;33m\u001b[0m\u001b[0m\n\u001b[1;32m--> 371\u001b[1;33m     \u001b[0mshape\u001b[0m\u001b[1;33m,\u001b[0m \u001b[0mdtype\u001b[0m \u001b[1;33m=\u001b[0m \u001b[0m_check_func\u001b[0m\u001b[1;33m(\u001b[0m\u001b[1;34m'leastsq'\u001b[0m\u001b[1;33m,\u001b[0m \u001b[1;34m'func'\u001b[0m\u001b[1;33m,\u001b[0m \u001b[0mfunc\u001b[0m\u001b[1;33m,\u001b[0m \u001b[0mx0\u001b[0m\u001b[1;33m,\u001b[0m \u001b[0margs\u001b[0m\u001b[1;33m,\u001b[0m \u001b[0mn\u001b[0m\u001b[1;33m)\u001b[0m\u001b[1;33m\u001b[0m\u001b[0m\n\u001b[0m\u001b[0;32m    372\u001b[0m     \u001b[0mm\u001b[0m \u001b[1;33m=\u001b[0m \u001b[0mshape\u001b[0m\u001b[1;33m[\u001b[0m\u001b[1;36m0\u001b[0m\u001b[1;33m]\u001b[0m\u001b[1;33m\u001b[0m\u001b[0m\n\u001b[0;32m    373\u001b[0m     \u001b[1;32mif\u001b[0m \u001b[0mn\u001b[0m \u001b[1;33m>\u001b[0m \u001b[0mm\u001b[0m\u001b[1;33m:\u001b[0m\u001b[1;33m\u001b[0m\u001b[0m\n",
      "\u001b[1;32mC:\\Anaconda3\\lib\\site-packages\\scipy\\optimize\\minpack.py\u001b[0m in \u001b[0;36m_check_func\u001b[1;34m(checker, argname, thefunc, x0, args, numinputs, output_shape)\u001b[0m\n\u001b[0;32m     18\u001b[0m def _check_func(checker, argname, thefunc, x0, args, numinputs,\n\u001b[0;32m     19\u001b[0m                 output_shape=None):\n\u001b[1;32m---> 20\u001b[1;33m     \u001b[0mres\u001b[0m \u001b[1;33m=\u001b[0m \u001b[0matleast_1d\u001b[0m\u001b[1;33m(\u001b[0m\u001b[0mthefunc\u001b[0m\u001b[1;33m(\u001b[0m\u001b[1;33m*\u001b[0m\u001b[1;33m(\u001b[0m\u001b[1;33m(\u001b[0m\u001b[0mx0\u001b[0m\u001b[1;33m[\u001b[0m\u001b[1;33m:\u001b[0m\u001b[0mnuminputs\u001b[0m\u001b[1;33m]\u001b[0m\u001b[1;33m,\u001b[0m\u001b[1;33m)\u001b[0m \u001b[1;33m+\u001b[0m \u001b[0margs\u001b[0m\u001b[1;33m)\u001b[0m\u001b[1;33m)\u001b[0m\u001b[1;33m)\u001b[0m\u001b[1;33m\u001b[0m\u001b[0m\n\u001b[0m\u001b[0;32m     21\u001b[0m     \u001b[1;32mif\u001b[0m \u001b[1;33m(\u001b[0m\u001b[0moutput_shape\u001b[0m \u001b[1;32mis\u001b[0m \u001b[1;32mnot\u001b[0m \u001b[1;32mNone\u001b[0m\u001b[1;33m)\u001b[0m \u001b[1;32mand\u001b[0m \u001b[1;33m(\u001b[0m\u001b[0mshape\u001b[0m\u001b[1;33m(\u001b[0m\u001b[0mres\u001b[0m\u001b[1;33m)\u001b[0m \u001b[1;33m!=\u001b[0m \u001b[0moutput_shape\u001b[0m\u001b[1;33m)\u001b[0m\u001b[1;33m:\u001b[0m\u001b[1;33m\u001b[0m\u001b[0m\n\u001b[0;32m     22\u001b[0m         \u001b[1;32mif\u001b[0m \u001b[1;33m(\u001b[0m\u001b[0moutput_shape\u001b[0m\u001b[1;33m[\u001b[0m\u001b[1;36m0\u001b[0m\u001b[1;33m]\u001b[0m \u001b[1;33m!=\u001b[0m \u001b[1;36m1\u001b[0m\u001b[1;33m)\u001b[0m\u001b[1;33m:\u001b[0m\u001b[1;33m\u001b[0m\u001b[0m\n",
      "\u001b[1;31mTypeError\u001b[0m: fit() missing 1 required positional argument: 'b_fit'"
     ]
    }
   ],
   "source": [
    "from scipy.optimize import leastsq\n",
    "\n",
    "def fit(D, a_fit, b_fit):                      #define TCP function to fit\n",
    "    s = N*np.exp(-a_fit*D - b_fit*d*D**2)\n",
    "    TCP = 100*np.exp(-s)\n",
    "    return TCP\n",
    "\n",
    "def func(params, xdata, ydata):\n",
    "    return (ydata - numpy.dot(xdata, parmas))\n",
    "\n",
    "xdata = np.transpose(np.array([[1.0]]))\n",
    "\n",
    "d=2.0 #dose per fraction\n",
    "N=10**6 #number of tumour cells\n",
    "\n",
    "x = data.Dose\n",
    "y = data.TCP\n",
    "\n",
    "p0 = [0.05,0.0001] # intial estimates of fit parameters\n",
    "\n",
    "xman = np.linspace(0.0, 100.0, 100.0)              # for plotting manually calculated function with initial values\n",
    "yman = fit(xman, p0[0], p0[1])                # basic fitting function. Doesnt work too well as cant constrain\n",
    "\n",
    "coeffs, matcov = leastsq(fit, x, y, p0)      # fit curve against x and y data sets\n",
    "\n",
    "xfit = np.linspace(0.0, 100.0, 100.0)         # give finer resultion array for plot\n",
    "yfit = fit(xfit, *coeffs)                    # calculate fitted data with fine array\n",
    "\n",
    "plt.plot(x, y, 'o')\n",
    "plt.plot(xfit, yfit, 'r--', label='fit')                  # plot calculated and maual fits\n",
    "plt.plot(xman, yman, 'r-', label='manual')                       # dashed line is auto fit, solid is manual fit.... these should be the same!!!\n",
    "plt.legend(loc='best')\n",
    "print(*coeffs)"
   ]
  },
  {
   "cell_type": "code",
   "execution_count": 100,
   "metadata": {
    "collapsed": false
   },
   "outputs": [
    {
     "name": "stdout",
     "output_type": "stream",
     "text": [
      " linear fit  [  0.87871287 -15.09158416]\n",
      "TCP fit [ 0.37290051 -0.00122283]\n"
     ]
    },
    {
     "data": {
      "image/png": "[encoded data removed]",
      "text/plain": [
       "<matplotlib.figure.Figure at 0x493f550>"
      ]
     },
     "metadata": {},
     "output_type": "display_data"
    },
    {
     "name": "stdout",
     "output_type": "stream",
     "text": [
      "[64 74 70 78 64 74 69 71 76 70 72 76 70 73 76]\n",
      "[43 55 43 62 59 71 68 74 69 19 31 84  8 23 11]\n"
     ]
    }
   ],
   "source": [
    "   # data provided\n",
    "    \n",
    "\n",
    "x = np.array(data.Dose)\n",
    "y = np.array(data.TCP)\n",
    "    \n",
    "#x=np.array([1.0,2.5,3.5,4.0,1.1,1.8,2.2,3.7])\n",
    "#   y=np.array([6.008,15.722,27.130,33.772,5.257,9.549,11.098,28.828])\n",
    "   # here, create lambda functions for Line, Quadratic fit\n",
    "   # tpl is a tuple that contains the parameters of the fit\n",
    "#   funcLine=lambda tpl,x : tpl[0]*x+tpl[1]\n",
    "    \n",
    "def funcLine(tpl,x):\n",
    "    return tpl[0]*x+tpl[1]\n",
    "   funcQuad=lambda tpl,x : tpl[0]*x**2+tpl[1]*x+tpl[2]\n",
    "\n",
    "#tpl0 = a_fit    \n",
    "#tpl1 = b_fit   \n",
    "\n",
    "def funcTCP(tpl, D):                      #define TCP function to fit\n",
    "    s = N*np.exp(-tpl[0]*D - tpl[1]*d*D**2)\n",
    "    TCP = 100*np.exp(-s)\n",
    "    return TCP\n",
    "\n",
    "\n",
    "# func is going to be a placeholder for funcLine,funcQuad or whatever \n",
    "# function we would like to fit\n",
    "func=funcLine\n",
    "# ErrorFunc is the diference between the func and the y \"experimental\" data\n",
    "ErrorFunc=lambda tpl,x,y: func(tpl,x)-y\n",
    "#tplInitial contains the \"first guess\" of the parameters \n",
    "tplInitial1=(1.0,2.0)\n",
    "# leastsq finds the set of parameters in the tuple tpl that minimizes\n",
    "# ErrorFunc=yfit-yExperimental\n",
    "tplFinal1,success=leastsq(ErrorFunc,tplInitial1[:],args=(x,y))\n",
    "print (\" linear fit \", tplFinal1)\n",
    "xx1=np.linspace(x.min(),x.max(),50)\n",
    "yy1=func(tplFinal1,xx1)\n",
    "#------------------------------------------------\n",
    "# now the TCP fit\n",
    "#-------------------------------------------------\n",
    "func=funcTCP\n",
    "tplInitial2=(0.05,0.001)\n",
    "\n",
    "tplFinal2,success=leastsq(ErrorFunc,tplInitial2[:],args=(x,y))\n",
    "print (\"TCP fit\" ,tplFinal2)\n",
    "xx2=xx1\n",
    "xx2=np.linspace(0.0, 100.0, 100.0)\n",
    "\n",
    "yy2=func(tplFinal2,xx2)\n",
    "\n",
    "#xfit = np.linspace(0.0, 100.0, 100.0)         # give finer resultion array for plot\n",
    "#yfit = fit(xfit, *coeffs)                    # calculate fitted data with fine array\n",
    "\n",
    "#plt.plot(x, y, 'o')\n",
    "#plt.plot(xfit, yfit, 'r--', label='fit')                  # plot calculated and maual fits\n",
    "\n",
    "plt.plot(xx1,yy1,'r-', label='linear')\n",
    "plt.plot(x,y, 'bo', label = 'data')\n",
    "plt.plot(xx2,yy2,'g-', label = 'TCP Fit')\n",
    "plt.title(\"Prostate Data - TCP\")\n",
    "plt.xlabel(\"Dose (Gy)\")\n",
    "plt.ylabel(\"TCP\")\n",
    "plt.xlim(0,100)\n",
    "plt.ylim(0,100)\n",
    "plt.grid(True)\n",
    "plt.legend()\n",
    "plt.show()\n",
    "print(np.array(data.Dose))\n",
    "print(np.array(data.TCP))"
   ]
  },
  {
   "cell_type": "code",
   "execution_count": 99,
   "metadata": {
    "collapsed": false
   },
   "outputs": [
    {
     "name": "stdout",
     "output_type": "stream",
     "text": [
      "[64 74 70 78 64 74 69 71 76 70 72 76 70 73 76]\n",
      "[43 55 43 62 59 71 68 74 69 19 31 84  8 23 11]\n",
      "x0 = 1.0\n",
      "y0 = 1.0\n",
      "c = 1.0\n",
      "k = 1.0\n",
      "\n"
     ]
    },
    {
     "data": {
      "image/png": "[encoded data removed]",
      "text/plain": [
       "<matplotlib.figure.Figure at 0x8141eb0>"
      ]
     },
     "metadata": {},
     "output_type": "display_data"
    }
   ],
   "source": [
    "import numpy as np\n",
    "import matplotlib.pyplot as plt\n",
    "import scipy.optimize\n",
    "\n",
    "def sigmoid(p,x):\n",
    "    x0,y0,c,k=p\n",
    "    y = c / (1 - np.exp(+k*(x-x0))) + y0\n",
    "    return y\n",
    "\n",
    "def funcTCP(tpl, D):                      #define TCP function to fit\n",
    "    s = N*np.exp(-tpl[0]*D - tpl[1]*d*D**2)\n",
    "    TCP = 100*np.exp(-s)\n",
    "    return TCP\n",
    "\n",
    "def residuals(p,x,y):\n",
    "    return y - sigmoid(p,x)\n",
    "\n",
    "def resize(arr,lower=0.0,upper=1.0):\n",
    "    arr=arr.copy()\n",
    "    if lower>upper: lower,upper=upper,lower\n",
    "    arr -= arr.min()\n",
    "    arr *= (upper-lower)/arr.max()\n",
    "    arr += lower\n",
    "    return arr\n",
    "\n",
    "# raw data\n",
    "#x = np.array([821,576,473,377,326],dtype='float')\n",
    "#y = np.array([255,235,208,166,157],dtype='float')\n",
    "x = np.array(data.Dose)\n",
    "y = np.array(data.TCP)\n",
    "\n",
    "#x=resize(-x,lower=0.3)\n",
    "#y=resize(y,lower=0.3)\n",
    "print(x)\n",
    "print(y)\n",
    "p_guess=(1,1,1.0,1.0)\n",
    "p, cov, infodict, mesg, ier = scipy.optimize.leastsq(\n",
    "    residuals,p_guess,args=(x,y),full_output=1)  \n",
    "\n",
    "x0,y0,c,k=p\n",
    "print('''\\\n",
    "x0 = {x0}\n",
    "y0 = {y0}\n",
    "c = {c}\n",
    "k = {k}\n",
    "'''.format(x0=x0,y0=y0,c=c,k=k))\n",
    "\n",
    "xp = np.linspace(0.0, 100.0, 100.0)\n",
    "pxp=sigmoid(p,xp)\n",
    "\n",
    "# Plot the results\n",
    "plt.plot(x, y, '.', xp, pxp, '-')\n",
    "plt.xlabel('x')\n",
    "plt.ylabel('y',rotation='horizontal') \n",
    "plt.grid(True)\n",
    "plt.title(\"Prostate Data - TCP\")\n",
    "plt.xlabel(\"Dose (Gy)\")\n",
    "plt.ylabel(\"TCP\")\n",
    "plt.xlim(0,100)\n",
    "plt.ylim(0,100)\n",
    "plt.show()"
   ]
  },
  {
   "cell_type": "code",
   "execution_count": null,
   "metadata": {
    "collapsed": true
   },
   "outputs": [],
   "source": []
  }
 ],
 "metadata": {
  "kernelspec": {
   "display_name": "Python 3",
   "language": "python",
   "name": "python3"
  },
  "language_info": {
   "codemirror_mode": {
    "name": "ipython",
    "version": 3
   },
   "file_extension": ".py",
   "mimetype": "text/x-python",
   "name": "python",
   "nbconvert_exporter": "python",
   "pygments_lexer": "ipython3",
   "version": "3.4.3"
  }
 },
 "nbformat": 4,
 "nbformat_minor": 0
}
