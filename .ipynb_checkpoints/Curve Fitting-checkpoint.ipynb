{
 "cells": [
  {
   "cell_type": "markdown",
   "metadata": {},
   "source": [
    "#Import Relevent Python Libraries etc"
   ]
  },
  {
   "cell_type": "code",
   "execution_count": 19,
   "metadata": {
    "collapsed": true
   },
   "outputs": [],
   "source": [
    "import numpy as np\n",
    "import pandas as pd\n",
    "import matplotlib.pyplot as plt\n",
    "%matplotlib inline\n",
    "import scipy.optimize\n",
    "from scipy.optimize import curve_fit\n",
    "from scipy.optimize import leastsq\n"
   ]
  },
  {
   "cell_type": "markdown",
   "metadata": {},
   "source": [
    "##Create Data to Plot"
   ]
  },
  {
   "cell_type": "code",
   "execution_count": 20,
   "metadata": {
    "collapsed": false,
    "scrolled": false
   },
   "outputs": [
    {
     "data": {
      "text/plain": [
       "<matplotlib.collections.PathCollection at 0x6bcb330>"
      ]
     },
     "execution_count": 20,
     "metadata": {},
     "output_type": "execute_result"
    },
    {
     "data": {
      "image/png": "[encoded data removed]",
      "text/plain": [
       "<matplotlib.figure.Figure at 0x6909050>"
      ]
     },
     "metadata": {},
     "output_type": "display_data"
    }
   ],
   "source": [
    "x = np.linspace(1,10,10)\n",
    "y_exact = 3*x**2+10\n",
    "y = [2,30,25,60,60,95,180,170,220,320]\n",
    "\n",
    "plt.scatter(x,y_exact,color='blue')\n",
    "plt.scatter(x,y,color='red')"
   ]
  },
  {
   "cell_type": "markdown",
   "metadata": {},
   "source": [
    "##curve_fit"
   ]
  },
  {
   "cell_type": "code",
   "execution_count": 21,
   "metadata": {
    "collapsed": false
   },
   "outputs": [
    {
     "name": "stdout",
     "output_type": "stream",
     "text": [
      "[ 2.95038295  2.61025641]\n",
      "[ 32.19393939 -60.86666667]\n"
     ]
    },
    {
     "data": {
      "image/png": "[encoded data removed]",
      "text/plain": [
       "<matplotlib.figure.Figure at 0x68ea8d0>"
      ]
     },
     "metadata": {},
     "output_type": "display_data"
    }
   ],
   "source": [
    "from scipy.optimize import curve_fit\n",
    "\n",
    "def fit1(x, a, b):\n",
    "    y1 = a*(x**2)+b\n",
    "    return y1\n",
    "\n",
    "def fit2(x, m, c):\n",
    "    y2 = m*x + c\n",
    "    return y2\n",
    "\n",
    "p0 = [1,1] # intial estimates of fit parameters\n",
    "\n",
    "coeffs1, matcov1 = curve_fit(fit1, x, y, p0)      # fit curve against x and y data sets\n",
    "coeffs2, matcov2 = curve_fit(fit2, x, y, p0)\n",
    "\n",
    "xfit1 = np.linspace(0.0, 10.0, 10.0)         # give finer resultion array for plot\n",
    "yfit1 = fit1(xfit1, *coeffs1)\n",
    "\n",
    "xfit2 = np.linspace(0.0, 10.0, 10.0)         # give finer resultion array for plot\n",
    "yfit2 = fit2(xfit2, *coeffs2)  \n",
    "\n",
    "plt.scatter(x, y, color='red',)\n",
    "plt.plot(xfit1,yfit1,color='green')\n",
    "plt.plot(xfit2,yfit2,color='orange')\n",
    "print(coeffs1)\n",
    "print(coeffs2)\n"
   ]
  },
  {
   "cell_type": "markdown",
   "metadata": {
    "collapsed": false
   },
   "source": [
    "##try lmfit??\n",
    "Is a seperate python module which has many built in fitting functions including logistic etc and looks simple to apply bounds to parameters"
   ]
  },
  {
   "cell_type": "markdown",
   "metadata": {
    "collapsed": false
   },
   "source": [
    "##least squares fit with no bounds = working"
   ]
  },
  {
   "cell_type": "code",
   "execution_count": 22,
   "metadata": {
    "collapsed": false
   },
   "outputs": [
    {
     "name": "stdout",
     "output_type": "stream",
     "text": [
      "Estimates from leastsq \n",
      " [  4.4552453   -5.25373922  20.8903552 ] 1\n",
      "number of function calls = 9\n"
     ]
    },
    {
     "data": {
      "text/plain": [
       "[<matplotlib.lines.Line2D at 0x6c165f0>]"
      ]
     },
     "execution_count": 22,
     "metadata": {},
     "output_type": "execute_result"
    },
    {
     "data": {
      "image/png": "[encoded data removed]",
      "text/plain": [
       "<matplotlib.figure.Figure at 0x6bf7a90>"
      ]
     },
     "metadata": {},
     "output_type": "display_data"
    }
   ],
   "source": [
    "import numpy\n",
    "from scipy import optimize\n",
    "\n",
    "x = np.linspace(1.0,10,10)\n",
    "y_exact = 3*x**2 + 4*x +5\n",
    "#y_data = np.array([2.0,30,25,60,60,95,180,170,220,320])\n",
    "y_data = y_exact + 30*np.random.randn(len(x)) \n",
    "\n",
    "def fitfunc(p, x):\n",
    "    ## The Equation to fit##\n",
    "    func = p[0]*(x**2) + p[1]*x + p[2]\n",
    "    return func\n",
    "\n",
    "def errfunc(p, x, y):\n",
    "    return fitfunc(p,x) -y\n",
    "\n",
    "guess = np.array([1.0,1.0,1.0])\n",
    "params, C, info, msg, success = optimize.leastsq(errfunc, guess, args=(x, y_data), full_output=1)\n",
    "print('Estimates from leastsq \\n', params,success)\n",
    "print('number of function calls =', info['nfev'])\n",
    "\n",
    "xfit1 = np.linspace(0.0, 10.0, 100.0)         # to calc fitted plot\n",
    "yfit1 = params[0]*(xfit1**2) + params[1]*xfit1 + params[2]\n",
    "\n",
    "plt.scatter(x, y_data, color='red',)\n",
    "plt.plot(xfit1,yfit1,color='green')"
   ]
  },
  {
   "cell_type": "markdown",
   "metadata": {},
   "source": [
    "##Try and add bounds to parameters - IT WORKS!\n",
    "### Use fmin_slsqp ? or .minize(method=SLSQP) etc"
   ]
  },
  {
   "cell_type": "code",
   "execution_count": 52,
   "metadata": {
    "collapsed": false
   },
   "outputs": [
    {
     "name": "stdout",
     "output_type": "stream",
     "text": [
      "[ 2.9999997   4.00000328  4.99999354]\n",
      "[ 2.49999999  3.00000004  5.00000006]\n"
     ]
    },
    {
     "data": {
      "text/plain": [
       "[<matplotlib.lines.Line2D at 0x746e2f0>]"
      ]
     },
     "execution_count": 52,
     "metadata": {},
     "output_type": "execute_result"
    },
    {
     "data": {
      "image/png": "[encoded data removed]",
      "text/plain": [
       "<matplotlib.figure.Figure at 0x709cd50>"
      ]
     },
     "metadata": {},
     "output_type": "display_data"
    }
   ],
   "source": [
    "## Simple minimise example\n",
    "# so far havent made it work with any other function...\n",
    "\n",
    "x = np.linspace(1.0,10,10)\n",
    "y_exact = 3*x**2 + 4*x +5\n",
    "#y_data = np.array([2.0,30,25,60,60,95,180,170,220,320])\n",
    "y_data = y_exact + 30*np.random.randn(len(x))\n",
    "\n",
    "def fitfunc(p, x):\n",
    "    ## The Equation to fit##\n",
    "    func = p[0]*(x**2) + p[1]*x + p[2]\n",
    "    return func\n",
    "\n",
    "def errfunc(p, x, y):\n",
    "    return fitfunc(p,x) -y\n",
    "\n",
    "guess = np.array([1.0,1.0,1.0])\n",
    "\n",
    "#fun = lambda p: (p[0] - 1)**2 + (p[1] - 2.5)**2\n",
    "fun = lambda p: sum((y_exact-(p[0]*(x**2) + p[1]*x+p[2]))**2)\n",
    "res1 = optimize.minimize(fun, guess, method='SLSQP', tol=1e-10)\n",
    "print(res1.x)\n",
    "#print(res1.x[1])\n",
    "\n",
    "yfit1 = res1.x[0]*x**2 + res1.x[1]*x + res1.x[2]\n",
    "\n",
    "bnds = ((-1, 2.5), (0, 3.0), (0,5))\n",
    "res2 = optimize.minimize(fun, guess, method='SLSQP', tol=1e-10, bounds=bnds)\n",
    "print(res2.x)\n",
    "\n",
    "yfit2 = res2.x[0]*x**2 + res2.x[1]*x + res2.x[2]\n",
    "\n",
    "plt.scatter(x,y_data)\n",
    "plt.plot(x,yfit1)\n",
    "plt.plot(x,yfit2)"
   ]
  },
  {
   "cell_type": "markdown",
   "metadata": {},
   "source": [
    "##lmfit - Try not to use if possible and stick to native SciPy functionality"
   ]
  },
  {
   "cell_type": "code",
   "execution_count": 14,
   "metadata": {
    "collapsed": false
   },
   "outputs": [
    {
     "name": "stdout",
     "output_type": "stream",
     "text": [
      "[[Model]]\n",
      "    Model(quad)\n",
      "[[Fit Statistics]]\n",
      "    # function evals   = 8\n",
      "    # data points      = 10\n",
      "    # variables        = 3\n",
      "    chi-square         = 3226.974\n",
      "    reduced chi-square = 460.996\n",
      "[[Variables]]\n",
      "    a:   3.39772727 +/- 0.934397 (27.50%) (init= 1)\n",
      "    b:  -5.18106060 +/- 10.54669 (203.56%) (init= 2)\n",
      "    c:   13.8833335 +/- 25.25295 (181.89%) (init= 60)\n",
      "[[Correlations]] (unreported correlations are <  0.100)\n",
      "    C(a, b)                      = -0.975 \n",
      "    C(b, c)                      = -0.909 \n",
      "    C(a, c)                      =  0.814 \n"
     ]
    },
    {
     "data": {
      "text/plain": [
       "[<matplotlib.lines.Line2D at 0x84cfbd0>]"
      ]
     },
     "execution_count": 14,
     "metadata": {},
     "output_type": "execute_result"
    },
    {
     "data": {
      "image/png": "[encoded data removed]",
      "text/plain": [
       "<matplotlib.figure.Figure at 0x83e0b70>"
      ]
     },
     "metadata": {},
     "output_type": "display_data"
    }
   ],
   "source": [
    "from lmfit import minimize, Parameters, Model\n",
    "from numpy import sqrt, pi, exp, linspace\n",
    "\n",
    "#def gaussian(x, amp, cen, wid):\n",
    "#    \"Example gaussian function\"\n",
    "#    return amp* exp(-(x-cen)**2/wid)\n",
    "\n",
    "def quad(x, a, b, c):\n",
    "    \"Example quadratic function\"\n",
    "    return a*(x**2) + b*x + c\n",
    "\n",
    "#gmod = Model(gaussian)  # automatically expract variables which can be named below.\n",
    "qmod = Model(quad)\n",
    "\n",
    "params = Parameters()\n",
    "params.add('a', value = 2, vary=False)\n",
    "params.add('b', value = 2)\n",
    "params.add('c', value = 2)\n",
    "\n",
    "#result = gmod.fit(y, x=x, amp=5, cen=5, wid=1)\n",
    "#print(result.fit_report())\n",
    "\n",
    "result1 = qmod.fit(y, x=x, a=1, b=2, c=60)\n",
    "#result1 = qmod.fit(y, x=x, params)\n",
    "print(result1.fit_report())\n",
    "\n",
    "plt.scatter(x, y)\n",
    "plt.plot(x, result1.init_fit, 'k--')\n",
    "plt.plot(x, result1.best_fit, 'r-')\n"
   ]
  },
  {
   "cell_type": "code",
   "execution_count": 14,
   "metadata": {
    "collapsed": false
   },
   "outputs": [],
   "source": [
    "\n",
    "    "
   ]
  },
  {
   "cell_type": "code",
   "execution_count": null,
   "metadata": {
    "collapsed": true
   },
   "outputs": [],
   "source": []
  },
  {
   "cell_type": "code",
   "execution_count": null,
   "metadata": {
    "collapsed": true
   },
   "outputs": [],
   "source": []
  }
 ],
 "metadata": {
  "kernelspec": {
   "display_name": "Python 3",
   "language": "python",
   "name": "python3"
  },
  "language_info": {
   "codemirror_mode": {
    "name": "ipython",
    "version": 3
   },
   "file_extension": ".py",
   "mimetype": "text/x-python",
   "name": "python",
   "nbconvert_exporter": "python",
   "pygments_lexer": "ipython3",
   "version": "3.4.3"
  }
 },
 "nbformat": 4,
 "nbformat_minor": 0
}
