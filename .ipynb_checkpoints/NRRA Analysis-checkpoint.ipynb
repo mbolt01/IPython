{
 "cells": [
  {
   "cell_type": "code",
   "execution_count": 2,
   "metadata": {
    "collapsed": true
   },
   "outputs": [],
   "source": [
    "import numpy as np\n",
    "import pandas as pd\n",
    "pd.set_option(\"display.date_dayfirst\", True)\n",
    "pd.set_option(\"display.date_yearfirst\", False)\n",
    "#pd.describe_option('display.date_yearfirst')\n",
    "import matplotlib.pyplot as plt\n",
    "%matplotlib inline\n",
    "import matplotlib.mlab as mlab\n",
    "import matplotlib.pylab as pylab\n",
    "\n",
    "import os\n",
    "cwd = os.getcwd()"
   ]
  },
  {
   "cell_type": "markdown",
   "metadata": {},
   "source": [
    "## Import (Summarised) Data\n",
    "Data for NRRA has been grouped together into a single tab in an excel file\n",
    "Not all data is included.\n",
    "-If limited data exisited that row was removed.\n",
    "-PTV2 (Main PTV) and Coronal slice included"
   ]
  },
  {
   "cell_type": "code",
   "execution_count": 7,
   "metadata": {
    "collapsed": false
   },
   "outputs": [
    {
     "data": {
      "text/html": [
       "<div style=\"max-height:1000px;max-width:1500px;overflow:auto;\">\n",
       "<table border=\"1\" class=\"dataframe\">\n",
       "  <thead>\n",
       "    <tr style=\"text-align: right;\">\n",
       "      <th></th>\n",
       "      <th>ID Code</th>\n",
       "      <th>Average OP</th>\n",
       "      <th>5cm deep Avg</th>\n",
       "      <th>IC in Octavius Avg</th>\n",
       "      <th>Alanine (%)</th>\n",
       "      <th>Diff IC - Alanine(%)</th>\n",
       "      <th>Alanine SD %</th>\n",
       "      <th>Diff (Oct - 5 deep)</th>\n",
       "      <th>2D Array Coronal Diff (%)</th>\n",
       "      <th>IC measured (corrected) cGy</th>\n",
       "      <th>...</th>\n",
       "      <th>Global 4%/4mm</th>\n",
       "      <th>Global 4%/3mm</th>\n",
       "      <th>Global 4%/2mm</th>\n",
       "      <th>Global 4%/1mm</th>\n",
       "      <th>Global 3%/3mm</th>\n",
       "      <th>Global 3%/2mm</th>\n",
       "      <th>Global 3%/1mm</th>\n",
       "      <th>Global 2%/2mm</th>\n",
       "      <th>Global 2%/1mm</th>\n",
       "      <th>Global 1%/1mm</th>\n",
       "    </tr>\n",
       "  </thead>\n",
       "  <tbody>\n",
       "    <tr>\n",
       "      <th>0</th>\n",
       "      <td> 1</td>\n",
       "      <td> 1.0060</td>\n",
       "      <td> 0.006</td>\n",
       "      <td> 0.0000</td>\n",
       "      <td> 0.005741</td>\n",
       "      <td>-0.005741</td>\n",
       "      <td> 0.205078</td>\n",
       "      <td>-0.0060</td>\n",
       "      <td> 1.063264</td>\n",
       "      <td> 191.459623</td>\n",
       "      <td>...</td>\n",
       "      <td> 100</td>\n",
       "      <td> 100</td>\n",
       "      <td> 100</td>\n",
       "      <td>  98.3</td>\n",
       "      <td> 100</td>\n",
       "      <td> 100</td>\n",
       "      <td>  94.2</td>\n",
       "      <td> 100</td>\n",
       "      <td>  83.1</td>\n",
       "      <td> 66.3</td>\n",
       "    </tr>\n",
       "    <tr>\n",
       "      <th>1</th>\n",
       "      <td> 2</td>\n",
       "      <td> 0.9985</td>\n",
       "      <td>-0.005</td>\n",
       "      <td> 0.0025</td>\n",
       "      <td> 0.008753</td>\n",
       "      <td>-0.006253</td>\n",
       "      <td> 0.449162</td>\n",
       "      <td> 0.0075</td>\n",
       "      <td> 0.652073</td>\n",
       "      <td> 223.606238</td>\n",
       "      <td>...</td>\n",
       "      <td> 100</td>\n",
       "      <td> 100</td>\n",
       "      <td> 100</td>\n",
       "      <td> 100.0</td>\n",
       "      <td> 100</td>\n",
       "      <td> 100</td>\n",
       "      <td> 100.0</td>\n",
       "      <td> 100</td>\n",
       "      <td> 100.0</td>\n",
       "      <td> 91.9</td>\n",
       "    </tr>\n",
       "  </tbody>\n",
       "</table>\n",
       "<p>2 rows × 25 columns</p>\n",
       "</div>"
      ],
      "text/plain": [
       "   ID Code  Average OP  5cm deep Avg  IC in Octavius Avg  Alanine (%)  \\\n",
       "0        1      1.0060         0.006              0.0000     0.005741   \n",
       "1        2      0.9985        -0.005              0.0025     0.008753   \n",
       "\n",
       "   Diff IC - Alanine(%)  Alanine SD %  Diff (Oct - 5 deep)  \\\n",
       "0             -0.005741      0.205078              -0.0060   \n",
       "1             -0.006253      0.449162               0.0075   \n",
       "\n",
       "   2D Array Coronal Diff (%)  IC measured (corrected) cGy      ...        \\\n",
       "0                   1.063264                   191.459623      ...         \n",
       "1                   0.652073                   223.606238      ...         \n",
       "\n",
       "   Global 4%/4mm  Global 4%/3mm  Global 4%/2mm  Global 4%/1mm  Global 3%/3mm  \\\n",
       "0            100            100            100           98.3            100   \n",
       "1            100            100            100          100.0            100   \n",
       "\n",
       "   Global 3%/2mm  Global 3%/1mm  Global 2%/2mm  Global 2%/1mm  Global 1%/1mm  \n",
       "0            100           94.2            100           83.1           66.3  \n",
       "1            100          100.0            100          100.0           91.9  \n",
       "\n",
       "[2 rows x 25 columns]"
      ]
     },
     "execution_count": 7,
     "metadata": {},
     "output_type": "execute_result"
    }
   ],
   "source": [
    "filepath = 'Data to Import/NRRAsummary-Anon.xlsx'\n",
    "\n",
    "#fullpath=cwd+'/'+filepath # use if need to specify full path for some reason.\n",
    "#print(fullpath) #note forward and backward slashes in output\n",
    "\n",
    "all_data = pd.read_excel(filepath)\n",
    "d=all_data\n",
    "d.head(2)"
   ]
  },
  {
   "cell_type": "markdown",
   "metadata": {},
   "source": [
    "##Brief Stats\n",
    "First 12 measurements contained Alanine and IC measurements"
   ]
  },
  {
   "cell_type": "code",
   "execution_count": 12,
   "metadata": {
    "collapsed": false
   },
   "outputs": [
    {
     "data": {
      "text/html": [
       "<div style=\"max-height:1000px;max-width:1500px;overflow:auto;\">\n",
       "<table border=\"1\" class=\"dataframe\">\n",
       "  <thead>\n",
       "    <tr style=\"text-align: right;\">\n",
       "      <th></th>\n",
       "      <th>ID Code</th>\n",
       "      <th>Average OP</th>\n",
       "      <th>5cm deep Avg</th>\n",
       "      <th>IC in Octavius Avg</th>\n",
       "      <th>Alanine (%)</th>\n",
       "      <th>Diff IC - Alanine(%)</th>\n",
       "      <th>Alanine SD %</th>\n",
       "      <th>Diff (Oct - 5 deep)</th>\n",
       "      <th>2D Array Coronal Diff (%)</th>\n",
       "      <th>IC measured (corrected) cGy</th>\n",
       "      <th>...</th>\n",
       "      <th>Global 4%/4mm</th>\n",
       "      <th>Global 4%/3mm</th>\n",
       "      <th>Global 4%/2mm</th>\n",
       "      <th>Global 4%/1mm</th>\n",
       "      <th>Global 3%/3mm</th>\n",
       "      <th>Global 3%/2mm</th>\n",
       "      <th>Global 3%/1mm</th>\n",
       "      <th>Global 2%/2mm</th>\n",
       "      <th>Global 2%/1mm</th>\n",
       "      <th>Global 1%/1mm</th>\n",
       "    </tr>\n",
       "  </thead>\n",
       "  <tbody>\n",
       "    <tr>\n",
       "      <th>count</th>\n",
       "      <td> 35.000000</td>\n",
       "      <td> 35.000000</td>\n",
       "      <td> 31.000000</td>\n",
       "      <td> 35.000000</td>\n",
       "      <td> 34.000000</td>\n",
       "      <td> 35.000000</td>\n",
       "      <td> 34.000000</td>\n",
       "      <td> 31.000000</td>\n",
       "      <td> 34.000000</td>\n",
       "      <td>  12.000000</td>\n",
       "      <td>...</td>\n",
       "      <td>  34.000000</td>\n",
       "      <td>  34.000000</td>\n",
       "      <td>  34.000000</td>\n",
       "      <td>  34.000000</td>\n",
       "      <td>  34.000000</td>\n",
       "      <td>  34.000000</td>\n",
       "      <td>  34.000000</td>\n",
       "      <td>  34.000000</td>\n",
       "      <td>  34.000000</td>\n",
       "      <td> 34.000000</td>\n",
       "    </tr>\n",
       "    <tr>\n",
       "      <th>mean</th>\n",
       "      <td> 21.285714</td>\n",
       "      <td>  1.002942</td>\n",
       "      <td>  0.004454</td>\n",
       "      <td> -0.000099</td>\n",
       "      <td> -0.002874</td>\n",
       "      <td>  0.002003</td>\n",
       "      <td>  0.514010</td>\n",
       "      <td> -0.002966</td>\n",
       "      <td> -0.073925</td>\n",
       "      <td> 191.972928</td>\n",
       "      <td>...</td>\n",
       "      <td>  97.050000</td>\n",
       "      <td>  96.279412</td>\n",
       "      <td>  94.982353</td>\n",
       "      <td>  92.197059</td>\n",
       "      <td>  94.682353</td>\n",
       "      <td>  92.355882</td>\n",
       "      <td>  87.485294</td>\n",
       "      <td>  87.814706</td>\n",
       "      <td>  77.838235</td>\n",
       "      <td> 59.600000</td>\n",
       "    </tr>\n",
       "    <tr>\n",
       "      <th>std</th>\n",
       "      <td> 13.021637</td>\n",
       "      <td>  0.008587</td>\n",
       "      <td>  0.007104</td>\n",
       "      <td>  0.010207</td>\n",
       "      <td>  0.010246</td>\n",
       "      <td>  0.005899</td>\n",
       "      <td>  0.651596</td>\n",
       "      <td>  0.007192</td>\n",
       "      <td>  1.653565</td>\n",
       "      <td>  12.495285</td>\n",
       "      <td>...</td>\n",
       "      <td>  10.891232</td>\n",
       "      <td>  13.243541</td>\n",
       "      <td>  15.401898</td>\n",
       "      <td>  17.234259</td>\n",
       "      <td>  15.582400</td>\n",
       "      <td>  17.768037</td>\n",
       "      <td>  19.855922</td>\n",
       "      <td>  20.331020</td>\n",
       "      <td>  23.492875</td>\n",
       "      <td> 23.102827</td>\n",
       "    </tr>\n",
       "    <tr>\n",
       "      <th>min</th>\n",
       "      <td>  1.000000</td>\n",
       "      <td>  0.981602</td>\n",
       "      <td> -0.010000</td>\n",
       "      <td> -0.018398</td>\n",
       "      <td> -0.019800</td>\n",
       "      <td> -0.018517</td>\n",
       "      <td>  0.205078</td>\n",
       "      <td> -0.014000</td>\n",
       "      <td> -4.900000</td>\n",
       "      <td> 175.225073</td>\n",
       "      <td>...</td>\n",
       "      <td>  38.600000</td>\n",
       "      <td>  26.100000</td>\n",
       "      <td>  16.500000</td>\n",
       "      <td>  10.200000</td>\n",
       "      <td>  15.800000</td>\n",
       "      <td>   8.900000</td>\n",
       "      <td>   3.000000</td>\n",
       "      <td>   6.300000</td>\n",
       "      <td>   1.000000</td>\n",
       "      <td>  0.300000</td>\n",
       "    </tr>\n",
       "    <tr>\n",
       "      <th>25%</th>\n",
       "      <td>  9.500000</td>\n",
       "      <td>  0.998450</td>\n",
       "      <td>  0.000250</td>\n",
       "      <td> -0.007500</td>\n",
       "      <td> -0.011886</td>\n",
       "      <td> -0.000957</td>\n",
       "      <td>  0.324553</td>\n",
       "      <td> -0.007063</td>\n",
       "      <td> -0.975432</td>\n",
       "      <td> 185.594444</td>\n",
       "      <td>...</td>\n",
       "      <td>  99.475000</td>\n",
       "      <td>  99.350000</td>\n",
       "      <td>  97.750000</td>\n",
       "      <td>  93.325000</td>\n",
       "      <td>  97.425000</td>\n",
       "      <td>  93.075000</td>\n",
       "      <td>  82.575000</td>\n",
       "      <td>  83.900000</td>\n",
       "      <td>  69.000000</td>\n",
       "      <td> 43.500000</td>\n",
       "    </tr>\n",
       "    <tr>\n",
       "      <th>50%</th>\n",
       "      <td> 22.000000</td>\n",
       "      <td>  1.003500</td>\n",
       "      <td>  0.004500</td>\n",
       "      <td>  0.000000</td>\n",
       "      <td> -0.001730</td>\n",
       "      <td>  0.002348</td>\n",
       "      <td>  0.385831</td>\n",
       "      <td> -0.003000</td>\n",
       "      <td>  0.313488</td>\n",
       "      <td> 187.582301</td>\n",
       "      <td>...</td>\n",
       "      <td> 100.000000</td>\n",
       "      <td> 100.000000</td>\n",
       "      <td> 100.000000</td>\n",
       "      <td>  98.050000</td>\n",
       "      <td> 100.000000</td>\n",
       "      <td>  99.200000</td>\n",
       "      <td>  95.600000</td>\n",
       "      <td>  97.000000</td>\n",
       "      <td>  87.100000</td>\n",
       "      <td> 64.800000</td>\n",
       "    </tr>\n",
       "    <tr>\n",
       "      <th>75%</th>\n",
       "      <td> 32.500000</td>\n",
       "      <td>  1.008250</td>\n",
       "      <td>  0.008250</td>\n",
       "      <td>  0.006500</td>\n",
       "      <td>  0.005839</td>\n",
       "      <td>  0.006257</td>\n",
       "      <td>  0.500172</td>\n",
       "      <td> -0.000750</td>\n",
       "      <td>  1.009875</td>\n",
       "      <td> 195.147509</td>\n",
       "      <td>...</td>\n",
       "      <td> 100.000000</td>\n",
       "      <td> 100.000000</td>\n",
       "      <td> 100.000000</td>\n",
       "      <td>  99.925000</td>\n",
       "      <td> 100.000000</td>\n",
       "      <td> 100.000000</td>\n",
       "      <td>  98.175000</td>\n",
       "      <td>  99.325000</td>\n",
       "      <td>  95.225000</td>\n",
       "      <td> 76.500000</td>\n",
       "    </tr>\n",
       "    <tr>\n",
       "      <th>max</th>\n",
       "      <td> 42.000000</td>\n",
       "      <td>  1.020000</td>\n",
       "      <td>  0.020000</td>\n",
       "      <td>  0.018517</td>\n",
       "      <td>  0.018000</td>\n",
       "      <td>  0.012476</td>\n",
       "      <td>  4.143731</td>\n",
       "      <td>  0.016500</td>\n",
       "      <td>  2.708907</td>\n",
       "      <td> 223.606238</td>\n",
       "      <td>...</td>\n",
       "      <td> 100.000000</td>\n",
       "      <td> 100.000000</td>\n",
       "      <td> 100.000000</td>\n",
       "      <td> 100.000000</td>\n",
       "      <td> 100.000000</td>\n",
       "      <td> 100.000000</td>\n",
       "      <td> 100.000000</td>\n",
       "      <td> 100.000000</td>\n",
       "      <td> 100.000000</td>\n",
       "      <td> 93.700000</td>\n",
       "    </tr>\n",
       "  </tbody>\n",
       "</table>\n",
       "<p>8 rows × 25 columns</p>\n",
       "</div>"
      ],
      "text/plain": [
       "         ID Code  Average OP  5cm deep Avg  IC in Octavius Avg  Alanine (%)  \\\n",
       "count  35.000000   35.000000     31.000000           35.000000    34.000000   \n",
       "mean   21.285714    1.002942      0.004454           -0.000099    -0.002874   \n",
       "std    13.021637    0.008587      0.007104            0.010207     0.010246   \n",
       "min     1.000000    0.981602     -0.010000           -0.018398    -0.019800   \n",
       "25%     9.500000    0.998450      0.000250           -0.007500    -0.011886   \n",
       "50%    22.000000    1.003500      0.004500            0.000000    -0.001730   \n",
       "75%    32.500000    1.008250      0.008250            0.006500     0.005839   \n",
       "max    42.000000    1.020000      0.020000            0.018517     0.018000   \n",
       "\n",
       "       Diff IC - Alanine(%)  Alanine SD %  Diff (Oct - 5 deep)  \\\n",
       "count             35.000000     34.000000            31.000000   \n",
       "mean               0.002003      0.514010            -0.002966   \n",
       "std                0.005899      0.651596             0.007192   \n",
       "min               -0.018517      0.205078            -0.014000   \n",
       "25%               -0.000957      0.324553            -0.007063   \n",
       "50%                0.002348      0.385831            -0.003000   \n",
       "75%                0.006257      0.500172            -0.000750   \n",
       "max                0.012476      4.143731             0.016500   \n",
       "\n",
       "       2D Array Coronal Diff (%)  IC measured (corrected) cGy      ...        \\\n",
       "count                  34.000000                    12.000000      ...         \n",
       "mean                   -0.073925                   191.972928      ...         \n",
       "std                     1.653565                    12.495285      ...         \n",
       "min                    -4.900000                   175.225073      ...         \n",
       "25%                    -0.975432                   185.594444      ...         \n",
       "50%                     0.313488                   187.582301      ...         \n",
       "75%                     1.009875                   195.147509      ...         \n",
       "max                     2.708907                   223.606238      ...         \n",
       "\n",
       "       Global 4%/4mm  Global 4%/3mm  Global 4%/2mm  Global 4%/1mm  \\\n",
       "count      34.000000      34.000000      34.000000      34.000000   \n",
       "mean       97.050000      96.279412      94.982353      92.197059   \n",
       "std        10.891232      13.243541      15.401898      17.234259   \n",
       "min        38.600000      26.100000      16.500000      10.200000   \n",
       "25%        99.475000      99.350000      97.750000      93.325000   \n",
       "50%       100.000000     100.000000     100.000000      98.050000   \n",
       "75%       100.000000     100.000000     100.000000      99.925000   \n",
       "max       100.000000     100.000000     100.000000     100.000000   \n",
       "\n",
       "       Global 3%/3mm  Global 3%/2mm  Global 3%/1mm  Global 2%/2mm  \\\n",
       "count      34.000000      34.000000      34.000000      34.000000   \n",
       "mean       94.682353      92.355882      87.485294      87.814706   \n",
       "std        15.582400      17.768037      19.855922      20.331020   \n",
       "min        15.800000       8.900000       3.000000       6.300000   \n",
       "25%        97.425000      93.075000      82.575000      83.900000   \n",
       "50%       100.000000      99.200000      95.600000      97.000000   \n",
       "75%       100.000000     100.000000      98.175000      99.325000   \n",
       "max       100.000000     100.000000     100.000000     100.000000   \n",
       "\n",
       "       Global 2%/1mm  Global 1%/1mm  \n",
       "count      34.000000      34.000000  \n",
       "mean       77.838235      59.600000  \n",
       "std        23.492875      23.102827  \n",
       "min         1.000000       0.300000  \n",
       "25%        69.000000      43.500000  \n",
       "50%        87.100000      64.800000  \n",
       "75%        95.225000      76.500000  \n",
       "max       100.000000      93.700000  \n",
       "\n",
       "[8 rows x 25 columns]"
      ]
     },
     "execution_count": 12,
     "metadata": {},
     "output_type": "execute_result"
    }
   ],
   "source": [
    "mean = np.mean(d) # this needs to be energy specific\n",
    "sd = np.std(d)\n",
    "\n",
    "#d.dtypes\n",
    "#d.groupby(['Round'])['Centre'].nunique().reset_index() # number of unique dates = number of visits\n",
    "d.describe()"
   ]
  },
  {
   "cell_type": "markdown",
   "metadata": {},
   "source": [
    "##Quick plot of Average OP\n",
    "Shows similar +/-2% variation"
   ]
  },
  {
   "cell_type": "code",
   "execution_count": 32,
   "metadata": {
    "collapsed": false
   },
   "outputs": [
    {
     "data": {
      "text/plain": [
       "<matplotlib.axes._subplots.AxesSubplot at 0x776c350>"
      ]
     },
     "execution_count": 32,
     "metadata": {},
     "output_type": "execute_result"
    },
    {
     "data": {
      "image/png": "[encoded data removed]",
      "text/plain": [
       "<matplotlib.figure.Figure at 0x7776950>"
      ]
     },
     "metadata": {},
     "output_type": "display_data"
    }
   ],
   "source": [
    "d['Average OP'].hist(normed=False, bins=23, range=(0.975,1.025), rwidth=1) #simple auto plot in a grid\n",
    "#d['Average OP'].hist(normed=False, bins=21) #simple auto plot in a grid\n"
   ]
  },
  {
   "cell_type": "markdown",
   "metadata": {},
   "source": [
    "##IC vs Alanine\n"
   ]
  },
  {
   "cell_type": "code",
   "execution_count": 33,
   "metadata": {
    "collapsed": false
   },
   "outputs": [
    {
     "data": {
      "text/plain": [
       "<matplotlib.axes._subplots.AxesSubplot at 0x77f4a90>"
      ]
     },
     "execution_count": 33,
     "metadata": {},
     "output_type": "execute_result"
    },
    {
     "data": {
      "image/png": "[encoded data removed]",
      "text/plain": [
       "<matplotlib.figure.Figure at 0x47d8c30>"
      ]
     },
     "metadata": {},
     "output_type": "display_data"
    }
   ],
   "source": [
    "(100*d['Diff IC - Alanine(%)']).hist(normed=True)"
   ]
  },
  {
   "cell_type": "code",
   "execution_count": 39,
   "metadata": {
    "collapsed": false
   },
   "outputs": [
    {
     "data": {
      "text/plain": [
       "<matplotlib.text.Text at 0x892f330>"
      ]
     },
     "execution_count": 39,
     "metadata": {},
     "output_type": "execute_result"
    },
    {
     "data": {
      "image/png": "[encoded data removed]",
      "text/plain": [
       "<matplotlib.figure.Figure at 0x8932ab0>"
      ]
     },
     "metadata": {},
     "output_type": "display_data"
    }
   ],
   "source": [
    "plt.figure(figsize=(5,5))\n",
    "plt.scatter(d['Average OP'], d['Alanine (%)'])\n",
    "plt.xlim(0.97, 1.03)\n",
    "plt.ylim(-0.03,0.03)\n",
    "plt.xlabel('Average OP')\n",
    "plt.ylabel('Alanine (%)')"
   ]
  },
  {
   "cell_type": "markdown",
   "metadata": {},
   "source": [
    "##IC corrected Dif (%)"
   ]
  },
  {
   "cell_type": "code",
   "execution_count": 8,
   "metadata": {
    "collapsed": false
   },
   "outputs": [
    {
     "data": {
      "text/plain": [
       "<matplotlib.axes._subplots.AxesSubplot at 0x5f1ec10>"
      ]
     },
     "execution_count": 8,
     "metadata": {},
     "output_type": "execute_result"
    },
    {
     "data": {
      "image/png": "[encoded data removed]",
      "text/plain": [
       "<matplotlib.figure.Figure at 0x71420f0>"
      ]
     },
     "metadata": {},
     "output_type": "display_data"
    }
   ],
   "source": [
    "d['IC corrected Diff (%)'].hist(normed=True)"
   ]
  },
  {
   "cell_type": "markdown",
   "metadata": {},
   "source": [
    "##IC uncorrected Diff (%)"
   ]
  },
  {
   "cell_type": "code",
   "execution_count": 9,
   "metadata": {
    "collapsed": false
   },
   "outputs": [
    {
     "data": {
      "text/plain": [
       "<matplotlib.axes._subplots.AxesSubplot at 0x718b5d0>"
      ]
     },
     "execution_count": 9,
     "metadata": {},
     "output_type": "execute_result"
    },
    {
     "data": {
      "image/png": "[encoded data removed]",
      "text/plain": [
       "<matplotlib.figure.Figure at 0x7190bd0>"
      ]
     },
     "metadata": {},
     "output_type": "display_data"
    }
   ],
   "source": [
    "d['IC uncorrected Diff (%)'].hist(normed=True)"
   ]
  },
  {
   "cell_type": "markdown",
   "metadata": {},
   "source": [
    "##Point dose diff (%)"
   ]
  },
  {
   "cell_type": "code",
   "execution_count": 7,
   "metadata": {
    "collapsed": false
   },
   "outputs": [
    {
     "data": {
      "text/plain": [
       "<matplotlib.axes._subplots.AxesSubplot at 0x61e9310>"
      ]
     },
     "execution_count": 7,
     "metadata": {},
     "output_type": "execute_result"
    },
    {
     "data": {
      "image/png": "[encoded data removed]",
      "text/plain": [
       "<matplotlib.figure.Figure at 0x5fae190>"
      ]
     },
     "metadata": {},
     "output_type": "display_data"
    }
   ],
   "source": [
    "d['2D Array Coronal Diff (%)'].hist(normed=True)"
   ]
  },
  {
   "cell_type": "markdown",
   "metadata": {},
   "source": [
    "##Gamma 2%/2mm"
   ]
  },
  {
   "cell_type": "code",
   "execution_count": 10,
   "metadata": {
    "collapsed": false
   },
   "outputs": [
    {
     "data": {
      "text/plain": [
       "(0, 100)"
      ]
     },
     "execution_count": 10,
     "metadata": {},
     "output_type": "execute_result"
    },
    {
     "data": {
      "image/png": "[encoded data removed]",
      "text/plain": [
       "<matplotlib.figure.Figure at 0x71dedd0>"
      ]
     },
     "metadata": {},
     "output_type": "display_data"
    }
   ],
   "source": [
    "d['Global 2%/2mm'].hist(normed=True)\n",
    "plt.xlim(0,100)"
   ]
  },
  {
   "cell_type": "code",
   "execution_count": 11,
   "metadata": {
    "collapsed": false
   },
   "outputs": [
    {
     "name": "stdout",
     "output_type": "stream",
     "text": [
      "[        nan  15.5339352]\n",
      " \n",
      "nan x + 15.53\n"
     ]
    },
    {
     "name": "stderr",
     "output_type": "stream",
     "text": [
      "C:\\Anaconda3\\lib\\site-packages\\numpy\\lib\\polynomial.py:588: RankWarning: Polyfit may be poorly conditioned\n",
      "  warnings.warn(msg, RankWarning)\n"
     ]
    },
    {
     "data": {
      "image/png": "[encoded data removed]",
      "text/plain": [
       "<matplotlib.figure.Figure at 0x71de650>"
      ]
     },
     "metadata": {},
     "output_type": "display_data"
    }
   ],
   "source": [
    "pylab.rcParams['figure.figsize'] = 10, 5 # change size of figures\n",
    "fig1 = plt.figure()\n",
    "axes1 = fig1.add_subplot(1,1,1)\n",
    "plt.title('OP vs Gamma')\n",
    "plt.xlabel(\"OP\")\n",
    "plt.ylabel(\"Gamma\")\n",
    "#plt.ylim(0.97, 1.03)\n",
    "#axes1.xaxis.set_minor_locator(AutoMinorLocator(4)) #used to set the number of minor ticks between major ticks\n",
    "plt.tick_params(which='major', width=1, length=5)\n",
    "plt.tick_params(which='minor', width=1, length=3)\n",
    "plt.grid(True, which='major')\n",
    "\n",
    "x = abs(d['Alanine (%)'])\n",
    "#x = d['Alanine (%)']\n",
    "y = d['Global 1%/1mm']\n",
    "\n",
    "coefficients = np.polyfit(x, y, 1)\n",
    "polynomial = np.poly1d(coefficients)\n",
    "ys = polynomial(x)\n",
    "print (coefficients)\n",
    "print (polynomial)\n",
    "\n",
    "#plot(x, y, 'o')\n",
    "#plot(x, ys)\n",
    "\n",
    "line1 = axes1.plot(x, y, 'o', color='blue')\n",
    "line2 = axes1.plot(x, ys, '-')"
   ]
  },
  {
   "cell_type": "code",
   "execution_count": 23,
   "metadata": {
    "collapsed": false
   },
   "outputs": [
    {
     "data": {
      "text/html": [
       "<div style=\"max-height:1000px;max-width:1500px;overflow:auto;\">\n",
       "<table border=\"1\" class=\"dataframe\">\n",
       "  <thead>\n",
       "    <tr style=\"text-align: right;\">\n",
       "      <th></th>\n",
       "      <th>Average OP</th>\n",
       "      <th>Alanine (%)</th>\n",
       "      <th>2D Array Coronal Diff (%)</th>\n",
       "      <th>Global 2%/1mm</th>\n",
       "    </tr>\n",
       "  </thead>\n",
       "  <tbody>\n",
       "    <tr>\n",
       "      <th>0</th>\n",
       "      <td> 1.0060</td>\n",
       "      <td> 0.005741</td>\n",
       "      <td> 1.063264</td>\n",
       "      <td>  83.1</td>\n",
       "    </tr>\n",
       "    <tr>\n",
       "      <th>1</th>\n",
       "      <td> 0.9985</td>\n",
       "      <td> 0.008753</td>\n",
       "      <td> 0.652073</td>\n",
       "      <td> 100.0</td>\n",
       "    </tr>\n",
       "    <tr>\n",
       "      <th>2</th>\n",
       "      <td> 0.9963</td>\n",
       "      <td>-0.000098</td>\n",
       "      <td>-2.720000</td>\n",
       "      <td>  36.5</td>\n",
       "    </tr>\n",
       "    <tr>\n",
       "      <th>3</th>\n",
       "      <td> 1.0010</td>\n",
       "      <td>-0.015348</td>\n",
       "      <td> 2.074468</td>\n",
       "      <td>  80.5</td>\n",
       "    </tr>\n",
       "    <tr>\n",
       "      <th>4</th>\n",
       "      <td> 1.0010</td>\n",
       "      <td>-0.015348</td>\n",
       "      <td>-0.173310</td>\n",
       "      <td>  69.3</td>\n",
       "    </tr>\n",
       "  </tbody>\n",
       "</table>\n",
       "</div>"
      ],
      "text/plain": [
       "   Average OP  Alanine (%)  2D Array Coronal Diff (%)  Global 2%/1mm\n",
       "0      1.0060     0.005741                   1.063264           83.1\n",
       "1      0.9985     0.008753                   0.652073          100.0\n",
       "2      0.9963    -0.000098                  -2.720000           36.5\n",
       "3      1.0010    -0.015348                   2.074468           80.5\n",
       "4      1.0010    -0.015348                  -0.173310           69.3"
      ]
     },
     "execution_count": 23,
     "metadata": {},
     "output_type": "execute_result"
    }
   ],
   "source": [
    "ds = d[['Average OP','Alanine (%)','2D Array Coronal Diff (%)', 'Global 2%/1mm']]\n",
    "ds.head()"
   ]
  },
  {
   "cell_type": "code",
   "execution_count": 27,
   "metadata": {
    "collapsed": false
   },
   "outputs": [
    {
     "data": {
      "text/plain": [
       "array([[<matplotlib.axes._subplots.AxesSubplot object at 0x19FFF030>,\n",
       "        <matplotlib.axes._subplots.AxesSubplot object at 0x19BF7970>,\n",
       "        <matplotlib.axes._subplots.AxesSubplot object at 0x19C20A10>,\n",
       "        <matplotlib.axes._subplots.AxesSubplot object at 0x19C41970>],\n",
       "       [<matplotlib.axes._subplots.AxesSubplot object at 0x19C6BA10>,\n",
       "        <matplotlib.axes._subplots.AxesSubplot object at 0x19C8CB90>,\n",
       "        <matplotlib.axes._subplots.AxesSubplot object at 0x1AFF7A70>,\n",
       "        <matplotlib.axes._subplots.AxesSubplot object at 0x1B0001D0>],\n",
       "       [<matplotlib.axes._subplots.AxesSubplot object at 0x1B044AD0>,\n",
       "        <matplotlib.axes._subplots.AxesSubplot object at 0x1B06FBF0>,\n",
       "        <matplotlib.axes._subplots.AxesSubplot object at 0x1B0950F0>,\n",
       "        <matplotlib.axes._subplots.AxesSubplot object at 0x1B0C00F0>],\n",
       "       [<matplotlib.axes._subplots.AxesSubplot object at 0x1B661310>,\n",
       "        <matplotlib.axes._subplots.AxesSubplot object at 0x1B689F10>,\n",
       "        <matplotlib.axes._subplots.AxesSubplot object at 0x1B66E4D0>,\n",
       "        <matplotlib.axes._subplots.AxesSubplot object at 0x19D25110>]], dtype=object)"
      ]
     },
     "execution_count": 27,
     "metadata": {},
     "output_type": "execute_result"
    },
    {
     "data": {
      "image/png": "[encoded data removed]",
      "text/plain": [
       "<matplotlib.figure.Figure at 0x19ff6910>"
      ]
     },
     "metadata": {},
     "output_type": "display_data"
    }
   ],
   "source": [
    "%matplotlib inline \n",
    "#qt for seperate window\n",
    "\n",
    "from pandas.tools.plotting import scatter_matrix\n",
    "\n",
    "df = pd.DataFrame(np.random.randn(1000, 4), columns=['a', 'b', 'c', 'd'])\n",
    "\n",
    "scatter_matrix(ds, alpha=0.2, figsize=(6, 6), diagonal='hist') #diagonal ='kde' gives a density plot"
   ]
  },
  {
   "cell_type": "code",
   "execution_count": null,
   "metadata": {
    "collapsed": true
   },
   "outputs": [],
   "source": []
  }
 ],
 "metadata": {
  "kernelspec": {
   "display_name": "Python 3",
   "language": "python",
   "name": "python3"
  },
  "language_info": {
   "codemirror_mode": {
    "name": "ipython",
    "version": 3
   },
   "file_extension": ".py",
   "mimetype": "text/x-python",
   "name": "python",
   "nbconvert_exporter": "python",
   "pygments_lexer": "ipython3",
   "version": "3.4.3"
  }
 },
 "nbformat": 4,
 "nbformat_minor": 0
}
