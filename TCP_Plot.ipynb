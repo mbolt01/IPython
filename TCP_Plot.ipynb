{
 "cells": [
  {
   "cell_type": "markdown",
   "metadata": {},
   "source": [
    "Input dose per fraction to get TCP value - based on original Matlab code created"
   ]
  },
  {
   "cell_type": "code",
   "execution_count": 27,
   "metadata": {
    "collapsed": false
   },
   "outputs": [],
   "source": [
    "import numpy as np\n",
    "import matplotlib.pyplot as plt\n",
    "%matplotlib inline\n",
    "#plt.style.use('ggplot')\n",
    "#matplotlib.rcdefaults()\n"
   ]
  },
  {
   "cell_type": "markdown",
   "metadata": {},
   "source": [
    "Create constants and dose points on curve."
   ]
  },
  {
   "cell_type": "code",
   "execution_count": 28,
   "metadata": {
    "collapsed": false
   },
   "outputs": [
    {
     "name": "stdout",
     "output_type": "stream",
     "text": [
      "[  0.   2.   4.   6.   8.  10.  12.  14.  16.  18.  20.  22.  24.  26.  28.\n",
      "  30.  32.  34.  36.  38.  40.  42.  44.  46.  48.  50.  52.  54.  56.  58.\n",
      "  60.  62.  64.  66.  68.  70.  72.  74.  76.  78.  80.  82.  84.  86.  88.\n",
      "  90.  92.  94.  96.  98.]\n"
     ]
    }
   ],
   "source": [
    "d=2.0 #dose per fraction\n",
    "N=100.0 #number of tumour cells\n",
    "\n",
    "D = np.arange(0.0,100.0,d) #create array containing dose values in increments of d\n",
    "print(D)\n",
    "\n",
    "n=max(D)/d # total number of fractions in model\n",
    "\n",
    "a = 0.08\n",
    "abrat = 6.0\n",
    "b = a/abrat\n",
    "\n"
   ]
  },
  {
   "cell_type": "code",
   "execution_count": 29,
   "metadata": {
    "collapsed": false
   },
   "outputs": [
    {
     "name": "stdout",
     "output_type": "stream",
     "text": [
      "[  1.00000000e+00   8.07886797e-01   6.52681076e-01   5.27292424e-01\n",
      "   4.25992587e-01   3.44153787e-01   2.78037300e-01   2.24622664e-01\n",
      "   1.81469685e-01   1.46606962e-01   1.18441829e-01   9.56875898e-02\n",
      "   7.73047404e-02   6.24534791e-02   5.04553412e-02   4.07622040e-02\n",
      "   3.29312464e-02   2.66047192e-02   2.14936013e-02   1.73643967e-02\n",
      "   1.40284669e-02   1.13334132e-02   9.15611485e-03   7.39710430e-03\n",
      "   5.97602290e-03   4.82794999e-03   3.90043706e-03   3.15111160e-03\n",
      "   2.54574146e-03   2.05667091e-03   1.66155727e-03   1.34235018e-03\n",
      "   1.08446699e-03   8.76126562e-04   7.07811082e-04   5.71831228e-04\n",
      "   4.61974899e-04   3.73223421e-04   3.01522274e-04   2.43595864e-04\n",
      "   1.96797882e-04   1.58990411e-04   1.28446254e-04   1.03770032e-04\n",
      "   8.38344391e-05   6.77287365e-05   5.47171520e-05   4.42052646e-05\n",
      "   3.57128496e-05   2.88519397e-05]\n"
     ]
    }
   ],
   "source": [
    "S=np.exp(-a*D*(1+(d/abrat)))\n",
    "print(S)"
   ]
  },
  {
   "cell_type": "code",
   "execution_count": 30,
   "metadata": {
    "collapsed": false
   },
   "outputs": [
    {
     "name": "stdout",
     "output_type": "stream",
     "text": [
      "[  3.72007598e-44   8.20204632e-36   4.51253944e-29   1.25887030e-23\n",
      "   3.15774456e-19   1.13133427e-15   8.41382481e-13   1.75695909e-10\n",
      "   1.31483646e-08   4.29477616e-07   7.18020301e-06   6.98780496e-05\n",
      "   4.39235850e-04   1.93945570e-03   6.43802077e-03   1.69714901e-02\n",
      "   3.71376262e-02   6.99152198e-02   1.16558716e-01   1.76146424e-01\n",
      "   2.45895978e-01   3.21955702e-01   4.00271791e-01   4.77252094e-01\n",
      "   5.50129106e-01   6.17056307e-01   6.77027284e-01   7.29707756e-01\n",
      "   7.75246570e-01   8.14104054e-01   8.46914336e-01   8.74384544e-01\n",
      "   8.97226717e-01   9.16115660e-01   9.31665804e-01   9.44421109e-01\n",
      "   9.54853370e-01   9.63365552e-01   9.70297816e-01   9.75934714e-01\n",
      "   9.80512595e-01   9.84226681e-01   9.87237515e-01   9.89676652e-01\n",
      "   9.91651599e-01   9.93250011e-01   9.94543227e-01   9.95589230e-01\n",
      "   9.96435084e-01   9.97118964e-01]\n"
     ]
    }
   ],
   "source": [
    "TCP=np.exp(-N*S)\n",
    "print(TCP)"
   ]
  },
  {
   "cell_type": "code",
   "execution_count": 31,
   "metadata": {
    "collapsed": false
   },
   "outputs": [
    {
     "data": {
      "image/png": "[encoded data removed]",
      "text/plain": [
       "<matplotlib.figure.Figure at 0x4dff6d0>"
      ]
     },
     "metadata": {},
     "output_type": "display_data"
    }
   ],
   "source": [
    "plt.clf()\n",
    "\n",
    "plt.plot(D, TCP)\n",
    "plt.title(\"NPL MV Data\")\n",
    "plt.xlabel(\"Dose (Gy)\")\n",
    "plt.ylabel(\"TCP\")\n",
    "plt.grid(True)\n",
    "\n",
    "#plt.show()"
   ]
  },
  {
   "cell_type": "code",
   "execution_count": null,
   "metadata": {
    "collapsed": true
   },
   "outputs": [],
   "source": []
  },
  {
   "cell_type": "code",
   "execution_count": null,
   "metadata": {
    "collapsed": true
   },
   "outputs": [],
   "source": []
  }
 ],
 "metadata": {
  "kernelspec": {
   "display_name": "Python 3",
   "language": "python",
   "name": "python3"
  },
  "language_info": {
   "codemirror_mode": {
    "name": "ipython",
    "version": 3
   },
   "file_extension": ".py",
   "mimetype": "text/x-python",
   "name": "python",
   "nbconvert_exporter": "python",
   "pygments_lexer": "ipython3",
   "version": "3.4.3"
  }
 },
 "nbformat": 4,
 "nbformat_minor": 0
}
