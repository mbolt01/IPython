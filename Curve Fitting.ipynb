{
 "cells": [
  {
   "cell_type": "markdown",
   "metadata": {},
   "source": [
    "#Import Relevent Python Libraries etc"
   ]
  },
  {
   "cell_type": "code",
   "execution_count": 1,
   "metadata": {
    "collapsed": true
   },
   "outputs": [],
   "source": [
    "import numpy as np\n",
    "import pandas as pd\n",
    "import matplotlib.pyplot as plt\n",
    "%matplotlib inline\n",
    "import scipy.optimize\n",
    "from scipy.optimize import curve_fit\n",
    "from scipy.optimize import leastsq\n"
   ]
  },
  {
   "cell_type": "markdown",
   "metadata": {},
   "source": [
    "##Create Data to Plot"
   ]
  },
  {
   "cell_type": "code",
   "execution_count": 2,
   "metadata": {
    "collapsed": false,
    "scrolled": false
   },
   "outputs": [
    {
     "data": {
      "text/plain": [
       "<matplotlib.collections.PathCollection at 0x6609750>"
      ]
     },
     "execution_count": 2,
     "metadata": {},
     "output_type": "execute_result"
    },
    {
     "data": {
      "image/png": "[encoded data removed]",
      "text/plain": [
       "<matplotlib.figure.Figure at 0x65bf7b0>"
      ]
     },
     "metadata": {},
     "output_type": "display_data"
    }
   ],
   "source": [
    "x = np.linspace(1,10,10)\n",
    "y_exact = 3*x**2+10\n",
    "y = [2,30,25,60,60,95,180,170,220,320]\n",
    "\n",
    "plt.scatter(x,y_exact,color='blue')\n",
    "plt.scatter(x,y,color='red')"
   ]
  },
  {
   "cell_type": "markdown",
   "metadata": {},
   "source": [
    "##curve_fit"
   ]
  },
  {
   "cell_type": "code",
   "execution_count": 6,
   "metadata": {
    "collapsed": false
   },
   "outputs": [
    {
     "name": "stdout",
     "output_type": "stream",
     "text": [
      "[ 2.95038295  2.61025641]\n",
      "[ 32.19393939 -60.86666667]\n"
     ]
    },
    {
     "data": {
      "image/png": "[encoded data removed]",
      "text/plain": [
       "<matplotlib.figure.Figure at 0x67b5550>"
      ]
     },
     "metadata": {},
     "output_type": "display_data"
    }
   ],
   "source": [
    "from scipy.optimize import curve_fit\n",
    "\n",
    "def fit1(x, a, b):\n",
    "    y1 = a*(x**2)+b\n",
    "    return y1\n",
    "\n",
    "def fit2(x, m, c):\n",
    "    y2 = m*x + c\n",
    "    return y2\n",
    "\n",
    "p0 = [1,1] # intial estimates of fit parameters\n",
    "\n",
    "coeffs1, matcov1 = curve_fit(fit1, x, y, p0)      # fit curve against x and y data sets\n",
    "coeffs2, matcov2 = curve_fit(fit2, x, y, p0)\n",
    "\n",
    "xfit1 = np.linspace(0.0, 10.0, 10.0)         # give finer resultion array for plot\n",
    "yfit1 = fit1(xfit1, *coeffs1)\n",
    "\n",
    "xfit2 = np.linspace(0.0, 10.0, 10.0)         # give finer resultion array for plot\n",
    "yfit2 = fit2(xfit2, *coeffs2)  \n",
    "\n",
    "plt.scatter(x, y, color='red',)\n",
    "plt.plot(xfit1,yfit1,color='green')\n",
    "plt.plot(xfit2,yfit2,color='orange')\n",
    "print(coeffs1)\n",
    "print(coeffs2)\n"
   ]
  },
  {
   "cell_type": "markdown",
   "metadata": {
    "collapsed": true
   },
   "source": [
    "##Least Squares Fitting"
   ]
  },
  {
   "cell_type": "code",
   "execution_count": 21,
   "metadata": {
    "collapsed": false
   },
   "outputs": [
    {
     "ename": "ValueError",
     "evalue": "operands could not be broadcast together with shapes (10,) (3,) ",
     "output_type": "error",
     "traceback": [
      "\u001b[1;31m---------------------------------------------------------------------------\u001b[0m",
      "\u001b[1;31mValueError\u001b[0m                                Traceback (most recent call last)",
      "\u001b[1;32m<ipython-input-21-3f75b446d6e7>\u001b[0m in \u001b[0;36m<module>\u001b[1;34m()\u001b[0m\n\u001b[0;32m     11\u001b[0m \u001b[1;31m#p0 = [1,1,1] # intial estimates of fit parameters\u001b[0m\u001b[1;33m\u001b[0m\u001b[1;33m\u001b[0m\u001b[0m\n\u001b[0;32m     12\u001b[0m \u001b[1;33m\u001b[0m\u001b[0m\n\u001b[1;32m---> 13\u001b[1;33m \u001b[0my\u001b[0m\u001b[1;33m,\u001b[0m \u001b[0mcov\u001b[0m\u001b[1;33m,\u001b[0m \u001b[0minfodict\u001b[0m\u001b[1;33m,\u001b[0m \u001b[0mmesg\u001b[0m\u001b[1;33m,\u001b[0m \u001b[0mier\u001b[0m \u001b[1;33m=\u001b[0m \u001b[0mleastsq\u001b[0m\u001b[1;33m(\u001b[0m\u001b[0mfit1_err\u001b[0m\u001b[1;33m,\u001b[0m \u001b[0mp0\u001b[0m\u001b[1;33m,\u001b[0m \u001b[0margs\u001b[0m\u001b[1;33m=\u001b[0m\u001b[1;33m(\u001b[0m\u001b[0mx\u001b[0m\u001b[1;33m,\u001b[0m \u001b[0my\u001b[0m\u001b[1;33m,\u001b[0m \u001b[0mp\u001b[0m\u001b[1;33m)\u001b[0m\u001b[1;33m,\u001b[0m \u001b[0mfull_output\u001b[0m\u001b[1;33m=\u001b[0m\u001b[1;32mTrue\u001b[0m\u001b[1;33m)\u001b[0m\u001b[1;33m\u001b[0m\u001b[0m\n\u001b[0m\u001b[0;32m     14\u001b[0m \u001b[0mprint\u001b[0m\u001b[1;33m(\u001b[0m\u001b[0ma\u001b[0m\u001b[1;33m)\u001b[0m\u001b[1;33m\u001b[0m\u001b[0m\n\u001b[0;32m     15\u001b[0m \u001b[1;33m\u001b[0m\u001b[0m\n",
      "\u001b[1;32mC:\\Anaconda3\\lib\\site-packages\\scipy\\optimize\\minpack.py\u001b[0m in \u001b[0;36mleastsq\u001b[1;34m(func, x0, args, Dfun, full_output, col_deriv, ftol, xtol, gtol, maxfev, epsfcn, factor, diag)\u001b[0m\n\u001b[0;32m    369\u001b[0m     \u001b[1;32mif\u001b[0m \u001b[1;32mnot\u001b[0m \u001b[0misinstance\u001b[0m\u001b[1;33m(\u001b[0m\u001b[0margs\u001b[0m\u001b[1;33m,\u001b[0m \u001b[0mtuple\u001b[0m\u001b[1;33m)\u001b[0m\u001b[1;33m:\u001b[0m\u001b[1;33m\u001b[0m\u001b[0m\n\u001b[0;32m    370\u001b[0m         \u001b[0margs\u001b[0m \u001b[1;33m=\u001b[0m \u001b[1;33m(\u001b[0m\u001b[0margs\u001b[0m\u001b[1;33m,\u001b[0m\u001b[1;33m)\u001b[0m\u001b[1;33m\u001b[0m\u001b[0m\n\u001b[1;32m--> 371\u001b[1;33m     \u001b[0mshape\u001b[0m\u001b[1;33m,\u001b[0m \u001b[0mdtype\u001b[0m \u001b[1;33m=\u001b[0m \u001b[0m_check_func\u001b[0m\u001b[1;33m(\u001b[0m\u001b[1;34m'leastsq'\u001b[0m\u001b[1;33m,\u001b[0m \u001b[1;34m'func'\u001b[0m\u001b[1;33m,\u001b[0m \u001b[0mfunc\u001b[0m\u001b[1;33m,\u001b[0m \u001b[0mx0\u001b[0m\u001b[1;33m,\u001b[0m \u001b[0margs\u001b[0m\u001b[1;33m,\u001b[0m \u001b[0mn\u001b[0m\u001b[1;33m)\u001b[0m\u001b[1;33m\u001b[0m\u001b[0m\n\u001b[0m\u001b[0;32m    372\u001b[0m     \u001b[0mm\u001b[0m \u001b[1;33m=\u001b[0m \u001b[0mshape\u001b[0m\u001b[1;33m[\u001b[0m\u001b[1;36m0\u001b[0m\u001b[1;33m]\u001b[0m\u001b[1;33m\u001b[0m\u001b[0m\n\u001b[0;32m    373\u001b[0m     \u001b[1;32mif\u001b[0m \u001b[0mn\u001b[0m \u001b[1;33m>\u001b[0m \u001b[0mm\u001b[0m\u001b[1;33m:\u001b[0m\u001b[1;33m\u001b[0m\u001b[0m\n",
      "\u001b[1;32mC:\\Anaconda3\\lib\\site-packages\\scipy\\optimize\\minpack.py\u001b[0m in \u001b[0;36m_check_func\u001b[1;34m(checker, argname, thefunc, x0, args, numinputs, output_shape)\u001b[0m\n\u001b[0;32m     18\u001b[0m def _check_func(checker, argname, thefunc, x0, args, numinputs,\n\u001b[0;32m     19\u001b[0m                 output_shape=None):\n\u001b[1;32m---> 20\u001b[1;33m     \u001b[0mres\u001b[0m \u001b[1;33m=\u001b[0m \u001b[0matleast_1d\u001b[0m\u001b[1;33m(\u001b[0m\u001b[0mthefunc\u001b[0m\u001b[1;33m(\u001b[0m\u001b[1;33m*\u001b[0m\u001b[1;33m(\u001b[0m\u001b[1;33m(\u001b[0m\u001b[0mx0\u001b[0m\u001b[1;33m[\u001b[0m\u001b[1;33m:\u001b[0m\u001b[0mnuminputs\u001b[0m\u001b[1;33m]\u001b[0m\u001b[1;33m,\u001b[0m\u001b[1;33m)\u001b[0m \u001b[1;33m+\u001b[0m \u001b[0margs\u001b[0m\u001b[1;33m)\u001b[0m\u001b[1;33m)\u001b[0m\u001b[1;33m)\u001b[0m\u001b[1;33m\u001b[0m\u001b[0m\n\u001b[0m\u001b[0;32m     21\u001b[0m     \u001b[1;32mif\u001b[0m \u001b[1;33m(\u001b[0m\u001b[0moutput_shape\u001b[0m \u001b[1;32mis\u001b[0m \u001b[1;32mnot\u001b[0m \u001b[1;32mNone\u001b[0m\u001b[1;33m)\u001b[0m \u001b[1;32mand\u001b[0m \u001b[1;33m(\u001b[0m\u001b[0mshape\u001b[0m\u001b[1;33m(\u001b[0m\u001b[0mres\u001b[0m\u001b[1;33m)\u001b[0m \u001b[1;33m!=\u001b[0m \u001b[0moutput_shape\u001b[0m\u001b[1;33m)\u001b[0m\u001b[1;33m:\u001b[0m\u001b[1;33m\u001b[0m\u001b[0m\n\u001b[0;32m     22\u001b[0m         \u001b[1;32mif\u001b[0m \u001b[1;33m(\u001b[0m\u001b[0moutput_shape\u001b[0m\u001b[1;33m[\u001b[0m\u001b[1;36m0\u001b[0m\u001b[1;33m]\u001b[0m \u001b[1;33m!=\u001b[0m \u001b[1;36m1\u001b[0m\u001b[1;33m)\u001b[0m\u001b[1;33m:\u001b[0m\u001b[1;33m\u001b[0m\u001b[0m\n",
      "\u001b[1;32m<ipython-input-21-3f75b446d6e7>\u001b[0m in \u001b[0;36mfit1_err\u001b[1;34m(x, a, b, p)\u001b[0m\n\u001b[0;32m      6\u001b[0m \u001b[1;33m\u001b[0m\u001b[0m\n\u001b[0;32m      7\u001b[0m \u001b[1;32mdef\u001b[0m \u001b[0mfit1_err\u001b[0m\u001b[1;33m(\u001b[0m\u001b[0mx\u001b[0m\u001b[1;33m,\u001b[0m \u001b[0ma\u001b[0m\u001b[1;33m,\u001b[0m \u001b[0mb\u001b[0m\u001b[1;33m,\u001b[0m \u001b[0mp\u001b[0m\u001b[1;33m)\u001b[0m\u001b[1;33m:\u001b[0m\u001b[1;33m\u001b[0m\u001b[0m\n\u001b[1;32m----> 8\u001b[1;33m     \u001b[1;32mreturn\u001b[0m \u001b[0mp\u001b[0m \u001b[1;33m-\u001b[0m \u001b[0mfit1\u001b[0m\u001b[1;33m(\u001b[0m\u001b[0mx\u001b[0m\u001b[1;33m,\u001b[0m \u001b[0ma\u001b[0m\u001b[1;33m,\u001b[0m \u001b[0mb\u001b[0m\u001b[1;33m)\u001b[0m\u001b[1;33m\u001b[0m\u001b[0m\n\u001b[0m\u001b[0;32m      9\u001b[0m \u001b[1;33m\u001b[0m\u001b[0m\n\u001b[0;32m     10\u001b[0m \u001b[0mp\u001b[0m \u001b[1;33m=\u001b[0m \u001b[1;36m1.0\u001b[0m\u001b[1;33m\u001b[0m\u001b[0m\n",
      "\u001b[1;32m<ipython-input-21-3f75b446d6e7>\u001b[0m in \u001b[0;36mfit1\u001b[1;34m(x, a, b)\u001b[0m\n\u001b[0;32m      2\u001b[0m \u001b[1;33m\u001b[0m\u001b[0m\n\u001b[0;32m      3\u001b[0m \u001b[1;32mdef\u001b[0m \u001b[0mfit1\u001b[0m\u001b[1;33m(\u001b[0m\u001b[0mx\u001b[0m\u001b[1;33m,\u001b[0m \u001b[0ma\u001b[0m\u001b[1;33m,\u001b[0m \u001b[0mb\u001b[0m\u001b[1;33m)\u001b[0m\u001b[1;33m:\u001b[0m\u001b[1;33m\u001b[0m\u001b[0m\n\u001b[1;32m----> 4\u001b[1;33m     \u001b[0my1\u001b[0m \u001b[1;33m=\u001b[0m \u001b[0ma\u001b[0m\u001b[1;33m*\u001b[0m\u001b[1;33m(\u001b[0m\u001b[0mx\u001b[0m\u001b[1;33m**\u001b[0m\u001b[1;36m2\u001b[0m\u001b[1;33m)\u001b[0m\u001b[1;33m+\u001b[0m\u001b[0mb\u001b[0m\u001b[1;33m\u001b[0m\u001b[0m\n\u001b[0m\u001b[0;32m      5\u001b[0m     \u001b[1;32mreturn\u001b[0m \u001b[0my1\u001b[0m\u001b[1;33m\u001b[0m\u001b[0m\n\u001b[0;32m      6\u001b[0m \u001b[1;33m\u001b[0m\u001b[0m\n",
      "\u001b[1;31mValueError\u001b[0m: operands could not be broadcast together with shapes (10,) (3,) "
     ]
    }
   ],
   "source": [
    "from scipy.optimize import leastsq\n",
    "\n",
    "def fit1(x, a, b):\n",
    "    y1 = a*(x**2)+b\n",
    "    return y1\n",
    "\n",
    "def fit1_err(x, a, b, p):\n",
    "    return p - fit1(x, a, b)\n",
    "\n",
    "p = 1.0\n",
    "#p0 = [1,1,1] # intial estimates of fit parameters\n",
    "\n",
    "y, cov, infodict, mesg, ier = leastsq(fit1_err, p0, args=(x, y, p), full_output=True)\n",
    "print(a)\n",
    "\n",
    "xfit1 = np.linspace(0.0, 10.0, 10.0)         # give finer resultion array for plot\n",
    "yfit1 = fit1(xfit1, *coeffs1)\n",
    "\n",
    "plt.scatter(x, y, color='red',)\n",
    "plt.plot(xfit1,yfit1,color='green')\n",
    "\n"
   ]
  },
  {
   "cell_type": "markdown",
   "metadata": {
    "collapsed": false
   },
   "source": [
    "##try lmfit??\n",
    "Is a seperate python module which has many built in fitting functions including logistic etc and looks simple to apply bounds to parameters"
   ]
  },
  {
   "cell_type": "markdown",
   "metadata": {
    "collapsed": false
   },
   "source": [
    "##least squares fit with no bounds = working"
   ]
  },
  {
   "cell_type": "code",
   "execution_count": 125,
   "metadata": {
    "collapsed": false
   },
   "outputs": [
    {
     "name": "stdout",
     "output_type": "stream",
     "text": [
      "Estimates from leastsq \n",
      " [ 2.65444991  6.29303545  7.36760671] 1\n",
      "number of function calls = 9\n"
     ]
    },
    {
     "data": {
      "text/plain": [
       "[<matplotlib.lines.Line2D at 0x93632f0>]"
      ]
     },
     "execution_count": 125,
     "metadata": {},
     "output_type": "execute_result"
    },
    {
     "data": {
      "image/png": "[encoded data removed]",
      "text/plain": [
       "<matplotlib.figure.Figure at 0x93639b0>"
      ]
     },
     "metadata": {},
     "output_type": "display_data"
    }
   ],
   "source": [
    "import numpy\n",
    "from scipy import optimize\n",
    "\n",
    "x = np.linspace(1.0,10,10)\n",
    "y_exact = 3*x**2 + 4*x +5\n",
    "#y_data = np.array([2.0,30,25,60,60,95,180,170,220,320])\n",
    "y_data = y_exact + 30*np.random.randn(len(x)) \n",
    "\n",
    "def fitfunc(p, x):\n",
    "    ## The Equation to fit##\n",
    "    func = p[0]*(x**2) + p[1]*x + p[2]\n",
    "    return func\n",
    "\n",
    "def errfunc(p, x, y):\n",
    "    return fitfunc(p,x) -y\n",
    "\n",
    "guess = np.array([1.0,1.0,1.0])\n",
    "params, C, info, msg, success = optimize.leastsq(errfunc, guess, args=(x, y_data), full_output=1)\n",
    "print('Estimates from leastsq \\n', params,success)\n",
    "print('number of function calls =', info['nfev'])\n",
    "\n",
    "xfit1 = np.linspace(0.0, 10.0, 100.0)         # to calc fitted plot\n",
    "yfit1 = params[0]*(xfit1**2) + params[1]*xfit1 + params[2]\n",
    "\n",
    "plt.scatter(x, y_data, color='red',)\n",
    "plt.plot(xfit1,yfit1,color='green')"
   ]
  },
  {
   "cell_type": "markdown",
   "metadata": {},
   "source": [
    "##Try and add bounds to parameters\n",
    "### Use fmin_slsqp ? or .minize(method=SLSQP) etc"
   ]
  },
  {
   "cell_type": "code",
   "execution_count": 151,
   "metadata": {
    "collapsed": false
   },
   "outputs": [
    {
     "name": "stdout",
     "output_type": "stream",
     "text": [
      "[ 1.   2.5]\n",
      "[ 0.6  2. ]\n"
     ]
    }
   ],
   "source": [
    "## Simple minimise example\n",
    "# so far havent made it work with any other function...\n",
    "\n",
    "x = np.linspace(1.0,10,10)\n",
    "y_exact = 3*x**2 + 4*x +5\n",
    "#y_data = np.array([2.0,30,25,60,60,95,180,170,220,320])\n",
    "y_data = y_exact + 30*np.random.randn(len(x)) \n",
    "\n",
    "guess = np.array([1.0,1.0])\n",
    "\n",
    "fun = lambda p: (p[0] - 1)**2 + (p[1] - 2.5)**2\n",
    "#fun = lambda p: (p[0]*(x**2) + p[1]*x)**2\n",
    "res = optimize.minimize(fun, guess, method='TNC', tol=1e-10)\n",
    "print(res.x)\n",
    "\n",
    "bnds = ((0.3, 0.6), (0, 2.0))\n",
    "res = optimize.minimize(fun, guess, method='TNC', tol=1e-10, bounds=bnds)\n",
    "print(res.x)"
   ]
  },
  {
   "cell_type": "markdown",
   "metadata": {},
   "source": [
    "##lmfit"
   ]
  },
  {
   "cell_type": "code",
   "execution_count": 192,
   "metadata": {
    "collapsed": false
   },
   "outputs": [
    {
     "name": "stdout",
     "output_type": "stream",
     "text": [
      "[[Model]]\n",
      "    Model(gaussian)\n",
      "[[Fit Statistics]]\n",
      "    # function evals   = 86\n",
      "    # data points      = 10\n",
      "    # variables        = 3\n",
      "    chi-square         = 3143.578\n",
      "    reduced chi-square = 449.083\n",
      "[[Variables]]\n",
      "    cen:   20.3396497 +/- 14.78507 (72.69%) (init= 5)\n",
      "    wid:   88.3799092 +/- 102.1278 (115.56%) (init= 1)\n",
      "    amp:   1034.67148 +/- 2.18e+03 (210.45%) (init= 5)\n",
      "[[Correlations]] (unreported correlations are <  0.100)\n",
      "    C(cen, amp)                  =  0.997 \n",
      "    C(cen, wid)                  =  0.996 \n",
      "    C(wid, amp)                  =  0.986 \n",
      "[[Model]]\n",
      "    Model(quad)\n",
      "[[Fit Statistics]]\n",
      "    # function evals   = 8\n",
      "    # data points      = 10\n",
      "    # variables        = 3\n",
      "    chi-square         = 3226.974\n",
      "    reduced chi-square = 460.996\n",
      "[[Variables]]\n",
      "    b:  -5.18106060 +/- 10.54669 (203.56%) (init= 5)\n",
      "    a:   3.39772727 +/- 0.934397 (27.50%) (init= 5)\n",
      "    c:   13.8833335 +/- 25.25295 (181.89%) (init= 1)\n",
      "[[Correlations]] (unreported correlations are <  0.100)\n",
      "    C(b, a)                      = -0.975 \n",
      "    C(b, c)                      = -0.909 \n",
      "    C(a, c)                      =  0.814 \n"
     ]
    },
    {
     "data": {
      "text/plain": [
       "[<matplotlib.lines.Line2D at 0xa867dd0>]"
      ]
     },
     "execution_count": 192,
     "metadata": {},
     "output_type": "execute_result"
    },
    {
     "data": {
      "image/png": "[encoded data removed]",
      "text/plain": [
       "<matplotlib.figure.Figure at 0x91eba90>"
      ]
     },
     "metadata": {},
     "output_type": "display_data"
    }
   ],
   "source": [
    "from lmfit import minimize, Parameters, Model\n",
    "from numpy import sqrt, pi, exp, linspace\n",
    "\n",
    "def gaussian(x, amp, cen, wid):\n",
    "    \"Example gaussian function\"\n",
    "    return amp* exp(-(x-cen)**2/wid)\n",
    "\n",
    "def quad(x, a, b, c):\n",
    "    \"Example quadratic function\"\n",
    "    return a*(x**2) + b*x + c\n",
    "\n",
    "gmod = Model(gaussian)  # automatically expract variables which can be named below.\n",
    "qmod = Model(quad)\n",
    "\n",
    "params = Parameters()\n",
    "params.add('c', value = 2, vary=False)\n",
    "\n",
    "result = gmod.fit(y, x=x, amp=5, cen=5, wid=1)\n",
    "print(result.fit_report())\n",
    "\n",
    "result1 = qmod.fit(y, x=x, a=5, b=5, c=1)\n",
    "print(result1.fit_report())\n",
    "\n",
    "plt.scatter(x, y)\n",
    "plt.plot(x, result1.init_fit, 'k--')\n",
    "plt.plot(x, result1.best_fit, 'r-')\n"
   ]
  },
  {
   "cell_type": "code",
   "execution_count": null,
   "metadata": {
    "collapsed": true
   },
   "outputs": [],
   "source": []
  }
 ],
 "metadata": {
  "kernelspec": {
   "display_name": "Python 3",
   "language": "python",
   "name": "python3"
  },
  "language_info": {
   "codemirror_mode": {
    "name": "ipython",
    "version": 3
   },
   "file_extension": ".py",
   "mimetype": "text/x-python",
   "name": "python",
   "nbconvert_exporter": "python",
   "pygments_lexer": "ipython3",
   "version": "3.4.3"
  }
 },
 "nbformat": 4,
 "nbformat_minor": 0
}
