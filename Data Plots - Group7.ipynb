{
 "cells": [
  {
   "cell_type": "code",
   "execution_count": 4,
   "metadata": {
    "collapsed": false
   },
   "outputs": [],
   "source": [
    "import numpy as np\n",
    "import pandas as pd\n",
    "pd.set_option(\"display.date_dayfirst\", True)\n",
    "pd.set_option(\"display.date_yearfirst\", False)\n",
    "#pd.describe_option('display.date_yearfirst')\n",
    "import matplotlib.pyplot as plt\n",
    "%matplotlib inline\n",
    "import matplotlib.mlab as mlab\n",
    "\n",
    "import matplotlib.pylab as pylab\n",
    "\n",
    "import os\n",
    "cwd = os.getcwd()"
   ]
  },
  {
   "cell_type": "markdown",
   "metadata": {},
   "source": [
    "Set file to look at containing data"
   ]
  },
  {
   "cell_type": "markdown",
   "metadata": {},
   "source": [
    "#Import excel file into pandas dataframe"
   ]
  },
  {
   "cell_type": "code",
   "execution_count": 5,
   "metadata": {
    "collapsed": false
   },
   "outputs": [
    {
     "name": "stdout",
     "output_type": "stream",
     "text": [
      "C:\\Users\\mb22\\OneDrive\\PhD\\Quasar Shared\\Modelling\\IPython/Data to Import/SWData.csv\n"
     ]
    },
    {
     "data": {
      "text/html": [
       "<div style=\"max-height:1000px;max-width:1500px;overflow:auto;\">\n",
       "<table border=\"1\" class=\"dataframe\">\n",
       "  <thead>\n",
       "    <tr style=\"text-align: right;\">\n",
       "      <th></th>\n",
       "      <th>Round</th>\n",
       "      <th>Centre</th>\n",
       "      <th>Date</th>\n",
       "      <th>OPRatio</th>\n",
       "    </tr>\n",
       "  </thead>\n",
       "  <tbody>\n",
       "    <tr>\n",
       "      <th>0</th>\n",
       "      <td> 1</td>\n",
       "      <td> 1</td>\n",
       "      <td>1993-10-07</td>\n",
       "      <td> 1.005008</td>\n",
       "    </tr>\n",
       "    <tr>\n",
       "      <th>1</th>\n",
       "      <td> 1</td>\n",
       "      <td> 2</td>\n",
       "      <td>1993-11-16</td>\n",
       "      <td> 1.011988</td>\n",
       "    </tr>\n",
       "    <tr>\n",
       "      <th>2</th>\n",
       "      <td> 1</td>\n",
       "      <td> 3</td>\n",
       "      <td>1993-08-25</td>\n",
       "      <td> 1.001176</td>\n",
       "    </tr>\n",
       "    <tr>\n",
       "      <th>3</th>\n",
       "      <td> 1</td>\n",
       "      <td> 4</td>\n",
       "      <td>1993-12-21</td>\n",
       "      <td> 1.007500</td>\n",
       "    </tr>\n",
       "    <tr>\n",
       "      <th>4</th>\n",
       "      <td> 1</td>\n",
       "      <td> 5</td>\n",
       "      <td>1993-11-04</td>\n",
       "      <td> 1.009018</td>\n",
       "    </tr>\n",
       "  </tbody>\n",
       "</table>\n",
       "</div>"
      ],
      "text/plain": [
       "   Round  Centre       Date   OPRatio\n",
       "0      1       1 1993-10-07  1.005008\n",
       "1      1       2 1993-11-16  1.011988\n",
       "2      1       3 1993-08-25  1.001176\n",
       "3      1       4 1993-12-21  1.007500\n",
       "4      1       5 1993-11-04  1.009018"
      ]
     },
     "execution_count": 5,
     "metadata": {},
     "output_type": "execute_result"
    }
   ],
   "source": [
    "#mainpath = 'C:/Users/mb22/OneDrive/PhD/Quasar Shared/'\n",
    "#filepath = 'Data/NPL_Table_All.xlsx'\n",
    "filepath = 'Data to Import/SWData.csv'\n",
    "\n",
    "#fullpath=mainpath+filepath\n",
    "fullpath=cwd+'/'+filepath # use if need to specify full path for some reason.\n",
    "print(fullpath) #note forward and backward slashes in output\n",
    "\n",
    "g7 = pd.read_csv(filepath, parse_dates=['Date'])\n",
    "g7.head()"
   ]
  },
  {
   "cell_type": "markdown",
   "metadata": {},
   "source": [
    "#Calculate some stats & check data types"
   ]
  },
  {
   "cell_type": "code",
   "execution_count": 6,
   "metadata": {
    "collapsed": false,
    "scrolled": true
   },
   "outputs": [
    {
     "data": {
      "text/html": [
       "<div style=\"max-height:1000px;max-width:1500px;overflow:auto;\">\n",
       "<table border=\"1\" class=\"dataframe\">\n",
       "  <thead>\n",
       "    <tr style=\"text-align: right;\">\n",
       "      <th></th>\n",
       "      <th>Round</th>\n",
       "      <th>Centre</th>\n",
       "      <th>OPRatio</th>\n",
       "    </tr>\n",
       "  </thead>\n",
       "  <tbody>\n",
       "    <tr>\n",
       "      <th>count</th>\n",
       "      <td> 148.000000</td>\n",
       "      <td> 148.000000</td>\n",
       "      <td> 148.000000</td>\n",
       "    </tr>\n",
       "    <tr>\n",
       "      <th>mean</th>\n",
       "      <td>   7.418919</td>\n",
       "      <td>   5.876351</td>\n",
       "      <td>   0.999597</td>\n",
       "    </tr>\n",
       "    <tr>\n",
       "      <th>std</th>\n",
       "      <td>   3.822621</td>\n",
       "      <td>   2.884355</td>\n",
       "      <td>   0.007324</td>\n",
       "    </tr>\n",
       "    <tr>\n",
       "      <th>min</th>\n",
       "      <td>   1.000000</td>\n",
       "      <td>   1.000000</td>\n",
       "      <td>   0.974000</td>\n",
       "    </tr>\n",
       "    <tr>\n",
       "      <th>25%</th>\n",
       "      <td>   4.000000</td>\n",
       "      <td>   4.000000</td>\n",
       "      <td>   0.996000</td>\n",
       "    </tr>\n",
       "    <tr>\n",
       "      <th>50%</th>\n",
       "      <td>   8.000000</td>\n",
       "      <td>   6.000000</td>\n",
       "      <td>   1.000000</td>\n",
       "    </tr>\n",
       "    <tr>\n",
       "      <th>75%</th>\n",
       "      <td>  11.000000</td>\n",
       "      <td>   8.100000</td>\n",
       "      <td>   1.005506</td>\n",
       "    </tr>\n",
       "    <tr>\n",
       "      <th>max</th>\n",
       "      <td>  13.000000</td>\n",
       "      <td>  11.100000</td>\n",
       "      <td>   1.014468</td>\n",
       "    </tr>\n",
       "  </tbody>\n",
       "</table>\n",
       "</div>"
      ],
      "text/plain": [
       "            Round      Centre     OPRatio\n",
       "count  148.000000  148.000000  148.000000\n",
       "mean     7.418919    5.876351    0.999597\n",
       "std      3.822621    2.884355    0.007324\n",
       "min      1.000000    1.000000    0.974000\n",
       "25%      4.000000    4.000000    0.996000\n",
       "50%      8.000000    6.000000    1.000000\n",
       "75%     11.000000    8.100000    1.005506\n",
       "max     13.000000   11.100000    1.014468"
      ]
     },
     "execution_count": 6,
     "metadata": {},
     "output_type": "execute_result"
    }
   ],
   "source": [
    "mean = np.mean(g7) # this needs to be energy specific\n",
    "sd = np.std(g7)\n",
    "\n",
    "g7.describe()\n",
    "g7.dtypes\n",
    "\n",
    "#g7.groupby(['Round'])['Centre'].nunique().reset_index() # number of unique dates = number of visits\n",
    "\n",
    "g7.describe()"
   ]
  },
  {
   "cell_type": "markdown",
   "metadata": {},
   "source": [
    "#Make some quick graphs"
   ]
  },
  {
   "cell_type": "code",
   "execution_count": 7,
   "metadata": {
    "collapsed": false,
    "scrolled": true
   },
   "outputs": [
    {
     "data": {
      "text/plain": [
       "array([[<matplotlib.axes._subplots.AxesSubplot object at 0x05E95650>,\n",
       "        <matplotlib.axes._subplots.AxesSubplot object at 0x05ED7770>,\n",
       "        <matplotlib.axes._subplots.AxesSubplot object at 0x05EB3DB0>],\n",
       "       [<matplotlib.axes._subplots.AxesSubplot object at 0x05F29150>,\n",
       "        <matplotlib.axes._subplots.AxesSubplot object at 0x05F52150>,\n",
       "        <matplotlib.axes._subplots.AxesSubplot object at 0x05F72CB0>],\n",
       "       [<matplotlib.axes._subplots.AxesSubplot object at 0x05FA2130>,\n",
       "        <matplotlib.axes._subplots.AxesSubplot object at 0x05FC3070>,\n",
       "        <matplotlib.axes._subplots.AxesSubplot object at 0x05FEE070>],\n",
       "       [<matplotlib.axes._subplots.AxesSubplot object at 0x0600AAB0>,\n",
       "        <matplotlib.axes._subplots.AxesSubplot object at 0x06037F10>,\n",
       "        <matplotlib.axes._subplots.AxesSubplot object at 0x0604B390>]], dtype=object)"
      ]
     },
     "execution_count": 7,
     "metadata": {},
     "output_type": "execute_result"
    },
    {
     "data": {
      "image/png": "[encoded data removed]",
      "text/plain": [
       "<matplotlib.figure.Figure at 0x5e95230>"
      ]
     },
     "metadata": {},
     "output_type": "display_data"
    }
   ],
   "source": [
    "from decimal import * # decimal means that more exact maths can be done with a specified precision.\n",
    "getcontext().prec = 28\n",
    "range_lower = Decimal('0.975')\n",
    "range_upper = Decimal('1.025')\n",
    "bin_width = Decimal('0.005')\n",
    "number_bins = (range_upper-range_lower)/bin_width + 1\n",
    "\n",
    "g7['OPRatio'].hist(by=g7['Round'], normed=True, bins=11, range=(0.975,1.025), rwidth=0.8) #simple auto plot in a grid"
   ]
  },
  {
   "cell_type": "markdown",
   "metadata": {},
   "source": [
    "#Histograms"
   ]
  },
  {
   "cell_type": "markdown",
   "metadata": {},
   "source": [
    "##Ideally make into a function and feed data frame, title, filename"
   ]
  },
  {
   "cell_type": "code",
   "execution_count": 8,
   "metadata": {
    "collapsed": false
   },
   "outputs": [
    {
     "data": {
      "image/png": "[encoded data removed]",
      "text/plain": [
       "<matplotlib.figure.Figure at 0x70b8dd0>"
      ]
     },
     "metadata": {},
     "output_type": "display_data"
    }
   ],
   "source": [
    "pylab.rcParams['figure.figsize'] = 5, 5 # change size of figures\n",
    "\n",
    "from matplotlib.ticker import AutoMinorLocator\n",
    "\n",
    "plotdata = g7\n",
    "\n",
    "fig = plt.figure()\n",
    "axes = fig.add_subplot(1,1,1)\n",
    "plt.title('kV')\n",
    "plt.xlabel(\"Output Ratio (NPL:Host)\")\n",
    "plt.ylabel(\"Freqency (%)\")\n",
    "plt.xlim(0.968, 1.032)\n",
    "plt.ylim(0, 60)\n",
    "\n",
    "plotdata['OPRatio'].hist(bins=14, range=(0.9675, 1.0375), normed=True,\n",
    "                               facecolor = 'grey', alpha = 0.8, ax=axes, rwidth=1)\n",
    "\n",
    "axes.xaxis.set_minor_locator(AutoMinorLocator(2)) #used to set the number of minor ticks between major ticks\n",
    "plt.tick_params(which='major', width=1, length=5)\n",
    "plt.tick_params(which='minor', width=1, length=3)\n",
    "plt.grid(True, which='major')\n",
    "\n",
    "mean =plotdata['OPRatio'].mean()\n",
    "sd = plotdata['OPRatio'].std()\n",
    "\n",
    "x = np.linspace(0.9725, 1.0375, 100) # add normal distibution fit\n",
    "#plt.plot(x, mlab.normpdf(x,mean,sd), linewidth = 2, color='red')\n",
    "\n",
    "#plt.savefig('G7/G7_All_Hist.png', bbox_inches='tight', dpi=300)"
   ]
  },
  {
   "cell_type": "markdown",
   "metadata": {
    "collapsed": true
   },
   "source": [
    "#Get some more stats such as Mean, SD, Skew etc."
   ]
  },
  {
   "cell_type": "code",
   "execution_count": 9,
   "metadata": {
    "collapsed": false
   },
   "outputs": [
    {
     "name": "stdout",
     "output_type": "stream",
     "text": [
      "Skew\n",
      "-0.847934367388\n",
      "\n",
      "SEM\n",
      "0.000601994567468\n",
      "\n",
      "Mean\n",
      "0.999596776378\n",
      "\n",
      "SD\n",
      "0.00732357999688\n",
      "\n",
      "Skew Test\n",
      "(-3.8742949046260131, 0.00010693385700123162)\n"
     ]
    }
   ],
   "source": [
    "print('Skew')\n",
    "print(plotdata['OPRatio'].skew())\n",
    "print()\n",
    "print('SEM')\n",
    "print(plotdata['OPRatio'].sem())\n",
    "print()\n",
    "print('Mean')\n",
    "print(plotdata['OPRatio'].mean())\n",
    "print()\n",
    "print('SD')\n",
    "print(plotdata['OPRatio'].std())\n",
    "print()\n",
    "from scipy import stats\n",
    "print('Skew Test')\n",
    "print(stats.skewtest(plotdata['OPRatio']))"
   ]
  },
  {
   "cell_type": "markdown",
   "metadata": {},
   "source": [
    "#Plot of All Audits"
   ]
  },
  {
   "cell_type": "code",
   "execution_count": 10,
   "metadata": {
    "collapsed": false,
    "scrolled": true
   },
   "outputs": [
    {
     "data": {
      "text/html": [
       "<div style=\"max-height:1000px;max-width:1500px;overflow:auto;\">\n",
       "<table border=\"1\" class=\"dataframe\">\n",
       "  <thead>\n",
       "    <tr style=\"text-align: right;\">\n",
       "      <th></th>\n",
       "      <th>Round</th>\n",
       "      <th>Centre</th>\n",
       "      <th>Date</th>\n",
       "      <th>OPRatio</th>\n",
       "      <th>SD_Prev20</th>\n",
       "    </tr>\n",
       "  </thead>\n",
       "  <tbody>\n",
       "    <tr>\n",
       "      <th>5</th>\n",
       "      <td> 1</td>\n",
       "      <td> 6</td>\n",
       "      <td>1993-07-07</td>\n",
       "      <td> 0.987283</td>\n",
       "      <td>NaN</td>\n",
       "    </tr>\n",
       "    <tr>\n",
       "      <th>2</th>\n",
       "      <td> 1</td>\n",
       "      <td> 3</td>\n",
       "      <td>1993-08-25</td>\n",
       "      <td> 1.001176</td>\n",
       "      <td>NaN</td>\n",
       "    </tr>\n",
       "    <tr>\n",
       "      <th>0</th>\n",
       "      <td> 1</td>\n",
       "      <td> 1</td>\n",
       "      <td>1993-10-07</td>\n",
       "      <td> 1.005008</td>\n",
       "      <td>NaN</td>\n",
       "    </tr>\n",
       "    <tr>\n",
       "      <th>4</th>\n",
       "      <td> 1</td>\n",
       "      <td> 5</td>\n",
       "      <td>1993-11-04</td>\n",
       "      <td> 1.009018</td>\n",
       "      <td>NaN</td>\n",
       "    </tr>\n",
       "    <tr>\n",
       "      <th>1</th>\n",
       "      <td> 1</td>\n",
       "      <td> 2</td>\n",
       "      <td>1993-11-16</td>\n",
       "      <td> 1.011988</td>\n",
       "      <td>NaN</td>\n",
       "    </tr>\n",
       "  </tbody>\n",
       "</table>\n",
       "</div>"
      ],
      "text/plain": [
       "   Round  Centre       Date   OPRatio  SD_Prev20\n",
       "5      1       6 1993-07-07  0.987283        NaN\n",
       "2      1       3 1993-08-25  1.001176        NaN\n",
       "0      1       1 1993-10-07  1.005008        NaN\n",
       "4      1       5 1993-11-04  1.009018        NaN\n",
       "1      1       2 1993-11-16  1.011988        NaN"
      ]
     },
     "execution_count": 10,
     "metadata": {},
     "output_type": "execute_result"
    }
   ],
   "source": [
    "# Calculate rolling SD of 20 values\n",
    "\n",
    "data_datesort = plotdata.sort(['Date'], ascending=True) #Sort by date and energy and put into new dataframe\n",
    "#mv_data_datesort.append('SD_Prev20')\n",
    "\n",
    "m = data_datesort     # to allow shorter references to dataframes\n",
    "\n",
    "m['SD_Prev20'] = np.nan\n",
    "m['SD_Prev20'] = pd.rolling_std(m['OPRatio'],window=20)\n",
    "\n",
    "m.head()\n"
   ]
  },
  {
   "cell_type": "code",
   "execution_count": 11,
   "metadata": {
    "collapsed": false
   },
   "outputs": [
    {
     "data": {
      "image/png": "[encoded data removed]",
      "text/plain": [
       "<matplotlib.figure.Figure at 0x7c3a0b0>"
      ]
     },
     "metadata": {},
     "output_type": "display_data"
    }
   ],
   "source": [
    "#m = mv_data_datesort\n",
    "\n",
    "pylab.rcParams['figure.figsize'] = 10, 5 # change size of figures\n",
    "fig1 = plt.figure()\n",
    "axes1 = fig1.add_subplot(1,1,1)\n",
    "plt.title('Group 7 Audit Results')\n",
    "plt.xlabel(\"Audit Number\")\n",
    "plt.ylabel(\"OP Ratio (NPL:Host)\")\n",
    "plt.ylim(0.97, 1.03)\n",
    "axes1.xaxis.set_minor_locator(AutoMinorLocator(4)) #used to set the number of minor ticks between major ticks\n",
    "plt.tick_params(which='major', width=1, length=5)\n",
    "plt.tick_params(which='minor', width=1, length=3)\n",
    "plt.grid(True, which='major')\n",
    "\n",
    "x=np.arange(1,m['OPRatio'].count()+1)\n",
    "y=m['OPRatio']\n",
    "#yerr=(m['OPError']*m['OPRatio'])/100\n",
    "\n",
    "ysd=m['SD_Prev20']\n",
    "\n",
    "#plt.errorbar(x, y, ecolor='black')\n",
    "axes2=fig1.add_subplot(111, sharex=axes1, frameon=False)\n",
    "axes2.yaxis.tick_right()\n",
    "axes2.yaxis.set_label_position('right')\n",
    "plt.ylim(0, 0.012)\n",
    "plt.ylabel(\"SD (Previous 20)\")\n",
    "line2=axes2.plot(x,ysd, color='orange')\n",
    "line1=axes1.plot(x,y, '-x', color='blue')\n",
    "\n",
    "#plt.savefig('G7/G7_All_audits.png', bbox_inches='tight', dpi=300)"
   ]
  },
  {
   "cell_type": "markdown",
   "metadata": {},
   "source": [
    "Want to do the below with it split into groups, and also split into 5 year periods to see the variation with time. (Similar to Palmer paper...)"
   ]
  },
  {
   "cell_type": "code",
   "execution_count": 12,
   "metadata": {
    "collapsed": false
   },
   "outputs": [
    {
     "data": {
      "image/png": "[encoded data removed]",
      "text/plain": [
       "<matplotlib.figure.Figure at 0x7481df0>"
      ]
     },
     "metadata": {},
     "output_type": "display_data"
    }
   ],
   "source": [
    "# extract only Groups and OPRatio to allow simple box plot production \n",
    "#mv = mv_data_datesort[['Group', 'OPRatio']]\n",
    "\n",
    "# make a numpy array to use rather than pandas?\n",
    "#g = np.array(mv_data_datesort['Group'])\n",
    "#op = np.array(mv_data_datesort['OPRatio'])\n",
    "\n",
    "#m = mv_data_datesort\n",
    "\n",
    "g1 = m.loc[m['Round']==1, ['OPRatio']]\n",
    "g2 = m.loc[m['Round']==2, ['OPRatio']]\n",
    "g3 = m.loc[m['Round']==3, ['OPRatio']]\n",
    "g4 = m.loc[m['Round']==4, ['OPRatio']]\n",
    "g5 = m.loc[m['Round']==5, ['OPRatio']]\n",
    "g6 = m.loc[m['Round']==6, ['OPRatio']]\n",
    "g7 = m.loc[m['Round']==7, ['OPRatio']]\n",
    "g8 = m.loc[m['Round']==8, ['OPRatio']]\n",
    "g9 = m.loc[m['Round']==9, ['OPRatio']]\n",
    "g10 = m.loc[m['Round']==10, ['OPRatio']]\n",
    "g11 = m.loc[m['Round']==11, ['OPRatio']]\n",
    "g12 = m.loc[m['Round']==12, ['OPRatio']]\n",
    "g13 = m.loc[m['Round']==13, ['OPRatio']]\n",
    "g14 = m.loc[m['Round']==14, ['OPRatio']]\n",
    "\n",
    "grouped=[g1,g2,g3,g4,g5,g6,g7,g8,g9, g10, g11, g12, g13, g14] # this should be able to be done a bit easier without splitting it all up first.\n",
    "\n",
    "fig = plt.figure(1, figsize=(9,6))\n",
    "\n",
    "ax = fig.add_subplot(111)\n",
    "\n",
    "bp = ax.boxplot(grouped, whis='range', patch_artist=True, showmeans=True)\n",
    "plt.plot([-1,20],[1,1], linestyle='--', color='black', alpha=0.5) #add line at OPRatio=1\n",
    "plt.title('Group 7 Audit Results - Seperated by audit Round')\n",
    "plt.xlabel(\"Audit Round\")\n",
    "plt.ylabel(\"OP Ratio (Fc)\")\n",
    "plt.ylim(0.97,1.03)\n",
    "\n",
    "for box in bp['boxes']:\n",
    "    box.set(facecolor='lightgrey')\n",
    "    \n",
    "for whisker in bp['whiskers']:\n",
    "    whisker.set(linestyle='-', color='black') \n",
    "    \n",
    "for median in bp['medians']:\n",
    "    median.set(color='black')\n",
    "    \n",
    "for mean in bp['means']:\n",
    "    mean.set(marker='o', color='black', markerfacecolor='black')\n",
    "    \n",
    "#plt.savefig('G7/G7_All_Rounds.png', bbox_inches='tight', dpi=300)\n"
   ]
  },
  {
   "cell_type": "markdown",
   "metadata": {},
   "source": [
    "Plot all groups OP data as a sort of scatter plot (rather than use box plot?)"
   ]
  },
  {
   "cell_type": "code",
   "execution_count": 13,
   "metadata": {
    "collapsed": false
   },
   "outputs": [
    {
     "data": {
      "image/png": "[encoded data removed]",
      "text/plain": [
       "<matplotlib.figure.Figure at 0xc130850>"
      ]
     },
     "metadata": {},
     "output_type": "display_data"
    }
   ],
   "source": [
    "fig = plt.figure(1, figsize=(9,6))\n",
    "\n",
    "ax = fig.add_subplot(111)\n",
    "ax.set_xticks([1,2,3,4,5,6,7,8,9, 10, 11, 12, 13, 14])\n",
    "\n",
    "one = plt.plot([0,20],[1,1], '--', color='black', alpha=0.5) #add line for OPratio=1\n",
    "\n",
    "for i in range(0, len(grouped)):\n",
    "    scat = plt.plot(np.linspace(i+1,i+1,len(grouped[i])), grouped[i], u'o', color='black', alpha=0.5, linewidth=2)\n",
    "\n",
    "plt.xlim(0.5,14.5)\n",
    "plt.ylim(0.97,1.03)\n",
    "plt.title('Group 7 Audit Results - Seperated by Audit Round')\n",
    "plt.xlabel(\"Audit Round\")\n",
    "plt.ylabel(\"OP Ratio (Fc?)\")\n",
    "\n",
    "##### can add box plot over the top by uncommenting the below line\n",
    "\n",
    "#bp = ax.boxplot(grouped, whis='range', patch_artist=True, showmeans=True)\n",
    "\n",
    "for box in bp['boxes']:\n",
    "    box.set(facecolor='grey')\n",
    "    \n",
    "for whisker in bp['whiskers']:\n",
    "    whisker.set(linestyle='-', color='black') \n",
    "    \n",
    "for median in bp['medians']:\n",
    "    median.set(color='black')\n",
    "    \n",
    "for mean in bp['means']:\n",
    "    mean.set(marker='o', color='black', markerfacecolor='black')\n",
    "    \n",
    "#plt.savefig('G7/G7_All_Rounds_Scat.png', bbox_inches='tight', dpi=300)"
   ]
  },
  {
   "cell_type": "markdown",
   "metadata": {
    "collapsed": true
   },
   "source": [
    "   #Split data into 2 year intervals"
   ]
  },
  {
   "cell_type": "code",
   "execution_count": 14,
   "metadata": {
    "collapsed": false
   },
   "outputs": [
    {
     "data": {
      "text/html": [
       "<div style=\"max-height:1000px;max-width:1500px;overflow:auto;\">\n",
       "<table border=\"1\" class=\"dataframe\">\n",
       "  <thead>\n",
       "    <tr style=\"text-align: right;\">\n",
       "      <th></th>\n",
       "      <th></th>\n",
       "      <th>Centre</th>\n",
       "      <th>OPRatio</th>\n",
       "    </tr>\n",
       "    <tr>\n",
       "      <th>Round</th>\n",
       "      <th></th>\n",
       "      <th></th>\n",
       "      <th></th>\n",
       "    </tr>\n",
       "  </thead>\n",
       "  <tbody>\n",
       "    <tr>\n",
       "      <th rowspan=\"8\" valign=\"top\">1 </th>\n",
       "      <th>count</th>\n",
       "      <td> 10.000000</td>\n",
       "      <td> 10.000000</td>\n",
       "    </tr>\n",
       "    <tr>\n",
       "      <th>mean</th>\n",
       "      <td>  5.500000</td>\n",
       "      <td>  1.002249</td>\n",
       "    </tr>\n",
       "    <tr>\n",
       "      <th>std</th>\n",
       "      <td>  3.027650</td>\n",
       "      <td>  0.007395</td>\n",
       "    </tr>\n",
       "    <tr>\n",
       "      <th>min</th>\n",
       "      <td>  1.000000</td>\n",
       "      <td>  0.987283</td>\n",
       "    </tr>\n",
       "    <tr>\n",
       "      <th>25%</th>\n",
       "      <td>  3.250000</td>\n",
       "      <td>  0.998047</td>\n",
       "    </tr>\n",
       "    <tr>\n",
       "      <th>50%</th>\n",
       "      <td>  5.500000</td>\n",
       "      <td>  1.004003</td>\n",
       "    </tr>\n",
       "    <tr>\n",
       "      <th>75%</th>\n",
       "      <td>  7.750000</td>\n",
       "      <td>  1.007001</td>\n",
       "    </tr>\n",
       "    <tr>\n",
       "      <th>max</th>\n",
       "      <td> 10.000000</td>\n",
       "      <td>  1.011988</td>\n",
       "    </tr>\n",
       "    <tr>\n",
       "      <th rowspan=\"8\" valign=\"top\">2 </th>\n",
       "      <th>count</th>\n",
       "      <td> 11.000000</td>\n",
       "      <td> 11.000000</td>\n",
       "    </tr>\n",
       "    <tr>\n",
       "      <th>mean</th>\n",
       "      <td>  5.554545</td>\n",
       "      <td>  1.000124</td>\n",
       "    </tr>\n",
       "    <tr>\n",
       "      <th>std</th>\n",
       "      <td>  2.877973</td>\n",
       "      <td>  0.008870</td>\n",
       "    </tr>\n",
       "    <tr>\n",
       "      <th>min</th>\n",
       "      <td>  1.000000</td>\n",
       "      <td>  0.981156</td>\n",
       "    </tr>\n",
       "    <tr>\n",
       "      <th>25%</th>\n",
       "      <td>  3.500000</td>\n",
       "      <td>  0.996000</td>\n",
       "    </tr>\n",
       "    <tr>\n",
       "      <th>50%</th>\n",
       "      <td>  6.000000</td>\n",
       "      <td>  1.001995</td>\n",
       "    </tr>\n",
       "    <tr>\n",
       "      <th>75%</th>\n",
       "      <td>  7.500000</td>\n",
       "      <td>  1.006998</td>\n",
       "    </tr>\n",
       "    <tr>\n",
       "      <th>max</th>\n",
       "      <td> 10.000000</td>\n",
       "      <td>  1.009217</td>\n",
       "    </tr>\n",
       "    <tr>\n",
       "      <th rowspan=\"8\" valign=\"top\">3 </th>\n",
       "      <th>count</th>\n",
       "      <td> 10.000000</td>\n",
       "      <td> 10.000000</td>\n",
       "    </tr>\n",
       "    <tr>\n",
       "      <th>mean</th>\n",
       "      <td>  5.500000</td>\n",
       "      <td>  0.995467</td>\n",
       "    </tr>\n",
       "    <tr>\n",
       "      <th>std</th>\n",
       "      <td>  3.027650</td>\n",
       "      <td>  0.009188</td>\n",
       "    </tr>\n",
       "    <tr>\n",
       "      <th>min</th>\n",
       "      <td>  1.000000</td>\n",
       "      <td>  0.981000</td>\n",
       "    </tr>\n",
       "    <tr>\n",
       "      <th>25%</th>\n",
       "      <td>  3.250000</td>\n",
       "      <td>  0.988125</td>\n",
       "    </tr>\n",
       "    <tr>\n",
       "      <th>50%</th>\n",
       "      <td>  5.500000</td>\n",
       "      <td>  0.997488</td>\n",
       "    </tr>\n",
       "    <tr>\n",
       "      <th>75%</th>\n",
       "      <td>  7.750000</td>\n",
       "      <td>  1.002736</td>\n",
       "    </tr>\n",
       "    <tr>\n",
       "      <th>max</th>\n",
       "      <td> 10.000000</td>\n",
       "      <td>  1.007500</td>\n",
       "    </tr>\n",
       "    <tr>\n",
       "      <th rowspan=\"6\" valign=\"top\">4 </th>\n",
       "      <th>count</th>\n",
       "      <td> 11.000000</td>\n",
       "      <td> 11.000000</td>\n",
       "    </tr>\n",
       "    <tr>\n",
       "      <th>mean</th>\n",
       "      <td>  5.645455</td>\n",
       "      <td>  1.000457</td>\n",
       "    </tr>\n",
       "    <tr>\n",
       "      <th>std</th>\n",
       "      <td>  2.912512</td>\n",
       "      <td>  0.010550</td>\n",
       "    </tr>\n",
       "    <tr>\n",
       "      <th>min</th>\n",
       "      <td>  1.000000</td>\n",
       "      <td>  0.974000</td>\n",
       "    </tr>\n",
       "    <tr>\n",
       "      <th>25%</th>\n",
       "      <td>  3.500000</td>\n",
       "      <td>  0.998000</td>\n",
       "    </tr>\n",
       "    <tr>\n",
       "      <th>50%</th>\n",
       "      <td>  6.000000</td>\n",
       "      <td>  1.000000</td>\n",
       "    </tr>\n",
       "    <tr>\n",
       "      <th>...</th>\n",
       "      <th>...</th>\n",
       "      <td>...</td>\n",
       "      <td>...</td>\n",
       "    </tr>\n",
       "    <tr>\n",
       "      <th rowspan=\"6\" valign=\"top\">10</th>\n",
       "      <th>std</th>\n",
       "      <td>  3.075180</td>\n",
       "      <td>  0.005005</td>\n",
       "    </tr>\n",
       "    <tr>\n",
       "      <th>min</th>\n",
       "      <td>  1.000000</td>\n",
       "      <td>  0.988424</td>\n",
       "    </tr>\n",
       "    <tr>\n",
       "      <th>25%</th>\n",
       "      <td>  4.125000</td>\n",
       "      <td>  0.998000</td>\n",
       "    </tr>\n",
       "    <tr>\n",
       "      <th>50%</th>\n",
       "      <td>  5.550000</td>\n",
       "      <td>  1.000000</td>\n",
       "    </tr>\n",
       "    <tr>\n",
       "      <th>75%</th>\n",
       "      <td>  8.075000</td>\n",
       "      <td>  1.001880</td>\n",
       "    </tr>\n",
       "    <tr>\n",
       "      <th>max</th>\n",
       "      <td> 11.100000</td>\n",
       "      <td>  1.008000</td>\n",
       "    </tr>\n",
       "    <tr>\n",
       "      <th rowspan=\"8\" valign=\"top\">11</th>\n",
       "      <th>count</th>\n",
       "      <td> 18.000000</td>\n",
       "      <td> 18.000000</td>\n",
       "    </tr>\n",
       "    <tr>\n",
       "      <th>mean</th>\n",
       "      <td>  5.516667</td>\n",
       "      <td>  1.001990</td>\n",
       "    </tr>\n",
       "    <tr>\n",
       "      <th>std</th>\n",
       "      <td>  2.813884</td>\n",
       "      <td>  0.005538</td>\n",
       "    </tr>\n",
       "    <tr>\n",
       "      <th>min</th>\n",
       "      <td>  1.000000</td>\n",
       "      <td>  0.989000</td>\n",
       "    </tr>\n",
       "    <tr>\n",
       "      <th>25%</th>\n",
       "      <td>  3.025000</td>\n",
       "      <td>  0.999000</td>\n",
       "    </tr>\n",
       "    <tr>\n",
       "      <th>50%</th>\n",
       "      <td>  6.050000</td>\n",
       "      <td>  1.002175</td>\n",
       "    </tr>\n",
       "    <tr>\n",
       "      <th>75%</th>\n",
       "      <td>  8.075000</td>\n",
       "      <td>  1.006668</td>\n",
       "    </tr>\n",
       "    <tr>\n",
       "      <th>max</th>\n",
       "      <td>  9.100000</td>\n",
       "      <td>  1.009000</td>\n",
       "    </tr>\n",
       "    <tr>\n",
       "      <th rowspan=\"8\" valign=\"top\">12</th>\n",
       "      <th>count</th>\n",
       "      <td> 12.000000</td>\n",
       "      <td> 12.000000</td>\n",
       "    </tr>\n",
       "    <tr>\n",
       "      <th>mean</th>\n",
       "      <td>  7.291667</td>\n",
       "      <td>  1.000875</td>\n",
       "    </tr>\n",
       "    <tr>\n",
       "      <th>std</th>\n",
       "      <td>  2.191495</td>\n",
       "      <td>  0.007009</td>\n",
       "    </tr>\n",
       "    <tr>\n",
       "      <th>min</th>\n",
       "      <td>  3.000000</td>\n",
       "      <td>  0.984000</td>\n",
       "    </tr>\n",
       "    <tr>\n",
       "      <th>25%</th>\n",
       "      <td>  5.775000</td>\n",
       "      <td>  0.998500</td>\n",
       "    </tr>\n",
       "    <tr>\n",
       "      <th>50%</th>\n",
       "      <td>  7.550000</td>\n",
       "      <td>  1.002000</td>\n",
       "    </tr>\n",
       "    <tr>\n",
       "      <th>75%</th>\n",
       "      <td>  9.025000</td>\n",
       "      <td>  1.006607</td>\n",
       "    </tr>\n",
       "    <tr>\n",
       "      <th>max</th>\n",
       "      <td> 10.100000</td>\n",
       "      <td>  1.008000</td>\n",
       "    </tr>\n",
       "    <tr>\n",
       "      <th rowspan=\"8\" valign=\"top\">13</th>\n",
       "      <th>count</th>\n",
       "      <td> 13.000000</td>\n",
       "      <td> 13.000000</td>\n",
       "    </tr>\n",
       "    <tr>\n",
       "      <th>mean</th>\n",
       "      <td>  5.953846</td>\n",
       "      <td>  1.000537</td>\n",
       "    </tr>\n",
       "    <tr>\n",
       "      <th>std</th>\n",
       "      <td>  3.478653</td>\n",
       "      <td>  0.004126</td>\n",
       "    </tr>\n",
       "    <tr>\n",
       "      <th>min</th>\n",
       "      <td>  1.000000</td>\n",
       "      <td>  0.993000</td>\n",
       "    </tr>\n",
       "    <tr>\n",
       "      <th>25%</th>\n",
       "      <td>  3.000000</td>\n",
       "      <td>  0.998837</td>\n",
       "    </tr>\n",
       "    <tr>\n",
       "      <th>50%</th>\n",
       "      <td>  6.100000</td>\n",
       "      <td>  1.000000</td>\n",
       "    </tr>\n",
       "    <tr>\n",
       "      <th>75%</th>\n",
       "      <td>  8.100000</td>\n",
       "      <td>  1.004000</td>\n",
       "    </tr>\n",
       "    <tr>\n",
       "      <th>max</th>\n",
       "      <td> 11.000000</td>\n",
       "      <td>  1.007000</td>\n",
       "    </tr>\n",
       "  </tbody>\n",
       "</table>\n",
       "<p>96 rows × 2 columns</p>\n",
       "</div>"
      ],
      "text/plain": [
       "                Centre    OPRatio\n",
       "Round                            \n",
       "1     count  10.000000  10.000000\n",
       "      mean    5.500000   1.002249\n",
       "      std     3.027650   0.007395\n",
       "      min     1.000000   0.987283\n",
       "      25%     3.250000   0.998047\n",
       "      50%     5.500000   1.004003\n",
       "      75%     7.750000   1.007001\n",
       "      max    10.000000   1.011988\n",
       "2     count  11.000000  11.000000\n",
       "      mean    5.554545   1.000124\n",
       "      std     2.877973   0.008870\n",
       "      min     1.000000   0.981156\n",
       "      25%     3.500000   0.996000\n",
       "      50%     6.000000   1.001995\n",
       "      75%     7.500000   1.006998\n",
       "      max    10.000000   1.009217\n",
       "3     count  10.000000  10.000000\n",
       "      mean    5.500000   0.995467\n",
       "      std     3.027650   0.009188\n",
       "      min     1.000000   0.981000\n",
       "      25%     3.250000   0.988125\n",
       "      50%     5.500000   0.997488\n",
       "      75%     7.750000   1.002736\n",
       "      max    10.000000   1.007500\n",
       "4     count  11.000000  11.000000\n",
       "      mean    5.645455   1.000457\n",
       "      std     2.912512   0.010550\n",
       "      min     1.000000   0.974000\n",
       "      25%     3.500000   0.998000\n",
       "      50%     6.000000   1.000000\n",
       "...                ...        ...\n",
       "10    std     3.075180   0.005005\n",
       "      min     1.000000   0.988424\n",
       "      25%     4.125000   0.998000\n",
       "      50%     5.550000   1.000000\n",
       "      75%     8.075000   1.001880\n",
       "      max    11.100000   1.008000\n",
       "11    count  18.000000  18.000000\n",
       "      mean    5.516667   1.001990\n",
       "      std     2.813884   0.005538\n",
       "      min     1.000000   0.989000\n",
       "      25%     3.025000   0.999000\n",
       "      50%     6.050000   1.002175\n",
       "      75%     8.075000   1.006668\n",
       "      max     9.100000   1.009000\n",
       "12    count  12.000000  12.000000\n",
       "      mean    7.291667   1.000875\n",
       "      std     2.191495   0.007009\n",
       "      min     3.000000   0.984000\n",
       "      25%     5.775000   0.998500\n",
       "      50%     7.550000   1.002000\n",
       "      75%     9.025000   1.006607\n",
       "      max    10.100000   1.008000\n",
       "13    count  13.000000  13.000000\n",
       "      mean    5.953846   1.000537\n",
       "      std     3.478653   0.004126\n",
       "      min     1.000000   0.993000\n",
       "      25%     3.000000   0.998837\n",
       "      50%     6.100000   1.000000\n",
       "      75%     8.100000   1.004000\n",
       "      max    11.000000   1.007000\n",
       "\n",
       "[96 rows x 2 columns]"
      ]
     },
     "execution_count": 14,
     "metadata": {},
     "output_type": "execute_result"
    }
   ],
   "source": [
    "plotdata.groupby('Round').describe()\n"
   ]
  },
  {
   "cell_type": "markdown",
   "metadata": {
    "collapsed": true
   },
   "source": [
    "##Add some things ont eh end to see if it syncs with GitHub"
   ]
  },
  {
   "cell_type": "code",
   "execution_count": 17,
   "metadata": {
    "collapsed": false
   },
   "outputs": [
    {
     "data": {
      "image/png": "[encoded data removed]",
      "text/plain": [
       "<matplotlib.figure.Figure at 0xc12d8f0>"
      ]
     },
     "metadata": {},
     "output_type": "display_data"
    }
   ],
   "source": [
    "x = np.linspace(0, 10)\n",
    "line, = plt.plot(x, np.sin(x), '--', linewidth=2)\n",
    "\n",
    "dashes = [10, 5, 100, 5] # 10 points on, 5 off, 100 on, 5 off\n",
    "line.set_dashes(dashes)\n",
    "\n"
   ]
  },
  {
   "cell_type": "code",
   "execution_count": null,
   "metadata": {
    "collapsed": true
   },
   "outputs": [],
   "source": []
  }
 ],
 "metadata": {
  "kernelspec": {
   "display_name": "Python 3",
   "language": "python",
   "name": "python3"
  },
  "language_info": {
   "codemirror_mode": {
    "name": "ipython",
    "version": 3
   },
   "file_extension": ".py",
   "mimetype": "text/x-python",
   "name": "python",
   "nbconvert_exporter": "python",
   "pygments_lexer": "ipython3",
   "version": "3.4.3"
  }
 },
 "nbformat": 4,
 "nbformat_minor": 0
}
