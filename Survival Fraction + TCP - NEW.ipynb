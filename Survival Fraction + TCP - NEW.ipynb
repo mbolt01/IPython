{
 "cells": [
  {
   "cell_type": "markdown",
   "metadata": {},
   "source": [
    "#Calculation fo Survival Fraction and TCP for varying dose/frac\n",
    "Alpha (alpha/beta) will have a range of values\n"
   ]
  },
  {
   "cell_type": "markdown",
   "metadata": {},
   "source": [
    "LQ - Model for individual fraction for patient *p*:\n",
    "$$SF^p = exp(-\\alpha^p d - \\beta^p d^2)$$\n",
    "\n",
    "$$TCP^p = exp(-N^p_0 \\cdot S)$$\n",
    "$$TCP^p = exp(-N^p_0 \\cdot exp(-\\alpha^p d - \\beta^p d^2))$$\n",
    "\n",
    "After n fractions:\n",
    "$$SF^p_n = \\prod^n_0 exp(-\\alpha^p d_n - \\beta^p d_n^2)$$\n",
    "$$TCP^p_n = exp[-N^p_0 \\cdot \\prod^n_0 exp(-\\alpha^p d_n - \\beta^p d_n^2)]$$\n",
    "\n",
    "For P patients:\n",
    "$$TCP^p_n = \\frac{\\sum^P_p TCP^p_n}{P}$$\n",
    "."
   ]
  },
  {
   "cell_type": "markdown",
   "metadata": {},
   "source": [
    "## Import necessary modules\n",
    "Numpy for calcs\n",
    "Matplotlib for plotting"
   ]
  },
  {
   "cell_type": "code",
   "execution_count": 2,
   "metadata": {
    "collapsed": false
   },
   "outputs": [],
   "source": [
    "import numpy as np\n",
    "import matplotlib.pyplot as plt\n",
    "from IPython.html.widgets import FloatProgress\n",
    "from IPython.display import display\n",
    "%matplotlib qt\n",
    "# qt if plot in seperate window\n",
    "# inline if plot on page\n",
    "\n",
    "## Set the number of d.p. displayed in numpy arrays\n",
    "np.set_printoptions(precision=3)"
   ]
  },
  {
   "cell_type": "markdown",
   "metadata": {},
   "source": [
    "### Function to calculate an alpha/beta from a normal distribution\n",
    "User enters nominal alph/beta and SD\n",
    "Beta is constant at 0.03 (from lit)\n",
    "Returned is alpha\n",
    "\n",
    "####Maybe better to accept an alpha value and a SD...? As this is what is likely published in the lit? Could then remove beta completely?"
   ]
  },
  {
   "cell_type": "code",
   "execution_count": 3,
   "metadata": {
    "collapsed": false
   },
   "outputs": [],
   "source": [
    "def alphacalc(alphabeta = 10, sd = 2, beta = 0.03):\n",
    "    \"\"\"Return alphabetanew and alpha from normal distribution as specified by sd.\n",
    "    Default is alphabeta of 10, and sd of 2, beta = 0.03\n",
    "    If a negative value is returned it is resampled until positive\"\"\"\n",
    "    \n",
    "    ## fixed beta at 0.03 as default in function\n",
    "    \n",
    "    ## get alpha beta to use from normal distribution\n",
    "    if sd == 0:\n",
    "        alphabetanew = alphabeta\n",
    "    else:\n",
    "        alphabetanew=np.random.normal(loc = alphabeta, scale = sd)\n",
    "    \n",
    "    ## make sure a positive value is returned\n",
    "    while alphabetanew <= 0:\n",
    "        alphabetanew=np.random.normal(loc = alphabeta, scale = sd)\n",
    "    \n",
    "    alpha = beta*alphabetanew\n",
    "   \n",
    "    return alpha, beta\n",
    "## alpha/beta can be calced form the returned alpha and beta values"
   ]
  },
  {
   "cell_type": "markdown",
   "metadata": {},
   "source": [
    "###Function to give a dose per fraction drawn from a normal distribution"
   ]
  },
  {
   "cell_type": "code",
   "execution_count": 4,
   "metadata": {
    "collapsed": false
   },
   "outputs": [],
   "source": [
    "def fracdose(dose = 2, shift = 0, sd = 0):\n",
    "    \"\"\"Return dose_actual from normal distribution around dose (Gy) as specified by sd (%) and shift (%).\n",
    "    Default is dose = 2Gy, shift = 0%, and sd of 0%\n",
    "    If a negative value is returned it is resampled until positive\n",
    "    The standard deviation is of the nominal dose\"\"\"\n",
    "    \n",
    "    ## get actual dose to use from normal distribution based on shift\n",
    "    \n",
    "    dose_shift = dose + (dose*shift/100)\n",
    "    \n",
    "    ## if sd is zero, then no change to dose\n",
    "    if sd == 0:\n",
    "        dose_actual = dose_shift\n",
    "        return dose_actual\n",
    "    \n",
    "    dose_actual=np.random.normal(loc = dose_shift, scale = (dose*sd/100))\n",
    "    \n",
    "    ## make sure a positive value is returned\n",
    "    while dose_actual <= 0:\n",
    "        dose_actual=np.random.normal(loc = dose_shift, scale = (dose*sd/100))\n",
    "    \n",
    "    return dose_actual"
   ]
  },
  {
   "cell_type": "markdown",
   "metadata": {},
   "source": [
    "##Function to calculate SF"
   ]
  },
  {
   "cell_type": "code",
   "execution_count": 5,
   "metadata": {
    "collapsed": true
   },
   "outputs": [],
   "source": [
    "## Survival Fraction Calculation\n",
    "def SFcalc(alpha = 0.1, beta = 0.03, dose = 2):\n",
    "    \"\"\"Return the SF with input values.\n",
    "    Note this is for a single dose delivery.\n",
    "    The product of multiple fractions shoudld be taken\n",
    "    to give overall SF\"\"\"\n",
    "    \n",
    "    SF = np.exp(-(alpha*dose) - (beta*(dose**2)))\n",
    "    \n",
    "    return SF"
   ]
  },
  {
   "cell_type": "markdown",
   "metadata": {},
   "source": [
    "##Function to Calculate TCP from given SF and starting number of cells"
   ]
  },
  {
   "cell_type": "code",
   "execution_count": 6,
   "metadata": {
    "collapsed": true
   },
   "outputs": [],
   "source": [
    "## TCP Calculation absed on cumulative SF\n",
    "def TCPcalc(sf = 1E-9, n0=1E15):\n",
    "    \"\"\"Return the TCP with input values.\n",
    "    Based on cumulative SF and N0\"\"\"\n",
    "    \n",
    "    TCP = np.exp(-n0*sf)\n",
    "    \n",
    "    return TCP"
   ]
  },
  {
   "cell_type": "markdown",
   "metadata": {},
   "source": [
    "###Example plot of the different doses selected"
   ]
  },
  {
   "cell_type": "code",
   "execution_count": 7,
   "metadata": {
    "collapsed": false
   },
   "outputs": [
    {
     "name": "stdout",
     "output_type": "stream",
     "text": [
      "mean (Gy): 1.49991161387\n",
      "stdev (Gy): 0.200020929914\n"
     ]
    }
   ],
   "source": [
    "## Could get the doses for each fraction in one go. Then calc all the SF in one go, then the TCP\n",
    "dosevals = np.array([])\n",
    "for i in range(0,10000):\n",
    "    dosevals = np.append(dosevals,fracdose(dose = 2, shift=-25, sd=10))\n",
    "    \n",
    "#plt.hist(dosevals, bins=30)\n",
    "#plt.xlim(0,3)\n",
    "\n",
    "mean = np.mean(dosevals)\n",
    "stdev = np.std(dosevals)\n",
    "print(\"mean (Gy): \" + str(mean))\n",
    "print(\"stdev (Gy): \" + str(stdev))"
   ]
  },
  {
   "cell_type": "markdown",
   "metadata": {},
   "source": [
    "<a id='Start'></a>\n",
    "## Start of TCP calc\n",
    "#[Go to End](#Ending)"
   ]
  },
  {
   "cell_type": "markdown",
   "metadata": {},
   "source": [
    "### Define all Variables\n",
    "These should be passed to overall TCP function"
   ]
  },
  {
   "cell_type": "code",
   "execution_count": 29,
   "metadata": {
    "collapsed": true
   },
   "outputs": [],
   "source": [
    "## Number of patients\n",
    "n = 50\n",
    "\n",
    "## alpha/beta mean\n",
    "alphabeta_use = 10\n",
    "## alpha/beta standard deviation\n",
    "alphabeta_sd_use = 2\n",
    "\n",
    "## Dose per fraction (Gy)\n",
    "d = 2\n",
    "## Mean Dose shift (%)\n",
    "d_shift = 0\n",
    "## dose sd (%)\n",
    "d_sd = 1\n",
    "\n",
    "## Number of tumour cells\n",
    "n0 = 1E9\n",
    "\n",
    "## Define Max dose for calcs (Gy) - Generally this will stay fixed to maintain consistency between plots\n",
    "max_d= 100"
   ]
  },
  {
   "cell_type": "markdown",
   "metadata": {},
   "source": [
    "###Create an array containing fraction number and nominal dose"
   ]
  },
  {
   "cell_type": "code",
   "execution_count": 30,
   "metadata": {
    "collapsed": false
   },
   "outputs": [],
   "source": [
    "## Calc Number of fractions to get to max dose (round up as always want an integer)\n",
    "n_frac = np.ceil(max_d/d)\n",
    "\n",
    "fractions = np.arange(1,n_frac+1)\n",
    "#print(fractions)\n",
    "nom_doses = np.arange(d,(d*n_frac)+d, step = d)\n",
    "#print(nom_doses)"
   ]
  },
  {
   "cell_type": "markdown",
   "metadata": {},
   "source": [
    "###Create a results array containing the number of patients"
   ]
  },
  {
   "cell_type": "code",
   "execution_count": 31,
   "metadata": {
    "collapsed": false
   },
   "outputs": [],
   "source": [
    "## This gives a column with the patient number and makes it easier to check values as going\n",
    "patients = np.arange(0,n)+1\n",
    "patients.shape=(n,1)\n",
    "#print(patients)"
   ]
  },
  {
   "cell_type": "markdown",
   "metadata": {},
   "source": [
    "###Calculate and add alpha values to results array"
   ]
  },
  {
   "cell_type": "code",
   "execution_count": 32,
   "metadata": {
    "collapsed": false
   },
   "outputs": [],
   "source": [
    "## empty array to store alpha values in\n",
    "alpha_and_beta = np.array([])\n",
    "\n",
    "for p in range(0,n):\n",
    "    alpha_and_beta = np.append(alpha_and_beta,[alphacalc(alphabeta = alphabeta_use, sd=alphabeta_sd_use)])\n",
    "\n",
    "## reshape to get a row per patient\n",
    "alpha_and_beta = np.reshape(alpha_and_beta,(n,2))\n",
    "#print(alpha_and_beta)"
   ]
  },
  {
   "cell_type": "markdown",
   "metadata": {},
   "source": [
    "###Calculate a dose per fraction for each patient for x fractions"
   ]
  },
  {
   "cell_type": "code",
   "execution_count": 33,
   "metadata": {
    "collapsed": false
   },
   "outputs": [],
   "source": [
    "## Calculate Doses for all patients and all fractions\n",
    "doses = np.array([])\n",
    "for i in range(0,int(n*n_frac)):\n",
    "    doses = np.append(doses,fracdose(dose = d, shift=d_shift, sd=d_sd))\n",
    "doses = np.reshape(doses,(n,n_frac))\n",
    "#print(doses)"
   ]
  },
  {
   "cell_type": "code",
   "execution_count": 34,
   "metadata": {
    "collapsed": false
   },
   "outputs": [],
   "source": [
    "## Combine all results into single array which may be easier to work with for analysis\n",
    "results_wanted = (patients,alpha_and_beta, doses)\n",
    "all_results = np.concatenate(results_wanted, axis=1)\n",
    "#print(all_results)"
   ]
  },
  {
   "cell_type": "markdown",
   "metadata": {},
   "source": [
    "###Calc SF for all individual doses with corresponding alpha and then calcualte cumulative SF"
   ]
  },
  {
   "cell_type": "code",
   "execution_count": 35,
   "metadata": {
    "collapsed": false
   },
   "outputs": [],
   "source": [
    "## Loop through the doses of the first patient (first row [0] of array)\n",
    "\n",
    "SFs = np.array([])\n",
    "\n",
    "for i in range(0,len(patients)): # loop through each patient (row)\n",
    "    for j in range(0,int(n_frac)): # loop through each fraction for each patient (col)\n",
    "        SFs = np.append(SFs,SFcalc(alpha_and_beta[i][0],alpha_and_beta[i][1],doses[i,j]))\n",
    "    \n",
    "SFs = np.reshape(SFs,(n,n_frac))\n",
    "\n",
    "## GEt cumulative SF for each patient\n",
    "SF_cum = np.cumprod(SFs, axis=1)"
   ]
  },
  {
   "cell_type": "markdown",
   "metadata": {},
   "source": [
    "### Calculate TCP for individual patients and the population"
   ]
  },
  {
   "cell_type": "code",
   "execution_count": 36,
   "metadata": {
    "collapsed": false
   },
   "outputs": [],
   "source": [
    "## Calculate TCP for all individual patients and fractions\n",
    "TCPs = TCPcalc(sf = SF_cum, n0=n0)\n",
    "\n",
    "## Calculate population TCP by averaging down the columns\n",
    "TCP_pop = np.mean(TCPs, axis = 0)"
   ]
  },
  {
   "cell_type": "markdown",
   "metadata": {},
   "source": [
    "### Display plots of TCPs"
   ]
  },
  {
   "cell_type": "code",
   "execution_count": 38,
   "metadata": {
    "collapsed": false
   },
   "outputs": [],
   "source": [
    "## Plot of individual and population TCPs\n",
    "\n",
    "dose_of_interest = 64\n",
    "frac_of_interest = dose_of_interest/d\n",
    "\n",
    "## all individuals\n",
    "for i in range(0,len(TCPs)):\n",
    "    plt.plot(nom_doses,TCPs[i], color = 'grey', alpha = 0.5)\n",
    "## population\n",
    "plt.plot(nom_doses,TCP_pop, color='black', linewidth='2', label='Population TCP')\n",
    "\n",
    "## plot formatting\n",
    "plt.xlim(0,max(nom_doses))\n",
    "plt.ylim(0,1)\n",
    "plt.xlabel('Dose (Gy)')\n",
    "plt.ylabel('TCP')\n",
    "plt.title('TCPs')\n",
    "plt.legend(loc = 'best', fontsize = 'medium', framealpha = 1)\n",
    "plt.axvline(frac_of_interest*d, color = 'black', ls='--')\n",
    "\n",
    "plt.show()"
   ]
  },
  {
   "cell_type": "code",
   "execution_count": 39,
   "metadata": {
    "collapsed": false
   },
   "outputs": [],
   "source": [
    "## show the range of TCPs at a given fraction number (after a given nominal dose)\n",
    "\n",
    "plt.hist(TCPs[:,frac_of_interest-1], bins=50, color='grey')\n",
    "plt.show()\n",
    "#print(np.mean(TCPs[:,frac_of_interest-1]))\n",
    "\n",
    "## want to calcualte how the proportion that have TCP = 1.\n",
    "## Is this just the same as reading off the TCP_pop value?"
   ]
  },
  {
   "cell_type": "markdown",
   "metadata": {},
   "source": [
    "## Calculate Number of cured patients (TCP>0.999)"
   ]
  },
  {
   "cell_type": "code",
   "execution_count": 541,
   "metadata": {
    "collapsed": false
   },
   "outputs": [
    {
     "name": "stdout",
     "output_type": "stream",
     "text": [
      "Number of cured patients: 705 (70.5%)\n"
     ]
    }
   ],
   "source": [
    "TCPs_of_interest = TCPs[:,frac_of_interest-1]\n",
    "\n",
    "TCP_cure = (TCPs_of_interest > 0.5).sum()\n",
    "print('Number of cured patients: ' + str(TCP_cure) + ' (' + str(100*TCP_cure/n) + '%)')\n",
    "\n",
    "\n",
    "### For 1000 patient 70.5% have TCP>0.5 for 0 dose shift\n",
    "### This reduces to 64.7% for a -2% dose shift.\n",
    "### This means the gamma value is approx 3."
   ]
  },
  {
   "cell_type": "markdown",
   "metadata": {},
   "source": [
    "The plot above is the distribution of TCPs after 30 fractions\n",
    "It can be seen that most patients ahve a TCP of 1 or 0.\n",
    "This is due to the steep individual TCP curves.\n",
    "There is a very fine line between a patient being 'cured' or 'not cured'.\n",
    "So small changes in dose potentialy large impact on an individual patient."
   ]
  },
  {
   "cell_type": "markdown",
   "metadata": {},
   "source": [
    "## So Far...\n",
    "Have:\n",
    "- Patient number\n",
    "- Alpha\n",
    "- Beta (default value in function)\n",
    "- Dose per fraction for all fractions\n",
    "- SF after each fraction and cumulative\n",
    "- TCP Calculated from the Cumulative SF for each individual patient.\n",
    "- Array of fraction number and doses\n",
    "- Get overall TCP from average of all patients.\n",
    "- Plots of all TCPs\n",
    "\n",
    "To do:\n",
    "- Turn into large function?"
   ]
  },
  {
   "cell_type": "markdown",
   "metadata": {},
   "source": [
    "<a id='Ending'></a>\n",
    "\n",
    "##[Go to Start](#Start)"
   ]
  },
  {
   "cell_type": "markdown",
   "metadata": {},
   "source": [
    "### Experimenting with lognormal distribution\n",
    "More practical to use normal distribution as gradient unlikely ot be hugely different, and I am interested in the dose variaiton more than the a/b variation which will remain constant for the population."
   ]
  },
  {
   "cell_type": "code",
   "execution_count": 344,
   "metadata": {
    "collapsed": false
   },
   "outputs": [
    {
     "name": "stdout",
     "output_type": "stream",
     "text": [
      "10.02534237\n",
      "12.7001778168\n"
     ]
    },
    {
     "data": {
      "text/plain": [
       "(0, 8000)"
      ]
     },
     "execution_count": 344,
     "metadata": {},
     "output_type": "execute_result"
    },
    {
     "data": {
      "image/png": "[encoded data removed]",
      "text/plain": [
       "<matplotlib.figure.Figure at 0x8a4e350>"
      ]
     },
     "metadata": {},
     "output_type": "display_data"
    }
   ],
   "source": [
    "a = np.array([])\n",
    "b = np.array([])\n",
    "\n",
    "for i in range(0,10000):\n",
    "    a = np.append(a,np.random.normal(loc = 10, scale = 2))\n",
    "    b = np.append(b,np.random.lognormal(mean = np.log(10), sigma = np.log(2)))\n",
    "\n",
    "print(np.mean(a))\n",
    "print(np.mean(b))\n",
    "\n",
    "plt.hist(a, label='a', bins=100, alpha=0.5)\n",
    "plt.hist(b, label='b', bins=100, alpha=0.5)\n",
    "plt.legend()\n",
    "plt.xlim(0,50)\n",
    "plt.ylim(0,8000)"
   ]
  },
  {
   "cell_type": "code",
   "execution_count": null,
   "metadata": {
    "collapsed": true
   },
   "outputs": [],
   "source": []
  }
 ],
 "metadata": {
  "kernelspec": {
   "display_name": "Python 3",
   "language": "python",
   "name": "python3"
  },
  "language_info": {
   "codemirror_mode": {
    "name": "ipython",
    "version": 3
   },
   "file_extension": ".py",
   "mimetype": "text/x-python",
   "name": "python",
   "nbconvert_exporter": "python",
   "pygments_lexer": "ipython3",
   "version": "3.4.3"
  }
 },
 "nbformat": 4,
 "nbformat_minor": 0
}
