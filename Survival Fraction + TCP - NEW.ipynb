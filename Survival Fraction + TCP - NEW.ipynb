{
 "cells": [
  {
   "cell_type": "markdown",
   "metadata": {},
   "source": [
    "##[Go to Start](#Start)"
   ]
  },
  {
   "cell_type": "markdown",
   "metadata": {},
   "source": [
    "#Calculation fo Survival Fraction and TCP for varying dose/frac\n",
    "Alpha (alpha/beta) will have a range of values.\n"
   ]
  },
  {
   "cell_type": "markdown",
   "metadata": {},
   "source": [
    "LQ - Model for individual fraction for patient *p*:\n",
    "$$SF^p = exp(-\\alpha^p d - \\beta^p d^2)$$\n",
    "\n",
    "$$TCP^p = exp(-N^p_0 \\cdot S)$$\n",
    "$$TCP^p = exp(-N^p_0 \\cdot exp(-\\alpha^p d - \\beta^p d^2))$$\n",
    "\n",
    "After n fractions:\n",
    "$$SF^p_n = \\prod^n_0 exp(-\\alpha^p d_n - \\beta^p d_n^2)$$\n",
    "$$TCP^p_n = exp[-N^p_0 \\cdot \\prod^n_0 exp(-\\alpha^p d_n - \\beta^p d_n^2)]$$\n",
    "\n",
    "For P patients:\n",
    "$$TCP^p_n = \\frac{\\sum^P_p TCP^p_n}{P}$$\n",
    "."
   ]
  },
  {
   "cell_type": "markdown",
   "metadata": {},
   "source": [
    "## Import necessary modules\n",
    "Numpy for calcs\n",
    "Matplotlib for plotting"
   ]
  },
  {
   "cell_type": "code",
   "execution_count": 1,
   "metadata": {
    "collapsed": false
   },
   "outputs": [
    {
     "name": "stderr",
     "output_type": "stream",
     "text": [
      ":0: FutureWarning: IPython widgets are experimental and may change in the future.\n"
     ]
    }
   ],
   "source": [
    "import numpy as np\n",
    "import matplotlib.pyplot as plt\n",
    "from IPython.html.widgets import FloatProgress\n",
    "from IPython.display import display\n",
    "%matplotlib qt\n",
    "# qt if plot in seperate window\n",
    "# inline if plot on page\n",
    "\n",
    "## Set the number of d.p. displayed in numpy arrays\n",
    "np.set_printoptions(precision=3)"
   ]
  },
  {
   "cell_type": "markdown",
   "metadata": {},
   "source": [
    "### Function to calculate an alpha/beta from a normal distribution\n",
    "User enters nominal alph/beta and SD\n",
    "Beta is constant at 0.03 (from lit)\n",
    "Returned is alpha\n",
    "\n",
    "####Maybe better to accept an alpha value and a SD...? As this is what is likely published in the lit? Could then remove beta completely?"
   ]
  },
  {
   "cell_type": "code",
   "execution_count": 17,
   "metadata": {
    "collapsed": false
   },
   "outputs": [],
   "source": [
    "def alphacalc(alphabeta, sd):\n",
    "    \"\"\"Return alphabetanew and alpha from normal distribution as specified by sd.\n",
    "    Default is alphabeta of 10, and sd of 2, beta = 0.03\n",
    "    If a negative value is returned it is resampled until positive\"\"\"\n",
    "    \n",
    "    beta = 0.03\n",
    "    \n",
    "    ## fixed beta at 0.03 as default in function\n",
    "    \n",
    "    ## get alpha beta to use from normal distribution\n",
    "    if sd == 0:\n",
    "        alphabetanew = alphabeta\n",
    "    else:\n",
    "        alphabetanew=np.random.normal(loc = alphabeta, scale = sd)\n",
    "    \n",
    "    ## make sure a positive value is returned\n",
    "    while alphabetanew <= 0:\n",
    "        alphabetanew=np.random.normal(loc = alphabeta, scale = sd)\n",
    "    \n",
    "    alpha = beta*alphabetanew\n",
    "   \n",
    "    return alpha, beta\n",
    "## alpha/beta can be calced form the returned alpha and beta values"
   ]
  },
  {
   "cell_type": "markdown",
   "metadata": {},
   "source": [
    "###Function to give a dose per fraction drawn from a normal distribution"
   ]
  },
  {
   "cell_type": "code",
   "execution_count": 18,
   "metadata": {
    "collapsed": false
   },
   "outputs": [],
   "source": [
    "def fracdose(dose, d_shift, d_sd):\n",
    "    \"\"\"Return dose_actual from normal distribution around dose (Gy) as specified by sd (%) and shift (%).\n",
    "    Default is dose = 2Gy, shift = 0%, and sd of 0%\n",
    "    If a negative value is returned it is resampled until positive\n",
    "    The standard deviation is of the nominal dose\"\"\"\n",
    "    \n",
    "    ## get actual dose to use from normal distribution based on shift\n",
    "    \n",
    "    dose_shift = dose + (dose*shift/100)\n",
    "    \n",
    "    ## if sd is zero, then no change to dose\n",
    "    if sd == 0:\n",
    "        dose_actual = dose_shift\n",
    "        return dose_actual\n",
    "    \n",
    "    dose_actual=np.random.normal(loc = dose_shift, scale = (dose*sd/100))\n",
    "    \n",
    "    ## make sure a positive value is returned\n",
    "    while dose_actual <= 0:\n",
    "        dose_actual=np.random.normal(loc = dose_shift, scale = (dose*sd/100))\n",
    "    \n",
    "    return dose_actual"
   ]
  },
  {
   "cell_type": "markdown",
   "metadata": {},
   "source": [
    "##Function to calculate SF"
   ]
  },
  {
   "cell_type": "code",
   "execution_count": 19,
   "metadata": {
    "collapsed": true
   },
   "outputs": [],
   "source": [
    "## Survival Fraction Calculation\n",
    "def SFcalc(alpha, beta, dose):\n",
    "    \"\"\"Return the SF with input values.\n",
    "    Note this is for a single dose delivery.\n",
    "    The product of multiple fractions shoudld be taken\n",
    "    to give overall SF\"\"\"\n",
    "    \n",
    "    SF = np.exp(-(alpha*dose) - (beta*(dose**2)))\n",
    "    \n",
    "    return SF"
   ]
  },
  {
   "cell_type": "markdown",
   "metadata": {},
   "source": [
    "##Function to Calculate TCP from given SF and starting number of cells"
   ]
  },
  {
   "cell_type": "code",
   "execution_count": 20,
   "metadata": {
    "collapsed": true
   },
   "outputs": [],
   "source": [
    "## TCP Calculation absed on cumulative SF\n",
    "def TCPcalc(sf, n0):\n",
    "    \"\"\"Return the TCP with input values.\n",
    "    Based on cumulative SF and N0\"\"\"\n",
    "    \n",
    "    TCP = np.exp(-n0*sf)\n",
    "    \n",
    "    return TCP"
   ]
  },
  {
   "cell_type": "markdown",
   "metadata": {},
   "source": [
    "#### Functions to allow defining of input parameters"
   ]
  },
  {
   "cell_type": "code",
   "execution_count": 41,
   "metadata": {
    "collapsed": false
   },
   "outputs": [],
   "source": [
    "def population_details(n, alphabeta_use, alphabeta_sd_use):\n",
    "    \n",
    "    ## number of patients in population\n",
    "    n = n\n",
    "    \n",
    "    ## alpha/beta mean\n",
    "    alphabeta_use = alphabeta_use\n",
    "    \n",
    "    ## alpha/beta standard deviation\n",
    "    alphabeta_sd_use = alphabeta_sd_use\n",
    "    \n",
    "    return n, alphabeta_use, alphabeta_sd_use\n",
    "\n",
    "\n",
    "def dose_details(d, d_shift, d_sd):\n",
    "    \n",
    "    ## Dose per fraction (Gy)\n",
    "    d = d\n",
    "    ## Mean Dose shift (%)\n",
    "    d_shift = d_shift\n",
    "    ## dose sd (%)\n",
    "    d_sd = d_sd\n",
    "    \n",
    "    return d, d_shift, d_sd\n",
    "\n",
    "\n",
    "def calc_details(n0, max_d, dose_of_interest):\n",
    "    \n",
    "    ## Initial Number of tumour cells (or density)\n",
    "    n0 = n0\n",
    "    \n",
    "    ## Define Max dose for calcs (Gy) - Generally this will stay fixed to maintain consistency between plots\n",
    "    max_d = max_d\n",
    "    \n",
    "    ## dose level at which to extract statistics\n",
    "    dose_of_interest = dose_of_interest\n",
    "    \n",
    "    return n0, max_d, dose_of_interest"
   ]
  },
  {
   "cell_type": "markdown",
   "metadata": {},
   "source": [
    "####Function to Create an array containing fraction number and nominal dose"
   ]
  },
  {
   "cell_type": "code",
   "execution_count": 22,
   "metadata": {
    "collapsed": false
   },
   "outputs": [],
   "source": [
    "## Calc Number of fractions to get to max dose (note: round up as always want an integer)\n",
    "\n",
    "def no_frac_nom_doses_array(max_d, d):\n",
    "    n_frac = np.ceil(max_d/d)\n",
    "\n",
    "    fractions = np.arange(1,n_frac+1)\n",
    "    #print(fractions)\n",
    "    nom_doses = np.arange(d,(d*n_frac)+d, step = d)\n",
    "    #print(nom_doses)\n",
    "    return fractions, nom_doses, n_frac"
   ]
  },
  {
   "cell_type": "markdown",
   "metadata": {},
   "source": [
    "####Function to Create a results array containing the number of patients"
   ]
  },
  {
   "cell_type": "code",
   "execution_count": 23,
   "metadata": {
    "collapsed": false
   },
   "outputs": [],
   "source": [
    "## This gives a column with the patient number and makes it easier to check values as going\n",
    "\n",
    "def create_patients(n):\n",
    "    \n",
    "    patients = np.arange(0,n)+1\n",
    "    patients.shape=(n,1)\n",
    "    #print(patients)\n",
    "    return patients"
   ]
  },
  {
   "cell_type": "markdown",
   "metadata": {},
   "source": [
    "#### Functoin to Calculate and add alpha values to results array"
   ]
  },
  {
   "cell_type": "code",
   "execution_count": 24,
   "metadata": {
    "collapsed": false
   },
   "outputs": [],
   "source": [
    "## empty array to store alpha values in\n",
    "\n",
    "def create_alpha_beta_array(n, alphabeta_use, alpbeta_sd_use):\n",
    "    alpha_and_beta = np.array([])\n",
    "\n",
    "    for p in range(0,n):\n",
    "        alpha_and_beta = np.append(alpha_and_beta,[alphacalc(alphabeta = alphabeta_use, sd=alphabeta_sd_use)])\n",
    "\n",
    "    ## reshape to get a row per patient\n",
    "    alpha_and_beta = np.reshape(alpha_and_beta,(n,2))\n",
    "    #print(alpha_and_beta)\n",
    "    return alpha_and_beta"
   ]
  },
  {
   "cell_type": "markdown",
   "metadata": {},
   "source": [
    "#### Function to Calculate a dose per fraction for each patient for x fractions"
   ]
  },
  {
   "cell_type": "code",
   "execution_count": 25,
   "metadata": {
    "collapsed": false
   },
   "outputs": [],
   "source": [
    "## Calculate Doses for all patients and all fractions\n",
    "\n",
    "def doses_array(n, n_frac, d, d_shift, d_sd):\n",
    "    doses = np.array([])\n",
    "    for i in range(0,int(n*n_frac)):\n",
    "        doses = np.append(doses,fracdose(dose = d, shift=d_shift, sd=d_sd))\n",
    "    doses = np.reshape(doses,(n,n_frac))\n",
    "    #print(doses)\n",
    "    return doses"
   ]
  },
  {
   "cell_type": "markdown",
   "metadata": {},
   "source": [
    "#### Function to combine all useful results arrays into single array"
   ]
  },
  {
   "cell_type": "code",
   "execution_count": 26,
   "metadata": {
    "collapsed": false
   },
   "outputs": [],
   "source": [
    "## Combine all results into single array which may be easier to work with for analysis\n",
    "\n",
    "def combine_results(patients, alpha_and_beta, doses):\n",
    "    results_wanted = (patients,alpha_and_beta, doses)\n",
    "    all_results = np.concatenate(results_wanted, axis=1)\n",
    "    #print(all_results)\n",
    "    return all_results"
   ]
  },
  {
   "cell_type": "markdown",
   "metadata": {},
   "source": [
    "####Function to Calc SF for all individual doses with corresponding alpha and then calculate cumulative SF"
   ]
  },
  {
   "cell_type": "code",
   "execution_count": 27,
   "metadata": {
    "collapsed": false
   },
   "outputs": [],
   "source": [
    "## Loop through the doses of the first patient (first row [0] of array)\n",
    "\n",
    "def calc_all_SFs(patients, n, n_frac, alpha_and_beta, doses):\n",
    "    SFs = np.array([])\n",
    "\n",
    "    for i in range(0,len(patients)): # loop through each patient (row)\n",
    "        for j in range(0,int(n_frac)): # loop through each fraction for each patient (col)\n",
    "            SFs = np.append(SFs,SFcalc(alpha_and_beta[i][0],alpha_and_beta[i][1],doses[i,j]))\n",
    "\n",
    "    SFs = np.reshape(SFs,(n,n_frac))\n",
    "\n",
    "    ## GEt cumulative SF for each patient\n",
    "    SF_cum = np.cumprod(SFs, axis=1)\n",
    "    return SFs, SF_cum"
   ]
  },
  {
   "cell_type": "markdown",
   "metadata": {},
   "source": [
    "<a id='Start'></a>\n",
    "## Start of TCP calc\n",
    "#[Go to End](#Ending)"
   ]
  },
  {
   "cell_type": "markdown",
   "metadata": {},
   "source": [
    "## Use created functions to calcualte population TCP from patient population"
   ]
  },
  {
   "cell_type": "code",
   "execution_count": 28,
   "metadata": {
    "collapsed": true
   },
   "outputs": [],
   "source": [
    "## Progress bar widget\n",
    "from IPython.html.widgets import FloatProgress\n",
    "from IPython.display import display"
   ]
  },
  {
   "cell_type": "code",
   "execution_count": 29,
   "metadata": {
    "collapsed": true
   },
   "outputs": [],
   "source": [
    "## allow timing of events\n",
    "import time\n",
    "\n",
    "## allow export of results as csv\n",
    "import csv"
   ]
  },
  {
   "cell_type": "code",
   "execution_count": 43,
   "metadata": {
    "collapsed": false
   },
   "outputs": [
    {
     "ename": "NameError",
     "evalue": "name 'num' is not defined",
     "output_type": "error",
     "traceback": [
      "\u001b[1;31m---------------------------------------------------------------------------\u001b[0m",
      "\u001b[1;31mNameError\u001b[0m                                 Traceback (most recent call last)",
      "\u001b[1;32m<ipython-input-43-d9fd7fdad722>\u001b[0m in \u001b[0;36m<module>\u001b[1;34m()\u001b[0m\n\u001b[0;32m     63\u001b[0m     \u001b[1;32mreturn\u001b[0m \u001b[0mnum\u001b[0m\u001b[1;33m,\u001b[0m \u001b[0mTCP_cure_percent\u001b[0m\u001b[1;33m\u001b[0m\u001b[0m\n\u001b[0;32m     64\u001b[0m \u001b[1;33m\u001b[0m\u001b[0m\n\u001b[1;32m---> 65\u001b[1;33m \u001b[0mprint\u001b[0m\u001b[1;33m(\u001b[0m\u001b[0mnum\u001b[0m\u001b[1;33m)\u001b[0m\u001b[1;33m\u001b[0m\u001b[0m\n\u001b[0m",
      "\u001b[1;31mNameError\u001b[0m: name 'num' is not defined"
     ]
    }
   ],
   "source": [
    "#### Parameters to be used in TCP calcs\n",
    "\n",
    "## make into a crude function for repeated use?\n",
    "\n",
    "def TCPmulticalcer():\n",
    "    #t_start = time.time()\n",
    "\n",
    "    ## patient population\n",
    "    n, alphabeta_use, alphabeta_sd_use = population_details(n=500,\n",
    "                                                            alphabeta_use = 10,\n",
    "                                                            alphabeta_sd_use = 2)\n",
    "    ## dose delivery variation\n",
    "    d, d_shift, d_sd = dose_details(d = 2,\n",
    "                                    d_shift = 1,\n",
    "                                    d_sd = 0)\n",
    "\n",
    "    ## TCP calc params\n",
    "    n0, max_d, dose_of_interest = calc_details(n0 = 1E9,\n",
    "                                               max_d = 100,\n",
    "                                               dose_of_interest = 74)\n",
    "\n",
    "    ##### Only the code above should need altering to vary parameters\n",
    "\n",
    "    ## Calc Number of fractions and nominal dose per fraction to get to max dose\n",
    "    fractions, nom_doses, n_frac = no_frac_nom_doses_array(max_d,d)\n",
    "\n",
    "    ## create array containing number of patients in population\n",
    "    patients = create_patients(n)\n",
    "\n",
    "    ## Creat array of alpha and veta values for each patient\n",
    "    alpha_and_beta = create_alpha_beta_array(n, alphabeta_use, alphabeta_sd_use)\n",
    "\n",
    "    ## array of doses after each fraction for each patient\n",
    "    doses = doses_array(n, n_frac, d, d_shift, d_sd)\n",
    "\n",
    "    ## put all results in an array with a patient on each row\n",
    "    all_results = combine_results(patients, alpha_and_beta, doses)\n",
    "\n",
    "    ## Calc cumulative SF for all patients (also return individual fraction SFs)\n",
    "    SFs, SF_cum = calc_all_SFs(patients, n, n_frac, alpha_and_beta, doses)\n",
    "\n",
    "    ## Calculate TCP for all individual patients and fractions\n",
    "    TCPs = TCPcalc(sf = SF_cum, n0=n0)\n",
    "\n",
    "    ## Calculate population TCP by averaging down the columns\n",
    "    TCP_pop = np.mean(TCPs, axis = 0)\n",
    "\n",
    "    frac_of_interest = dose_of_interest/d\n",
    "\n",
    "    TCP_at_dose_of_interest = TCP_pop[frac_of_interest-1]\n",
    "\n",
    "    #t_end = time.time()\n",
    "\n",
    "    #t_total = t_end-t_start\n",
    "    #print(str(round(t_total,2)) + ' secs for ' + str(n) + ' patients')\n",
    "\n",
    "    TCPs_of_interest = TCPs[:,frac_of_interest-1]\n",
    "\n",
    "    TCP_cure = (TCPs_of_interest).sum()\n",
    "    TCP_cure_percent = 100*TCP_cure/n\n",
    "    #print('Number of cured patients: ' + str(TCP_cure) + ' (' + str(TCP_cure_percent) + '%)')\n",
    "    \n",
    "    return n, TCP_cure_percent\n",
    "\n",
    "print(n)"
   ]
  },
  {
   "cell_type": "code",
   "execution_count": 37,
   "metadata": {
    "collapsed": false
   },
   "outputs": [
    {
     "ename": "NameError",
     "evalue": "name 'n' is not defined",
     "output_type": "error",
     "traceback": [
      "\u001b[1;31m---------------------------------------------------------------------------\u001b[0m",
      "\u001b[1;31mNameError\u001b[0m                                 Traceback (most recent call last)",
      "\u001b[1;32m<ipython-input-37-16275b5c3eca>\u001b[0m in \u001b[0;36m<module>\u001b[1;34m()\u001b[0m\n\u001b[0;32m     11\u001b[0m \u001b[1;33m\u001b[0m\u001b[0m\n\u001b[0;32m     12\u001b[0m \u001b[1;31m## include parameters used to ensure correct in tabulated results\u001b[0m\u001b[1;33m\u001b[0m\u001b[1;33m\u001b[0m\u001b[0m\n\u001b[1;32m---> 13\u001b[1;33m \u001b[0mresults_array\u001b[0m \u001b[1;33m=\u001b[0m \u001b[0mnp\u001b[0m\u001b[1;33m.\u001b[0m\u001b[0mappend\u001b[0m\u001b[1;33m(\u001b[0m\u001b[0mresults_array\u001b[0m\u001b[1;33m,\u001b[0m\u001b[0mn\u001b[0m\u001b[1;33m)\u001b[0m\u001b[1;33m\u001b[0m\u001b[0m\n\u001b[0m\u001b[0;32m     14\u001b[0m \u001b[0mresults_array\u001b[0m \u001b[1;33m=\u001b[0m \u001b[0mnp\u001b[0m\u001b[1;33m.\u001b[0m\u001b[0mappend\u001b[0m\u001b[1;33m(\u001b[0m\u001b[0mresults_array\u001b[0m\u001b[1;33m,\u001b[0m\u001b[0mk\u001b[0m\u001b[1;33m)\u001b[0m\u001b[1;33m\u001b[0m\u001b[0m\n\u001b[0;32m     15\u001b[0m \u001b[0mresults_array\u001b[0m \u001b[1;33m=\u001b[0m \u001b[0mnp\u001b[0m\u001b[1;33m.\u001b[0m\u001b[0mappend\u001b[0m\u001b[1;33m(\u001b[0m\u001b[0mresults_array\u001b[0m\u001b[1;33m,\u001b[0m\u001b[0malphabeta_use\u001b[0m\u001b[1;33m)\u001b[0m\u001b[1;33m\u001b[0m\u001b[0m\n",
      "\u001b[1;31mNameError\u001b[0m: name 'n' is not defined"
     ]
    }
   ],
   "source": [
    "k = 20 ## number of repeats\n",
    "\n",
    "t_start = time.time()\n",
    "\n",
    "## for progres bar display\n",
    "f = FloatProgress(min=0, max=k-1)\n",
    "display(f)\n",
    "\n",
    "## Create array for storing results\n",
    "results_array = np.array([])\n",
    "\n",
    "## include parameters used to ensure correct in tabulated results\n",
    "results_array = np.append(results_array,n)\n",
    "results_array = np.append(results_array,k)\n",
    "results_array = np.append(results_array,alphabeta_use)\n",
    "results_array = np.append(results_array,alphabeta_sd_use)\n",
    "results_array = np.append(results_array,d)\n",
    "results_array = np.append(results_array,d_shift)\n",
    "results_array = np.append(results_array,d_sd)\n",
    "results_array = np.append(results_array,n0)\n",
    "results_array = np.append(results_array,max_d)\n",
    "results_array = np.append(results_array,dose_of_interest)\n",
    "results_array = np.append(results_array,frac_of_interest)\n",
    "\n",
    "for i in range(0,k):\n",
    "    TCP_cure_percent = TCPmulticalcer()\n",
    "    results_array = np.append(results_array,TCP_cure_percent)\n",
    "    f.value = i # for updating progress bar\n",
    "    \n",
    "#results_array = np.reshape(results_array,(k,1))\n",
    "\n",
    "t_end = time.time()\n",
    "t_total = t_end-t_start\n",
    "\n",
    "#print('Time taken for ' + str(k) + ' repeats of ' + str(n) + ' patients is ' + str(round(t_total,2)) + 'secs')\n",
    "#print(results_array)\n",
    "\n",
    "## Append results to CSV file\n",
    "saveTCPasCSV(filename = 'TCPresults.csv')\n",
    "\n",
    "print('Completed and saved')\n"
   ]
  },
  {
   "cell_type": "code",
   "execution_count": 127,
   "metadata": {
    "collapsed": false
   },
   "outputs": [
    {
     "data": {
      "text/plain": [
       "0.5"
      ]
     },
     "execution_count": 127,
     "metadata": {},
     "output_type": "execute_result"
    }
   ],
   "source": [
    "d_sd\n"
   ]
  },
  {
   "cell_type": "code",
   "execution_count": 119,
   "metadata": {
    "collapsed": false
   },
   "outputs": [],
   "source": [
    "## append results to text file.\n",
    "\n",
    "def saveTCPasCSV(filename):\n",
    "    ar = results_array\n",
    "\n",
    "    fl = open(filename, 'a', newline='\\n')\n",
    "\n",
    "    writer = csv.writer(fl)\n",
    "    writer.writerow(ar)\n",
    "\n",
    "    fl.close()"
   ]
  },
  {
   "cell_type": "markdown",
   "metadata": {},
   "source": [
    "## Calculate Number of cured patients (TCP>0.999)\n",
    "\n",
    "This agrees with the TCP from the plot"
   ]
  },
  {
   "cell_type": "code",
   "execution_count": 25,
   "metadata": {
    "collapsed": false
   },
   "outputs": [],
   "source": [
    "##made into crude function for multiple use in loops\n",
    "\n",
    "\n",
    "    \n",
    "\n",
    "### For 1000 patient 70.5% have TCP>0.5 for 0 dose shift\n",
    "### This reduces to 64.7% for a -2% dose shift.\n",
    "### This means the gamma value is approx 3."
   ]
  },
  {
   "cell_type": "markdown",
   "metadata": {},
   "source": [
    "## Display Plot of TCPs"
   ]
  },
  {
   "cell_type": "code",
   "execution_count": 22,
   "metadata": {
    "collapsed": false
   },
   "outputs": [],
   "source": [
    "## Plot of individual and population TCPs\n",
    "    \n",
    "no_ind_plots = 50\n",
    "\n",
    "## individual plots cannot be more than total patients\n",
    "if(no_ind_plots>n):\n",
    "    no_ind_plots=n\n",
    "\n",
    "## want to select the individual plots randomly from those calcualted...\n",
    "ind_plots = np.random.choice(len(TCPs),no_ind_plots, replace=False)\n",
    "\n",
    "## individuals (specified number of plots chosen)\n",
    "for i in ind_plots:\n",
    "    plt.plot(nom_doses,TCPs[i], color = 'grey', alpha = 0.5)\n",
    "## population\n",
    "plt.plot(nom_doses,TCP_pop, color='black', linewidth='2', label='Population TCP')\n",
    "\n",
    "## plot formatting\n",
    "plt.xlim(0,max(nom_doses))\n",
    "plt.ylim(0,1.0)\n",
    "plt.xlabel('Dose (Gy)')\n",
    "plt.ylabel('TCP')\n",
    "plt.title('TCPs')\n",
    "plt.legend(loc = 'best', fontsize = 'medium', framealpha = 1)\n",
    "plt.axvline(dose_of_interest, color = 'black', ls='--',)\n",
    "plt.axhline(TCP_pop[frac_of_interest-1], color='black', ls='--')\n",
    "\n",
    "## add labels with TCP at dose of interest\n",
    "text_string = ('Pop. TCP = ' + str(round(TCP_at_dose_of_interest,4)) + ' at ' + str(dose_of_interest) + 'Gy')\n",
    "plt.text(5,0.3,text_string, backgroundcolor='white')\n",
    "\n",
    "plt.show()"
   ]
  },
  {
   "cell_type": "markdown",
   "metadata": {},
   "source": [
    "### Get population TCP at dose of interest\n",
    "\n",
    "Want to repeat this for a number of populations to enable calcualtion of the potential spread of the TCP"
   ]
  },
  {
   "cell_type": "markdown",
   "metadata": {},
   "source": [
    "## Histogram to display spread of TCP for all patients at dose of interest"
   ]
  },
  {
   "cell_type": "code",
   "execution_count": 17,
   "metadata": {
    "collapsed": false
   },
   "outputs": [],
   "source": [
    "## show the range of TCPs at a given fraction number (after a given nominal dose)\n",
    "\n",
    "plt.hist(TCPs[:,frac_of_interest-1], bins=50, color='grey')\n",
    "plt.show()\n",
    "#print(np.mean(TCPs[:,frac_of_interest-1]))\n",
    "\n",
    "## want to calcualte how the proportion that have TCP = 1.\n",
    "## Is this just the same as reading off the TCP_pop value?"
   ]
  },
  {
   "cell_type": "markdown",
   "metadata": {},
   "source": [
    "###Example plot of the different doses selected"
   ]
  },
  {
   "cell_type": "code",
   "execution_count": 82,
   "metadata": {
    "collapsed": false
   },
   "outputs": [
    {
     "name": "stdout",
     "output_type": "stream",
     "text": [
      "mean (Gy): 1.50178621074\n",
      "stdev (Gy): 0.201194338306\n"
     ]
    }
   ],
   "source": [
    "## Could get the doses for each fraction in one go. Then calc all the SF in one go, then the TCP\n",
    "dosevals = np.array([])\n",
    "for i in range(0,10000):\n",
    "    dosevals = np.append(dosevals,fracdose(dose = 2, shift=-25, sd=10))\n",
    "    \n",
    "plt.hist(dosevals, bins=30)\n",
    "plt.xlim(0,3)\n",
    "\n",
    "mean = np.mean(dosevals)\n",
    "stdev = np.std(dosevals)\n",
    "print(\"mean (Gy): \" + str(mean))\n",
    "print(\"stdev (Gy): \" + str(stdev))"
   ]
  },
  {
   "cell_type": "markdown",
   "metadata": {},
   "source": [
    "The plot above is the distribution of TCPs after 30 fractions\n",
    "It can be seen that most patients ahve a TCP of 1 or 0.\n",
    "This is due to the steep individual TCP curves.\n",
    "There is a very fine line between a patient being 'cured' or 'not cured'.\n",
    "So small changes in dose potentialy large impact on an individual patient."
   ]
  },
  {
   "cell_type": "markdown",
   "metadata": {},
   "source": [
    "## So Far...\n",
    "Have:\n",
    "- Patient number\n",
    "- Alpha\n",
    "- Beta (default value in function)\n",
    "- Dose per fraction for all fractions\n",
    "- SF after each fraction and cumulative\n",
    "- TCP Calculated from the Cumulative SF for each individual patient.\n",
    "- Array of fraction number and doses\n",
    "- Get overall TCP from average of all patients.\n",
    "- Plots of all TCPs\n",
    "\n",
    "To do:\n",
    "- Turn into large function?"
   ]
  },
  {
   "cell_type": "markdown",
   "metadata": {},
   "source": [
    "<a id='Ending'></a>\n",
    "\n",
    "##[Go to Start](#Start)"
   ]
  },
  {
   "cell_type": "markdown",
   "metadata": {},
   "source": [
    "### Experimenting with lognormal distribution\n",
    "More practical to use normal distribution as gradient unlikely ot be hugely different, and I am interested in the dose variaiton more than the a/b variation which will remain constant for the population."
   ]
  },
  {
   "cell_type": "code",
   "execution_count": null,
   "metadata": {
    "collapsed": false
   },
   "outputs": [],
   "source": [
    "a = np.array([])\n",
    "b = np.array([])\n",
    "\n",
    "for i in range(0,10000):\n",
    "    a = np.append(a,np.random.normal(loc = 10, scale = 2))\n",
    "    b = np.append(b,np.random.lognormal(mean = np.log(10), sigma = np.log(2)))\n",
    "\n",
    "print(np.mean(a))\n",
    "print(np.mean(b))\n",
    "\n",
    "plt.hist(a, label='a', bins=100, alpha=0.5)\n",
    "plt.hist(b, label='b', bins=100, alpha=0.5)\n",
    "plt.legend()\n",
    "plt.xlim(0,50)\n",
    "plt.ylim(0,8000)"
   ]
  },
  {
   "cell_type": "code",
   "execution_count": null,
   "metadata": {
    "collapsed": true
   },
   "outputs": [],
   "source": []
  }
 ],
 "metadata": {
  "kernelspec": {
   "display_name": "Python 3",
   "language": "python",
   "name": "python3"
  },
  "language_info": {
   "codemirror_mode": {
    "name": "ipython",
    "version": 3
   },
   "file_extension": ".py",
   "mimetype": "text/x-python",
   "name": "python",
   "nbconvert_exporter": "python",
   "pygments_lexer": "ipython3",
   "version": "3.4.3"
  }
 },
 "nbformat": 4,
 "nbformat_minor": 0
}
