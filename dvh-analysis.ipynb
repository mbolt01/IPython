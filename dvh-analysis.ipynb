{
 "cells": [
  {
   "cell_type": "markdown",
   "metadata": {},
   "source": [
    "## PARSPORT DVH Analysis\n",
    "DVHs are stored in excel files for each patient.\n",
    "These will be imported into a pandas multilevel database for manipulation.\n",
    "Should be able to pull out all 'r_parotid' dvh's for example.\n",
    "\n",
    "Notes:\n",
    "- Each patient spreadsheet has one tab containing relative (%) data, one containing abolute (cc) data."
   ]
  },
  {
   "cell_type": "code",
   "execution_count": 2,
   "metadata": {
    "collapsed": false
   },
   "outputs": [],
   "source": [
    "import pandas as pd\n",
    "import numpy as np\n",
    "import matplotlib.pyplot as plt\n",
    "%matplotlib inline\n",
    "#qt\n",
    "#import os\n",
    "#cwd = os.getcwd()"
   ]
  },
  {
   "cell_type": "code",
   "execution_count": 13,
   "metadata": {
    "collapsed": false
   },
   "outputs": [
    {
     "data": {
      "text/html": [
       "<div>\n",
       "<table border=\"1\" class=\"dataframe\">\n",
       "  <thead>\n",
       "    <tr>\n",
       "      <th>pt_id</th>\n",
       "      <th colspan=\"5\" halign=\"left\">1001</th>\n",
       "      <th colspan=\"4\" halign=\"left\">1002</th>\n",
       "      <th>1003</th>\n",
       "      <th>...</th>\n",
       "      <th>6003</th>\n",
       "      <th colspan=\"3\" halign=\"left\">6004</th>\n",
       "      <th colspan=\"3\" halign=\"left\">6005</th>\n",
       "      <th colspan=\"3\" halign=\"left\">6006</th>\n",
       "    </tr>\n",
       "    <tr>\n",
       "      <th>side</th>\n",
       "      <th colspan=\"5\" halign=\"left\">right</th>\n",
       "      <th colspan=\"4\" halign=\"left\">bilat</th>\n",
       "      <th>bilat</th>\n",
       "      <th>...</th>\n",
       "      <th>left</th>\n",
       "      <th colspan=\"3\" halign=\"left\">left</th>\n",
       "      <th colspan=\"3\" halign=\"left\">left</th>\n",
       "      <th colspan=\"3\" halign=\"left\">left</th>\n",
       "    </tr>\n",
       "    <tr>\n",
       "      <th>side_dif</th>\n",
       "      <th colspan=\"5\" halign=\"left\">-21.99190852</th>\n",
       "      <th colspan=\"4\" halign=\"left\">-37.32848122</th>\n",
       "      <th>-13.5860905</th>\n",
       "      <th>...</th>\n",
       "      <th>11.93829139</th>\n",
       "      <th colspan=\"3\" halign=\"left\">38.41823644</th>\n",
       "      <th colspan=\"3\" halign=\"left\">3.022384226</th>\n",
       "      <th colspan=\"3\" halign=\"left\">4.303579758</th>\n",
       "    </tr>\n",
       "    <tr>\n",
       "      <th>type</th>\n",
       "      <th colspan=\"5\" halign=\"left\">conformal</th>\n",
       "      <th colspan=\"4\" halign=\"left\">imrt</th>\n",
       "      <th>conformal</th>\n",
       "      <th>...</th>\n",
       "      <th>imrt</th>\n",
       "      <th colspan=\"3\" halign=\"left\">imrt</th>\n",
       "      <th colspan=\"3\" halign=\"left\">conformal</th>\n",
       "      <th colspan=\"3\" halign=\"left\">conformal</th>\n",
       "    </tr>\n",
       "    <tr>\n",
       "      <th>structure</th>\n",
       "      <th>dose_(cgy)</th>\n",
       "      <th>cord</th>\n",
       "      <th>l_parotid</th>\n",
       "      <th>r_parotid</th>\n",
       "      <th>pharynx</th>\n",
       "      <th>dose_(cgy)</th>\n",
       "      <th>r_parotid</th>\n",
       "      <th>l_parotid</th>\n",
       "      <th>pharynx</th>\n",
       "      <th>dose_(cgy)</th>\n",
       "      <th>...</th>\n",
       "      <th>r_parotid</th>\n",
       "      <th>dose_(cgy)</th>\n",
       "      <th>l_parotid</th>\n",
       "      <th>r_parotid</th>\n",
       "      <th>dose_(cgy)</th>\n",
       "      <th>l_parotid</th>\n",
       "      <th>r_parotid</th>\n",
       "      <th>dose_(cgy)</th>\n",
       "      <th>l_parotid</th>\n",
       "      <th>r_parotid</th>\n",
       "    </tr>\n",
       "  </thead>\n",
       "  <tbody>\n",
       "    <tr>\n",
       "      <th>0</th>\n",
       "      <td>0.0</td>\n",
       "      <td>100.0</td>\n",
       "      <td>100.0</td>\n",
       "      <td>100.0</td>\n",
       "      <td>100.0</td>\n",
       "      <td>0.0</td>\n",
       "      <td>100.0</td>\n",
       "      <td>100.0</td>\n",
       "      <td>100.0</td>\n",
       "      <td>0.0</td>\n",
       "      <td>...</td>\n",
       "      <td>100.0</td>\n",
       "      <td>0.0</td>\n",
       "      <td>100.0</td>\n",
       "      <td>100.0</td>\n",
       "      <td>0.0</td>\n",
       "      <td>100.0</td>\n",
       "      <td>100.0</td>\n",
       "      <td>0.0</td>\n",
       "      <td>100.0</td>\n",
       "      <td>100.0</td>\n",
       "    </tr>\n",
       "    <tr>\n",
       "      <th>1</th>\n",
       "      <td>1.0</td>\n",
       "      <td>100.0</td>\n",
       "      <td>100.0</td>\n",
       "      <td>100.0</td>\n",
       "      <td>100.0</td>\n",
       "      <td>1.0</td>\n",
       "      <td>100.0</td>\n",
       "      <td>100.0</td>\n",
       "      <td>100.0</td>\n",
       "      <td>1.0</td>\n",
       "      <td>...</td>\n",
       "      <td>100.0</td>\n",
       "      <td>1.0</td>\n",
       "      <td>100.0</td>\n",
       "      <td>100.0</td>\n",
       "      <td>1.0</td>\n",
       "      <td>100.0</td>\n",
       "      <td>100.0</td>\n",
       "      <td>1.0</td>\n",
       "      <td>100.0</td>\n",
       "      <td>100.0</td>\n",
       "    </tr>\n",
       "    <tr>\n",
       "      <th>2</th>\n",
       "      <td>2.0</td>\n",
       "      <td>100.0</td>\n",
       "      <td>100.0</td>\n",
       "      <td>100.0</td>\n",
       "      <td>100.0</td>\n",
       "      <td>2.0</td>\n",
       "      <td>100.0</td>\n",
       "      <td>100.0</td>\n",
       "      <td>100.0</td>\n",
       "      <td>2.0</td>\n",
       "      <td>...</td>\n",
       "      <td>100.0</td>\n",
       "      <td>2.0</td>\n",
       "      <td>100.0</td>\n",
       "      <td>100.0</td>\n",
       "      <td>2.0</td>\n",
       "      <td>100.0</td>\n",
       "      <td>100.0</td>\n",
       "      <td>2.0</td>\n",
       "      <td>100.0</td>\n",
       "      <td>100.0</td>\n",
       "    </tr>\n",
       "    <tr>\n",
       "      <th>3</th>\n",
       "      <td>3.0</td>\n",
       "      <td>100.0</td>\n",
       "      <td>100.0</td>\n",
       "      <td>100.0</td>\n",
       "      <td>100.0</td>\n",
       "      <td>3.0</td>\n",
       "      <td>100.0</td>\n",
       "      <td>100.0</td>\n",
       "      <td>100.0</td>\n",
       "      <td>3.0</td>\n",
       "      <td>...</td>\n",
       "      <td>100.0</td>\n",
       "      <td>3.0</td>\n",
       "      <td>100.0</td>\n",
       "      <td>100.0</td>\n",
       "      <td>3.0</td>\n",
       "      <td>100.0</td>\n",
       "      <td>100.0</td>\n",
       "      <td>3.0</td>\n",
       "      <td>100.0</td>\n",
       "      <td>100.0</td>\n",
       "    </tr>\n",
       "    <tr>\n",
       "      <th>4</th>\n",
       "      <td>4.0</td>\n",
       "      <td>100.0</td>\n",
       "      <td>100.0</td>\n",
       "      <td>100.0</td>\n",
       "      <td>100.0</td>\n",
       "      <td>4.0</td>\n",
       "      <td>100.0</td>\n",
       "      <td>100.0</td>\n",
       "      <td>100.0</td>\n",
       "      <td>4.0</td>\n",
       "      <td>...</td>\n",
       "      <td>100.0</td>\n",
       "      <td>4.0</td>\n",
       "      <td>100.0</td>\n",
       "      <td>100.0</td>\n",
       "      <td>4.0</td>\n",
       "      <td>100.0</td>\n",
       "      <td>100.0</td>\n",
       "      <td>4.0</td>\n",
       "      <td>100.0</td>\n",
       "      <td>100.0</td>\n",
       "    </tr>\n",
       "  </tbody>\n",
       "</table>\n",
       "<p>5 rows × 259 columns</p>\n",
       "</div>"
      ],
      "text/plain": [
       "pt_id             1001                                            1002  \\\n",
       "side             right                                           bilat   \n",
       "side_dif  -21.99190852                                    -37.32848122   \n",
       "type         conformal                                            imrt   \n",
       "structure   dose_(cgy)   cord l_parotid r_parotid pharynx   dose_(cgy)   \n",
       "0                  0.0  100.0     100.0     100.0   100.0          0.0   \n",
       "1                  1.0  100.0     100.0     100.0   100.0          1.0   \n",
       "2                  2.0  100.0     100.0     100.0   100.0          2.0   \n",
       "3                  3.0  100.0     100.0     100.0   100.0          3.0   \n",
       "4                  4.0  100.0     100.0     100.0   100.0          4.0   \n",
       "\n",
       "pt_id                                        1003    ...           6003  \\\n",
       "side                                        bilat    ...           left   \n",
       "side_dif                              -13.5860905    ...    11.93829139   \n",
       "type                                    conformal    ...           imrt   \n",
       "structure r_parotid l_parotid pharynx  dose_(cgy)    ...      r_parotid   \n",
       "0             100.0     100.0   100.0         0.0    ...          100.0   \n",
       "1             100.0     100.0   100.0         1.0    ...          100.0   \n",
       "2             100.0     100.0   100.0         2.0    ...          100.0   \n",
       "3             100.0     100.0   100.0         3.0    ...          100.0   \n",
       "4             100.0     100.0   100.0         4.0    ...          100.0   \n",
       "\n",
       "pt_id            6004                            6005                      \\\n",
       "side             left                            left                       \n",
       "side_dif  38.41823644                     3.022384226                       \n",
       "type             imrt                       conformal                       \n",
       "structure  dose_(cgy) l_parotid r_parotid  dose_(cgy) l_parotid r_parotid   \n",
       "0                 0.0     100.0     100.0         0.0     100.0     100.0   \n",
       "1                 1.0     100.0     100.0         1.0     100.0     100.0   \n",
       "2                 2.0     100.0     100.0         2.0     100.0     100.0   \n",
       "3                 3.0     100.0     100.0         3.0     100.0     100.0   \n",
       "4                 4.0     100.0     100.0         4.0     100.0     100.0   \n",
       "\n",
       "pt_id            6006                      \n",
       "side             left                      \n",
       "side_dif  4.303579758                      \n",
       "type        conformal                      \n",
       "structure  dose_(cgy) l_parotid r_parotid  \n",
       "0                 0.0     100.0     100.0  \n",
       "1                 1.0     100.0     100.0  \n",
       "2                 2.0     100.0     100.0  \n",
       "3                 3.0     100.0     100.0  \n",
       "4                 4.0     100.0     100.0  \n",
       "\n",
       "[5 rows x 259 columns]"
      ]
     },
     "execution_count": 13,
     "metadata": {},
     "output_type": "execute_result"
    }
   ],
   "source": [
    "## read in full dataset\n",
    "\n",
    "full = False\n",
    "\n",
    "if full:\n",
    "    df = pd.read_pickle(r\"C:\\Users\\mb22\\OneDrive\\PhD\\Quasar Shared\\Modelling\\IPython\\Data to Import\\parsport\\dvhs_single_file\\parsport_dvh_all_sides_pkl.pkl\")\n",
    "else:\n",
    "    file_to_load = r\"C:\\Users\\mb22\\OneDrive\\PhD\\Quasar Shared\\Modelling\\IPython\\Data to Import\\parsport\\dvhs_single_file\\parsport_dvh_update_16Sep16.pkl\"\n",
    "    df = pd.read_pickle(file_to_load)\n",
    "#df = pd.read_hdf(r\"C:\\Users\\mb22\\OneDrive\\PhD\\Quasar Shared\\Modelling\\IPython\\Data to Import\\parsport\\dvhs_single_file\\parsport_dvh_all_sides_hdf.hdf5\")\n",
    "#df.to_pickle(r\"C:\\Users\\mb22\\OneDrive\\PhD\\Quasar Shared\\Modelling\\IPython\\Data to Import\\parsport\\dvhs_single_file\\parsport_dvh_all_sides_pkl.pkl\")\n",
    "df.head()"
   ]
  },
  {
   "cell_type": "code",
   "execution_count": 4,
   "metadata": {
    "collapsed": true
   },
   "outputs": [],
   "source": [
    "## save df as csv file to add in additional headers?\n",
    "#df.to_csv(r\"C:\\Users\\mb22\\OneDrive\\PhD\\Quasar Shared\\Modelling\\IPython\\Data to Import\\parsport\\dvhs_single_file\\parsport_dvh_all_sides_csv1.csv\")"
   ]
  },
  {
   "cell_type": "code",
   "execution_count": 14,
   "metadata": {
    "collapsed": false
   },
   "outputs": [],
   "source": [
    "## for importing a csv file after editing.\n",
    "#file = r\"C:\\Users\\mb22\\OneDrive\\PhD\\Quasar Shared\\Modelling\\IPython\\Data to Import\\parsport\\dvhs_single_file\\parsport_dvh_all_sides_csv1.csv\"\n",
    "# \n",
    "#header_rows = [0,1,2,3,4] # rows containing header info\n",
    "#df_load = pd.read_csv(file,header=header_rows, index_col=0)\n",
    "#df_load.head()"
   ]
  },
  {
   "cell_type": "code",
   "execution_count": 15,
   "metadata": {
    "collapsed": false
   },
   "outputs": [],
   "source": [
    "## Create list of all dvh files in specified directory for analysis\n",
    "#path = \"Data to Import/parsport/dvhs_sorted/\"\n",
    "#filenames = os.listdir(path)\n",
    "#fullpath = [path + s for s in filenames]\n",
    "#filenames[0:3]\n",
    "#fullpath[0:5]"
   ]
  },
  {
   "cell_type": "code",
   "execution_count": 16,
   "metadata": {
    "collapsed": false
   },
   "outputs": [],
   "source": [
    "## create filename and apth variable ready to import\n",
    "\n",
    "# file_type = 'hdf'\n",
    "\n",
    "# if file_type == 'excel':\n",
    "#     file_all_data_final = \"Data to Import\\parsport\\dvhs_single_file\\parsport_dvh_all_final.xlsx\"\n",
    "#     print(file_all_data_final)\n",
    "# elif file_type == 'csv':\n",
    "#     file_all_data_final = \"Data to Import\\parsport\\dvhs_single_file\\parsport_dvh_all_final_csv.csv\"\n",
    "#     print(file_all_data_final)\n",
    "# elif file_type == 'pickle':\n",
    "#     file_all_data_final = \"Data to Import\\parsport\\dvhs_single_file\\parsport_dvh_all_final_pickle.pickle\"\n",
    "#     print(file_all_data_final)\n",
    "# elif file_type == 'hdf':\n",
    "#     file_all_data_final = \"Data to Import\\parsport\\dvhs_single_file\\parsport_dvh_all_final_hdf5.hdf5\"\n",
    "#     print(file_all_data_final)\n",
    "# else:\n",
    "#     print(\"Specify correct filetype to continue with import\")"
   ]
  },
  {
   "cell_type": "code",
   "execution_count": 17,
   "metadata": {
    "collapsed": false
   },
   "outputs": [],
   "source": [
    "## Import into dataframe\n",
    "\n",
    "# if file_type == 'excel':\n",
    "#     df = pd.read_excel(file_all_data_final)\n",
    "# elif file_type == 'csv':\n",
    "#     df = pd.read_csv(file_all_data_final)\n",
    "# elif file_type == 'pickle':\n",
    "#     df = pd.read_pickle(file_all_data_final)\n",
    "# elif file_type == 'hdf':\n",
    "#     df = pd.read_hdf(file_all_data_final)\n",
    "# else:\n",
    "#     print(\"Specify correct filetype to continue with import\")\n",
    "\n",
    "# df.rename(columns={'1011_r_parotidgland': '1011_r_parotid',\n",
    "#                    '1011_l_parotidgland': '1011_l_parotid',\n",
    "#                    '1012_il_r_parotid': '1012_r_parotid'},\n",
    "#           inplace=True)\n",
    "\n",
    "# df = df.rename(columns=lambda x: x.replace('1037sg', '1037'))\n",
    "# df = df.rename(columns=lambda x: x.replace('1038sg', '1038'))"
   ]
  },
  {
   "cell_type": "code",
   "execution_count": 18,
   "metadata": {
    "collapsed": false
   },
   "outputs": [],
   "source": [
    "### Save the dataframe if required. - Already have the whoel thing saved using this.\n",
    "#df.to_hdf(r\"C:\\Users\\mb22\\OneDrive\\PhD\\Quasar Shared\\Modelling\\IPython\\Data to Import\\parsport\\dvhs_single_file\\parsport_dvh_all_final.hdf5\",\"parsport_all\", mode =\"w\", format='t')"
   ]
  },
  {
   "cell_type": "code",
   "execution_count": 19,
   "metadata": {
    "collapsed": false
   },
   "outputs": [],
   "source": [
    "## all data in format than cannot be queried on import\n",
    "#file_all_data_final = \"Data to Import\\parsport\\dvhs_single_file\\parsport_dvh_all_final_hdf5-headings.hdf5\"\n",
    "\n",
    "#file_to_use = 'small' # or 'full'\n",
    "#file_to_use = 'full'\n",
    "#\n",
    "#if file_to_use == 'full':\n",
    "#    \n",
    "#    ## all data in format than can be queried on import\n",
    "#    file_all_data_final = \"Data to Import\\parsport\\dvhs_single_file\\parsport_dvh_all_final.hdf5\"\n",
    "#    df = pd.read_hdf(file_all_data_final)\n",
    "#else:\n",
    "#    ## smaller dataset to work with only containing parotid and some other things\n",
    "#    file_all_data_final = \"Data to Import\\parsport\\dvhs_single_file\\parsport_dvh_small.pkl\"\n",
    "#    df = pd.read_pickle(file_all_data_final)\n",
    "#\n",
    "## single patient set to use for testing\n",
    "#file_all_data_final = \"Data to Import\\parsport\\dvhs_single_file\\parsport_dvh_1001_only.hdf5\" \n",
    "#\n",
    "#df.head()#.describe()"
   ]
  },
  {
   "cell_type": "code",
   "execution_count": 16,
   "metadata": {
    "collapsed": false
   },
   "outputs": [],
   "source": [
    "## create dataframe with only dose_(cgy), l_parotid,r_parotid,pharynx,ptv1\n",
    "\n",
    "run_this = False\n",
    "\n",
    "if run_this == True:\n",
    "    include_structs = ['dose_(cgy)','cord','l_parotid','r_parotid','pharynx'] ## Structures (columns) to exclude. Could do with axis=0 to exclude rows\n",
    "\n",
    "    ## select single structure for all patients\n",
    "    #df_structs = df.xs('r_parotid', level='structure',axis=1, drop_level=False)\n",
    "\n",
    "    ## select single structure form single patient\n",
    "    #df_structs = df.xs(('1002','r_parotid'), level=('pt_id','structure'), axis=1)\n",
    "\n",
    "    ## select multiple structures from all patients\n",
    "    df_structs = df.ix[:,df.columns.get_level_values('structure').isin(include_structs)]\n",
    "    # this is providing a tuple for each level. First level is all (:), then second level says its in the list \n",
    "\n",
    "    #data.ix[:,data.columns.get_level_values(1).isin({\"a\", \"c\"})]\n",
    "\n",
    "    df_structs.head()\n",
    "\n",
    "    ## save as pickle file\n",
    "    df_structs.to_pickle(r\"C:\\Users\\mb22\\OneDrive\\PhD\\Quasar Shared\\Modelling\\IPython\\Data to Import\\parsport\\dvhs_single_file\\parsport_dvh_all_sides_pkl_small.pkl\")"
   ]
  },
  {
   "cell_type": "markdown",
   "metadata": {},
   "source": [
    "### Add a column which indicates if l_parotid or r_parotid has the greatest dose\n",
    "- Maximum point dose?\n",
    "- Maximum dose ata  given %vol?\n",
    "- Mean dose?\n",
    "- How to do this for all the patients?\n",
    "\n",
    "- loop through each patient?"
   ]
  },
  {
   "cell_type": "code",
   "execution_count": 20,
   "metadata": {
    "collapsed": false
   },
   "outputs": [
    {
     "data": {
      "text/html": [
       "<div>\n",
       "<table border=\"1\" class=\"dataframe\">\n",
       "  <thead>\n",
       "    <tr>\n",
       "      <th>pt_id</th>\n",
       "      <th colspan=\"5\" halign=\"left\">1001</th>\n",
       "      <th colspan=\"4\" halign=\"left\">1002</th>\n",
       "      <th>1003</th>\n",
       "      <th>...</th>\n",
       "      <th>6003</th>\n",
       "      <th colspan=\"3\" halign=\"left\">6004</th>\n",
       "      <th colspan=\"3\" halign=\"left\">6005</th>\n",
       "      <th colspan=\"3\" halign=\"left\">6006</th>\n",
       "    </tr>\n",
       "    <tr>\n",
       "      <th>side</th>\n",
       "      <th colspan=\"5\" halign=\"left\">right</th>\n",
       "      <th colspan=\"4\" halign=\"left\">bilat</th>\n",
       "      <th>bilat</th>\n",
       "      <th>...</th>\n",
       "      <th>left</th>\n",
       "      <th colspan=\"3\" halign=\"left\">left</th>\n",
       "      <th colspan=\"3\" halign=\"left\">left</th>\n",
       "      <th colspan=\"3\" halign=\"left\">left</th>\n",
       "    </tr>\n",
       "    <tr>\n",
       "      <th>side_dif</th>\n",
       "      <th colspan=\"5\" halign=\"left\">-21.99190852</th>\n",
       "      <th colspan=\"4\" halign=\"left\">-37.32848122</th>\n",
       "      <th>-13.5860905</th>\n",
       "      <th>...</th>\n",
       "      <th>11.93829139</th>\n",
       "      <th colspan=\"3\" halign=\"left\">38.41823644</th>\n",
       "      <th colspan=\"3\" halign=\"left\">3.022384226</th>\n",
       "      <th colspan=\"3\" halign=\"left\">4.303579758</th>\n",
       "    </tr>\n",
       "    <tr>\n",
       "      <th>type</th>\n",
       "      <th colspan=\"5\" halign=\"left\">conformal</th>\n",
       "      <th colspan=\"4\" halign=\"left\">imrt</th>\n",
       "      <th>conformal</th>\n",
       "      <th>...</th>\n",
       "      <th>imrt</th>\n",
       "      <th colspan=\"3\" halign=\"left\">imrt</th>\n",
       "      <th colspan=\"3\" halign=\"left\">conformal</th>\n",
       "      <th colspan=\"3\" halign=\"left\">conformal</th>\n",
       "    </tr>\n",
       "    <tr>\n",
       "      <th>structure</th>\n",
       "      <th>dose_(cgy)</th>\n",
       "      <th>cord</th>\n",
       "      <th>l_parotid</th>\n",
       "      <th>r_parotid</th>\n",
       "      <th>pharynx</th>\n",
       "      <th>dose_(cgy)</th>\n",
       "      <th>r_parotid</th>\n",
       "      <th>l_parotid</th>\n",
       "      <th>pharynx</th>\n",
       "      <th>dose_(cgy)</th>\n",
       "      <th>...</th>\n",
       "      <th>r_parotid</th>\n",
       "      <th>dose_(cgy)</th>\n",
       "      <th>l_parotid</th>\n",
       "      <th>r_parotid</th>\n",
       "      <th>dose_(cgy)</th>\n",
       "      <th>l_parotid</th>\n",
       "      <th>r_parotid</th>\n",
       "      <th>dose_(cgy)</th>\n",
       "      <th>l_parotid</th>\n",
       "      <th>r_parotid</th>\n",
       "    </tr>\n",
       "  </thead>\n",
       "  <tbody>\n",
       "    <tr>\n",
       "      <th>0</th>\n",
       "      <td>0.0</td>\n",
       "      <td>100.0</td>\n",
       "      <td>100.0</td>\n",
       "      <td>100.0</td>\n",
       "      <td>100.0</td>\n",
       "      <td>0.0</td>\n",
       "      <td>100.0</td>\n",
       "      <td>100.0</td>\n",
       "      <td>100.0</td>\n",
       "      <td>0.0</td>\n",
       "      <td>...</td>\n",
       "      <td>100.0</td>\n",
       "      <td>0.0</td>\n",
       "      <td>100.0</td>\n",
       "      <td>100.0</td>\n",
       "      <td>0.0</td>\n",
       "      <td>100.0</td>\n",
       "      <td>100.0</td>\n",
       "      <td>0.0</td>\n",
       "      <td>100.0</td>\n",
       "      <td>100.0</td>\n",
       "    </tr>\n",
       "    <tr>\n",
       "      <th>1</th>\n",
       "      <td>1.0</td>\n",
       "      <td>100.0</td>\n",
       "      <td>100.0</td>\n",
       "      <td>100.0</td>\n",
       "      <td>100.0</td>\n",
       "      <td>1.0</td>\n",
       "      <td>100.0</td>\n",
       "      <td>100.0</td>\n",
       "      <td>100.0</td>\n",
       "      <td>1.0</td>\n",
       "      <td>...</td>\n",
       "      <td>100.0</td>\n",
       "      <td>1.0</td>\n",
       "      <td>100.0</td>\n",
       "      <td>100.0</td>\n",
       "      <td>1.0</td>\n",
       "      <td>100.0</td>\n",
       "      <td>100.0</td>\n",
       "      <td>1.0</td>\n",
       "      <td>100.0</td>\n",
       "      <td>100.0</td>\n",
       "    </tr>\n",
       "    <tr>\n",
       "      <th>2</th>\n",
       "      <td>2.0</td>\n",
       "      <td>100.0</td>\n",
       "      <td>100.0</td>\n",
       "      <td>100.0</td>\n",
       "      <td>100.0</td>\n",
       "      <td>2.0</td>\n",
       "      <td>100.0</td>\n",
       "      <td>100.0</td>\n",
       "      <td>100.0</td>\n",
       "      <td>2.0</td>\n",
       "      <td>...</td>\n",
       "      <td>100.0</td>\n",
       "      <td>2.0</td>\n",
       "      <td>100.0</td>\n",
       "      <td>100.0</td>\n",
       "      <td>2.0</td>\n",
       "      <td>100.0</td>\n",
       "      <td>100.0</td>\n",
       "      <td>2.0</td>\n",
       "      <td>100.0</td>\n",
       "      <td>100.0</td>\n",
       "    </tr>\n",
       "  </tbody>\n",
       "</table>\n",
       "<p>3 rows × 259 columns</p>\n",
       "</div>"
      ],
      "text/plain": [
       "pt_id             1001                                            1002  \\\n",
       "side             right                                           bilat   \n",
       "side_dif  -21.99190852                                    -37.32848122   \n",
       "type         conformal                                            imrt   \n",
       "structure   dose_(cgy)   cord l_parotid r_parotid pharynx   dose_(cgy)   \n",
       "0                  0.0  100.0     100.0     100.0   100.0          0.0   \n",
       "1                  1.0  100.0     100.0     100.0   100.0          1.0   \n",
       "2                  2.0  100.0     100.0     100.0   100.0          2.0   \n",
       "\n",
       "pt_id                                        1003    ...           6003  \\\n",
       "side                                        bilat    ...           left   \n",
       "side_dif                              -13.5860905    ...    11.93829139   \n",
       "type                                    conformal    ...           imrt   \n",
       "structure r_parotid l_parotid pharynx  dose_(cgy)    ...      r_parotid   \n",
       "0             100.0     100.0   100.0         0.0    ...          100.0   \n",
       "1             100.0     100.0   100.0         1.0    ...          100.0   \n",
       "2             100.0     100.0   100.0         2.0    ...          100.0   \n",
       "\n",
       "pt_id            6004                            6005                      \\\n",
       "side             left                            left                       \n",
       "side_dif  38.41823644                     3.022384226                       \n",
       "type             imrt                       conformal                       \n",
       "structure  dose_(cgy) l_parotid r_parotid  dose_(cgy) l_parotid r_parotid   \n",
       "0                 0.0     100.0     100.0         0.0     100.0     100.0   \n",
       "1                 1.0     100.0     100.0         1.0     100.0     100.0   \n",
       "2                 2.0     100.0     100.0         2.0     100.0     100.0   \n",
       "\n",
       "pt_id            6006                      \n",
       "side             left                      \n",
       "side_dif  4.303579758                      \n",
       "type        conformal                      \n",
       "structure  dose_(cgy) l_parotid r_parotid  \n",
       "0                 0.0     100.0     100.0  \n",
       "1                 1.0     100.0     100.0  \n",
       "2                 2.0     100.0     100.0  \n",
       "\n",
       "[3 rows x 259 columns]"
      ]
     },
     "execution_count": 20,
     "metadata": {},
     "output_type": "execute_result"
    }
   ],
   "source": [
    "df.head(3)"
   ]
  },
  {
   "cell_type": "code",
   "execution_count": 25,
   "metadata": {
    "collapsed": false
   },
   "outputs": [
    {
     "data": {
      "text/html": [
       "<div>\n",
       "<table border=\"1\" class=\"dataframe\">\n",
       "  <thead>\n",
       "    <tr>\n",
       "      <th>pt_id</th>\n",
       "      <th colspan=\"4\" halign=\"left\">1002</th>\n",
       "      <th colspan=\"4\" halign=\"left\">1004</th>\n",
       "      <th colspan=\"2\" halign=\"left\">1008</th>\n",
       "      <th>...</th>\n",
       "      <th>4006</th>\n",
       "      <th colspan=\"3\" halign=\"left\">6002</th>\n",
       "      <th colspan=\"3\" halign=\"left\">6003</th>\n",
       "      <th colspan=\"3\" halign=\"left\">6004</th>\n",
       "    </tr>\n",
       "    <tr>\n",
       "      <th>side</th>\n",
       "      <th colspan=\"4\" halign=\"left\">bilat</th>\n",
       "      <th colspan=\"4\" halign=\"left\">right</th>\n",
       "      <th colspan=\"2\" halign=\"left\">left</th>\n",
       "      <th>...</th>\n",
       "      <th>left</th>\n",
       "      <th colspan=\"3\" halign=\"left\">left</th>\n",
       "      <th colspan=\"3\" halign=\"left\">left</th>\n",
       "      <th colspan=\"3\" halign=\"left\">left</th>\n",
       "    </tr>\n",
       "    <tr>\n",
       "      <th>side_dif</th>\n",
       "      <th colspan=\"4\" halign=\"left\">-37.32848122</th>\n",
       "      <th colspan=\"4\" halign=\"left\">-41.54533567</th>\n",
       "      <th colspan=\"2\" halign=\"left\">37.38281693</th>\n",
       "      <th>...</th>\n",
       "      <th>36.1064035</th>\n",
       "      <th colspan=\"3\" halign=\"left\">44.18529432</th>\n",
       "      <th colspan=\"3\" halign=\"left\">11.93829139</th>\n",
       "      <th colspan=\"3\" halign=\"left\">38.41823644</th>\n",
       "    </tr>\n",
       "    <tr>\n",
       "      <th>structure</th>\n",
       "      <th>dose_(cgy)</th>\n",
       "      <th>r_parotid</th>\n",
       "      <th>l_parotid</th>\n",
       "      <th>pharynx</th>\n",
       "      <th>dose_(cgy)</th>\n",
       "      <th>l_parotid</th>\n",
       "      <th>r_parotid</th>\n",
       "      <th>pharynx</th>\n",
       "      <th>dose_(cgy)</th>\n",
       "      <th>r_parotid</th>\n",
       "      <th>...</th>\n",
       "      <th>l_parotid</th>\n",
       "      <th>dose_(cgy)</th>\n",
       "      <th>l_parotid</th>\n",
       "      <th>r_parotid</th>\n",
       "      <th>dose_(cgy)</th>\n",
       "      <th>l_parotid</th>\n",
       "      <th>r_parotid</th>\n",
       "      <th>dose_(cgy)</th>\n",
       "      <th>l_parotid</th>\n",
       "      <th>r_parotid</th>\n",
       "    </tr>\n",
       "  </thead>\n",
       "  <tbody>\n",
       "    <tr>\n",
       "      <th>0</th>\n",
       "      <td>0.0</td>\n",
       "      <td>100.0</td>\n",
       "      <td>100.0</td>\n",
       "      <td>100.0</td>\n",
       "      <td>0.0</td>\n",
       "      <td>100.0</td>\n",
       "      <td>100.0</td>\n",
       "      <td>100.0</td>\n",
       "      <td>0.0</td>\n",
       "      <td>100.0</td>\n",
       "      <td>...</td>\n",
       "      <td>100.0</td>\n",
       "      <td>0.0</td>\n",
       "      <td>100.0</td>\n",
       "      <td>100.0</td>\n",
       "      <td>0.0</td>\n",
       "      <td>100.0</td>\n",
       "      <td>100.0</td>\n",
       "      <td>0.0</td>\n",
       "      <td>100.0</td>\n",
       "      <td>100.0</td>\n",
       "    </tr>\n",
       "    <tr>\n",
       "      <th>1</th>\n",
       "      <td>1.0</td>\n",
       "      <td>100.0</td>\n",
       "      <td>100.0</td>\n",
       "      <td>100.0</td>\n",
       "      <td>1.0</td>\n",
       "      <td>100.0</td>\n",
       "      <td>100.0</td>\n",
       "      <td>100.0</td>\n",
       "      <td>1.0</td>\n",
       "      <td>100.0</td>\n",
       "      <td>...</td>\n",
       "      <td>100.0</td>\n",
       "      <td>1.0</td>\n",
       "      <td>100.0</td>\n",
       "      <td>100.0</td>\n",
       "      <td>1.0</td>\n",
       "      <td>100.0</td>\n",
       "      <td>100.0</td>\n",
       "      <td>1.0</td>\n",
       "      <td>100.0</td>\n",
       "      <td>100.0</td>\n",
       "    </tr>\n",
       "    <tr>\n",
       "      <th>2</th>\n",
       "      <td>2.0</td>\n",
       "      <td>100.0</td>\n",
       "      <td>100.0</td>\n",
       "      <td>100.0</td>\n",
       "      <td>2.0</td>\n",
       "      <td>100.0</td>\n",
       "      <td>100.0</td>\n",
       "      <td>100.0</td>\n",
       "      <td>2.0</td>\n",
       "      <td>100.0</td>\n",
       "      <td>...</td>\n",
       "      <td>100.0</td>\n",
       "      <td>2.0</td>\n",
       "      <td>100.0</td>\n",
       "      <td>100.0</td>\n",
       "      <td>2.0</td>\n",
       "      <td>100.0</td>\n",
       "      <td>100.0</td>\n",
       "      <td>2.0</td>\n",
       "      <td>100.0</td>\n",
       "      <td>100.0</td>\n",
       "    </tr>\n",
       "    <tr>\n",
       "      <th>3</th>\n",
       "      <td>3.0</td>\n",
       "      <td>100.0</td>\n",
       "      <td>100.0</td>\n",
       "      <td>100.0</td>\n",
       "      <td>3.0</td>\n",
       "      <td>100.0</td>\n",
       "      <td>100.0</td>\n",
       "      <td>100.0</td>\n",
       "      <td>3.0</td>\n",
       "      <td>100.0</td>\n",
       "      <td>...</td>\n",
       "      <td>100.0</td>\n",
       "      <td>3.0</td>\n",
       "      <td>100.0</td>\n",
       "      <td>100.0</td>\n",
       "      <td>3.0</td>\n",
       "      <td>100.0</td>\n",
       "      <td>100.0</td>\n",
       "      <td>3.0</td>\n",
       "      <td>100.0</td>\n",
       "      <td>100.0</td>\n",
       "    </tr>\n",
       "    <tr>\n",
       "      <th>4</th>\n",
       "      <td>4.0</td>\n",
       "      <td>100.0</td>\n",
       "      <td>100.0</td>\n",
       "      <td>100.0</td>\n",
       "      <td>4.0</td>\n",
       "      <td>100.0</td>\n",
       "      <td>100.0</td>\n",
       "      <td>100.0</td>\n",
       "      <td>4.0</td>\n",
       "      <td>100.0</td>\n",
       "      <td>...</td>\n",
       "      <td>100.0</td>\n",
       "      <td>4.0</td>\n",
       "      <td>100.0</td>\n",
       "      <td>100.0</td>\n",
       "      <td>4.0</td>\n",
       "      <td>100.0</td>\n",
       "      <td>100.0</td>\n",
       "      <td>4.0</td>\n",
       "      <td>100.0</td>\n",
       "      <td>100.0</td>\n",
       "    </tr>\n",
       "  </tbody>\n",
       "</table>\n",
       "<p>5 rows × 134 columns</p>\n",
       "</div>"
      ],
      "text/plain": [
       "pt_id             1002                                     1004            \\\n",
       "side             bilat                                    right             \n",
       "side_dif  -37.32848122                             -41.54533567             \n",
       "structure   dose_(cgy) r_parotid l_parotid pharynx   dose_(cgy) l_parotid   \n",
       "0                  0.0     100.0     100.0   100.0          0.0     100.0   \n",
       "1                  1.0     100.0     100.0   100.0          1.0     100.0   \n",
       "2                  2.0     100.0     100.0   100.0          2.0     100.0   \n",
       "3                  3.0     100.0     100.0   100.0          3.0     100.0   \n",
       "4                  4.0     100.0     100.0   100.0          4.0     100.0   \n",
       "\n",
       "pt_id                              1008              ...          4006  \\\n",
       "side                               left              ...          left   \n",
       "side_dif                    37.38281693              ...    36.1064035   \n",
       "structure r_parotid pharynx  dose_(cgy) r_parotid    ...     l_parotid   \n",
       "0             100.0   100.0         0.0     100.0    ...         100.0   \n",
       "1             100.0   100.0         1.0     100.0    ...         100.0   \n",
       "2             100.0   100.0         2.0     100.0    ...         100.0   \n",
       "3             100.0   100.0         3.0     100.0    ...         100.0   \n",
       "4             100.0   100.0         4.0     100.0    ...         100.0   \n",
       "\n",
       "pt_id            6002                            6003                      \\\n",
       "side             left                            left                       \n",
       "side_dif  44.18529432                     11.93829139                       \n",
       "structure  dose_(cgy) l_parotid r_parotid  dose_(cgy) l_parotid r_parotid   \n",
       "0                 0.0     100.0     100.0         0.0     100.0     100.0   \n",
       "1                 1.0     100.0     100.0         1.0     100.0     100.0   \n",
       "2                 2.0     100.0     100.0         2.0     100.0     100.0   \n",
       "3                 3.0     100.0     100.0         3.0     100.0     100.0   \n",
       "4                 4.0     100.0     100.0         4.0     100.0     100.0   \n",
       "\n",
       "pt_id            6004                      \n",
       "side             left                      \n",
       "side_dif  38.41823644                      \n",
       "structure  dose_(cgy) l_parotid r_parotid  \n",
       "0                 0.0     100.0     100.0  \n",
       "1                 1.0     100.0     100.0  \n",
       "2                 2.0     100.0     100.0  \n",
       "3                 3.0     100.0     100.0  \n",
       "4                 4.0     100.0     100.0  \n",
       "\n",
       "[5 rows x 134 columns]"
      ]
     },
     "execution_count": 25,
     "metadata": {},
     "output_type": "execute_result"
    }
   ],
   "source": [
    "## need to work out how to select specific things....\n",
    "\n",
    "## filter based on a single index level. e.g. all right sided\n",
    "#df_test = df.xs('right',axis=1,level='side')\n",
    "\n",
    "df_imrt = df.xs('imrt',level='type',axis=1)\n",
    "df_conformal = df.xs('conformal',level='type',axis=1)\n",
    "\n",
    "## mutliple levels of with .xs\n",
    "df_test = df.xs(['right','l_parotid'],level=['side','structure'],axis=1)\n",
    "df_imrt.head()"
   ]
  },
  {
   "cell_type": "code",
   "execution_count": 57,
   "metadata": {
    "collapsed": false
   },
   "outputs": [
    {
     "data": {
      "text/plain": [
       "<matplotlib.text.Text at 0x12810050>"
      ]
     },
     "execution_count": 57,
     "metadata": {},
     "output_type": "execute_result"
    },
    {
     "data": {
      "image/png": "[encoded data removed]",
      "text/plain": [
       "<matplotlib.figure.Figure at 0x12184bf0>"
      ]
     },
     "metadata": {},
     "output_type": "display_data"
    }
   ],
   "source": [
    "## plot all IMRT ptv doses\n",
    "\n",
    "struct = 'pharynx'\n",
    "\n",
    "imrt_x = df_imrt.xs('dose_(cgy)',level='structure',axis=1)\n",
    "imrt_y = df_imrt.xs(struct,level='structure',axis=1)\n",
    "conformal_x = df_conformal.xs('dose_(cgy)',level='structure',axis=1)\n",
    "conformal_y = df_conformal.xs(struct,level='structure',axis=1)\n",
    "\n",
    "ax = plt.plot(imrt_x,imrt_y, color='red')\n",
    "ax = plt.plot(conformal_x,conformal_y, color='green')\n",
    "plt.title(struct + ' DVHs\\n(Red = IMRT, Green = Conformal)')\n",
    "plt.xlabel('Dose (cGy)')\n",
    "plt.ylabel('Volume (%)')\n",
    "#plt.show()\n",
    "\n",
    "\n"
   ]
  },
  {
   "cell_type": "code",
   "execution_count": 20,
   "metadata": {
    "collapsed": false
   },
   "outputs": [
    {
     "ename": "ValueError",
     "evalue": "Item wrong length 5 instead of 8355.",
     "output_type": "error",
     "traceback": [
      "\u001b[1;31m---------------------------------------------------------------------------\u001b[0m",
      "\u001b[1;31mValueError\u001b[0m                                Traceback (most recent call last)",
      "\u001b[1;32m<ipython-input-20-d7d0a76ec38b>\u001b[0m in \u001b[0;36m<module>\u001b[1;34m()\u001b[0m\n\u001b[0;32m     19\u001b[0m \u001b[0mdose_point\u001b[0m \u001b[1;33m=\u001b[0m \u001b[1;36m5000\u001b[0m\u001b[1;33m\u001b[0m\u001b[0m\n\u001b[0;32m     20\u001b[0m \u001b[1;33m\u001b[0m\u001b[0m\n\u001b[1;32m---> 21\u001b[1;33m \u001b[0mpt_df_side_dose\u001b[0m \u001b[1;33m=\u001b[0m \u001b[0mpt_df_side\u001b[0m\u001b[1;33m[\u001b[0m\u001b[0mpt_df_side\u001b[0m\u001b[1;33m.\u001b[0m\u001b[0mcolumns\u001b[0m \u001b[1;33m==\u001b[0m \u001b[1;34m'l_parotid'\u001b[0m\u001b[1;33m]\u001b[0m\u001b[1;33m\u001b[0m\u001b[0m\n\u001b[0m\u001b[0;32m     22\u001b[0m \u001b[1;33m\u001b[0m\u001b[0m\n\u001b[0;32m     23\u001b[0m \u001b[1;31m#pt_struct_df[dose_point]\u001b[0m\u001b[1;33m\u001b[0m\u001b[1;33m\u001b[0m\u001b[0m\n",
      "\u001b[1;32mC:\\Anaconda3\\lib\\site-packages\\pandas\\core\\frame.py\u001b[0m in \u001b[0;36m__getitem__\u001b[1;34m(self, key)\u001b[0m\n\u001b[0;32m   1989\u001b[0m         \u001b[1;32mif\u001b[0m \u001b[0misinstance\u001b[0m\u001b[1;33m(\u001b[0m\u001b[0mkey\u001b[0m\u001b[1;33m,\u001b[0m \u001b[1;33m(\u001b[0m\u001b[0mSeries\u001b[0m\u001b[1;33m,\u001b[0m \u001b[0mnp\u001b[0m\u001b[1;33m.\u001b[0m\u001b[0mndarray\u001b[0m\u001b[1;33m,\u001b[0m \u001b[0mIndex\u001b[0m\u001b[1;33m,\u001b[0m \u001b[0mlist\u001b[0m\u001b[1;33m)\u001b[0m\u001b[1;33m)\u001b[0m\u001b[1;33m:\u001b[0m\u001b[1;33m\u001b[0m\u001b[0m\n\u001b[0;32m   1990\u001b[0m             \u001b[1;31m# either boolean or fancy integer index\u001b[0m\u001b[1;33m\u001b[0m\u001b[1;33m\u001b[0m\u001b[0m\n\u001b[1;32m-> 1991\u001b[1;33m             \u001b[1;32mreturn\u001b[0m \u001b[0mself\u001b[0m\u001b[1;33m.\u001b[0m\u001b[0m_getitem_array\u001b[0m\u001b[1;33m(\u001b[0m\u001b[0mkey\u001b[0m\u001b[1;33m)\u001b[0m\u001b[1;33m\u001b[0m\u001b[0m\n\u001b[0m\u001b[0;32m   1992\u001b[0m         \u001b[1;32melif\u001b[0m \u001b[0misinstance\u001b[0m\u001b[1;33m(\u001b[0m\u001b[0mkey\u001b[0m\u001b[1;33m,\u001b[0m \u001b[0mDataFrame\u001b[0m\u001b[1;33m)\u001b[0m\u001b[1;33m:\u001b[0m\u001b[1;33m\u001b[0m\u001b[0m\n\u001b[0;32m   1993\u001b[0m             \u001b[1;32mreturn\u001b[0m \u001b[0mself\u001b[0m\u001b[1;33m.\u001b[0m\u001b[0m_getitem_frame\u001b[0m\u001b[1;33m(\u001b[0m\u001b[0mkey\u001b[0m\u001b[1;33m)\u001b[0m\u001b[1;33m\u001b[0m\u001b[0m\n",
      "\u001b[1;32mC:\\Anaconda3\\lib\\site-packages\\pandas\\core\\frame.py\u001b[0m in \u001b[0;36m_getitem_array\u001b[1;34m(self, key)\u001b[0m\n\u001b[0;32m   2026\u001b[0m             \u001b[1;32melif\u001b[0m \u001b[0mlen\u001b[0m\u001b[1;33m(\u001b[0m\u001b[0mkey\u001b[0m\u001b[1;33m)\u001b[0m \u001b[1;33m!=\u001b[0m \u001b[0mlen\u001b[0m\u001b[1;33m(\u001b[0m\u001b[0mself\u001b[0m\u001b[1;33m.\u001b[0m\u001b[0mindex\u001b[0m\u001b[1;33m)\u001b[0m\u001b[1;33m:\u001b[0m\u001b[1;33m\u001b[0m\u001b[0m\n\u001b[0;32m   2027\u001b[0m                 raise ValueError('Item wrong length %d instead of %d.' %\n\u001b[1;32m-> 2028\u001b[1;33m                                  (len(key), len(self.index)))\n\u001b[0m\u001b[0;32m   2029\u001b[0m             \u001b[1;31m# check_bool_indexer will throw exception if Series key cannot\u001b[0m\u001b[1;33m\u001b[0m\u001b[1;33m\u001b[0m\u001b[0m\n\u001b[0;32m   2030\u001b[0m             \u001b[1;31m# be reindexed to match DataFrame rows\u001b[0m\u001b[1;33m\u001b[0m\u001b[1;33m\u001b[0m\u001b[0m\n",
      "\u001b[1;31mValueError\u001b[0m: Item wrong length 5 instead of 8355."
     ]
    }
   ],
   "source": [
    "## select a specific row in a df for a petient structure\n",
    "\n",
    "## order of levels: pt_id, side, side_dif, structure\n",
    "\n",
    "## select specific patient\n",
    "pt = '1001'\n",
    "pt_df = df[pt]\n",
    "#print(pt_df)\n",
    "## select structure\n",
    "\n",
    "side = 'right'\n",
    "\n",
    "pt_df_side = pt_df[side]\n",
    "#print(pt_df_side)\n",
    "struct = 'l_parotid'\n",
    "#pt_struct_df = pt_df[struct]\n",
    "\n",
    "## select specific dose (cGy)\n",
    "dose_point = 5000\n",
    "\n",
    "pt_df_side_dose = pt_df_side[pt_df_side.columns == 'l_parotid']\n",
    "\n",
    "#pt_struct_df[dose_point]\n",
    "\n",
    "## combined\n",
    "\n",
    "#ans = df[pt][:][:][struct][dose_point]\n",
    "#print(ans)"
   ]
  },
  {
   "cell_type": "code",
   "execution_count": null,
   "metadata": {
    "collapsed": false
   },
   "outputs": [],
   "source": [
    "## comparison function for parotids\n",
    "\n",
    "def which_parotid(left,right):\n",
    "    if left > right:\n",
    "        result = 'left'\n",
    "    elif right > left:\n",
    "        result = 'right'\n",
    "    elif left == right:\n",
    "        result = 'equal'\n",
    "    else:\n",
    "        result = 'NA'\n",
    "    return result\n",
    "\n",
    "print(which_parotid(7,8))\n",
    "    "
   ]
  },
  {
   "cell_type": "code",
   "execution_count": null,
   "metadata": {
    "collapsed": false
   },
   "outputs": [],
   "source": [
    "## create list of the side in which the mean dose is greatest for each patient\n",
    "## combinie into a dictionary\n",
    "\n",
    "patients = list(df.columns.levels[0])\n",
    "sides = []\n",
    "difs = []\n",
    "\n",
    "for i in patients:\n",
    "    pt_df = df[i]\n",
    "    l_parotid_mean = pt_df['l_parotid'].mean()\n",
    "    r_parotid_mean = pt_df['r_parotid'].mean()\n",
    "    par_dif = l_parotid_mean - r_parotid_mean\n",
    "    difs.append(par_dif)\n",
    "    side = which_parotid(l_parotid_mean,r_parotid_mean)\n",
    "    sides.append(side)\n",
    "#print(sides)\n",
    "#print(patients)\n",
    "#pt_difs = dict(zip(patients,difs))\n",
    "#pt_sides = dict(zip(patients,sides))\n",
    "#pt_side_dif = dict(zip(patients,zip(sides,difs)))\n",
    "pt_side_dif = list(zip(patients,sides,difs))\n",
    "#print(pt_side_dif)\n",
    "## [0] is the patient, [1] is the side [2] is the difference **# positive means left side is higher\n",
    "\n",
    "\n",
    "## make a dictionary to look up position of a paitent within the list for convenience\n",
    "\n",
    "pt_dict = {}\n",
    "j = 0 # iterator for numbering list position\n",
    "for i in patients:\n",
    "    pt_dict[i] = j\n",
    "    j = j+1\n",
    "    \n",
    "#print(pt_dict['1003'])\n",
    "\n",
    "#pt_side_dif[pt_dict['4002']]\n"
   ]
  },
  {
   "cell_type": "code",
   "execution_count": null,
   "metadata": {
    "collapsed": false
   },
   "outputs": [],
   "source": [
    "## sort the lsit fo patients by the absolute difference\n",
    "#sorted(pt_side_dif_list,key=lambda x: abs(x[1][1]))"
   ]
  },
  {
   "cell_type": "code",
   "execution_count": null,
   "metadata": {
    "collapsed": false
   },
   "outputs": [],
   "source": [
    "df['4002']\n",
    "plt.plot(df['4002']['dose_(cgy)'],df['4002']['l_parotid'])\n",
    "plt.plot(df['4002']['dose_(cgy)'],df['4002']['r_parotid'])"
   ]
  },
  {
   "cell_type": "markdown",
   "metadata": {},
   "source": [
    "### Add another layer of headers to include the side and difference.\n",
    "- these could be updated to inlcude 'unilateral' as an alternative side result.\n",
    "    - The which_side() would need updating for this.\n",
    "    - could also include the treatment type (IMRT/parallel opposed etc)\n"
   ]
  },
  {
   "cell_type": "code",
   "execution_count": null,
   "metadata": {
    "collapsed": false
   },
   "outputs": [],
   "source": [
    "## get values out of lists for adding into new multi level headings\n",
    "\n",
    "the_pts = [i[0] for i in pt_side_dif]\n",
    "the_sides = [i[1] for i in pt_side_dif]\n",
    "the_difs = [i[2] for i in pt_side_dif]\n",
    "\n",
    "side_tpl = list(zip(the_pts,the_sides,the_difs))\n",
    "\n",
    "pt_counts = []\n",
    "\n",
    "for i in the_pts:\n",
    "    pt_ct_tpl = (i,len(df[i].columns))\n",
    "    pt_counts.append(pt_ct_tpl)\n",
    "\n",
    "## get list of patients into a tuple from the original df\n",
    "\n",
    "#patients = list(df.columns.levels[0]) # for getting unique values\n",
    "patients = list(df.columns.get_level_values(0)) # for getting all values for each column\n",
    "#structures = list(df.columns.levels[1])\n",
    "structures = list(df.columns.get_level_values(1))\n",
    "pat_struc = list(zip(patients,structures))\n",
    "patients[:8]\n",
    "\n",
    "## need to duplicate the sides and difference the same number of times as each different\n",
    "## structure appears for that particular patient\n",
    "      \n",
    "## list of patients with the number of times to repeat = pt_counts\n",
    "#print(pt_counts)\n",
    "## list of patients with the side and difference = side_tpl\n",
    "#print(side_tpl)\n",
    "\n",
    "full_list = []\n",
    "counter = 0\n",
    "for i in range(len(side_tpl)):\n",
    "    #print(i)\n",
    "    for j in range(pt_counts[i][1]):\n",
    "        mini_tpl = (side_tpl[i][0],side_tpl[i][1],side_tpl[i][2],structures[counter])\n",
    "        full_list.append(mini_tpl)\n",
    "        counter = counter + 1\n",
    "\n",
    "        ## create the MultiIndex object from the list of tuples\n",
    "new_index = pd.MultiIndex.from_tuples(full_list,names=['pt_id', 'side', 'side_dif','structure'])\n",
    "print(new_index[0])"
   ]
  },
  {
   "cell_type": "code",
   "execution_count": null,
   "metadata": {
    "collapsed": false
   },
   "outputs": [],
   "source": [
    "#df.describe()"
   ]
  },
  {
   "cell_type": "code",
   "execution_count": null,
   "metadata": {
    "collapsed": false
   },
   "outputs": [],
   "source": [
    "## create new DF with the data from the old and new index?\n",
    "\n",
    "df = pd.DataFrame(df.values,columns=new_index)\n",
    "#new_df.describe()\n",
    "#df.to_pickle(r\"C:\\Users\\mb22\\OneDrive\\PhD\\Quasar Shared\\Modelling\\IPython\\Data to Import\\parsport\\dvhs_single_file\\parsport_dvh_all_sides.pkl\")\n",
    "\n",
    "\n",
    "## save as hdf5 file\n",
    "df.to_hdf(r\"C:\\Users\\mb22\\OneDrive\\PhD\\Quasar Shared\\Modelling\\IPython\\Data to Import\\parsport\\dvhs_single_file\\parsport_dvh_all_sides_hdf.hdf5\",\"all_sides\")"
   ]
  },
  {
   "cell_type": "code",
   "execution_count": null,
   "metadata": {
    "collapsed": false
   },
   "outputs": [],
   "source": [
    "df"
   ]
  },
  {
   "cell_type": "code",
   "execution_count": null,
   "metadata": {
    "collapsed": false
   },
   "outputs": [],
   "source": [
    "## save new dataframe as pickle\n",
    "new_df.to_pickle(r\"C:\\Users\\mb22\\OneDrive\\PhD\\Quasar Shared\\Modelling\\IPython\\Data to Import\\parsport\\dvhs_single_file\\parsport_dvh_all_sides.pkl\")\n"
   ]
  },
  {
   "cell_type": "markdown",
   "metadata": {},
   "source": [
    "#### Creating smaller dataset for specific structures"
   ]
  },
  {
   "cell_type": "code",
   "execution_count": null,
   "metadata": {
    "collapsed": false
   },
   "outputs": [],
   "source": [
    "#df.columns.get_level_values(1) ## Get lists of each fo the levels values (use .index. for rows)\n",
    "\n",
    "structure_of_interest = 'r_parotid'\n",
    "\n",
    "## Selecting all r_parotids\n",
    "df1 = df.xs(structure_of_interest,level='structure', axis=1, drop_level=False)\n",
    "df1.head(3)"
   ]
  },
  {
   "cell_type": "markdown",
   "metadata": {},
   "source": [
    "### Plotting specific structures\n",
    " - Plotting can be done with matplotlib or using the df.plot() command"
   ]
  },
  {
   "cell_type": "code",
   "execution_count": null,
   "metadata": {
    "collapsed": false
   },
   "outputs": [],
   "source": [
    "#%matplotlib inline\n",
    "#plt.plot(df1, label=df1.columns)\n",
    "#plt.legend(fontsize=5)\n",
    "#plt.show()"
   ]
  },
  {
   "cell_type": "code",
   "execution_count": null,
   "metadata": {
    "collapsed": false
   },
   "outputs": [],
   "source": [
    "%matplotlib qt\n",
    "fig1 = df1.plot(title=(\"Structure: \" + structure_of_interest), legend=False) ## Thsi does have correct legend, but might orefer to use matplotlib...?\n",
    "#fig1.legend(fontsize=5)\n",
    "fig1.set_xlabel('Dose (cGy)')\n",
    "fig1.set_ylabel('Volume (%)')\n",
    "#fig1.set_title = structure_of_interest"
   ]
  },
  {
   "cell_type": "markdown",
   "metadata": {},
   "source": [
    "#### Picking specific patients"
   ]
  },
  {
   "cell_type": "code",
   "execution_count": null,
   "metadata": {
    "collapsed": false
   },
   "outputs": [],
   "source": [
    "patient_of_interest = '1002'\n",
    "df_pt = df.xs(patient_of_interest, level='pt_id', axis=1, drop_level=False)\n",
    "#df1 = df.xs(structure_of_interest,level='structure', axis=1)\n",
    "df_pt.head(3)"
   ]
  },
  {
   "cell_type": "markdown",
   "metadata": {},
   "source": [
    "### Plot of specifc patient"
   ]
  },
  {
   "cell_type": "code",
   "execution_count": null,
   "metadata": {
    "collapsed": false
   },
   "outputs": [],
   "source": [
    "exclude = ['dose_(cgy)','body'] ## Structures (columns) to exclude. Could do with axis=0 to exclude rows\n",
    "\n",
    "fig_pt = df_pt.drop(exclude, axis=1, level='structure').plot(title=(\"Patient ID: \" + patient_of_interest),legend=False)\n",
    "\n",
    "fig_pt.set_xlabel('Dose (cGy)')\n",
    "fig_pt.set_ylabel('Volume (%)')\n",
    "#fig_pt.legend(fontsize=8, loc='upper left')\n",
    "#fig_pt.set_ylim(0,105)"
   ]
  },
  {
   "cell_type": "markdown",
   "metadata": {},
   "source": [
    "#### Select a range of patients\n",
    "e.g. provide a list of patients fo interest and select those ready for plotting/stats"
   ]
  },
  {
   "cell_type": "code",
   "execution_count": null,
   "metadata": {
    "collapsed": false
   },
   "outputs": [],
   "source": [
    "### Select a specific structure from a specific patient\n",
    "patient_structure_of_interest = ('1001','r_parotid')\n",
    "df_pt_specific = df.xs(patient_structure_of_interest, level=('pt_id','structure'), axis=1, drop_level=False)\n",
    "#df1 = df.xs(structure_of_interest,level='structure', axis=1)\n",
    "df_pt_specific.head(3)"
   ]
  },
  {
   "cell_type": "markdown",
   "metadata": {},
   "source": [
    "### Calculate mean of selected structure.\n",
    "- Need to first calculate the differential dvh to work with.\n",
    "- If move the required values into a numpy array can setup a function to do this\n",
    "- Mean dose to aprotid is a good indicator of side effects: http://www.ncbi.nlm.nih.gov/pubmed/20609609\n"
   ]
  },
  {
   "cell_type": "code",
   "execution_count": null,
   "metadata": {
    "collapsed": false
   },
   "outputs": [],
   "source": [
    "## Calc differential dvh\n",
    "\n",
    "df_parotid = df['r_parotid']\n",
    "#print(df['r_parotid'])\n",
    "\n",
    "df_dif = df_parotid.diff(periods=1).fillna(0).abs()\n",
    "#df_pt_specific.plot()\n",
    "#print(df_dif)\n",
    "vol_array = np.array(df_dif.values)\n",
    "dose_array = np.array(df_dif.index.values)\n",
    "vol_dose_array = np.array(vol_array*dose_array)\n",
    "#print(vol_dose_array)\n",
    "\n",
    "mean_calc = np.sum(vol_dose_array)/np.sum(vol_array)\n",
    "\n",
    "print(\"Mean Dose (cGy): \" + str(mean_calc))"
   ]
  },
  {
   "cell_type": "code",
   "execution_count": null,
   "metadata": {
    "collapsed": false
   },
   "outputs": [],
   "source": [
    "## save as hdf5 file\n",
    "df_pt_specific.to_hdf(r\"C:\\Users\\mb22\\OneDrive\\PhD\\Quasar Shared\\Modelling\\IPython\\Data to Import\\parsport\\dvhs_single_file\\parsport_dvh_1001_r_parotid_hdf5.hdf5\",\"r-parotid_1001\")"
   ]
  },
  {
   "cell_type": "code",
   "execution_count": null,
   "metadata": {
    "collapsed": false
   },
   "outputs": [],
   "source": [
    "print(mean_calc)\n",
    "#print(vol_array.max())"
   ]
  },
  {
   "cell_type": "code",
   "execution_count": null,
   "metadata": {
    "collapsed": false,
    "scrolled": true
   },
   "outputs": [],
   "source": [
    "### Select all data from a range of patients\n",
    "\n",
    "select_pts = ['1001','1002','1003'] ## Patients (columns) to exclude. Could do with axis=0 to exclude rows\n",
    "\n",
    "df_pt_range = df[select_pts]\n",
    "df_pt_range.head(3)\n",
    "#df_pt.describe()"
   ]
  },
  {
   "cell_type": "code",
   "execution_count": null,
   "metadata": {
    "collapsed": false
   },
   "outputs": [],
   "source": [
    "### Create a list of which parotid is recieving maximum dose for each patient.\n",
    "## - 1 Make df with only r/l_parotid structures\n",
    "## - 2 Check if r_parotid > l_parotid (mean dose) [mean dose may need calculating - or use D90 or similar to see high doses]\n",
    "## - 3 Store results in a new column (1=right, 0=left or 'l'/'r')\n",
    "## - 4 Create new column to contain maximum parotid doses. i.e. if l in col then max_parotid = il_calc_parotid\n",
    "## - Can use this il_calc_parotid to plot/analyse stats.\n",
    "\n",
    "#select_pts = ['1001','1002','1003'] ## Patients (columns) to exclude. Could do with axis=0 to exclude rows\n",
    "\n",
    "#df_pt_range = df[select_pts]\n",
    "#df_pt_range.head(3)\n",
    "\n",
    "structures_of_interest = ['l_parotid','r_parotid']\n",
    "\n",
    "## Selecting all r_parotids\n",
    "\n",
    "df_parotids = df[structures_of_interest]\n",
    "df_parotids.head(3)\n"
   ]
  },
  {
   "cell_type": "code",
   "execution_count": null,
   "metadata": {
    "collapsed": false
   },
   "outputs": [],
   "source": [
    "### Select a range of patients\n",
    "patients_of_interest = ('1002','1003')\n",
    "df_pts = df.xs(patients_of_interest, level='pt_id', axis=1, drop_level=False)\n",
    "#df1 = df.xs(structure_of_interest,level='structure', axis=1)\n",
    "df_pts.head()"
   ]
  },
  {
   "cell_type": "markdown",
   "metadata": {
    "collapsed": true
   },
   "source": [
    "### Get stats at a given dose point\n",
    "- D90 (useful for targets)\n",
    "- V50 (useful for OARs)"
   ]
  },
  {
   "cell_type": "code",
   "execution_count": null,
   "metadata": {
    "collapsed": true
   },
   "outputs": [],
   "source": []
  },
  {
   "cell_type": "code",
   "execution_count": null,
   "metadata": {
    "collapsed": true
   },
   "outputs": [],
   "source": []
  },
  {
   "cell_type": "code",
   "execution_count": null,
   "metadata": {
    "collapsed": false
   },
   "outputs": [],
   "source": [
    "### Extract additional level based on ID\n",
    "\n",
    "#df1 = df_test\n",
    "\n",
    "## get list of all headers in dataframe\n",
    "headers = list(df.columns.values)\n",
    "\n",
    "## split at underscore to create tuple of pt id and structure\n",
    "filtered_headers = [i.split('_', 1) for i in headers]\n",
    "\n",
    "## get unique values and sort them for use\n",
    "#patients = sorted(list(set(filtered_headers)))\n",
    "\n",
    "## separate out id and structure into lists if needed\n",
    "heads = list(zip(*filtered_headers))\n",
    "#pt_id = heads[0]\n",
    "#structure = heads[1]\n",
    "\n",
    "## change columns to be those in the tuple which will give a multilevel index with appropriate labels\n",
    "df.columns = pd.MultiIndex.from_tuples(filtered_headers,names=['pt_id', 'structure'])\n",
    "## rename the index\n",
    "df.index.name = 'dose'\n",
    "\n",
    "df.head()"
   ]
  },
  {
   "cell_type": "code",
   "execution_count": null,
   "metadata": {
    "collapsed": false
   },
   "outputs": [],
   "source": [
    "## save as hdf5 file\n",
    "#df.to_hdf(r\"C:\\Users\\mb22\\OneDrive\\PhD\\Quasar Shared\\Modelling\\IPython\\Data to Import\\parsport\\dvhs_single_file\\parsport_dvh_all_final_hdf5-headings.hdf5\",'parsport_headings')"
   ]
  },
  {
   "cell_type": "code",
   "execution_count": null,
   "metadata": {
    "collapsed": false
   },
   "outputs": [],
   "source": [
    "non_dose_cols = [c for c in df.columns if c != 'dose_(cgy)']\n",
    "\n",
    "df=df[non_dose_cols]\n",
    "\n",
    "df.describe()"
   ]
  },
  {
   "cell_type": "code",
   "execution_count": null,
   "metadata": {
    "collapsed": true
   },
   "outputs": [],
   "source": [
    "# Specifiy if want relative or absolute volume data\n",
    "## Note only useful during initial import. Relative volumes have been extracted for use.\n",
    "rel = True\n",
    "\n",
    "if rel == True:\n",
    "    sheet_name = \"Relative volumes (%)\"\n",
    "else:\n",
    "    sheet_name = \"Absolute volumes (cc)\""
   ]
  },
  {
   "cell_type": "markdown",
   "metadata": {},
   "source": [
    "### Import single file to test"
   ]
  },
  {
   "cell_type": "code",
   "execution_count": null,
   "metadata": {
    "collapsed": false
   },
   "outputs": [],
   "source": [
    "#filepath = 'Data to Import/parsport/dvhs_sorted/1001.xls'\n",
    "filepath = path + filenames[1]\n",
    "\n",
    "#fullpath=cwd+'/'+filepath # use if need to specify full path for some reason.\n",
    "#print(fullpath) #note forward and backward slashes in output\n",
    "\n",
    "#all_data = pd.read_excel(filepath, parse_dates=['Date'])\n",
    "all_data = pd.read_excel(filepath, sheetname=sheet_name, index_col=0)\n",
    "all_data.head(3)\n",
    "#all_data.set_index('1002_dose_(cgy)')\n",
    "#all_data.describe()"
   ]
  },
  {
   "cell_type": "markdown",
   "metadata": {
    "collapsed": true
   },
   "source": [
    "## Import all files into single dataframe"
   ]
  },
  {
   "cell_type": "code",
   "execution_count": null,
   "metadata": {
    "collapsed": false
   },
   "outputs": [],
   "source": [
    "## Work with just a few results\n",
    "path = r\"C:\\Users\\mb22\\OneDrive\\PhD\\Quasar Shared\\Data\\Trials\\PARSPORT\\DVHs\\To use\\files-orig+sort+clean2+header_rename - Copy\"\n",
    "path = path + \"\\\\\"\n",
    "filenames = os.listdir(path)\n",
    "fullpath = [path + s for s in filenames]\n",
    "fullpath = fullpath[:5]\n",
    "#filenames[:5]61\n",
    "\n",
    "###### This imports all files within a folder. ONLY USE IF REQUIRED AS MEMORY INTENSIVE\n",
    "df_5 = pd.concat((pd.read_excel(f, sheetname=sheet_name, index_col=0) for f in fullpath), axis=0)\n",
    "#df_all = pd.concat((pd.read_pickle(f) for f in fullpath), axis=0)\n",
    "df_5.head(3)"
   ]
  },
  {
   "cell_type": "code",
   "execution_count": null,
   "metadata": {
    "collapsed": false
   },
   "outputs": [],
   "source": [
    "#df70.to_pickle(path+\"parsport_dvh_61-70_pickle.pickle\")\n",
    "#df.to_csv(path+\"parsport_dvh_all_final_csv.csv\", index=False)"
   ]
  },
  {
   "cell_type": "code",
   "execution_count": null,
   "metadata": {
    "collapsed": false
   },
   "outputs": [],
   "source": [
    "### Save data as csv for future import\n",
    "#df.to_csv(path+\"parsport_dvh_all.csv\")"
   ]
  },
  {
   "cell_type": "code",
   "execution_count": null,
   "metadata": {
    "collapsed": false
   },
   "outputs": [],
   "source": [
    "## save as hdf5 file\n",
    "#df.to_hdf(r\"C:\\Users\\mb22\\OneDrive\\PhD\\Quasar Shared\\Modelling\\IPython\\Data to Import\\parsport\\dvhs_single_file\\parsport_dvh_all_final_hdf5.hdf5\",'parsport')"
   ]
  },
  {
   "cell_type": "markdown",
   "metadata": {},
   "source": [
    "### Get a list of each patient to aid plotting\n",
    "- Patients 1011 and 1012 have headings renamed after import for consistency with r_parotid.\n",
    "- Patients all have 'xxxx_' for consistency"
   ]
  },
  {
   "cell_type": "code",
   "execution_count": null,
   "metadata": {
    "collapsed": false
   },
   "outputs": [],
   "source": [
    "## get list of all headers in dataframe\n",
    "headers = list(df.columns.values)\n",
    "#filtered_headers = [k for k in headers if '1002' in k]\n",
    "\n",
    "## remove anything after first underscore\n",
    "filtered_headers = [i.split('_')[0] for i in headers]\n",
    "\n",
    "## get unique values and sort them for use\n",
    "patients = sorted(list(set(filtered_headers)))\n",
    "\n",
    "#patients.remove('1011') ## These need renaming for consistency\n",
    "#patients.remove('1012')\n",
    "\n",
    "#patients = ['1001','1002', '1003', '1004', '1005', '1007']"
   ]
  },
  {
   "cell_type": "markdown",
   "metadata": {},
   "source": [
    "### Plot the dvhs for all paitents to examine spread"
   ]
  },
  {
   "cell_type": "code",
   "execution_count": null,
   "metadata": {
    "collapsed": false
   },
   "outputs": [],
   "source": [
    "%matplotlib qt\n",
    "\n",
    "r_l = 'l'\n",
    "\n",
    "for x in patients:\n",
    "    if r_l == 'r':\n",
    "        plt.plot(df[x + '_dose_(cgy)'],df[x + '_l_parotid'],\n",
    "                 marker = 'o', markersize=4, markevery=100, label = (x+\"_l\"))\n",
    "        plt.title('Right Parotid DVH')\n",
    "    else:\n",
    "        plt.plot(df[x + '_dose_(cgy)'],df[x + '_r_parotid'],\n",
    "                 marker = '^', markersize=4, markevery=100, label = (x+\"_r\"))\n",
    "        plt.title('Left Parotid DVH')\n",
    "#plt.title('Parotid DVH')\n",
    "plt.xlabel('Dose (cGy)')\n",
    "plt.ylabel('Volume (%)')\n",
    "plt.ylim(0,105)\n",
    "plt.xlim(0,8000)\n",
    "#plt.legend(loc = 'lower left', fontsize=10)\n",
    "plt.show()"
   ]
  },
  {
   "cell_type": "code",
   "execution_count": null,
   "metadata": {
    "collapsed": false
   },
   "outputs": [],
   "source": [
    "## get list of all headers in dataframe\n",
    "headers = list(df.columns.values)\n",
    "#filtered_headers = [k for k in headers if '1002' in k]\n",
    "\n",
    "## remove anything after first underscore\n",
    "filtered_headers = [i.split('_')[0] for i in headers]\n",
    "\n",
    "## get unique values and sort them for use\n",
    "patients = sorted(list(set(filtered_headers)))\n",
    "\n",
    "patients[:5]"
   ]
  },
  {
   "cell_type": "markdown",
   "metadata": {
    "collapsed": true
   },
   "source": [
    "### Create additional level to store patient IDs\n"
   ]
  },
  {
   "cell_type": "code",
   "execution_count": null,
   "metadata": {
    "collapsed": true
   },
   "outputs": [],
   "source": [
    "### Create a dataframe for an individual patient\n",
    "df_1001 = df.filter(regex=r'^1001_')"
   ]
  },
  {
   "cell_type": "code",
   "execution_count": null,
   "metadata": {
    "collapsed": false
   },
   "outputs": [],
   "source": [
    "### Filter if header contains a text string\n",
    "df.filter(regex=r'r_parotid').head(3)"
   ]
  },
  {
   "cell_type": "code",
   "execution_count": null,
   "metadata": {
    "collapsed": false
   },
   "outputs": [],
   "source": [
    "### splitting headers based on first underscore\n",
    "\n",
    "def process_index(k):\n",
    "    return tuple(k.split(\"_\",1))\n",
    "\n",
    "abc = \"1001_r_parotid\"\n",
    "\n",
    "splitabc = process_index(abc)\n",
    "print(splitabc)"
   ]
  },
  {
   "cell_type": "code",
   "execution_count": 22,
   "metadata": {
    "collapsed": false
   },
   "outputs": [
    {
     "data": {
      "text/html": [
       "<div>\n",
       "<table border=\"1\" class=\"dataframe\">\n",
       "  <thead>\n",
       "    <tr>\n",
       "      <th>pt_id</th>\n",
       "      <th colspan=\"5\" halign=\"left\">1001</th>\n",
       "      <th colspan=\"4\" halign=\"left\">1002</th>\n",
       "      <th>1003</th>\n",
       "      <th>...</th>\n",
       "      <th>6003</th>\n",
       "      <th colspan=\"3\" halign=\"left\">6004</th>\n",
       "      <th colspan=\"3\" halign=\"left\">6005</th>\n",
       "      <th colspan=\"3\" halign=\"left\">6006</th>\n",
       "    </tr>\n",
       "    <tr>\n",
       "      <th>side</th>\n",
       "      <th colspan=\"5\" halign=\"left\">right</th>\n",
       "      <th colspan=\"4\" halign=\"left\">right</th>\n",
       "      <th>right</th>\n",
       "      <th>...</th>\n",
       "      <th>left</th>\n",
       "      <th colspan=\"3\" halign=\"left\">left</th>\n",
       "      <th colspan=\"3\" halign=\"left\">left</th>\n",
       "      <th colspan=\"3\" halign=\"left\">left</th>\n",
       "    </tr>\n",
       "    <tr>\n",
       "      <th>side_dif</th>\n",
       "      <th colspan=\"5\" halign=\"left\">-21.991909</th>\n",
       "      <th colspan=\"4\" halign=\"left\">-37.328481</th>\n",
       "      <th>-13.586091</th>\n",
       "      <th>...</th>\n",
       "      <th>11.938291</th>\n",
       "      <th colspan=\"3\" halign=\"left\">38.418236</th>\n",
       "      <th colspan=\"3\" halign=\"left\">3.022384</th>\n",
       "      <th colspan=\"3\" halign=\"left\">4.303580</th>\n",
       "    </tr>\n",
       "    <tr>\n",
       "      <th>structure</th>\n",
       "      <th>dose_(cgy)</th>\n",
       "      <th>cord</th>\n",
       "      <th>l_parotid</th>\n",
       "      <th>r_parotid</th>\n",
       "      <th>pharynx</th>\n",
       "      <th>dose_(cgy)</th>\n",
       "      <th>r_parotid</th>\n",
       "      <th>l_parotid</th>\n",
       "      <th>pharynx</th>\n",
       "      <th>dose_(cgy)</th>\n",
       "      <th>...</th>\n",
       "      <th>r_parotid</th>\n",
       "      <th>dose_(cgy)</th>\n",
       "      <th>l_parotid</th>\n",
       "      <th>r_parotid</th>\n",
       "      <th>dose_(cgy)</th>\n",
       "      <th>l_parotid</th>\n",
       "      <th>r_parotid</th>\n",
       "      <th>dose_(cgy)</th>\n",
       "      <th>l_parotid</th>\n",
       "      <th>r_parotid</th>\n",
       "    </tr>\n",
       "  </thead>\n",
       "  <tbody>\n",
       "    <tr>\n",
       "      <th>0</th>\n",
       "      <td>0.0</td>\n",
       "      <td>100.0</td>\n",
       "      <td>100.0</td>\n",
       "      <td>100.0</td>\n",
       "      <td>100.0</td>\n",
       "      <td>0.0</td>\n",
       "      <td>100.0</td>\n",
       "      <td>100.0</td>\n",
       "      <td>100.0</td>\n",
       "      <td>0.0</td>\n",
       "      <td>...</td>\n",
       "      <td>100.0</td>\n",
       "      <td>0.0</td>\n",
       "      <td>100.0</td>\n",
       "      <td>100.0</td>\n",
       "      <td>0.0</td>\n",
       "      <td>100.0</td>\n",
       "      <td>100.0</td>\n",
       "      <td>0.0</td>\n",
       "      <td>100.0</td>\n",
       "      <td>100.0</td>\n",
       "    </tr>\n",
       "    <tr>\n",
       "      <th>1</th>\n",
       "      <td>1.0</td>\n",
       "      <td>100.0</td>\n",
       "      <td>100.0</td>\n",
       "      <td>100.0</td>\n",
       "      <td>100.0</td>\n",
       "      <td>1.0</td>\n",
       "      <td>100.0</td>\n",
       "      <td>100.0</td>\n",
       "      <td>100.0</td>\n",
       "      <td>1.0</td>\n",
       "      <td>...</td>\n",
       "      <td>100.0</td>\n",
       "      <td>1.0</td>\n",
       "      <td>100.0</td>\n",
       "      <td>100.0</td>\n",
       "      <td>1.0</td>\n",
       "      <td>100.0</td>\n",
       "      <td>100.0</td>\n",
       "      <td>1.0</td>\n",
       "      <td>100.0</td>\n",
       "      <td>100.0</td>\n",
       "    </tr>\n",
       "    <tr>\n",
       "      <th>2</th>\n",
       "      <td>2.0</td>\n",
       "      <td>100.0</td>\n",
       "      <td>100.0</td>\n",
       "      <td>100.0</td>\n",
       "      <td>100.0</td>\n",
       "      <td>2.0</td>\n",
       "      <td>100.0</td>\n",
       "      <td>100.0</td>\n",
       "      <td>100.0</td>\n",
       "      <td>2.0</td>\n",
       "      <td>...</td>\n",
       "      <td>100.0</td>\n",
       "      <td>2.0</td>\n",
       "      <td>100.0</td>\n",
       "      <td>100.0</td>\n",
       "      <td>2.0</td>\n",
       "      <td>100.0</td>\n",
       "      <td>100.0</td>\n",
       "      <td>2.0</td>\n",
       "      <td>100.0</td>\n",
       "      <td>100.0</td>\n",
       "    </tr>\n",
       "    <tr>\n",
       "      <th>3</th>\n",
       "      <td>3.0</td>\n",
       "      <td>100.0</td>\n",
       "      <td>100.0</td>\n",
       "      <td>100.0</td>\n",
       "      <td>100.0</td>\n",
       "      <td>3.0</td>\n",
       "      <td>100.0</td>\n",
       "      <td>100.0</td>\n",
       "      <td>100.0</td>\n",
       "      <td>3.0</td>\n",
       "      <td>...</td>\n",
       "      <td>100.0</td>\n",
       "      <td>3.0</td>\n",
       "      <td>100.0</td>\n",
       "      <td>100.0</td>\n",
       "      <td>3.0</td>\n",
       "      <td>100.0</td>\n",
       "      <td>100.0</td>\n",
       "      <td>3.0</td>\n",
       "      <td>100.0</td>\n",
       "      <td>100.0</td>\n",
       "    </tr>\n",
       "    <tr>\n",
       "      <th>4</th>\n",
       "      <td>4.0</td>\n",
       "      <td>100.0</td>\n",
       "      <td>100.0</td>\n",
       "      <td>100.0</td>\n",
       "      <td>100.0</td>\n",
       "      <td>4.0</td>\n",
       "      <td>100.0</td>\n",
       "      <td>100.0</td>\n",
       "      <td>100.0</td>\n",
       "      <td>4.0</td>\n",
       "      <td>...</td>\n",
       "      <td>100.0</td>\n",
       "      <td>4.0</td>\n",
       "      <td>100.0</td>\n",
       "      <td>100.0</td>\n",
       "      <td>4.0</td>\n",
       "      <td>100.0</td>\n",
       "      <td>100.0</td>\n",
       "      <td>4.0</td>\n",
       "      <td>100.0</td>\n",
       "      <td>100.0</td>\n",
       "    </tr>\n",
       "  </tbody>\n",
       "</table>\n",
       "<p>5 rows × 259 columns</p>\n",
       "</div>"
      ],
      "text/plain": [
       "pt_id           1001                                          1002            \\\n",
       "side           right                                         right             \n",
       "side_dif  -21.991909                                    -37.328481             \n",
       "structure dose_(cgy)   cord l_parotid r_parotid pharynx dose_(cgy) r_parotid   \n",
       "0                0.0  100.0     100.0     100.0   100.0        0.0     100.0   \n",
       "1                1.0  100.0     100.0     100.0   100.0        1.0     100.0   \n",
       "2                2.0  100.0     100.0     100.0   100.0        2.0     100.0   \n",
       "3                3.0  100.0     100.0     100.0   100.0        3.0     100.0   \n",
       "4                4.0  100.0     100.0     100.0   100.0        4.0     100.0   \n",
       "\n",
       "pt_id                             1003    ...          6003       6004  \\\n",
       "side                             right    ...          left       left   \n",
       "side_dif                    -13.586091    ...     11.938291  38.418236   \n",
       "structure l_parotid pharynx dose_(cgy)    ...     r_parotid dose_(cgy)   \n",
       "0             100.0   100.0        0.0    ...         100.0        0.0   \n",
       "1             100.0   100.0        1.0    ...         100.0        1.0   \n",
       "2             100.0   100.0        2.0    ...         100.0        2.0   \n",
       "3             100.0   100.0        3.0    ...         100.0        3.0   \n",
       "4             100.0   100.0        4.0    ...         100.0        4.0   \n",
       "\n",
       "pt_id                               6005                           6006  \\\n",
       "side                                left                           left   \n",
       "side_dif                       3.022384                       4.303580    \n",
       "structure l_parotid r_parotid dose_(cgy) l_parotid r_parotid dose_(cgy)   \n",
       "0             100.0     100.0        0.0     100.0     100.0        0.0   \n",
       "1             100.0     100.0        1.0     100.0     100.0        1.0   \n",
       "2             100.0     100.0        2.0     100.0     100.0        2.0   \n",
       "3             100.0     100.0        3.0     100.0     100.0        3.0   \n",
       "4             100.0     100.0        4.0     100.0     100.0        4.0   \n",
       "\n",
       "pt_id                          \n",
       "side                           \n",
       "side_dif                       \n",
       "structure l_parotid r_parotid  \n",
       "0             100.0     100.0  \n",
       "1             100.0     100.0  \n",
       "2             100.0     100.0  \n",
       "3             100.0     100.0  \n",
       "4             100.0     100.0  \n",
       "\n",
       "[5 rows x 259 columns]"
      ]
     },
     "execution_count": 22,
     "metadata": {},
     "output_type": "execute_result"
    }
   ],
   "source": [
    "df_level = df\n",
    "df_level.reset_index(inplace=True, drop=True)\n",
    "#df_level.drop('level_0', axis=1, inplace=True)\n",
    "df_level.head()"
   ]
  },
  {
   "cell_type": "code",
   "execution_count": 23,
   "metadata": {
    "collapsed": false
   },
   "outputs": [
    {
     "ename": "AttributeError",
     "evalue": "'tuple' object has no attribute 'split'",
     "output_type": "error",
     "traceback": [
      "\u001b[1;31m---------------------------------------------------------------------------\u001b[0m",
      "\u001b[1;31mAttributeError\u001b[0m                            Traceback (most recent call last)",
      "\u001b[1;32m<ipython-input-23-893610768cf0>\u001b[0m in \u001b[0;36m<module>\u001b[1;34m()\u001b[0m\n\u001b[0;32m      5\u001b[0m \u001b[1;33m\u001b[0m\u001b[0m\n\u001b[0;32m      6\u001b[0m \u001b[1;31m## split at underscore to create tuple\u001b[0m\u001b[1;33m\u001b[0m\u001b[1;33m\u001b[0m\u001b[0m\n\u001b[1;32m----> 7\u001b[1;33m \u001b[0mfiltered_headers\u001b[0m \u001b[1;33m=\u001b[0m \u001b[1;33m[\u001b[0m\u001b[0mi\u001b[0m\u001b[1;33m.\u001b[0m\u001b[0msplit\u001b[0m\u001b[1;33m(\u001b[0m\u001b[1;34m'_'\u001b[0m\u001b[1;33m,\u001b[0m \u001b[1;36m1\u001b[0m\u001b[1;33m)\u001b[0m \u001b[1;32mfor\u001b[0m \u001b[0mi\u001b[0m \u001b[1;32min\u001b[0m \u001b[0mheaders\u001b[0m\u001b[1;33m]\u001b[0m\u001b[1;33m\u001b[0m\u001b[0m\n\u001b[0m\u001b[0;32m      8\u001b[0m \u001b[1;33m\u001b[0m\u001b[0m\n\u001b[0;32m      9\u001b[0m \u001b[1;31m## get unique values and sort them for use\u001b[0m\u001b[1;33m\u001b[0m\u001b[1;33m\u001b[0m\u001b[0m\n",
      "\u001b[1;32m<ipython-input-23-893610768cf0>\u001b[0m in \u001b[0;36m<listcomp>\u001b[1;34m(.0)\u001b[0m\n\u001b[0;32m      5\u001b[0m \u001b[1;33m\u001b[0m\u001b[0m\n\u001b[0;32m      6\u001b[0m \u001b[1;31m## split at underscore to create tuple\u001b[0m\u001b[1;33m\u001b[0m\u001b[1;33m\u001b[0m\u001b[0m\n\u001b[1;32m----> 7\u001b[1;33m \u001b[0mfiltered_headers\u001b[0m \u001b[1;33m=\u001b[0m \u001b[1;33m[\u001b[0m\u001b[0mi\u001b[0m\u001b[1;33m.\u001b[0m\u001b[0msplit\u001b[0m\u001b[1;33m(\u001b[0m\u001b[1;34m'_'\u001b[0m\u001b[1;33m,\u001b[0m \u001b[1;36m1\u001b[0m\u001b[1;33m)\u001b[0m \u001b[1;32mfor\u001b[0m \u001b[0mi\u001b[0m \u001b[1;32min\u001b[0m \u001b[0mheaders\u001b[0m\u001b[1;33m]\u001b[0m\u001b[1;33m\u001b[0m\u001b[0m\n\u001b[0m\u001b[0;32m      8\u001b[0m \u001b[1;33m\u001b[0m\u001b[0m\n\u001b[0;32m      9\u001b[0m \u001b[1;31m## get unique values and sort them for use\u001b[0m\u001b[1;33m\u001b[0m\u001b[1;33m\u001b[0m\u001b[0m\n",
      "\u001b[1;31mAttributeError\u001b[0m: 'tuple' object has no attribute 'split'"
     ]
    }
   ],
   "source": [
    "### Extract additional level based on ID\n",
    "\n",
    "## get list of all headers in dataframe\n",
    "headers = list(df_level.columns.values)\n",
    "\n",
    "## split at underscore to create tuple\n",
    "filtered_headers = [i.split('_', 1) for i in headers]\n",
    "\n",
    "## get unique values and sort them for use\n",
    "#patients = sorted(list(set(filtered_headers)))\n",
    "\n",
    "filtered_headers[-10:]\n",
    "\n",
    "df_level.loc[-1] = filtered_headers\n",
    "df_level.index = df_level.index + 1\n",
    "df_level = df_level.sort_index()\n",
    "\n",
    "df_level.head()\n",
    "#df.head()\n"
   ]
  },
  {
   "cell_type": "code",
   "execution_count": null,
   "metadata": {
    "collapsed": false
   },
   "outputs": [],
   "source": [
    "df.info()\n",
    "#df_1001.info()"
   ]
  },
  {
   "cell_type": "code",
   "execution_count": null,
   "metadata": {
    "collapsed": true
   },
   "outputs": [],
   "source": []
  }
 ],
 "metadata": {
  "kernelspec": {
   "display_name": "Python 3",
   "language": "python",
   "name": "python3"
  },
  "language_info": {
   "codemirror_mode": {
    "name": "ipython",
    "version": 3
   },
   "file_extension": ".py",
   "mimetype": "text/x-python",
   "name": "python",
   "nbconvert_exporter": "python",
   "pygments_lexer": "ipython3",
   "version": "3.4.4"
  }
 },
 "nbformat": 4,
 "nbformat_minor": 0
}
