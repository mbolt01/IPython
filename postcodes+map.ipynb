{
 "cells": [
  {
   "cell_type": "markdown",
   "metadata": {},
   "source": [
    "## Convert postcodes for centres into lat and long\n",
    "- this should allow plotting onto a map"
   ]
  },
  {
   "cell_type": "code",
   "execution_count": 1,
   "metadata": {
    "collapsed": false
   },
   "outputs": [],
   "source": [
    "## use the 'postcodes' module http://postcodes.readthedocs.io/ <<< does not work anymore!\n",
    "## use the 'geocoder' module from https://geocoder.readthedocs.io/\n",
    "\n",
    "import geocoder\n",
    "import time # use to add pauses due to goole limits of request/sec\n",
    "import pandas as pd\n",
    "import matplotlib.pyplot as plt\n",
    "from mpl_toolkits.basemap import Basemap\n",
    "import numpy as np"
   ]
  },
  {
   "cell_type": "code",
   "execution_count": 2,
   "metadata": {
    "collapsed": false
   },
   "outputs": [
    {
     "name": "stdout",
     "output_type": "stream",
     "text": [
      "<[OK] Google - Geocode [Baird Dr, Wood Street Village, Guildford GU3 3EE, UK]>\n",
      "[51.2486717, -0.6298129]\n",
      "51.2486717\n"
     ]
    }
   ],
   "source": [
    "## usage example to get the lat/lng\n",
    "time.sleep(0.1) # 10/sec\n",
    "g = geocoder.google('GU3 3EE') #note that google limits to 50/sec, so add a small pauce between each?\n",
    "print(g)\n",
    "print(g.latlng)\n",
    "print(g.latlng[0]) # get only the lat, use [1] for lng"
   ]
  },
  {
   "cell_type": "code",
   "execution_count": 3,
   "metadata": {
    "collapsed": true
   },
   "outputs": [],
   "source": [
    "## turn the above into a function to return the lat and lng values in a tuple\n",
    "\n",
    "def postcode_to_lat_lng(postcode):\n",
    "    ## input postcode and return (lat,lng) values\n",
    "    g = geocoder.google(postcode)\n",
    "    lat,lng = g.latlng\n",
    "    return lat,lng"
   ]
  },
  {
   "cell_type": "code",
   "execution_count": 4,
   "metadata": {
    "collapsed": false
   },
   "outputs": [
    {
     "data": {
      "text/plain": [
       "(51.2486717, -0.6298129)"
      ]
     },
     "execution_count": 4,
     "metadata": {},
     "output_type": "execute_result"
    }
   ],
   "source": [
    "postcode_to_lat_lng('GU3 3EE')"
   ]
  },
  {
   "cell_type": "markdown",
   "metadata": {},
   "source": [
    "### import list of centre_IDs and postcodes from excel"
   ]
  },
  {
   "cell_type": "code",
   "execution_count": 8,
   "metadata": {
    "collapsed": false
   },
   "outputs": [
    {
     "data": {
      "text/html": [
       "<div>\n",
       "<table border=\"1\" class=\"dataframe\">\n",
       "  <thead>\n",
       "    <tr style=\"text-align: right;\">\n",
       "      <th></th>\n",
       "      <th>Centre ID</th>\n",
       "      <th>PostCode</th>\n",
       "    </tr>\n",
       "  </thead>\n",
       "  <tbody>\n",
       "    <tr>\n",
       "      <th>0</th>\n",
       "      <td>1</td>\n",
       "      <td>CB2 0QQ</td>\n",
       "    </tr>\n",
       "    <tr>\n",
       "      <th>1</th>\n",
       "      <td>2</td>\n",
       "      <td>CH63 4JY</td>\n",
       "    </tr>\n",
       "    <tr>\n",
       "      <th>2</th>\n",
       "      <td>3</td>\n",
       "      <td>HU3 2JZ</td>\n",
       "    </tr>\n",
       "  </tbody>\n",
       "</table>\n",
       "</div>"
      ],
      "text/plain": [
       "   Centre ID  PostCode\n",
       "0          1   CB2 0QQ\n",
       "1          2  CH63 4JY\n",
       "2          3   HU3 2JZ"
      ]
     },
     "execution_count": 8,
     "metadata": {},
     "output_type": "execute_result"
    }
   ],
   "source": [
    "file = 'Data to Import\\postcodes\\postcodes.xlsx'\n",
    "postcodes = pd.read_excel(file)\n",
    "postcodes.head(3)"
   ]
  },
  {
   "cell_type": "markdown",
   "metadata": {},
   "source": [
    "### Get the lat and long in a list for the postcodes imported"
   ]
  },
  {
   "cell_type": "code",
   "execution_count": 10,
   "metadata": {
    "collapsed": false
   },
   "outputs": [
    {
     "name": "stdout",
     "output_type": "stream",
     "text": [
      "[52.1750602, 53.33226699999999, 53.7444119, 52.5839404, 51.5538356, 51.2410252, 50.8495891, 51.49790789999999, 50.7219874, 55.8836424, 55.00277610000001, 53.79086359999999, 51.5532242, 50.71671190000001, 53.8014452, 50.9330194, 50.8194684, 53.4297494, 51.487054, 51.614923, 51.504642, 51.27366199999999, 51.49087050000001, 52.4533091, 52.1912021, 51.4514024, 51.3436197, 51.2665887, 50.8665366, 50.9306069, 51.63888919999999, 52.6009805, 53.0500936, 51.235926, 52.05623259999999, 51.7235537, 51.5248655, 51.5230219, 50.4823253, 57.4738232, 50.2665575, 51.0119699, 55.92192859999999, 51.5199992, 52.910345, 53.5532482, 53.4875447, 51.41384979999999, 51.2186071, 52.9434389, 52.4214237, 54.55175509999999]\n"
     ]
    }
   ],
   "source": [
    "## loop through each row and get lat and long in 2 lists\n",
    "lats = []\n",
    "lngs = []\n",
    "for postcode in postcodes['PostCode']:\n",
    "    lat = postcode_to_lat_lng(postcode)[0]\n",
    "    lng = postcode_to_lat_lng(postcode)[1]\n",
    "    lats.append(lat)\n",
    "    lngs.append(lng)\n",
    "    time.sleep(0.05)\n",
    "    #print(postcode)\n",
    "print(lats)"
   ]
  },
  {
   "cell_type": "code",
   "execution_count": 11,
   "metadata": {
    "collapsed": false
   },
   "outputs": [
    {
     "data": {
      "text/html": [
       "<div>\n",
       "<table border=\"1\" class=\"dataframe\">\n",
       "  <thead>\n",
       "    <tr style=\"text-align: right;\">\n",
       "      <th></th>\n",
       "      <th>Centre ID</th>\n",
       "      <th>PostCode</th>\n",
       "      <th>lat</th>\n",
       "      <th>lng</th>\n",
       "    </tr>\n",
       "  </thead>\n",
       "  <tbody>\n",
       "    <tr>\n",
       "      <th>0</th>\n",
       "      <td>1</td>\n",
       "      <td>CB2 0QQ</td>\n",
       "      <td>52.175060</td>\n",
       "      <td>0.141723</td>\n",
       "    </tr>\n",
       "    <tr>\n",
       "      <th>1</th>\n",
       "      <td>2</td>\n",
       "      <td>CH63 4JY</td>\n",
       "      <td>53.332267</td>\n",
       "      <td>-3.025849</td>\n",
       "    </tr>\n",
       "    <tr>\n",
       "      <th>2</th>\n",
       "      <td>3</td>\n",
       "      <td>HU3 2JZ</td>\n",
       "      <td>53.744412</td>\n",
       "      <td>-0.358271</td>\n",
       "    </tr>\n",
       "    <tr>\n",
       "      <th>3</th>\n",
       "      <td>4</td>\n",
       "      <td>PE3 9GZ</td>\n",
       "      <td>52.583940</td>\n",
       "      <td>-0.279473</td>\n",
       "    </tr>\n",
       "    <tr>\n",
       "      <th>4</th>\n",
       "      <td>5</td>\n",
       "      <td>SS0 0RY</td>\n",
       "      <td>51.553836</td>\n",
       "      <td>0.689093</td>\n",
       "    </tr>\n",
       "  </tbody>\n",
       "</table>\n",
       "</div>"
      ],
      "text/plain": [
       "   Centre ID  PostCode        lat       lng\n",
       "0          1   CB2 0QQ  52.175060  0.141723\n",
       "1          2  CH63 4JY  53.332267 -3.025849\n",
       "2          3   HU3 2JZ  53.744412 -0.358271\n",
       "3          4   PE3 9GZ  52.583940 -0.279473\n",
       "4          5   SS0 0RY  51.553836  0.689093"
      ]
     },
     "execution_count": 11,
     "metadata": {},
     "output_type": "execute_result"
    }
   ],
   "source": [
    "## add the lat and lng to the df\n",
    "postcodes['lat']=lats\n",
    "postcodes['lng']=lngs\n",
    "postcodes.head()"
   ]
  },
  {
   "cell_type": "code",
   "execution_count": 12,
   "metadata": {
    "collapsed": false
   },
   "outputs": [
    {
     "data": {
      "image/png": "[encoded data removed]",
      "text/plain": [
       "<matplotlib.figure.Figure at 0x9ee40f0>"
      ]
     },
     "metadata": {},
     "output_type": "display_data"
    }
   ],
   "source": [
    "## qucik check of rough shape to see if it is UK shaped...\n",
    "plt.plot(postcodes['lng'],postcodes['lat'], ls='',marker='o')\n",
    "plt.show()"
   ]
  },
  {
   "cell_type": "code",
   "execution_count": 13,
   "metadata": {
    "collapsed": false
   },
   "outputs": [
    {
     "name": "stdout",
     "output_type": "stream",
     "text": [
      "50.2665575 57.4738232 -5.0942626 1.0870833\n"
     ]
    }
   ],
   "source": [
    "## find max and min of lng/lat for plots\n",
    "lat_max = max(postcodes['lat'])\n",
    "lat_min = min(postcodes['lat'])\n",
    "lng_max = max(postcodes['lng'])\n",
    "lng_min = min(postcodes['lng'])\n",
    "print(lat_min,lat_max,lng_min,lng_max)"
   ]
  },
  {
   "cell_type": "code",
   "execution_count": null,
   "metadata": {
    "collapsed": false
   },
   "outputs": [],
   "source": [
    "# make sure the value of resolution is a lowercase L,\n",
    "#  for 'low', not a numeral 1\n",
    "# make sure the value of resolution is a lowercase L,\n",
    "#  for 'low', not a numeral 1\n",
    "offset = 1 #lat/lng offset for map\n",
    "#print(list(postcodes['lng']))\n",
    "\n",
    "my_map = Basemap(projection='ortho', lat_0 = 55, lon_0 = -3,\n",
    "                 resolution = 'i',\n",
    "                 llcrnrx=-700000,llcrnry=-700000,urcrnrx=500000,urcrnry=500000)\n",
    " \n",
    "my_map.drawcoastlines()\n",
    "my_map.drawcountries()\n",
    "my_map.fillcontinents(color = 'lightgreen')\n",
    "my_map.drawmapboundary()\n",
    " \n",
    "pltlons = list(postcodes['lng'])\n",
    "pltlats = list(postcodes['lat'])\n",
    "x,y = my_map(pltlons, pltlats)\n",
    "my_map.plot(x, y, marker='o',color='blue', markersize=5)\n",
    "#plt.savefig('op-map.png', bbox_inches='tight', dpi=300)\n",
    "plt.show()"
   ]
  },
  {
   "cell_type": "code",
   "execution_count": 12,
   "metadata": {
    "collapsed": true
   },
   "outputs": [],
   "source": []
  },
  {
   "cell_type": "markdown",
   "metadata": {
    "collapsed": true
   },
   "source": [
    "## Try with cartopy instead of basemap"
   ]
  }
 ],
 "metadata": {
  "anaconda-cloud": {},
  "kernelspec": {
   "display_name": "Python [default]",
   "language": "python",
   "name": "python3"
  },
  "language_info": {
   "codemirror_mode": {
    "name": "ipython",
    "version": 3
   },
   "file_extension": ".py",
   "mimetype": "text/x-python",
   "name": "python",
   "nbconvert_exporter": "python",
   "pygments_lexer": "ipython3",
   "version": "3.5.2"
  }
 },
 "nbformat": 4,
 "nbformat_minor": 1
}
