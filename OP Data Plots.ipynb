{
 "cells": [
  {
   "cell_type": "code",
   "execution_count": 2,
   "metadata": {
    "collapsed": false
   },
   "outputs": [],
   "source": [
    "import numpy as np\n",
    "import pandas as pd\n",
    "pd.set_option(\"display.date_dayfirst\", True)\n",
    "pd.set_option(\"display.date_yearfirst\", False)\n",
    "#pd.describe_option('display.date_yearfirst')\n",
    "import matplotlib.pyplot as plt\n",
    "plt.style.use('seaborn-whitegrid') #matplotlib now also has styles which can be imported for ease\n",
    "#plt.style.available\n",
    "%matplotlib inline\n",
    "import matplotlib.mlab as mlab\n",
    "from datetime import datetime\n",
    "from scipy import stats\n",
    "\n",
    "import matplotlib.pylab as pylab\n",
    "\n",
    "## For graphing - nice to look at and simple plots, but with less control than matplotlib\n",
    "#import seaborn as sns\n",
    "#sns.set_style('whitegrid')\n",
    "#sns.set_context(\"talk\") # larger text etc. Use sns.set() to go back to default\n",
    "\n",
    "import os\n",
    "cwd = os.getcwd()"
   ]
  },
  {
   "cell_type": "markdown",
   "metadata": {},
   "source": [
    "# Import file into pandas dataframe"
   ]
  },
  {
   "cell_type": "code",
   "execution_count": 3,
   "metadata": {
    "collapsed": false
   },
   "outputs": [
    {
     "name": "stdout",
     "output_type": "stream",
     "text": [
      "\"Data to Import/OP_pickles/OP_all_data_5perc_cutoff.pkl\" imported\n"
     ]
    },
    {
     "data": {
      "text/html": [
       "<div>\n",
       "<table border=\"1\" class=\"dataframe\">\n",
       "  <thead>\n",
       "    <tr style=\"text-align: right;\">\n",
       "      <th></th>\n",
       "      <th>Centre_ID</th>\n",
       "      <th>Group</th>\n",
       "      <th>Linac_ID</th>\n",
       "      <th>OP_Dif</th>\n",
       "      <th>Week</th>\n",
       "      <th>Month</th>\n",
       "    </tr>\n",
       "  </thead>\n",
       "  <tbody>\n",
       "    <tr>\n",
       "      <th>count</th>\n",
       "      <td>24501.000000</td>\n",
       "      <td>24501.000000</td>\n",
       "      <td>24501.000000</td>\n",
       "      <td>24501.000000</td>\n",
       "      <td>24501.000000</td>\n",
       "      <td>24501.000000</td>\n",
       "    </tr>\n",
       "    <tr>\n",
       "      <th>mean</th>\n",
       "      <td>21.584180</td>\n",
       "      <td>4.259704</td>\n",
       "      <td>101.157218</td>\n",
       "      <td>-0.009354</td>\n",
       "      <td>14.181013</td>\n",
       "      <td>3.548712</td>\n",
       "    </tr>\n",
       "    <tr>\n",
       "      <th>std</th>\n",
       "      <td>15.938045</td>\n",
       "      <td>2.248378</td>\n",
       "      <td>59.686101</td>\n",
       "      <td>0.878064</td>\n",
       "      <td>7.429770</td>\n",
       "      <td>1.709769</td>\n",
       "    </tr>\n",
       "    <tr>\n",
       "      <th>min</th>\n",
       "      <td>1.000000</td>\n",
       "      <td>1.000000</td>\n",
       "      <td>1.000000</td>\n",
       "      <td>-4.400000</td>\n",
       "      <td>1.000000</td>\n",
       "      <td>1.000000</td>\n",
       "    </tr>\n",
       "    <tr>\n",
       "      <th>25%</th>\n",
       "      <td>10.000000</td>\n",
       "      <td>2.000000</td>\n",
       "      <td>53.000000</td>\n",
       "      <td>-0.600000</td>\n",
       "      <td>8.000000</td>\n",
       "      <td>2.000000</td>\n",
       "    </tr>\n",
       "    <tr>\n",
       "      <th>50%</th>\n",
       "      <td>18.000000</td>\n",
       "      <td>4.000000</td>\n",
       "      <td>99.000000</td>\n",
       "      <td>0.000000</td>\n",
       "      <td>14.000000</td>\n",
       "      <td>4.000000</td>\n",
       "    </tr>\n",
       "    <tr>\n",
       "      <th>75%</th>\n",
       "      <td>36.000000</td>\n",
       "      <td>6.000000</td>\n",
       "      <td>148.000000</td>\n",
       "      <td>0.561393</td>\n",
       "      <td>21.000000</td>\n",
       "      <td>5.000000</td>\n",
       "    </tr>\n",
       "    <tr>\n",
       "      <th>max</th>\n",
       "      <td>52.000000</td>\n",
       "      <td>9.000000</td>\n",
       "      <td>204.000000</td>\n",
       "      <td>3.980000</td>\n",
       "      <td>27.000000</td>\n",
       "      <td>6.000000</td>\n",
       "    </tr>\n",
       "  </tbody>\n",
       "</table>\n",
       "</div>"
      ],
      "text/plain": [
       "          Centre_ID         Group      Linac_ID        OP_Dif          Week  \\\n",
       "count  24501.000000  24501.000000  24501.000000  24501.000000  24501.000000   \n",
       "mean      21.584180      4.259704    101.157218     -0.009354     14.181013   \n",
       "std       15.938045      2.248378     59.686101      0.878064      7.429770   \n",
       "min        1.000000      1.000000      1.000000     -4.400000      1.000000   \n",
       "25%       10.000000      2.000000     53.000000     -0.600000      8.000000   \n",
       "50%       18.000000      4.000000     99.000000      0.000000     14.000000   \n",
       "75%       36.000000      6.000000    148.000000      0.561393     21.000000   \n",
       "max       52.000000      9.000000    204.000000      3.980000     27.000000   \n",
       "\n",
       "              Month  \n",
       "count  24501.000000  \n",
       "mean       3.548712  \n",
       "std        1.709769  \n",
       "min        1.000000  \n",
       "25%        2.000000  \n",
       "50%        4.000000  \n",
       "75%        5.000000  \n",
       "max        6.000000  "
      ]
     },
     "execution_count": 3,
     "metadata": {},
     "output_type": "execute_result"
    }
   ],
   "source": [
    "#mainpath = 'C:/Users/mb22/OneDrive/PhD/Quasar Shared/'\n",
    "#filepath = 'Data/NPL_Table_All.xlsx'\n",
    "\n",
    "new_file = False\n",
    "\n",
    "if new_file == False:\n",
    "    filepath = 'Data to Import/OP_pickles/OP_all_data_5perc_cutoff.pkl'\n",
    "    all_data = pd.read_pickle(filepath)\n",
    "    print('\"' + filepath + '\" imported')\n",
    "\n",
    "else:\n",
    "    filepath = 'Data to Import/All_Ext_OPs-Jan-Jun2015-06Apr16-Anon.xlsx'\n",
    "\n",
    "    #fullpath=mainpath+filepath\n",
    "    fullpath=cwd+'/'+filepath # use if need to specify full path for some reason.\n",
    "    print(fullpath) #note forward and backward slashes in output\n",
    "\n",
    "    #all_data = pd.read_excel(filepath, parse_dates=['Date'])\n",
    "    all_data = pd.read_excel(filepath)\n",
    "    #all_data.head(2)\n",
    "\n",
    "all_data.describe()"
   ]
  },
  {
   "cell_type": "markdown",
   "metadata": {},
   "source": [
    "## Remove Unwanted Dates & Outliers"
   ]
  },
  {
   "cell_type": "code",
   "execution_count": 4,
   "metadata": {
    "collapsed": false
   },
   "outputs": [
    {
     "name": "stdout",
     "output_type": "stream",
     "text": [
      "Not required\n"
     ]
    }
   ],
   "source": [
    "## if importing usual file then no need to do this.\n",
    "if new_file == True:\n",
    "\n",
    "    cutoff_perc = 5.0\n",
    "\n",
    "    all_data = all_data[(all_data.OP_Dif >-cutoff_perc)\n",
    "                       & (all_data.OP_Dif < cutoff_perc)\n",
    "                       & (all_data.Date < \"01/July/2015\")\n",
    "                       & (all_data.Date >= \"01/Jan/2015\")]\n",
    "    all_data.describe()\n",
    "    #all_data.head()\n",
    "else:\n",
    "    print(\"Not required\")"
   ]
  },
  {
   "cell_type": "markdown",
   "metadata": {},
   "source": [
    "### Add a columns containing the week and month numbers and if Farmer used."
   ]
  },
  {
   "cell_type": "code",
   "execution_count": 5,
   "metadata": {
    "collapsed": false
   },
   "outputs": [
    {
     "name": "stdout",
     "output_type": "stream",
     "text": [
      "Not required\n"
     ]
    }
   ],
   "source": [
    "## only need to do this for new data files\n",
    "if new_file == True:\n",
    "    all_data['Week'] = all_data['Date'].dt.week\n",
    "    all_data['Month'] = all_data['Date'].dt.month\n",
    "\n",
    "    ## check if Farmer is used and set value in Farmer column\n",
    "    is_farmer = all_data.Measurement_Device.str.contains('Farmer')\n",
    "    all_data['Farmer'] = pd.Series(['Farmer'] * len(all_data)) * is_farmer\n",
    "\n",
    "    ##Set blank values of farmer to 'No\n",
    "    all_data.Farmer[all_data.Farmer == ''] = 'Non-Farmer'\n",
    "else:\n",
    "    print(\"Not required\")\n"
   ]
  },
  {
   "cell_type": "code",
   "execution_count": 6,
   "metadata": {
    "collapsed": false
   },
   "outputs": [
    {
     "name": "stdout",
     "output_type": "stream",
     "text": [
      "['Farmer' 'Non-Farmer' nan]\n"
     ]
    },
    {
     "data": {
      "text/html": [
       "<div>\n",
       "<table border=\"1\" class=\"dataframe\">\n",
       "  <thead>\n",
       "    <tr style=\"text-align: right;\">\n",
       "      <th></th>\n",
       "      <th>Centre_ID</th>\n",
       "      <th>NHS_PP</th>\n",
       "      <th>Group</th>\n",
       "      <th>Linac_Manufacturer</th>\n",
       "      <th>Linac_Model</th>\n",
       "      <th>Linac_Install_Date</th>\n",
       "      <th>Linac_ID</th>\n",
       "      <th>Date</th>\n",
       "      <th>Measurement_Device</th>\n",
       "      <th>OP_Dif</th>\n",
       "      <th>Recording</th>\n",
       "      <th>Comments</th>\n",
       "      <th>Week</th>\n",
       "      <th>Month</th>\n",
       "      <th>Farmer</th>\n",
       "    </tr>\n",
       "  </thead>\n",
       "  <tbody>\n",
       "    <tr>\n",
       "      <th>20</th>\n",
       "      <td>1</td>\n",
       "      <td>NHS</td>\n",
       "      <td>5</td>\n",
       "      <td>Elekta</td>\n",
       "      <td>Agility</td>\n",
       "      <td>2014</td>\n",
       "      <td>1</td>\n",
       "      <td>2015-06-18</td>\n",
       "      <td>Farmer</td>\n",
       "      <td>-0.4</td>\n",
       "      <td>Paper</td>\n",
       "      <td>NaN</td>\n",
       "      <td>25</td>\n",
       "      <td>6</td>\n",
       "      <td>Farmer</td>\n",
       "    </tr>\n",
       "    <tr>\n",
       "      <th>21</th>\n",
       "      <td>1</td>\n",
       "      <td>NHS</td>\n",
       "      <td>5</td>\n",
       "      <td>Elekta</td>\n",
       "      <td>Agility</td>\n",
       "      <td>2014</td>\n",
       "      <td>1</td>\n",
       "      <td>2015-01-02</td>\n",
       "      <td>Linacheck</td>\n",
       "      <td>-0.7</td>\n",
       "      <td>Paper</td>\n",
       "      <td>NaN</td>\n",
       "      <td>1</td>\n",
       "      <td>1</td>\n",
       "      <td>Non-Farmer</td>\n",
       "    </tr>\n",
       "  </tbody>\n",
       "</table>\n",
       "</div>"
      ],
      "text/plain": [
       "    Centre_ID NHS_PP  Group Linac_Manufacturer Linac_Model Linac_Install_Date  \\\n",
       "20          1    NHS      5             Elekta     Agility               2014   \n",
       "21          1    NHS      5             Elekta     Agility               2014   \n",
       "\n",
       "    Linac_ID       Date Measurement_Device  OP_Dif Recording Comments  Week  \\\n",
       "20         1 2015-06-18             Farmer    -0.4     Paper      NaN    25   \n",
       "21         1 2015-01-02          Linacheck    -0.7     Paper      NaN     1   \n",
       "\n",
       "    Month      Farmer  \n",
       "20      6      Farmer  \n",
       "21      1  Non-Farmer  "
      ]
     },
     "execution_count": 6,
     "metadata": {},
     "output_type": "execute_result"
    }
   ],
   "source": [
    "print(all_data['Farmer'].unique())\n",
    "all_data[20:22]"
   ]
  },
  {
   "cell_type": "code",
   "execution_count": 7,
   "metadata": {
    "collapsed": true
   },
   "outputs": [],
   "source": [
    "## save DF as a pickle file for simple import.\n",
    "#all_data.to_pickle('OP_all_data_5perc_cutoff.pkl')"
   ]
  },
  {
   "cell_type": "code",
   "execution_count": 54,
   "metadata": {
    "collapsed": false
   },
   "outputs": [
    {
     "name": "stderr",
     "output_type": "stream",
     "text": [
      "C:\\Users\\mb22\\AppData\\Local\\Continuum\\Anaconda3\\lib\\site-packages\\matplotlib\\axes\\_axes.py:5991: RuntimeWarning: invalid value encountered in true_divide\n",
      "  m = (m.astype(float) / db) / m.sum()\n",
      "C:\\Users\\mb22\\AppData\\Local\\Continuum\\Anaconda3\\lib\\site-packages\\scipy\\stats\\_distn_infrastructure.py:1646: RuntimeWarning: invalid value encountered in greater\n",
      "  cond0 = self._argcheck(*args) & (scale > 0)\n",
      "C:\\Users\\mb22\\AppData\\Local\\Continuum\\Anaconda3\\lib\\site-packages\\scipy\\stats\\_distn_infrastructure.py:872: RuntimeWarning: invalid value encountered in greater_equal\n",
      "  return (self.a <= x) & (x <= self.b)\n",
      "C:\\Users\\mb22\\AppData\\Local\\Continuum\\Anaconda3\\lib\\site-packages\\scipy\\stats\\_distn_infrastructure.py:872: RuntimeWarning: invalid value encountered in less_equal\n",
      "  return (self.a <= x) & (x <= self.b)\n",
      "C:\\Users\\mb22\\AppData\\Local\\Continuum\\Anaconda3\\lib\\site-packages\\scipy\\stats\\_distn_infrastructure.py:1647: RuntimeWarning: invalid value encountered in greater\n",
      "  cond1 = self._support_mask(x) & (scale > 0)\n",
      "C:\\Users\\mb22\\AppData\\Local\\Continuum\\Anaconda3\\lib\\site-packages\\scipy\\stats\\_distn_infrastructure.py:1645: RuntimeWarning: divide by zero encountered in true_divide\n",
      "  x = np.asarray((x - loc)/scale, dtype=dtyp)\n",
      "C:\\Users\\mb22\\AppData\\Local\\Continuum\\Anaconda3\\lib\\site-packages\\numpy\\core\\_methods.py:82: RuntimeWarning: Degrees of freedom <= 0 for slice\n",
      "  warnings.warn(\"Degrees of freedom <= 0 for slice\", RuntimeWarning)\n",
      "C:\\Users\\mb22\\AppData\\Local\\Continuum\\Anaconda3\\lib\\site-packages\\numpy\\core\\_methods.py:116: RuntimeWarning: invalid value encountered in double_scalars\n",
      "  ret = ret.dtype.type(ret / rcount)\n",
      "C:\\Users\\mb22\\AppData\\Local\\Continuum\\Anaconda3\\lib\\site-packages\\scipy\\stats\\_distn_infrastructure.py:875: RuntimeWarning: invalid value encountered in greater\n",
      "  return (self.a < x) & (x < self.b)\n",
      "C:\\Users\\mb22\\AppData\\Local\\Continuum\\Anaconda3\\lib\\site-packages\\scipy\\stats\\_distn_infrastructure.py:875: RuntimeWarning: invalid value encountered in less\n",
      "  return (self.a < x) & (x < self.b)\n",
      "C:\\Users\\mb22\\AppData\\Local\\Continuum\\Anaconda3\\lib\\site-packages\\scipy\\stats\\_distn_infrastructure.py:1814: RuntimeWarning: invalid value encountered in less_equal\n",
      "  cond2 = cond0 & (x <= self.a)\n"
     ]
    },
    {
     "name": "stdout",
     "output_type": "stream",
     "text": [
      "Plots produced\n"
     ]
    }
   ],
   "source": [
    "## produce histograms of each linacs farmer and other data (more conventional than violin plots)\n",
    "\n",
    "plt.figure(figsize=(4, 3))\n",
    "plt.style.use('ggplot')\n",
    "\n",
    "## get list of all centres\n",
    "centres = sorted(all_data['Centre_ID'].unique())\n",
    "centres.insert(0,1)\n",
    "\n",
    "centres=[14,14]\n",
    "#print(centres)\n",
    "## remove centre 14 as coming up with error when plotting\n",
    "#if 14 in centres: centres.remove(14)\n",
    "#print(centres)\n",
    "## loop through each centres data\n",
    "for centre_use in centres:\n",
    "    centre_data = all_data[all_data['Centre_ID']==centre_use]\n",
    "    ## get list of linacs in current centre\n",
    "    linacs = sorted(centre_data['Linac_ID'].unique())\n",
    "    \n",
    "    ## plot for each linac\n",
    "    for linac_use in linacs:\n",
    "        ## get current linac data\n",
    "        linac_data = centre_data[centre_data['Linac_ID']==linac_use]\n",
    "        \n",
    "        ## extract farmer and non-farmer data\n",
    "        farmer_data = linac_data[linac_data['Farmer']=='Farmer']\n",
    "        non_farmer_data = linac_data[linac_data['Farmer']!='Farmer']\n",
    "\n",
    "        #plt.hist(farmer_data['OP_Dif'], alpha = 1, normed=True, label = 'Farmer',\n",
    "        #         range=(-5,5), bins=25, color='Black', histtype='step')\n",
    "        #plt.hist(non_farmer_data['OP_Dif'], alpha = 1, normed=True, label = 'Non-Farmer',\n",
    "        #         range=(-5,5), bins=25, color='Green', histtype='step')\n",
    "\n",
    "        ## can plot both sets of data with a single command\n",
    "        ## matplotlib plot\n",
    "        farmer_label = 'Farmer (n=' + str(len(farmer_data['OP_Dif'])) + ')'\n",
    "        non_farmer_label = 'Non-Farmer (n=' + str(len(non_farmer_data['OP_Dif'])) + ')'\n",
    "        \n",
    "        plt.hist((farmer_data['OP_Dif'],non_farmer_data['OP_Dif']), alpha = 0.5, normed=True, label = (farmer_label,non_farmer_label),\n",
    "                 range=(-5,5), bins=30, color=('Green','Blue'), histtype='stepfilled')\n",
    "        \n",
    "        ## add fitted gaussians to the plot\n",
    "        \n",
    "        mean_farmer = np.mean(farmer_data['OP_Dif'])\n",
    "        sd_farmer = np.std(farmer_data['OP_Dif'])\n",
    "        mean_non_farmer = np.mean(non_farmer_data['OP_Dif'])\n",
    "        sd_non_farmer = np.std(non_farmer_data['OP_Dif'])\n",
    "        \n",
    "        x_fit = np.linspace(-3,3,121)\n",
    "        plt.plot(x_fit, stats.norm.pdf(x_fit,mean_farmer,sd_farmer),\n",
    "                 ls='-', color='DarkGreen')\n",
    "        plt.plot(x_fit, stats.norm.pdf(x_fit,mean_non_farmer,sd_non_farmer),\n",
    "                 ls='-', color='DarkBlue')\n",
    "        \n",
    "        ## calculate p-stat and put on plot\n",
    "        compare_result = stats.ttest_ind(farmer_data['OP_Dif'],non_farmer_data['OP_Dif'], equal_var = False)\n",
    "        p_val = compare_result[1]\n",
    "        \n",
    "        ## use axis limits to position text consistently\n",
    "        ymin, ymax= plt.ylim()\n",
    "        \n",
    "        if p_val < 0.001:\n",
    "            p_val_text = 'p-val: <0.001'\n",
    "        else:\n",
    "            p_val_text = 'p-val: ' + str(round(p_val,3))       \n",
    "        #plt.annotate(p_val_text,(1.5,0.8*ymax))\n",
    "        \n",
    "        ## calcualte mean dif and add to plot\n",
    "        mean_dif = mean_farmer - mean_non_farmer\n",
    "        mean_text = 'mean dif (%): ' + str(round(mean_dif,1))\n",
    "        #plt.annotate(mean_text,(1.5,0.9*ymax))\n",
    "        \n",
    "        ## add indicator if p<0.05 and dif > 0.5\n",
    "        \n",
    "        if p_val < 0.05 and abs(mean_dif) > 0.5:\n",
    "            info_text = '*Large Sig Dif'\n",
    "        else:\n",
    "            info_text = ''\n",
    "        #plt.annotate(info_text,(-2.5,0.9*ymax))\n",
    "        \n",
    "        #plt.plot()\n",
    "        \n",
    "        ## seaborn plot with kernal density estimate added ## note is fails if no data to plot\n",
    "        #print(centre_use,linac_use,len(farmer_data['OP_Dif']),len(non_farmer_data['OP_Dif']))\n",
    "        #if len(farmer_data['OP_Dif']!=0):\n",
    "        #    sns.distplot(farmer_data['OP_Dif'],label = 'Farmer', fit=stats.norm, kde=False)\n",
    "        #if len(non_farmer_data['OP_Dif']!=0):\n",
    "        #    sns.distplot(non_farmer_data['OP_Dif'], label='Non-Farmer', fit=stats.norm, kde=False)\n",
    "\n",
    "        ## add useful info to plot\n",
    "        plt.xlim(-3,3)\n",
    "        plt.xlabel('Output Dif (%)')\n",
    "        plt.ylabel('Relative Proportion')\n",
    "        plt.title('Centre ' + str(centre_use) + ', Linac ' + str(linac_use))\n",
    "        plt.legend(loc='upper left', bbox_to_anchor=(1, 0.5))\n",
    "\n",
    "        #plt.savefig(('OPs/Farmer Comparison/Linacs/gauss/C' + str(centre_use) + 'L' + str(linac_use) + '-gauss.png'), bbox_inches='tight', dpi=300)\n",
    "        plt.close()\n",
    "\n",
    "print('Plots produced')"
   ]
  },
  {
   "cell_type": "code",
   "execution_count": 48,
   "metadata": {
    "collapsed": false
   },
   "outputs": [
    {
     "ename": "IndentationError",
     "evalue": "unexpected indent (<ipython-input-48-d44ad4f5312d>, line 10)",
     "output_type": "error",
     "traceback": [
      "\u001b[0;36m  File \u001b[0;32m\"<ipython-input-48-d44ad4f5312d>\"\u001b[0;36m, line \u001b[0;32m10\u001b[0m\n\u001b[0;31m    centre_data = all_data[all_data['Centre_ID']==centre_use].sort_values(by='Date')\u001b[0m\n\u001b[0m    ^\u001b[0m\n\u001b[0;31mIndentationError\u001b[0m\u001b[0;31m:\u001b[0m unexpected indent\n"
     ]
    }
   ],
   "source": [
    "## produce plots for each linac in a centre\n",
    "\n",
    "centres = sorted(all_data['Centre_ID'].unique())\n",
    "#print(centres)\n",
    "#centre_use = 1\n",
    "\n",
    "#centres = [1,2,3]\n",
    "\n",
    "#for centre_use in centres:\n",
    "    centre_data = all_data[all_data['Centre_ID']==centre_use].sort_values(by='Date')\n",
    "\n",
    "    linacs = sorted(centre_data['Linac_ID'].unique())\n",
    "    #print(linacs)\n",
    "\n",
    "    for linac_use in linacs:\n",
    "        linac_data = centre_data[centre_data['Linac_ID'] == linac_use]\n",
    "        plt.plot(linac_data['Date'],linac_data['OP_Dif'],label=linac_use)\n",
    "\n",
    "    plt.legend(bbox_to_anchor=(1.05, 1), loc=2, borderaxespad=0., title='Linac ID')\n",
    "    plt.ylim(-3,3)\n",
    "    plt.title('Linac Outputs for Centre ' + str(centre_use))\n",
    "    plt.xlabel('Date')\n",
    "    plt.ylabel('Output (%)')\n",
    "    plt.xlim(min(centre_data['Date'])-pd.DateOffset(days=2),max(centre_data['Date'])+pd.DateOffset(days=2))\n",
    "    #plt.savefig(('OPs/centres/OPs-' + str(centre_use) + '.png'), bbox_inches='tight', dpi=300)\n",
    "    plt.close()"
   ]
  },
  {
   "cell_type": "code",
   "execution_count": null,
   "metadata": {
    "collapsed": false
   },
   "outputs": [],
   "source": [
    "## Plot the mean results (+/- SD) for each month\n",
    "month_mean = all_data.groupby('Month').mean()\n",
    "month_sd = all_data.groupby('Month').std()\n",
    "plt.plot(month_mean['OP_Dif'])\n",
    "plt.plot(month_mean['OP_Dif'] + month_sd['OP_Dif'])\n",
    "plt.plot(month_mean['OP_Dif'] - month_sd['OP_Dif'])\n",
    "plt.ylim(-3,3)\n",
    "plt.axhline(0, color='Black', alpha=0.5)\n",
    "plt.xlabel(\"Month\")\n",
    "plt.ylabel(\"Dif (%)\")\n",
    "plt.title(\"Mean from each month\")\n",
    "#weeks['OP_Dif'].describe()\n",
    "## Shows dip in measurement frequency at easter\n",
    "##Dips on ends due to week 1 and 27 only havign 2 days of data within their weeks\n",
    "#week_plot = all_data['OP_Dif'].hist(by=all_data['Month'], figsize=(8,8))\n"
   ]
  },
  {
   "cell_type": "markdown",
   "metadata": {},
   "source": [
    "# Calculate some stats & check data types"
   ]
  },
  {
   "cell_type": "code",
   "execution_count": null,
   "metadata": {
    "collapsed": false,
    "scrolled": true
   },
   "outputs": [],
   "source": [
    "mean = np.mean(all_data['OP_Dif'])\n",
    "sd = np.std(all_data['OP_Dif'])\n",
    "all_data.describe()\n",
    "#all_data.dtypes\n",
    "\n",
    "#all_data.groupby(['Type'])['Energy'].nunique().reset_index() # number of unique dates = number of visits"
   ]
  },
  {
   "cell_type": "markdown",
   "metadata": {},
   "source": [
    "# Make some quick graphs"
   ]
  },
  {
   "cell_type": "markdown",
   "metadata": {},
   "source": [
    "### Plots groups by various parameters\n",
    " -Manufacturer/Model/Year of install/Region"
   ]
  },
  {
   "cell_type": "markdown",
   "metadata": {},
   "source": [
    "# Histograms"
   ]
  },
  {
   "cell_type": "code",
   "execution_count": null,
   "metadata": {
    "collapsed": false,
    "scrolled": true
   },
   "outputs": [],
   "source": [
    "## Linac Manufacturer\n",
    "#all_data['OP_Dif'].hist(by=all_data['Linac_Manufacturer'], normed=False, bins=21, range=(-3,3), rwidth=1, figsize=(10,7), layout=(2,3))\n",
    "#plt.savefig('OPs/All_Hist_Manufacturer.png', bbox_inches='tight', dpi=300)\n",
    "\n",
    "## Linac Model\n",
    "#all_data['OP_Dif'].hist(by=all_data['Linac_Model'], normed=False, bins=11, range=(-3,3), rwidth=1, figsize=(18,18))\n",
    "#plt.savefig('OPs/All_Hist_Model.png', bbox_inches='tight', dpi=300)\n",
    "\n",
    "## Install Year\n",
    "#all_data['OP_Dif'].hist(by=all_data['Linac_Install_Date'], normed=False, bins=11, range=(-3,3), rwidth=1, figsize=(16,9), layout=(3,6))\n",
    "#plt.savefig('OPs/All_Hist_Year.png', bbox_inches='tight', dpi=300)\n",
    "\n",
    "## Centre\n",
    "#all_data['OP_Dif'].hist(by=all_data['Centre_ID'], normed=False, bins=11, range=(-3,3), rwidth=1, figsize=(18,18))\n",
    "#plt.savefig('OPs/All_Hist_Centre.png', bbox_inches='tight', dpi=300)\n",
    "\n",
    "## Region\n",
    "#all_data['OP_Dif'].hist(by=all_data['Group'], normed=False, bins=21, range=(-3,3), rwidth=1, figsize=(8,8))\n",
    "#plt.savefig('OPs/All_Hist_Region.png', bbox_inches='tight', dpi=300)\n",
    "\n",
    "## All Data\n",
    "all_data['OP_Dif'].hist(normed=False, bins=24, range=(-3.0,3.0), rwidth=1, figsize=(8,8))\n",
    "#plt.savefig('OPs/All_Hist.png', bbox_inches='tight', dpi=300)\n",
    "\n",
    "plt.show()\n"
   ]
  },
  {
   "cell_type": "markdown",
   "metadata": {
    "collapsed": true
   },
   "source": [
    "# Get some more stats such as Mean, SD, Skew etc."
   ]
  },
  {
   "cell_type": "code",
   "execution_count": null,
   "metadata": {
    "collapsed": false
   },
   "outputs": [],
   "source": [
    "from scipy import stats\n",
    "\n",
    "print('Skew: ', all_data['OP_Dif'].skew())\n",
    "print('SEM: ', all_data['OP_Dif'].sem())\n",
    "print('Mean: ', all_data['OP_Dif'].mean())\n",
    "print('SD: ', all_data['OP_Dif'].std()) # Need to remove outliers for useful stats\n",
    "print('Kurtosis: ', all_data['OP_Dif'].kurtosis())\n",
    "print('stats.kurtosis: ', stats.kurtosis(all_data['OP_Dif'], axis=0, fisher=False, bias=False))\n",
    "print('Max: ', all_data['OP_Dif'].max())\n",
    "print('Min: ', all_data['OP_Dif'].min())\n",
    "\n",
    "print('Skew Test: ', stats.skewtest(all_data['OP_Dif']))\n",
    "print('Kurtosis Test: ', stats.kurtosistest(all_data['OP_Dif']))\n",
    "print('Norm Test: ', stats.normaltest(all_data['OP_Dif']))\n"
   ]
  },
  {
   "cell_type": "markdown",
   "metadata": {},
   "source": [
    "### Non-normal?\n",
    "The tests for normality have p values which indicate the resutls are non-normal. \n",
    "This is liekly due tot he large amounts of data, which can cause even very small deviations from normality to be statistically different from normal.\n",
    "\n",
    "I think in our case, if required the distributions can be considered as normal (e.g. if want to calcualte how many centres are outside a given range)"
   ]
  },
  {
   "cell_type": "markdown",
   "metadata": {},
   "source": [
    "# Plot of All Audits"
   ]
  },
  {
   "cell_type": "code",
   "execution_count": null,
   "metadata": {
    "collapsed": false
   },
   "outputs": [],
   "source": [
    "# Calculate rolling SD of 20 values\n",
    "\n",
    "all_data_datesort = all_data.sort_values(by='Date', ascending=True)\n",
    "\n",
    "all_data_datesort['SD_Prev1000'] = np.nan\n",
    "#all_data_datesort['SD_Prev1000'] = pd.rolling_std(all_data_datesort['OP_Dif'],window=1000) ## pre v18 of pandas\n",
    "all_data_datesort['SD_Prev1000'] = all_data_datesort['OP_Dif'].rolling(window=1000,center=False).std()\n",
    "\n",
    "#all_data_datesort['Mean_Prev1000'] = pd.rolling_mean(all_data_datesort['OP_Dif'],window=1000) ## pre v18 of pandas\n",
    "all_data_datesort['Mean_Prev1000'] = all_data_datesort['OP_Dif'].rolling(window=1000,center=False).mean()\n",
    "\n",
    "all_data_datesort.tail(3)\n"
   ]
  },
  {
   "cell_type": "markdown",
   "metadata": {},
   "source": [
    "### To do with OPs\n",
    "\n",
    "- Loop through each linac and calc mean & SD for outputs.\n",
    "\t- SD will give indication of measurement variability\n",
    "\t- Can plot spread of means = variation present depending on linac which treated on.\n",
    "\t- Output table (array) of linac ID, mean, SD\n",
    "- Loop through each centre - done by using 'groupby'\n",
    "    - Mean + SD for each centre"
   ]
  },
  {
   "cell_type": "markdown",
   "metadata": {},
   "source": [
    "## Centre grouping"
   ]
  },
  {
   "cell_type": "code",
   "execution_count": null,
   "metadata": {
    "collapsed": false
   },
   "outputs": [],
   "source": [
    "m = all_data_datesort[(all_data_datesort.OP_Dif >-5) & (all_data_datesort.OP_Dif < 5)] # remove outliers\n",
    "\n",
    "#m = all_data_datesort\n",
    "g = m.groupby('Centre_ID')\n",
    "gmean = g.mean()\n",
    "#gmean = gmean.sort(['OP_Dif'], ascending=True) ## pre v18 of pandas\n",
    "gmean = gmean.sort_values(by='OP_Dif', ascending=True)\n",
    "gsd=g.std()\n",
    "gsdneg=-gsd\n",
    "gsdnorm=gmean+gsd # to ensure SD is centred around mean\n",
    "gsdnegnorm=gmean-gsd\n",
    "\n",
    "## If want to also show SD on same plot, then need to order the SDs in the same order as the means...\n",
    "\n",
    "plt.figure(figsize=(10,7))\n",
    "myplotcentre = gmean['OP_Dif'].plot(kind='bar', color='red', alpha = 0.5, width=0.8)\n",
    "#myplotcentre = gsdnorm['OP_Dif'].plot(kind='bar', color='blue', alpha = 0.5) # SD but best to do a box plot?\n",
    "#myplotcentre = gsdnegnorm['OP_Dif'].plot(kind='bar', color='blue', alpha = 0.5)\n",
    "plt.axhline(0, color='black')\n",
    "\n",
    "myplotcentre.axes.get_xaxis().set_ticks([])\n",
    "\n",
    "plt.ylim(-2,2)\n",
    "plt.title(\"Mean for each centre\")\n",
    "\n",
    "#plt.savefig('OPs/All_Centre_Means-bar-corr.png', bbox_inches='tight', dpi=300)"
   ]
  },
  {
   "cell_type": "markdown",
   "metadata": {},
   "source": [
    "## Linac Grouping"
   ]
  },
  {
   "cell_type": "code",
   "execution_count": null,
   "metadata": {
    "collapsed": false
   },
   "outputs": [],
   "source": [
    "plt.figure(figsize=(20,12))\n",
    "#plt.rcParams.update({'font.size': 22})\n",
    "l = m.groupby('Linac_ID')\n",
    "## calc mean for each linac\n",
    "lmean = l.mean()\n",
    "## sort into order\n",
    "#lmean = lmean.sort(['OP_Dif'], ascending=True) ## pre v18 of pandas\n",
    "lmean = lmean.sort_values(by='OP_Dif', ascending=True)\n",
    "lsd=l.std()\n",
    "#lsd = lsd.sort(['OP_Dif'])\n",
    "lsdneg=-lsd\n",
    "lsdnorm=lmean+lsd # to ensure SD is centred around mean\n",
    "lsdnegnorm=lmean-lsd\n",
    "myplotlinac = lmean['OP_Dif'].plot(kind='bar', color='red', alpha = 0.6, width = 1)\n",
    "plt.title(\"Mean Radiation Output (%) for Individual Linacs over 6 Month Period\", fontsize=20)\n",
    "\n",
    "### These need to be ordered the same as the linacs to be useful\n",
    "#myplotlinac = lsdnorm['OP_Dif'].plot(kind='bar', color='blue', alpha = 0.5, width = 0.5)\n",
    "#myplotlinac = lsdnegnorm['OP_Dif'].plot(kind='bar', color='green', alpha = 0.5, width = 0.5)\n",
    "\n",
    "myplotlinac.axes.get_xaxis().set_ticks([])\n",
    "plt.yticks([-2,-1,0,1,2], fontsize = 15)\n",
    "plt.xlabel(\"Linac\", fontsize=15)\n",
    "plt.ylim(-2.5,2.5)\n",
    "\n",
    "mean_max = max(lmean['OP_Dif'])\n",
    "mean_min = min(lmean['OP_Dif'])\n",
    "mean_range = mean_max - mean_min\n",
    "print('Mean Max: ' + str(mean_max))\n",
    "print('Mean Min: ' + str(mean_min))\n",
    "print('Mean Range: ' + str(mean_range))\n",
    "\n",
    "#print(lsd.mean())\n",
    "\n",
    "#plt.savefig('OPs/All_Linacs_Means-bar-corr-large_text1.png', bbox_inches='tight', dpi=300)"
   ]
  },
  {
   "cell_type": "code",
   "execution_count": null,
   "metadata": {
    "collapsed": false
   },
   "outputs": [],
   "source": [
    "##save mean OPs as csv\n",
    "lmean['OP_Dif'].to_csv(r'C:\\Users\\mb22\\OneDrive\\PhD\\Quasar Shared\\Modelling\\IPython\\OPs\\Linac_means.csv')"
   ]
  },
  {
   "cell_type": "code",
   "execution_count": null,
   "metadata": {
    "collapsed": false
   },
   "outputs": [],
   "source": [
    "## re-import means and get some stats\n",
    "means_for_stats = pd.read_csv(r'C:\\Users\\mb22\\OneDrive\\PhD\\Quasar Shared\\Modelling\\IPython\\OPs\\Linac_means.csv',header=None, names=['ID','Mean_OP'])\n",
    "ms=means_for_stats['Mean_OP']\n",
    "means_sd = ms.std()\n",
    "means_sd"
   ]
  },
  {
   "cell_type": "code",
   "execution_count": null,
   "metadata": {
    "collapsed": false
   },
   "outputs": [],
   "source": [
    "## test means for normality\n",
    "\n",
    "import scipy as sp\n",
    "\n",
    "sp.stats.mstats.normaltest(ms)\n",
    "\n",
    "## p-val is >0.05, so cannot say ti is not-normal. Tehrefore assume normal distribution for getting results\n",
    "## i.e. can use the standard deviation to test how the variaiton in means affects the population."
   ]
  },
  {
   "cell_type": "code",
   "execution_count": null,
   "metadata": {
    "collapsed": false
   },
   "outputs": [],
   "source": [
    "## plot all linacs for a centre\n",
    "centre_highlight = 1\n",
    "l = m.groupby('Linac_ID')\n",
    "l_centre = m[m.Centre_ID == centre_highlight]\n",
    "linac_highlights = sorted(l_centre['Linac_ID'].unique())\n",
    "#l_centre_highlight = l_centre_highlight.sort()\n",
    "print(linac_highlights)\n",
    "#table[table.column_name == some_value]"
   ]
  },
  {
   "cell_type": "code",
   "execution_count": null,
   "metadata": {
    "collapsed": false
   },
   "outputs": [],
   "source": [
    "#pick a linac ot highlight\n",
    "\n",
    "run_all = False\n",
    "\n",
    "## plot range of linacs\n",
    "#linac_highlights = np.arange(1,max(m['Linac_ID'])+1) # all linacs (likely to run out of memory)\n",
    "#centre_use = False\n",
    "\n",
    "## select single linac\n",
    "#linac_highlights=[1]\n",
    "#centre_use = False\n",
    "\n",
    "## plot all linacs for a centre\n",
    "#centre_highlight = 2\n",
    "centre_highlights = np.arange(1,max(m['Centre_ID'])+1)\n",
    "centre_use = True\n",
    "\n",
    "if run_all == True:\n",
    "    for c in centre_highlights:\n",
    "        centre_highlight = c\n",
    "\n",
    "        l_centre = m[m.Centre_ID == centre_highlight]\n",
    "        linac_highlights = sorted(l_centre['Linac_ID'].unique())\n",
    "\n",
    "        ##group the data into Linac IDs\n",
    "        l = m.groupby('Linac_ID')\n",
    "\n",
    "        ## calc mean for each linac\n",
    "        lmean = l.mean()\n",
    "\n",
    "        ## sort values by the Output\n",
    "        lmean_sort = lmean.sort_values(by='OP_Dif')\n",
    "\n",
    "        ## get sorted OP values in an array\n",
    "        lmean_op = np.array(lmean_sort['OP_Dif'])\n",
    "\n",
    "        ## get sorted list of linac IDs in an array\n",
    "        lmean_id = np.array(lmean_sort.index.values)\n",
    "\n",
    "        ## make new array with ordered index for plot (i.e. 0 - 204 linacs)\n",
    "        plot_index = np.arange(0,len(lmean_op))\n",
    "\n",
    "        ## set figure size\n",
    "        plt.figure(figsize=(20,12))\n",
    "\n",
    "        ## create plot of all linacs\n",
    "        plt.bar(plot_index, lmean_op, color='darkorange', alpha=0.8, width=1)\n",
    "\n",
    "        for x in linac_highlights:\n",
    "\n",
    "            linac_highlight = x\n",
    "\n",
    "            ## get index of linac to highlight\n",
    "            highlight_index = np.where(lmean_id==linac_highlight)[0][0]\n",
    "            #print('Linac highlighted: ID = ' + str(linac_highlight))\n",
    "\n",
    "            if centre_use == True:\n",
    "                plt.bar(plot_index[highlight_index], lmean_op[highlight_index],\n",
    "                    color='green', width=1)\n",
    "            else:\n",
    "                ## create plot of highlighted linac over the top\n",
    "                plt.bar(plot_index[highlight_index], lmean_op[highlight_index],\n",
    "                    color='green', width=1, label=('Linac ID: ' + str(linac_highlight)))\n",
    "\n",
    "        if centre_use == True:\n",
    "            str_label = ('Centre ID: ' + str(centre_highlight))\n",
    "            plt.text(2, 2.5, str_label, fontsize=20)\n",
    "\n",
    "        ## format plot\n",
    "        plt.xlim(0,max(lmean_id))\n",
    "        plt.ylim(-3,3)\n",
    "        plt.axhline(0,color='black', alpha=0.8, linewidth=1)\n",
    "        plt.title('Mean Linac Outputs', fontsize=20)\n",
    "        plt.xlabel('Linac ID', fontsize=20)\n",
    "        plt.ylabel('Mean Output (%)', fontsize=20)\n",
    "        plt.legend(loc='upper left', fontsize=20)\n",
    "        plt.grid(None)\n",
    "        plt.gca().yaxis.grid(True)\n",
    "        plt.gca().get_xaxis().set_ticks([])\n",
    "\n",
    "        #plt.savefig('OPs/Linacs_vs_all/Centre_' + str(centre_highlight) +'.png', bbox_inches='tight', dpi=300)\n",
    "        plt.close()\n",
    "else:\n",
    "    print(\"Not run\")"
   ]
  },
  {
   "cell_type": "markdown",
   "metadata": {},
   "source": [
    "### Show SD on graph as error bars\n",
    " - Would like these plotted in order"
   ]
  },
  {
   "cell_type": "code",
   "execution_count": null,
   "metadata": {
    "collapsed": false
   },
   "outputs": [],
   "source": [
    "xyz = l['OP_Dif'].quantile(q=0.05)\n",
    "xyz.head()"
   ]
  },
  {
   "cell_type": "code",
   "execution_count": null,
   "metadata": {
    "collapsed": false
   },
   "outputs": [],
   "source": [
    "## group data into Linacs\n",
    "l = m.groupby('Linac_ID')\n",
    "\n",
    "## create arrays of mean/sd for OP\n",
    "lmean = l['OP_Dif'].mean()\n",
    "lsd = l['OP_Dif'].std()\n",
    "\n",
    "## calculate mean +/- error for plotting\n",
    "## can specify number of SDs or percentiles\n",
    "\n",
    "use_sd_plot = True\n",
    "use_order = True\n",
    "\n",
    "if use_sd_plot == True:\n",
    "    no_sds = 1 # specify number of SDs to add to mean\n",
    "    lpos=lmean+(lsd * no_sds)\n",
    "    lneg=lmean-(lsd * no_sds)\n",
    "else:\n",
    "    p_up = 0.95\n",
    "    p_down = 1-p_up\n",
    "    l_percentile_top = l['OP_Dif'].quantile(q=p_up)\n",
    "    l_percentile_bottom = l['OP_Dif'].quantile(q=p_down)\n",
    "    lpos = l_percentile_top\n",
    "    lneg = l_percentile_bottom\n",
    "\n",
    "## compile a dicitonary of data ready to make the df\n",
    "l_data = {'OP_mean': lmean,\n",
    "          'OP_sd': lsd,\n",
    "          'OP_pos': lpos,\n",
    "          'OP_neg': lneg\n",
    "         }\n",
    "\n",
    "## join mean and sd into single df (sort if specified)\n",
    "if use_order == True:\n",
    "    l_mean_plot = pd.concat(l_data,axis=1).sort_values(by='OP_mean', ascending=True)\n",
    "else:\n",
    "    l_mean_plot = pd.concat(l_data,axis=1)\n",
    "\n",
    "## create array from 1-n_linacs for plotting in order and add to df\n",
    "lorder = pd.Series(np.arange(1,max(m['Linac_ID'])+1, 1))\n",
    "\n",
    "l_mean_plot['Order']=lorder.values\n",
    "\n",
    "## Using pandas to plot\n",
    "#ax = l_mean_plot.plot(x= 'Order', y='OP_mean', kind='line', color='red', alpha = 1)\n",
    "#l_mean_plot.plot(x= 'Order', y='OP_pos', kind='line', color='blue', alpha = 1, ax=ax)\n",
    "#l_mean_plot.plot(x= 'Order', y='OP_neg', kind='line', color='blue', alpha = 1, ax=ax)\n",
    "\n",
    "## using Matplotlib to plot (using fill_between unavailable in pandas)\n",
    "plt.plot(l_mean_plot.Order, l_mean_plot.OP_mean, color='red')\n",
    "#plt.plot(l_mean_plot.Order, l_mean_plot.OP_pos, color='blue')\n",
    "#plt.plot(l_mean_plot.Order, l_mean_plot.OP_neg, color='blue')\n",
    "plt.fill_between(l_mean_plot.Order, l_mean_plot.OP_pos, l_mean_plot.OP_neg, color='blue', alpha=0.2)\n",
    "\n",
    "plt.ylim(-4,4)\n",
    "plt.xlim(0,max(l_mean_plot.Order)+1)\n",
    "plt.title('Mean Linac Output Measured over 6 Month Period')\n",
    "plt.ylabel('Output (%)')\n",
    "plt.xlabel('Number of Linacs')\n",
    "\n",
    "#plt.savefig('OPs/All_Linacs/Means1SD.png', bbox_inches='tight', dpi=300)"
   ]
  },
  {
   "cell_type": "code",
   "execution_count": null,
   "metadata": {
    "collapsed": false
   },
   "outputs": [],
   "source": [
    "plt.figure(figsize=(20,8))\n",
    "\n",
    "l = m.groupby('Linac_ID')\n",
    "#l.describe()\n",
    "lmean = l.mean()\n",
    "#lmean = lmean.sort(['OP_Dif'], ascending=True)\n",
    "#lmean = lmean.sort_values(by='OP_Dif', ascending=True)\n",
    "lsd = l.std()\n",
    "lsdnorm=lmean+lsd\n",
    "lsdnegnorm=lmean-lsd\n",
    "\n",
    "myplotlinac = lmean['OP_Dif'].plot(kind='line', color='red', alpha = 1)\n",
    "myplotlinac = lsdnorm['OP_Dif'].plot(kind='line', color='blue', alpha = 0.5)\n",
    "myplotlinac = lsdnegnorm['OP_Dif'].plot(kind='line', color='blue', alpha = 0.5)\n",
    "\n",
    "#op_mean_sd = lmean['OP_Dif'].plot(yerr=lsd, kind='bar', width=0.5, color='red', alpha=0.5)\n",
    "#plt.xlim(0,50)\n",
    "plt.ylim(-4,4)\n",
    "plt.ylabel('Output (%)')\n",
    "plt.xlabel('Linac')\n",
    "\n",
    "## Hide x axis tick labels (simple 1 line method used)\n",
    "#plt.tick_params(\n",
    "#    axis='x',          # changes apply to the x-axis\n",
    "#    which='both',      # both major and minor ticks are affected\n",
    "#    bottom='off',      # ticks along the bottom edge are off\n",
    "#    top='off',         # ticks along the top edge are off\n",
    "#    labelbottom='off')\n",
    "plt.gca().xaxis.set_major_locator(plt.NullLocator())\n",
    "plt.show()\n",
    "\n",
    "#plt.savefig('OPs/All_Linacs_Means-bar-corr-SD.png', bbox_inches='tight', dpi=300)"
   ]
  },
  {
   "cell_type": "markdown",
   "metadata": {},
   "source": [
    "### Try and get range filled in\n",
    " - could use seaborn for this as might be easier?"
   ]
  },
  {
   "cell_type": "code",
   "execution_count": null,
   "metadata": {
    "collapsed": false
   },
   "outputs": [],
   "source": [
    "plt.figure(figsize=(20,8))\n",
    "\n",
    "abc = l['OP_Dif']\n",
    "l_id = l['Linac_ID'].mean()\n",
    "\n",
    "plt.fill_between(l_id, (abc.mean()-abc.std()), (abc.mean()+abc.std()),alpha=0.5)\n",
    "plt.plot(l_id,abc.mean())\n",
    "\n",
    "\n",
    "#####\n",
    "\n",
    "#If these seperate bits of data are all combined into a dataframe, then they could be sorted together."
   ]
  },
  {
   "cell_type": "code",
   "execution_count": null,
   "metadata": {
    "collapsed": false
   },
   "outputs": [],
   "source": [
    "pylab.rcParams['figure.figsize'] = 5, 5 # change size of figures\n",
    "\n",
    "from matplotlib.ticker import AutoMinorLocator\n",
    "\n",
    "fig = plt.figure()\n",
    "axes = fig.add_subplot(1,1,1)\n",
    "plt.title('All Data')\n",
    "plt.xlabel(\"Output\")\n",
    "plt.ylabel(\"Number\")\n",
    "#plt.xlim(-3.2, +3.2)\n",
    "#plt.ylim(0, 60)\n",
    "\n",
    "m['OP_Dif'].hist(bins=25, range=(-3.75, 3.75), normed=True,\n",
    "                               facecolor = 'grey', alpha = 0.8, ax=axes, rwidth=1)\n",
    "\n",
    "axes.xaxis.set_minor_locator(AutoMinorLocator(2)) #used to set the number of minor ticks between major ticks\n",
    "plt.tick_params(which='major', width=1, length=5)\n",
    "plt.tick_params(which='minor', width=1, length=3)\n",
    "plt.grid(True, which='major')\n",
    "\n",
    "mean = m['OP_Dif'].mean()\n",
    "sd = m['OP_Dif'].std() # need to exclude outliers for this to be a useful calculation.\n",
    "\n",
    "x = np.linspace(-3.75, 3.75, 100) # add normal distibution fit\n",
    "plt.plot(x, mlab.normpdf(x,mean,sd), linewidth = 2, color='red')\n",
    "\n",
    "print('Mean: ' + str(mean))\n",
    "print('SD: ' + str(sd))\n",
    "#plt.savefig('OPs/All_Hist.png', bbox_inches='tight', dpi=300)"
   ]
  },
  {
   "cell_type": "markdown",
   "metadata": {},
   "source": [
    "## Want to change the colour for a centre to make it clearer? Loop through each and give a colour? or create seperate sets fo data to plot?"
   ]
  },
  {
   "cell_type": "code",
   "execution_count": null,
   "metadata": {
    "collapsed": true
   },
   "outputs": [],
   "source": [
    "#### Only single linacs\n",
    "\n",
    "##Make dataframe contianing only required information\n",
    "linac_plot = all_data[['Linac_ID','Date','OP_Dif','Measurement_Device']].sort_values(by='Date')\n",
    "\n",
    "## Filter to only contain specific range of linacs"
   ]
  },
  {
   "cell_type": "code",
   "execution_count": null,
   "metadata": {
    "collapsed": false
   },
   "outputs": [],
   "source": [
    "ID_nos = []\n",
    "dupes = []\n",
    "\n",
    "n_linacs = 5\n",
    "\n",
    "while (len(ID_nos) == 0) or (len(dupes) == 0) or (len(ID_nos)!=len(dupes)):\n",
    "    ID_nos = np.random.randint(low=min(all_data['Linac_ID']), high=max(all_data['Linac_ID'])+1,size=n_linacs)\n",
    "    dupes = np.unique(ID_nos)\n",
    "    print(dupes)\n",
    "    \n",
    "print(len(ID_nos))\n",
    "print(len(dupes))"
   ]
  },
  {
   "cell_type": "code",
   "execution_count": null,
   "metadata": {
    "collapsed": false
   },
   "outputs": [],
   "source": [
    "n_linacs = 5\n",
    "ID_nos = np.random.randint(low=min(all_data['Linac_ID']), high=max(all_data['Linac_ID'])+1,size=n_linacs)\n",
    "\n",
    "dupes = np.unique(ID_nos)\n",
    "\n",
    "print(len(ID_nos))\n",
    "print(len(dupes))"
   ]
  },
  {
   "cell_type": "code",
   "execution_count": null,
   "metadata": {
    "collapsed": false
   },
   "outputs": [],
   "source": [
    "#### Only single linacs\n",
    "\n",
    "##Make dataframe contianing only required information\n",
    "linac_plot = all_data[['Linac_ID','Date','OP_Dif','Measurement_Device','Centre_ID']].sort_values(by='Date')\n",
    "\n",
    "## Filter types: 'linac_range', 'linac_random', linac_IDs', centre_IDs\n",
    "\n",
    "filter_type = 'linac_random'\n",
    "\n",
    "l_IDs = [1,2,3] # specify to plot particular linac(s) results\n",
    "c_IDs = [1] # specify if plotting a particular centre(s) linacs\n",
    "\n",
    "print(filter_type)\n",
    "\n",
    "ID_nos = []\n",
    "dupes = []\n",
    "\n",
    "if filter_type == 'linac_range':\n",
    "    ## Filter to only contain specific range of linacs\n",
    "    start=150\n",
    "    num=3\n",
    "    \n",
    "    ID_nos = np.linspace(start = start, stop = start+num-1, num = num).astype('int_')\n",
    "\n",
    "    linac_plot_filter = linac_plot[linac_plot['Linac_ID'].isin(ID_nos)\n",
    "                                  #& (linac_plot['Measurement_Device']!='Farmer')\n",
    "                                  ]\n",
    "\n",
    "elif filter_type == 'linac_random':\n",
    "    ## Filter to select n random linacs\n",
    "    n_linacs = 5\n",
    "\n",
    "    if n_linacs > 0.25* max(all_data['Linac_ID']):\n",
    "        raise Exception(\"More than 25% of linacs selected, will take too long to get random linac_IDs. You probably don't want to do this....\")\n",
    "\n",
    "    i=0\n",
    "    while (len(ID_nos) == 0) or (len(dupes) == 0) or (len(ID_nos)!=len(dupes)):\n",
    "        ID_nos = np.random.randint(low=min(all_data['Linac_ID']), high=max(all_data['Linac_ID'])+1,size=n_linacs)\n",
    "        dupes = np.unique(ID_nos)\n",
    "        i=i+1\n",
    "\n",
    "    if i > 1:\n",
    "        print(str(i) + \" loops required to get unique random values.\")\n",
    "\n",
    "elif filter_type == 'linac_IDs':\n",
    "    ## Choose which linacs to select by Linac ID\n",
    "    ID_nos = l_IDs\n",
    "    \n",
    "elif filter_type == 'centre_IDs':\n",
    "    ## Choose which linacs to select by centre ID\n",
    "    ID_nos = c_IDs # centre IDs\n",
    "\n",
    "if filter_type == 'centre_IDs':\n",
    "    linac_plot_filter = linac_plot[linac_plot['Centre_ID'].isin(ID_nos)]\n",
    "    plot_title = (\"Measured Linac Output (%)\\nCentre(s): \" + str(np.sort(ID_nos)))\n",
    "else:\n",
    "    linac_plot_filter = linac_plot[linac_plot['Linac_ID'].isin(ID_nos)]\n",
    "    plot_title = (\"Measured Linac Output (%)\\nLinac(s): \" + str(np.sort(ID_nos)))\n",
    "\n",
    "## Group by linac ID\n",
    "grouped_linacs = linac_plot_filter.groupby('Linac_ID')\n",
    "\n",
    "## Plot all on same plot\n",
    "fig, ax = plt.subplots(figsize=(10,7))\n",
    "for label, df in grouped_linacs:\n",
    "    df.plot(ax=ax, y='OP_Dif', x='Date', label=label, legend=False, title=plot_title, alpha=1)\n",
    "plt.ylim(-3,3)\n",
    "plt.xlim(min(linac_plot['Date'])-pd.DateOffset(days=0),max(linac_plot['Date'])+pd.DateOffset(days=0.5))\n",
    "ax.axhline(0,color='black', alpha=0.5)\n",
    "plt.show()\n",
    "\n",
    "#fig.savefig('OPs/Selected_Linac_OPs_trend.png', bbox_inches='tight', dpi=300)"
   ]
  },
  {
   "cell_type": "markdown",
   "metadata": {},
   "source": [
    "### Try and get Mean / SD / Range for each linac and then group these into centres to analysie the variation within a centre.\n",
    "1. Calc mean for each linac.\n",
    "2. Group into sites\n",
    "3. Calculate stats within sites"
   ]
  },
  {
   "cell_type": "code",
   "execution_count": null,
   "metadata": {
    "collapsed": false
   },
   "outputs": [],
   "source": [
    "## Group by linac and calculate mean\n",
    "group_linacs = all_data.groupby('Linac_ID')\n",
    "linacs1 = group_linacs.mean()\n",
    "\n",
    "##  group this by centre\n",
    "centre1 = linacs1.groupby('Centre_ID')\n",
    "\n",
    "## calculate stats from linac means within each centre\n",
    "c_std = centre1['OP_Dif'].std()\n",
    "c_min = centre1['OP_Dif'].min()\n",
    "c_max = centre1['OP_Dif'].max()\n",
    "c_mean = centre1['OP_Dif'].mean()\n",
    "c_range = c_max-c_min\n",
    "c_id = c_std.index\n",
    "\n",
    "## make a new DF ready contianing the stats so can order the results\n",
    "## compile a dicitonary of data ready to make the df\n",
    "l_c_data = {'c_std': c_std,\n",
    "          'c_min': c_min,\n",
    "          'c_max': c_max,\n",
    "          'c_mean': c_mean,\n",
    "          'c_range': c_range,\n",
    "          'c_id': c_id\n",
    "         }\n",
    "\n",
    "lc_df = pd.DataFrame(l_c_data)\n",
    "lc_df=lc_df.sort_values(by='c_range', ascending=True)\n",
    "\n",
    "lc_order = np.arange(1,53)\n",
    "print(lc_order)\n",
    "\n",
    "lc_df['order'] = lc_order\n",
    "\n",
    "lc_df.head()\n",
    "\n",
    "print(lc_df['order'])\n",
    "print(lc_df['c_range'])\n",
    "\n",
    "plt.plot(x=lc_df.order, y=lc_df.c_range) ###  this ios not working...?\n",
    "\n",
    "## plot the results\n",
    "# plt.plot(c_mean, color='red', label = 'mean')\n",
    "# plt.fill_between(x=c_mean.index, y1=c_min, y2=c_max, alpha=0.5, label = 'range')\n",
    "# plt.ylabel(\"Centre_ID\")\n",
    "# plt.xlabel(\"Output (%)\")\n",
    "# plt.legend()"
   ]
  },
  {
   "cell_type": "code",
   "execution_count": null,
   "metadata": {
    "collapsed": false,
    "scrolled": false
   },
   "outputs": [],
   "source": [
    "m = all_data_datesort[(all_data_datesort.OP_Dif >-5) & (all_data_datesort.OP_Dif < 5) & (all_data_datesort.Date < \"01/July/2015\")] # remove outliers\n",
    "pylab.rcParams['figure.figsize'] = 10, 5 # change size of figures\n",
    "#fig1 = plt.figure()\n",
    "#axes1 = fig1.add_subplot(1,1,1)\n",
    "#plt.title('Machine Output Variation')\n",
    "#plt.xlabel(\"Date\")\n",
    "#plt.ylabel(\"Measured Output\")\n",
    "#plt.ylim(-4, 4)\n",
    "#axes1.xaxis.set_minor_locator(AutoMinorLocator(4)) #used to set the number of minor ticks between major ticks\n",
    "#plt.tick_params(which='major', width=1, length=5)\n",
    "#plt.tick_params(which='minor', width=1, length=3)\n",
    "#plt.grid(True, which='major')\n",
    "\n",
    "#print(max(m['Centre_ID']))\n",
    "#m.values\n",
    "#mark_colors = np.array(m['Centre_ID'])\n",
    "#print(mark_colors)\n",
    "\n",
    "#x=np.arange(1,m['OP_Dif'].count()+1)\n",
    "x=m['Date']\n",
    "y=m['OP_Dif']\n",
    "\n",
    "##This just plots all as the same colour\n",
    "#plt.plot_date(x, y, alpha=0.4, color='b')\n",
    "#yerr=(m['OPError']*m['OPRatio'])/100\n",
    "\n",
    "##The below plots each centre as a different colour\n",
    "df = pd.DataFrame(dict(x=m['Date'],y=m['OP_Dif'],label=m['Centre_ID']))\n",
    "#df = pd.DataFrame(dict(x=m['Date'],y=m['OP_Dif'],label=m['Linac_ID']))\n",
    "\n",
    "groups = df.groupby('label')\n",
    "\n",
    "fig, ax = plt.subplots()\n",
    "for name, group in groups:\n",
    "    ax.plot_date(group.x,group.y,label=name, alpha=0.8, ms=3)\n",
    "#ax.legend(loc='best')\n",
    "#ax.legend(bbox_to_anchor=(1.05, 1), loc=2, borderaxespad=0., numpoints=1, ncol=2)\n",
    "plt.ylim(-3,3)\n",
    "#plt.show()\n",
    "\n",
    "ysd=m['SD_Prev1000']\n",
    "ymean=all_data_datesort['Mean_Prev1000']\n",
    "ax.plot(x,ysd, label='SD', color='black', ls='--', alpha=0.8)\n",
    "ax.plot(x,ymean, label='Mean', color='black', alpha=0.8)\n",
    "ax.axhline(0,color='black', alpha=0.8)\n",
    "#ax.fill_between(x, ymean)\n",
    "#ax.fill_between(t, mu1+sigma1, mu1-sigma1, facecolor='blue', alpha=0.5)\n",
    "#ax.legend()\n",
    "#plt.ylim(0.5,1.5)\n",
    "plt.xlim(min(x)-pd.DateOffset(days=2),max(x)+pd.DateOffset(days=2))\n",
    "\n",
    "#plt.savefig('OPs/All_date_scatter_group_by_centre-mean_sd.png', bbox_inches='tight', dpi=300)\n",
    "#plt.savefig('OPs/All_date_scatter_group_by_centre.png', bbox_inches='tight', dpi=300)"
   ]
  },
  {
   "cell_type": "code",
   "execution_count": null,
   "metadata": {
    "collapsed": false
   },
   "outputs": [],
   "source": [
    "x = all_data['Date'].dt.dayofyear\n",
    "y = all_data['OP_Dif']\n",
    "grad, intercept, r_value, p_value, std_err = stats.linregress(x,y)\n",
    "grad"
   ]
  },
  {
   "cell_type": "code",
   "execution_count": null,
   "metadata": {
    "collapsed": false
   },
   "outputs": [],
   "source": [
    "## use the statsmodels package to give summary of fitting results\n",
    "\n",
    "import statsmodels.api as sm\n",
    "\n",
    "x = all_data['Date'].dt.dayofyear\n",
    "y = all_data['OP_Dif']\n",
    "\n",
    "model = sm.OLS(y, sm.add_constant(x))\n",
    "results = model.fit()\n",
    "print(results.summary())\n",
    "print(results.params)"
   ]
  },
  {
   "cell_type": "code",
   "execution_count": null,
   "metadata": {
    "collapsed": false
   },
   "outputs": [],
   "source": [
    "## use scipy to get numerical regression statistics\n",
    "## and also reproduce plot with the gregression line?\n",
    "\n",
    "grad, intercept, r_value, p_value, std_err = stats.linregress(x,y)\n",
    "print('Grad: ' + str(grad))\n",
    "print('Int: ' + str(intercept))\n",
    "print('r squared: ' + str(r_value**2))\n",
    "print('p_val (assume slope of zero): ' + str(p_value))\n",
    "print('Std Err: ' + str(std_err))\n",
    "\n",
    "## from this statistically the slope is non zero (due to large number of measurements)\n",
    "## however r_squared is also small so "
   ]
  },
  {
   "cell_type": "code",
   "execution_count": null,
   "metadata": {
    "collapsed": false
   },
   "outputs": [],
   "source": [
    "## plot of automatic trend line using seaborn on the whole dataset\n",
    "all_data.head(3)\n",
    "\n",
    "x = all_data['Date'].dt.dayofyear\n",
    "y = all_data['OP_Dif']\n",
    "\n",
    "#plt.plot(the_date,the_val, ls='', marker='o', ms=3, alpha=0.2)\n",
    "sns.regplot(x,y,x_bins=181,truncate=True)\n",
    "plt.xlim(0,185)\n",
    "plt.ylim(-3,3)\n",
    "\n",
    "## can see that there is a slight upward trend. and one set of odd results?"
   ]
  },
  {
   "cell_type": "code",
   "execution_count": null,
   "metadata": {
    "collapsed": false
   },
   "outputs": [],
   "source": [
    "## plot opf all results with fit over the top\n",
    "\n",
    "plt.plot(x,y, ls='', marker='o', alpha=0.2, ms=5)\n",
    "plt.xlim(0,185)\n",
    "plt.ylim(-3,3)\n",
    "plt.axhline(0, color='black', lw=1)\n",
    "## add trendline\n",
    "plt.plot(x,(grad*x+intercept), color='black', lw=2)"
   ]
  },
  {
   "cell_type": "code",
   "execution_count": null,
   "metadata": {
    "collapsed": false
   },
   "outputs": [],
   "source": [
    "test_data = all_data[all_data['Centre_ID'] == 3] \n",
    "len(test_data['Farmer'].unique())\n",
    "print(test_data['Farmer'].unique())\n",
    "\n",
    "if test_data['Farmer'].unique() == ['Farmer']:\n",
    "    print('Farmer')"
   ]
  },
  {
   "cell_type": "code",
   "execution_count": null,
   "metadata": {
    "collapsed": false
   },
   "outputs": [],
   "source": [
    "x = range(1,all_data['Centre_ID'].max()) # number of centres\n",
    "print(x)"
   ]
  },
  {
   "cell_type": "markdown",
   "metadata": {},
   "source": [
    "#### It doesnt look like it is identifying when there is only FArmer data available correctly"
   ]
  },
  {
   "cell_type": "code",
   "execution_count": null,
   "metadata": {
    "collapsed": false
   },
   "outputs": [],
   "source": [
    "### Try and create boxplot for each centre using seaborne\n",
    "\n",
    "#centre = 2\n",
    "\n",
    "#centre = [6] # select centre\n",
    "centre = range(1,all_data['Centre_ID'].max()+1) # all centres\n",
    "\n",
    "for i in centre:\n",
    "    centre = i\n",
    "    plt.figure(figsize=(12,8))\n",
    "    small_data = all_data[all_data['Centre_ID'] == centre]\n",
    "    #small_data['Farmer'].unique()\n",
    "\n",
    "    plot_data = small_data\n",
    "\n",
    "    if len(small_data['Farmer'].unique()) != 1:\n",
    "        hue = plot_data['Farmer']\n",
    "        hue_order = ['Non-Farmer','Farmer']\n",
    "        extra_title = ''\n",
    "    else:\n",
    "        hue=None\n",
    "        hue_order=None\n",
    "        if small_data['Farmer'].unique() == 'Farmer':\n",
    "            extra_title = ': (Farmer Data Only)'\n",
    "        else:\n",
    "            extra_title = ': (Non-Farmer Data Only)'\n",
    "\n",
    "    #sns.stripplot(x=plot_data['Centre_ID'], y=plot_data['OP_Dif'], jitter=0.2, linewidth=1, alpha=0.1, color='grey')\n",
    "    #sns.boxplot(y=plot_data['OP_Dif'], x=plot_data['Centre_ID'])\n",
    "    #sns.swarmplot(y=plot_data['OP_Dif'], x=plot_data['Centre_ID'], hue=plot_data['Linac_Manufacturer'])\n",
    "    sns.violinplot(y=plot_data['OP_Dif'], x=plot_data['Linac_ID'], inner='stick',linewidth=1, bw=0.5,\n",
    "                   hue=hue, hue_order=hue_order, split=True, legend=False, orient='v')\n",
    "    #g.set(xticklabels=[])\n",
    "    sns.axlabel(xlabel='Linac', ylabel='Output Difference (%)')\n",
    "    sns.plt.title('Output Variations for Centre ' + str(centre) + extra_title)\n",
    "    sns.plt.ylim(-5,5)\n",
    "    plt.legend(loc='upper left')\n",
    "    #plt.savefig('OPs/Violins/additional/Centre' + str(centre) +'.png', bbox_inches='tight', dpi=300)\n",
    "    plt.close()"
   ]
  },
  {
   "cell_type": "markdown",
   "metadata": {
    "collapsed": true
   },
   "source": [
    "### Some analysis for different linac models/measurement equipment etc"
   ]
  },
  {
   "cell_type": "code",
   "execution_count": null,
   "metadata": {
    "collapsed": false
   },
   "outputs": [],
   "source": [
    "m.tail(1)"
   ]
  },
  {
   "cell_type": "markdown",
   "metadata": {},
   "source": [
    "### Linac Manufacturer"
   ]
  },
  {
   "cell_type": "code",
   "execution_count": null,
   "metadata": {
    "collapsed": false
   },
   "outputs": [],
   "source": [
    "l = m.groupby(m['Linac_Manufacturer'])\n",
    "## calc mean for each linac\n",
    "lmean = l.mean()\n",
    "## sort into order\n",
    "#lmean = lmean.sort(['OP_Dif'], ascending=False) #prev v18\n",
    "lmean = lmean.sort_values(by='OP_Dif', ascending=False)\n",
    "lsd=l.std()\n",
    "#lsd = lsd.sort(['OP_Dif'], ascending=False) #prev v18\n",
    "lsd = lsd.sort_values(by='OP_Dif', ascending=False)\n",
    "lsdneg=-lsd\n",
    "lsdnorm=lmean+lsd # to ensure SD is centred around mean\n",
    "lsdnegnorm=lmean-lsd\n",
    "#myplotlinac = lmean['OP_Dif'].plot(kind='bar', color='red', alpha = 0.5)\n",
    "myplotlinac = lsd['OP_Dif'].plot(kind='bar', color='red', alpha = 0.5)\n",
    "plt.title('SD')\n",
    "plt.ylim(0,1)\n",
    "\n",
    "myplotlinac.axes.get_xaxis().set_ticks([])\n",
    "\n",
    "mean_max = max(lmean['OP_Dif'])\n",
    "mean_min = min(lmean['OP_Dif'])\n",
    "mean_range = mean_max - mean_min\n",
    "print('Mean Max: ' + str(mean_max))\n",
    "print('Mean Min: ' + str(mean_min))\n",
    "print('Mean Range: ' + str(mean_range))\n",
    "\n",
    "#print(lsd.mean())\n",
    "\n",
    "#plt.savefig('OPs/All_Linacs_Means-bar-corr-large_text.png', bbox_inches='tight', dpi=300)"
   ]
  },
  {
   "cell_type": "code",
   "execution_count": null,
   "metadata": {
    "collapsed": false
   },
   "outputs": [],
   "source": [
    "ax11 = sns.barplot(x=all_data['Linac_Manufacturer'], y=all_data['OP_Dif'], ci=95, color=\"salmon\", saturation=.5)"
   ]
  },
  {
   "cell_type": "code",
   "execution_count": null,
   "metadata": {
    "collapsed": false
   },
   "outputs": [],
   "source": [
    "all_data.head()"
   ]
  },
  {
   "cell_type": "code",
   "execution_count": null,
   "metadata": {
    "collapsed": false
   },
   "outputs": [],
   "source": [
    "## get the list of years and sort them for use in plot\n",
    "years = all_data['Linac_Install_Date'].unique()\n",
    "## get and sort the integers\n",
    "years_int = sorted([x for x in years if isinstance(x, int)])\n",
    "## get the strings\n",
    "years_non_int = [x for x in years if not isinstance(x, int)]\n",
    "## combine string+int back together\n",
    "years_all = years_int + years_non_int\n",
    "\n",
    "## produce plot\n",
    "ax123 = sns.boxplot(x=\"Linac_Install_Date\", y=\"OP_Dif\", data=all_data, order=years_all)\n",
    "plt.ylim(-5,5)"
   ]
  },
  {
   "cell_type": "code",
   "execution_count": null,
   "metadata": {
    "collapsed": false
   },
   "outputs": [],
   "source": [
    "all_data['Linac_Manufacturer'].unique() ## Names of linac manufacturers"
   ]
  },
  {
   "cell_type": "code",
   "execution_count": null,
   "metadata": {
    "collapsed": false
   },
   "outputs": [],
   "source": [
    "l_man = m\n",
    "l_man_box = l_man.boxplot(column=['OP_Dif'],by='Linac_Manufacturer', whis='range', showmeans='True')\n",
    "l_man_box.set_ylim(-5,5)\n",
    "l_man_box.axhline(0, alpha = 0.5, color = 'black')\n",
    "plt.show()\n"
   ]
  },
  {
   "cell_type": "markdown",
   "metadata": {},
   "source": [
    "### Measurement Device"
   ]
  },
  {
   "cell_type": "markdown",
   "metadata": {},
   "source": [
    "### Farmer vs Other"
   ]
  },
  {
   "cell_type": "code",
   "execution_count": null,
   "metadata": {
    "collapsed": false
   },
   "outputs": [],
   "source": [
    "equip = m\n",
    "equip_box = equip.boxplot(column=['OP_Dif'],by='Measurement_Device', whis='range', showmeans='True', rot=90, figsize=(8,5))\n",
    "equip_box.set_ylim(-5,5)\n",
    "equip_box.axhline(0, alpha = 0.5, color = 'black')\n",
    "plt.show()\n",
    "\n",
    "# Note that D44 is a DoseChecker"
   ]
  },
  {
   "cell_type": "code",
   "execution_count": null,
   "metadata": {
    "collapsed": false
   },
   "outputs": [],
   "source": [
    "equip_group = m.groupby(m['Measurement_Device'])\n",
    "## calc mean for each linac\n",
    "equip_mean = equip_group.mean()\n",
    "equip_sd = equip_group.std()\n",
    "\n",
    "myplotequip = equip_sd['OP_Dif'].plot(kind='bar', color='red', alpha = 0.5, figsize=(8,3))"
   ]
  },
  {
   "cell_type": "markdown",
   "metadata": {},
   "source": [
    "### Are Farmers better?\n",
    "\n",
    "An intial look doesnt indicate any clear difference between the consistency of Farmer or other measurement devices.\n",
    "Tehre is also no differnce seen between manufacturers."
   ]
  },
  {
   "cell_type": "markdown",
   "metadata": {},
   "source": [
    "## Age of Linac"
   ]
  },
  {
   "cell_type": "code",
   "execution_count": null,
   "metadata": {
    "collapsed": true
   },
   "outputs": [],
   "source": [
    "import seaborn as sb"
   ]
  },
  {
   "cell_type": "code",
   "execution_count": null,
   "metadata": {
    "collapsed": false
   },
   "outputs": [],
   "source": [
    "age = m\n",
    "\n",
    "age_box = age.boxplot(column=['OP_Dif'],by='Linac_Install_Date', whis='range', showmeans='True', rot=90, figsize=(8,5))\n",
    "age_box.set_ylim(-5,5)\n",
    "age_box.axhline(0, alpha = 0.5, color = 'black')\n",
    "plt.show()\n",
    "\n",
    "#plt.savefig('OPs/Year_boxplots.png', bbox_inches='tight', dpi=300)"
   ]
  },
  {
   "cell_type": "code",
   "execution_count": null,
   "metadata": {
    "collapsed": false
   },
   "outputs": [],
   "source": [
    "#sns.violinplot(x='Linac_Install_Date', y='OP_Dif', data=m, jitter=1, linewidth=1, hue='Linac_Manufacturer')\n",
    "#sns.plt.show()"
   ]
  },
  {
   "cell_type": "markdown",
   "metadata": {},
   "source": [
    "No obvious trend seen with age of linac.\n",
    "In reality, you would have to know how often they require recalibrating to know this, which would be very difficult to guage form a 6 month set of data."
   ]
  },
  {
   "cell_type": "markdown",
   "metadata": {},
   "source": [
    "## Apply Gamma Values to plots\n",
    "Allow determination of variation in outcomes"
   ]
  },
  {
   "cell_type": "code",
   "execution_count": null,
   "metadata": {
    "collapsed": false
   },
   "outputs": [],
   "source": [
    "gamma = 2.0 ## (Bentzen used 2.3 for Tumour control, 5.2 for mild/moderate reactions, 0.9 for severe reactions)\n",
    "\n",
    "plt.figure(figsize=(20,10))\n",
    "#plt.rcParams.update({'font.size': 22})\n",
    "l = m.groupby('Linac_ID')\n",
    "## calc mean for each linac\n",
    "lmean = l.mean()\n",
    "lmean_gamma = lmean*gamma\n",
    "\n",
    "## add an extra column with the OP multiplied by gamma value\n",
    "\n",
    "lmean['Outcome'] = np.nan\n",
    "lmean['Outcome'] = (lmean['OP_Dif']*gamma)\n",
    "\n",
    "## sort into order\n",
    "lmean = lmean.sort_values(by=['OP_Dif'], ascending=True)\n",
    "lmean_gamma = lmean_gamma.sort_values(by=['OP_Dif'], ascending=True)\n",
    "lsd=l.std()\n",
    "lsd = lsd.sort_values(by=['OP_Dif'], ascending=True)\n",
    "lsdneg=-lsd\n",
    "lsdnorm=lmean+lsd # to ensure SD is centred around mean\n",
    "lsdnegnorm=lmean-lsd\n",
    "#myplotlinac = lmean['OP_Dif'].plot(kind='bar', color='red', alpha = 0.5)\n",
    "#myplotlinac = lsd['OP_Dif'].plot(kind='bar', color='red', alpha = 0.5)\n",
    "myplotlinac = lmean['Outcome'].plot(kind='bar', color='red', alpha = 0.5)\n",
    "\n",
    "myplotlinac.axes.get_xaxis().set_ticks([])\n",
    "\n",
    "stats_for = lmean['OP_Dif']\n",
    "\n",
    "mean_mean = stats_for.mean()\n",
    "mean_max = max(stats_for)\n",
    "mean_min = min(stats_for)\n",
    "mean_range = mean_max - mean_min\n",
    "\n",
    "print('Mean Mean: ' + str(mean_mean))\n",
    "print('Mean Max: ' + str(mean_max))\n",
    "print('Mean Min: ' + str(mean_min))\n",
    "print('Mean Range: ' + str(mean_range))\n",
    "\n",
    "mean_med = np.median(stats_for)\n",
    "mean_95 = np.percentile(stats_for, 95, interpolation='higher')\n",
    "mean_05 = np.percentile(stats_for, 5, interpolation='lower')\n",
    "mean_perc_range = mean_95-mean_05\n",
    "\n",
    "print()\n",
    "print('Mean Median: ' + str(mean_med))\n",
    "print('Mean 95th Percentile: ' + str(mean_95))\n",
    "print('Mean 5th Percentile: ' + str(mean_05))\n",
    "print('Percentile Range: ' + str(mean_perc_range))"
   ]
  },
  {
   "cell_type": "code",
   "execution_count": null,
   "metadata": {
    "collapsed": false
   },
   "outputs": [],
   "source": [
    "myplotlinac = lmean['OP_Dif'].plot(kind='hist', bins=13, color='red', alpha = 0.5, figsize=(5,5))\n",
    "plt.xlim(-3,3)\n",
    "plt.show()\n",
    "\n",
    "## Are centres happier to let machines run with low output than high?\n"
   ]
  },
  {
   "cell_type": "code",
   "execution_count": null,
   "metadata": {
    "collapsed": false
   },
   "outputs": [],
   "source": [
    "## how many linacs outside of 2%?\n",
    "\n",
    "perc_tol = np.arange(0,3,0.1) # absolute tol\n",
    "#perc_tol = np.arange(-3,3,0.1)\n",
    "perc_tol_results= np.empty(0)\n",
    "\n",
    "for x in perc_tol:\n",
    "    lmean_oot = lmean[(lmean.OP_Dif > x) | (lmean.OP_Dif < -x)] # only consider absolute tol\n",
    "    #lmean_oot = lmean[(lmean.OP_Dif > x)]\n",
    "    no_oot = len(lmean_oot)\n",
    "    perc_oot = (no_oot/len(lmean))*100\n",
    "    perc_tol_results = np.append(perc_tol_results, no_oot)\n",
    "    print('No. Linacs outside +/- ' + str(x) + '% : ' + str(no_oot) + ' (' + \"%.1f\" % perc_oot + '%)')\n",
    "    \n",
    "plt.plot(perc_tol,(perc_tol_results/len(lmean)*100), marker='o', markersize=3)\n",
    "plt.axhline(50, ls='--')\n",
    "plt.axhline(10, ls='--')\n",
    "plt.axhline(5, ls='--')\n",
    "#plt.axhline(90, ls='--') # if negative tols considered\n",
    "#plt.axhline(95, ls='--') # if negative tols considered\n",
    "plt.xlabel('Tolerance (%)')\n",
    "plt.ylabel('Proportion of Linacs Outside of Tolerenace')\n",
    "\n",
    "all_results = np.concatenate(([perc_tol],[perc_tol_results]),axis=1)\n",
    "all_results = np.reshape(all_results,(2,len(perc_tol))).T\n",
    "\n",
    "np.set_printoptions(precision=2, suppress=True)\n",
    "#print(perc_tol_results,perc_tol)\n",
    "#print(all_results)\n",
    "\n",
    "#plt.savefig('OPs/Proportion_Linac_OOT.png', bbox_inches='tight', dpi=300)"
   ]
  },
  {
   "cell_type": "code",
   "execution_count": null,
   "metadata": {
    "collapsed": false
   },
   "outputs": [],
   "source": [
    "## Difference centres - no difference between centres seen.\n",
    "\n",
    "plt.scatter(lmean['Group'],lmean['OP_Dif'], alpha=0.5)\n",
    "plt.xlabel('Group')\n",
    "plt.axhline(0, color='black', alpha=0.3)\n",
    "plt.ylim(-3,3)\n",
    "plt.ylabel('Output Dif (%)')\n",
    "plt.xlim(0.1,9.9)\n"
   ]
  },
  {
   "cell_type": "code",
   "execution_count": null,
   "metadata": {
    "collapsed": false
   },
   "outputs": [],
   "source": [
    "plt.scatter(lmean['Centre_ID'],lmean['OP_Dif'], alpha=0.5)\n",
    "plt.xlabel('Centre_ID')\n",
    "plt.axhline(0, color='black', alpha=0.5)\n",
    "plt.ylim(-3,3)\n",
    "plt.ylabel('Output Dif (%)')\n",
    "plt.xlim(0,)"
   ]
  },
  {
   "cell_type": "markdown",
   "metadata": {},
   "source": [
    "### What is maximum variation within centres"
   ]
  },
  {
   "cell_type": "code",
   "execution_count": null,
   "metadata": {
    "collapsed": false
   },
   "outputs": [],
   "source": [
    "centre = m\n",
    "centre_box = centre.boxplot(column=['OP_Dif'],by='Centre_ID', whis='range', showmeans='True', rot=90, figsize=(8,5))\n",
    "centre_box.set_ylim(-5,5)\n",
    "centre_box.axhline(0, alpha = 0.5, color = 'black')\n"
   ]
  },
  {
   "cell_type": "code",
   "execution_count": null,
   "metadata": {
    "collapsed": false
   },
   "outputs": [],
   "source": [
    "plt.figure(figsize=(20,10))\n",
    "#plt.rcParams.update({'font.size': 22})\n",
    "l = m.groupby('Linac_ID')\n",
    "## calc mean for each linac\n",
    "lmean = l.mean()\n",
    "## sort into order\n",
    "lmean = lmean.sort_values(by=['OP_Dif'], ascending=False)\n",
    "lsd=l.std()\n",
    "lsd = lsd.sort_values(by=['OP_Dif'], ascending=False)\n",
    "lsdneg=-lsd\n",
    "lsdnorm=lmean+lsd # to ensure SD is centred around mean\n",
    "lsdnegnorm=lmean-lsd\n",
    "myplotlinac = lmean['OP_Dif'].plot(kind='bar', color='red', alpha = 0.5)\n",
    "#myplotlinac = lsd['OP_Dif'].plot(kind='bar', color='red', alpha = 0.5)\n",
    "\n",
    "myplotlinac.axes.get_xaxis().set_ticks([])\n",
    "\n",
    "mean_max = max(lmean['OP_Dif'])\n",
    "mean_min = min(lmean['OP_Dif'])\n",
    "mean_range = mean_max - mean_min\n",
    "print('Mean Max: ' + str(mean_max))\n",
    "print('Mean Min: ' + str(mean_min))\n",
    "print('Mean Range: ' + str(mean_range))\n",
    "\n",
    "#print(lsd.mean())\n",
    "\n",
    "#plt.savefig('OPs/All_Linacs_Means-bar-corr-large_text.png', bbox_inches='tight', dpi=300)"
   ]
  },
  {
   "cell_type": "markdown",
   "metadata": {},
   "source": [
    "1. Find mean of each linac\n",
    "2. Box plot - Group by centre ID\n",
    "3. Normal plot of Mean vs Centre ID"
   ]
  },
  {
   "cell_type": "code",
   "execution_count": null,
   "metadata": {
    "collapsed": false
   },
   "outputs": [],
   "source": [
    "plt.plot(lmean['Centre_ID'], lmean['OP_Dif'], marker='o', ls='None')\n",
    "lmean.groupby(lmean['Centre_ID'])"
   ]
  },
  {
   "cell_type": "code",
   "execution_count": null,
   "metadata": {
    "collapsed": false
   },
   "outputs": [],
   "source": [
    "lmean2 = m.groupby(['Centre_ID','Linac_ID'],  as_index=True)\n",
    "#lmean2g=lmean2.agg([np.mean, np.max, np.min, len]) #can calc multiple things on the grouped data\n",
    "\n",
    "## means of all linacs for each centre\n",
    "lmeang = lmean2['OP_Dif'].agg([np.mean])\n",
    "\n",
    "## calcualte maximum and minimum within the Centre_ID groups\n",
    "lmeang_max = lmeang.max(level='Centre_ID')\n",
    "lmeang_min = lmeang.min(level='Centre_ID')\n",
    "\n",
    "## calc range form min and max\n",
    "lmeang_range = lmeang_max-lmeang_min\n",
    "\n",
    "lmeang_range = lmeang_range.sort_values(by='mean', ascending=False)\n",
    "\n",
    "## mean and sd of all Centre means\n",
    "mean_mean = np.mean(lmeang_range['mean'])\n",
    "mean_sd = np.std(lmeang_range['mean'])\n",
    "\n",
    "## print(lmeang_range)\n",
    "print('Max Range of Means in a single centre = '+ str(max(lmeang_range['mean'])) + ' %')\n",
    "\n",
    "## plot all centres ranges with mean of means and sd\n",
    "plt.bar(range(len(lmeang_range)), lmeang_range['mean'], color='red', alpha=0.5)\n",
    "plt.xlabel('Site')\n",
    "plt.ylabel('Mean Output Range at Site')\n",
    "plt.axhline(mean_mean, ls='--', alpha=0.8, label='Mean')\n",
    "#plt.axhline(mean_mean+mean_sd, ls=':', alpha=0.8)\n",
    "#plt.axhline(mean_mean-mean_sd, ls=':', alpha=0.8)\n",
    "plt.xlim(0,45)\n",
    "plt.legend()\n",
    "plt.xticks([])\n",
    "## Note that if only 1 linac at a site then range will be zero. These should be excluded."
   ]
  },
  {
   "cell_type": "code",
   "execution_count": null,
   "metadata": {
    "collapsed": false
   },
   "outputs": [],
   "source": [
    "lmeang_range.head(7)"
   ]
  },
  {
   "cell_type": "markdown",
   "metadata": {},
   "source": [
    " #### So Far the maximum range is in Centre 7.\n",
    " - Need to find a way fo getting this value out automatically"
   ]
  },
  {
   "cell_type": "markdown",
   "metadata": {
    "collapsed": true
   },
   "source": [
    "### Get weekly (or monthly) average and standard deviation from each linac (Linac_ID)\n",
    "Use this to try and remove long term trends from calcualtion of SD.\n",
    "- Calibrations should standd out as having a larger SD than the others from that group.\n",
    "- Maybe ignore the 4 weeks (or month) with the largest SD as these may be calibrations.\n"
   ]
  },
  {
   "cell_type": "markdown",
   "metadata": {
    "collapsed": true
   },
   "source": [
    "## Determine mean of each linac and whether this is statistically different from zero.\n",
    "- Then want to compare farmer to non-farmer to see if they are statistically different.\n",
    "- Return results in either a DF or np array."
   ]
  },
  {
   "cell_type": "code",
   "execution_count": null,
   "metadata": {
    "collapsed": false
   },
   "outputs": [],
   "source": [
    "## loop through all liancs to analyse\n",
    "all_linacs = range(max(all_data['Linac_ID']))\n",
    "\n",
    "all_results=[] # set empty list ready for storing values\n",
    "\n",
    "for i in all_linacs:\n",
    "    chosen_linac = all_linacs[i]+1\n",
    "    ## filter the original dataframe to give boolean vals\n",
    "    chosen_linac_filter = all_data['Linac_ID'] == chosen_linac\n",
    "\n",
    "    ## use filter to extract required data\n",
    "    ind_linac = all_data[chosen_linac_filter]\n",
    "    ## extract only OP data\n",
    "    ind_linac_op = ind_linac['OP_Dif']\n",
    "\n",
    "    ## calculate mean of OPs\n",
    "    ind_linac_op_mean = ind_linac_op.mean()\n",
    "    ind_linac_op_sd = ind_linac_op.std()\n",
    "    ind_linac_op_num = len(ind_linac_op)\n",
    "\n",
    "    ## check the mean agrees with that int he describe()\n",
    "\n",
    "    ## null hypothesis is that mean = 0\n",
    "    ## want to compare population mean to this value\n",
    "\n",
    "    #print(ind_linac_op_mean)\n",
    "    #print(ind_linac_op_sd)\n",
    "    #print(ind_linac_op_num)\n",
    "    #ind_linac_op.describe()\n",
    "\n",
    "    ## compare the values to zero and return p-val\n",
    "    compare_val = 0\n",
    "\n",
    "    compare_result = stats.ttest_1samp(ind_linac_op,compare_val)\n",
    "\n",
    "    results = [chosen_linac,ind_linac_op_num,ind_linac_op_mean,ind_linac_op_sd,compare_result[0],compare_result[1]]\n",
    "    column_names = ['Linac_ID','n','mean','sd','t-stat','p-val']\n",
    "    ## results = [linac_id,n,mean,sd,t-stat,p-val]\n",
    "\n",
    "    all_results.append(results)\n",
    "    #print(compare_result)\n",
    "    #plt.hist(ind_linac_op)\n",
    "\n",
    "## convert list to numpy array and then dataframe\n",
    "all_results_array = np.asarray(all_results)\n",
    "all_results_df = pd.DataFrame(all_results_array, columns = column_names)\n",
    "all_results_df.head()"
   ]
  },
  {
   "cell_type": "code",
   "execution_count": null,
   "metadata": {
    "collapsed": false
   },
   "outputs": [],
   "source": [
    "## sort the DF for clearer plotting\n",
    "df_sort = all_results_df.sort_values(by='p-val')\n",
    "df_sort['sort_index'] = range(0,len(df_sort))\n",
    "\n",
    "## specify value to plot on graph for comparison\n",
    "p_val_compare = 0.05\n",
    "\n",
    "plt.plot(df_sort['sort_index'],df_sort['p-val'])\n",
    "plt.plot([0,max(df_sort['sort_index'])],[p_val_compare,p_val_compare])\n",
    "plt.xlim(0,max(df_sort['sort_index']))\n",
    "plt.xlabel('sort_index (linac)')\n",
    "plt.ylabel('p-val')\n",
    "\n",
    "## note that anything below the line indicates the mean value is statistically significantly different from zero (p-val < 0.05)"
   ]
  },
  {
   "cell_type": "code",
   "execution_count": null,
   "metadata": {
    "collapsed": false
   },
   "outputs": [],
   "source": [
    "## how many linacs are significantly different from a mena of zero?\n",
    "\n",
    "## filter the original dataframe to give boolean vals\n",
    "p_val_filter = all_results_df['p-val'] < p_val_compare\n",
    "\n",
    "## use filter to extract required data\n",
    "p_val_linacs = all_results_df[p_val_filter]\n",
    "\n",
    "no_sig_p_val_linacs = len(p_val_linacs['p-val'])\n",
    "print(no_sig_p_val_linacs)\n",
    "\n",
    "perc_sig_p_val_linacs = 100*no_sig_p_val_linacs/max(all_data['Linac_ID'])\n",
    "print(str(round(perc_sig_p_val_linacs,1)) + '% of linacs statistically do not have a mean of zero over the measurement period')"
   ]
  },
  {
   "cell_type": "markdown",
   "metadata": {},
   "source": [
    "## Repeat for centres to see if centre mean is equal to zero"
   ]
  },
  {
   "cell_type": "code",
   "execution_count": null,
   "metadata": {
    "collapsed": false
   },
   "outputs": [],
   "source": [
    "## loop through all liancs to analyse\n",
    "all_centres = range(max(all_data['Centre_ID']))\n",
    "\n",
    "all_results=[] # set empty list ready for storing values\n",
    "\n",
    "for i in all_centres:\n",
    "    chosen_centre = all_centres[i]+1\n",
    "    ## filter the original dataframe to give boolean vals\n",
    "    chosen_centre_filter = all_data['Centre_ID'] == chosen_centre\n",
    "\n",
    "    ## use filter to extract required data\n",
    "    ind_centre = all_data[chosen_centre_filter]\n",
    "    ## extract only OP data\n",
    "    ind_centre_op = ind_centre['OP_Dif']\n",
    "\n",
    "    ## calculate mean of OPs\n",
    "    ind_centre_op_mean = ind_centre_op.mean()\n",
    "    ind_centre_op_sd = ind_centre_op.std()\n",
    "    ind_centre_op_num = len(ind_centre_op)\n",
    "\n",
    "    ## check the mean agrees with that int he describe()\n",
    "\n",
    "    ## null hypothesis is that mean = 0\n",
    "    ## want to compare population mean to this value\n",
    "\n",
    "    #print(ind_linac_op_mean)\n",
    "    #print(ind_linac_op_sd)\n",
    "    #print(ind_linac_op_num)\n",
    "    #ind_linac_op.describe()\n",
    "\n",
    "    ## compare the values to zero and return p-val\n",
    "    compare_val = 0\n",
    "\n",
    "    compare_result = stats.ttest_1samp(ind_centre_op,compare_val)\n",
    "\n",
    "    results = [chosen_centre,ind_centre_op_num,ind_centre_op_mean,ind_centre_op_sd,compare_result[0],compare_result[1]]\n",
    "    column_names = ['Centre_ID','n','mean','sd','t-stat','p-val']\n",
    "    ## results = [centre_id,n,mean,sd,t-stat,p-val]\n",
    "\n",
    "    all_results.append(results)\n",
    "    #print(compare_result)\n",
    "    #plt.hist(ind_linac_op)\n",
    "\n",
    "## convert list to numpy array and then dataframe\n",
    "all_results_array = np.asarray(all_results)\n",
    "all_results_df = pd.DataFrame(all_results_array, columns = column_names)\n",
    "all_results_df.head()"
   ]
  },
  {
   "cell_type": "code",
   "execution_count": null,
   "metadata": {
    "collapsed": false
   },
   "outputs": [],
   "source": [
    "## sort the DF for clearer plotting\n",
    "df_sort = all_results_df.sort_values(by='p-val')\n",
    "df_sort['sort_index'] = range(0,len(df_sort))\n",
    "\n",
    "## specify value to plot on graph for comparison\n",
    "p_val_compare = 0.05\n",
    "\n",
    "plt.plot(df_sort['sort_index'],df_sort['p-val'])\n",
    "plt.plot([0,max(df_sort['sort_index'])],[p_val_compare,p_val_compare])\n",
    "plt.xlim(0,max(df_sort['sort_index']))\n",
    "plt.xlabel('sort_index (centre)')\n",
    "plt.ylabel('p-val')\n",
    "\n",
    "## note that anything below the line indicates the mean value is statistically significantly different from zero (p-val < 0.05)"
   ]
  },
  {
   "cell_type": "code",
   "execution_count": null,
   "metadata": {
    "collapsed": false
   },
   "outputs": [],
   "source": [
    "## how many centres are significantly different from a mean of zero?\n",
    "\n",
    "## filter the original dataframe to give boolean vals\n",
    "p_val_filter = all_results_df['p-val'] < p_val_compare\n",
    "\n",
    "## use filter to extract required data\n",
    "p_val_centres = all_results_df[p_val_filter]\n",
    "\n",
    "no_sig_p_val_centres = len(p_val_centres['p-val'])\n",
    "print(no_sig_p_val_centres)\n",
    "\n",
    "perc_sig_p_val_centres = 100*no_sig_p_val_centres/max(all_data['Centre_ID'])\n",
    "print(str(round(perc_sig_p_val_centres,1)) + '% of centres statistically do not have a mean of zero over the measurement period')"
   ]
  },
  {
   "cell_type": "markdown",
   "metadata": {},
   "source": [
    "## Compare Farmer vs Non-Farmer results using t-test for each linac"
   ]
  },
  {
   "cell_type": "code",
   "execution_count": null,
   "metadata": {
    "collapsed": false
   },
   "outputs": [],
   "source": [
    "## loop through all liancs to analyse\n",
    "all_linacs = range(max(all_data['Linac_ID']))\n",
    "print(max(all_linacs))\n",
    "\n",
    "all_results=[] # set empty list ready for storing values\n",
    "\n",
    "for i in all_linacs:\n",
    "    chosen_linac = all_linacs[i]+1\n",
    "    farmer = 'Farmer'\n",
    "\n",
    "    ## filter the original dataframe to give boolean vals\n",
    "    chosen_linac_filter = all_data['Linac_ID'] == chosen_linac\n",
    "    farmer_filter = all_data['Measurement_Device'] == farmer\n",
    "    non_farmer_filter = all_data['Measurement_Device'] != farmer\n",
    "\n",
    "    ## use filter to extract required data\n",
    "    ind_linac_farm = all_data[chosen_linac_filter & farmer_filter]\n",
    "    ind_linac_non_farm = all_data[chosen_linac_filter & non_farmer_filter]\n",
    "    ## extract only OP data\n",
    "    ind_linac_op_farm = ind_linac_farm['OP_Dif']\n",
    "    ind_linac_op_non_farm = ind_linac_non_farm['OP_Dif']\n",
    "\n",
    "    ## calculate mean of OPs-farmer\n",
    "    ind_linac_op_mean_farm = ind_linac_op_farm.mean()\n",
    "    ind_linac_op_sd_farm = ind_linac_op_farm.std()\n",
    "    ind_linac_op_num_farm = len(ind_linac_op_farm)\n",
    "    ## calculate mean of OPs-non-farmer\n",
    "    ind_linac_op_mean_non_farm = ind_linac_op_non_farm.mean()\n",
    "    ind_linac_op_sd_non_farm = ind_linac_op_non_farm.std()\n",
    "    ind_linac_op_num_non_farm = len(ind_linac_op_non_farm)\n",
    "\n",
    "    ## compare the values to zero and return p-val\n",
    "    ## comapre individual linac to zero\n",
    "    #compare_val = 0\n",
    "    #compare_result = stats.ttest_1samp(ind_linac_op,compare_val)\n",
    "    ## comapre farmer to non-farmer\n",
    "    compare_result = stats.ttest_ind(ind_linac_op_farm,ind_linac_op_non_farm)\n",
    "\n",
    "    results = [chosen_linac,\n",
    "               ind_linac_op_num_farm,\n",
    "               ind_linac_op_num_non_farm,\n",
    "               ind_linac_op_mean_farm,\n",
    "               ind_linac_op_mean_non_farm,\n",
    "               ind_linac_op_sd_farm,\n",
    "               ind_linac_op_sd_non_farm,\n",
    "               compare_result[0],\n",
    "               compare_result[1],\n",
    "               ind_linac_op_mean_farm-ind_linac_op_mean_non_farm]\n",
    "    column_names = ['Linac_ID','n-farm','n-non-farm','mean-farm','mean-non-farm','sd-farm','sd-non-farm','t-stat','p-val','mean_dif']\n",
    "    ## results = [linac_id,n,mean,sd,t-stat,p-val]...\n",
    "\n",
    "    all_results.append(results)\n",
    "    #print(compare_result)\n",
    "    #plt.hist(ind_linac_op)\n",
    "\n",
    "    ## convert list to numpy array and then dataframe\n",
    "    all_results_array = np.asarray(all_results)\n",
    "    all_results_df = pd.DataFrame(all_results_array, columns = column_names)\n",
    "    #tests = all_results_df\n",
    "    all_results_df.head()\n",
    "\n",
    "## how many also between specified mean_dif in dose\n",
    "## work through a range of different differneces in the means > 2% very unlikely!\n",
    "difs = [0.1,0.2,0.3,0.4,0.5,0.6,0.7,0.8,0.9,1.0,1.1,1.2,1.3,1.4,1.5,1.6,1.7,1.8,1.9,2.0,2.1,2.2,2.3,2.4,2.5]\n",
    "result_dif = []\n",
    "\n",
    "for i in difs:\n",
    "    dif_test = i\n",
    "    tests = all_results_df\n",
    "    #print(dif_test)\n",
    "    tests = tests[pd.notnull(tests['p-val'])]\n",
    "    tests = tests[tests['mean_dif']<dif_test]\n",
    "    tests = tests[tests['mean_dif']>-dif_test]\n",
    "    result_dif.append((dif_test,len(tests)))\n",
    "    #print(len(tests))\n",
    "print(result_dif)\n",
    "\n",
    "x_plot = [result_dif[i][0] for i in range(len(result_dif))]\n",
    "y_plot = [result_dif[i][1] for i in range(len(result_dif))]\n",
    "\n",
    "plt.plot(np.array(x_plot)/203,np.array(y_plot)/203)"
   ]
  },
  {
   "cell_type": "code",
   "execution_count": null,
   "metadata": {
    "collapsed": false
   },
   "outputs": [],
   "source": [
    "## remove linacs which do not have Farmer measurements (these have NaN as results of the ttest.)\n",
    "\n",
    "all_results_df = all_results_df[pd.notnull(all_results_df['p-val'])]\n",
    "\n",
    "## remove results with mean_dif <0.5%\n",
    "\n",
    "## eliminate high vals\n",
    "#all_results_df = all_results_df[all_results_df.mean_dif<1]\n",
    "##eliminate low vals\n",
    "#all_results_df = all_results_df[all_results_df.mean_dif>1]\n",
    "\n",
    "#df = df[np.isfinite(df['EPS'])]\n",
    "\n",
    "## sort the DF for clearer plotting\n",
    "df_sort = all_results_df.sort_values(by='p-val')\n",
    "df_sort['sort_index'] = range(0,len(df_sort))\n",
    "\n",
    "## specify value to plot on graph for comparison\n",
    "p_val_compare = 0.05\n",
    "\n",
    "plt.plot(df_sort['sort_index'],df_sort['p-val'])\n",
    "plt.plot([0,max(df_sort['sort_index'])],[p_val_compare,p_val_compare])\n",
    "plt.xlim(0,max(df_sort['sort_index']))\n",
    "plt.xlabel('sort_index (linac)')\n",
    "plt.ylabel('p-val')\n",
    "\n",
    "#print(df_sort)\n",
    "## note that anything below the line indicates the mean value is statistically significantly different from zero (p-val < 0.05)"
   ]
  },
  {
   "cell_type": "code",
   "execution_count": null,
   "metadata": {
    "collapsed": false
   },
   "outputs": [],
   "source": [
    "## Plot of farmer vs non-farmer to see if linear relationship\n",
    "\n",
    "x = all_results_df['mean-farm']\n",
    "y = all_results_df['mean-non-farm']\n",
    "\n",
    "# fit with np.polyfit to get grad and intercept\n",
    "slope, intercept, r_value, p_value, std_err = stats.linregress(x,y)\n",
    "\n",
    "plt.figure(figsize=(7,7))\n",
    "plt.xlim(-2,2)\n",
    "plt.ylim(-2,2)\n",
    "\n",
    "## plot raw data as points\n",
    "plt.plot(x, y,'o')\n",
    "## plot fit of data calcualted from x points.\n",
    "plt.plot(x, slope*x + intercept)\n",
    "\n",
    "print('Least Squares')\n",
    "print('grad: ' + str(m))\n",
    "print('intercept: ' + str(b))\n",
    "print('r-squared: ' + str(r_value**2))\n",
    "\n",
    "medslope,medintercept,lo_slope,hi_slope = stats.mstats.theilslopes(y, x)\n",
    "plt.plot(x, medslope*x + medintercept)\n",
    "plt.plot(x, lo_slope*x + medintercept,'r')\n",
    "plt.plot(x, hi_slope*x + medintercept,'r')\n",
    "\n",
    "#ax1.fill_between(x, y1, y2, where=y2 >= y1, facecolor='green', interpolate=True)\n",
    "\n",
    "print('Theil-Sen')\n",
    "print('grad: ' + str(medslope))\n",
    "print('intercept: ' + str(medintercept))\n"
   ]
  },
  {
   "cell_type": "code",
   "execution_count": null,
   "metadata": {
    "collapsed": false
   },
   "outputs": [],
   "source": [
    "### same again with seaborn to add trendline\n",
    "\n",
    "sns.lmplot(x='mean-farm',y='mean-non-farm',data=all_results_df)"
   ]
  },
  {
   "cell_type": "code",
   "execution_count": null,
   "metadata": {
    "collapsed": false
   },
   "outputs": [],
   "source": [
    "sns.residplot(x='mean-farm',y='mean-non-farm',data=all_results_df)"
   ]
  },
  {
   "cell_type": "code",
   "execution_count": null,
   "metadata": {
    "collapsed": false
   },
   "outputs": [],
   "source": [
    "## how many centres are significantly different from a mean of zero?\n",
    "\n",
    "## filter the original dataframe to give boolean vals\n",
    "p_val_filter = all_results_df['p-val'] < p_val_compare\n",
    "\n",
    "## use filter to extract required data\n",
    "p_val_farmer = all_results_df[p_val_filter]\n",
    "\n",
    "no_sig_p_val_farmer = len(p_val_farmer['p-val'])\n",
    "print(no_sig_p_val_farmer)\n",
    "\n",
    "perc_sig_p_val_farmer = 100*no_sig_p_val_farmer/len(pd.unique(all_results_df['Linac_ID']))\n",
    "print(str(round(perc_sig_p_val_farmer,1)) + '% of linacs statistically do not have agreement between farmer and other measurements')"
   ]
  },
  {
   "cell_type": "code",
   "execution_count": null,
   "metadata": {
    "collapsed": false
   },
   "outputs": [],
   "source": [
    "## List of linacs which do not have Farmer vs Other agreement\n",
    "\n",
    "#list of sorted values\n",
    "print(p_val_farmer[['Linac_ID','p-val','mean_dif']].sort_values(by='mean_dif'))\n",
    "\n",
    "## want to also add the difference in means as while 'significant' it might not be relevant if a small difference in the mean"
   ]
  },
  {
   "cell_type": "code",
   "execution_count": null,
   "metadata": {
    "collapsed": false
   },
   "outputs": [],
   "source": [
    "plt.plot(range(len(p_val_farmer)),p_val_farmer['mean_dif'])"
   ]
  },
  {
   "cell_type": "code",
   "execution_count": null,
   "metadata": {
    "collapsed": false
   },
   "outputs": [],
   "source": [
    "## plot of mean val vs mean dif\n",
    "\n",
    "x = all_results_df['mean_dif']\n",
    "y = all_results_df['p-val']\n",
    "\n",
    "x_mean = x.mean()\n",
    "x_median = x.median()\n",
    "x_sd = x.std()\n",
    "\n",
    "plt.plot(x,y,marker='o',ls='')\n",
    "plt.xlim(-1.5,1.5)\n",
    "plt.ylim(0,1.2)\n",
    "plt.xlabel('Mean Dif between Farmer and Other')\n",
    "plt.ylabel('P-Value')\n",
    "\n",
    "#plt.plot(x, mlab.normpdf(x,x_mean,x_sd), ls='', marker='o', color='red')\n",
    "#print(x_mean)\n",
    "\n",
    "## the data does not fit to a normal distribution. More liekly a t-distribution., but not really important.\n",
    "## visually the mean/median/mode is at zero as expected.\n",
    "\n"
   ]
  },
  {
   "cell_type": "code",
   "execution_count": null,
   "metadata": {
    "collapsed": true
   },
   "outputs": [],
   "source": []
  }
 ],
 "metadata": {
  "kernelspec": {
   "display_name": "Python [default]",
   "language": "python",
   "name": "python3"
  },
  "language_info": {
   "codemirror_mode": {
    "name": "ipython",
    "version": 3
   },
   "file_extension": ".py",
   "mimetype": "text/x-python",
   "name": "python",
   "nbconvert_exporter": "python",
   "pygments_lexer": "ipython3",
   "version": "3.5.2"
  }
 },
 "nbformat": 4,
 "nbformat_minor": 0
}
