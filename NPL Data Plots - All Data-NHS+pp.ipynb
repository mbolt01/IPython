{
 "cells": [
  {
   "cell_type": "code",
   "execution_count": 1,
   "metadata": {
    "collapsed": false
   },
   "outputs": [],
   "source": [
    "import numpy as np\n",
    "import pandas as pd\n",
    "pd.set_option(\"display.date_dayfirst\", True)\n",
    "pd.set_option(\"display.date_yearfirst\", False)\n",
    "#pd.describe_option('display.date_yearfirst')\n",
    "import matplotlib.pyplot as plt\n",
    "%matplotlib inline\n",
    "import matplotlib.mlab as mlab\n",
    "\n",
    "import matplotlib.pylab as pylab\n",
    "\n",
    "import os\n",
    "cwd = os.getcwd()"
   ]
  },
  {
   "cell_type": "markdown",
   "metadata": {},
   "source": [
    "Set file to look at containing data"
   ]
  },
  {
   "cell_type": "markdown",
   "metadata": {},
   "source": [
    "#Import excel file into pandas dataframe"
   ]
  },
  {
   "cell_type": "code",
   "execution_count": 2,
   "metadata": {
    "collapsed": false
   },
   "outputs": [
    {
     "name": "stdout",
     "output_type": "stream",
     "text": [
      "C:\\Users\\mb22\\OneDrive\\PhD\\Quasar Shared\\Modelling\\IPython/Data to Import/NPL_Table_All-ANON-Final-ALL.xlsx\n"
     ]
    },
    {
     "data": {
      "text/plain": [
       "count    275.000000\n",
       "mean       0.999381\n",
       "std        0.008931\n",
       "min        0.976000\n",
       "25%        0.994000\n",
       "50%        1.000000\n",
       "75%        1.005000\n",
       "max        1.027000\n",
       "Name: OPRatio, dtype: float64"
      ]
     },
     "execution_count": 2,
     "metadata": {},
     "output_type": "execute_result"
    }
   ],
   "source": [
    "#mainpath = 'C:/Users/mb22/OneDrive/PhD/Quasar Shared/'\n",
    "#filepath = 'Data/NPL_Table_All.xlsx'\n",
    "filepath = 'Data to Import/NPL_Table_All-ANON-Final-ALL.xlsx'\n",
    "\n",
    "#fullpath=mainpath+filepath\n",
    "fullpath=cwd+'/'+filepath # use if need to specify full path for some reason.\n",
    "print(fullpath) #note forward and backward slashes in output\n",
    "\n",
    "all_data = pd.read_excel(filepath)#, parse_dates=['Date'])\n",
    "all_data.head()\n",
    "all_data['OPRatio'].describe()"
   ]
  },
  {
   "cell_type": "markdown",
   "metadata": {},
   "source": [
    "#Filter to only contain NHS data"
   ]
  },
  {
   "cell_type": "code",
   "execution_count": 3,
   "metadata": {
    "collapsed": false
   },
   "outputs": [
    {
     "name": "stderr",
     "output_type": "stream",
     "text": [
      "C:\\Anaconda3\\lib\\site-packages\\numpy\\lib\\function_base.py:3403: RuntimeWarning: Invalid value encountered in median\n",
      "  RuntimeWarning)\n"
     ]
    },
    {
     "data": {
      "text/html": [
       "<div>\n",
       "<table border=\"1\" class=\"dataframe\">\n",
       "  <thead>\n",
       "    <tr style=\"text-align: right;\">\n",
       "      <th></th>\n",
       "      <th>Centre_ID</th>\n",
       "      <th>Group</th>\n",
       "      <th>Energy</th>\n",
       "      <th>CoP</th>\n",
       "      <th>BeamQualRatio</th>\n",
       "      <th>BeamQualError</th>\n",
       "      <th>OPRatio</th>\n",
       "      <th>OPError</th>\n",
       "      <th>IntercompRatio</th>\n",
       "      <th>IntercompError</th>\n",
       "    </tr>\n",
       "  </thead>\n",
       "  <tbody>\n",
       "    <tr>\n",
       "      <th>count</th>\n",
       "      <td>215.000000</td>\n",
       "      <td>215.000000</td>\n",
       "      <td>215.000000</td>\n",
       "      <td>98.000000</td>\n",
       "      <td>174.000000</td>\n",
       "      <td>137.000000</td>\n",
       "      <td>215.000000</td>\n",
       "      <td>215.000000</td>\n",
       "      <td>177.000000</td>\n",
       "      <td>1.770000e+02</td>\n",
       "    </tr>\n",
       "    <tr>\n",
       "      <th>mean</th>\n",
       "      <td>20.800000</td>\n",
       "      <td>3.725581</td>\n",
       "      <td>31.497674</td>\n",
       "      <td>2002.000000</td>\n",
       "      <td>0.633445</td>\n",
       "      <td>0.658759</td>\n",
       "      <td>1.002013</td>\n",
       "      <td>0.271628</td>\n",
       "      <td>1.000073</td>\n",
       "      <td>4.000000e-01</td>\n",
       "    </tr>\n",
       "    <tr>\n",
       "      <th>std</th>\n",
       "      <td>14.266555</td>\n",
       "      <td>2.327015</td>\n",
       "      <td>58.870432</td>\n",
       "      <td>2.462084</td>\n",
       "      <td>0.502887</td>\n",
       "      <td>0.986767</td>\n",
       "      <td>0.007488</td>\n",
       "      <td>0.164799</td>\n",
       "      <td>0.006277</td>\n",
       "      <td>1.113373e-16</td>\n",
       "    </tr>\n",
       "    <tr>\n",
       "      <th>min</th>\n",
       "      <td>1.000000</td>\n",
       "      <td>1.000000</td>\n",
       "      <td>4.000000</td>\n",
       "      <td>1996.000000</td>\n",
       "      <td>-0.280000</td>\n",
       "      <td>0.150000</td>\n",
       "      <td>0.976000</td>\n",
       "      <td>0.100000</td>\n",
       "      <td>0.958000</td>\n",
       "      <td>4.000000e-01</td>\n",
       "    </tr>\n",
       "    <tr>\n",
       "      <th>25%</th>\n",
       "      <td>6.000000</td>\n",
       "      <td>2.000000</td>\n",
       "      <td>6.000000</td>\n",
       "      <td>NaN</td>\n",
       "      <td>NaN</td>\n",
       "      <td>NaN</td>\n",
       "      <td>0.997000</td>\n",
       "      <td>0.200000</td>\n",
       "      <td>NaN</td>\n",
       "      <td>NaN</td>\n",
       "    </tr>\n",
       "    <tr>\n",
       "      <th>50%</th>\n",
       "      <td>21.000000</td>\n",
       "      <td>3.000000</td>\n",
       "      <td>10.000000</td>\n",
       "      <td>NaN</td>\n",
       "      <td>NaN</td>\n",
       "      <td>NaN</td>\n",
       "      <td>1.001000</td>\n",
       "      <td>0.200000</td>\n",
       "      <td>NaN</td>\n",
       "      <td>NaN</td>\n",
       "    </tr>\n",
       "    <tr>\n",
       "      <th>75%</th>\n",
       "      <td>31.500000</td>\n",
       "      <td>6.000000</td>\n",
       "      <td>16.000000</td>\n",
       "      <td>NaN</td>\n",
       "      <td>NaN</td>\n",
       "      <td>NaN</td>\n",
       "      <td>1.006595</td>\n",
       "      <td>0.200000</td>\n",
       "      <td>NaN</td>\n",
       "      <td>NaN</td>\n",
       "    </tr>\n",
       "    <tr>\n",
       "      <th>max</th>\n",
       "      <td>46.000000</td>\n",
       "      <td>8.000000</td>\n",
       "      <td>300.000000</td>\n",
       "      <td>2003.000000</td>\n",
       "      <td>1.077000</td>\n",
       "      <td>5.000000</td>\n",
       "      <td>1.027000</td>\n",
       "      <td>0.800000</td>\n",
       "      <td>1.013000</td>\n",
       "      <td>4.000000e-01</td>\n",
       "    </tr>\n",
       "  </tbody>\n",
       "</table>\n",
       "</div>"
      ],
      "text/plain": [
       "        Centre_ID       Group      Energy          CoP  BeamQualRatio  \\\n",
       "count  215.000000  215.000000  215.000000    98.000000     174.000000   \n",
       "mean    20.800000    3.725581   31.497674  2002.000000       0.633445   \n",
       "std     14.266555    2.327015   58.870432     2.462084       0.502887   \n",
       "min      1.000000    1.000000    4.000000  1996.000000      -0.280000   \n",
       "25%      6.000000    2.000000    6.000000          NaN            NaN   \n",
       "50%     21.000000    3.000000   10.000000          NaN            NaN   \n",
       "75%     31.500000    6.000000   16.000000          NaN            NaN   \n",
       "max     46.000000    8.000000  300.000000  2003.000000       1.077000   \n",
       "\n",
       "       BeamQualError     OPRatio     OPError  IntercompRatio  IntercompError  \n",
       "count     137.000000  215.000000  215.000000      177.000000    1.770000e+02  \n",
       "mean        0.658759    1.002013    0.271628        1.000073    4.000000e-01  \n",
       "std         0.986767    0.007488    0.164799        0.006277    1.113373e-16  \n",
       "min         0.150000    0.976000    0.100000        0.958000    4.000000e-01  \n",
       "25%              NaN    0.997000    0.200000             NaN             NaN  \n",
       "50%              NaN    1.001000    0.200000             NaN             NaN  \n",
       "75%              NaN    1.006595    0.200000             NaN             NaN  \n",
       "max         5.000000    1.027000    0.800000        1.013000    4.000000e-01  "
      ]
     },
     "execution_count": 3,
     "metadata": {},
     "output_type": "execute_result"
    }
   ],
   "source": [
    "df3 = all_data.copy()\n",
    "nhs_data = df3[df3['CentreType'].isin(['NHS'])]\n",
    "pp_data = df3[~df3['CentreType'].isin(['NHS'])] # not NHS = pp\n",
    "paper_data = df3[~df3['Group'].isin([9])] # not NHS = pp\n",
    "\n",
    "nhs_data.tail()\n",
    "nhs_data['OPRatio'].describe()\n",
    "#pp_data['OPRatio'].describe()\n",
    "\n",
    "nhs_data['Date'].min()\n",
    "paper_data.describe()"
   ]
  },
  {
   "cell_type": "markdown",
   "metadata": {},
   "source": [
    "#Calculate some stats & check data types"
   ]
  },
  {
   "cell_type": "code",
   "execution_count": 4,
   "metadata": {
    "collapsed": false,
    "scrolled": true
   },
   "outputs": [
    {
     "name": "stdout",
     "output_type": "stream",
     "text": [
      "All  Type  Date\n",
      "0   MV    56\n",
      "1  MeV    31\n",
      "2   kV    13\n",
      "\n",
      "NHS  Type  Date\n",
      "0   MV    47\n",
      "1  MeV    23\n",
      "2   kV    12\n",
      "\n",
      "Paper  Type  Date\n",
      "0   MV    48\n",
      "1  MeV    23\n",
      "2   kV    13\n"
     ]
    }
   ],
   "source": [
    "#Number of unique dates = number of visits\n",
    "\n",
    "n = nhs_data.groupby(['Type'])['Date'].nunique().reset_index() # number of unique dates = number of visits\n",
    "a = all_data.groupby(['Type'])['Date'].nunique().reset_index() # number of unique dates = number of visits\n",
    "p = paper_data.groupby(['Type'])['Date'].nunique().reset_index() # number of unique dates = number of visits\n",
    "\n",
    "print('All' + str(a))\n",
    "print()\n",
    "print('NHS' + str(n))\n",
    "print()\n",
    "print('Paper' + str(p))\n"
   ]
  },
  {
   "cell_type": "markdown",
   "metadata": {},
   "source": [
    "#Create seperate dataframes for MV, MeV and kV for NHS"
   ]
  },
  {
   "cell_type": "code",
   "execution_count": 5,
   "metadata": {
    "collapsed": false,
    "scrolled": true
   },
   "outputs": [
    {
     "data": {
      "text/plain": [
       "count    83.000000\n",
       "mean      1.000464\n",
       "std       0.006684\n",
       "min       0.987000\n",
       "25%       0.995500\n",
       "50%       1.000000\n",
       "75%       1.004500\n",
       "max       1.019900\n",
       "Name: OPRatio, dtype: float64"
      ]
     },
     "execution_count": 5,
     "metadata": {},
     "output_type": "execute_result"
    }
   ],
   "source": [
    "#beam_types = all_data.groupby('Type')\n",
    "#beam_types.mean()\n",
    "\n",
    "#df2 = nhs_data.copy() ## change this if want to look at NHS data\n",
    "#df2 = all_data.copy() ## change this if want to look at all data\n",
    "df2 = paper_data.copy() ## change this if want to look at non G9\n",
    "\n",
    "mv_data = df2[df2['Type'].isin(['MV'])]\n",
    "mev_data = df2[df2['Type'].isin(['MeV'])]\n",
    "kv_data = df2[df2['Type'].isin(['kV'])]\n",
    "\n",
    "#df3 = ed.copy()\n",
    "#mev_data_notg5 = df3[~df3['Centre'].str.contains('CPUK')]\n",
    "#mev_data_notg5\n",
    "\n",
    "md = mv_data\n",
    "ed = mev_data\n",
    "kd = kv_data\n",
    "#mv_data.describe()\n",
    "md['OPRatio'].describe()\n",
    "#kv_data.describe()"
   ]
  },
  {
   "cell_type": "markdown",
   "metadata": {},
   "source": [
    "#Make some quick graphs"
   ]
  },
  {
   "cell_type": "code",
   "execution_count": 6,
   "metadata": {
    "collapsed": false,
    "scrolled": true
   },
   "outputs": [
    {
     "data": {
      "text/plain": [
       "array([[<matplotlib.axes._subplots.AxesSubplot object at 0x093E39B0>,\n",
       "        <matplotlib.axes._subplots.AxesSubplot object at 0x09400E90>],\n",
       "       [<matplotlib.axes._subplots.AxesSubplot object at 0x0A51EBB0>,\n",
       "        <matplotlib.axes._subplots.AxesSubplot object at 0x0A54C810>]], dtype=object)"
      ]
     },
     "execution_count": 6,
     "metadata": {},
     "output_type": "execute_result"
    },
    {
     "data": {
      "image/png": "[encoded data removed]",
      "text/plain": [
       "<matplotlib.figure.Figure at 0x93e3690>"
      ]
     },
     "metadata": {},
     "output_type": "display_data"
    }
   ],
   "source": [
    "from decimal import * # decimal means that more exact maths can be done with a specified precision.\n",
    "getcontext().prec = 28\n",
    "range_lower = Decimal('0.975')\n",
    "range_upper = Decimal('1.025')\n",
    "bin_width = Decimal('0.005')\n",
    "number_bins = (range_upper-range_lower)/bin_width + 1\n",
    "\n",
    "nhs_data['OPRatio'].hist(by=nhs_data['Type'], normed=False, bins=11, range=(0.975,1.025), rwidth=0.8) #simple auto plot in a grid"
   ]
  },
  {
   "cell_type": "markdown",
   "metadata": {},
   "source": [
    "#Histograms"
   ]
  },
  {
   "cell_type": "markdown",
   "metadata": {},
   "source": [
    "##Ideally make into a function and feed data frame, title, filename"
   ]
  },
  {
   "cell_type": "code",
   "execution_count": 7,
   "metadata": {
    "collapsed": false
   },
   "outputs": [
    {
     "data": {
      "image/png": "[encoded data removed]",
      "text/plain": [
       "<matplotlib.figure.Figure at 0xa59c4b0>"
      ]
     },
     "metadata": {},
     "output_type": "display_data"
    }
   ],
   "source": [
    "pylab.rcParams['figure.figsize'] = 5, 5 # change size of figures\n",
    "\n",
    "from matplotlib.ticker import AutoMinorLocator\n",
    "\n",
    "fig = plt.figure()\n",
    "axes = fig.add_subplot(1,1,1)\n",
    "plt.title('MeV')\n",
    "plt.xlabel(\"Output Ratio (NPL:Host)\")\n",
    "plt.ylabel(\"Freqency (%)\")\n",
    "plt.xlim(0.968, 1.032)\n",
    "plt.ylim(0, 60)\n",
    "\n",
    "mev_data['OPRatio'].hist(bins=14, range=(0.9675, 1.0375), normed=True,\n",
    "                               facecolor = 'grey', alpha = 0.8, ax=axes, rwidth=1)\n",
    "\n",
    "axes.xaxis.set_minor_locator(AutoMinorLocator(2)) #used to set the number of minor ticks between major ticks\n",
    "plt.tick_params(which='major', width=1, length=5)\n",
    "plt.tick_params(which='minor', width=1, length=3)\n",
    "plt.grid(True, which='major')\n",
    "\n",
    "mean = mev_data['OPRatio'].mean()\n",
    "sd = mev_data['OPRatio'].std()\n",
    "\n",
    "x = np.linspace(0.9725, 1.0375, 100) # add normal distibution fit\n",
    "#plt.plot(x, mlab.normpdf(x,mean,sd), linewidth = 2, color='red')\n",
    "\n",
    "#plt.savefig('NPL_Paper_Plots/NPL_kV_Hist_NHS.png', bbox_inches='tight', dpi=300)"
   ]
  },
  {
   "cell_type": "markdown",
   "metadata": {
    "collapsed": true
   },
   "source": [
    "#Get some more stats such as Mean, SD, Skew etc."
   ]
  },
  {
   "cell_type": "code",
   "execution_count": 8,
   "metadata": {
    "collapsed": false
   },
   "outputs": [
    {
     "name": "stdout",
     "output_type": "stream",
     "text": [
      "Skew\n",
      "All:  0.307590932549\n",
      "MV:  0.595747764567\n",
      "MeV:  0.466380037449\n",
      "kV:  -0.571262376955\n",
      "\n",
      "SEM\n",
      "MV:  0.000733636007863\n",
      "MeV:  0.00074381274904\n",
      "kV:  0.00155993015651\n",
      "\n",
      "Mean\n",
      "MV:  1.00046362827\n",
      "MeV:  1.00274897959\n",
      "kV:  1.00367436557\n",
      "\n",
      "SD\n",
      "MV:  0.00668374212091\n",
      "MeV:  0.00736337054291\n",
      "kV:  0.00909587770194\n",
      "\n",
      "Skew Test\n",
      "MV:  SkewtestResult(statistic=2.2068810721255532, pvalue=0.027322369117786325)\n",
      "MeV:  SkewtestResult(statistic=1.9017396983087158, pvalue=0.05720519320767152)\n",
      "kV:  SkewtestResult(statistic=-1.4439149116578547, pvalue=0.14876291154433058)\n"
     ]
    }
   ],
   "source": [
    "print('Skew')\n",
    "print('All: ', nhs_data['OPRatio'].skew())\n",
    "print('MV: ', mv_data['OPRatio'].skew())\n",
    "print('MeV: ', mev_data['OPRatio'].skew())\n",
    "print('kV: ', kv_data['OPRatio'].skew())\n",
    "print()\n",
    "print('SEM')\n",
    "print('MV: ', mv_data['OPRatio'].sem())\n",
    "print('MeV: ', mev_data['OPRatio'].sem())\n",
    "print('kV: ', kv_data['OPRatio'].sem())\n",
    "print()\n",
    "print('Mean')\n",
    "print('MV: ', mv_data['OPRatio'].mean())\n",
    "print('MeV: ', mev_data['OPRatio'].mean())\n",
    "print('kV: ', kv_data['OPRatio'].mean())\n",
    "print()\n",
    "print('SD')\n",
    "print('MV: ', mv_data['OPRatio'].std())\n",
    "print('MeV: ', mev_data['OPRatio'].std())\n",
    "print('kV: ', kv_data['OPRatio'].std())\n",
    "print()\n",
    "from scipy import stats\n",
    "print('Skew Test')\n",
    "print('MV: ', stats.skewtest(mv_data['OPRatio']))\n",
    "print('MeV: ', stats.skewtest(mev_data['OPRatio']))\n",
    "print('kV: ', stats.skewtest(kv_data['OPRatio']))\n",
    "#print(stats.skewtest(plotdata['OPRatio']))"
   ]
  },
  {
   "cell_type": "markdown",
   "metadata": {},
   "source": [
    "#Plot of All Audits"
   ]
  },
  {
   "cell_type": "code",
   "execution_count": 9,
   "metadata": {
    "collapsed": false,
    "scrolled": true
   },
   "outputs": [
    {
     "name": "stderr",
     "output_type": "stream",
     "text": [
      "C:\\Anaconda3\\lib\\site-packages\\ipykernel\\__main__.py:3: FutureWarning: sort(columns=....) is deprecated, use sort_values(by=.....)\n",
      "  app.launch_new_instance()\n",
      "C:\\Anaconda3\\lib\\site-packages\\ipykernel\\__main__.py:4: FutureWarning: sort(columns=....) is deprecated, use sort_values(by=.....)\n",
      "C:\\Anaconda3\\lib\\site-packages\\ipykernel\\__main__.py:5: FutureWarning: sort(columns=....) is deprecated, use sort_values(by=.....)\n",
      "C:\\Anaconda3\\lib\\site-packages\\ipykernel\\__main__.py:13: FutureWarning: pd.rolling_std is deprecated for Series and will be removed in a future version, replace with \n",
      "\tSeries.rolling(center=False,window=20).std()\n",
      "C:\\Anaconda3\\lib\\site-packages\\ipykernel\\__main__.py:16: FutureWarning: pd.rolling_std is deprecated for Series and will be removed in a future version, replace with \n",
      "\tSeries.rolling(center=False,window=20).std()\n",
      "C:\\Anaconda3\\lib\\site-packages\\ipykernel\\__main__.py:19: FutureWarning: pd.rolling_std is deprecated for Series and will be removed in a future version, replace with \n",
      "\tSeries.rolling(center=False,window=20).std()\n"
     ]
    },
    {
     "data": {
      "text/html": [
       "<div>\n",
       "<table border=\"1\" class=\"dataframe\">\n",
       "  <thead>\n",
       "    <tr style=\"text-align: right;\">\n",
       "      <th></th>\n",
       "      <th>Centre_ID</th>\n",
       "      <th>Group</th>\n",
       "      <th>CentreType</th>\n",
       "      <th>Date</th>\n",
       "      <th>Type</th>\n",
       "      <th>Energy</th>\n",
       "      <th>CoP</th>\n",
       "      <th>BeamQualRatio</th>\n",
       "      <th>BeamQualError</th>\n",
       "      <th>OPRatio</th>\n",
       "      <th>OPError</th>\n",
       "      <th>IntercompRatio</th>\n",
       "      <th>IntercompError</th>\n",
       "      <th>Comments</th>\n",
       "      <th>SD_Prev20</th>\n",
       "    </tr>\n",
       "  </thead>\n",
       "  <tbody>\n",
       "    <tr>\n",
       "      <th>274</th>\n",
       "      <td>40</td>\n",
       "      <td>4</td>\n",
       "      <td>NHS</td>\n",
       "      <td>1998-06-11</td>\n",
       "      <td>kV</td>\n",
       "      <td>30</td>\n",
       "      <td>NaN</td>\n",
       "      <td>NaN</td>\n",
       "      <td>NaN</td>\n",
       "      <td>1.011928</td>\n",
       "      <td>0.6</td>\n",
       "      <td>NaN</td>\n",
       "      <td>NaN</td>\n",
       "      <td>NaN</td>\n",
       "      <td>NaN</td>\n",
       "    </tr>\n",
       "    <tr>\n",
       "      <th>57</th>\n",
       "      <td>6</td>\n",
       "      <td>6</td>\n",
       "      <td>NHS</td>\n",
       "      <td>2005-08-09</td>\n",
       "      <td>kV</td>\n",
       "      <td>85</td>\n",
       "      <td>NaN</td>\n",
       "      <td>1.07</td>\n",
       "      <td>3.0</td>\n",
       "      <td>0.999000</td>\n",
       "      <td>0.6</td>\n",
       "      <td>NaN</td>\n",
       "      <td>NaN</td>\n",
       "      <td>NaN</td>\n",
       "      <td>NaN</td>\n",
       "    </tr>\n",
       "    <tr>\n",
       "      <th>58</th>\n",
       "      <td>6</td>\n",
       "      <td>6</td>\n",
       "      <td>NHS</td>\n",
       "      <td>2005-08-09</td>\n",
       "      <td>kV</td>\n",
       "      <td>250</td>\n",
       "      <td>NaN</td>\n",
       "      <td>1.02</td>\n",
       "      <td>5.0</td>\n",
       "      <td>1.008000</td>\n",
       "      <td>0.8</td>\n",
       "      <td>1.001</td>\n",
       "      <td>0.4</td>\n",
       "      <td>NaN</td>\n",
       "      <td>NaN</td>\n",
       "    </tr>\n",
       "    <tr>\n",
       "      <th>103</th>\n",
       "      <td>21</td>\n",
       "      <td>7</td>\n",
       "      <td>NHS</td>\n",
       "      <td>2005-08-25</td>\n",
       "      <td>kV</td>\n",
       "      <td>60</td>\n",
       "      <td>NaN</td>\n",
       "      <td>NaN</td>\n",
       "      <td>NaN</td>\n",
       "      <td>1.002000</td>\n",
       "      <td>0.6</td>\n",
       "      <td>NaN</td>\n",
       "      <td>NaN</td>\n",
       "      <td>NaN</td>\n",
       "      <td>NaN</td>\n",
       "    </tr>\n",
       "    <tr>\n",
       "      <th>104</th>\n",
       "      <td>21</td>\n",
       "      <td>7</td>\n",
       "      <td>NHS</td>\n",
       "      <td>2005-08-25</td>\n",
       "      <td>kV</td>\n",
       "      <td>80</td>\n",
       "      <td>NaN</td>\n",
       "      <td>NaN</td>\n",
       "      <td>NaN</td>\n",
       "      <td>0.976000</td>\n",
       "      <td>0.6</td>\n",
       "      <td>NaN</td>\n",
       "      <td>NaN</td>\n",
       "      <td>NaN</td>\n",
       "      <td>NaN</td>\n",
       "    </tr>\n",
       "  </tbody>\n",
       "</table>\n",
       "</div>"
      ],
      "text/plain": [
       "     Centre_ID  Group CentreType       Date Type  Energy  CoP  BeamQualRatio  \\\n",
       "274         40      4        NHS 1998-06-11   kV      30  NaN            NaN   \n",
       "57           6      6        NHS 2005-08-09   kV      85  NaN           1.07   \n",
       "58           6      6        NHS 2005-08-09   kV     250  NaN           1.02   \n",
       "103         21      7        NHS 2005-08-25   kV      60  NaN            NaN   \n",
       "104         21      7        NHS 2005-08-25   kV      80  NaN            NaN   \n",
       "\n",
       "     BeamQualError   OPRatio  OPError  IntercompRatio  IntercompError  \\\n",
       "274            NaN  1.011928      0.6             NaN             NaN   \n",
       "57             3.0  0.999000      0.6             NaN             NaN   \n",
       "58             5.0  1.008000      0.8           1.001             0.4   \n",
       "103            NaN  1.002000      0.6             NaN             NaN   \n",
       "104            NaN  0.976000      0.6             NaN             NaN   \n",
       "\n",
       "    Comments  SD_Prev20  \n",
       "274      NaN        NaN  \n",
       "57       NaN        NaN  \n",
       "58       NaN        NaN  \n",
       "103      NaN        NaN  \n",
       "104      NaN        NaN  "
      ]
     },
     "execution_count": 9,
     "metadata": {},
     "output_type": "execute_result"
    }
   ],
   "source": [
    "# Calculate rolling SD of 20 values\n",
    "\n",
    "mv_data_datesort = md.sort(['Date', 'Energy'], ascending=True) #Sort by date and energy and put into new dataframe\n",
    "mev_data_datesort = ed.sort(['Date', 'Energy'], ascending=True) #Sort by date and energy and put into new dataframe\n",
    "kv_data_datesort = kd.sort(['Date', 'Energy'], ascending=True) #Sort by date and energy and put into new dataframe\n",
    "#mv_data_datesort.append('SD_Prev20')\n",
    "\n",
    "m = mv_data_datesort     # to allow shorter references to dataframes\n",
    "e = mev_data_datesort\n",
    "k = kv_data_datesort\n",
    "\n",
    "m['SD_Prev20'] = np.nan\n",
    "m['SD_Prev20'] = pd.rolling_std(m['OPRatio'],window=20)\n",
    "\n",
    "e['SD_Prev20'] = np.nan\n",
    "e['SD_Prev20'] = pd.rolling_std(e['OPRatio'],window=20)\n",
    "\n",
    "k['SD_Prev20'] = np.nan\n",
    "k['SD_Prev20'] = pd.rolling_std(k['OPRatio'],window=20)\n",
    "\n",
    "k.head()\n"
   ]
  },
  {
   "cell_type": "code",
   "execution_count": 10,
   "metadata": {
    "collapsed": false
   },
   "outputs": [],
   "source": [
    "#d = m\n",
    "#print(d['Date'][1])\n",
    "#print(dateval[1])"
   ]
  },
  {
   "cell_type": "markdown",
   "metadata": {},
   "source": [
    "##Histogram"
   ]
  },
  {
   "cell_type": "code",
   "execution_count": 11,
   "metadata": {
    "collapsed": false
   },
   "outputs": [
    {
     "name": "stdout",
     "output_type": "stream",
     "text": [
      "Norm Test:  SkewtestResult(statistic=2.2068810721252148, pvalue=0.027322369117809969)\n",
      "Mean:  1.00046362827\n"
     ]
    },
    {
     "data": {
      "image/png": "[encoded data removed]",
      "text/plain": [
       "<matplotlib.figure.Figure at 0xbda7e90>"
      ]
     },
     "metadata": {},
     "output_type": "display_data"
    }
   ],
   "source": [
    "pylab.rcParams['figure.figsize'] = 5, 5 # change size of figures\n",
    "\n",
    "from matplotlib.ticker import AutoMinorLocator\n",
    "\n",
    "d = m  #m = mv_data_datesort\n",
    "\n",
    "fig = plt.figure()\n",
    "axes = fig.add_subplot(1,1,1)\n",
    "plt.title('MV')\n",
    "plt.xlabel(\"Output Ratio (NPL:Host)\")\n",
    "plt.ylabel(\"Freqency (%)\")\n",
    "plt.xlim(0.968, 1.032)\n",
    "plt.ylim(0, 60)\n",
    "\n",
    "d['OPRatio'].hist(bins=14, range=(0.9675, 1.0375), normed=True,\n",
    "                               facecolor = 'green', alpha = 0.8, ax=axes, rwidth=1)\n",
    "\n",
    "axes.xaxis.set_minor_locator(AutoMinorLocator(2)) #used to set the number of minor ticks between major ticks\n",
    "plt.tick_params(which='major', width=1, length=5)\n",
    "plt.tick_params(which='minor', width=1, length=3)\n",
    "plt.grid(True, which='major')\n",
    "\n",
    "mean = d['OPRatio'].mean()\n",
    "sd = d['OPRatio'].std()\n",
    "\n",
    "x = np.linspace(0.9725, 1.0375, 100) # add normal distibution fit\n",
    "plt.plot(x, mlab.normpdf(x,mean,sd), linewidth = 2, color='red')\n",
    "\n",
    "#plt.savefig('NPL_Paper_Plots/FinalData/NPL_MV_NoG9_Hist_Fit.png', bbox_inches='tight', dpi=300)\n",
    "\n",
    "print('Norm Test: ', str(stats.skewtest(d['OPRatio'])))\n",
    "print('Mean: ', str(mean))"
   ]
  },
  {
   "cell_type": "markdown",
   "metadata": {},
   "source": [
    "##All audits in order"
   ]
  },
  {
   "cell_type": "code",
   "execution_count": 12,
   "metadata": {
    "collapsed": false
   },
   "outputs": [
    {
     "name": "stderr",
     "output_type": "stream",
     "text": [
      "C:\\Anaconda3\\lib\\site-packages\\ipykernel\\__main__.py:14: FutureWarning: pd.rolling_std is deprecated for Series and will be removed in a future version, replace with \n",
      "\tSeries.rolling(min_periods=0,center=False,window=20).std()\n"
     ]
    }
   ],
   "source": [
    "# Remove 3 outliers for calc of rolling SD.\n",
    "# copy the OP column and set values >1.02 to NA?\n",
    "\n",
    "#copy data to avoid ruining the raw set\n",
    "enew = e.copy()\n",
    "\n",
    "#copy OP ratios to new column\n",
    "enew['OPRatioCorr'] = enew['OPRatio']\n",
    "\n",
    "#set OP > 1.02 to nan in the hope it can be ignored for rolling stdev\n",
    "enew.loc[enew.OPRatioCorr > 1.02, 'OPRatioCorr'] = None\n",
    "\n",
    "#calc rolling stdev for new corrected OP col\n",
    "enew['SD_Prev20Corr'] = pd.rolling_std(enew['OPRatioCorr'],window=20,min_periods=0)\n",
    "#enew.tail(100)\n",
    "\n",
    "#x=np.arange(1,enew['OPRatio'].count()+1)\n",
    "#x=d['Date']\n",
    "#y=enew['OPRatio']\n",
    "#ynew=enew['OPRatioCorr']\n",
    "\n",
    "#plt.plot(x,y)\n",
    "#plt.plot(x,ynew)\n",
    "#enew.head(25)"
   ]
  },
  {
   "cell_type": "code",
   "execution_count": 15,
   "metadata": {
    "collapsed": false
   },
   "outputs": [
    {
     "data": {
      "image/png": "[encoded data removed]",
      "text/plain": [
       "<matplotlib.figure.Figure at 0x51edbd0>"
      ]
     },
     "metadata": {},
     "output_type": "display_data"
    }
   ],
   "source": [
    "#frames = [m, e, k]\n",
    "#d=pd.concat(frames) # to join all data together\n",
    "\n",
    "#d = enew\n",
    "d = m\n",
    "\n",
    "#pylab.rcParams['figure.figsize'] = 10, 5 # change size of figures\n",
    "my_dpi=300\n",
    "#fig1 = plt.figure(figsize=(1.06*500/my_dpi, 1.06*500/my_dpi), dpi=my_dpi) # set figure size for ESTRO abstract\n",
    "fig1 = plt.figure(figsize=(10,5))\n",
    "axes1 = fig1.add_subplot(1,1,1)\n",
    "axes1.autoscale(tight=True)\n",
    "plt.title('MV Audit Results')\n",
    "plt.xlabel(\"Audit Number\")\n",
    "plt.ylabel(\"Output Ratio (NPL:Host)\")\n",
    "plt.ylim(0.97, 1.03)\n",
    "#plt.xlim(min(d['Date'])-10, max(d['Date']+10)) #for date plot\n",
    "plt.margins(x=0.05) # adds some space between points and edge of graph\n",
    "axes1.xaxis.set_minor_locator(AutoMinorLocator(4)) #used to set the number of minor ticks between major ticks\n",
    "plt.tick_params(which='major', width=1, length=5)\n",
    "plt.tick_params(which='minor', width=1, length=3)\n",
    "plt.grid(True, which='major')\n",
    "\n",
    "x=np.arange(1,d['OPRatio'].count()+1)\n",
    "#x=d['Date']\n",
    "y=d['OPRatio']\n",
    "yerr=(d['OPError']*d['OPRatio'])/100\n",
    "\n",
    "## rolling sd to plot\n",
    "ysd=d['SD_Prev20']\n",
    "\n",
    "##if igorning OOT results\n",
    "#ysdcorr=d['SD_Prev20Corr']\n",
    "#ysdcorr[0:19] = np.nan # to not plot first 20 values of sd calculated\n",
    "\n",
    "## all points the same\n",
    "#plt.errorbar(x, y, yerr=yerr, ecolor='black', linestyle=\"\", marker = 'o', markersize=4, color='black') # for plotting number of audits\n",
    "\n",
    "## seperate 1996 and 2003 CoPs with dif markers\n",
    "## get CoP and create a dataseries to indicate the marker to use\n",
    "#ycop=d['CoP']\n",
    "#ymarker=ycop.copy()\n",
    "#colours=['white', 'black']\n",
    "#ymarker=ymarker.replace([1996,2003],colours)\n",
    "plt.errorbar(x, y, yerr=yerr, ecolor='black', linestyle=\"\", marker = 'None')\n",
    "plt.scatter(x, y, facecolor='black', marker ='o', s=12,zorder=300) # change facecolor to'ymarker for CoP colour changes\n",
    "## add fake points for the legend\n",
    "#plt.scatter(5, 5, facecolor=colours[0], marker ='o', label='1996 CoP')\n",
    "#plt.scatter(5, 5, facecolor=colours[1], marker ='o', label='2003 CoP')\n",
    "\n",
    "#l = plt.legend(scatterpoints=1)\n",
    "\n",
    "#frame = l.get_frame()\n",
    "#frame.set_facecolor('white')\n",
    "\n",
    "## for plotting date\n",
    "#plt.plot(d['Date'].values,d['OPRatio'], 'o', alpha=0.7)\n",
    "\n",
    "plt.axhline(1, color='black', linestyle='-', linewidth=1)\n",
    "axes2=fig1.add_subplot(111, sharex=axes1, frameon=False)\n",
    "axes2.yaxis.tick_right()\n",
    "axes2.yaxis.set_label_position('right')\n",
    "plt.ylim(0, 0.012)\n",
    "plt.ylabel(\"Standard Deviation (Previous 20)\")\n",
    "line2=axes2.plot(x,ysd, color='red', ls='-', linewidth=2,label=\"Standard Deviation (Previous 20)\")\n",
    "plt.legend()\n",
    "\n",
    "#line2=axes2.plot(x,ysdcorr, color='black', ls='--', linewidth=2)\n",
    "\n",
    "# to show both including and excluding OOT results\n",
    "#line2=axes2.plot(d['Date'].values,ysd, color='orange', ls='--', linewidth=2) # for plotting date\n",
    "#line2=axes2.plot(d['Date'].values,ysdcorr, color='red', ls='--', linewidth=2) # for plotting date\n",
    "\n",
    "#plt.savefig('NPL_Paper_Plots/FinalData/NPL_MV_All+_SD_Red.png', bbox_inches='tight', dpi=300)\n",
    "\n",
    "#save as 600x800px for abstract\n",
    "#plt.savefig('NPL_Paper_Plots/FinalData/NPL_MeV_All_SD_NHS-grey-difCoPmarkers.png', bbox_inches='tight', dpi=my_dpi)"
   ]
  },
  {
   "cell_type": "code",
   "execution_count": 14,
   "metadata": {
    "collapsed": false
   },
   "outputs": [
    {
     "data": {
      "text/plain": [
       "<matplotlib.text.Text at 0xbed06b0>"
      ]
     },
     "execution_count": 14,
     "metadata": {},
     "output_type": "execute_result"
    },
    {
     "data": {
      "image/png": "[encoded data removed]",
      "text/plain": [
       "<matplotlib.figure.Figure at 0xbe1d650>"
      ]
     },
     "metadata": {},
     "output_type": "display_data"
    }
   ],
   "source": [
    "d=m\n",
    "\n",
    "plt.figure(figsize=(5,5))\n",
    "#x=d['IntercompRatio']\n",
    "x=d['BeamQualRatio']\n",
    "y=d['OPRatio']\n",
    "plt.scatter(x,y)\n",
    "#plt.xlim(0.98,1.02)\n",
    "plt.ylim(0.97,1.03)\n",
    "\n",
    "plt.title('Beam Quality Ratio vs OP Ratio - MeV')\n",
    "plt.xlabel(\"Beam Quality Ratio\")\n",
    "plt.ylabel(\"OP Ratio\")\n",
    "\n",
    "#plt.savefig('NPL_Paper_Plots/FinalData/NPL_MeV_BeamQualvsOP.png', bbox_inches='tight', dpi=300)"
   ]
  },
  {
   "cell_type": "markdown",
   "metadata": {},
   "source": [
    "##Add linear fit to graphs"
   ]
  },
  {
   "cell_type": "code",
   "execution_count": 42,
   "metadata": {
    "collapsed": false
   },
   "outputs": [
    {
     "name": "stdout",
     "output_type": "stream",
     "text": [
      "0     1.005968\n",
      "1     1.006191\n",
      "10    1.001325\n",
      "11    0.996000\n",
      "12    1.003109\n",
      "Name: OPRatio, dtype: float64\n"
     ]
    }
   ],
   "source": [
    "print(d['OPRatio'].head(5))"
   ]
  },
  {
   "cell_type": "code",
   "execution_count": 43,
   "metadata": {
    "collapsed": false
   },
   "outputs": [
    {
     "name": "stdout",
     "output_type": "stream",
     "text": [
      "y = 0.877669444351x + 0.122761479032\n",
      "Residuals:  [ 0.00266662]\n"
     ]
    },
    {
     "data": {
      "image/png": "[encoded data removed]",
      "text/plain": [
       "<matplotlib.figure.Figure at 0xa174750>"
      ]
     },
     "metadata": {},
     "output_type": "display_data"
    }
   ],
   "source": [
    "d=e       ## Use np.polyfit() to fit straight lines. weightings can be used with 1/sigma. \n",
    "\n",
    "x=d['IntercompRatio'].values\n",
    "y=d['OPRatio'].values\n",
    "\n",
    "#print(x,y)\n",
    "\n",
    "idx = np.isfinite(x) #This checks for NaN values as can't fit NaN values in IntercompRatio\n",
    "#fit_results = np.polyfit(x[idx], y[idx], 1, cov=True) #use full=True to give residuals, use cov=True to give covariance matrix\n",
    "#print(fit_results)\n",
    "(grad, intercept), residuals,  rank, singular_values, rcond  = np.polyfit(x[idx], y[idx], 1, full=True)\n",
    "\n",
    "print('y = ' + str(grad) + 'x + ' + str(intercept))\n",
    "print('Residuals: ', residuals)\n",
    "ext=0.03\n",
    "xfit=np.linspace(min(x[idx])-ext,max(x[idx])+ext,20)\n",
    "yfit= (grad*xfit) + intercept\n",
    "\n",
    "plt.figure(figsize=(5,5))\n",
    "plt.scatter(x, y)\n",
    "plt.plot(xfit,yfit, color='red', ls='--')\n",
    "plt.xlim(0.98,1.02)\n",
    "plt.ylim(0.97,1.03)\n",
    "plt.xlabel('Intercomparison Ratio')\n",
    "plt.ylabel('OP Ratio')\n",
    "\n",
    "savename = 'Curve_Fits/IntCompvsOP_kV_linfit.png'\n",
    "#plt.savefig(savename, bbox_inches='tight', dpi=300)"
   ]
  },
  {
   "cell_type": "code",
   "execution_count": 44,
   "metadata": {
    "collapsed": false
   },
   "outputs": [
    {
     "name": "stdout",
     "output_type": "stream",
     "text": [
      "Variance Estimates:  [ 0.023919    0.02395391]\n",
      "grad =  0.853750446799  -  0.901588441902\n",
      "intercept =  0.0988075654565  -  0.146715392608\n"
     ]
    },
    {
     "data": {
      "image/png": "[encoded data removed]",
      "text/plain": [
       "<matplotlib.figure.Figure at 0xa0daf30>"
      ]
     },
     "metadata": {},
     "output_type": "display_data"
    }
   ],
   "source": [
    "fit_stuff  = np.polyfit(x[idx], y[idx], 1, cov=True)\n",
    "var_est = np.diagonal(fit_stuff[1]) # variance estimates are the diagonals in the covariance matrix?\n",
    "\n",
    "print('Variance Estimates: ', var_est)\n",
    "print('grad = ', grad-var_est[0], ' - ', grad+var_est[0])\n",
    "print('intercept = ', intercept-var_est[1], ' - ', intercept+var_est[1])\n",
    "\n",
    "#yfit1= (grad-var_est[0])*xfit + (intercept+var_est[1])\n",
    "#yfit2= (grad-var_est[0])*xfit + (intercept-var_est[1])\n",
    "#yfit3= (grad+var_est[0])*xfit + (intercept+var_est[1])\n",
    "#yfit4= (grad+var_est[0])*xfit + (intercept-var_est[1])\n",
    "\n",
    "yfit1= (grad-var_est[0]**0.5)*xfit + (intercept+var_est[1]**0.5)\n",
    "yfit2= (grad-var_est[0]**0.5)*xfit + (intercept-var_est[1]**0.5)\n",
    "yfit3= (grad+var_est[0]**0.5)*xfit + (intercept+var_est[1]**0.5)\n",
    "yfit4= (grad+var_est[0]**0.5)*xfit + (intercept-var_est[1]**0.5)\n",
    "\n",
    "plt.figure(figsize=(5,5))\n",
    "plt.scatter(x, y)\n",
    "plt.plot(xfit,yfit, color='red', ls='--')\n",
    "plt.xlim(0.98,1.02)\n",
    "plt.ylim(0.97,1.03)\n",
    "plt.xlabel('Intercomparison Ratio')\n",
    "plt.ylabel('OP Ratio')\n",
    "plt.plot(xfit,yfit1, color='green', alpha=0.8)\n",
    "plt.plot(xfit,yfit2, color='orange', alpha=0.8)\n",
    "plt.plot(xfit,yfit3, color='blue', alpha=0.8)\n",
    "plt.plot(xfit,yfit4, color='grey', alpha=0.8)\n",
    "\n",
    "savename = 'Curve_Fits/IntCompvsOP_kV_linfit_errors.png'\n",
    "plt.savefig(savename, bbox_inches='tight', dpi=300)"
   ]
  },
  {
   "cell_type": "markdown",
   "metadata": {},
   "source": [
    "##Fit confidence interval based on Standard Error"
   ]
  },
  {
   "cell_type": "code",
   "execution_count": 45,
   "metadata": {
    "collapsed": false
   },
   "outputs": [
    {
     "name": "stdout",
     "output_type": "stream",
     "text": [
      "Summary: a=0.1228+/-0.3043, b=0.8777+/-0.3041\n",
      "Confidence intervals: ci_a=(-0.1815 - 0.4271), ci_b=(0.5736 - 1.1818)\n",
      "Residuals: variance = 0.0000, standard deviation = 0.0064\n",
      "alpha = 0.050, tval = 1.9971, df=65\n"
     ]
    },
    {
     "ename": "NameError",
     "evalue": "name 'xg9' is not defined",
     "output_type": "error",
     "traceback": [
      "\u001b[1;31m---------------------------------------------------------------------------\u001b[0m",
      "\u001b[1;31mNameError\u001b[0m                                 Traceback (most recent call last)",
      "\u001b[1;32m<ipython-input-45-3f6c814e7e9e>\u001b[0m in \u001b[0;36m<module>\u001b[1;34m()\u001b[0m\n\u001b[0;32m    159\u001b[0m \u001b[0mconf_int\u001b[0m \u001b[1;33m=\u001b[0m \u001b[1;32mTrue\u001b[0m \u001b[1;31m#specify whether to plot confidence intervals\u001b[0m\u001b[1;33m\u001b[0m\u001b[0m\n\u001b[0;32m    160\u001b[0m \u001b[1;33m\u001b[0m\u001b[0m\n\u001b[1;32m--> 161\u001b[1;33m \u001b[1;33m(\u001b[0m\u001b[0ma\u001b[0m\u001b[1;33m,\u001b[0m\u001b[0mb\u001b[0m\u001b[1;33m,\u001b[0m\u001b[1;33m(\u001b[0m\u001b[0mci_a\u001b[0m\u001b[1;33m,\u001b[0m \u001b[0mci_b\u001b[0m\u001b[1;33m)\u001b[0m\u001b[1;33m,\u001b[0m \u001b[0mri\u001b[0m\u001b[1;33m,\u001b[0m\u001b[0mnewy\u001b[0m\u001b[1;33m)\u001b[0m \u001b[1;33m=\u001b[0m \u001b[0mfitLine\u001b[0m\u001b[1;33m(\u001b[0m\u001b[0mx\u001b[0m\u001b[1;33m,\u001b[0m\u001b[0my\u001b[0m\u001b[1;33m,\u001b[0m \u001b[0malpha\u001b[0m\u001b[1;33m=\u001b[0m\u001b[1;36m0.05\u001b[0m\u001b[1;33m,\u001b[0m\u001b[0mnewx\u001b[0m\u001b[1;33m=\u001b[0m\u001b[0mnp\u001b[0m\u001b[1;33m.\u001b[0m\u001b[0marray\u001b[0m\u001b[1;33m(\u001b[0m\u001b[1;33m[\u001b[0m\u001b[1;36m1\u001b[0m\u001b[1;33m,\u001b[0m\u001b[1;36m4.5\u001b[0m\u001b[1;33m]\u001b[0m\u001b[1;33m)\u001b[0m\u001b[1;33m)\u001b[0m\u001b[1;33m\u001b[0m\u001b[0m\n\u001b[0m\u001b[0;32m    162\u001b[0m \u001b[1;33m\u001b[0m\u001b[0m\n\u001b[0;32m    163\u001b[0m \u001b[1;31m#savename = 'Curve_Fits/BeamQualvsOP_MV_linfit.png'\u001b[0m\u001b[1;33m\u001b[0m\u001b[1;33m\u001b[0m\u001b[0m\n",
      "\u001b[1;32m<ipython-input-45-3f6c814e7e9e>\u001b[0m in \u001b[0;36mfitLine\u001b[1;34m(x, y, alpha, newx, plotFlag)\u001b[0m\n\u001b[0;32m     68\u001b[0m \u001b[1;33m\u001b[0m\u001b[0m\n\u001b[0;32m     69\u001b[0m         \u001b[1;31m# highlight certain points - G9 and OOT\u001b[0m\u001b[1;33m\u001b[0m\u001b[1;33m\u001b[0m\u001b[0m\n\u001b[1;32m---> 70\u001b[1;33m         \u001b[0mplt\u001b[0m\u001b[1;33m.\u001b[0m\u001b[0mscatter\u001b[0m\u001b[1;33m(\u001b[0m\u001b[0mxg9\u001b[0m\u001b[1;33m,\u001b[0m\u001b[0myg9\u001b[0m\u001b[1;33m,\u001b[0m \u001b[0mcolor\u001b[0m \u001b[1;33m=\u001b[0m \u001b[1;34m'orange'\u001b[0m\u001b[1;33m)\u001b[0m\u001b[1;33m\u001b[0m\u001b[0m\n\u001b[0m\u001b[0;32m     71\u001b[0m         \u001b[0mplt\u001b[0m\u001b[1;33m.\u001b[0m\u001b[0mscatter\u001b[0m\u001b[1;33m(\u001b[0m\u001b[0mxoot\u001b[0m\u001b[1;33m,\u001b[0m\u001b[0myoot\u001b[0m\u001b[1;33m,\u001b[0m \u001b[0mcolor\u001b[0m \u001b[1;33m=\u001b[0m \u001b[1;34m'red'\u001b[0m\u001b[1;33m)\u001b[0m\u001b[1;33m\u001b[0m\u001b[0m\n\u001b[0;32m     72\u001b[0m \u001b[1;33m\u001b[0m\u001b[0m\n",
      "\u001b[1;31mNameError\u001b[0m: name 'xg9' is not defined"
     ]
    },
    {
     "data": {
      "image/png": "[encoded data removed]",
      "text/plain": [
       "<matplotlib.figure.Figure at 0xa88a170>"
      ]
     },
     "metadata": {},
     "output_type": "display_data"
    }
   ],
   "source": [
    "import numpy as np\n",
    "import matplotlib.pyplot as plt\n",
    "import scipy.stats as stats\n",
    "\n",
    "def fitLine(x, y, alpha=0.05, newx=[], plotFlag=1):\n",
    "    ''' Fit a curve to the data using a least squares 1st order polynomial fit '''\n",
    "    \n",
    "    # Summary data\n",
    "    n = len(x)   # number of samples     \n",
    "    \n",
    "    Sxx = np.sum(x**2) - np.sum(x)**2/n\n",
    "#    Syy = np.sum(y**2) - np.sum(y)**2/n    # not needed here\n",
    "    Sxy = np.sum(x*y) - np.sum(x)*np.sum(y)/n    \n",
    "    mean_x = np.mean(x)\n",
    "    mean_y = np.mean(y)\n",
    "    \n",
    "    # Linefit\n",
    "    b = Sxy/Sxx\n",
    "    a = mean_y - b*mean_x\n",
    "    \n",
    "    # Residuals\n",
    "    fit = lambda xx: a + b*xx    \n",
    "    residuals = y - fit(x)\n",
    "    \n",
    "    var_res = np.sum(residuals**2)/(n-2)\n",
    "    sd_res = np.sqrt(var_res)\n",
    "    \n",
    "    # Confidence intervals\n",
    "    se_b = sd_res/np.sqrt(Sxx)\n",
    "    se_a = sd_res*np.sqrt(np.sum(x**2)/(n*Sxx))\n",
    "    \n",
    "    df = n-2                            # degrees of freedom\n",
    "    tval = stats.t.isf(alpha/2., df)    # appropriate t value\n",
    "    \n",
    "    ci_a = a + tval*se_a*np.array([-1,1])\n",
    "    ci_b = b + tval*se_b*np.array([-1,1])\n",
    "\n",
    "    # create series of new test x-values to predict for\n",
    "    npts = 100\n",
    "    #px = np.linspace(np.min(x),np.max(x),num=npts)\n",
    "    \n",
    "    ext=0.3\n",
    "    xfit=np.linspace(min(x)-ext,max(x)+ext,100)\n",
    "    \n",
    "    se_fit     = lambda x: sd_res * np.sqrt(  1./n + (x-mean_x)**2/Sxx)\n",
    "    se_predict = lambda x: sd_res * np.sqrt(1+1./n + (x-mean_x)**2/Sxx)\n",
    "    \n",
    "    print ('Summary: a={0:5.4f}+/-{1:5.4f}, b={2:5.4f}+/-{3:5.4f}'.format(a,tval*se_a,b,tval*se_b))\n",
    "    print ('Confidence intervals: ci_a=({0:5.4f} - {1:5.4f}), ci_b=({2:5.4f} - {3:5.4f})'.format(ci_a[0], ci_a[1], ci_b[0], ci_b[1]))\n",
    "    print ('Residuals: variance = {0:5.4f}, standard deviation = {1:5.4f}'.format(var_res, sd_res))\n",
    "    print ('alpha = {0:.3f}, tval = {1:5.4f}, df={2:d}'.format(alpha, tval, df))\n",
    "    \n",
    "    # Return info\n",
    "    ri = {'residuals': residuals, \n",
    "        'var_res': var_res,\n",
    "        'sd_res': sd_res,\n",
    "        'alpha': alpha,\n",
    "        'tval': tval,\n",
    "        'df': df}\n",
    "    \n",
    "    if plotFlag == 1:\n",
    "        # Plot the data\n",
    "        plt.figure(figsize=(5,5))\n",
    "        \n",
    "        plt.plot(xfit, fit(xfit),color='black', ls='--', label='Linear Fit')\n",
    "       # plt.plot(x,y,'b.', label='Sample observations')\n",
    "        plt.scatter(x,y, alpha=0.8, label='Data')\n",
    "        \n",
    "        # highlight certain points - G9 and OOT\n",
    "        plt.scatter(xg9,yg9, color = 'orange')\n",
    "        plt.scatter(xoot,yoot, color = 'red')\n",
    "        \n",
    "        x.sort()\n",
    "        limit = (1-alpha)*100\n",
    "        \n",
    "        if conf_int == True:\n",
    "            plt.plot(xfit, fit(xfit)+tval*se_fit(xfit), 'grey', alpha=0.3, label='Conf. limit ({0:.1f}%)'.format(limit))\n",
    "            plt.plot(xfit, fit(xfit)-tval*se_fit(xfit), 'grey', alpha=0.3)\n",
    "        \n",
    "            plt.fill_between(xfit, fit(xfit)+tval*se_fit(xfit), fit(xfit)-tval*se_fit(xfit), facecolor='grey', alpha=0.3)\n",
    "        \n",
    "            plt.plot(xfit, fit(xfit)+tval*se_predict(xfit), 'c--', label='Pred. limit ({0:.1f}%)'.format(limit))\n",
    "            plt.plot(xfit, fit(xfit)-tval*se_predict(xfit), 'c--')\n",
    "\n",
    "        \n",
    "        if min(x)<0:\n",
    "            plt.xlabel('Beam Quality Difference (cm)')\n",
    "        else:\n",
    "            plt.xlabel('Intercomparison Ratio')\n",
    "            #plt.xlabel('Beam Quality Ratio')\n",
    "        \n",
    "        plt.ylabel('Output Ratio')\n",
    "        if typestr=='MeV' and min(x)<0:\n",
    "            plt.xlim(-0.4,0.4)\n",
    "        else:\n",
    "            plt.xlim(0.97,1.03)\n",
    "            #plt.xlim(0.8,1.2) # for kV\n",
    "        \n",
    "        plt.ylim(0.97,1.03)\n",
    "        plt.title(typestr)\n",
    "        \n",
    "        # configure legend\n",
    "        #plt.legend(loc='lower right', scatterpoints = 1)\n",
    "        #leg = plt.gca().get_legend()\n",
    "        #ltext = leg.get_texts()\n",
    "        #plt.setp(ltext, fontsize=10)\n",
    "\n",
    "        # show the plot\n",
    "        #plt.show()\n",
    "        \n",
    "    if newx != []:\n",
    "        try:\n",
    "            newx.size\n",
    "        except AttributeError:\n",
    "            newx = np.array([newx])\n",
    "    \n",
    "        print ('Example: x = {0}+/-{1} => se_fit = {2:5.4f}, se_predict = {3:6.5f}'\\\n",
    "        .format(newx[0], tval*se_predict(newx[0]), se_fit(newx[0]), se_predict(newx[0])))\n",
    "        \n",
    "        newy = (fit(newx), fit(newx)-se_predict(newx), fit(newx)+se_predict(newx))\n",
    "        return (a,b,(ci_a, ci_b), ri, newy)\n",
    "    else:\n",
    "        return (a,b,(ci_a, ci_b), ri)\n",
    "    \n",
    "#if __name__ == '__main__':\n",
    "        # example data\n",
    "        #x = np.array([15.3, 10.8, 8.1, 19.5, 7.2, 5.3, 9.3, 11.1, 7.5, 12.2,\n",
    "        #              6.7, 5.2, 19.0, 15.1, 6.7, 8.6, 4.2, 10.3, 12.5, 16.1, \n",
    "        #              13.3, 4.9, 8.8, 9.5])\n",
    "        #y = np.array([1.76, 1.34, 1.27, 1.47, 1.27, 1.49, 1.31, 1.09, 1.18, \n",
    "        #              1.22, 1.25, 1.19, 1.95, 1.28, 1.52, np.nan, 1.12, 1.37, \n",
    "        #              1.19, 1.05, 1.32, 1.03, 1.12, 1.70])\n",
    "                      \n",
    "#        goodIndex = np.invert(np.logical_or(np.isnan(x), np.isnan(y)))\n",
    "        \n",
    "## Function used to fit line\n",
    "\n",
    "d=e       ## Use np.polyfit() to fit straight lines. weightings can be used with 1/sigma. \n",
    "\n",
    "xraw=d['IntercompRatio'].values\n",
    "#xraw=d['BeamQualRatio'].values\n",
    "yraw=d['OPRatio'].values\n",
    "typestr=d['Type'].values[0] #for title of plot\n",
    "#print(typestr[0])\n",
    "\n",
    "# for removing g9\n",
    "#yraw = d.loc[d['Group']!=9, ['OPRatio']].values\n",
    "#xraw = d.loc[d['Group']!=9, ['IntercompRatio']].values\n",
    "\n",
    "# for highlighting key points\n",
    "#yg9 = d.loc[d['Group']==9, ['OPRatio']]\n",
    "#xg9 = d.loc[d['Group']==9, ['IntercompRatio']]\n",
    "#yoot = d.loc[d['OPRatio']>1.02, ['OPRatio']]\n",
    "#xoot = d.loc[d['OPRatio']>1.02, ['IntercompRatio']]\n",
    "\n",
    "idx = np.isfinite(xraw) #This checks for NaN values as can't fit NaN values in IntercompRatio\n",
    "x=xraw[idx]\n",
    "y=yraw[idx]\n",
    "\n",
    "conf_int = True #specify whether to plot confidence intervals\n",
    "\n",
    "(a,b,(ci_a, ci_b), ri,newy) = fitLine(x,y, alpha=0.05,newx=np.array([1,4.5]))\n",
    "\n",
    "#savename = 'Curve_Fits/BeamQualvsOP_MV_linfit.png'\n",
    "#plt.savefig(savename, bbox_inches='tight', dpi=300)\n",
    "#plt.savefig('NPL_Paper_Plots/FinalData/NPL_MeV_IntercompOP_fit-all.png', bbox_inches='tight', dpi=300)"
   ]
  },
  {
   "cell_type": "markdown",
   "metadata": {},
   "source": [
    "###Calculate Pearsons Correlation Coefficient\n",
    "(Test for linear correlation)"
   ]
  },
  {
   "cell_type": "code",
   "execution_count": 46,
   "metadata": {
    "collapsed": false
   },
   "outputs": [
    {
     "name": "stdout",
     "output_type": "stream",
     "text": [
      "Pearsons Correlation Coefficient for *MeV* is 0.581607962609 with p-val = 2.45169832819e-07\n"
     ]
    }
   ],
   "source": [
    "d=e       ## Use np.polyfit() to fit straight lines. weightings can be used with 1/sigma. \n",
    "\n",
    "beamtype = d['Type'].values[0]\n",
    "\n",
    "xraw=d['IntercompRatio'].values\n",
    "#xraw=d['BeamQualRatio'].values\n",
    "yraw=d['OPRatio'].values\n",
    "\n",
    "# for removing g9\n",
    "yraw = d.loc[d['Group']!=9, ['OPRatio']].values\n",
    "xraw = d.loc[d['Group']!=9, ['IntercompRatio']].values\n",
    "\n",
    "#In [27]: a = np.array([1, 3, 5, 6, 9, 10, 14, 15, 56])\n",
    "#\n",
    "#In [28]: np.where(np.logical_and(a>=6, a<=10))\n",
    "#Out[28]: (array([3, 4, 5]),)\n",
    "\n",
    "idx = np.isfinite(xraw) #This checks for NaN values as can't fit NaN values in IntercompRatio\n",
    "x=xraw[idx]\n",
    "y=yraw[idx]\n",
    "\n",
    "#plt.scatter(x,y)\n",
    "\n",
    "pcorr = stats.pearsonr(x,y)\n",
    "print(\"Pearsons Correlation Coefficient for *\" + beamtype + \"* is \" + str(pcorr[0]) + \" with p-val = \" + str(pcorr[1]))"
   ]
  },
  {
   "cell_type": "code",
   "execution_count": 47,
   "metadata": {
    "collapsed": false
   },
   "outputs": [
    {
     "ename": "IndexError",
     "evalue": "too many indices for array",
     "output_type": "error",
     "traceback": [
      "\u001b[1;31m---------------------------------------------------------------------------\u001b[0m",
      "\u001b[1;31mIndexError\u001b[0m                                Traceback (most recent call last)",
      "\u001b[1;32m<ipython-input-47-b693579fa401>\u001b[0m in \u001b[0;36m<module>\u001b[1;34m()\u001b[0m\n\u001b[0;32m      1\u001b[0m \u001b[1;32mfrom\u001b[0m \u001b[0mscipy\u001b[0m \u001b[1;32mimport\u001b[0m \u001b[0mstats\u001b[0m\u001b[1;33m\u001b[0m\u001b[0m\n\u001b[0;32m      2\u001b[0m \u001b[1;33m\u001b[0m\u001b[0m\n\u001b[1;32m----> 3\u001b[1;33m \u001b[0mslope\u001b[0m\u001b[1;33m,\u001b[0m \u001b[0mintercept\u001b[0m\u001b[1;33m,\u001b[0m \u001b[0mr_value\u001b[0m\u001b[1;33m,\u001b[0m \u001b[0mp_value\u001b[0m\u001b[1;33m,\u001b[0m \u001b[0mstd_err\u001b[0m \u001b[1;33m=\u001b[0m \u001b[0mstats\u001b[0m\u001b[1;33m.\u001b[0m\u001b[0mlinregress\u001b[0m\u001b[1;33m(\u001b[0m\u001b[0mx\u001b[0m\u001b[1;33m[\u001b[0m\u001b[0midx\u001b[0m\u001b[1;33m]\u001b[0m\u001b[1;33m,\u001b[0m\u001b[0my\u001b[0m\u001b[1;33m[\u001b[0m\u001b[0midx\u001b[0m\u001b[1;33m]\u001b[0m\u001b[1;33m)\u001b[0m\u001b[1;33m\u001b[0m\u001b[0m\n\u001b[0m\u001b[0;32m      4\u001b[0m \u001b[0mprint\u001b[0m\u001b[1;33m(\u001b[0m\u001b[1;34m'y = '\u001b[0m\u001b[1;33m,\u001b[0m \u001b[0mslope\u001b[0m\u001b[1;33m,\u001b[0m \u001b[1;34m'x + '\u001b[0m\u001b[1;33m,\u001b[0m \u001b[0mintercept\u001b[0m\u001b[1;33m)\u001b[0m\u001b[1;33m\u001b[0m\u001b[0m\n\u001b[0;32m      5\u001b[0m \u001b[0mprint\u001b[0m\u001b[1;33m(\u001b[0m\u001b[1;34m'R squared: '\u001b[0m\u001b[1;33m,\u001b[0m \u001b[0mr_value\u001b[0m\u001b[1;33m**\u001b[0m\u001b[1;36m2\u001b[0m\u001b[1;33m)\u001b[0m\u001b[1;33m\u001b[0m\u001b[0m\n",
      "\u001b[1;31mIndexError\u001b[0m: too many indices for array"
     ]
    }
   ],
   "source": [
    "from scipy import stats\n",
    "\n",
    "slope, intercept, r_value, p_value, std_err = stats.linregress(x[idx],y[idx])\n",
    "print('y = ', slope, 'x + ', intercept)\n",
    "print('R squared: ', r_value**2)\n",
    "print('Std Error: ', std_err)\n",
    "print('P Value: ', p_value)"
   ]
  },
  {
   "cell_type": "code",
   "execution_count": 51,
   "metadata": {
    "collapsed": false
   },
   "outputs": [],
   "source": [
    "##fitting function taken from http://stackoverflow.com/questions/19379295/linear-regression-with-pandas-dataframe\n",
    "\n",
    "#from scipy.stats import linregress\n",
    "#def fit_line1(x, y):\n",
    "#    \"\"\"Return slope, intercept of best fit line.\"\"\"\n",
    "#    # Remove entries where either x or y is NaN.\n",
    "#    clean_data = pd.concat([x, y], 1).dropna(0) # row-wise\n",
    "#    (_, x), (_, y) = clean_data.iteritems()\n",
    "#    slope, intercept, r, p, stderr = linregress(x, y)\n",
    "#    return slope, intercept # could also return stderr\n",
    "\n",
    "#m, b = fit_line1(x, y)\n",
    "#N = 100 # could be just 2 if you are only drawing a straight line...\n",
    "#points = np.linspace(x.min(), x.max(), N)\n",
    "#plt.plot(points, m*points + b)\n",
    "#plt.scatter(x,y)"
   ]
  },
  {
   "cell_type": "markdown",
   "metadata": {},
   "source": [
    "Want to do the below with it split into groups, and also split into 5 year periods to see the variation with time. (Similar to Palmer paper...)"
   ]
  },
  {
   "cell_type": "markdown",
   "metadata": {},
   "source": [
    "Plot all groups OP data as a sort of scatter plot (rather than use box plot?)"
   ]
  },
  {
   "cell_type": "markdown",
   "metadata": {
    "collapsed": true
   },
   "source": [
    "##Some statistical analysis such as T-tests\n",
    "Can see there is no statistical difference between the low and high groupings."
   ]
  },
  {
   "cell_type": "code",
   "execution_count": 48,
   "metadata": {
    "collapsed": false
   },
   "outputs": [
    {
     "ename": "NameError",
     "evalue": "name 'ehigh' is not defined",
     "output_type": "error",
     "traceback": [
      "\u001b[1;31m---------------------------------------------------------------------------\u001b[0m",
      "\u001b[1;31mNameError\u001b[0m                                 Traceback (most recent call last)",
      "\u001b[1;32m<ipython-input-48-d06a048394ab>\u001b[0m in \u001b[0;36m<module>\u001b[1;34m()\u001b[0m\n\u001b[0;32m      1\u001b[0m \u001b[1;32mimport\u001b[0m \u001b[0mscipy\u001b[0m\u001b[1;33m\u001b[0m\u001b[0m\n\u001b[1;32m----> 2\u001b[1;33m \u001b[0mehighlow\u001b[0m \u001b[1;33m=\u001b[0m \u001b[0mscipy\u001b[0m\u001b[1;33m.\u001b[0m\u001b[0mstats\u001b[0m\u001b[1;33m.\u001b[0m\u001b[0mttest_ind\u001b[0m\u001b[1;33m(\u001b[0m\u001b[0mehigh\u001b[0m\u001b[1;33m[\u001b[0m\u001b[1;34m'OPRatio'\u001b[0m\u001b[1;33m]\u001b[0m\u001b[1;33m,\u001b[0m \u001b[0melow\u001b[0m\u001b[1;33m[\u001b[0m\u001b[1;34m'OPRatio'\u001b[0m\u001b[1;33m]\u001b[0m\u001b[1;33m,\u001b[0m \u001b[0mequal_var\u001b[0m\u001b[1;33m=\u001b[0m\u001b[1;32mFalse\u001b[0m\u001b[1;33m)\u001b[0m\u001b[1;33m\u001b[0m\u001b[0m\n\u001b[0m\u001b[0;32m      3\u001b[0m \u001b[0mprint\u001b[0m\u001b[1;33m(\u001b[0m\u001b[1;34m\"Low vs high MeV: \"\u001b[0m\u001b[1;33m,\u001b[0m \u001b[1;34m\"T-Stat: \"\u001b[0m\u001b[1;33m,\u001b[0m \u001b[0mehighlow\u001b[0m\u001b[1;33m[\u001b[0m\u001b[1;36m0\u001b[0m\u001b[1;33m]\u001b[0m\u001b[1;33m,\u001b[0m \u001b[1;34m\" p-val: \"\u001b[0m\u001b[1;33m,\u001b[0m \u001b[0mehighlow\u001b[0m\u001b[1;33m[\u001b[0m\u001b[1;36m1\u001b[0m\u001b[1;33m]\u001b[0m\u001b[1;33m)\u001b[0m\u001b[1;33m\u001b[0m\u001b[0m\n\u001b[0;32m      4\u001b[0m \u001b[0mmhighlow\u001b[0m \u001b[1;33m=\u001b[0m \u001b[0mscipy\u001b[0m\u001b[1;33m.\u001b[0m\u001b[0mstats\u001b[0m\u001b[1;33m.\u001b[0m\u001b[0mttest_ind\u001b[0m\u001b[1;33m(\u001b[0m\u001b[0mmhigh\u001b[0m\u001b[1;33m[\u001b[0m\u001b[1;34m'OPRatio'\u001b[0m\u001b[1;33m]\u001b[0m\u001b[1;33m,\u001b[0m \u001b[0mmlow\u001b[0m\u001b[1;33m[\u001b[0m\u001b[1;34m'OPRatio'\u001b[0m\u001b[1;33m]\u001b[0m\u001b[1;33m,\u001b[0m \u001b[0mequal_var\u001b[0m\u001b[1;33m=\u001b[0m\u001b[1;32mFalse\u001b[0m\u001b[1;33m)\u001b[0m\u001b[1;33m\u001b[0m\u001b[0m\n\u001b[0;32m      5\u001b[0m \u001b[0mprint\u001b[0m\u001b[1;33m(\u001b[0m\u001b[1;34m\"Low vs high MV: \"\u001b[0m\u001b[1;33m,\u001b[0m \u001b[1;34m\"T-Stat: \"\u001b[0m\u001b[1;33m,\u001b[0m \u001b[0mmhighlow\u001b[0m\u001b[1;33m[\u001b[0m\u001b[1;36m0\u001b[0m\u001b[1;33m]\u001b[0m\u001b[1;33m,\u001b[0m \u001b[1;34m\" p-val: \"\u001b[0m\u001b[1;33m,\u001b[0m \u001b[0mmhighlow\u001b[0m\u001b[1;33m[\u001b[0m\u001b[1;36m1\u001b[0m\u001b[1;33m]\u001b[0m\u001b[1;33m)\u001b[0m\u001b[1;33m\u001b[0m\u001b[0m\n",
      "\u001b[1;31mNameError\u001b[0m: name 'ehigh' is not defined"
     ]
    }
   ],
   "source": [
    "import scipy\n",
    "ehighlow = scipy.stats.ttest_ind(ehigh['OPRatio'], elow['OPRatio'], equal_var=False)\n",
    "print(\"Low vs high MeV: \", \"T-Stat: \", ehighlow[0], \" p-val: \", ehighlow[1])\n",
    "mhighlow = scipy.stats.ttest_ind(mhigh['OPRatio'], mlow['OPRatio'], equal_var=False)\n",
    "print(\"Low vs high MV: \", \"T-Stat: \", mhighlow[0], \" p-val: \", mhighlow[1])\n",
    "khighlow = scipy.stats.ttest_ind(khigh['OPRatio'], klow['OPRatio'], equal_var=False)\n",
    "print(\"Low vs high kV: \", \"T-Stat: \", khighlow[0], \" p-val: \", khighlow[1])\n",
    "\n",
    "em = scipy.stats.mannwhitneyu(e['OPRatio'], m['OPRatio']) # mannwitneyu test used to compare without assumtion of gaussian errors...\n",
    "print(\"MeV vs MV: \", \"T-Stat: \", em[0], \" p-val: \", em[1])\n"
   ]
  },
  {
   "cell_type": "code",
   "execution_count": 49,
   "metadata": {
    "collapsed": false
   },
   "outputs": [
    {
     "data": {
      "image/png": "[encoded data removed]",
      "text/plain": [
       "<matplotlib.figure.Figure at 0xa5bb3f0>"
      ]
     },
     "metadata": {},
     "output_type": "display_data"
    }
   ],
   "source": [
    "## OP ratio vs IntercompRatio has a trend.\n",
    "## i.e. intercomparison is good, but the absolute calibration is off?\n",
    "comp = e\n",
    "\n",
    "compare = comp.plot(kind='scatter', x='OPRatio',y='IntercompRatio', figsize=(6,6), ylim=(0.97,1.03), xlim=(0.97,1.03), title=\"MeV\")\n",
    "fig = compare.get_figure()\n",
    "#fig.savefig('NPL_Paper_Plots/NPL_MeV_OPvsIntercomp_NHS.png', bbox_inches='tight', dpi=300)\n"
   ]
  },
  {
   "cell_type": "code",
   "execution_count": 50,
   "metadata": {
    "collapsed": false
   },
   "outputs": [
    {
     "data": {
      "text/plain": [
       "array([[<matplotlib.axes._subplots.AxesSubplot object at 0x0A5C41D0>,\n",
       "        <matplotlib.axes._subplots.AxesSubplot object at 0x0B92A950>,\n",
       "        <matplotlib.axes._subplots.AxesSubplot object at 0x0B953E70>],\n",
       "       [<matplotlib.axes._subplots.AxesSubplot object at 0x0B97A530>,\n",
       "        <matplotlib.axes._subplots.AxesSubplot object at 0x0B9A5A50>,\n",
       "        <matplotlib.axes._subplots.AxesSubplot object at 0x0B9C5E50>],\n",
       "       [<matplotlib.axes._subplots.AxesSubplot object at 0x0B9F44B0>,\n",
       "        <matplotlib.axes._subplots.AxesSubplot object at 0x0A5A3890>,\n",
       "        <matplotlib.axes._subplots.AxesSubplot object at 0x07892CD0>]], dtype=object)"
      ]
     },
     "execution_count": 50,
     "metadata": {},
     "output_type": "execute_result"
    },
    {
     "data": {
      "image/png": "[encoded data removed]",
      "text/plain": [
       "<matplotlib.figure.Figure at 0xa5eb0f0>"
      ]
     },
     "metadata": {},
     "output_type": "display_data"
    }
   ],
   "source": [
    "from pandas.tools import plotting\n",
    "plotting.scatter_matrix(e[['OPRatio', 'BeamQualRatio', 'IntercompRatio']], figsize=(8,8))"
   ]
  },
  {
   "cell_type": "markdown",
   "metadata": {},
   "source": [
    "##Histogram of different energies"
   ]
  },
  {
   "cell_type": "code",
   "execution_count": 51,
   "metadata": {
    "collapsed": false
   },
   "outputs": [
    {
     "data": {
      "text/plain": [
       "array([[<matplotlib.axes._subplots.AxesSubplot object at 0x0A82C930>,\n",
       "        <matplotlib.axes._subplots.AxesSubplot object at 0x0A835CD0>,\n",
       "        <matplotlib.axes._subplots.AxesSubplot object at 0x0A0F9690>],\n",
       "       [<matplotlib.axes._subplots.AxesSubplot object at 0x0BD326D0>,\n",
       "        <matplotlib.axes._subplots.AxesSubplot object at 0x0BD5BB70>,\n",
       "        <matplotlib.axes._subplots.AxesSubplot object at 0x0BD7DFF0>],\n",
       "       [<matplotlib.axes._subplots.AxesSubplot object at 0x0BDAC5D0>,\n",
       "        <matplotlib.axes._subplots.AxesSubplot object at 0x0BDCF930>,\n",
       "        <matplotlib.axes._subplots.AxesSubplot object at 0x0BDF78D0>],\n",
       "       [<matplotlib.axes._subplots.AxesSubplot object at 0x0BE1B410>,\n",
       "        <matplotlib.axes._subplots.AxesSubplot object at 0x0BE48450>,\n",
       "        <matplotlib.axes._subplots.AxesSubplot object at 0x0BE71690>]], dtype=object)"
      ]
     },
     "execution_count": 51,
     "metadata": {},
     "output_type": "execute_result"
    },
    {
     "data": {
      "text/plain": [
       "<matplotlib.figure.Figure at 0xa873610>"
      ]
     },
     "metadata": {},
     "output_type": "display_data"
    },
    {
     "data": {
      "image/png": "[encoded data removed]",
      "text/plain": [
       "<matplotlib.figure.Figure at 0xa88aed0>"
      ]
     },
     "metadata": {},
     "output_type": "display_data"
    }
   ],
   "source": [
    "d = e\n",
    "plt.figure()\n",
    "d['OPRatio'].hist(by=d['Energy'],normed=False, bins=11, range=(0.965,1.035), rwidth=0.8)\n"
   ]
  },
  {
   "cell_type": "markdown",
   "metadata": {},
   "source": [
    "##Histogram of different regions"
   ]
  },
  {
   "cell_type": "code",
   "execution_count": 54,
   "metadata": {
    "collapsed": false
   },
   "outputs": [
    {
     "data": {
      "text/plain": [
       "array([[<matplotlib.axes._subplots.AxesSubplot object at 0x0C31DDB0>,\n",
       "        <matplotlib.axes._subplots.AxesSubplot object at 0x0C6097B0>,\n",
       "        <matplotlib.axes._subplots.AxesSubplot object at 0x0C633DF0>],\n",
       "       [<matplotlib.axes._subplots.AxesSubplot object at 0x0C658670>,\n",
       "        <matplotlib.axes._subplots.AxesSubplot object at 0x0C6E2B10>,\n",
       "        <matplotlib.axes._subplots.AxesSubplot object at 0x0C703F90>],\n",
       "       [<matplotlib.axes._subplots.AxesSubplot object at 0x0C732570>,\n",
       "        <matplotlib.axes._subplots.AxesSubplot object at 0x0C7538D0>,\n",
       "        <matplotlib.axes._subplots.AxesSubplot object at 0x0C77C870>]], dtype=object)"
      ]
     },
     "execution_count": 54,
     "metadata": {},
     "output_type": "execute_result"
    },
    {
     "data": {
      "text/plain": [
       "<matplotlib.figure.Figure at 0xc02b6f0>"
      ]
     },
     "metadata": {},
     "output_type": "display_data"
    },
    {
     "data": {
      "image/png": "[encoded data removed]",
      "text/plain": [
       "<matplotlib.figure.Figure at 0xc33a3b0>"
      ]
     },
     "metadata": {},
     "output_type": "display_data"
    }
   ],
   "source": [
    "d=k\n",
    "plt.figure()\n",
    "d['OPRatio'].hist(by=d['Group'],normed=False, bins=11, range=(0.965,1.035), rwidth=0.8)"
   ]
  },
  {
   "cell_type": "markdown",
   "metadata": {},
   "source": [
    "##Histogram for different CoPs"
   ]
  },
  {
   "cell_type": "code",
   "execution_count": 57,
   "metadata": {
    "collapsed": false
   },
   "outputs": [
    {
     "data": {
      "text/plain": [
       "array([<matplotlib.axes._subplots.AxesSubplot object at 0x0C5AAE70>,\n",
       "       <matplotlib.axes._subplots.AxesSubplot object at 0x0CA95AF0>], dtype=object)"
      ]
     },
     "execution_count": 57,
     "metadata": {},
     "output_type": "execute_result"
    },
    {
     "data": {
      "text/plain": [
       "<matplotlib.figure.Figure at 0xc5ce110>"
      ]
     },
     "metadata": {},
     "output_type": "display_data"
    },
    {
     "data": {
      "image/png": "[encoded data removed]",
      "text/plain": [
       "<matplotlib.figure.Figure at 0xc5d7470>"
      ]
     },
     "metadata": {},
     "output_type": "display_data"
    }
   ],
   "source": [
    "d=e\n",
    "plt.figure()\n",
    "d['OPRatio'].hist(by=d['CoP'],normed=False, bins=11, range=(0.965,1.035), rwidth=0.8)\n",
    "#d['OPRatio'].hist(by=d['CoP'])"
   ]
  },
  {
   "cell_type": "markdown",
   "metadata": {},
   "source": [
    "## test if the mean is 1.0 for OPRatios using 1 sided t-test"
   ]
  },
  {
   "cell_type": "code",
   "execution_count": 58,
   "metadata": {
    "collapsed": false
   },
   "outputs": [
    {
     "data": {
      "text/plain": [
       "Ttest_1sampResult(statistic=0.63195953899701851, pvalue=0.52917133831716212)"
      ]
     },
     "execution_count": 58,
     "metadata": {},
     "output_type": "execute_result"
    }
   ],
   "source": [
    "import scipy\n",
    "scipy.stats.ttest_1samp(m['OPRatio'], 1)"
   ]
  },
  {
   "cell_type": "code",
   "execution_count": 60,
   "metadata": {
    "collapsed": false
   },
   "outputs": [
    {
     "name": "stdout",
     "output_type": "stream",
     "text": [
      "kV\n"
     ]
    },
    {
     "data": {
      "image/png": "[encoded data removed]",
      "text/plain": [
       "<matplotlib.figure.Figure at 0x92e9870>"
      ]
     },
     "metadata": {},
     "output_type": "display_data"
    }
   ],
   "source": [
    "# extract only Groups and OPRatio to allow simple box plot production \n",
    "#mv = mv_data_datesort[['Group', 'OPRatio']]\n",
    "\n",
    "# make a numpy array to use rather than pandas?\n",
    "#g = np.array(mv_data_datesort['Group'])\n",
    "#op = np.array(mv_data_datesort['OPRatio'])\n",
    "\n",
    "#m = mv_data_datesort\n",
    "\n",
    "d = k\n",
    "\n",
    "#mv_data_datesort\n",
    "\n",
    "g1 = d.loc[d['Group']==1, ['OPRatio']]\n",
    "g2 = d.loc[d['Group']==2, ['OPRatio']]\n",
    "g3 = d.loc[d['Group']==3, ['OPRatio']]\n",
    "g4 = d.loc[d['Group']==4, ['OPRatio']]\n",
    "g5 = d.loc[d['Group']==5, ['OPRatio']]\n",
    "g6 = d.loc[d['Group']==6, ['OPRatio']]\n",
    "g7 = d.loc[d['Group']==7, ['OPRatio']]\n",
    "g8 = d.loc[d['Group']==8, ['OPRatio']]\n",
    "g9 = d.loc[d['Group']==9, ['OPRatio']]\n",
    "\n",
    "if len(g9) != 0:\n",
    "    grouped=[g1,g2,g3,g4,g5,g6,g7,g8,g9] # this should be able to be done a bit easier without splitting it all up first.\n",
    "    grouped_means = [g1.mean(), g2.mean(), g3.mean(), g4.mean(), g5.mean(), g6.mean(), g7.mean(), g8.mean(), g9.mean()]\n",
    "else:\n",
    "    grouped=[g1,g2,g3,g4,g5,g6,g7,g8] # NHS only\n",
    "    grouped_means = [g1.mean(), g2.mean(), g3.mean(), g4.mean(), g5.mean(), g6.mean(), g7.mean(), g8.mean()]\n",
    "\n",
    "fig = plt.figure(1, figsize=(9,6))\n",
    "\n",
    "ax = fig.add_subplot(111)\n",
    "\n",
    "bp = ax.boxplot(grouped, whis='range', patch_artist=True, showmeans=True)\n",
    "ticklist=[]\n",
    "for i in range(0,len(grouped)):\n",
    "    ticklist = np.append(ticklist,str(str(i+1) + '\\n(n=' + str(len(grouped[i])) + ')'))\n",
    "    \n",
    "#plt.xticks([1, 2, 3, 4, 5, 6, 7, 8, 9], ticklist) #custom ticklist\n",
    "plt.xticks(range(1,len(grouped)+1), ticklist) #custom ticklist which adapts size\n",
    "\n",
    "plt.axhline(1, linestyle='-', color='black', alpha=0.5) #add line at OPRatio=1\n",
    "plt.axhline(1.02, linestyle='--', color='black', alpha=0.5) #add line at OPRatio=1.02\n",
    "plt.axhline(0.98, linestyle='--', color='black', alpha=0.5) #add line at OPRatio=0.98\n",
    "\n",
    "typestr=d['Type'].values[0]\n",
    "print(typestr)\n",
    "\n",
    "if typestr == 'MV':\n",
    "    plt.title('MV Audit Results - Seperated by Audit Group')\n",
    "if typestr == 'MeV':\n",
    "    plt.title('MeV Audit Results - Seperated by Audit Group')\n",
    "if typestr == 'kV':\n",
    "    plt.title('kV Audit Results - Seperated by Audit Group')\n",
    "\n",
    "plt.xlabel(\"Audit 'Group'\")\n",
    "plt.ylabel(\"OP Ratio (NPL:Host)\")\n",
    "plt.ylim(0.97,1.03)\n",
    "\n",
    "for box in bp['boxes']:\n",
    "    box.set(facecolor='lightgrey')\n",
    "    \n",
    "for whisker in bp['whiskers']:\n",
    "    whisker.set(linestyle='-', color='black') \n",
    "    \n",
    "for median in bp['medians']:\n",
    "    median.set(color='black')\n",
    "    \n",
    "for mean in bp['means']:\n",
    "    mean.set(marker='o', color='black', markerfacecolor='black')\n",
    "    \n",
    "#plt.savefig('NPL_Paper_Plots/FinalData/NPL_kV_All_Groups_All.png', bbox_inches='tight', dpi=300)"
   ]
  },
  {
   "cell_type": "code",
   "execution_count": 61,
   "metadata": {
    "collapsed": false
   },
   "outputs": [
    {
     "data": {
      "image/png": "[encoded data removed]",
      "text/plain": [
       "<matplotlib.figure.Figure at 0xcac51f0>"
      ]
     },
     "metadata": {},
     "output_type": "display_data"
    }
   ],
   "source": [
    "# draw above plot but showign data points\n",
    "\n",
    "fig = plt.figure(1, figsize=(9,6))\n",
    "\n",
    "ax = fig.add_subplot(111)\n",
    "ax.set_xticks([1,2,3,4,5,6,7,8,9])\n",
    "ax.set_xticklabels(ticklist)\n",
    "\n",
    "#one = plt.plot([0,10],[1,1], '--', color='black', alpha=0.5) #add line for OPratio=1\n",
    "\n",
    "plt.axhline(1, linestyle='-', color='black', alpha=0.5) #add line at OPRatio=1\n",
    "plt.axhline(1.02, linestyle='--', color='black', alpha=0.5) #add line at OPRatio=1.02\n",
    "plt.axhline(0.98, linestyle='--', color='black', alpha=0.5) #add line at OPRatio=0.98\n",
    "\n",
    "for i in range(0, len(grouped)):\n",
    "    scat = plt.plot(np.linspace(i+1,i+1,len(grouped[i])), grouped[i], u'o', color='black', alpha=0.5, linewidth=2)\n",
    "\n",
    "# plot means for each group\n",
    "plt.scatter(range(1,len(grouped_means)+1), grouped_means, marker = '_', s=1000, color='black', alpha=0.5)\n",
    "\n",
    "plt.xlim(0.5,len(grouped)+0.5)\n",
    "plt.ylim(0.97,1.03)\n",
    "if typestr == 'MV':\n",
    "    plt.title('MV Audit Results - Seperated by Audit Group')\n",
    "if typestr == 'MeV':\n",
    "    plt.title('MeV Audit Results - Seperated by Audit Group')\n",
    "if typestr == 'kV':\n",
    "    plt.title('kV Audit Results - Seperated by Audit Group')\n",
    "plt.xlabel(\"Audit 'Group'\")\n",
    "plt.ylabel(\"OP Ratio (NPL:Host)\")\n",
    "\n",
    "\n",
    "##### can add box plot over the top by uncommenting the below line\n",
    "\n",
    "#bp = ax.boxplot(grouped, whis='range', patch_artist=True, showmeans=True)\n",
    "\n",
    "for box in bp['boxes']:\n",
    "    box.set(facecolor='Green', alpha=0.2)\n",
    "    \n",
    "for whisker in bp['whiskers']:\n",
    "    whisker.set(linestyle='-', color='black') \n",
    "    \n",
    "for median in bp['medians']:\n",
    "    median.set(linestyle='-',color='red')\n",
    "    \n",
    "for mean in bp['means']:\n",
    "    mean.set(marker='o', color='black', markerfacecolor='black')\n",
    "    \n",
    "#plt.savefig('NPL_Paper_Plots/FinalData/NPL_MeV_All-SeperatePts+mean - All Data.png', bbox_inches='tight', dpi=300)"
   ]
  },
  {
   "cell_type": "markdown",
   "metadata": {},
   "source": [
    "###Want to plot all beam types on same graph...\n",
    "Could set the gorups to 1.1, 1.2, 1.3 etc\n",
    "or could plot each on a different x axis which ios slightly offset?\n",
    "\n",
    "Need to have all data in seperate groups g1e, g1m, g1k etc..."
   ]
  },
  {
   "cell_type": "code",
   "execution_count": 62,
   "metadata": {
    "collapsed": false
   },
   "outputs": [
    {
     "data": {
      "text/plain": [
       "<matplotlib.text.Text at 0xcb1d290>"
      ]
     },
     "execution_count": 62,
     "metadata": {},
     "output_type": "execute_result"
    },
    {
     "data": {
      "image/png": "[encoded data removed]",
      "text/plain": [
       "<matplotlib.figure.Figure at 0x7e999d0>"
      ]
     },
     "metadata": {},
     "output_type": "display_data"
    }
   ],
   "source": [
    "#d = all_data\n",
    "#d = nhs_data\n",
    "d = paper_data\n",
    "\n",
    "# get OP data for all beam types for eahc group\n",
    "\n",
    "g1m = d.loc[(d['Group']==1) & (d['Type'] =='MV'), ['OPRatio']] # '&' must be used as 'and' throws an error.\n",
    "g2m = d.loc[(d['Group']==2) & (d['Type'] =='MV'), ['OPRatio']]\n",
    "g3m = d.loc[(d['Group']==3) & (d['Type'] =='MV'), ['OPRatio']]\n",
    "g4m = d.loc[(d['Group']==4) & (d['Type'] =='MV'), ['OPRatio']]\n",
    "g5m = d.loc[(d['Group']==5) & (d['Type'] =='MV'), ['OPRatio']]\n",
    "g6m = d.loc[(d['Group']==6) & (d['Type'] =='MV'), ['OPRatio']]\n",
    "g7m = d.loc[(d['Group']==7) & (d['Type'] =='MV'), ['OPRatio']]\n",
    "g8m = d.loc[(d['Group']==8) & (d['Type'] =='MV'), ['OPRatio']]\n",
    "g9m = d.loc[(d['Group']==9) & (d['Type'] =='MV'), ['OPRatio']]\n",
    "\n",
    "g1e = d.loc[(d['Group']==1) & (d['Type'] =='MeV'), ['OPRatio']]\n",
    "g2e = d.loc[(d['Group']==2) & (d['Type'] =='MeV'), ['OPRatio']]\n",
    "g3e = d.loc[(d['Group']==3) & (d['Type'] =='MeV'), ['OPRatio']]\n",
    "g4e = d.loc[(d['Group']==4) & (d['Type'] =='MeV'), ['OPRatio']]\n",
    "g5e = d.loc[(d['Group']==5) & (d['Type'] =='MeV'), ['OPRatio']]\n",
    "g6e = d.loc[(d['Group']==6) & (d['Type'] =='MeV'), ['OPRatio']]\n",
    "g7e = d.loc[(d['Group']==7) & (d['Type'] =='MeV'), ['OPRatio']]\n",
    "g8e = d.loc[(d['Group']==8) & (d['Type'] =='MeV'), ['OPRatio']]\n",
    "g9e = d.loc[(d['Group']==9) & (d['Type'] =='MeV'), ['OPRatio']]\n",
    "\n",
    "g1k = d.loc[(d['Group']==1) & (d['Type'] =='kV'), ['OPRatio']]\n",
    "g2k = d.loc[(d['Group']==2) & (d['Type'] =='kV'), ['OPRatio']]\n",
    "g3k = d.loc[(d['Group']==3) & (d['Type'] =='kV'), ['OPRatio']]\n",
    "g4k = d.loc[(d['Group']==4) & (d['Type'] =='kV'), ['OPRatio']]\n",
    "g5k = d.loc[(d['Group']==5) & (d['Type'] =='kV'), ['OPRatio']]\n",
    "g6k = d.loc[(d['Group']==6) & (d['Type'] =='kV'), ['OPRatio']]\n",
    "g7k = d.loc[(d['Group']==7) & (d['Type'] =='kV'), ['OPRatio']]\n",
    "g8k = d.loc[(d['Group']==8) & (d['Type'] =='kV'), ['OPRatio']]\n",
    "g9k = d.loc[(d['Group']==9) & (d['Type'] =='kV'), ['OPRatio']]\n",
    "\n",
    "\n",
    "#calculate means and group the data together ready for plotting\n",
    "if len(g9) != 0:\n",
    "    grouped_m=[g1m,g2m,g3m,g4m,g5m,g6m,g7m,g8m,g9m] # this should be able to be done a bit easier without splitting it all up first.\n",
    "    grouped_e=[g1e,g2e,g3e,g4e,g5e,g6e,g7e,g8e,g9e]\n",
    "    grouped_k=[g1k,g2k,g3k,g4k,g5k,g6k,g7k,g8k,g9k]\n",
    "    grouped_m_means = [g1m.mean(), g2m.mean(), g3m.mean(), g4m.mean(), g5m.mean(), g6m.mean(), g7m.mean(), g8m.mean(), g9m.mean()]\n",
    "    grouped_e_means = [g1e.mean(), g2e.mean(), g3e.mean(), g4e.mean(), g5e.mean(), g6e.mean(), g7e.mean(), g8e.mean(), g9e.mean()]\n",
    "    grouped_k_means = [g1k.mean(), g2k.mean(), g3k.mean(), g4k.mean(), g5k.mean(), g6k.mean(), g7k.mean(), g8k.mean(), g9k.mean()]\n",
    "else:\n",
    "    grouped_m=[g1m,g2m,g3m,g4m,g5m,g6m,g7m,g8m] # NHS only\n",
    "    grouped_e=[g1e,g2e,g3e,g4e,g5e,g6e,g7e,g8e]\n",
    "    grouped_k=[g1k,g2k,g3k,g4k,g5k,g6k,g7k,g8k]\n",
    "    grouped_m_means = [g1m.mean(), g2m.mean(), g3m.mean(), g4m.mean(), g5m.mean(), g6m.mean(), g7m.mean(), g8m.mean()]\n",
    "    grouped_e_means = [g1e.mean(), g2e.mean(), g3e.mean(), g4e.mean(), g5e.mean(), g6e.mean(), g7e.mean(), g8e.mean()]\n",
    "    grouped_k_means = [g1k.mean(), g2k.mean(), g3k.mean(), g4k.mean(), g5k.mean(), g6k.mean(), g7k.mean(), g8k.mean()]\n",
    "    \n",
    "#print(grouped_e_means)\n",
    "\n",
    "fig = plt.figure(1, figsize=(9,6))\n",
    "\n",
    "ax = fig.add_subplot(111)\n",
    "ax.set_xticks([1,2,3,4,5,6,7,8,9])\n",
    "#ax.set_xticklabels(ticklist)\n",
    "\n",
    "#one = plt.plot([0,10],[1,1], '--', color='black', alpha=0.5) #add line for OPratio=1\n",
    "\n",
    "plt.axhline(1, linestyle='-', color='black', alpha=0.5) #add line at OPRatio=1\n",
    "plt.axhline(1.02, linestyle='--', color='black', alpha=0.5) #add line at OPRatio=1.02\n",
    "plt.axhline(0.98, linestyle='--', color='black', alpha=0.5) #add line at OPRatio=0.98\n",
    "\n",
    "for i in range(0, len(grouped_m)):\n",
    "    scatMV = plt.plot(np.linspace(i+1,i+1,len(grouped_m[i]))-0.2, grouped_m[i], u'o', color='blue', alpha=0.5, linewidth=2, label='MV' if i == 0 else \"\")\n",
    "    \n",
    "for i in range(0, len(grouped_e)):\n",
    "    scatMeV = plt.plot(np.linspace(i+1,i+1,len(grouped_e[i])), grouped_e[i], u'^', color='green', alpha=0.5, linewidth=2, label='MeV' if i == 0 else \"\")\n",
    "\n",
    "for i in range(0, len(grouped_k)):\n",
    "    scatkV = plt.plot(np.linspace(i+1,i+1,len(grouped_k[i]))+0.2, grouped_k[i], u's', color='red', alpha=0.5, linewidth=2, label='kV' if i == 0 else \"\")\n",
    "\n",
    "# plot means for each group\n",
    "plt.scatter(range(1,len(grouped_m_means)+1), grouped_m_means, marker = '*', s=500, facecolor='blue', alpha=1)\n",
    "plt.scatter(range(1,len(grouped_e_means)+1), grouped_e_means, marker = '*', s=500, facecolor='green', alpha=1)\n",
    "plt.scatter(range(1,len(grouped_k_means)+1), grouped_k_means, marker = '*', s=500, facecolor='red', alpha=1)\n",
    "plt.legend(loc='upper center', numpoints=1, ncol=3)\n",
    "\n",
    "plt.xlim(0.5,len(grouped)+0.5)\n",
    "plt.ylim(0.97,1.03)\n",
    "plt.title('Audit Results - Seperated by Audit Group and Beam Type')\n",
    "plt.xlabel(\"Audit 'Group'\")\n",
    "plt.ylabel(\"OP Ratio (NPL:Host)\")\n",
    "\n",
    "#plt.savefig('NPL_Paper_Plots/FinalData/NPL_All-SeperatePts+mean - All Data.png', bbox_inches='tight', dpi=300)"
   ]
  },
  {
   "cell_type": "code",
   "execution_count": 63,
   "metadata": {
    "collapsed": false
   },
   "outputs": [
    {
     "data": {
      "text/plain": [
       "array([  1.   ,   2.125,   3.25 ,   4.375,   5.5  ,   6.625,   7.75 ,\n",
       "         8.875,  10.   ])"
      ]
     },
     "execution_count": 63,
     "metadata": {},
     "output_type": "execute_result"
    }
   ],
   "source": [
    "range(1,len(grouped_m_means)+1)\n",
    "np.linspace(1,10,len(grouped_m_means)+1)\n",
    "#grouped_m_means"
   ]
  },
  {
   "cell_type": "markdown",
   "metadata": {},
   "source": [
    "Need to add n=?? for each group. Or this can just be in the text..."
   ]
  },
  {
   "cell_type": "code",
   "execution_count": 70,
   "metadata": {
    "collapsed": false
   },
   "outputs": [
    {
     "data": {
      "image/png": "[encoded data removed]",
      "text/plain": [
       "<matplotlib.figure.Figure at 0xe717cb0>"
      ]
     },
     "metadata": {},
     "output_type": "display_data"
    }
   ],
   "source": [
    "#for d['Group']==1\n",
    "# potentially a much easier way of creating the above graph...\n",
    "# just need to separate the different beam types\n",
    "\n",
    "fig = plt.figure(1, figsize=(9,6))\n",
    "\n",
    "ax = fig.add_subplot(111)\n",
    "ax.set_xticks([1,2,3,4,5,6,7,8,9])\n",
    "\n",
    "#set tick labels\n",
    "no_counts=d['Group'].value_counts(sort=False)\n",
    "ticklist = []\n",
    "for i in range(1,len(no_counts)+1):\n",
    "    ticklist.append(str(i) + '\\n (n=' + str(no_counts[i]) + ')')\n",
    "    \n",
    "ax.set_xticklabels(ticklist)\n",
    "\n",
    "# get means\n",
    "m_meancalc=m.groupby(['Group'])['OPRatio'].mean()\n",
    "e_meancalc=e.groupby(['Group'])['OPRatio'].mean()\n",
    "k_meancalc=k.groupby(['Group'])['OPRatio'].mean()\n",
    "\n",
    "m_means=[]\n",
    "e_means=[]\n",
    "k_means=[]\n",
    "\n",
    "for i in range(1,max(m['Group'])+1):\n",
    "    m_means.append(m_meancalc[i])\n",
    "    \n",
    "for i in range(1,max(e['Group'])+1): # group 4 has no values so need to skip this and set to None\n",
    "    if i!=4:\n",
    "        e_means.append(e_meancalc[i])\n",
    "    else:\n",
    "        e_means.append(None)\n",
    "        \n",
    "## change to +1 for 8 regions, +2 for 9 regions\n",
    "for i in range(1,max(k['Group'])+1): # group 9 has no k values so need to manually add this at the end\n",
    "    if i!=9:\n",
    "        k_means.append(k_meancalc[i])\n",
    "    else:\n",
    "        k_means.append(None)\n",
    "    \n",
    "#for i in range(1,max(k['Group'])+1):\n",
    "#    k_means.append(k_meancalc[i])\n",
    "\n",
    "plt.axhline(1, linestyle='-', color='black', alpha=0.5) #add line at OPRatio=1\n",
    "plt.axhline(1.02, linestyle='--', color='black', alpha=0.5) #add line at OPRatio=1.02\n",
    "plt.axhline(0.98, linestyle='--', color='black', alpha=0.5) #add line at OPRatio=0.98\n",
    "\n",
    "ss=50\n",
    "aa=0.4\n",
    "ll=1\n",
    "\n",
    "space = 0.3\n",
    "\n",
    "plt.scatter(m['Group']-space,m['OPRatio'], alpha=aa, marker = 'o', facecolor='grey', label='MV', s=ss, edgecolor='black',linewidth=ll)\n",
    "plt.scatter(e['Group'],e['OPRatio'], alpha=aa, marker = '^', facecolor='grey', label='MeV', s=ss, edgecolor='black', linewidth=ll)\n",
    "plt.scatter(k['Group']+space,k['OPRatio'], alpha=aa, marker = 's', facecolor='grey', label='kV', s=ss, edgecolor='black', linewidth=ll)\n",
    "\n",
    "## need a way to shift the means by +/- 0.3 - done through 'space' parameter to apply to each value\n",
    "size_mult = 3\n",
    "aa2 = 0.8\n",
    "ll2 = 1.5\n",
    "plt.scatter(np.linspace(1,8,len(grouped_m_means))-space, m_means, marker = '_', s=size_mult*ss, facecolor='grey', alpha=aa2,edgecolor='black',linewidth=ll2)\n",
    "plt.scatter(np.linspace(1,8,len(grouped_e_means)), e_means, marker = '_', s=size_mult*ss, facecolor='grey', alpha=aa2,edgecolor='black',linewidth=ll2)\n",
    "plt.scatter(np.linspace(1,8,len(grouped_k_means))+space, k_means, marker = '_', s=size_mult*ss, facecolor='grey', alpha=aa2,edgecolor='black',linewidth=ll2)\n",
    "\n",
    "plt.xlim(0.5,len(grouped)+0.5)\n",
    "plt.ylim(0.97,1.03)\n",
    "plt.title('Audit Results - Separated by Audit Group and Beam Type')\n",
    "plt.xlabel(\"Audit 'Group'\")\n",
    "plt.ylabel(\"Output Ratio (NPL:Host)\")\n",
    "## add vertical lines to separate regions\n",
    "for i in np.arange(1.5,9.5,1):\n",
    "    plt.axvline(i, ls=':', color='black', alpha = 0.5)\n",
    "\n",
    "l = plt.legend(loc='upper right', scatterpoints=1, ncol=3)\n",
    "frame = l.get_frame()\n",
    "frame.set_facecolor('white')\n",
    "\n",
    "#plt.savefig('NPL_Paper_Plots/FinalData/NPL_All-SeperatePts+mean1-grey-means - Paper-LineMean.png', bbox_inches='tight', dpi=300)\n",
    "  \n",
    "# means were trickier as there are none in group 4 so need to set as a mean of zero in a loop somehow...\n",
    "# but code is still simpler and shorter"
   ]
  },
  {
   "cell_type": "code",
   "execution_count": 71,
   "metadata": {
    "collapsed": false
   },
   "outputs": [
    {
     "data": {
      "text/plain": [
       "8"
      ]
     },
     "execution_count": 71,
     "metadata": {},
     "output_type": "execute_result"
    }
   ],
   "source": [
    "len(grouped_k_means)"
   ]
  },
  {
   "cell_type": "code",
   "execution_count": 73,
   "metadata": {
    "collapsed": false
   },
   "outputs": [
    {
     "name": "stdout",
     "output_type": "stream",
     "text": [
      "['1\\n(n=5)' '1\\n(n=4)' '1\\n(n=8)' '1\\n(n=5)' '1\\n(n=3)' '1\\n(n=2)'\n",
      " '1\\n(n=5)' '1\\n(n=2)']\n"
     ]
    }
   ],
   "source": [
    "# Construct the label names for the x-axis including n=1\n",
    "# this is used above in constructing the graphs\n",
    "\n",
    "ticklist=[]\n",
    "for i in range(0,len(grouped)):\n",
    "    ticklist = np.append(ticklist,str('1\\n(n=' + str(len(grouped[i])) + ')'))\n",
    "    \n",
    "print(ticklist)"
   ]
  },
  {
   "cell_type": "code",
   "execution_count": 85,
   "metadata": {
    "collapsed": false
   },
   "outputs": [
    {
     "ename": "KeyError",
     "evalue": "4",
     "output_type": "error",
     "traceback": [
      "\u001b[1;31m---------------------------------------------------------------------------\u001b[0m",
      "\u001b[1;31mKeyError\u001b[0m                                  Traceback (most recent call last)",
      "\u001b[1;32m<ipython-input-85-8435d494fe94>\u001b[0m in \u001b[0;36m<module>\u001b[1;34m()\u001b[0m\n\u001b[0;32m      6\u001b[0m \u001b[1;33m\u001b[0m\u001b[0m\n\u001b[0;32m      7\u001b[0m \u001b[1;32mfor\u001b[0m \u001b[0mi\u001b[0m \u001b[1;32min\u001b[0m \u001b[0mrange\u001b[0m\u001b[1;33m(\u001b[0m\u001b[1;36m1\u001b[0m\u001b[1;33m,\u001b[0m\u001b[0mlen\u001b[0m\u001b[1;33m(\u001b[0m\u001b[0mno_counts\u001b[0m\u001b[1;33m)\u001b[0m\u001b[1;33m+\u001b[0m\u001b[1;36m1\u001b[0m\u001b[1;33m)\u001b[0m\u001b[1;33m:\u001b[0m\u001b[1;33m\u001b[0m\u001b[0m\n\u001b[1;32m----> 8\u001b[1;33m     \u001b[0mticklist\u001b[0m\u001b[1;33m.\u001b[0m\u001b[0mappend\u001b[0m\u001b[1;33m(\u001b[0m\u001b[0mstr\u001b[0m\u001b[1;33m(\u001b[0m\u001b[0mi\u001b[0m\u001b[1;33m)\u001b[0m \u001b[1;33m+\u001b[0m \u001b[1;34m'\\n (n='\u001b[0m \u001b[1;33m+\u001b[0m \u001b[0mstr\u001b[0m\u001b[1;33m(\u001b[0m\u001b[0mno_counts\u001b[0m\u001b[1;33m[\u001b[0m\u001b[0mi\u001b[0m\u001b[1;33m]\u001b[0m\u001b[1;33m)\u001b[0m \u001b[1;33m+\u001b[0m \u001b[1;34m')'\u001b[0m\u001b[1;33m)\u001b[0m\u001b[1;33m\u001b[0m\u001b[0m\n\u001b[0m\u001b[0;32m      9\u001b[0m \u001b[1;33m\u001b[0m\u001b[0m\n\u001b[0;32m     10\u001b[0m \u001b[0mprint\u001b[0m\u001b[1;33m(\u001b[0m\u001b[0mticklist\u001b[0m\u001b[1;33m)\u001b[0m\u001b[1;33m\u001b[0m\u001b[0m\n",
      "\u001b[1;32mC:\\Anaconda3\\lib\\site-packages\\pandas\\core\\series.py\u001b[0m in \u001b[0;36m__getitem__\u001b[1;34m(self, key)\u001b[0m\n\u001b[0;32m    507\u001b[0m     \u001b[1;32mdef\u001b[0m \u001b[0m__getitem__\u001b[0m\u001b[1;33m(\u001b[0m\u001b[0mself\u001b[0m\u001b[1;33m,\u001b[0m \u001b[0mkey\u001b[0m\u001b[1;33m)\u001b[0m\u001b[1;33m:\u001b[0m\u001b[1;33m\u001b[0m\u001b[0m\n\u001b[0;32m    508\u001b[0m         \u001b[1;32mtry\u001b[0m\u001b[1;33m:\u001b[0m\u001b[1;33m\u001b[0m\u001b[0m\n\u001b[1;32m--> 509\u001b[1;33m             \u001b[0mresult\u001b[0m \u001b[1;33m=\u001b[0m \u001b[0mself\u001b[0m\u001b[1;33m.\u001b[0m\u001b[0mindex\u001b[0m\u001b[1;33m.\u001b[0m\u001b[0mget_value\u001b[0m\u001b[1;33m(\u001b[0m\u001b[0mself\u001b[0m\u001b[1;33m,\u001b[0m \u001b[0mkey\u001b[0m\u001b[1;33m)\u001b[0m\u001b[1;33m\u001b[0m\u001b[0m\n\u001b[0m\u001b[0;32m    510\u001b[0m \u001b[1;33m\u001b[0m\u001b[0m\n\u001b[0;32m    511\u001b[0m             \u001b[1;32mif\u001b[0m \u001b[1;32mnot\u001b[0m \u001b[0mnp\u001b[0m\u001b[1;33m.\u001b[0m\u001b[0misscalar\u001b[0m\u001b[1;33m(\u001b[0m\u001b[0mresult\u001b[0m\u001b[1;33m)\u001b[0m\u001b[1;33m:\u001b[0m\u001b[1;33m\u001b[0m\u001b[0m\n",
      "\u001b[1;32mC:\\Anaconda3\\lib\\site-packages\\pandas\\core\\index.py\u001b[0m in \u001b[0;36mget_value\u001b[1;34m(self, series, key)\u001b[0m\n\u001b[0;32m   1415\u001b[0m \u001b[1;33m\u001b[0m\u001b[0m\n\u001b[0;32m   1416\u001b[0m         \u001b[1;32mtry\u001b[0m\u001b[1;33m:\u001b[0m\u001b[1;33m\u001b[0m\u001b[0m\n\u001b[1;32m-> 1417\u001b[1;33m             \u001b[1;32mreturn\u001b[0m \u001b[0mself\u001b[0m\u001b[1;33m.\u001b[0m\u001b[0m_engine\u001b[0m\u001b[1;33m.\u001b[0m\u001b[0mget_value\u001b[0m\u001b[1;33m(\u001b[0m\u001b[0ms\u001b[0m\u001b[1;33m,\u001b[0m \u001b[0mk\u001b[0m\u001b[1;33m)\u001b[0m\u001b[1;33m\u001b[0m\u001b[0m\n\u001b[0m\u001b[0;32m   1418\u001b[0m         \u001b[1;32mexcept\u001b[0m \u001b[0mKeyError\u001b[0m \u001b[1;32mas\u001b[0m \u001b[0me1\u001b[0m\u001b[1;33m:\u001b[0m\u001b[1;33m\u001b[0m\u001b[0m\n\u001b[0;32m   1419\u001b[0m             \u001b[1;32mif\u001b[0m \u001b[0mlen\u001b[0m\u001b[1;33m(\u001b[0m\u001b[0mself\u001b[0m\u001b[1;33m)\u001b[0m \u001b[1;33m>\u001b[0m \u001b[1;36m0\u001b[0m \u001b[1;32mand\u001b[0m \u001b[0mself\u001b[0m\u001b[1;33m.\u001b[0m\u001b[0minferred_type\u001b[0m \u001b[1;32min\u001b[0m \u001b[1;33m[\u001b[0m\u001b[1;34m'integer'\u001b[0m\u001b[1;33m,\u001b[0m\u001b[1;34m'boolean'\u001b[0m\u001b[1;33m]\u001b[0m\u001b[1;33m:\u001b[0m\u001b[1;33m\u001b[0m\u001b[0m\n",
      "\u001b[1;32mpandas\\index.pyx\u001b[0m in \u001b[0;36mpandas.index.IndexEngine.get_value (pandas\\index.c:3109)\u001b[1;34m()\u001b[0m\n",
      "\u001b[1;32mpandas\\index.pyx\u001b[0m in \u001b[0;36mpandas.index.IndexEngine.get_value (pandas\\index.c:2840)\u001b[1;34m()\u001b[0m\n",
      "\u001b[1;32mpandas\\index.pyx\u001b[0m in \u001b[0;36mpandas.index.IndexEngine.get_loc (pandas\\index.c:3700)\u001b[1;34m()\u001b[0m\n",
      "\u001b[1;32mpandas\\hashtable.pyx\u001b[0m in \u001b[0;36mpandas.hashtable.Int64HashTable.get_item (pandas\\hashtable.c:7229)\u001b[1;34m()\u001b[0m\n",
      "\u001b[1;32mpandas\\hashtable.pyx\u001b[0m in \u001b[0;36mpandas.hashtable.Int64HashTable.get_item (pandas\\hashtable.c:7167)\u001b[1;34m()\u001b[0m\n",
      "\u001b[1;31mKeyError\u001b[0m: 4"
     ]
    }
   ],
   "source": [
    "# total number of entries for each group\n",
    "\n",
    "no_counts=d['Group'].value_counts(sort=False)\n",
    "\n",
    "ticklist = []\n",
    "\n",
    "for i in range(1,len(no_counts)+1):\n",
    "    ticklist.append(str(i) + '\\n (n=' + str(no_counts[i]) + ')')\n",
    "    \n",
    "print(ticklist)"
   ]
  },
  {
   "cell_type": "code",
   "execution_count": 74,
   "metadata": {
    "collapsed": false
   },
   "outputs": [
    {
     "name": "stdout",
     "output_type": "stream",
     "text": [
      "[0.99772387318563749, 1.0047730488553432, 0.99913089284643508, 1.0052484902791354, 0.99901111111111107, 1.0020999999999998, 1.0004565919982167, 1.01]\n",
      "[1.0031666666666668, 1.0040909090909091, 0.99883333333333335, None, 1.0023200000000001, 1.0070400000000002, 1.0057272727272726, 1.004230769230769]\n",
      "[1.0024000000000002, 1.0024999999999999, 0.99887499999999996, 1.0127856858846918, 1.0016666666666667, 1.0035000000000001, 1.0058, 1.0034999999999998]\n"
     ]
    }
   ],
   "source": [
    "#get means for each group\n",
    "\n",
    "m_meancalc=m.groupby(['Group'])['OPRatio'].mean()\n",
    "e_meancalc=e.groupby(['Group'])['OPRatio'].mean()\n",
    "k_meancalc=k.groupby(['Group'])['OPRatio'].mean()\n",
    "\n",
    "m_means=[]\n",
    "e_means=[]\n",
    "k_means=[]\n",
    "\n",
    "for i in range(1,len(m_meancalc)+1):\n",
    "    m_means.append(m_meancalc[i])\n",
    "    \n",
    "for i in range(1,len(e_meancalc)+2):\n",
    "    if i==4:\n",
    "        e_means.append(None)\n",
    "    else:\n",
    "        e_means.append(e_meancalc[i])\n",
    "    \n",
    "for i in range(1,len(k_meancalc)+1):\n",
    "    k_means.append(k_meancalc[i])\n",
    "\n",
    "print(m_means)\n",
    "print(e_means)\n",
    "print(k_means)\n",
    "\n",
    "#for i in range(1,len(xyz)+1):\n",
    "#    e_means.append(xyz[i])\n",
    "#print(e_means)"
   ]
  },
  {
   "cell_type": "markdown",
   "metadata": {},
   "source": [
    "##Split MeV data by energy"
   ]
  },
  {
   "cell_type": "code",
   "execution_count": 41,
   "metadata": {
    "collapsed": false
   },
   "outputs": [
    {
     "data": {
      "image/png": "[encoded data removed]",
      "text/plain": [
       "<matplotlib.figure.Figure at 0xcec8950>"
      ]
     },
     "metadata": {},
     "output_type": "display_data"
    }
   ],
   "source": [
    "d = e\n",
    "\n",
    "d_NHS = d.loc[d['CentreType']=='NHS'] # remove Private centres\n",
    "\n",
    "d = d_NHS\n",
    "\n",
    "e1 = d.loc[d['Energy']==4, ['OPRatio']]\n",
    "e2 = d.loc[d['Energy']==6, ['OPRatio']]\n",
    "e3 = d.loc[d['Energy']==8, ['OPRatio']]\n",
    "e4 = d.loc[d['Energy']==9, ['OPRatio']]\n",
    "e5 = d.loc[d['Energy']==10, ['OPRatio']]\n",
    "e6 = d.loc[d['Energy']==12, ['OPRatio']]\n",
    "e7 = d.loc[d['Energy']==15, ['OPRatio']]\n",
    "e8 = d.loc[d['Energy']==16, ['OPRatio']]\n",
    "e9 = d.loc[d['Energy']==18, ['OPRatio']]\n",
    "e10 = d.loc[d['Energy']==20, ['OPRatio']]\n",
    "e11 = d.loc[d['Energy']==22, ['OPRatio']]\n",
    "\n",
    "grouped=[e1,e2,e3,e4,e5,e6,e7,e8,e9,e10,e11] # this should be able to be done a bit easier without splitting it all up first.\n",
    "\n",
    "fig = plt.figure(1, figsize=(9,6))\n",
    "\n",
    "ax = fig.add_subplot(111)\n",
    "#labels = list('ABCDEFGHIJK')\n",
    "labels = ['4','6','8','9','10','12','15','16','18','20','22']\n",
    "\n",
    "\n",
    "bp = ax.boxplot(grouped, whis='range', patch_artist=True, showmeans=True, labels=labels)\n",
    "plt.plot([-1,20],[1,1], linestyle='--', color='black', alpha=0.5) #add line at OPRatio=1\n",
    "plt.title('MeV Audit Results - Seperated by Energy')\n",
    "plt.xlabel(\"Energy (MeV)\")\n",
    "plt.ylabel(\"OP Ratio (NPL:Host)\")\n",
    "plt.ylim(0.97,1.03)\n",
    "\n",
    "#ax.set_xticks([1,2,3,4,5,6,7,8,9,10,11], ['4','6','8','9','10','12','15','16','18','20','22'])\n",
    "\n",
    "for box in bp['boxes']:\n",
    "    box.set(facecolor='lightgrey')\n",
    "    \n",
    "for whisker in bp['whiskers']:\n",
    "    whisker.set(linestyle='-', color='black') \n",
    "    \n",
    "for median in bp['medians']:\n",
    "    median.set(color='black')\n",
    "    \n",
    "for mean in bp['means']:\n",
    "    mean.set(marker='o', color='black', markerfacecolor='black')\n",
    "    \n",
    "#plt.savefig('NPL_Paper_Plots/FinalData/NPL_MeV_NHS-EnergySplot.png', bbox_inches='tight', dpi=300)\n"
   ]
  },
  {
   "cell_type": "code",
   "execution_count": 78,
   "metadata": {
    "collapsed": false
   },
   "outputs": [
    {
     "name": "stdout",
     "output_type": "stream",
     "text": [
      "(array([ 0.61584662]), array([ 0.79651655]))\n"
     ]
    },
    {
     "data": {
      "text/plain": [
       "[<matplotlib.lines.Line2D at 0xcb71590>]"
      ]
     },
     "execution_count": 78,
     "metadata": {},
     "output_type": "execute_result"
    },
    {
     "data": {
      "image/png": "[encoded data removed]",
      "text/plain": [
       "<matplotlib.figure.Figure at 0xcb4c370>"
      ]
     },
     "metadata": {},
     "output_type": "display_data"
    }
   ],
   "source": [
    "\n",
    "e1sd = e1.std()\n",
    "e2sd = e2.std()\n",
    "e3sd = e3.std()\n",
    "e4sd = e4.std()\n",
    "e5sd = e5.std()\n",
    "e6sd = e6.std()\n",
    "e7sd = e7.std()\n",
    "e8sd = e8.std()\n",
    "e9sd = e9.std()\n",
    "e10sd = e10.std()\n",
    "#e11sd = e11.std()\n",
    "\n",
    "all_sd =[e1sd,e2sd,e3sd,e4sd,e5sd,e6sd,e7sd,e8sd,e9sd,e10sd]\n",
    "\n",
    "result2 = stats.f_oneway(e1,e2,e3,e4,e5,e6,e7,e8,e9,e10,e11)\n",
    "\n",
    "print(result2)\n",
    "\n",
    "plt.plot(all_sd)\n"
   ]
  },
  {
   "cell_type": "code",
   "execution_count": 205,
   "metadata": {
    "collapsed": false
   },
   "outputs": [
    {
     "data": {
      "image/png": "[encoded data removed]",
      "text/plain": [
       "<matplotlib.figure.Figure at 0x16c1dcf0>"
      ]
     },
     "metadata": {},
     "output_type": "display_data"
    }
   ],
   "source": [
    "df2 = all_data.copy()\n",
    "#d = df2[df2['Type'].isin(['MeV']) & df2['CentreType'].isin(['NHS'])]\n",
    "d1996 = df2[df2['Type'].isin(['MeV']) & df2['CentreType'].isin(['NHS']) & (df2['CoP']==1996)]\n",
    "d2003 = df2[df2['Type'].isin(['MeV']) & df2['CentreType'].isin(['NHS']) & (df2['CoP']==2003)]\n",
    "\n",
    "fig = plt.figure(1, figsize=(6,6))\n",
    "plt.axhline(1, color='black', alpha=0.8, ls='--')\n",
    "plt.scatter(d1996['Energy'],d1996['OPRatio'], alpha = 0.8, s=60, c='black', marker='x', label = '1996 CoP')\n",
    "plt.scatter(d2003['Energy'],d2003['OPRatio'], alpha = 0.4, s=30, c='black', marker='o', label = '2003 CoP')\n",
    "plt.title('MeV Audit Results')\n",
    "#plt.xlim(0,25)\n",
    "plt.ylim(0.97,1.03)\n",
    "plt.xlabel('Energy (MeV)')\n",
    "plt.ylabel('Output Ratio (NPL:Host)')\n",
    "plt.legend(loc='lower right', scatterpoints=1)\n",
    "\n",
    "plt.minorticks_on()\n",
    "\n",
    "#plt.savefig('NPL_Paper_Plots/FinalData/NPL_MeV_NHS-EnergyScatterPlot1.png', bbox_inches='tight', dpi=300)"
   ]
  },
  {
   "cell_type": "markdown",
   "metadata": {},
   "source": [
    "##Is there any different between electron CoPs?\n",
    "1996 vs 2003"
   ]
  },
  {
   "cell_type": "code",
   "execution_count": 39,
   "metadata": {
    "collapsed": false
   },
   "outputs": [
    {
     "data": {
      "text/html": [
       "<div style=\"max-height:1000px;max-width:1500px;overflow:auto;\">\n",
       "<table border=\"1\" class=\"dataframe\">\n",
       "  <thead>\n",
       "    <tr style=\"text-align: right;\">\n",
       "      <th></th>\n",
       "      <th>Centre_ID</th>\n",
       "      <th>Group</th>\n",
       "      <th>Energy</th>\n",
       "      <th>CoP</th>\n",
       "      <th>BeamQualRatio</th>\n",
       "      <th>BeamQualError</th>\n",
       "      <th>OPRatio</th>\n",
       "      <th>OPError</th>\n",
       "      <th>IntercompRatio</th>\n",
       "      <th>IntercompError</th>\n",
       "      <th>SD_Prev20</th>\n",
       "    </tr>\n",
       "  </thead>\n",
       "  <tbody>\n",
       "    <tr>\n",
       "      <th>count</th>\n",
       "      <td> 14.000000</td>\n",
       "      <td> 14.000000</td>\n",
       "      <td> 14.000000</td>\n",
       "      <td>   14</td>\n",
       "      <td>  0</td>\n",
       "      <td>  0</td>\n",
       "      <td> 14.000000</td>\n",
       "      <td> 14.000000</td>\n",
       "      <td>  0</td>\n",
       "      <td>  0</td>\n",
       "      <td>  0</td>\n",
       "    </tr>\n",
       "    <tr>\n",
       "      <th>mean</th>\n",
       "      <td> 22.142857</td>\n",
       "      <td>  6.000000</td>\n",
       "      <td>  9.000000</td>\n",
       "      <td> 1996</td>\n",
       "      <td>NaN</td>\n",
       "      <td>NaN</td>\n",
       "      <td>  1.007529</td>\n",
       "      <td>  0.457143</td>\n",
       "      <td>NaN</td>\n",
       "      <td>NaN</td>\n",
       "      <td>NaN</td>\n",
       "    </tr>\n",
       "    <tr>\n",
       "      <th>std</th>\n",
       "      <td> 11.966988</td>\n",
       "      <td>  1.921538</td>\n",
       "      <td>  3.721042</td>\n",
       "      <td>    0</td>\n",
       "      <td>NaN</td>\n",
       "      <td>NaN</td>\n",
       "      <td>  0.004227</td>\n",
       "      <td>  0.108941</td>\n",
       "      <td>NaN</td>\n",
       "      <td>NaN</td>\n",
       "      <td>NaN</td>\n",
       "    </tr>\n",
       "    <tr>\n",
       "      <th>min</th>\n",
       "      <td>  9.000000</td>\n",
       "      <td>  2.000000</td>\n",
       "      <td>  4.000000</td>\n",
       "      <td> 1996</td>\n",
       "      <td>NaN</td>\n",
       "      <td>NaN</td>\n",
       "      <td>  1.001000</td>\n",
       "      <td>  0.200000</td>\n",
       "      <td>NaN</td>\n",
       "      <td>NaN</td>\n",
       "      <td>NaN</td>\n",
       "    </tr>\n",
       "    <tr>\n",
       "      <th>25%</th>\n",
       "      <td> 13.500000</td>\n",
       "      <td>  5.250000</td>\n",
       "      <td>  6.000000</td>\n",
       "      <td> 1996</td>\n",
       "      <td>NaN</td>\n",
       "      <td>NaN</td>\n",
       "      <td>  1.004000</td>\n",
       "      <td>  0.500000</td>\n",
       "      <td>NaN</td>\n",
       "      <td>NaN</td>\n",
       "      <td>NaN</td>\n",
       "    </tr>\n",
       "    <tr>\n",
       "      <th>50%</th>\n",
       "      <td> 19.000000</td>\n",
       "      <td>  7.000000</td>\n",
       "      <td>  9.000000</td>\n",
       "      <td> 1996</td>\n",
       "      <td>NaN</td>\n",
       "      <td>NaN</td>\n",
       "      <td>  1.008000</td>\n",
       "      <td>  0.500000</td>\n",
       "      <td>NaN</td>\n",
       "      <td>NaN</td>\n",
       "      <td>NaN</td>\n",
       "    </tr>\n",
       "    <tr>\n",
       "      <th>75%</th>\n",
       "      <td> 30.250000</td>\n",
       "      <td>  7.000000</td>\n",
       "      <td> 11.500000</td>\n",
       "      <td> 1996</td>\n",
       "      <td>NaN</td>\n",
       "      <td>NaN</td>\n",
       "      <td>  1.010000</td>\n",
       "      <td>  0.500000</td>\n",
       "      <td>NaN</td>\n",
       "      <td>NaN</td>\n",
       "      <td>NaN</td>\n",
       "    </tr>\n",
       "    <tr>\n",
       "      <th>max</th>\n",
       "      <td> 44.000000</td>\n",
       "      <td>  8.000000</td>\n",
       "      <td> 18.000000</td>\n",
       "      <td> 1996</td>\n",
       "      <td>NaN</td>\n",
       "      <td>NaN</td>\n",
       "      <td>  1.016500</td>\n",
       "      <td>  0.500000</td>\n",
       "      <td>NaN</td>\n",
       "      <td>NaN</td>\n",
       "      <td>NaN</td>\n",
       "    </tr>\n",
       "  </tbody>\n",
       "</table>\n",
       "</div>"
      ],
      "text/plain": [
       "       Centre_ID      Group     Energy   CoP  BeamQualRatio  BeamQualError  \\\n",
       "count  14.000000  14.000000  14.000000    14              0              0   \n",
       "mean   22.142857   6.000000   9.000000  1996            NaN            NaN   \n",
       "std    11.966988   1.921538   3.721042     0            NaN            NaN   \n",
       "min     9.000000   2.000000   4.000000  1996            NaN            NaN   \n",
       "25%    13.500000   5.250000   6.000000  1996            NaN            NaN   \n",
       "50%    19.000000   7.000000   9.000000  1996            NaN            NaN   \n",
       "75%    30.250000   7.000000  11.500000  1996            NaN            NaN   \n",
       "max    44.000000   8.000000  18.000000  1996            NaN            NaN   \n",
       "\n",
       "         OPRatio    OPError  IntercompRatio  IntercompError  SD_Prev20  \n",
       "count  14.000000  14.000000               0               0          0  \n",
       "mean    1.007529   0.457143             NaN             NaN        NaN  \n",
       "std     0.004227   0.108941             NaN             NaN        NaN  \n",
       "min     1.001000   0.200000             NaN             NaN        NaN  \n",
       "25%     1.004000   0.500000             NaN             NaN        NaN  \n",
       "50%     1.008000   0.500000             NaN             NaN        NaN  \n",
       "75%     1.010000   0.500000             NaN             NaN        NaN  \n",
       "max     1.016500   0.500000             NaN             NaN        NaN  "
      ]
     },
     "execution_count": 39,
     "metadata": {},
     "output_type": "execute_result"
    }
   ],
   "source": [
    "e1996 = e.loc[e['CoP']==1996]\n",
    "e2003 = e.loc[e['CoP']==2003]\n",
    "\n",
    "e1996.describe()\n"
   ]
  },
  {
   "cell_type": "code",
   "execution_count": 90,
   "metadata": {
    "collapsed": false
   },
   "outputs": [
    {
     "data": {
      "text/plain": [
       "[<matplotlib.lines.Line2D at 0x118026d0>]"
      ]
     },
     "execution_count": 90,
     "metadata": {},
     "output_type": "execute_result"
    },
    {
     "data": {
      "image/png": "[encoded data removed]",
      "text/plain": [
       "<matplotlib.figure.Figure at 0x11d8d690>"
      ]
     },
     "metadata": {},
     "output_type": "display_data"
    }
   ],
   "source": [
    "plt.plot(e1996['OPRatio'])\n",
    "\n",
    "plt.plot(e2003['OPRatio'])"
   ]
  },
  {
   "cell_type": "code",
   "execution_count": 92,
   "metadata": {
    "collapsed": false
   },
   "outputs": [
    {
     "data": {
      "text/plain": [
       "<matplotlib.axes._subplots.AxesSubplot at 0x8d5dab0>"
      ]
     },
     "execution_count": 92,
     "metadata": {},
     "output_type": "execute_result"
    },
    {
     "data": {
      "image/png": "[encoded data removed]",
      "text/plain": [
       "<matplotlib.figure.Figure at 0xf11c550>"
      ]
     },
     "metadata": {},
     "output_type": "display_data"
    }
   ],
   "source": [
    "#d = e1996\n",
    "d = e2003\n",
    "\n",
    "d['OPRatio'].hist(normed=False, bins=11, range=(0.965,1.035), rwidth=0.8)"
   ]
  },
  {
   "cell_type": "code",
   "execution_count": 93,
   "metadata": {
    "collapsed": false
   },
   "outputs": [
    {
     "name": "stdout",
     "output_type": "stream",
     "text": [
      "1996 SD: 0.00422746124417\n",
      "2003 SD: 0.00748799000147\n"
     ]
    }
   ],
   "source": [
    "print('1996 SD: ' + str(e1996['OPRatio'].std()))\n",
    "print('2003 SD: ' + str(e2003['OPRatio'].std()))"
   ]
  },
  {
   "cell_type": "markdown",
   "metadata": {},
   "source": [
    "###1996 summary"
   ]
  },
  {
   "cell_type": "code",
   "execution_count": 94,
   "metadata": {
    "collapsed": false
   },
   "outputs": [
    {
     "data": {
      "text/plain": [
       "count    14.000000\n",
       "mean      1.007529\n",
       "std       0.004227\n",
       "min       1.001000\n",
       "25%       1.004000\n",
       "50%       1.008000\n",
       "75%       1.010000\n",
       "max       1.016500\n",
       "Name: OPRatio, dtype: float64"
      ]
     },
     "execution_count": 94,
     "metadata": {},
     "output_type": "execute_result"
    }
   ],
   "source": [
    "e1996['OPRatio'].describe()"
   ]
  },
  {
   "cell_type": "markdown",
   "metadata": {},
   "source": [
    "###2003 summary"
   ]
  },
  {
   "cell_type": "code",
   "execution_count": 95,
   "metadata": {
    "collapsed": false
   },
   "outputs": [
    {
     "data": {
      "text/plain": [
       "count    81.000000\n",
       "mean      1.001136\n",
       "std       0.006249\n",
       "min       0.985000\n",
       "25%       0.997000\n",
       "50%       1.001000\n",
       "75%       1.006000\n",
       "max       1.015000\n",
       "Name: OPRatio, dtype: float64"
      ]
     },
     "execution_count": 95,
     "metadata": {},
     "output_type": "execute_result"
    }
   ],
   "source": [
    "e2003['OPRatio'].describe()\n",
    "\n",
    "e2003_remove_oot = e2003.loc[e2003['OPRatio']<=1.02]\n",
    "e2003_remove_oot['OPRatio'].describe()"
   ]
  },
  {
   "cell_type": "markdown",
   "metadata": {},
   "source": [
    "### SEM for each CoP"
   ]
  },
  {
   "cell_type": "code",
   "execution_count": 96,
   "metadata": {
    "collapsed": false
   },
   "outputs": [
    {
     "name": "stdout",
     "output_type": "stream",
     "text": [
      "1996:  0.00112983654225\n",
      "2003:  0.000817006690115\n",
      "2003 no oot:  0.000694278443807\n"
     ]
    }
   ],
   "source": [
    "e1996sem = e1996['OPRatio'].sem()\n",
    "e2003sem = e2003['OPRatio'].sem()\n",
    "e2003_remove_oot_sem = e2003_remove_oot['OPRatio'].sem()\n",
    "print('1996: ', e1996sem)\n",
    "print('2003: ', e2003sem)\n",
    "print('2003 no oot: ', e2003_remove_oot_sem)"
   ]
  },
  {
   "cell_type": "markdown",
   "metadata": {},
   "source": [
    "##t test to see if 1996 and 2003 are different"
   ]
  },
  {
   "cell_type": "code",
   "execution_count": 97,
   "metadata": {
    "collapsed": false
   },
   "outputs": [
    {
     "data": {
      "text/plain": [
       "(3.6768416345307866, 0.00039503081031178473)"
      ]
     },
     "execution_count": 97,
     "metadata": {},
     "output_type": "execute_result"
    }
   ],
   "source": [
    "from scipy.stats import ttest_ind\n",
    "ttest_ind(e1996['OPRatio'], e2003_remove_oot['OPRatio'])\n",
    "#ttest_ind(e1996['OPRatio'], e2003['OPRatio'])\n"
   ]
  },
  {
   "cell_type": "markdown",
   "metadata": {},
   "source": [
    "This indicates that there **is** a difference between the two CoPs"
   ]
  },
  {
   "cell_type": "markdown",
   "metadata": {},
   "source": [
    "##Welch's t-test also shows they are different\n",
    "###This does not assume equal variance and sample size which is what we have"
   ]
  },
  {
   "cell_type": "code",
   "execution_count": 98,
   "metadata": {
    "collapsed": false
   },
   "outputs": [
    {
     "data": {
      "text/plain": [
       "(4.8207127826252343, 6.4766640783476447e-05)"
      ]
     },
     "execution_count": 98,
     "metadata": {},
     "output_type": "execute_result"
    }
   ],
   "source": [
    "ttest_ind(e1996['OPRatio'], e2003_remove_oot['OPRatio'], equal_var=False)\n",
    "#(t stat, p-val)"
   ]
  },
  {
   "cell_type": "markdown",
   "metadata": {},
   "source": [
    "###Wilcoxon test shows the same."
   ]
  },
  {
   "cell_type": "code",
   "execution_count": 99,
   "metadata": {
    "collapsed": false
   },
   "outputs": [
    {
     "data": {
      "text/plain": [
       "(3.454175322778771, 0.00055197840807457582)"
      ]
     },
     "execution_count": 99,
     "metadata": {},
     "output_type": "execute_result"
    }
   ],
   "source": [
    "from scipy.stats import ranksums\n",
    "ranksums(e1996['OPRatio'], e2003_remove_oot['OPRatio'])"
   ]
  },
  {
   "cell_type": "code",
   "execution_count": 208,
   "metadata": {
    "collapsed": false
   },
   "outputs": [
    {
     "data": {
      "image/png": "[encoded data removed]",
      "text/plain": [
       "<matplotlib.figure.Figure at 0x17a60c50>"
      ]
     },
     "metadata": {},
     "output_type": "display_data"
    }
   ],
   "source": [
    "##plot of both 1996 and 2003 on same axes\n",
    "##also do a gaussian plot of each from SD etc?\n",
    "\n",
    "mean1996 = e1996['OPRatio'].mean()\n",
    "sd1996 = e1996['OPRatio'].std()\n",
    "mean2003 = e2003['OPRatio'].mean()\n",
    "sd2003 = e2003['OPRatio'].std()\n",
    "\n",
    "x = np.linspace(0.9725, 1.0375, 100) # add normal distibution fit\n",
    "#plt.plot(x, 1*mlab.normpdf(x,mean1996,sd1996), linewidth = 2, color='red', label = '1996')\n",
    "#plt.plot(x, 1*mlab.normpdf(x,mean2003,sd2003), linewidth = 2, color='blue', label = '2003')\n",
    "plt.xlim(0.97, 1.03)\n",
    "nbins=12\n",
    "plt.hist(e1996['OPRatio'].values, color='black', alpha=0.5, bins = nbins, range = (0.97,1.03), label = '1996 CoP', normed = False)\n",
    "plt.hist(e2003['OPRatio'].values, color='grey', alpha=0.5, bins = nbins, range = (0.97,1.03), label = '2003 CoP', normed = False)\n",
    "l = plt.legend(loc='best')\n",
    "plt.xlabel(\"Output Ratio (NPL:Host)\")\n",
    "plt.ylabel(\"No. Results\")\n",
    "plt.title(\"MeV\")\n",
    "plt.grid(True, which='major')\n",
    "\n",
    "#set background colour for legend to white\n",
    "frame = l.get_frame()\n",
    "frame.set_facecolor('white')\n",
    "\n",
    "plt.savefig('NPL_Paper_Plots/FinalData/NPL_MeV_1996vs2003_NHS-grey.png', bbox_inches='tight', dpi=300)\n"
   ]
  },
  {
   "cell_type": "markdown",
   "metadata": {
    "collapsed": true
   },
   "source": [
    "### Plot of kV and MV results to match this format"
   ]
  },
  {
   "cell_type": "code",
   "execution_count": 132,
   "metadata": {
    "collapsed": false
   },
   "outputs": [
    {
     "data": {
      "image/png": "[encoded data removed]",
      "text/plain": [
       "<matplotlib.figure.Figure at 0x11da0db0>"
      ]
     },
     "metadata": {},
     "output_type": "display_data"
    }
   ],
   "source": [
    "##plot of output ratio results\n",
    "##also do a gaussian plot of each from SD etc? - NO\n",
    "\n",
    "d = m\n",
    "\n",
    "x = np.linspace(0.9725, 1.0375, 100) # add normal distibution fit\n",
    "#plt.plot(x, 1*mlab.normpdf(x,mean1996,sd1996), linewidth = 2, color='red', label = '1996')\n",
    "#plt.plot(x, 1*mlab.normpdf(x,mean2003,sd2003), linewidth = 2, color='blue', label = '2003')\n",
    "plt.xlim(0.97, 1.03)\n",
    "#plt.ylim(0,12)\n",
    "nbins=12\n",
    "plt.hist(d['OPRatio'].values, color='black', alpha=0.5, bins = nbins, range = (0.97,1.03), normed = False)\n",
    "\n",
    "#l = plt.legend(loc='best')\n",
    "plt.xlabel(\"Output Ratio (NPL:Host)\")\n",
    "plt.ylabel(\"No. Results\")\n",
    "plt.title(\"MV\")\n",
    "plt.grid(True, which='major')\n",
    "\n",
    "#set background colour for legend to white\n",
    "#frame = l.get_frame()\n",
    "#frame.set_facecolor('white')\n",
    "\n",
    "#plt.savefig('NPL_Paper_Plots/FinalData/NPL_MV_NHS-grey.png', bbox_inches='tight', dpi=300)"
   ]
  },
  {
   "cell_type": "code",
   "execution_count": null,
   "metadata": {
    "collapsed": true
   },
   "outputs": [],
   "source": []
  }
 ],
 "metadata": {
  "kernelspec": {
   "display_name": "Python 3",
   "language": "python",
   "name": "python3"
  },
  "language_info": {
   "codemirror_mode": {
    "name": "ipython",
    "version": 3
   },
   "file_extension": ".py",
   "mimetype": "text/x-python",
   "name": "python",
   "nbconvert_exporter": "python",
   "pygments_lexer": "ipython3",
   "version": "3.4.4"
  }
 },
 "nbformat": 4,
 "nbformat_minor": 0
}
